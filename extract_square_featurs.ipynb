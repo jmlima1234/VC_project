{
 "cells": [
  {
   "cell_type": "code",
   "execution_count": 1,
   "metadata": {},
   "outputs": [],
   "source": [
    "import os\n",
    "import cv2\n",
    "import numpy as np\n",
    "import pandas as pd\n",
    "from tqdm import tqdm"
   ]
  },
  {
   "cell_type": "code",
   "execution_count": 2,
   "metadata": {},
   "outputs": [
    {
     "name": "stderr",
     "output_type": "stream",
     "text": [
      "Processing label 0: 100%|██████████| 2508/2508 [00:01<00:00, 1468.09it/s]\n",
      "Processing label 1: 100%|██████████| 692/692 [00:00<00:00, 1440.71it/s]\n"
     ]
    },
    {
     "name": "stdout",
     "output_type": "stream",
     "text": [
      "✅ Features saved to square_features.csv\n"
     ]
    }
   ],
   "source": [
    "def extract_features(image):\n",
    "    h, w, _ = image.shape\n",
    "\n",
    "    # Grayscale version for variance and edge detection\n",
    "    gray = cv2.cvtColor(image, cv2.COLOR_BGR2GRAY)\n",
    "\n",
    "    # Center region\n",
    "    center = image[h//4:3*h//4, w//4:3*w//4]\n",
    "    avg_center_color = np.mean(center)\n",
    "\n",
    "    # Full square stats\n",
    "    avg_square_color = np.mean(image)\n",
    "    color_contrast_center = abs(avg_center_color - avg_square_color)\n",
    "    color_variance = np.var(image)\n",
    "\n",
    "    # Top vs bottom\n",
    "    top_half = image[:h//2, :]\n",
    "    bottom_half = image[h//2:, :]\n",
    "    mean_top = np.mean(top_half)\n",
    "    mean_bottom = np.mean(bottom_half)\n",
    "    contrast_top_bottom = abs(mean_top - mean_bottom)\n",
    "\n",
    "    # Edge strength using Sobel\n",
    "    sobel = cv2.Sobel(gray, cv2.CV_64F, 1, 1, ksize=3)\n",
    "    edge_strength = np.mean(np.abs(sobel))\n",
    "\n",
    "    return [\n",
    "        avg_center_color,\n",
    "        avg_square_color,\n",
    "        color_contrast_center,\n",
    "        color_variance,\n",
    "        mean_top,\n",
    "        mean_bottom,\n",
    "        contrast_top_bottom,\n",
    "        edge_strength\n",
    "    ]\n",
    "\n",
    "# Directories\n",
    "base_dir = \"labeled_squares\"\n",
    "classes = [\"0\", \"1\"]  # 0: no piece, 1: piece\n",
    "data = []\n",
    "\n",
    "for label in classes:\n",
    "    path = os.path.join(base_dir, label)\n",
    "    for fname in tqdm(os.listdir(path), desc=f\"Processing label {label}\"):\n",
    "        if not fname.lower().endswith((\".png\", \".jpg\", \".jpeg\")):\n",
    "            continue\n",
    "        fpath = os.path.join(path, fname)\n",
    "        image = cv2.imread(fpath)\n",
    "        if image is None:\n",
    "            continue\n",
    "        features = extract_features(image)\n",
    "        data.append(features + [int(label)])\n",
    "\n",
    "# Convert to DataFrame\n",
    "columns = [\n",
    "    \"avg_center_color\", \"avg_square_color\", \"color_contrast_center\", \n",
    "    \"color_variance\", \"mean_top\", \"mean_bottom\", \n",
    "    \"contrast_top_bottom\", \"edge_strength\", \"label\"\n",
    "]\n",
    "\n",
    "df = pd.DataFrame(data, columns=columns)\n",
    "\n",
    "# Save to CSV or use directly\n",
    "df.to_csv(\"square_features.csv\", index=False)\n",
    "print(\"✅ Features saved to square_features.csv\")\n"
   ]
  },
  {
   "cell_type": "code",
   "execution_count": 3,
   "metadata": {},
   "outputs": [
    {
     "name": "stdout",
     "output_type": "stream",
     "text": [
      "Fitting 3 folds for each of 20 candidates, totalling 60 fits\n"
     ]
    },
    {
     "name": "stderr",
     "output_type": "stream",
     "text": [
      "C:\\Users\\Cristiano\\AppData\\Local\\Packages\\PythonSoftwareFoundation.Python.3.11_qbz5n2kfra8p0\\LocalCache\\local-packages\\Python311\\site-packages\\xgboost\\core.py:158: UserWarning: [12:30:32] WARNING: C:\\buildkite-agent\\builds\\buildkite-windows-cpu-autoscaling-group-i-08cbc0333d8d4aae1-1\\xgboost\\xgboost-ci-windows\\src\\learner.cc:740: \n",
      "Parameters: { \"use_label_encoder\" } are not used.\n",
      "\n",
      "  warnings.warn(smsg, UserWarning)\n"
     ]
    },
    {
     "name": "stdout",
     "output_type": "stream",
     "text": [
      "\n",
      "Best Hyperparameters: {'subsample': 0.9, 'n_estimators': 400, 'min_child_weight': 1, 'max_depth': 5, 'learning_rate': 0.1, 'gamma': 0, 'colsample_bytree': 1.0}\n",
      "\n",
      "Best Cross-Validation Accuracy: 0.9753140581654538\n",
      "\n",
      "📊 Classification Report:\n",
      "              precision    recall  f1-score   support\n",
      "\n",
      "           0       1.00      1.00      1.00      2508\n",
      "           1       1.00      1.00      1.00       692\n",
      "\n",
      "    accuracy                           1.00      3200\n",
      "   macro avg       1.00      1.00      1.00      3200\n",
      "weighted avg       1.00      1.00      1.00      3200\n",
      "\n"
     ]
    },
    {
     "data": {
      "image/png": "[encoded data removed]",
      "text/plain": [
       "<Figure size 640x480 with 2 Axes>"
      ]
     },
     "metadata": {},
     "output_type": "display_data"
    }
   ],
   "source": [
    "import pandas as pd\n",
    "import xgboost as xgb\n",
    "from sklearn.model_selection import RandomizedSearchCV, StratifiedKFold\n",
    "from sklearn.metrics import classification_report, confusion_matrix\n",
    "import matplotlib.pyplot as plt\n",
    "import seaborn as sns\n",
    "import numpy as np\n",
    "\n",
    "# Load features\n",
    "df = pd.read_csv(\"square_features.csv\")\n",
    "\n",
    "# Split features and label\n",
    "X = df.drop(\"label\", axis=1)\n",
    "y = df[\"label\"]\n",
    "\n",
    "# Model setup\n",
    "model = xgb.XGBClassifier(\n",
    "    objective=\"binary:logistic\",\n",
    "    eval_metric=\"logloss\",\n",
    "    use_label_encoder=False\n",
    ")\n",
    "\n",
    "# Smaller hyperparameter grid for faster search\n",
    "param_dist = {\n",
    "    'n_estimators': [100, 200, 300, 400, 500],  # Reduced range\n",
    "    'max_depth': [3, 4, 5, 6],  # Reduced depth\n",
    "    'learning_rate': [0.01, 0.05, 0.1, 0.2],  # Reduced range\n",
    "    'subsample': [0.7, 0.8, 0.9],  # Narrowed range\n",
    "    'colsample_bytree': [0.7, 0.8, 1.0],  # Narrowed range\n",
    "    'gamma': [0, 0.1],  # Reduced gamma values\n",
    "    'min_child_weight': [1, 3]  # Limited choices\n",
    "}\n",
    "\n",
    "# Cross-validation setup (3-fold to reduce time)\n",
    "cv = StratifiedKFold(n_splits=3, shuffle=True)\n",
    "\n",
    "# RandomizedSearchCV for hyperparameter optimization with fewer iterations\n",
    "random_search = RandomizedSearchCV(estimator=model, param_distributions=param_dist, \n",
    "                                   n_iter=20, cv=cv, scoring='accuracy', n_jobs=-1, verbose=1)\n",
    "random_search.fit(X, y)\n",
    "\n",
    "# Get the best parameters and best score\n",
    "print(\"\\nBest Hyperparameters:\", random_search.best_params_)\n",
    "print(\"\\nBest Cross-Validation Accuracy:\", random_search.best_score_)\n",
    "\n",
    "# Get the best model\n",
    "best_model = random_search.best_estimator_\n",
    "\n",
    "# Evaluate the best model\n",
    "y_pred = best_model.predict(X)\n",
    "print(\"\\n📊 Classification Report:\")\n",
    "print(classification_report(y, y_pred))\n",
    "\n",
    "# Confusion matrix\n",
    "conf_matrix = confusion_matrix(y, y_pred)\n",
    "sns.heatmap(conf_matrix, annot=True, fmt=\"d\", cmap=\"Blues\", xticklabels=[\"No Piece\", \"Piece\"], yticklabels=[\"No Piece\", \"Piece\"])\n",
    "plt.xlabel(\"Predicted\")\n",
    "plt.ylabel(\"True\")\n",
    "plt.title(\"Confusion Matrix\")\n",
    "plt.show()\n"
   ]
  },
  {
   "cell_type": "code",
   "execution_count": 5,
   "metadata": {},
   "outputs": [],
   "source": [
    "best_model.save_model(\"xgb_piece_detector.json\")"
   ]
  },
  {
   "cell_type": "code",
   "execution_count": null,
   "metadata": {},
   "outputs": [],
   "source": []
  }
 ],
 "metadata": {
  "kernelspec": {
   "display_name": "Python 3",
   "language": "python",
   "name": "python3"
  },
  "language_info": {
   "codemirror_mode": {
    "name": "ipython",
    "version": 3
   },
   "file_extension": ".py",
   "mimetype": "text/x-python",
   "name": "python",
   "nbconvert_exporter": "python",
   "pygments_lexer": "ipython3",
   "version": "3.11.9"
  }
 },
 "nbformat": 4,
 "nbformat_minor": 2
}
