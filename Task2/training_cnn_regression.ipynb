{
 "cells": [
  {
   "cell_type": "code",
   "execution_count": 1,
   "metadata": {},
   "outputs": [],
   "source": [
    "import torch\n",
    "from torch.utils.data import DataLoader, Dataset\n",
    "import torch.nn as nn\n",
    "import torch.optim as optim\n",
    "from torchvision import datasets, transforms, models\n",
    "import torchvision.transforms as T\n",
    "from tqdm import tqdm\n",
    "from PIL import Image\n",
    "import pandas as pd\n",
    "import json\n",
    "from pathlib import Path"
   ]
  },
  {
   "cell_type": "code",
   "execution_count": 2,
   "metadata": {},
   "outputs": [],
   "source": [
    "import os\n",
    "N_WORKERS = os.cpu_count()"
   ]
  },
  {
   "cell_type": "code",
   "execution_count": 3,
   "metadata": {},
   "outputs": [
    {
     "name": "stderr",
     "output_type": "stream",
     "text": [
      "\u001b[1;38;5;214mCOMET WARNING:\u001b[0m To get all data logged automatically, import comet_ml before the following modules: torch.\n",
      "\u001b[1;38;5;214mCOMET WARNING:\u001b[0m As you are running in a Jupyter environment, you will need to call `experiment.end()` when finished to ensure all metrics and code are logged before exiting.\n",
      "\u001b[1;38;5;39mCOMET INFO:\u001b[0m Experiment is live on comet.com https://www.comet.com/cristy17001/resnet50-piece-counter/0f410ce87539493f8f5d709e89368236\n",
      "\n"
     ]
    }
   ],
   "source": [
    "from comet_ml import Experiment\n",
    "\n",
    "N_EPOCHS = 100\n",
    "\n",
    "# Create an instance of the Experiment class\n",
    "experiment = Experiment(\n",
    "    project_name=\"ResNet50 Piece Counter\",  # Replace with your project name\n",
    "    workspace=\"cristy17001\"  # Replace with your workspace name\n",
    ")\n",
    "\n",
    "experiment.set_name(\"ResNet50 Count Regressor\")\n",
    "experiment.log_parameters({\n",
    "    \"model\": \"resnet50\",\n",
    "    \"optimizer\": \"AdamW\",\n",
    "    \"lr\": 1e-4,\n",
    "    \"weight_decay\": 1e-4,\n",
    "    \"loss_function\": \"MSELoss\",\n",
    "    \"scheduler\": \"ReduceLROnPlateau\",\n",
    "    \"pretrained\": True,\n",
    "    \"patience\": 2,\n",
    "    \"batch_size\": 64,\n",
    "    \"epochs\": N_EPOCHS,\n",
    "})"
   ]
  },
  {
   "cell_type": "code",
   "execution_count": 4,
   "metadata": {},
   "outputs": [],
   "source": [
    "# def save_preprocessed_dataset(image_dir, training_inputs_dir, output_file, transform):\n",
    "#     image_dir = Path(image_dir)\n",
    "#     image_files = sorted([f for f in image_dir.iterdir() if f.is_file()])\n",
    "#     data = []\n",
    "#     print(f\"Preprocessing and saving {len(image_files)} samples...\")\n",
    "\n",
    "#     for idx, image_path in enumerate(image_files):\n",
    "#         base_name = image_path.name.split('_warped')[0]\n",
    "#         json_path = Path(training_inputs_dir) / f\"{base_name}.json\"\n",
    "#         if not json_path.exists():\n",
    "#             continue\n",
    "#         with open(json_path) as f:\n",
    "#             count = json.load(f)[\"piece_count\"]\n",
    "#         img = Image.open(image_path).convert(\"RGB\")\n",
    "#         img_tensor = transform(img)\n",
    "#         data.append((img_tensor, torch.tensor(count, dtype=torch.float32)))\n",
    "#         if (idx + 1) % 100 == 0:\n",
    "#             print(f\"Processed {idx + 1}/{len(image_files)}\")\n",
    "\n",
    "#     torch.save(data, output_file)\n",
    "#     print(f\"Saved preprocessed dataset to {output_file}\")"
   ]
  },
  {
   "cell_type": "code",
   "execution_count": 5,
   "metadata": {},
   "outputs": [],
   "source": [
    "# save_preprocessed_dataset(\"split_count/train\", \"../Shared/training_inputs/matrices\", \"train_data.pt\",transform=transform)\n",
    "# save_preprocessed_dataset(\"split_count/test\", \"../Shared/training_inputs/matrices\", \"test_data.pt\",transform=transform)\n",
    "# save_preprocessed_dataset(\"split_count/val\", \"../Shared/training_inputs/matrices\", \"val_data.pt\",transform=transform)"
   ]
  },
  {
   "cell_type": "code",
   "execution_count": 6,
   "metadata": {},
   "outputs": [],
   "source": [
    "transform = transforms.Compose([\n",
    "    transforms.ToTensor(),\n",
    "    transforms.Normalize(mean=[0.485, 0.456, 0.406],\n",
    "                         std=[0.229, 0.224, 0.225])\n",
    "])"
   ]
  },
  {
   "cell_type": "code",
   "execution_count": 7,
   "metadata": {},
   "outputs": [],
   "source": [
    "class PreloadedDataset(Dataset):\n",
    "    def __init__(self, tensor_file):\n",
    "        self.data = torch.load(tensor_file)  # list of (img_tensor, label)\n",
    "\n",
    "    def __len__(self):\n",
    "        return len(self.data)\n",
    "\n",
    "    def __getitem__(self, idx):\n",
    "        return self.data[idx]"
   ]
  },
  {
   "cell_type": "code",
   "execution_count": 8,
   "metadata": {},
   "outputs": [
    {
     "name": "stderr",
     "output_type": "stream",
     "text": [
      "C:\\Users\\Cristiano\\AppData\\Local\\Temp\\ipykernel_1904\\2539352035.py:3: FutureWarning: You are using `torch.load` with `weights_only=False` (the current default value), which uses the default pickle module implicitly. It is possible to construct malicious pickle data which will execute arbitrary code during unpickling (See https://github.com/pytorch/pytorch/blob/main/SECURITY.md#untrusted-models for more details). In a future release, the default value for `weights_only` will be flipped to `True`. This limits the functions that could be executed during unpickling. Arbitrary objects will no longer be allowed to be loaded via this mode unless they are explicitly allowlisted by the user via `torch.serialization.add_safe_globals`. We recommend you start setting `weights_only=True` for any use case where you don't have full control of the loaded file. Please open an issue on GitHub for any issues related to this experimental feature.\n",
      "  self.data = torch.load(tensor_file)  # list of (img_tensor, label)\n"
     ]
    }
   ],
   "source": [
    "train_dataset = PreloadedDataset(\"./split_count/train/train_data.pt\")\n",
    "test_dataset = PreloadedDataset(\"./split_count/test/test_data.pt\")\n",
    "val_dataset = PreloadedDataset(\"./split_count/val/val_data.pt\")\n",
    "\n",
    "train_loader = DataLoader(train_dataset, batch_size=64, shuffle=True, num_workers=0)\n",
    "test_loader = DataLoader(test_dataset, batch_size=64, shuffle=False, num_workers=0)\n",
    "validation_loader = DataLoader(val_dataset, batch_size=64, shuffle=False, num_workers=0)"
   ]
  },
  {
   "cell_type": "markdown",
   "metadata": {},
   "source": [
    "### Training Model"
   ]
  },
  {
   "cell_type": "code",
   "execution_count": 9,
   "metadata": {},
   "outputs": [
    {
     "name": "stderr",
     "output_type": "stream",
     "text": [
      "C:\\Users\\Cristiano\\AppData\\Roaming\\Python\\Python312\\site-packages\\torchvision\\models\\_utils.py:223: UserWarning: Arguments other than a weight enum or `None` for 'weights' are deprecated since 0.13 and may be removed in the future. The current behavior is equivalent to passing `weights=ResNet18_Weights.IMAGENET1K_V1`. You can also use `weights=ResNet18_Weights.DEFAULT` to get the most up-to-date weights.\n",
      "  warnings.warn(msg)\n"
     ]
    }
   ],
   "source": [
    "# Define the Model\n",
    "device = torch.device('cuda' if torch.cuda.is_available() else 'cpu')\n",
    "\n",
    "model = models.resnet18(weights=True)\n",
    "num_features = model.fc.in_features\n",
    "model.fc = nn.Linear(num_features, 1)\n",
    "model = model.to(device)"
   ]
  },
  {
   "cell_type": "code",
   "execution_count": 10,
   "metadata": {},
   "outputs": [
    {
     "name": "stderr",
     "output_type": "stream",
     "text": [
      "C:\\Users\\Cristiano\\AppData\\Roaming\\Python\\Python312\\site-packages\\torch\\optim\\lr_scheduler.py:62: UserWarning: The verbose parameter is deprecated. Please use get_last_lr() to access the learning rate.\n",
      "  warnings.warn(\n"
     ]
    }
   ],
   "source": [
    "criterion = nn.MSELoss()\n",
    "optimizer = optim.AdamW(model.parameters(), lr=1e-4, weight_decay=1e-4)\n",
    "scheduler = optim.lr_scheduler.ReduceLROnPlateau(optimizer, mode='min', patience=2, factor=0.1, verbose=True)"
   ]
  },
  {
   "cell_type": "code",
   "execution_count": 11,
   "metadata": {},
   "outputs": [],
   "source": [
    "from sklearn.metrics import mean_squared_error, mean_absolute_error, r2_score\n",
    "import numpy as np\n",
    "\n",
    "def evaluate(model, dataloader, criterion):\n",
    "    model.eval()\n",
    "    val_loss = 0.0\n",
    "    all_preds = []\n",
    "    all_labels = []\n",
    "\n",
    "    with torch.no_grad():\n",
    "        for inputs, labels in dataloader:\n",
    "            inputs, labels = inputs.to(device), labels.to(device).float().unsqueeze(1)\n",
    "            outputs = model(inputs)\n",
    "            loss = criterion(outputs, labels)\n",
    "\n",
    "            val_loss += loss.item()\n",
    "            all_preds.extend(outputs.cpu().numpy())\n",
    "            all_labels.extend(labels.cpu().numpy())\n",
    "\n",
    "    avg_val_loss = val_loss / len(dataloader)\n",
    "    rmse = np.sqrt(mean_squared_error(all_labels, all_preds))\n",
    "    mae = mean_absolute_error(all_labels, all_preds)\n",
    "    r2 = r2_score(all_labels, all_preds)\n",
    "\n",
    "    return avg_val_loss, rmse, mae, r2"
   ]
  },
  {
   "cell_type": "code",
   "execution_count": 12,
   "metadata": {},
   "outputs": [],
   "source": [
    "def train_model(model, train_loader, val_loader, optimizer, criterion, scheduler, num_epochs=10, save_best=True):\n",
    "    best_val_rmse = float('inf')\n",
    "    best_model_wts = model.state_dict()\n",
    "\n",
    "    history = {'train_loss': [], 'val_loss': [], 'val_rmse': [], 'val_mae': [], 'val_r2': []}\n",
    "\n",
    "    os.makedirs(\"checkpoints\", exist_ok=True)\n",
    "\n",
    "    for epoch in range(num_epochs):\n",
    "        print(f\"\\nEpoch {epoch + 1}/{num_epochs}\")\n",
    "        model.train()\n",
    "        train_loss = 0.0\n",
    "\n",
    "        for inputs, labels in tqdm(train_loader, desc=\"Training\"):\n",
    "            inputs, labels = inputs.to(device), labels.to(device).float().unsqueeze(1)\n",
    "            optimizer.zero_grad()\n",
    "            outputs = model(inputs)\n",
    "            loss = criterion(outputs, labels)\n",
    "            loss.backward()\n",
    "            optimizer.step()\n",
    "\n",
    "            train_loss += loss.item()\n",
    "\n",
    "        avg_train_loss = train_loss / len(train_loader)\n",
    "        val_loss, rmse, mae, r2 = evaluate(model, val_loader, criterion)\n",
    "\n",
    "        print(f\"Train Loss: {avg_train_loss:.4f}\")\n",
    "        print(f\"Val   Loss: {val_loss:.4f} | RMSE: {rmse:.4f} | MAE: {mae:.4f} | R²: {r2:.4f}\")\n",
    "\n",
    "        experiment.log_metrics({\n",
    "            \"train_loss\": avg_train_loss,\n",
    "            \"val_loss\": val_loss,\n",
    "            \"val_rmse\": rmse,\n",
    "            \"val_mae\": mae,\n",
    "            \"val_r2\": r2,\n",
    "            \"lr\": optimizer.param_groups[0]['lr']\n",
    "        }, epoch=epoch)\n",
    "\n",
    "        history['train_loss'].append(avg_train_loss)\n",
    "        history['val_loss'].append(val_loss)\n",
    "        history['val_rmse'].append(rmse)\n",
    "        history['val_mae'].append(mae)\n",
    "        history['val_r2'].append(r2)\n",
    "\n",
    "        # Save checkpoint\n",
    "        checkpoint_path = f\"checkpoints/epoch_{epoch+1}.pt\"\n",
    "        torch.save(model.state_dict(), checkpoint_path)\n",
    "        experiment.log_model(f\"model_epoch_{epoch+1}\", checkpoint_path)\n",
    "\n",
    "        # Save best model\n",
    "        if rmse < best_val_rmse:\n",
    "            best_val_rmse = rmse\n",
    "            best_model_wts = model.state_dict()\n",
    "            torch.save(best_model_wts, \"best_count_regressor.pt\")\n",
    "            experiment.log_model(\"best_model\", \"best_count_regressor.pt\")\n",
    "\n",
    "        scheduler.step(val_loss)\n",
    "\n",
    "    model.load_state_dict(best_model_wts)\n",
    "    return model, history"
   ]
  },
  {
   "cell_type": "code",
   "execution_count": 13,
   "metadata": {},
   "outputs": [
    {
     "name": "stdout",
     "output_type": "stream",
     "text": [
      "\n",
      "Epoch 1/100\n"
     ]
    },
    {
     "name": "stderr",
     "output_type": "stream",
     "text": [
      "Training: 100%|██████████| 23/23 [00:01<00:00, 15.17it/s]\n"
     ]
    },
    {
     "name": "stdout",
     "output_type": "stream",
     "text": [
      "Train Loss: 450.7802\n",
      "Val   Loss: 930.3798 | RMSE: 28.8190 | MAE: 27.7534 | R²: -9.8889\n",
      "\n",
      "Epoch 2/100\n"
     ]
    },
    {
     "name": "stderr",
     "output_type": "stream",
     "text": [
      "Training: 100%|██████████| 23/23 [00:01<00:00, 17.79it/s]\n"
     ]
    },
    {
     "name": "stdout",
     "output_type": "stream",
     "text": [
      "Train Loss: 324.9240\n",
      "Val   Loss: 366.8459 | RMSE: 18.4810 | MAE: 18.1814 | R²: -3.4779\n",
      "\n",
      "Epoch 3/100\n"
     ]
    },
    {
     "name": "stderr",
     "output_type": "stream",
     "text": [
      "Training: 100%|██████████| 23/23 [00:01<00:00, 17.78it/s]\n"
     ]
    },
    {
     "name": "stdout",
     "output_type": "stream",
     "text": [
      "Train Loss: 262.8641\n",
      "Val   Loss: 227.8133 | RMSE: 14.9130 | MAE: 14.6861 | R²: -1.9158\n",
      "\n",
      "Epoch 4/100\n"
     ]
    },
    {
     "name": "stderr",
     "output_type": "stream",
     "text": [
      "Training: 100%|██████████| 23/23 [00:01<00:00, 17.71it/s]\n"
     ]
    },
    {
     "name": "stdout",
     "output_type": "stream",
     "text": [
      "Train Loss: 222.4186\n",
      "Val   Loss: 164.4044 | RMSE: 12.9271 | MAE: 12.6936 | R²: -1.1909\n",
      "\n",
      "Epoch 5/100\n"
     ]
    },
    {
     "name": "stderr",
     "output_type": "stream",
     "text": [
      "Training: 100%|██████████| 23/23 [00:01<00:00, 17.75it/s]\n"
     ]
    },
    {
     "name": "stdout",
     "output_type": "stream",
     "text": [
      "Train Loss: 190.7174\n",
      "Val   Loss: 129.3988 | RMSE: 11.5618 | MAE: 11.2949 | R²: -0.7526\n",
      "\n",
      "Epoch 6/100\n"
     ]
    },
    {
     "name": "stderr",
     "output_type": "stream",
     "text": [
      "Training: 100%|██████████| 23/23 [00:01<00:00, 17.25it/s]\n"
     ]
    },
    {
     "name": "stdout",
     "output_type": "stream",
     "text": [
      "Train Loss: 164.6877\n",
      "Val   Loss: 105.9807 | RMSE: 10.5469 | MAE: 10.2502 | R²: -0.4584\n",
      "\n",
      "Epoch 7/100\n"
     ]
    },
    {
     "name": "stderr",
     "output_type": "stream",
     "text": [
      "Training: 100%|██████████| 23/23 [00:01<00:00, 16.72it/s]\n"
     ]
    },
    {
     "name": "stdout",
     "output_type": "stream",
     "text": [
      "Train Loss: 142.0324\n",
      "Val   Loss: 102.0736 | RMSE: 10.3004 | MAE: 10.0161 | R²: -0.3910\n",
      "\n",
      "Epoch 8/100\n"
     ]
    },
    {
     "name": "stderr",
     "output_type": "stream",
     "text": [
      "Training: 100%|██████████| 23/23 [00:01<00:00, 17.09it/s]\n"
     ]
    },
    {
     "name": "stdout",
     "output_type": "stream",
     "text": [
      "Train Loss: 120.4729\n",
      "Val   Loss: 79.3544 | RMSE: 9.1854 | MAE: 8.8225 | R²: -0.1062\n",
      "\n",
      "Epoch 9/100\n"
     ]
    },
    {
     "name": "stderr",
     "output_type": "stream",
     "text": [
      "Training: 100%|██████████| 23/23 [00:01<00:00, 16.71it/s]\n"
     ]
    },
    {
     "name": "stdout",
     "output_type": "stream",
     "text": [
      "Train Loss: 102.5145\n",
      "Val   Loss: 63.9688 | RMSE: 8.2622 | MAE: 7.8443 | R²: 0.1050\n",
      "\n",
      "Epoch 10/100\n"
     ]
    },
    {
     "name": "stderr",
     "output_type": "stream",
     "text": [
      "Training: 100%|██████████| 23/23 [00:01<00:00, 17.31it/s]\n"
     ]
    },
    {
     "name": "stdout",
     "output_type": "stream",
     "text": [
      "Train Loss: 86.1193\n",
      "Val   Loss: 64.8209 | RMSE: 8.2499 | MAE: 7.8501 | R²: 0.1077\n",
      "\n",
      "Epoch 11/100\n"
     ]
    },
    {
     "name": "stderr",
     "output_type": "stream",
     "text": [
      "Training: 100%|██████████| 23/23 [00:01<00:00, 16.75it/s]\n"
     ]
    },
    {
     "name": "stdout",
     "output_type": "stream",
     "text": [
      "Train Loss: 73.2976\n",
      "Val   Loss: 52.3084 | RMSE: 7.5201 | MAE: 7.0766 | R²: 0.2586\n",
      "\n",
      "Epoch 12/100\n"
     ]
    },
    {
     "name": "stderr",
     "output_type": "stream",
     "text": [
      "Training: 100%|██████████| 23/23 [00:01<00:00, 16.91it/s]\n"
     ]
    },
    {
     "name": "stdout",
     "output_type": "stream",
     "text": [
      "Train Loss: 58.8568\n",
      "Val   Loss: 42.2611 | RMSE: 6.7724 | MAE: 6.2584 | R²: 0.3987\n",
      "\n",
      "Epoch 13/100\n"
     ]
    },
    {
     "name": "stderr",
     "output_type": "stream",
     "text": [
      "Training: 100%|██████████| 23/23 [00:01<00:00, 16.76it/s]\n"
     ]
    },
    {
     "name": "stdout",
     "output_type": "stream",
     "text": [
      "Train Loss: 47.5081\n",
      "Val   Loss: 37.4027 | RMSE: 6.3984 | MAE: 5.8359 | R²: 0.4632\n",
      "\n",
      "Epoch 14/100\n"
     ]
    },
    {
     "name": "stderr",
     "output_type": "stream",
     "text": [
      "Training: 100%|██████████| 23/23 [00:01<00:00, 16.75it/s]\n"
     ]
    },
    {
     "name": "stdout",
     "output_type": "stream",
     "text": [
      "Train Loss: 38.8733\n",
      "Val   Loss: 33.8638 | RMSE: 6.0703 | MAE: 5.5027 | R²: 0.5169\n",
      "\n",
      "Epoch 15/100\n"
     ]
    },
    {
     "name": "stderr",
     "output_type": "stream",
     "text": [
      "Training: 100%|██████████| 23/23 [00:01<00:00, 16.73it/s]\n"
     ]
    },
    {
     "name": "stdout",
     "output_type": "stream",
     "text": [
      "Train Loss: 31.3371\n",
      "Val   Loss: 16.1652 | RMSE: 4.2407 | MAE: 3.6136 | R²: 0.7642\n",
      "\n",
      "Epoch 16/100\n"
     ]
    },
    {
     "name": "stderr",
     "output_type": "stream",
     "text": [
      "Training: 100%|██████████| 23/23 [00:01<00:00, 16.97it/s]\n"
     ]
    },
    {
     "name": "stdout",
     "output_type": "stream",
     "text": [
      "Train Loss: 23.7844\n",
      "Val   Loss: 16.7528 | RMSE: 4.3669 | MAE: 3.7504 | R²: 0.7500\n",
      "\n",
      "Epoch 17/100\n"
     ]
    },
    {
     "name": "stderr",
     "output_type": "stream",
     "text": [
      "Training: 100%|██████████| 23/23 [00:01<00:00, 17.00it/s]\n"
     ]
    },
    {
     "name": "stdout",
     "output_type": "stream",
     "text": [
      "Train Loss: 18.1517\n",
      "Val   Loss: 11.3003 | RMSE: 3.5974 | MAE: 2.9392 | R²: 0.8303\n",
      "\n",
      "Epoch 18/100\n"
     ]
    },
    {
     "name": "stderr",
     "output_type": "stream",
     "text": [
      "Training: 100%|██████████| 23/23 [00:01<00:00, 16.87it/s]\n"
     ]
    },
    {
     "name": "stdout",
     "output_type": "stream",
     "text": [
      "Train Loss: 13.8276\n",
      "Val   Loss: 10.7339 | RMSE: 3.5218 | MAE: 2.8716 | R²: 0.8374\n",
      "\n",
      "Epoch 19/100\n"
     ]
    },
    {
     "name": "stderr",
     "output_type": "stream",
     "text": [
      "Training: 100%|██████████| 23/23 [00:01<00:00, 16.75it/s]\n"
     ]
    },
    {
     "name": "stdout",
     "output_type": "stream",
     "text": [
      "Train Loss: 11.1033\n",
      "Val   Loss: 12.1066 | RMSE: 3.7450 | MAE: 3.0786 | R²: 0.8161\n",
      "\n",
      "Epoch 20/100\n"
     ]
    },
    {
     "name": "stderr",
     "output_type": "stream",
     "text": [
      "Training: 100%|██████████| 23/23 [00:01<00:00, 16.92it/s]\n"
     ]
    },
    {
     "name": "stdout",
     "output_type": "stream",
     "text": [
      "Train Loss: 8.3268\n",
      "Val   Loss: 9.7067 | RMSE: 3.3390 | MAE: 2.7250 | R²: 0.8538\n",
      "\n",
      "Epoch 21/100\n"
     ]
    },
    {
     "name": "stderr",
     "output_type": "stream",
     "text": [
      "Training: 100%|██████████| 23/23 [00:01<00:00, 16.80it/s]\n"
     ]
    },
    {
     "name": "stdout",
     "output_type": "stream",
     "text": [
      "Train Loss: 6.0217\n",
      "Val   Loss: 7.4042 | RMSE: 2.8307 | MAE: 2.3193 | R²: 0.8949\n",
      "\n",
      "Epoch 22/100\n"
     ]
    },
    {
     "name": "stderr",
     "output_type": "stream",
     "text": [
      "Training: 100%|██████████| 23/23 [00:01<00:00, 16.82it/s]\n"
     ]
    },
    {
     "name": "stdout",
     "output_type": "stream",
     "text": [
      "Train Loss: 4.5302\n",
      "Val   Loss: 6.4899 | RMSE: 2.7027 | MAE: 2.1624 | R²: 0.9042\n",
      "\n",
      "Epoch 23/100\n"
     ]
    },
    {
     "name": "stderr",
     "output_type": "stream",
     "text": [
      "Training: 100%|██████████| 23/23 [00:01<00:00, 17.07it/s]\n"
     ]
    },
    {
     "name": "stdout",
     "output_type": "stream",
     "text": [
      "Train Loss: 3.7856\n",
      "Val   Loss: 7.0551 | RMSE: 2.8096 | MAE: 2.2652 | R²: 0.8965\n",
      "\n",
      "Epoch 24/100\n"
     ]
    },
    {
     "name": "stderr",
     "output_type": "stream",
     "text": [
      "Training: 100%|██████████| 23/23 [00:01<00:00, 16.75it/s]\n"
     ]
    },
    {
     "name": "stdout",
     "output_type": "stream",
     "text": [
      "Train Loss: 2.5504\n",
      "Val   Loss: 5.5394 | RMSE: 2.5027 | MAE: 1.9512 | R²: 0.9179\n",
      "\n",
      "Epoch 25/100\n"
     ]
    },
    {
     "name": "stderr",
     "output_type": "stream",
     "text": [
      "Training: 100%|██████████| 23/23 [00:01<00:00, 17.02it/s]\n"
     ]
    },
    {
     "name": "stdout",
     "output_type": "stream",
     "text": [
      "Train Loss: 2.2699\n",
      "Val   Loss: 6.3244 | RMSE: 2.6445 | MAE: 2.1260 | R²: 0.9083\n",
      "\n",
      "Epoch 26/100\n"
     ]
    },
    {
     "name": "stderr",
     "output_type": "stream",
     "text": [
      "Training: 100%|██████████| 23/23 [00:01<00:00, 16.97it/s]\n"
     ]
    },
    {
     "name": "stdout",
     "output_type": "stream",
     "text": [
      "Train Loss: 1.6726\n",
      "Val   Loss: 6.2269 | RMSE: 2.5477 | MAE: 2.0733 | R²: 0.9149\n",
      "\n",
      "Epoch 27/100\n"
     ]
    },
    {
     "name": "stderr",
     "output_type": "stream",
     "text": [
      "Training: 100%|██████████| 23/23 [00:01<00:00, 16.81it/s]\n"
     ]
    },
    {
     "name": "stdout",
     "output_type": "stream",
     "text": [
      "Train Loss: 1.7606\n",
      "Val   Loss: 5.9548 | RMSE: 2.5014 | MAE: 2.0394 | R²: 0.9180\n",
      "\n",
      "Epoch 28/100\n"
     ]
    },
    {
     "name": "stderr",
     "output_type": "stream",
     "text": [
      "Training: 100%|██████████| 23/23 [00:01<00:00, 16.81it/s]\n"
     ]
    },
    {
     "name": "stdout",
     "output_type": "stream",
     "text": [
      "Train Loss: 1.2392\n",
      "Val   Loss: 6.0248 | RMSE: 2.5162 | MAE: 2.0411 | R²: 0.9170\n",
      "\n",
      "Epoch 29/100\n"
     ]
    },
    {
     "name": "stderr",
     "output_type": "stream",
     "text": [
      "Training: 100%|██████████| 23/23 [00:01<00:00, 16.76it/s]\n"
     ]
    },
    {
     "name": "stdout",
     "output_type": "stream",
     "text": [
      "Train Loss: 1.3485\n",
      "Val   Loss: 5.7486 | RMSE: 2.4593 | MAE: 1.9872 | R²: 0.9207\n",
      "\n",
      "Epoch 30/100\n"
     ]
    },
    {
     "name": "stderr",
     "output_type": "stream",
     "text": [
      "Training: 100%|██████████| 23/23 [00:01<00:00, 16.91it/s]\n"
     ]
    },
    {
     "name": "stdout",
     "output_type": "stream",
     "text": [
      "Train Loss: 1.7159\n",
      "Val   Loss: 5.9087 | RMSE: 2.4578 | MAE: 1.9924 | R²: 0.9208\n",
      "\n",
      "Epoch 31/100\n"
     ]
    },
    {
     "name": "stderr",
     "output_type": "stream",
     "text": [
      "Training: 100%|██████████| 23/23 [00:01<00:00, 16.75it/s]\n"
     ]
    },
    {
     "name": "stdout",
     "output_type": "stream",
     "text": [
      "Train Loss: 0.8865\n",
      "Val   Loss: 6.1396 | RMSE: 2.4947 | MAE: 2.0248 | R²: 0.9184\n",
      "\n",
      "Epoch 32/100\n"
     ]
    },
    {
     "name": "stderr",
     "output_type": "stream",
     "text": [
      "Training: 100%|██████████| 23/23 [00:01<00:00, 16.84it/s]\n"
     ]
    },
    {
     "name": "stdout",
     "output_type": "stream",
     "text": [
      "Train Loss: 1.0909\n",
      "Val   Loss: 5.9448 | RMSE: 2.4674 | MAE: 1.9985 | R²: 0.9202\n",
      "\n",
      "Epoch 33/100\n"
     ]
    },
    {
     "name": "stderr",
     "output_type": "stream",
     "text": [
      "Training: 100%|██████████| 23/23 [00:01<00:00, 17.02it/s]\n"
     ]
    },
    {
     "name": "stdout",
     "output_type": "stream",
     "text": [
      "Train Loss: 1.2984\n",
      "Val   Loss: 5.8972 | RMSE: 2.4627 | MAE: 1.9930 | R²: 0.9205\n",
      "\n",
      "Epoch 34/100\n"
     ]
    },
    {
     "name": "stderr",
     "output_type": "stream",
     "text": [
      "Training: 100%|██████████| 23/23 [00:01<00:00, 16.82it/s]\n"
     ]
    },
    {
     "name": "stdout",
     "output_type": "stream",
     "text": [
      "Train Loss: 0.9882\n",
      "Val   Loss: 5.8319 | RMSE: 2.4736 | MAE: 2.0075 | R²: 0.9198\n",
      "\n",
      "Epoch 35/100\n"
     ]
    },
    {
     "name": "stderr",
     "output_type": "stream",
     "text": [
      "Training: 100%|██████████| 23/23 [00:01<00:00, 16.86it/s]\n"
     ]
    },
    {
     "name": "stdout",
     "output_type": "stream",
     "text": [
      "Train Loss: 1.1923\n",
      "Val   Loss: 5.8950 | RMSE: 2.4882 | MAE: 2.0215 | R²: 0.9188\n",
      "\n",
      "Epoch 36/100\n"
     ]
    },
    {
     "name": "stderr",
     "output_type": "stream",
     "text": [
      "Training: 100%|██████████| 23/23 [00:01<00:00, 16.81it/s]\n"
     ]
    },
    {
     "name": "stdout",
     "output_type": "stream",
     "text": [
      "Train Loss: 1.0475\n",
      "Val   Loss: 5.7574 | RMSE: 2.4577 | MAE: 1.9895 | R²: 0.9208\n",
      "\n",
      "Epoch 37/100\n"
     ]
    },
    {
     "name": "stderr",
     "output_type": "stream",
     "text": [
      "Training: 100%|██████████| 23/23 [00:01<00:00, 16.60it/s]\n"
     ]
    },
    {
     "name": "stdout",
     "output_type": "stream",
     "text": [
      "Train Loss: 1.0540\n",
      "Val   Loss: 6.0684 | RMSE: 2.4821 | MAE: 2.0095 | R²: 0.9192\n",
      "\n",
      "Epoch 38/100\n"
     ]
    },
    {
     "name": "stderr",
     "output_type": "stream",
     "text": [
      "Training: 100%|██████████| 23/23 [00:01<00:00, 16.90it/s]\n"
     ]
    },
    {
     "name": "stdout",
     "output_type": "stream",
     "text": [
      "Train Loss: 1.1518\n",
      "Val   Loss: 5.9316 | RMSE: 2.4678 | MAE: 1.9996 | R²: 0.9202\n",
      "\n",
      "Epoch 39/100\n"
     ]
    },
    {
     "name": "stderr",
     "output_type": "stream",
     "text": [
      "Training: 100%|██████████| 23/23 [00:01<00:00, 16.87it/s]\n"
     ]
    },
    {
     "name": "stdout",
     "output_type": "stream",
     "text": [
      "Train Loss: 0.8762\n",
      "Val   Loss: 5.7741 | RMSE: 2.4569 | MAE: 1.9894 | R²: 0.9209\n",
      "\n",
      "Epoch 40/100\n"
     ]
    },
    {
     "name": "stderr",
     "output_type": "stream",
     "text": [
      "Training: 100%|██████████| 23/23 [00:01<00:00, 16.78it/s]\n"
     ]
    },
    {
     "name": "stdout",
     "output_type": "stream",
     "text": [
      "Train Loss: 1.0758\n",
      "Val   Loss: 5.9369 | RMSE: 2.4767 | MAE: 2.0089 | R²: 0.9196\n",
      "\n",
      "Epoch 41/100\n"
     ]
    },
    {
     "name": "stderr",
     "output_type": "stream",
     "text": [
      "Training: 100%|██████████| 23/23 [00:01<00:00, 16.99it/s]\n"
     ]
    },
    {
     "name": "stdout",
     "output_type": "stream",
     "text": [
      "Train Loss: 0.9361\n",
      "Val   Loss: 5.8959 | RMSE: 2.4824 | MAE: 2.0138 | R²: 0.9192\n",
      "\n",
      "Epoch 42/100\n"
     ]
    },
    {
     "name": "stderr",
     "output_type": "stream",
     "text": [
      "Training: 100%|██████████| 23/23 [00:01<00:00, 16.74it/s]\n"
     ]
    },
    {
     "name": "stdout",
     "output_type": "stream",
     "text": [
      "Train Loss: 1.4798\n",
      "Val   Loss: 5.7598 | RMSE: 2.4860 | MAE: 2.0119 | R²: 0.9190\n",
      "\n",
      "Epoch 43/100\n"
     ]
    },
    {
     "name": "stderr",
     "output_type": "stream",
     "text": [
      "Training: 100%|██████████| 23/23 [00:01<00:00, 16.94it/s]\n"
     ]
    },
    {
     "name": "stdout",
     "output_type": "stream",
     "text": [
      "Train Loss: 1.0797\n",
      "Val   Loss: 5.8286 | RMSE: 2.5000 | MAE: 2.0242 | R²: 0.9181\n",
      "\n",
      "Epoch 44/100\n"
     ]
    },
    {
     "name": "stderr",
     "output_type": "stream",
     "text": [
      "Training: 100%|██████████| 23/23 [00:01<00:00, 16.88it/s]\n"
     ]
    },
    {
     "name": "stdout",
     "output_type": "stream",
     "text": [
      "Train Loss: 1.1715\n",
      "Val   Loss: 5.8027 | RMSE: 2.4625 | MAE: 1.9977 | R²: 0.9205\n",
      "\n",
      "Epoch 45/100\n"
     ]
    },
    {
     "name": "stderr",
     "output_type": "stream",
     "text": [
      "Training: 100%|██████████| 23/23 [00:01<00:00, 16.74it/s]\n"
     ]
    },
    {
     "name": "stdout",
     "output_type": "stream",
     "text": [
      "Train Loss: 1.5123\n",
      "Val   Loss: 5.8577 | RMSE: 2.4642 | MAE: 1.9984 | R²: 0.9204\n",
      "\n",
      "Epoch 46/100\n"
     ]
    },
    {
     "name": "stderr",
     "output_type": "stream",
     "text": [
      "Training: 100%|██████████| 23/23 [00:01<00:00, 16.72it/s]\n"
     ]
    },
    {
     "name": "stdout",
     "output_type": "stream",
     "text": [
      "Train Loss: 0.9512\n",
      "Val   Loss: 5.8337 | RMSE: 2.4644 | MAE: 2.0000 | R²: 0.9204\n",
      "\n",
      "Epoch 47/100\n"
     ]
    },
    {
     "name": "stderr",
     "output_type": "stream",
     "text": [
      "Training: 100%|██████████| 23/23 [00:01<00:00, 16.69it/s]\n"
     ]
    },
    {
     "name": "stdout",
     "output_type": "stream",
     "text": [
      "Train Loss: 1.4189\n",
      "Val   Loss: 5.8828 | RMSE: 2.4738 | MAE: 2.0084 | R²: 0.9198\n",
      "\n",
      "Epoch 48/100\n"
     ]
    },
    {
     "name": "stderr",
     "output_type": "stream",
     "text": [
      "Training: 100%|██████████| 23/23 [00:01<00:00, 16.87it/s]\n"
     ]
    },
    {
     "name": "stdout",
     "output_type": "stream",
     "text": [
      "Train Loss: 1.4034\n",
      "Val   Loss: 5.9550 | RMSE: 2.4794 | MAE: 2.0142 | R²: 0.9194\n",
      "\n",
      "Epoch 49/100\n"
     ]
    },
    {
     "name": "stderr",
     "output_type": "stream",
     "text": [
      "Training: 100%|██████████| 23/23 [00:01<00:00, 16.84it/s]\n"
     ]
    },
    {
     "name": "stdout",
     "output_type": "stream",
     "text": [
      "Train Loss: 0.9246\n",
      "Val   Loss: 5.9725 | RMSE: 2.4740 | MAE: 2.0070 | R²: 0.9198\n",
      "\n",
      "Epoch 50/100\n"
     ]
    },
    {
     "name": "stderr",
     "output_type": "stream",
     "text": [
      "Training: 100%|██████████| 23/23 [00:01<00:00, 16.72it/s]\n"
     ]
    },
    {
     "name": "stdout",
     "output_type": "stream",
     "text": [
      "Train Loss: 1.3560\n",
      "Val   Loss: 5.9069 | RMSE: 2.4693 | MAE: 2.0026 | R²: 0.9201\n",
      "\n",
      "Epoch 51/100\n"
     ]
    },
    {
     "name": "stderr",
     "output_type": "stream",
     "text": [
      "Training: 100%|██████████| 23/23 [00:01<00:00, 17.10it/s]\n"
     ]
    },
    {
     "name": "stdout",
     "output_type": "stream",
     "text": [
      "Train Loss: 1.2609\n",
      "Val   Loss: 5.9467 | RMSE: 2.4681 | MAE: 1.9983 | R²: 0.9201\n",
      "\n",
      "Epoch 52/100\n"
     ]
    },
    {
     "name": "stderr",
     "output_type": "stream",
     "text": [
      "Training: 100%|██████████| 23/23 [00:01<00:00, 16.95it/s]\n"
     ]
    },
    {
     "name": "stdout",
     "output_type": "stream",
     "text": [
      "Train Loss: 0.9148\n",
      "Val   Loss: 5.8864 | RMSE: 2.4755 | MAE: 2.0100 | R²: 0.9197\n",
      "\n",
      "Epoch 53/100\n"
     ]
    },
    {
     "name": "stderr",
     "output_type": "stream",
     "text": [
      "Training: 100%|██████████| 23/23 [00:01<00:00, 16.97it/s]\n"
     ]
    },
    {
     "name": "stdout",
     "output_type": "stream",
     "text": [
      "Train Loss: 1.2988\n",
      "Val   Loss: 5.8962 | RMSE: 2.4672 | MAE: 2.0001 | R²: 0.9202\n",
      "\n",
      "Epoch 54/100\n"
     ]
    },
    {
     "name": "stderr",
     "output_type": "stream",
     "text": [
      "Training: 100%|██████████| 23/23 [00:01<00:00, 16.85it/s]\n"
     ]
    },
    {
     "name": "stdout",
     "output_type": "stream",
     "text": [
      "Train Loss: 1.0679\n",
      "Val   Loss: 5.8627 | RMSE: 2.4636 | MAE: 1.9982 | R²: 0.9204\n",
      "\n",
      "Epoch 55/100\n"
     ]
    },
    {
     "name": "stderr",
     "output_type": "stream",
     "text": [
      "Training: 100%|██████████| 23/23 [00:01<00:00, 16.54it/s]\n"
     ]
    },
    {
     "name": "stdout",
     "output_type": "stream",
     "text": [
      "Train Loss: 1.0342\n",
      "Val   Loss: 5.8268 | RMSE: 2.4717 | MAE: 2.0039 | R²: 0.9199\n",
      "\n",
      "Epoch 56/100\n"
     ]
    },
    {
     "name": "stderr",
     "output_type": "stream",
     "text": [
      "Training: 100%|██████████| 23/23 [00:01<00:00, 16.81it/s]\n"
     ]
    },
    {
     "name": "stdout",
     "output_type": "stream",
     "text": [
      "Train Loss: 0.9186\n",
      "Val   Loss: 5.8229 | RMSE: 2.4673 | MAE: 2.0021 | R²: 0.9202\n",
      "\n",
      "Epoch 57/100\n"
     ]
    },
    {
     "name": "stderr",
     "output_type": "stream",
     "text": [
      "Training: 100%|██████████| 23/23 [00:01<00:00, 16.81it/s]\n"
     ]
    },
    {
     "name": "stdout",
     "output_type": "stream",
     "text": [
      "Train Loss: 1.7612\n",
      "Val   Loss: 5.9096 | RMSE: 2.5152 | MAE: 2.0426 | R²: 0.9171\n",
      "\n",
      "Epoch 58/100\n"
     ]
    },
    {
     "name": "stderr",
     "output_type": "stream",
     "text": [
      "Training: 100%|██████████| 23/23 [00:01<00:00, 16.75it/s]\n"
     ]
    },
    {
     "name": "stdout",
     "output_type": "stream",
     "text": [
      "Train Loss: 1.3663\n",
      "Val   Loss: 5.8376 | RMSE: 2.4679 | MAE: 2.0013 | R²: 0.9202\n",
      "\n",
      "Epoch 59/100\n"
     ]
    },
    {
     "name": "stderr",
     "output_type": "stream",
     "text": [
      "Training: 100%|██████████| 23/23 [00:01<00:00, 16.98it/s]\n"
     ]
    },
    {
     "name": "stdout",
     "output_type": "stream",
     "text": [
      "Train Loss: 1.5122\n",
      "Val   Loss: 5.8462 | RMSE: 2.4523 | MAE: 1.9832 | R²: 0.9212\n",
      "\n",
      "Epoch 60/100\n"
     ]
    },
    {
     "name": "stderr",
     "output_type": "stream",
     "text": [
      "Training: 100%|██████████| 23/23 [00:01<00:00, 16.87it/s]\n"
     ]
    },
    {
     "name": "stdout",
     "output_type": "stream",
     "text": [
      "Train Loss: 1.5351\n",
      "Val   Loss: 5.8462 | RMSE: 2.5006 | MAE: 2.0278 | R²: 0.9180\n",
      "\n",
      "Epoch 61/100\n"
     ]
    },
    {
     "name": "stderr",
     "output_type": "stream",
     "text": [
      "Training: 100%|██████████| 23/23 [00:01<00:00, 17.06it/s]\n"
     ]
    },
    {
     "name": "stdout",
     "output_type": "stream",
     "text": [
      "Train Loss: 1.1334\n",
      "Val   Loss: 5.8631 | RMSE: 2.4780 | MAE: 2.0124 | R²: 0.9195\n",
      "\n",
      "Epoch 62/100\n"
     ]
    },
    {
     "name": "stderr",
     "output_type": "stream",
     "text": [
      "Training: 100%|██████████| 23/23 [00:01<00:00, 17.04it/s]\n"
     ]
    },
    {
     "name": "stdout",
     "output_type": "stream",
     "text": [
      "Train Loss: 1.1142\n",
      "Val   Loss: 5.9784 | RMSE: 2.4703 | MAE: 2.0012 | R²: 0.9200\n",
      "\n",
      "Epoch 63/100\n"
     ]
    },
    {
     "name": "stderr",
     "output_type": "stream",
     "text": [
      "Training: 100%|██████████| 23/23 [00:01<00:00, 16.72it/s]\n"
     ]
    },
    {
     "name": "stdout",
     "output_type": "stream",
     "text": [
      "Train Loss: 1.4309\n",
      "Val   Loss: 5.7693 | RMSE: 2.4826 | MAE: 2.0103 | R²: 0.9192\n",
      "\n",
      "Epoch 64/100\n"
     ]
    },
    {
     "name": "stderr",
     "output_type": "stream",
     "text": [
      "Training: 100%|██████████| 23/23 [00:01<00:00, 16.84it/s]\n"
     ]
    },
    {
     "name": "stdout",
     "output_type": "stream",
     "text": [
      "Train Loss: 0.9153\n",
      "Val   Loss: 5.8933 | RMSE: 2.4815 | MAE: 2.0117 | R²: 0.9193\n",
      "\n",
      "Epoch 65/100\n"
     ]
    },
    {
     "name": "stderr",
     "output_type": "stream",
     "text": [
      "Training: 100%|██████████| 23/23 [00:01<00:00, 16.95it/s]\n"
     ]
    },
    {
     "name": "stdout",
     "output_type": "stream",
     "text": [
      "Train Loss: 1.3832\n",
      "Val   Loss: 5.8809 | RMSE: 2.4766 | MAE: 2.0117 | R²: 0.9196\n",
      "\n",
      "Epoch 66/100\n"
     ]
    },
    {
     "name": "stderr",
     "output_type": "stream",
     "text": [
      "Training: 100%|██████████| 23/23 [00:01<00:00, 16.83it/s]\n"
     ]
    },
    {
     "name": "stdout",
     "output_type": "stream",
     "text": [
      "Train Loss: 0.8542\n",
      "Val   Loss: 5.9177 | RMSE: 2.4745 | MAE: 2.0089 | R²: 0.9197\n",
      "\n",
      "Epoch 67/100\n"
     ]
    },
    {
     "name": "stderr",
     "output_type": "stream",
     "text": [
      "Training: 100%|██████████| 23/23 [00:01<00:00, 16.57it/s]\n"
     ]
    },
    {
     "name": "stdout",
     "output_type": "stream",
     "text": [
      "Train Loss: 1.1048\n",
      "Val   Loss: 5.9202 | RMSE: 2.4749 | MAE: 2.0099 | R²: 0.9197\n",
      "\n",
      "Epoch 68/100\n"
     ]
    },
    {
     "name": "stderr",
     "output_type": "stream",
     "text": [
      "Training: 100%|██████████| 23/23 [00:01<00:00, 16.81it/s]\n"
     ]
    },
    {
     "name": "stdout",
     "output_type": "stream",
     "text": [
      "Train Loss: 1.3060\n",
      "Val   Loss: 5.9026 | RMSE: 2.4681 | MAE: 1.9989 | R²: 0.9201\n",
      "\n",
      "Epoch 69/100\n"
     ]
    },
    {
     "name": "stderr",
     "output_type": "stream",
     "text": [
      "Training: 100%|██████████| 23/23 [00:01<00:00, 16.98it/s]\n"
     ]
    },
    {
     "name": "stdout",
     "output_type": "stream",
     "text": [
      "Train Loss: 0.9762\n",
      "Val   Loss: 5.8207 | RMSE: 2.4646 | MAE: 1.9995 | R²: 0.9204\n",
      "\n",
      "Epoch 70/100\n"
     ]
    },
    {
     "name": "stderr",
     "output_type": "stream",
     "text": [
      "Training: 100%|██████████| 23/23 [00:01<00:00, 16.64it/s]\n"
     ]
    },
    {
     "name": "stdout",
     "output_type": "stream",
     "text": [
      "Train Loss: 1.5469\n",
      "Val   Loss: 5.9594 | RMSE: 2.4698 | MAE: 2.0009 | R²: 0.9200\n",
      "\n",
      "Epoch 71/100\n"
     ]
    },
    {
     "name": "stderr",
     "output_type": "stream",
     "text": [
      "Training: 100%|██████████| 23/23 [00:01<00:00, 16.64it/s]\n"
     ]
    },
    {
     "name": "stdout",
     "output_type": "stream",
     "text": [
      "Train Loss: 0.9944\n",
      "Val   Loss: 5.9749 | RMSE: 2.4722 | MAE: 2.0036 | R²: 0.9199\n",
      "\n",
      "Epoch 72/100\n"
     ]
    },
    {
     "name": "stderr",
     "output_type": "stream",
     "text": [
      "Training: 100%|██████████| 23/23 [00:01<00:00, 16.91it/s]\n"
     ]
    },
    {
     "name": "stdout",
     "output_type": "stream",
     "text": [
      "Train Loss: 2.3271\n",
      "Val   Loss: 5.8887 | RMSE: 2.4765 | MAE: 2.0122 | R²: 0.9196\n",
      "\n",
      "Epoch 73/100\n"
     ]
    },
    {
     "name": "stderr",
     "output_type": "stream",
     "text": [
      "Training: 100%|██████████| 23/23 [00:01<00:00, 16.56it/s]\n"
     ]
    },
    {
     "name": "stdout",
     "output_type": "stream",
     "text": [
      "Train Loss: 1.0977\n",
      "Val   Loss: 5.7435 | RMSE: 2.4631 | MAE: 1.9968 | R²: 0.9205\n",
      "\n",
      "Epoch 74/100\n"
     ]
    },
    {
     "name": "stderr",
     "output_type": "stream",
     "text": [
      "Training: 100%|██████████| 23/23 [00:01<00:00, 16.86it/s]\n"
     ]
    },
    {
     "name": "stdout",
     "output_type": "stream",
     "text": [
      "Train Loss: 0.9317\n",
      "Val   Loss: 5.9725 | RMSE: 2.4724 | MAE: 2.0027 | R²: 0.9199\n",
      "\n",
      "Epoch 75/100\n"
     ]
    },
    {
     "name": "stderr",
     "output_type": "stream",
     "text": [
      "Training: 100%|██████████| 23/23 [00:01<00:00, 16.54it/s]\n"
     ]
    },
    {
     "name": "stdout",
     "output_type": "stream",
     "text": [
      "Train Loss: 0.8901\n",
      "Val   Loss: 5.9321 | RMSE: 2.4817 | MAE: 2.0156 | R²: 0.9193\n",
      "\n",
      "Epoch 76/100\n"
     ]
    },
    {
     "name": "stderr",
     "output_type": "stream",
     "text": [
      "Training: 100%|██████████| 23/23 [00:01<00:00, 16.55it/s]\n"
     ]
    },
    {
     "name": "stdout",
     "output_type": "stream",
     "text": [
      "Train Loss: 1.6597\n",
      "Val   Loss: 5.8579 | RMSE: 2.4870 | MAE: 2.0205 | R²: 0.9189\n",
      "\n",
      "Epoch 77/100\n"
     ]
    },
    {
     "name": "stderr",
     "output_type": "stream",
     "text": [
      "Training: 100%|██████████| 23/23 [00:01<00:00, 16.66it/s]\n"
     ]
    },
    {
     "name": "stdout",
     "output_type": "stream",
     "text": [
      "Train Loss: 1.1948\n",
      "Val   Loss: 5.8073 | RMSE: 2.4663 | MAE: 2.0029 | R²: 0.9203\n",
      "\n",
      "Epoch 78/100\n"
     ]
    },
    {
     "name": "stderr",
     "output_type": "stream",
     "text": [
      "Training: 100%|██████████| 23/23 [00:01<00:00, 16.56it/s]\n"
     ]
    },
    {
     "name": "stdout",
     "output_type": "stream",
     "text": [
      "Train Loss: 1.0703\n",
      "Val   Loss: 5.7368 | RMSE: 2.4684 | MAE: 1.9961 | R²: 0.9201\n",
      "\n",
      "Epoch 79/100\n"
     ]
    },
    {
     "name": "stderr",
     "output_type": "stream",
     "text": [
      "Training: 100%|██████████| 23/23 [00:01<00:00, 16.85it/s]\n"
     ]
    },
    {
     "name": "stdout",
     "output_type": "stream",
     "text": [
      "Train Loss: 1.3238\n",
      "Val   Loss: 6.0067 | RMSE: 2.4694 | MAE: 1.9969 | R²: 0.9201\n",
      "\n",
      "Epoch 80/100\n"
     ]
    },
    {
     "name": "stderr",
     "output_type": "stream",
     "text": [
      "Training: 100%|██████████| 23/23 [00:01<00:00, 16.79it/s]\n"
     ]
    },
    {
     "name": "stdout",
     "output_type": "stream",
     "text": [
      "Train Loss: 1.0529\n",
      "Val   Loss: 6.0062 | RMSE: 2.4737 | MAE: 2.0043 | R²: 0.9198\n",
      "\n",
      "Epoch 81/100\n"
     ]
    },
    {
     "name": "stderr",
     "output_type": "stream",
     "text": [
      "Training: 100%|██████████| 23/23 [00:01<00:00, 16.79it/s]\n"
     ]
    },
    {
     "name": "stdout",
     "output_type": "stream",
     "text": [
      "Train Loss: 1.5019\n",
      "Val   Loss: 5.8710 | RMSE: 2.4662 | MAE: 2.0013 | R²: 0.9203\n",
      "\n",
      "Epoch 82/100\n"
     ]
    },
    {
     "name": "stderr",
     "output_type": "stream",
     "text": [
      "Training: 100%|██████████| 23/23 [00:01<00:00, 16.89it/s]\n"
     ]
    },
    {
     "name": "stdout",
     "output_type": "stream",
     "text": [
      "Train Loss: 1.0457\n",
      "Val   Loss: 5.8347 | RMSE: 2.4694 | MAE: 2.0029 | R²: 0.9201\n",
      "\n",
      "Epoch 83/100\n"
     ]
    },
    {
     "name": "stderr",
     "output_type": "stream",
     "text": [
      "Training: 100%|██████████| 23/23 [00:01<00:00, 16.63it/s]\n"
     ]
    },
    {
     "name": "stdout",
     "output_type": "stream",
     "text": [
      "Train Loss: 1.5258\n",
      "Val   Loss: 5.8606 | RMSE: 2.4829 | MAE: 2.0162 | R²: 0.9192\n",
      "\n",
      "Epoch 84/100\n"
     ]
    },
    {
     "name": "stderr",
     "output_type": "stream",
     "text": [
      "Training: 100%|██████████| 23/23 [00:01<00:00, 16.81it/s]\n"
     ]
    },
    {
     "name": "stdout",
     "output_type": "stream",
     "text": [
      "Train Loss: 0.9427\n",
      "Val   Loss: 5.9253 | RMSE: 2.4728 | MAE: 2.0063 | R²: 0.9198\n",
      "\n",
      "Epoch 85/100\n"
     ]
    },
    {
     "name": "stderr",
     "output_type": "stream",
     "text": [
      "Training: 100%|██████████| 23/23 [00:01<00:00, 16.91it/s]\n"
     ]
    },
    {
     "name": "stdout",
     "output_type": "stream",
     "text": [
      "Train Loss: 1.2233\n",
      "Val   Loss: 5.8717 | RMSE: 2.4617 | MAE: 1.9928 | R²: 0.9206\n",
      "\n",
      "Epoch 86/100\n"
     ]
    },
    {
     "name": "stderr",
     "output_type": "stream",
     "text": [
      "Training: 100%|██████████| 23/23 [00:01<00:00, 16.70it/s]\n"
     ]
    },
    {
     "name": "stdout",
     "output_type": "stream",
     "text": [
      "Train Loss: 1.2153\n",
      "Val   Loss: 5.8665 | RMSE: 2.4678 | MAE: 2.0012 | R²: 0.9202\n",
      "\n",
      "Epoch 87/100\n"
     ]
    },
    {
     "name": "stderr",
     "output_type": "stream",
     "text": [
      "Training: 100%|██████████| 23/23 [00:01<00:00, 17.00it/s]\n"
     ]
    },
    {
     "name": "stdout",
     "output_type": "stream",
     "text": [
      "Train Loss: 0.9557\n",
      "Val   Loss: 5.8528 | RMSE: 2.4888 | MAE: 2.0185 | R²: 0.9188\n",
      "\n",
      "Epoch 88/100\n"
     ]
    },
    {
     "name": "stderr",
     "output_type": "stream",
     "text": [
      "Training: 100%|██████████| 23/23 [00:01<00:00, 16.63it/s]\n"
     ]
    },
    {
     "name": "stdout",
     "output_type": "stream",
     "text": [
      "Train Loss: 0.9470\n",
      "Val   Loss: 5.8026 | RMSE: 2.4691 | MAE: 2.0027 | R²: 0.9201\n",
      "\n",
      "Epoch 89/100\n"
     ]
    },
    {
     "name": "stderr",
     "output_type": "stream",
     "text": [
      "Training: 100%|██████████| 23/23 [00:01<00:00, 16.76it/s]\n"
     ]
    },
    {
     "name": "stdout",
     "output_type": "stream",
     "text": [
      "Train Loss: 1.6274\n",
      "Val   Loss: 5.8219 | RMSE: 2.4711 | MAE: 2.0056 | R²: 0.9199\n",
      "\n",
      "Epoch 90/100\n"
     ]
    },
    {
     "name": "stderr",
     "output_type": "stream",
     "text": [
      "Training: 100%|██████████| 23/23 [00:01<00:00, 16.83it/s]\n"
     ]
    },
    {
     "name": "stdout",
     "output_type": "stream",
     "text": [
      "Train Loss: 1.2290\n",
      "Val   Loss: 5.8166 | RMSE: 2.4736 | MAE: 2.0064 | R²: 0.9198\n",
      "\n",
      "Epoch 91/100\n"
     ]
    },
    {
     "name": "stderr",
     "output_type": "stream",
     "text": [
      "Training: 100%|██████████| 23/23 [00:01<00:00, 16.48it/s]\n"
     ]
    },
    {
     "name": "stdout",
     "output_type": "stream",
     "text": [
      "Train Loss: 1.1705\n",
      "Val   Loss: 6.0381 | RMSE: 2.4842 | MAE: 2.0146 | R²: 0.9191\n",
      "\n",
      "Epoch 92/100\n"
     ]
    },
    {
     "name": "stderr",
     "output_type": "stream",
     "text": [
      "Training: 100%|██████████| 23/23 [00:01<00:00, 16.95it/s]\n"
     ]
    },
    {
     "name": "stdout",
     "output_type": "stream",
     "text": [
      "Train Loss: 2.0823\n",
      "Val   Loss: 5.8547 | RMSE: 2.4657 | MAE: 2.0002 | R²: 0.9203\n",
      "\n",
      "Epoch 93/100\n"
     ]
    },
    {
     "name": "stderr",
     "output_type": "stream",
     "text": [
      "Training: 100%|██████████| 23/23 [00:01<00:00, 16.98it/s]\n"
     ]
    },
    {
     "name": "stdout",
     "output_type": "stream",
     "text": [
      "Train Loss: 1.0989\n",
      "Val   Loss: 5.8041 | RMSE: 2.4633 | MAE: 1.9971 | R²: 0.9204\n",
      "\n",
      "Epoch 94/100\n"
     ]
    },
    {
     "name": "stderr",
     "output_type": "stream",
     "text": [
      "Training: 100%|██████████| 23/23 [00:01<00:00, 16.87it/s]\n"
     ]
    },
    {
     "name": "stdout",
     "output_type": "stream",
     "text": [
      "Train Loss: 0.9631\n",
      "Val   Loss: 5.9262 | RMSE: 2.4784 | MAE: 2.0124 | R²: 0.9195\n",
      "\n",
      "Epoch 95/100\n"
     ]
    },
    {
     "name": "stderr",
     "output_type": "stream",
     "text": [
      "Training: 100%|██████████| 23/23 [00:01<00:00, 16.90it/s]\n"
     ]
    },
    {
     "name": "stdout",
     "output_type": "stream",
     "text": [
      "Train Loss: 0.8902\n",
      "Val   Loss: 5.8563 | RMSE: 2.4741 | MAE: 2.0084 | R²: 0.9197\n",
      "\n",
      "Epoch 96/100\n"
     ]
    },
    {
     "name": "stderr",
     "output_type": "stream",
     "text": [
      "Training: 100%|██████████| 23/23 [00:01<00:00, 16.72it/s]\n"
     ]
    },
    {
     "name": "stdout",
     "output_type": "stream",
     "text": [
      "Train Loss: 0.8507\n",
      "Val   Loss: 5.8445 | RMSE: 2.4754 | MAE: 2.0087 | R²: 0.9197\n",
      "\n",
      "Epoch 97/100\n"
     ]
    },
    {
     "name": "stderr",
     "output_type": "stream",
     "text": [
      "Training: 100%|██████████| 23/23 [00:01<00:00, 16.57it/s]\n"
     ]
    },
    {
     "name": "stdout",
     "output_type": "stream",
     "text": [
      "Train Loss: 0.7715\n",
      "Val   Loss: 5.8063 | RMSE: 2.4536 | MAE: 1.9847 | R²: 0.9211\n",
      "\n",
      "Epoch 98/100\n"
     ]
    },
    {
     "name": "stderr",
     "output_type": "stream",
     "text": [
      "Training: 100%|██████████| 23/23 [00:01<00:00, 16.54it/s]\n"
     ]
    },
    {
     "name": "stdout",
     "output_type": "stream",
     "text": [
      "Train Loss: 1.3717\n",
      "Val   Loss: 5.8685 | RMSE: 2.4605 | MAE: 1.9920 | R²: 0.9206\n",
      "\n",
      "Epoch 99/100\n"
     ]
    },
    {
     "name": "stderr",
     "output_type": "stream",
     "text": [
      "Training: 100%|██████████| 23/23 [00:01<00:00, 17.44it/s]\n"
     ]
    },
    {
     "name": "stdout",
     "output_type": "stream",
     "text": [
      "Train Loss: 1.4052\n",
      "Val   Loss: 5.9264 | RMSE: 2.4601 | MAE: 1.9894 | R²: 0.9207\n",
      "\n",
      "Epoch 100/100\n"
     ]
    },
    {
     "name": "stderr",
     "output_type": "stream",
     "text": [
      "Training: 100%|██████████| 23/23 [00:01<00:00, 17.42it/s]\n"
     ]
    },
    {
     "name": "stdout",
     "output_type": "stream",
     "text": [
      "Train Loss: 1.0597\n",
      "Val   Loss: 5.7691 | RMSE: 2.4643 | MAE: 1.9980 | R²: 0.9204\n"
     ]
    }
   ],
   "source": [
    "best_model, history = train_model(\n",
    "    model,\n",
    "    train_loader,\n",
    "    validation_loader,\n",
    "    optimizer,\n",
    "    criterion,\n",
    "    scheduler,\n",
    "    num_epochs=N_EPOCHS\n",
    ")"
   ]
  },
  {
   "cell_type": "code",
   "execution_count": 14,
   "metadata": {},
   "outputs": [],
   "source": [
    "torch.save(best_model.state_dict(), \"best_count_regressor.pt\")"
   ]
  },
  {
   "cell_type": "code",
   "execution_count": 15,
   "metadata": {},
   "outputs": [
    {
     "name": "stderr",
     "output_type": "stream",
     "text": [
      "\u001b[1;38;5;39mCOMET INFO:\u001b[0m ---------------------------------------------------------------------------------------\n",
      "\u001b[1;38;5;39mCOMET INFO:\u001b[0m Comet.ml Experiment Summary\n",
      "\u001b[1;38;5;39mCOMET INFO:\u001b[0m ---------------------------------------------------------------------------------------\n",
      "\u001b[1;38;5;39mCOMET INFO:\u001b[0m   Data:\n",
      "\u001b[1;38;5;39mCOMET INFO:\u001b[0m     display_summary_level : 1\n",
      "\u001b[1;38;5;39mCOMET INFO:\u001b[0m     name                  : ResNet50 Count Regressor\n",
      "\u001b[1;38;5;39mCOMET INFO:\u001b[0m     url                   : https://www.comet.com/cristy17001/resnet50-piece-counter/0f410ce87539493f8f5d709e89368236\n",
      "\u001b[1;38;5;39mCOMET INFO:\u001b[0m   Metrics [count] (min, max):\n",
      "\u001b[1;38;5;39mCOMET INFO:\u001b[0m     lr [100]         : (1.0000000000000004e-08, 0.0001)\n",
      "\u001b[1;38;5;39mCOMET INFO:\u001b[0m     train_loss [100] : (0.7715271374453669, 450.7801712699558)\n",
      "\u001b[1;38;5;39mCOMET INFO:\u001b[0m     val_loss [100]   : (5.539362251758575, 930.3798217773438)\n",
      "\u001b[1;38;5;39mCOMET INFO:\u001b[0m     val_mae [100]    : (1.9512058026862866, 27.753427262073664)\n",
      "\u001b[1;38;5;39mCOMET INFO:\u001b[0m     val_r2 [100]     : (-9.888876572547831, 0.9211583508614727)\n",
      "\u001b[1;38;5;39mCOMET INFO:\u001b[0m     val_rmse [100]   : (2.4522514358758523, 28.818985272455045)\n",
      "\u001b[1;38;5;39mCOMET INFO:\u001b[0m   Others:\n",
      "\u001b[1;38;5;39mCOMET INFO:\u001b[0m     Name : ResNet50 Count Regressor\n",
      "\u001b[1;38;5;39mCOMET INFO:\u001b[0m   Parameters:\n",
      "\u001b[1;38;5;39mCOMET INFO:\u001b[0m     batch_size    : 64\n",
      "\u001b[1;38;5;39mCOMET INFO:\u001b[0m     epochs        : 100\n",
      "\u001b[1;38;5;39mCOMET INFO:\u001b[0m     loss_function : MSELoss\n",
      "\u001b[1;38;5;39mCOMET INFO:\u001b[0m     lr            : 0.0001\n",
      "\u001b[1;38;5;39mCOMET INFO:\u001b[0m     model         : resnet50\n",
      "\u001b[1;38;5;39mCOMET INFO:\u001b[0m     optimizer     : AdamW\n",
      "\u001b[1;38;5;39mCOMET INFO:\u001b[0m     patience      : 2\n",
      "\u001b[1;38;5;39mCOMET INFO:\u001b[0m     pretrained    : True\n",
      "\u001b[1;38;5;39mCOMET INFO:\u001b[0m     scheduler     : ReduceLROnPlateau\n",
      "\u001b[1;38;5;39mCOMET INFO:\u001b[0m     weight_decay  : 0.0001\n",
      "\u001b[1;38;5;39mCOMET INFO:\u001b[0m   Uploads:\n",
      "\u001b[1;38;5;39mCOMET INFO:\u001b[0m     environment details      : 1\n",
      "\u001b[1;38;5;39mCOMET INFO:\u001b[0m     filename                 : 1\n",
      "\u001b[1;38;5;39mCOMET INFO:\u001b[0m     git metadata             : 1\n",
      "\u001b[1;38;5;39mCOMET INFO:\u001b[0m     git-patch (uncompressed) : 1 (44.88 MB)\n",
      "\u001b[1;38;5;39mCOMET INFO:\u001b[0m     installed packages       : 1\n",
      "\u001b[1;38;5;39mCOMET INFO:\u001b[0m     model-element            : 127 (5.30 GB)\n",
      "\u001b[1;38;5;39mCOMET INFO:\u001b[0m     notebook                 : 1\n",
      "\u001b[1;38;5;39mCOMET INFO:\u001b[0m     source_code              : 1\n",
      "\u001b[1;38;5;39mCOMET INFO:\u001b[0m \n",
      "\u001b[1;38;5;214mCOMET WARNING:\u001b[0m To get all data logged automatically, import comet_ml before the following modules: torch.\n",
      "\u001b[1;38;5;39mCOMET INFO:\u001b[0m Please wait for assets to finish uploading (timeout is 10800 seconds)\n",
      "\u001b[1;38;5;39mCOMET INFO:\u001b[0m Still uploading 40 file(s), remaining 839.69 MB/1.67 GB\n",
      "\u001b[1;38;5;39mCOMET INFO:\u001b[0m Still uploading 30 asset(s), remaining 477.39 MB/1.25 GB, Throughput 24.13 MB/s, ETA ~20s\n",
      "\u001b[1;38;5;39mCOMET INFO:\u001b[0m Still uploading 21 asset(s), remaining 217.69 MB/896.96 MB, Throughput 17.30 MB/s, ETA ~13s\n",
      "\u001b[1;38;5;39mCOMET INFO:\u001b[0m Still uploading 11 asset(s), remaining 58.05 MB/469.84 MB, Throughput 10.64 MB/s, ETA ~6s\n",
      "\u001b[1;38;5;39mCOMET INFO:\u001b[0m Still uploading 1 asset(s), remaining 265.63 KB/42.71 MB, Throughput 3.85 MB/s, ETA ~1s\n"
     ]
    }
   ],
   "source": [
    "# End the experiment\n",
    "experiment.end()"
   ]
  }
 ],
 "metadata": {
  "kernelspec": {
   "display_name": "Python 3",
   "language": "python",
   "name": "python3"
  },
  "language_info": {
   "codemirror_mode": {
    "name": "ipython",
    "version": 3
   },
   "file_extension": ".py",
   "mimetype": "text/x-python",
   "name": "python",
   "nbconvert_exporter": "python",
   "pygments_lexer": "ipython3",
   "version": "3.12.0"
  }
 },
 "nbformat": 4,
 "nbformat_minor": 2
}
