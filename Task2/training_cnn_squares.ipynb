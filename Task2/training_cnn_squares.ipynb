{
 "cells": [
  {
   "cell_type": "code",
   "execution_count": 1,
   "metadata": {},
   "outputs": [],
   "source": [
    "import torch\n",
    "from torchvision import datasets, transforms, models\n",
    "from torch.utils.data import DataLoader\n",
    "import torch.nn as nn\n",
    "import torch.optim as optim\n",
    "from tqdm import tqdm"
   ]
  },
  {
   "cell_type": "code",
   "execution_count": 2,
   "metadata": {},
   "outputs": [],
   "source": [
    "import os\n",
    "N_WORKERS = os.cpu_count()\n",
    "device = torch.device('cuda' if torch.cuda.is_available() else 'cpu')"
   ]
  },
  {
   "cell_type": "code",
   "execution_count": 3,
   "metadata": {},
   "outputs": [
    {
     "name": "stderr",
     "output_type": "stream",
     "text": [
      "\u001b[1;38;5;214mCOMET WARNING:\u001b[0m To get all data logged automatically, import comet_ml before the following modules: torch.\n",
      "\u001b[1;38;5;214mCOMET WARNING:\u001b[0m As you are running in a Jupyter environment, you will need to call `experiment.end()` when finished to ensure all metrics and code are logged before exiting.\n",
      "\u001b[1;38;5;39mCOMET INFO:\u001b[0m Experiment is live on comet.com https://www.comet.com/cristy17001/resnet50-binary-classifier/8c7c248a117f45b9afad177154f694ed\n",
      "\n"
     ]
    }
   ],
   "source": [
    "from comet_ml import Experiment\n",
    "\n",
    "N_EPOCHS = 50\n",
    "\n",
    "# Create an instance of the Experiment class\n",
    "experiment = Experiment(\n",
    "    project_name=\"ResNet50 Binary Classifier\",  # Replace with your project name\n",
    "    workspace=\"cristy17001\"  # Replace with your workspace name\n",
    ")\n",
    "\n",
    "experiment.set_name(\"SqueezeNet_1.0_binary_classifier\")\n",
    "experiment.log_parameters({\n",
    "    \"model\": \"SqueezeNet 1.0\",\n",
    "    \"optimizer\": \"AdamW\",\n",
    "    \"lr\": 1e-4,\n",
    "    \"weight_decay\": 1e-5,\n",
    "    \"loss_function\": \"BCEWithLogitsLoss\",\n",
    "    \"scheduler\": \"ReduceLROnPlateau\",\n",
    "    \"pretrained\": True,\n",
    "    \"Patience\": 2,\n",
    "    \"batch_size\": 64,\n",
    "    \"epochs\": N_EPOCHS,\n",
    "})"
   ]
  },
  {
   "cell_type": "code",
   "execution_count": 4,
   "metadata": {},
   "outputs": [],
   "source": [
    "transform = transforms.Compose([\n",
    "    transforms.ToTensor(),\n",
    "    transforms.Normalize(mean=[0.485, 0.456, 0.406],\n",
    "                         std=[0.229, 0.224, 0.225])\n",
    "])"
   ]
  },
  {
   "cell_type": "markdown",
   "metadata": {},
   "source": [
    "#### Loading Data"
   ]
  },
  {
   "cell_type": "code",
   "execution_count": 5,
   "metadata": {},
   "outputs": [],
   "source": [
    "class ImageFolderWithPaths(datasets.ImageFolder):\n",
    "    def __getitem__(self, index):\n",
    "        # standard behavior\n",
    "        image, label = super().__getitem__(index)\n",
    "        # get the path\n",
    "        path = self.imgs[index][0]\n",
    "        return image, label, path"
   ]
  },
  {
   "cell_type": "code",
   "execution_count": 6,
   "metadata": {},
   "outputs": [],
   "source": [
    "train_dataset = ImageFolderWithPaths('split_by_presence/train', transform=transform)\n",
    "val_dataset = ImageFolderWithPaths('split_by_presence/val', transform=transform)\n",
    "test_dataset = ImageFolderWithPaths('split_by_presence/test', transform=transform)\n",
    "\n",
    "train_loader = DataLoader(train_dataset, batch_size=64, shuffle=True)\n",
    "val_loader = DataLoader(val_dataset, batch_size=64)\n",
    "test_loader = DataLoader(test_dataset, batch_size=64)"
   ]
  },
  {
   "cell_type": "markdown",
   "metadata": {},
   "source": [
    "### Training RESNET Models "
   ]
  },
  {
   "cell_type": "code",
   "execution_count": 7,
   "metadata": {},
   "outputs": [],
   "source": [
    "# # Define the Model\n",
    "# model = models.resnet50(weights=True)\n",
    "# num_features = model.fc.in_features\n",
    "# model.fc = nn.Linear(num_features, 1)\n",
    "# model = model.to(device)"
   ]
  },
  {
   "cell_type": "markdown",
   "metadata": {},
   "source": [
    "### Training MOBILENET Models"
   ]
  },
  {
   "cell_type": "code",
   "execution_count": 8,
   "metadata": {},
   "outputs": [],
   "source": [
    "# model = models.mobilenet_v3_large(weights=models.MobileNet_V3_Large_Weights.IMAGENET1K_V1)\n",
    "# num_features = model.classifier[3].in_features\n",
    "# model.classifier[3] = nn.Linear(num_features, 1)\n",
    "# model = model.to(device)"
   ]
  },
  {
   "cell_type": "markdown",
   "metadata": {},
   "source": [
    "### Training SqueezeNet Models"
   ]
  },
  {
   "cell_type": "code",
   "execution_count": 9,
   "metadata": {},
   "outputs": [
    {
     "name": "stderr",
     "output_type": "stream",
     "text": [
      "C:\\Users\\Cristiano\\AppData\\Roaming\\Python\\Python312\\site-packages\\torchvision\\models\\_utils.py:208: UserWarning: The parameter 'pretrained' is deprecated since 0.13 and may be removed in the future, please use 'weights' instead.\n",
      "  warnings.warn(\n",
      "C:\\Users\\Cristiano\\AppData\\Roaming\\Python\\Python312\\site-packages\\torchvision\\models\\_utils.py:223: UserWarning: Arguments other than a weight enum or `None` for 'weights' are deprecated since 0.13 and may be removed in the future. The current behavior is equivalent to passing `weights=SqueezeNet1_0_Weights.IMAGENET1K_V1`. You can also use `weights=SqueezeNet1_0_Weights.DEFAULT` to get the most up-to-date weights.\n",
      "  warnings.warn(msg)\n"
     ]
    }
   ],
   "source": [
    "model = models.squeezenet1_0(pretrained=True)\n",
    "model.classifier[1] = nn.Conv2d(512, 1, kernel_size=1)\n",
    "model.num_classes = 1\n",
    "\n",
    "class SqueezeNetBinary(nn.Module):\n",
    "    def __init__(self, base_model):\n",
    "        super().__init__()\n",
    "        self.base = base_model\n",
    "\n",
    "    def forward(self, x):\n",
    "        x = self.base(x)\n",
    "        return x.view(x.size(0), -1)  # Flatten to shape [batch_size, 1]\n",
    "\n",
    "model = SqueezeNetBinary(model).to(device)"
   ]
  },
  {
   "cell_type": "code",
   "execution_count": 10,
   "metadata": {},
   "outputs": [
    {
     "name": "stderr",
     "output_type": "stream",
     "text": [
      "C:\\Users\\Cristiano\\AppData\\Roaming\\Python\\Python312\\site-packages\\torch\\optim\\lr_scheduler.py:62: UserWarning: The verbose parameter is deprecated. Please use get_last_lr() to access the learning rate.\n",
      "  warnings.warn(\n"
     ]
    }
   ],
   "source": [
    "# Define loss function, optimizer and learning rate\n",
    "criterion = nn.BCEWithLogitsLoss()  # Good for binary output from linear layer\n",
    "optimizer = optim.AdamW(model.parameters(), lr=1e-4, weight_decay=1e-4)\n",
    "\n",
    "scheduler = optim.lr_scheduler.ReduceLROnPlateau(optimizer, mode='min', patience=2, factor=0.1, verbose=True)"
   ]
  },
  {
   "cell_type": "code",
   "execution_count": 11,
   "metadata": {},
   "outputs": [],
   "source": [
    "from collections import defaultdict\n",
    "from pathlib import Path\n",
    "import numpy as np\n",
    "from sklearn.metrics import mean_squared_error, accuracy_score, precision_score, recall_score, f1_score\n",
    "\n",
    "\n",
    "def evaluate(model, dataloader, criterion):\n",
    "    model.eval()\n",
    "    val_loss = 0.0\n",
    "\n",
    "    all_preds = []\n",
    "    all_labels = []\n",
    "\n",
    "    board_predictions = defaultdict(list)\n",
    "    board_truths = defaultdict(list)\n",
    "\n",
    "    with torch.no_grad():\n",
    "        for inputs, labels, filenames in dataloader:\n",
    "            inputs = inputs.to(device)\n",
    "            labels = labels.to(device).float().unsqueeze(1)\n",
    "            outputs = model(inputs)\n",
    "            loss = criterion(outputs, labels)\n",
    "            val_loss += loss.item()\n",
    "\n",
    "            probs = torch.sigmoid(outputs)\n",
    "            preds = (probs > 0.5).int().cpu().numpy()\n",
    "            labels_np = labels.cpu().numpy().astype(int)\n",
    "\n",
    "            all_preds.extend(preds.flatten())\n",
    "            all_labels.extend(labels_np.flatten())\n",
    "\n",
    "            for i in range(len(filenames)):\n",
    "                filename = Path(filenames[i]).name\n",
    "                board_id = \"_\".join(filename.split(\"_\")[:2])\n",
    "                board_predictions[board_id].append(preds[i][0])\n",
    "                board_truths[board_id].append(labels_np[i][0])\n",
    "\n",
    "    # Binary classification metrics\n",
    "    val_accuracy = accuracy_score(all_labels, all_preds)\n",
    "    precision = precision_score(all_labels, all_preds, zero_division=0)\n",
    "    recall = recall_score(all_labels, all_preds, zero_division=0)\n",
    "    f1 = f1_score(all_labels, all_preds, zero_division=0)\n",
    "\n",
    "    # Piece count metrics\n",
    "    pred_counts = [sum(vals) for vals in board_predictions.values()]\n",
    "    true_counts = [sum(vals) for vals in board_truths.values()]\n",
    "\n",
    "    mse = mean_squared_error(true_counts, pred_counts)\n",
    "    rmse = np.sqrt(mse)\n",
    "\n",
    "    # Piece count accuracy: fraction of boards with exact count match\n",
    "    exact_matches = sum([1 for p, t in zip(pred_counts, true_counts) if p == t]) # Joint count accuracy only correct if all board pieces are correctly predicted\n",
    "    piece_count_accuracy = exact_matches / len(true_counts) if true_counts else 0.0\n",
    "\n",
    "    avg_val_loss = val_loss / len(dataloader)\n",
    "\n",
    "    return avg_val_loss, val_accuracy, precision, recall, f1, mse, rmse, piece_count_accuracy"
   ]
  },
  {
   "cell_type": "code",
   "execution_count": 12,
   "metadata": {},
   "outputs": [],
   "source": [
    "import matplotlib.pyplot as plt\n",
    "import os\n",
    "from tqdm import tqdm\n",
    "import torch\n",
    "\n",
    "def train_model(model, train_loader, val_loader, optimizer, criterion, scheduler, num_epochs=10, save_best=True):\n",
    "    best_val_acc = 0.0\n",
    "    best_model_wts = model.state_dict()\n",
    "\n",
    "    history = {'train_loss': [], 'val_loss': [], 'train_acc': [], 'val_acc': []}\n",
    "\n",
    "    os.makedirs(\"checkpoints\", exist_ok=True)\n",
    "\n",
    "    for epoch in range(num_epochs):\n",
    "        print(f\"\\nEpoch {epoch + 1}/{num_epochs}\")\n",
    "        model.train()\n",
    "        train_loss, correct, total = 0.0, 0, 0\n",
    "\n",
    "        for inputs, labels, _ in tqdm(train_loader, desc=\"Training\"):\n",
    "            inputs, labels = inputs.to(device), labels.to(device).float().unsqueeze(1)\n",
    "            optimizer.zero_grad()\n",
    "            outputs = model(inputs)\n",
    "            loss = criterion(outputs, labels)\n",
    "            loss.backward()\n",
    "            optimizer.step()\n",
    "\n",
    "            train_loss += loss.item()\n",
    "            predictions = (torch.sigmoid(outputs) > 0.5).float()\n",
    "            correct += (predictions == labels).sum().item()\n",
    "            total += labels.size(0)\n",
    "\n",
    "        avg_train_loss = train_loss / len(train_loader)\n",
    "        train_accuracy = correct / total\n",
    "\n",
    "        val_loss, val_accuracy, precision, recall, f1, mse, rmse, piece_count_acc = evaluate(model, val_loader, criterion)\n",
    "\n",
    "        print(f\"Train Loss: {avg_train_loss:.4f} | Train Acc: {train_accuracy:.4f}\")\n",
    "        print(f\"Val   Loss: {val_loss:.4f} | Val   Acc: {val_accuracy:.4f}\")\n",
    "        print(f\"Val   Precision: {precision:.4f} | Recall: {recall:.4f} | F1: {f1:.4f}\")\n",
    "        print(f\"Piece Count MSE: {mse:.4f} | RMSE: {rmse:.4f} | Piece Count Acc: {piece_count_acc:.4f}\")\n",
    "\n",
    "        experiment.log_metrics({\n",
    "            \"train_loss\": avg_train_loss,\n",
    "            \"train_accuracy\": train_accuracy,\n",
    "            \"val_loss\": val_loss,\n",
    "            \"val_accuracy\": val_accuracy,\n",
    "            \"val_precision\": precision,\n",
    "            \"val_recall\": recall,\n",
    "            \"val_f1\": f1,\n",
    "            \"val_piece_count_mse\": mse,\n",
    "            \"val_piece_count_rmse\": rmse,\n",
    "            \"val_piece_count_accuracy\": piece_count_acc,\n",
    "            \"lr\": optimizer.param_groups[0]['lr']\n",
    "        }, epoch=epoch)\n",
    "\n",
    "        history['train_loss'].append(avg_train_loss)\n",
    "        history['val_loss'].append(val_loss)\n",
    "        history['train_acc'].append(train_accuracy)\n",
    "        history['val_acc'].append(val_accuracy)\n",
    "        history.setdefault('val_mse', []).append(mse)\n",
    "        history.setdefault('val_rmse', []).append(rmse)\n",
    "\n",
    "        # Save checkpoint\n",
    "        checkpoint_path = f\"checkpoints/epoch_{epoch+1}.pt\"\n",
    "        torch.save(model.state_dict(), checkpoint_path)\n",
    "        experiment.log_model(f\"model_epoch_{epoch+1}\", checkpoint_path)\n",
    "\n",
    "        # Save best model\n",
    "        if val_accuracy > best_val_acc:\n",
    "            best_val_acc = val_accuracy\n",
    "            best_model_wts = model.state_dict()\n",
    "            torch.save(best_model_wts, \"best_piece_classifier.pt\")\n",
    "            experiment.log_model(\"best_model\", \"best_piece_classifier.pt\")\n",
    "\n",
    "        # Step the scheduler with validation loss\n",
    "        scheduler.step(val_loss)\n",
    "\n",
    "    model.load_state_dict(best_model_wts)\n",
    "    return model, history"
   ]
  },
  {
   "cell_type": "markdown",
   "metadata": {},
   "source": [
    "### Evaluation of the Model"
   ]
  },
  {
   "cell_type": "code",
   "execution_count": null,
   "metadata": {},
   "outputs": [
    {
     "name": "stdout",
     "output_type": "stream",
     "text": [
      "\n",
      "Epoch 1/50\n"
     ]
    },
    {
     "name": "stderr",
     "output_type": "stream",
     "text": [
      "Training: 100%|██████████| 1442/1442 [02:30<00:00,  9.60it/s]\n"
     ]
    },
    {
     "name": "stdout",
     "output_type": "stream",
     "text": [
      "Train Loss: 0.4792 | Train Acc: 0.9497\n",
      "Val   Loss: 0.4973 | Val   Acc: 0.9914\n",
      "Val   Precision: 0.9734 | Recall: 0.9976 | F1: 0.9853\n",
      "Piece Count MSE: 0.8667 | RMSE: 0.9309 | Piece Count Acc: 0.6606\n",
      "\n",
      "Epoch 2/50\n"
     ]
    },
    {
     "name": "stderr",
     "output_type": "stream",
     "text": [
      "Training: 100%|██████████| 1442/1442 [01:58<00:00, 12.14it/s]\n"
     ]
    },
    {
     "name": "stdout",
     "output_type": "stream",
     "text": [
      "Train Loss: 0.4678 | Train Acc: 0.9903\n",
      "Val   Loss: 0.5022 | Val   Acc: 0.9968\n",
      "Val   Precision: 0.9946 | Recall: 0.9943 | F1: 0.9945\n",
      "Piece Count MSE: 0.2545 | RMSE: 0.5045 | Piece Count Acc: 0.8576\n",
      "\n",
      "Epoch 3/50\n"
     ]
    },
    {
     "name": "stderr",
     "output_type": "stream",
     "text": [
      "Training: 100%|██████████| 1442/1442 [01:58<00:00, 12.14it/s]\n"
     ]
    },
    {
     "name": "stdout",
     "output_type": "stream",
     "text": [
      "Train Loss: 0.4660 | Train Acc: 0.9946\n",
      "Val   Loss: 0.4960 | Val   Acc: 0.9949\n",
      "Val   Precision: 0.9833 | Recall: 0.9995 | F1: 0.9913\n",
      "Piece Count MSE: 0.5121 | RMSE: 0.7156 | Piece Count Acc: 0.7606\n",
      "\n",
      "Epoch 4/50\n"
     ]
    },
    {
     "name": "stderr",
     "output_type": "stream",
     "text": [
      "Training: 100%|██████████| 1442/1442 [01:58<00:00, 12.18it/s]\n"
     ]
    },
    {
     "name": "stdout",
     "output_type": "stream",
     "text": [
      "Train Loss: 0.4652 | Train Acc: 0.9964\n",
      "Val   Loss: 0.4941 | Val   Acc: 0.9976\n",
      "Val   Precision: 0.9927 | Recall: 0.9990 | F1: 0.9959\n",
      "Piece Count MSE: 0.2333 | RMSE: 0.4830 | Piece Count Acc: 0.8788\n",
      "\n",
      "Epoch 5/50\n"
     ]
    },
    {
     "name": "stderr",
     "output_type": "stream",
     "text": [
      "Training: 100%|██████████| 1442/1442 [01:56<00:00, 12.36it/s]\n"
     ]
    },
    {
     "name": "stdout",
     "output_type": "stream",
     "text": [
      "Train Loss: 0.4649 | Train Acc: 0.9968\n",
      "Val   Loss: 0.4943 | Val   Acc: 0.9966\n",
      "Val   Precision: 0.9886 | Recall: 1.0000 | F1: 0.9942\n",
      "Piece Count MSE: 0.2758 | RMSE: 0.5251 | Piece Count Acc: 0.8061\n",
      "\n",
      "Epoch 6/50\n"
     ]
    },
    {
     "name": "stderr",
     "output_type": "stream",
     "text": [
      "Training: 100%|██████████| 1442/1442 [02:01<00:00, 11.87it/s]\n"
     ]
    },
    {
     "name": "stdout",
     "output_type": "stream",
     "text": [
      "Train Loss: 0.4647 | Train Acc: 0.9977\n",
      "Val   Loss: 0.4937 | Val   Acc: 0.9984\n",
      "Val   Precision: 0.9950 | Recall: 0.9995 | F1: 0.9972\n",
      "Piece Count MSE: 0.1091 | RMSE: 0.3303 | Piece Count Acc: 0.9091\n",
      "\n",
      "Epoch 7/50\n"
     ]
    },
    {
     "name": "stderr",
     "output_type": "stream",
     "text": [
      "Training: 100%|██████████| 1442/1442 [01:59<00:00, 12.04it/s]\n"
     ]
    },
    {
     "name": "stdout",
     "output_type": "stream",
     "text": [
      "Train Loss: 0.4635 | Train Acc: 0.9984\n",
      "Val   Loss: 0.4941 | Val   Acc: 0.9988\n",
      "Val   Precision: 0.9974 | Recall: 0.9985 | F1: 0.9980\n",
      "Piece Count MSE: 0.1061 | RMSE: 0.3257 | Piece Count Acc: 0.9424\n",
      "\n",
      "Epoch 8/50\n"
     ]
    },
    {
     "name": "stderr",
     "output_type": "stream",
     "text": [
      "Training: 100%|██████████| 1442/1442 [02:00<00:00, 12.01it/s]\n"
     ]
    },
    {
     "name": "stdout",
     "output_type": "stream",
     "text": [
      "Train Loss: 0.4643 | Train Acc: 0.9980\n",
      "Val   Loss: 0.4960 | Val   Acc: 0.9966\n",
      "Val   Precision: 0.9886 | Recall: 1.0000 | F1: 0.9942\n",
      "Piece Count MSE: 0.3000 | RMSE: 0.5477 | Piece Count Acc: 0.8212\n",
      "\n",
      "Epoch 9/50\n"
     ]
    },
    {
     "name": "stderr",
     "output_type": "stream",
     "text": [
      "Training: 100%|██████████| 1442/1442 [01:59<00:00, 12.03it/s]\n"
     ]
    },
    {
     "name": "stdout",
     "output_type": "stream",
     "text": [
      "Train Loss: 0.4635 | Train Acc: 0.9987\n",
      "Val   Loss: 0.4931 | Val   Acc: 0.9991\n",
      "Val   Precision: 0.9980 | Recall: 0.9990 | F1: 0.9985\n",
      "Piece Count MSE: 0.0667 | RMSE: 0.2582 | Piece Count Acc: 0.9576\n",
      "\n",
      "Epoch 10/50\n"
     ]
    },
    {
     "name": "stderr",
     "output_type": "stream",
     "text": [
      "Training: 100%|██████████| 1442/1442 [02:00<00:00, 11.94it/s]\n"
     ]
    },
    {
     "name": "stdout",
     "output_type": "stream",
     "text": [
      "Train Loss: 0.4641 | Train Acc: 0.9984\n",
      "Val   Loss: 0.4951 | Val   Acc: 0.9983\n",
      "Val   Precision: 0.9976 | Recall: 0.9966 | F1: 0.9971\n",
      "Piece Count MSE: 0.1394 | RMSE: 0.3734 | Piece Count Acc: 0.9121\n",
      "\n",
      "Epoch 11/50\n"
     ]
    },
    {
     "name": "stderr",
     "output_type": "stream",
     "text": [
      "Training: 100%|██████████| 1442/1442 [01:59<00:00, 12.05it/s]\n"
     ]
    },
    {
     "name": "stdout",
     "output_type": "stream",
     "text": [
      "Train Loss: 0.4634 | Train Acc: 0.9989\n",
      "Val   Loss: 0.4942 | Val   Acc: 0.9984\n",
      "Val   Precision: 0.9946 | Recall: 0.9998 | F1: 0.9972\n",
      "Piece Count MSE: 0.1333 | RMSE: 0.3651 | Piece Count Acc: 0.9182\n",
      "\n",
      "Epoch 12/50\n"
     ]
    },
    {
     "name": "stderr",
     "output_type": "stream",
     "text": [
      "Training: 100%|██████████| 1442/1442 [01:59<00:00, 12.07it/s]\n"
     ]
    },
    {
     "name": "stdout",
     "output_type": "stream",
     "text": [
      "Train Loss: 0.4638 | Train Acc: 0.9988\n",
      "Val   Loss: 0.4944 | Val   Acc: 0.9976\n",
      "Val   Precision: 0.9927 | Recall: 0.9990 | F1: 0.9959\n",
      "Piece Count MSE: 0.1606 | RMSE: 0.4008 | Piece Count Acc: 0.8667\n",
      "\n",
      "Epoch 13/50\n"
     ]
    },
    {
     "name": "stderr",
     "output_type": "stream",
     "text": [
      "Training: 100%|██████████| 1442/1442 [01:58<00:00, 12.12it/s]\n"
     ]
    },
    {
     "name": "stdout",
     "output_type": "stream",
     "text": [
      "Train Loss: 0.4629 | Train Acc: 0.9994\n",
      "Val   Loss: 0.4931 | Val   Acc: 0.9990\n",
      "Val   Precision: 0.9969 | Recall: 0.9997 | F1: 0.9983\n",
      "Piece Count MSE: 0.0818 | RMSE: 0.2860 | Piece Count Acc: 0.9515\n",
      "\n",
      "Epoch 14/50\n"
     ]
    },
    {
     "name": "stderr",
     "output_type": "stream",
     "text": [
      "Training: 100%|██████████| 1442/1442 [01:57<00:00, 12.26it/s]\n"
     ]
    },
    {
     "name": "stdout",
     "output_type": "stream",
     "text": [
      "Train Loss: 0.4626 | Train Acc: 0.9997\n",
      "Val   Loss: 0.4936 | Val   Acc: 0.9982\n",
      "Val   Precision: 0.9940 | Recall: 0.9998 | F1: 0.9969\n",
      "Piece Count MSE: 0.1333 | RMSE: 0.3651 | Piece Count Acc: 0.9000\n",
      "\n",
      "Epoch 15/50\n"
     ]
    },
    {
     "name": "stderr",
     "output_type": "stream",
     "text": [
      "Training: 100%|██████████| 1442/1442 [01:57<00:00, 12.31it/s]\n"
     ]
    },
    {
     "name": "stdout",
     "output_type": "stream",
     "text": [
      "Train Loss: 0.4625 | Train Acc: 0.9997\n",
      "Val   Loss: 0.4934 | Val   Acc: 0.9986\n",
      "Val   Precision: 0.9955 | Recall: 0.9997 | F1: 0.9976\n",
      "Piece Count MSE: 0.1152 | RMSE: 0.3393 | Piece Count Acc: 0.9273\n",
      "\n",
      "Epoch 16/50\n"
     ]
    },
    {
     "name": "stderr",
     "output_type": "stream",
     "text": [
      "Training: 100%|██████████| 1442/1442 [01:54<00:00, 12.57it/s]\n"
     ]
    },
    {
     "name": "stdout",
     "output_type": "stream",
     "text": [
      "Train Loss: 0.4625 | Train Acc: 0.9998\n",
      "Val   Loss: 0.4935 | Val   Acc: 0.9986\n",
      "Val   Precision: 0.9955 | Recall: 0.9998 | F1: 0.9976\n",
      "Piece Count MSE: 0.1121 | RMSE: 0.3348 | Piece Count Acc: 0.9303\n",
      "\n",
      "Epoch 17/50\n"
     ]
    },
    {
     "name": "stderr",
     "output_type": "stream",
     "text": [
      "Training: 100%|██████████| 1442/1442 [01:59<00:00, 12.04it/s]\n"
     ]
    },
    {
     "name": "stdout",
     "output_type": "stream",
     "text": [
      "Train Loss: 0.4625 | Train Acc: 0.9998\n",
      "Val   Loss: 0.4934 | Val   Acc: 0.9986\n",
      "Val   Precision: 0.9953 | Recall: 0.9998 | F1: 0.9976\n",
      "Piece Count MSE: 0.1152 | RMSE: 0.3393 | Piece Count Acc: 0.9273\n",
      "\n",
      "Epoch 18/50\n"
     ]
    },
    {
     "name": "stderr",
     "output_type": "stream",
     "text": [
      "Training: 100%|██████████| 1442/1442 [01:57<00:00, 12.31it/s]\n"
     ]
    },
    {
     "name": "stdout",
     "output_type": "stream",
     "text": [
      "Train Loss: 0.4625 | Train Acc: 0.9998\n",
      "Val   Loss: 0.4934 | Val   Acc: 0.9987\n",
      "Val   Precision: 0.9956 | Recall: 0.9998 | F1: 0.9977\n",
      "Piece Count MSE: 0.1091 | RMSE: 0.3303 | Piece Count Acc: 0.9333\n",
      "\n",
      "Epoch 19/50\n"
     ]
    },
    {
     "name": "stderr",
     "output_type": "stream",
     "text": [
      "Training: 100%|██████████| 1442/1442 [02:01<00:00, 11.90it/s]\n"
     ]
    },
    {
     "name": "stdout",
     "output_type": "stream",
     "text": [
      "Train Loss: 0.4624 | Train Acc: 0.9999\n",
      "Val   Loss: 0.4934 | Val   Acc: 0.9987\n",
      "Val   Precision: 0.9956 | Recall: 0.9998 | F1: 0.9977\n",
      "Piece Count MSE: 0.1091 | RMSE: 0.3303 | Piece Count Acc: 0.9333\n",
      "\n",
      "Epoch 20/50\n"
     ]
    },
    {
     "name": "stderr",
     "output_type": "stream",
     "text": [
      "Training: 100%|██████████| 1442/1442 [01:58<00:00, 12.13it/s]\n"
     ]
    },
    {
     "name": "stdout",
     "output_type": "stream",
     "text": [
      "Train Loss: 0.4624 | Train Acc: 0.9999\n",
      "Val   Loss: 0.4935 | Val   Acc: 0.9986\n",
      "Val   Precision: 0.9953 | Recall: 0.9998 | F1: 0.9976\n",
      "Piece Count MSE: 0.1152 | RMSE: 0.3393 | Piece Count Acc: 0.9273\n",
      "\n",
      "Epoch 21/50\n"
     ]
    },
    {
     "name": "stderr",
     "output_type": "stream",
     "text": [
      "Training: 100%|██████████| 1442/1442 [01:56<00:00, 12.41it/s]\n"
     ]
    },
    {
     "name": "stdout",
     "output_type": "stream",
     "text": [
      "Train Loss: 0.4625 | Train Acc: 0.9998\n",
      "Val   Loss: 0.4934 | Val   Acc: 0.9986\n",
      "Val   Precision: 0.9955 | Recall: 0.9998 | F1: 0.9976\n",
      "Piece Count MSE: 0.1121 | RMSE: 0.3348 | Piece Count Acc: 0.9303\n",
      "\n",
      "Epoch 22/50\n"
     ]
    },
    {
     "name": "stderr",
     "output_type": "stream",
     "text": [
      "Training: 100%|██████████| 1442/1442 [02:00<00:00, 11.96it/s]\n"
     ]
    },
    {
     "name": "stdout",
     "output_type": "stream",
     "text": [
      "Train Loss: 0.4625 | Train Acc: 0.9998\n",
      "Val   Loss: 0.4934 | Val   Acc: 0.9986\n",
      "Val   Precision: 0.9955 | Recall: 0.9998 | F1: 0.9976\n",
      "Piece Count MSE: 0.1121 | RMSE: 0.3348 | Piece Count Acc: 0.9303\n",
      "\n",
      "Epoch 23/50\n"
     ]
    },
    {
     "name": "stderr",
     "output_type": "stream",
     "text": [
      "Training: 100%|██████████| 1442/1442 [01:55<00:00, 12.49it/s]\n"
     ]
    },
    {
     "name": "stdout",
     "output_type": "stream",
     "text": [
      "Train Loss: 0.4624 | Train Acc: 0.9999\n",
      "Val   Loss: 0.4934 | Val   Acc: 0.9986\n",
      "Val   Precision: 0.9955 | Recall: 0.9998 | F1: 0.9976\n",
      "Piece Count MSE: 0.1121 | RMSE: 0.3348 | Piece Count Acc: 0.9303\n",
      "\n",
      "Epoch 24/50\n"
     ]
    },
    {
     "name": "stderr",
     "output_type": "stream",
     "text": [
      "Training: 100%|██████████| 1442/1442 [02:00<00:00, 11.99it/s]\n"
     ]
    },
    {
     "name": "stdout",
     "output_type": "stream",
     "text": [
      "Train Loss: 0.4625 | Train Acc: 0.9998\n",
      "Val   Loss: 0.4934 | Val   Acc: 0.9986\n",
      "Val   Precision: 0.9955 | Recall: 0.9998 | F1: 0.9976\n",
      "Piece Count MSE: 0.1121 | RMSE: 0.3348 | Piece Count Acc: 0.9303\n",
      "\n",
      "Epoch 25/50\n"
     ]
    },
    {
     "name": "stderr",
     "output_type": "stream",
     "text": [
      "Training: 100%|██████████| 1442/1442 [01:59<00:00, 12.07it/s]\n"
     ]
    },
    {
     "name": "stdout",
     "output_type": "stream",
     "text": [
      "Train Loss: 0.4624 | Train Acc: 0.9999\n",
      "Val   Loss: 0.4934 | Val   Acc: 0.9986\n",
      "Val   Precision: 0.9955 | Recall: 0.9998 | F1: 0.9976\n",
      "Piece Count MSE: 0.1121 | RMSE: 0.3348 | Piece Count Acc: 0.9303\n",
      "\n",
      "Epoch 26/50\n"
     ]
    },
    {
     "name": "stderr",
     "output_type": "stream",
     "text": [
      "Training: 100%|██████████| 1442/1442 [02:01<00:00, 11.84it/s]\n"
     ]
    },
    {
     "name": "stdout",
     "output_type": "stream",
     "text": [
      "Train Loss: 0.4624 | Train Acc: 0.9999\n",
      "Val   Loss: 0.4934 | Val   Acc: 0.9986\n",
      "Val   Precision: 0.9955 | Recall: 0.9998 | F1: 0.9976\n",
      "Piece Count MSE: 0.1121 | RMSE: 0.3348 | Piece Count Acc: 0.9303\n",
      "\n",
      "Epoch 27/50\n"
     ]
    },
    {
     "name": "stderr",
     "output_type": "stream",
     "text": [
      "Training: 100%|██████████| 1442/1442 [02:02<00:00, 11.80it/s]\n"
     ]
    },
    {
     "name": "stdout",
     "output_type": "stream",
     "text": [
      "Train Loss: 0.4624 | Train Acc: 0.9999\n",
      "Val   Loss: 0.4934 | Val   Acc: 0.9986\n",
      "Val   Precision: 0.9955 | Recall: 0.9998 | F1: 0.9976\n",
      "Piece Count MSE: 0.1121 | RMSE: 0.3348 | Piece Count Acc: 0.9303\n",
      "\n",
      "Epoch 28/50\n"
     ]
    },
    {
     "name": "stderr",
     "output_type": "stream",
     "text": [
      "Training: 100%|██████████| 1442/1442 [02:02<00:00, 11.77it/s]\n"
     ]
    },
    {
     "name": "stdout",
     "output_type": "stream",
     "text": [
      "Train Loss: 0.4624 | Train Acc: 0.9998\n",
      "Val   Loss: 0.4934 | Val   Acc: 0.9986\n",
      "Val   Precision: 0.9955 | Recall: 0.9998 | F1: 0.9976\n",
      "Piece Count MSE: 0.1121 | RMSE: 0.3348 | Piece Count Acc: 0.9303\n",
      "\n",
      "Epoch 29/50\n"
     ]
    },
    {
     "name": "stderr",
     "output_type": "stream",
     "text": [
      "Training: 100%|██████████| 1442/1442 [01:59<00:00, 12.06it/s]\n"
     ]
    },
    {
     "name": "stdout",
     "output_type": "stream",
     "text": [
      "Train Loss: 0.4624 | Train Acc: 0.9999\n",
      "Val   Loss: 0.4934 | Val   Acc: 0.9986\n",
      "Val   Precision: 0.9955 | Recall: 0.9998 | F1: 0.9976\n",
      "Piece Count MSE: 0.1121 | RMSE: 0.3348 | Piece Count Acc: 0.9303\n",
      "\n",
      "Epoch 30/50\n"
     ]
    },
    {
     "name": "stderr",
     "output_type": "stream",
     "text": [
      "Training: 100%|██████████| 1442/1442 [01:56<00:00, 12.37it/s]\n"
     ]
    },
    {
     "name": "stdout",
     "output_type": "stream",
     "text": [
      "Train Loss: 0.4624 | Train Acc: 0.9999\n",
      "Val   Loss: 0.4934 | Val   Acc: 0.9986\n",
      "Val   Precision: 0.9955 | Recall: 0.9998 | F1: 0.9976\n",
      "Piece Count MSE: 0.1121 | RMSE: 0.3348 | Piece Count Acc: 0.9303\n",
      "\n",
      "Epoch 31/50\n"
     ]
    },
    {
     "name": "stderr",
     "output_type": "stream",
     "text": [
      "Training: 100%|██████████| 1442/1442 [01:57<00:00, 12.23it/s]\n"
     ]
    },
    {
     "name": "stdout",
     "output_type": "stream",
     "text": [
      "Train Loss: 0.4624 | Train Acc: 0.9999\n",
      "Val   Loss: 0.4934 | Val   Acc: 0.9986\n",
      "Val   Precision: 0.9955 | Recall: 0.9998 | F1: 0.9976\n",
      "Piece Count MSE: 0.1121 | RMSE: 0.3348 | Piece Count Acc: 0.9303\n",
      "\n",
      "Epoch 32/50\n"
     ]
    },
    {
     "name": "stderr",
     "output_type": "stream",
     "text": [
      "Training: 100%|██████████| 1442/1442 [01:57<00:00, 12.31it/s]\n"
     ]
    },
    {
     "name": "stdout",
     "output_type": "stream",
     "text": [
      "Train Loss: 0.4624 | Train Acc: 0.9999\n",
      "Val   Loss: 0.4934 | Val   Acc: 0.9986\n",
      "Val   Precision: 0.9955 | Recall: 0.9998 | F1: 0.9976\n",
      "Piece Count MSE: 0.1121 | RMSE: 0.3348 | Piece Count Acc: 0.9303\n",
      "\n",
      "Epoch 33/50\n"
     ]
    },
    {
     "name": "stderr",
     "output_type": "stream",
     "text": [
      "Training: 100%|██████████| 1442/1442 [01:57<00:00, 12.32it/s]\n"
     ]
    },
    {
     "name": "stdout",
     "output_type": "stream",
     "text": [
      "Train Loss: 0.4624 | Train Acc: 0.9999\n",
      "Val   Loss: 0.4934 | Val   Acc: 0.9986\n",
      "Val   Precision: 0.9955 | Recall: 0.9998 | F1: 0.9976\n",
      "Piece Count MSE: 0.1121 | RMSE: 0.3348 | Piece Count Acc: 0.9303\n",
      "\n",
      "Epoch 34/50\n"
     ]
    },
    {
     "name": "stderr",
     "output_type": "stream",
     "text": [
      "Training: 100%|██████████| 1442/1442 [01:56<00:00, 12.38it/s]\n"
     ]
    },
    {
     "name": "stdout",
     "output_type": "stream",
     "text": [
      "Train Loss: 0.4624 | Train Acc: 0.9999\n",
      "Val   Loss: 0.4934 | Val   Acc: 0.9986\n",
      "Val   Precision: 0.9953 | Recall: 0.9998 | F1: 0.9976\n",
      "Piece Count MSE: 0.1152 | RMSE: 0.3393 | Piece Count Acc: 0.9273\n",
      "\n",
      "Epoch 35/50\n"
     ]
    },
    {
     "name": "stderr",
     "output_type": "stream",
     "text": [
      "Training: 100%|██████████| 1442/1442 [02:00<00:00, 11.98it/s]\n"
     ]
    },
    {
     "name": "stdout",
     "output_type": "stream",
     "text": [
      "Train Loss: 0.4624 | Train Acc: 0.9999\n",
      "Val   Loss: 0.4934 | Val   Acc: 0.9986\n",
      "Val   Precision: 0.9953 | Recall: 0.9998 | F1: 0.9976\n",
      "Piece Count MSE: 0.1152 | RMSE: 0.3393 | Piece Count Acc: 0.9273\n",
      "\n",
      "Epoch 36/50\n"
     ]
    },
    {
     "name": "stderr",
     "output_type": "stream",
     "text": [
      "Training: 100%|██████████| 1442/1442 [02:01<00:00, 11.90it/s]\n"
     ]
    },
    {
     "name": "stdout",
     "output_type": "stream",
     "text": [
      "Train Loss: 0.4624 | Train Acc: 0.9998\n",
      "Val   Loss: 0.4934 | Val   Acc: 0.9986\n",
      "Val   Precision: 0.9953 | Recall: 0.9998 | F1: 0.9976\n",
      "Piece Count MSE: 0.1152 | RMSE: 0.3393 | Piece Count Acc: 0.9273\n",
      "\n",
      "Epoch 37/50\n"
     ]
    },
    {
     "name": "stderr",
     "output_type": "stream",
     "text": [
      "Training: 100%|██████████| 1442/1442 [02:01<00:00, 11.91it/s]\n"
     ]
    },
    {
     "name": "stdout",
     "output_type": "stream",
     "text": [
      "Train Loss: 0.4624 | Train Acc: 0.9999\n",
      "Val   Loss: 0.4934 | Val   Acc: 0.9986\n",
      "Val   Precision: 0.9955 | Recall: 0.9998 | F1: 0.9976\n",
      "Piece Count MSE: 0.1121 | RMSE: 0.3348 | Piece Count Acc: 0.9303\n",
      "\n",
      "Epoch 38/50\n"
     ]
    },
    {
     "name": "stderr",
     "output_type": "stream",
     "text": [
      "Training: 100%|██████████| 1442/1442 [01:58<00:00, 12.22it/s]\n"
     ]
    },
    {
     "name": "stdout",
     "output_type": "stream",
     "text": [
      "Train Loss: 0.4624 | Train Acc: 0.9999\n",
      "Val   Loss: 0.4934 | Val   Acc: 0.9986\n",
      "Val   Precision: 0.9953 | Recall: 0.9998 | F1: 0.9976\n",
      "Piece Count MSE: 0.1152 | RMSE: 0.3393 | Piece Count Acc: 0.9273\n",
      "\n",
      "Epoch 39/50\n"
     ]
    },
    {
     "name": "stderr",
     "output_type": "stream",
     "text": [
      "Training: 100%|██████████| 1442/1442 [01:57<00:00, 12.23it/s]\n"
     ]
    },
    {
     "name": "stdout",
     "output_type": "stream",
     "text": [
      "Train Loss: 0.4624 | Train Acc: 0.9999\n",
      "Val   Loss: 0.4934 | Val   Acc: 0.9986\n",
      "Val   Precision: 0.9953 | Recall: 0.9998 | F1: 0.9976\n",
      "Piece Count MSE: 0.1152 | RMSE: 0.3393 | Piece Count Acc: 0.9273\n",
      "\n",
      "Epoch 40/50\n"
     ]
    },
    {
     "name": "stderr",
     "output_type": "stream",
     "text": [
      "Training: 100%|██████████| 1442/1442 [02:00<00:00, 11.96it/s]\n"
     ]
    }
   ],
   "source": [
    "best_model, history = train_model(model, train_loader, val_loader, optimizer, criterion, scheduler, num_epochs=N_EPOCHS)\n",
    "\n",
    "# Save the best model\n",
    "torch.save(best_model.state_dict(), \"best_piece_classifier.pt\")"
   ]
  },
  {
   "cell_type": "code",
   "execution_count": null,
   "metadata": {},
   "outputs": [],
   "source": [
    "# End the experiment\n",
    "experiment.end()"
   ]
  }
 ],
 "metadata": {
  "kernelspec": {
   "display_name": "Python 3",
   "language": "python",
   "name": "python3"
  },
  "language_info": {
   "codemirror_mode": {
    "name": "ipython",
    "version": 3
   },
   "file_extension": ".py",
   "mimetype": "text/x-python",
   "name": "python",
   "nbconvert_exporter": "python",
   "pygments_lexer": "ipython3",
   "version": "3.12.0"
  }
 },
 "nbformat": 4,
 "nbformat_minor": 2
}
