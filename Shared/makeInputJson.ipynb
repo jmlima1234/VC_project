{
 "cells": [
  {
   "cell_type": "code",
   "execution_count": 1,
   "metadata": {},
   "outputs": [
    {
     "name": "stdout",
     "output_type": "stream",
     "text": [
      "Saved 306 entries to new_input.json\n"
     ]
    }
   ],
   "source": [
    "import os\n",
    "import json\n",
    "from pathlib import PurePosixPath\n",
    "\n",
    "def export_image_list(input_dir, prefix, output_path=\"image_files.json\"):\n",
    "    files = sorted([\n",
    "        f for f in os.listdir(input_dir)\n",
    "        if os.path.isfile(os.path.join(input_dir, f))\n",
    "    ])\n",
    "\n",
    "    image_paths = [str(PurePosixPath(prefix) / f) for f in files]\n",
    "\n",
    "    data = {\"image_files\": image_paths}\n",
    "\n",
    "    with open(output_path, 'w') as f:\n",
    "        json.dump(data, f, indent=2)\n",
    "\n",
    "    print(f\"Saved {len(image_paths)} entries to {output_path}\")\n",
    "\n",
    "# Example usage\n",
    "input_dir = \"./training_inputs/chessred2k_YOLO/test/images\"\n",
    "prefix = \"../Shared/training_inputs/chessred2k_YOLO/test/images\"\n",
    "output_path = \"new_input.json\"\n",
    "\n",
    "export_image_list(input_dir, prefix, output_path)\n"
   ]
  }
 ],
 "metadata": {
  "kernelspec": {
   "display_name": "Python 3",
   "language": "python",
   "name": "python3"
  },
  "language_info": {
   "codemirror_mode": {
    "name": "ipython",
    "version": 3
   },
   "file_extension": ".py",
   "mimetype": "text/x-python",
   "name": "python",
   "nbconvert_exporter": "python",
   "pygments_lexer": "ipython3",
   "version": "3.12.0"
  }
 },
 "nbformat": 4,
 "nbformat_minor": 2
}
