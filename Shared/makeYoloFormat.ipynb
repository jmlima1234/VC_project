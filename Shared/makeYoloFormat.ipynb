{
 "cells": [
  {
   "cell_type": "code",
   "execution_count": 6,
   "metadata": {},
   "outputs": [
    {
     "name": "stderr",
     "output_type": "stream",
     "text": [
      "complete/train: 100%|██████████| 6479/6479 [00:14<00:00, 444.43it/s]\n",
      "complete/val: 100%|██████████| 2192/2192 [00:04<00:00, 459.72it/s]\n",
      "complete/test: 100%|██████████| 2129/2129 [00:04<00:00, 441.62it/s]\n",
      "chessred2k/train: 100%|██████████| 1442/1442 [00:04<00:00, 360.20it/s]\n",
      "chessred2k/val: 100%|██████████| 330/330 [00:00<00:00, 350.60it/s]\n",
      "chessred2k/test: 100%|██████████| 306/306 [00:00<00:00, 352.66it/s]\n"
     ]
    }
   ],
   "source": [
    "import json\n",
    "from pathlib import Path\n",
    "import shutil\n",
    "from tqdm import tqdm\n",
    "\n",
    "# Caminhos base\n",
    "json_path = Path(\"annotations.json\")  # Atualiza se necessário\n",
    "image_dir = Path(\"all_images\")\n",
    "label_dir = Path(\"new_labels\")\n",
    "output_dir = Path(\"output\")\n",
    "\n",
    "# Ler JSON\n",
    "with open(json_path, 'r') as f:\n",
    "    data = json.load(f)\n",
    "\n",
    "# Helper para copiar imagens + labels\n",
    "def copy_split(image_ids, split_name, target_root):\n",
    "    images_out = target_root / split_name / \"images\"\n",
    "    labels_out = target_root / split_name / \"labels\"\n",
    "\n",
    "    images_out.mkdir(parents=True, exist_ok=True)\n",
    "    labels_out.mkdir(parents=True, exist_ok=True)\n",
    "\n",
    "    for img_id in tqdm(image_ids, desc=f\"{target_root.name}/{split_name}\"):\n",
    "        image_info = next(img for img in data['images'] if img['id'] == img_id)\n",
    "        file_name = image_info['file_name']\n",
    "        stem = Path(file_name).stem\n",
    "\n",
    "        # Copiar imagem\n",
    "        img_src = image_dir / file_name\n",
    "        img_dst = images_out / file_name\n",
    "        if img_src.exists():\n",
    "            shutil.copy2(img_src, img_dst)\n",
    "\n",
    "        # Copiar label\n",
    "        label_src = label_dir / f\"{stem}.txt\"\n",
    "        label_dst = labels_out / f\"{stem}.txt\"\n",
    "        if label_src.exists():\n",
    "            shutil.copy2(label_src, label_dst)\n",
    "\n",
    "# Criar splits principais (dataset completo)\n",
    "for split in ['train', 'val', 'test']:\n",
    "    ids = data['splits'][split]['image_ids']\n",
    "    copy_split(ids, split, output_dir / \"complete\")\n",
    "\n",
    "# Criar splits para chessred2k\n",
    "for split in ['train', 'val', 'test']:\n",
    "    ids = data['splits']['chessred2k'][split]['image_ids']\n",
    "    copy_split(ids, split, output_dir / \"chessred2k\")"
   ]
  }
 ],
 "metadata": {
  "kernelspec": {
   "display_name": "Python 3",
   "language": "python",
   "name": "python3"
  },
  "language_info": {
   "codemirror_mode": {
    "name": "ipython",
    "version": 3
   },
   "file_extension": ".py",
   "mimetype": "text/x-python",
   "name": "python",
   "nbconvert_exporter": "python",
   "pygments_lexer": "ipython3",
   "version": "3.12.0"
  }
 },
 "nbformat": 4,
 "nbformat_minor": 2
}
