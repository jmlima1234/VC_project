{
 "cells": [
  {
   "cell_type": "markdown",
   "metadata": {},
   "source": [
    "[Exemplos YOLO V11](https://docs.ultralytics.com/pt/modes/train/#usage-examples)"
   ]
  },
  {
   "cell_type": "markdown",
   "metadata": {},
   "source": [
    "### Train the Model"
   ]
  },
  {
   "cell_type": "code",
   "execution_count": 1,
   "metadata": {},
   "outputs": [
    {
     "name": "stdout",
     "output_type": "stream",
     "text": [
      "New https://pypi.org/project/ultralytics/8.3.137 available  Update with 'pip install -U ultralytics'\n",
      "Ultralytics 8.3.130  Python-3.12.0 torch-2.5.1+cu118 CUDA:0 (NVIDIA GeForce RTX 4070 Ti SUPER, 16376MiB)\n",
      "\u001b[34m\u001b[1mengine\\trainer: \u001b[0magnostic_nms=False, amp=True, augment=False, auto_augment=randaugment, batch=32, bgr=0.0, box=7.5, cache=False, cfg=None, classes=None, close_mosaic=10, cls=0.5, conf=None, copy_paste=0.0, copy_paste_mode=flip, cos_lr=True, cutmix=0.0, data=./data.yaml, degrees=0.0, deterministic=True, device=0, dfl=1.5, dnn=False, dropout=0.0, dynamic=False, embed=None, epochs=450, erasing=0.4, exist_ok=False, fliplr=0.5, flipud=0.0, format=torchscript, fraction=1.0, freeze=None, half=False, hsv_h=0.015, hsv_s=0.7, hsv_v=0.4, imgsz=640, int8=False, iou=0.7, keras=False, kobj=1.0, line_width=None, lr0=0.01, lrf=0.01, mask_ratio=4, max_det=300, mixup=0.0, mode=train, model=yolo12s.yaml, momentum=0.937, mosaic=1.0, multi_scale=False, name=V12SPretrained50AdamWCosLr, nbs=64, nms=False, opset=None, optimize=False, optimizer=AdamW, overlap_mask=True, patience=50, perspective=0.0, plots=True, pose=12.0, pretrained=True, profile=False, project=yolo-v12-chessred, rect=False, resume=False, retina_masks=False, save=True, save_conf=False, save_crop=False, save_dir=yolo-v12-chessred\\V12SPretrained50AdamWCosLr, save_frames=False, save_json=False, save_period=-1, save_txt=False, scale=0.5, seed=0, shear=0.0, show=False, show_boxes=True, show_conf=True, show_labels=True, simplify=True, single_cls=False, source=None, split=val, stream_buffer=False, task=detect, time=None, tracker=botsort.yaml, translate=0.1, val=True, verbose=True, vid_stride=1, visualize=True, warmup_bias_lr=0.1, warmup_epochs=3.0, warmup_momentum=0.8, weight_decay=0.0005, workers=8, workspace=None\n",
      "Overriding model.yaml nc=80 with nc=13\n",
      "\n",
      "                   from  n    params  module                                       arguments                     \n",
      "  0                  -1  1       928  ultralytics.nn.modules.conv.Conv             [3, 32, 3, 2]                 \n",
      "  1                  -1  1     18560  ultralytics.nn.modules.conv.Conv             [32, 64, 3, 2]                \n",
      "  2                  -1  1     26080  ultralytics.nn.modules.block.C3k2            [64, 128, 1, False, 0.25]     \n",
      "  3                  -1  1    147712  ultralytics.nn.modules.conv.Conv             [128, 128, 3, 2]              \n",
      "  4                  -1  1    103360  ultralytics.nn.modules.block.C3k2            [128, 256, 1, False, 0.25]    \n",
      "  5                  -1  1    590336  ultralytics.nn.modules.conv.Conv             [256, 256, 3, 2]              \n",
      "  6                  -1  2    689408  ultralytics.nn.modules.block.A2C2f           [256, 256, 2, True, 4]        \n",
      "  7                  -1  1   1180672  ultralytics.nn.modules.conv.Conv             [256, 512, 3, 2]              \n",
      "  8                  -1  2   2689536  ultralytics.nn.modules.block.A2C2f           [512, 512, 2, True, 1]        \n",
      "  9                  -1  1         0  torch.nn.modules.upsampling.Upsample         [None, 2, 'nearest']          \n",
      " 10             [-1, 6]  1         0  ultralytics.nn.modules.conv.Concat           [1]                           \n",
      " 11                  -1  1    345856  ultralytics.nn.modules.block.A2C2f           [768, 256, 1, False, -1]      \n",
      " 12                  -1  1         0  torch.nn.modules.upsampling.Upsample         [None, 2, 'nearest']          \n",
      " 13             [-1, 4]  1         0  ultralytics.nn.modules.conv.Concat           [1]                           \n",
      " 14                  -1  1     95104  ultralytics.nn.modules.block.A2C2f           [512, 128, 1, False, -1]      \n",
      " 15                  -1  1    147712  ultralytics.nn.modules.conv.Conv             [128, 128, 3, 2]              \n",
      " 16            [-1, 11]  1         0  ultralytics.nn.modules.conv.Concat           [1]                           \n",
      " 17                  -1  1    296704  ultralytics.nn.modules.block.A2C2f           [384, 256, 1, False, -1]      \n",
      " 18                  -1  1    590336  ultralytics.nn.modules.conv.Conv             [256, 256, 3, 2]              \n",
      " 19             [-1, 8]  1         0  ultralytics.nn.modules.conv.Concat           [1]                           \n",
      " 20                  -1  1   1511424  ultralytics.nn.modules.block.C3k2            [768, 512, 1, True]           \n",
      " 21        [14, 17, 20]  1    824439  ultralytics.nn.modules.head.Detect           [13, [128, 256, 512]]         \n",
      "YOLO12s summary: 272 layers, 9,258,167 parameters, 9,258,151 gradients, 21.5 GFLOPs\n",
      "\n"
     ]
    },
    {
     "name": "stderr",
     "output_type": "stream",
     "text": [
      "\u001b[1;38;5;214mCOMET WARNING:\u001b[0m To get all data logged automatically, import comet_ml before the following modules: torch.\n",
      "\u001b[1;38;5;214mCOMET WARNING:\u001b[0m As you are running in a Jupyter environment, you will need to call `experiment.end()` when finished to ensure all metrics and code are logged before exiting.\n",
      "\u001b[1;38;5;39mCOMET INFO:\u001b[0m Experiment is live on comet.com https://www.comet.com/cristy17001/yolo-v12-chessred/44fc1806a2da48e39922d20cc638a915\n",
      "\n"
     ]
    },
    {
     "name": "stdout",
     "output_type": "stream",
     "text": [
      "Freezing layer 'model.21.dfl.conv.weight'\n",
      "\u001b[34m\u001b[1mAMP: \u001b[0mrunning Automatic Mixed Precision (AMP) checks...\n",
      "\u001b[34m\u001b[1mAMP: \u001b[0mchecks passed \n",
      "\u001b[34m\u001b[1mtrain: \u001b[0mFast image access  (ping: 0.00.0 ms, read: 163.334.4 MB/s, size: 64.7 KB)\n"
     ]
    },
    {
     "name": "stderr",
     "output_type": "stream",
     "text": [
      "\u001b[34m\u001b[1mtrain: \u001b[0mScanning C:\\Users\\Cristiano\\Desktop\\Faculdade\\2 semestre\\VC\\project\\VC_project\\Shared\\training_inputs\\chessred2k_YOLO\\train\\labels.cache... 1442 images, 0 backgrounds, 0 corrupt: 100%|██████████| 1442/1442 [00:00<?, ?it/s]"
     ]
    },
    {
     "name": "stdout",
     "output_type": "stream",
     "text": [
      "\u001b[34m\u001b[1mtrain: \u001b[0mC:\\Users\\Cristiano\\Desktop\\Faculdade\\2 semestre\\VC\\project\\VC_project\\Shared\\training_inputs\\chessred2k_YOLO\\train\\images\\G019_IMG000.jpg: 32 duplicate labels removed\n",
      "\u001b[34m\u001b[1mtrain: \u001b[0mC:\\Users\\Cristiano\\Desktop\\Faculdade\\2 semestre\\VC\\project\\VC_project\\Shared\\training_inputs\\chessred2k_YOLO\\train\\images\\G019_IMG001.jpg: 32 duplicate labels removed\n",
      "\u001b[34m\u001b[1mtrain: \u001b[0mC:\\Users\\Cristiano\\Desktop\\Faculdade\\2 semestre\\VC\\project\\VC_project\\Shared\\training_inputs\\chessred2k_YOLO\\train\\images\\G019_IMG002.jpg: 32 duplicate labels removed\n",
      "\u001b[34m\u001b[1mtrain: \u001b[0mC:\\Users\\Cristiano\\Desktop\\Faculdade\\2 semestre\\VC\\project\\VC_project\\Shared\\training_inputs\\chessred2k_YOLO\\train\\images\\G019_IMG003.jpg: 32 duplicate labels removed\n",
      "\u001b[34m\u001b[1mtrain: \u001b[0mC:\\Users\\Cristiano\\Desktop\\Faculdade\\2 semestre\\VC\\project\\VC_project\\Shared\\training_inputs\\chessred2k_YOLO\\train\\images\\G019_IMG004.jpg: 32 duplicate labels removed\n",
      "\u001b[34m\u001b[1mtrain: \u001b[0mC:\\Users\\Cristiano\\Desktop\\Faculdade\\2 semestre\\VC\\project\\VC_project\\Shared\\training_inputs\\chessred2k_YOLO\\train\\images\\G019_IMG005.jpg: 32 duplicate labels removed\n",
      "\u001b[34m\u001b[1mtrain: \u001b[0mC:\\Users\\Cristiano\\Desktop\\Faculdade\\2 semestre\\VC\\project\\VC_project\\Shared\\training_inputs\\chessred2k_YOLO\\train\\images\\G019_IMG006.jpg: 32 duplicate labels removed\n",
      "\u001b[34m\u001b[1mtrain: \u001b[0mC:\\Users\\Cristiano\\Desktop\\Faculdade\\2 semestre\\VC\\project\\VC_project\\Shared\\training_inputs\\chessred2k_YOLO\\train\\images\\G019_IMG007.jpg: 32 duplicate labels removed\n",
      "\u001b[34m\u001b[1mtrain: \u001b[0mC:\\Users\\Cristiano\\Desktop\\Faculdade\\2 semestre\\VC\\project\\VC_project\\Shared\\training_inputs\\chessred2k_YOLO\\train\\images\\G019_IMG008.jpg: 32 duplicate labels removed\n",
      "\u001b[34m\u001b[1mtrain: \u001b[0mC:\\Users\\Cristiano\\Desktop\\Faculdade\\2 semestre\\VC\\project\\VC_project\\Shared\\training_inputs\\chessred2k_YOLO\\train\\images\\G019_IMG009.jpg: 31 duplicate labels removed\n",
      "\u001b[34m\u001b[1mtrain: \u001b[0mC:\\Users\\Cristiano\\Desktop\\Faculdade\\2 semestre\\VC\\project\\VC_project\\Shared\\training_inputs\\chessred2k_YOLO\\train\\images\\G019_IMG010.jpg: 30 duplicate labels removed\n",
      "\u001b[34m\u001b[1mtrain: \u001b[0mC:\\Users\\Cristiano\\Desktop\\Faculdade\\2 semestre\\VC\\project\\VC_project\\Shared\\training_inputs\\chessred2k_YOLO\\train\\images\\G019_IMG011.jpg: 29 duplicate labels removed\n",
      "\u001b[34m\u001b[1mtrain: \u001b[0mC:\\Users\\Cristiano\\Desktop\\Faculdade\\2 semestre\\VC\\project\\VC_project\\Shared\\training_inputs\\chessred2k_YOLO\\train\\images\\G019_IMG012.jpg: 28 duplicate labels removed\n",
      "\u001b[34m\u001b[1mtrain: \u001b[0mC:\\Users\\Cristiano\\Desktop\\Faculdade\\2 semestre\\VC\\project\\VC_project\\Shared\\training_inputs\\chessred2k_YOLO\\train\\images\\G019_IMG013.jpg: 28 duplicate labels removed\n",
      "\u001b[34m\u001b[1mtrain: \u001b[0mC:\\Users\\Cristiano\\Desktop\\Faculdade\\2 semestre\\VC\\project\\VC_project\\Shared\\training_inputs\\chessred2k_YOLO\\train\\images\\G019_IMG014.jpg: 28 duplicate labels removed\n",
      "\u001b[34m\u001b[1mtrain: \u001b[0mC:\\Users\\Cristiano\\Desktop\\Faculdade\\2 semestre\\VC\\project\\VC_project\\Shared\\training_inputs\\chessred2k_YOLO\\train\\images\\G019_IMG015.jpg: 28 duplicate labels removed\n",
      "\u001b[34m\u001b[1mtrain: \u001b[0mC:\\Users\\Cristiano\\Desktop\\Faculdade\\2 semestre\\VC\\project\\VC_project\\Shared\\training_inputs\\chessred2k_YOLO\\train\\images\\G019_IMG016.jpg: 28 duplicate labels removed\n",
      "\u001b[34m\u001b[1mtrain: \u001b[0mC:\\Users\\Cristiano\\Desktop\\Faculdade\\2 semestre\\VC\\project\\VC_project\\Shared\\training_inputs\\chessred2k_YOLO\\train\\images\\G019_IMG017.jpg: 28 duplicate labels removed\n",
      "\u001b[34m\u001b[1mtrain: \u001b[0mC:\\Users\\Cristiano\\Desktop\\Faculdade\\2 semestre\\VC\\project\\VC_project\\Shared\\training_inputs\\chessred2k_YOLO\\train\\images\\G019_IMG018.jpg: 28 duplicate labels removed\n",
      "\u001b[34m\u001b[1mtrain: \u001b[0mC:\\Users\\Cristiano\\Desktop\\Faculdade\\2 semestre\\VC\\project\\VC_project\\Shared\\training_inputs\\chessred2k_YOLO\\train\\images\\G019_IMG019.jpg: 28 duplicate labels removed\n",
      "\u001b[34m\u001b[1mtrain: \u001b[0mC:\\Users\\Cristiano\\Desktop\\Faculdade\\2 semestre\\VC\\project\\VC_project\\Shared\\training_inputs\\chessred2k_YOLO\\train\\images\\G019_IMG020.jpg: 28 duplicate labels removed\n",
      "\u001b[34m\u001b[1mtrain: \u001b[0mC:\\Users\\Cristiano\\Desktop\\Faculdade\\2 semestre\\VC\\project\\VC_project\\Shared\\training_inputs\\chessred2k_YOLO\\train\\images\\G019_IMG021.jpg: 28 duplicate labels removed\n",
      "\u001b[34m\u001b[1mtrain: \u001b[0mC:\\Users\\Cristiano\\Desktop\\Faculdade\\2 semestre\\VC\\project\\VC_project\\Shared\\training_inputs\\chessred2k_YOLO\\train\\images\\G019_IMG022.jpg: 28 duplicate labels removed\n",
      "\u001b[34m\u001b[1mtrain: \u001b[0mC:\\Users\\Cristiano\\Desktop\\Faculdade\\2 semestre\\VC\\project\\VC_project\\Shared\\training_inputs\\chessred2k_YOLO\\train\\images\\G019_IMG023.jpg: 28 duplicate labels removed\n",
      "\u001b[34m\u001b[1mtrain: \u001b[0mC:\\Users\\Cristiano\\Desktop\\Faculdade\\2 semestre\\VC\\project\\VC_project\\Shared\\training_inputs\\chessred2k_YOLO\\train\\images\\G019_IMG024.jpg: 28 duplicate labels removed\n",
      "\u001b[34m\u001b[1mtrain: \u001b[0mC:\\Users\\Cristiano\\Desktop\\Faculdade\\2 semestre\\VC\\project\\VC_project\\Shared\\training_inputs\\chessred2k_YOLO\\train\\images\\G019_IMG025.jpg: 28 duplicate labels removed\n",
      "\u001b[34m\u001b[1mtrain: \u001b[0mC:\\Users\\Cristiano\\Desktop\\Faculdade\\2 semestre\\VC\\project\\VC_project\\Shared\\training_inputs\\chessred2k_YOLO\\train\\images\\G019_IMG026.jpg: 28 duplicate labels removed\n",
      "\u001b[34m\u001b[1mtrain: \u001b[0mC:\\Users\\Cristiano\\Desktop\\Faculdade\\2 semestre\\VC\\project\\VC_project\\Shared\\training_inputs\\chessred2k_YOLO\\train\\images\\G019_IMG027.jpg: 28 duplicate labels removed\n",
      "\u001b[34m\u001b[1mtrain: \u001b[0mC:\\Users\\Cristiano\\Desktop\\Faculdade\\2 semestre\\VC\\project\\VC_project\\Shared\\training_inputs\\chessred2k_YOLO\\train\\images\\G019_IMG028.jpg: 28 duplicate labels removed\n",
      "\u001b[34m\u001b[1mtrain: \u001b[0mC:\\Users\\Cristiano\\Desktop\\Faculdade\\2 semestre\\VC\\project\\VC_project\\Shared\\training_inputs\\chessred2k_YOLO\\train\\images\\G019_IMG029.jpg: 28 duplicate labels removed\n",
      "\u001b[34m\u001b[1mtrain: \u001b[0mC:\\Users\\Cristiano\\Desktop\\Faculdade\\2 semestre\\VC\\project\\VC_project\\Shared\\training_inputs\\chessred2k_YOLO\\train\\images\\G019_IMG030.jpg: 28 duplicate labels removed\n",
      "\u001b[34m\u001b[1mtrain: \u001b[0mC:\\Users\\Cristiano\\Desktop\\Faculdade\\2 semestre\\VC\\project\\VC_project\\Shared\\training_inputs\\chessred2k_YOLO\\train\\images\\G019_IMG031.jpg: 28 duplicate labels removed\n",
      "\u001b[34m\u001b[1mtrain: \u001b[0mC:\\Users\\Cristiano\\Desktop\\Faculdade\\2 semestre\\VC\\project\\VC_project\\Shared\\training_inputs\\chessred2k_YOLO\\train\\images\\G019_IMG032.jpg: 28 duplicate labels removed\n",
      "\u001b[34m\u001b[1mtrain: \u001b[0mC:\\Users\\Cristiano\\Desktop\\Faculdade\\2 semestre\\VC\\project\\VC_project\\Shared\\training_inputs\\chessred2k_YOLO\\train\\images\\G019_IMG033.jpg: 27 duplicate labels removed\n",
      "\u001b[34m\u001b[1mtrain: \u001b[0mC:\\Users\\Cristiano\\Desktop\\Faculdade\\2 semestre\\VC\\project\\VC_project\\Shared\\training_inputs\\chessred2k_YOLO\\train\\images\\G019_IMG034.jpg: 26 duplicate labels removed\n",
      "\u001b[34m\u001b[1mtrain: \u001b[0mC:\\Users\\Cristiano\\Desktop\\Faculdade\\2 semestre\\VC\\project\\VC_project\\Shared\\training_inputs\\chessred2k_YOLO\\train\\images\\G019_IMG035.jpg: 26 duplicate labels removed\n",
      "\u001b[34m\u001b[1mtrain: \u001b[0mC:\\Users\\Cristiano\\Desktop\\Faculdade\\2 semestre\\VC\\project\\VC_project\\Shared\\training_inputs\\chessred2k_YOLO\\train\\images\\G019_IMG036.jpg: 25 duplicate labels removed\n",
      "\u001b[34m\u001b[1mtrain: \u001b[0mC:\\Users\\Cristiano\\Desktop\\Faculdade\\2 semestre\\VC\\project\\VC_project\\Shared\\training_inputs\\chessred2k_YOLO\\train\\images\\G019_IMG037.jpg: 24 duplicate labels removed\n",
      "\u001b[34m\u001b[1mtrain: \u001b[0mC:\\Users\\Cristiano\\Desktop\\Faculdade\\2 semestre\\VC\\project\\VC_project\\Shared\\training_inputs\\chessred2k_YOLO\\train\\images\\G019_IMG038.jpg: 24 duplicate labels removed\n",
      "\u001b[34m\u001b[1mtrain: \u001b[0mC:\\Users\\Cristiano\\Desktop\\Faculdade\\2 semestre\\VC\\project\\VC_project\\Shared\\training_inputs\\chessred2k_YOLO\\train\\images\\G019_IMG039.jpg: 24 duplicate labels removed\n",
      "\u001b[34m\u001b[1mtrain: \u001b[0mC:\\Users\\Cristiano\\Desktop\\Faculdade\\2 semestre\\VC\\project\\VC_project\\Shared\\training_inputs\\chessred2k_YOLO\\train\\images\\G019_IMG040.jpg: 24 duplicate labels removed\n",
      "\u001b[34m\u001b[1mtrain: \u001b[0mC:\\Users\\Cristiano\\Desktop\\Faculdade\\2 semestre\\VC\\project\\VC_project\\Shared\\training_inputs\\chessred2k_YOLO\\train\\images\\G019_IMG041.jpg: 24 duplicate labels removed\n",
      "\u001b[34m\u001b[1mtrain: \u001b[0mC:\\Users\\Cristiano\\Desktop\\Faculdade\\2 semestre\\VC\\project\\VC_project\\Shared\\training_inputs\\chessred2k_YOLO\\train\\images\\G019_IMG042.jpg: 24 duplicate labels removed\n",
      "\u001b[34m\u001b[1mtrain: \u001b[0mC:\\Users\\Cristiano\\Desktop\\Faculdade\\2 semestre\\VC\\project\\VC_project\\Shared\\training_inputs\\chessred2k_YOLO\\train\\images\\G019_IMG043.jpg: 23 duplicate labels removed\n",
      "\u001b[34m\u001b[1mtrain: \u001b[0mC:\\Users\\Cristiano\\Desktop\\Faculdade\\2 semestre\\VC\\project\\VC_project\\Shared\\training_inputs\\chessred2k_YOLO\\train\\images\\G019_IMG044.jpg: 22 duplicate labels removed\n",
      "\u001b[34m\u001b[1mtrain: \u001b[0mC:\\Users\\Cristiano\\Desktop\\Faculdade\\2 semestre\\VC\\project\\VC_project\\Shared\\training_inputs\\chessred2k_YOLO\\train\\images\\G019_IMG045.jpg: 22 duplicate labels removed\n",
      "\u001b[34m\u001b[1mtrain: \u001b[0mC:\\Users\\Cristiano\\Desktop\\Faculdade\\2 semestre\\VC\\project\\VC_project\\Shared\\training_inputs\\chessred2k_YOLO\\train\\images\\G019_IMG046.jpg: 22 duplicate labels removed\n",
      "\u001b[34m\u001b[1mtrain: \u001b[0mC:\\Users\\Cristiano\\Desktop\\Faculdade\\2 semestre\\VC\\project\\VC_project\\Shared\\training_inputs\\chessred2k_YOLO\\train\\images\\G019_IMG047.jpg: 22 duplicate labels removed\n",
      "\u001b[34m\u001b[1mtrain: \u001b[0mC:\\Users\\Cristiano\\Desktop\\Faculdade\\2 semestre\\VC\\project\\VC_project\\Shared\\training_inputs\\chessred2k_YOLO\\train\\images\\G019_IMG048.jpg: 22 duplicate labels removed\n",
      "\u001b[34m\u001b[1mtrain: \u001b[0mC:\\Users\\Cristiano\\Desktop\\Faculdade\\2 semestre\\VC\\project\\VC_project\\Shared\\training_inputs\\chessred2k_YOLO\\train\\images\\G019_IMG049.jpg: 22 duplicate labels removed\n",
      "\u001b[34m\u001b[1mtrain: \u001b[0mC:\\Users\\Cristiano\\Desktop\\Faculdade\\2 semestre\\VC\\project\\VC_project\\Shared\\training_inputs\\chessred2k_YOLO\\train\\images\\G019_IMG050.jpg: 22 duplicate labels removed\n",
      "\u001b[34m\u001b[1mtrain: \u001b[0mC:\\Users\\Cristiano\\Desktop\\Faculdade\\2 semestre\\VC\\project\\VC_project\\Shared\\training_inputs\\chessred2k_YOLO\\train\\images\\G019_IMG051.jpg: 22 duplicate labels removed\n",
      "\u001b[34m\u001b[1mtrain: \u001b[0mC:\\Users\\Cristiano\\Desktop\\Faculdade\\2 semestre\\VC\\project\\VC_project\\Shared\\training_inputs\\chessred2k_YOLO\\train\\images\\G019_IMG052.jpg: 22 duplicate labels removed\n",
      "\u001b[34m\u001b[1mtrain: \u001b[0mC:\\Users\\Cristiano\\Desktop\\Faculdade\\2 semestre\\VC\\project\\VC_project\\Shared\\training_inputs\\chessred2k_YOLO\\train\\images\\G019_IMG053.jpg: 22 duplicate labels removed\n",
      "\u001b[34m\u001b[1mtrain: \u001b[0mC:\\Users\\Cristiano\\Desktop\\Faculdade\\2 semestre\\VC\\project\\VC_project\\Shared\\training_inputs\\chessred2k_YOLO\\train\\images\\G019_IMG054.jpg: 22 duplicate labels removed\n",
      "\u001b[34m\u001b[1mtrain: \u001b[0mC:\\Users\\Cristiano\\Desktop\\Faculdade\\2 semestre\\VC\\project\\VC_project\\Shared\\training_inputs\\chessred2k_YOLO\\train\\images\\G019_IMG055.jpg: 22 duplicate labels removed\n",
      "\u001b[34m\u001b[1mtrain: \u001b[0mC:\\Users\\Cristiano\\Desktop\\Faculdade\\2 semestre\\VC\\project\\VC_project\\Shared\\training_inputs\\chessred2k_YOLO\\train\\images\\G019_IMG056.jpg: 22 duplicate labels removed\n",
      "\u001b[34m\u001b[1mtrain: \u001b[0mC:\\Users\\Cristiano\\Desktop\\Faculdade\\2 semestre\\VC\\project\\VC_project\\Shared\\training_inputs\\chessred2k_YOLO\\train\\images\\G019_IMG057.jpg: 22 duplicate labels removed\n",
      "\u001b[34m\u001b[1mtrain: \u001b[0mC:\\Users\\Cristiano\\Desktop\\Faculdade\\2 semestre\\VC\\project\\VC_project\\Shared\\training_inputs\\chessred2k_YOLO\\train\\images\\G019_IMG058.jpg: 22 duplicate labels removed\n",
      "\u001b[34m\u001b[1mtrain: \u001b[0mC:\\Users\\Cristiano\\Desktop\\Faculdade\\2 semestre\\VC\\project\\VC_project\\Shared\\training_inputs\\chessred2k_YOLO\\train\\images\\G019_IMG059.jpg: 22 duplicate labels removed\n",
      "\u001b[34m\u001b[1mtrain: \u001b[0mC:\\Users\\Cristiano\\Desktop\\Faculdade\\2 semestre\\VC\\project\\VC_project\\Shared\\training_inputs\\chessred2k_YOLO\\train\\images\\G019_IMG060.jpg: 22 duplicate labels removed\n",
      "\u001b[34m\u001b[1mtrain: \u001b[0mC:\\Users\\Cristiano\\Desktop\\Faculdade\\2 semestre\\VC\\project\\VC_project\\Shared\\training_inputs\\chessred2k_YOLO\\train\\images\\G019_IMG061.jpg: 22 duplicate labels removed\n",
      "\u001b[34m\u001b[1mtrain: \u001b[0mC:\\Users\\Cristiano\\Desktop\\Faculdade\\2 semestre\\VC\\project\\VC_project\\Shared\\training_inputs\\chessred2k_YOLO\\train\\images\\G019_IMG062.jpg: 22 duplicate labels removed\n",
      "\u001b[34m\u001b[1mtrain: \u001b[0mC:\\Users\\Cristiano\\Desktop\\Faculdade\\2 semestre\\VC\\project\\VC_project\\Shared\\training_inputs\\chessred2k_YOLO\\train\\images\\G019_IMG063.jpg: 22 duplicate labels removed\n",
      "\u001b[34m\u001b[1mtrain: \u001b[0mC:\\Users\\Cristiano\\Desktop\\Faculdade\\2 semestre\\VC\\project\\VC_project\\Shared\\training_inputs\\chessred2k_YOLO\\train\\images\\G019_IMG064.jpg: 22 duplicate labels removed\n",
      "\u001b[34m\u001b[1mtrain: \u001b[0mC:\\Users\\Cristiano\\Desktop\\Faculdade\\2 semestre\\VC\\project\\VC_project\\Shared\\training_inputs\\chessred2k_YOLO\\train\\images\\G019_IMG065.jpg: 22 duplicate labels removed\n",
      "\u001b[34m\u001b[1mtrain: \u001b[0mC:\\Users\\Cristiano\\Desktop\\Faculdade\\2 semestre\\VC\\project\\VC_project\\Shared\\training_inputs\\chessred2k_YOLO\\train\\images\\G019_IMG066.jpg: 22 duplicate labels removed\n",
      "\u001b[34m\u001b[1mtrain: \u001b[0mC:\\Users\\Cristiano\\Desktop\\Faculdade\\2 semestre\\VC\\project\\VC_project\\Shared\\training_inputs\\chessred2k_YOLO\\train\\images\\G019_IMG067.jpg: 22 duplicate labels removed\n",
      "\u001b[34m\u001b[1mtrain: \u001b[0mC:\\Users\\Cristiano\\Desktop\\Faculdade\\2 semestre\\VC\\project\\VC_project\\Shared\\training_inputs\\chessred2k_YOLO\\train\\images\\G019_IMG068.jpg: 22 duplicate labels removed\n",
      "\u001b[34m\u001b[1mtrain: \u001b[0mC:\\Users\\Cristiano\\Desktop\\Faculdade\\2 semestre\\VC\\project\\VC_project\\Shared\\training_inputs\\chessred2k_YOLO\\train\\images\\G019_IMG069.jpg: 22 duplicate labels removed\n",
      "\u001b[34m\u001b[1mtrain: \u001b[0mC:\\Users\\Cristiano\\Desktop\\Faculdade\\2 semestre\\VC\\project\\VC_project\\Shared\\training_inputs\\chessred2k_YOLO\\train\\images\\G019_IMG070.jpg: 22 duplicate labels removed\n",
      "\u001b[34m\u001b[1mtrain: \u001b[0mC:\\Users\\Cristiano\\Desktop\\Faculdade\\2 semestre\\VC\\project\\VC_project\\Shared\\training_inputs\\chessred2k_YOLO\\train\\images\\G019_IMG071.jpg: 21 duplicate labels removed\n",
      "\u001b[34m\u001b[1mtrain: \u001b[0mC:\\Users\\Cristiano\\Desktop\\Faculdade\\2 semestre\\VC\\project\\VC_project\\Shared\\training_inputs\\chessred2k_YOLO\\train\\images\\G019_IMG072.jpg: 20 duplicate labels removed\n",
      "\u001b[34m\u001b[1mtrain: \u001b[0mC:\\Users\\Cristiano\\Desktop\\Faculdade\\2 semestre\\VC\\project\\VC_project\\Shared\\training_inputs\\chessred2k_YOLO\\train\\images\\G019_IMG073.jpg: 19 duplicate labels removed\n",
      "\u001b[34m\u001b[1mtrain: \u001b[0mC:\\Users\\Cristiano\\Desktop\\Faculdade\\2 semestre\\VC\\project\\VC_project\\Shared\\training_inputs\\chessred2k_YOLO\\train\\images\\G019_IMG074.jpg: 18 duplicate labels removed\n",
      "\u001b[34m\u001b[1mtrain: \u001b[0mC:\\Users\\Cristiano\\Desktop\\Faculdade\\2 semestre\\VC\\project\\VC_project\\Shared\\training_inputs\\chessred2k_YOLO\\train\\images\\G019_IMG075.jpg: 17 duplicate labels removed\n",
      "\u001b[34m\u001b[1mtrain: \u001b[0mC:\\Users\\Cristiano\\Desktop\\Faculdade\\2 semestre\\VC\\project\\VC_project\\Shared\\training_inputs\\chessred2k_YOLO\\train\\images\\G019_IMG076.jpg: 16 duplicate labels removed\n",
      "\u001b[34m\u001b[1mtrain: \u001b[0mC:\\Users\\Cristiano\\Desktop\\Faculdade\\2 semestre\\VC\\project\\VC_project\\Shared\\training_inputs\\chessred2k_YOLO\\train\\images\\G019_IMG077.jpg: 16 duplicate labels removed\n",
      "\u001b[34m\u001b[1mtrain: \u001b[0mC:\\Users\\Cristiano\\Desktop\\Faculdade\\2 semestre\\VC\\project\\VC_project\\Shared\\training_inputs\\chessred2k_YOLO\\train\\images\\G019_IMG078.jpg: 16 duplicate labels removed\n",
      "\u001b[34m\u001b[1mtrain: \u001b[0mC:\\Users\\Cristiano\\Desktop\\Faculdade\\2 semestre\\VC\\project\\VC_project\\Shared\\training_inputs\\chessred2k_YOLO\\train\\images\\G019_IMG079.jpg: 15 duplicate labels removed\n",
      "\u001b[34m\u001b[1mtrain: \u001b[0mC:\\Users\\Cristiano\\Desktop\\Faculdade\\2 semestre\\VC\\project\\VC_project\\Shared\\training_inputs\\chessred2k_YOLO\\train\\images\\G019_IMG080.jpg: 14 duplicate labels removed\n",
      "\u001b[34m\u001b[1mtrain: \u001b[0mC:\\Users\\Cristiano\\Desktop\\Faculdade\\2 semestre\\VC\\project\\VC_project\\Shared\\training_inputs\\chessred2k_YOLO\\train\\images\\G019_IMG081.jpg: 14 duplicate labels removed\n",
      "\u001b[34m\u001b[1mtrain: \u001b[0mC:\\Users\\Cristiano\\Desktop\\Faculdade\\2 semestre\\VC\\project\\VC_project\\Shared\\training_inputs\\chessred2k_YOLO\\train\\images\\G019_IMG082.jpg: 14 duplicate labels removed\n",
      "\u001b[34m\u001b[1mtrain: \u001b[0mC:\\Users\\Cristiano\\Desktop\\Faculdade\\2 semestre\\VC\\project\\VC_project\\Shared\\training_inputs\\chessred2k_YOLO\\train\\images\\G019_IMG083.jpg: 13 duplicate labels removed\n",
      "\u001b[34m\u001b[1mtrain: \u001b[0mC:\\Users\\Cristiano\\Desktop\\Faculdade\\2 semestre\\VC\\project\\VC_project\\Shared\\training_inputs\\chessred2k_YOLO\\train\\images\\G019_IMG084.jpg: 12 duplicate labels removed\n",
      "\u001b[34m\u001b[1mtrain: \u001b[0mC:\\Users\\Cristiano\\Desktop\\Faculdade\\2 semestre\\VC\\project\\VC_project\\Shared\\training_inputs\\chessred2k_YOLO\\train\\images\\G019_IMG085.jpg: 11 duplicate labels removed\n",
      "\u001b[34m\u001b[1mtrain: \u001b[0mC:\\Users\\Cristiano\\Desktop\\Faculdade\\2 semestre\\VC\\project\\VC_project\\Shared\\training_inputs\\chessred2k_YOLO\\train\\images\\G019_IMG086.jpg: 11 duplicate labels removed\n",
      "\u001b[34m\u001b[1mtrain: \u001b[0mC:\\Users\\Cristiano\\Desktop\\Faculdade\\2 semestre\\VC\\project\\VC_project\\Shared\\training_inputs\\chessred2k_YOLO\\train\\images\\G019_IMG087.jpg: 11 duplicate labels removed\n",
      "\u001b[34m\u001b[1mtrain: \u001b[0mC:\\Users\\Cristiano\\Desktop\\Faculdade\\2 semestre\\VC\\project\\VC_project\\Shared\\training_inputs\\chessred2k_YOLO\\train\\images\\G019_IMG088.jpg: 11 duplicate labels removed\n",
      "\u001b[34m\u001b[1mtrain: \u001b[0mC:\\Users\\Cristiano\\Desktop\\Faculdade\\2 semestre\\VC\\project\\VC_project\\Shared\\training_inputs\\chessred2k_YOLO\\train\\images\\G019_IMG089.jpg: 11 duplicate labels removed\n",
      "\u001b[34m\u001b[1mtrain: \u001b[0mC:\\Users\\Cristiano\\Desktop\\Faculdade\\2 semestre\\VC\\project\\VC_project\\Shared\\training_inputs\\chessred2k_YOLO\\train\\images\\G019_IMG090.jpg: 11 duplicate labels removed\n",
      "\u001b[34m\u001b[1mtrain: \u001b[0mC:\\Users\\Cristiano\\Desktop\\Faculdade\\2 semestre\\VC\\project\\VC_project\\Shared\\training_inputs\\chessred2k_YOLO\\train\\images\\G019_IMG091.jpg: 10 duplicate labels removed\n",
      "\u001b[34m\u001b[1mtrain: \u001b[0mC:\\Users\\Cristiano\\Desktop\\Faculdade\\2 semestre\\VC\\project\\VC_project\\Shared\\training_inputs\\chessred2k_YOLO\\train\\images\\G019_IMG092.jpg: 10 duplicate labels removed\n",
      "\u001b[34m\u001b[1mtrain: \u001b[0mC:\\Users\\Cristiano\\Desktop\\Faculdade\\2 semestre\\VC\\project\\VC_project\\Shared\\training_inputs\\chessred2k_YOLO\\train\\images\\G019_IMG093.jpg: 10 duplicate labels removed\n",
      "\u001b[34m\u001b[1mtrain: \u001b[0mC:\\Users\\Cristiano\\Desktop\\Faculdade\\2 semestre\\VC\\project\\VC_project\\Shared\\training_inputs\\chessred2k_YOLO\\train\\images\\G019_IMG094.jpg: 10 duplicate labels removed\n",
      "\u001b[34m\u001b[1mtrain: \u001b[0mC:\\Users\\Cristiano\\Desktop\\Faculdade\\2 semestre\\VC\\project\\VC_project\\Shared\\training_inputs\\chessred2k_YOLO\\train\\images\\G019_IMG095.jpg: 10 duplicate labels removed\n",
      "\u001b[34m\u001b[1mtrain: \u001b[0mC:\\Users\\Cristiano\\Desktop\\Faculdade\\2 semestre\\VC\\project\\VC_project\\Shared\\training_inputs\\chessred2k_YOLO\\train\\images\\G019_IMG096.jpg: 10 duplicate labels removed\n",
      "\u001b[34m\u001b[1mtrain: \u001b[0mC:\\Users\\Cristiano\\Desktop\\Faculdade\\2 semestre\\VC\\project\\VC_project\\Shared\\training_inputs\\chessred2k_YOLO\\train\\images\\G019_IMG097.jpg: 10 duplicate labels removed\n",
      "\u001b[34m\u001b[1mtrain: \u001b[0mC:\\Users\\Cristiano\\Desktop\\Faculdade\\2 semestre\\VC\\project\\VC_project\\Shared\\training_inputs\\chessred2k_YOLO\\train\\images\\G019_IMG098.jpg: 10 duplicate labels removed\n",
      "\u001b[34m\u001b[1mtrain: \u001b[0mC:\\Users\\Cristiano\\Desktop\\Faculdade\\2 semestre\\VC\\project\\VC_project\\Shared\\training_inputs\\chessred2k_YOLO\\train\\images\\G019_IMG099.jpg: 9 duplicate labels removed\n",
      "\u001b[34m\u001b[1mtrain: \u001b[0mC:\\Users\\Cristiano\\Desktop\\Faculdade\\2 semestre\\VC\\project\\VC_project\\Shared\\training_inputs\\chessred2k_YOLO\\train\\images\\G019_IMG100.jpg: 8 duplicate labels removed\n",
      "\u001b[34m\u001b[1mtrain: \u001b[0mC:\\Users\\Cristiano\\Desktop\\Faculdade\\2 semestre\\VC\\project\\VC_project\\Shared\\training_inputs\\chessred2k_YOLO\\train\\images\\G019_IMG101.jpg: 8 duplicate labels removed\n",
      "\u001b[34m\u001b[1mtrain: \u001b[0mC:\\Users\\Cristiano\\Desktop\\Faculdade\\2 semestre\\VC\\project\\VC_project\\Shared\\training_inputs\\chessred2k_YOLO\\train\\images\\G019_IMG102.jpg: 8 duplicate labels removed\n",
      "\u001b[34m\u001b[1mtrain: \u001b[0mC:\\Users\\Cristiano\\Desktop\\Faculdade\\2 semestre\\VC\\project\\VC_project\\Shared\\training_inputs\\chessred2k_YOLO\\train\\images\\G019_IMG103.jpg: 8 duplicate labels removed\n",
      "\u001b[34m\u001b[1mtrain: \u001b[0mC:\\Users\\Cristiano\\Desktop\\Faculdade\\2 semestre\\VC\\project\\VC_project\\Shared\\training_inputs\\chessred2k_YOLO\\train\\images\\G019_IMG104.jpg: 8 duplicate labels removed\n",
      "\u001b[34m\u001b[1mtrain: \u001b[0mC:\\Users\\Cristiano\\Desktop\\Faculdade\\2 semestre\\VC\\project\\VC_project\\Shared\\training_inputs\\chessred2k_YOLO\\train\\images\\G019_IMG105.jpg: 8 duplicate labels removed\n",
      "\u001b[34m\u001b[1mtrain: \u001b[0mC:\\Users\\Cristiano\\Desktop\\Faculdade\\2 semestre\\VC\\project\\VC_project\\Shared\\training_inputs\\chessred2k_YOLO\\train\\images\\G019_IMG106.jpg: 8 duplicate labels removed\n",
      "\u001b[34m\u001b[1mtrain: \u001b[0mC:\\Users\\Cristiano\\Desktop\\Faculdade\\2 semestre\\VC\\project\\VC_project\\Shared\\training_inputs\\chessred2k_YOLO\\train\\images\\G019_IMG107.jpg: 8 duplicate labels removed\n",
      "\u001b[34m\u001b[1mtrain: \u001b[0mC:\\Users\\Cristiano\\Desktop\\Faculdade\\2 semestre\\VC\\project\\VC_project\\Shared\\training_inputs\\chessred2k_YOLO\\train\\images\\G022_IMG000.jpg: 32 duplicate labels removed\n",
      "\u001b[34m\u001b[1mtrain: \u001b[0mC:\\Users\\Cristiano\\Desktop\\Faculdade\\2 semestre\\VC\\project\\VC_project\\Shared\\training_inputs\\chessred2k_YOLO\\train\\images\\G022_IMG001.jpg: 32 duplicate labels removed\n",
      "\u001b[34m\u001b[1mtrain: \u001b[0mC:\\Users\\Cristiano\\Desktop\\Faculdade\\2 semestre\\VC\\project\\VC_project\\Shared\\training_inputs\\chessred2k_YOLO\\train\\images\\G022_IMG002.jpg: 32 duplicate labels removed\n",
      "\u001b[34m\u001b[1mtrain: \u001b[0mC:\\Users\\Cristiano\\Desktop\\Faculdade\\2 semestre\\VC\\project\\VC_project\\Shared\\training_inputs\\chessred2k_YOLO\\train\\images\\G022_IMG003.jpg: 32 duplicate labels removed\n",
      "\u001b[34m\u001b[1mtrain: \u001b[0mC:\\Users\\Cristiano\\Desktop\\Faculdade\\2 semestre\\VC\\project\\VC_project\\Shared\\training_inputs\\chessred2k_YOLO\\train\\images\\G022_IMG004.jpg: 32 duplicate labels removed\n",
      "\u001b[34m\u001b[1mtrain: \u001b[0mC:\\Users\\Cristiano\\Desktop\\Faculdade\\2 semestre\\VC\\project\\VC_project\\Shared\\training_inputs\\chessred2k_YOLO\\train\\images\\G022_IMG005.jpg: 31 duplicate labels removed\n",
      "\u001b[34m\u001b[1mtrain: \u001b[0mC:\\Users\\Cristiano\\Desktop\\Faculdade\\2 semestre\\VC\\project\\VC_project\\Shared\\training_inputs\\chessred2k_YOLO\\train\\images\\G022_IMG006.jpg: 31 duplicate labels removed\n",
      "\u001b[34m\u001b[1mtrain: \u001b[0mC:\\Users\\Cristiano\\Desktop\\Faculdade\\2 semestre\\VC\\project\\VC_project\\Shared\\training_inputs\\chessred2k_YOLO\\train\\images\\G022_IMG007.jpg: 31 duplicate labels removed\n",
      "\u001b[34m\u001b[1mtrain: \u001b[0mC:\\Users\\Cristiano\\Desktop\\Faculdade\\2 semestre\\VC\\project\\VC_project\\Shared\\training_inputs\\chessred2k_YOLO\\train\\images\\G022_IMG008.jpg: 31 duplicate labels removed\n",
      "\u001b[34m\u001b[1mtrain: \u001b[0mC:\\Users\\Cristiano\\Desktop\\Faculdade\\2 semestre\\VC\\project\\VC_project\\Shared\\training_inputs\\chessred2k_YOLO\\train\\images\\G022_IMG009.jpg: 31 duplicate labels removed\n",
      "\u001b[34m\u001b[1mtrain: \u001b[0mC:\\Users\\Cristiano\\Desktop\\Faculdade\\2 semestre\\VC\\project\\VC_project\\Shared\\training_inputs\\chessred2k_YOLO\\train\\images\\G022_IMG010.jpg: 31 duplicate labels removed\n",
      "\u001b[34m\u001b[1mtrain: \u001b[0mC:\\Users\\Cristiano\\Desktop\\Faculdade\\2 semestre\\VC\\project\\VC_project\\Shared\\training_inputs\\chessred2k_YOLO\\train\\images\\G022_IMG011.jpg: 30 duplicate labels removed\n",
      "\u001b[34m\u001b[1mtrain: \u001b[0mC:\\Users\\Cristiano\\Desktop\\Faculdade\\2 semestre\\VC\\project\\VC_project\\Shared\\training_inputs\\chessred2k_YOLO\\train\\images\\G022_IMG012.jpg: 30 duplicate labels removed\n",
      "\u001b[34m\u001b[1mtrain: \u001b[0mC:\\Users\\Cristiano\\Desktop\\Faculdade\\2 semestre\\VC\\project\\VC_project\\Shared\\training_inputs\\chessred2k_YOLO\\train\\images\\G022_IMG013.jpg: 30 duplicate labels removed\n",
      "\u001b[34m\u001b[1mtrain: \u001b[0mC:\\Users\\Cristiano\\Desktop\\Faculdade\\2 semestre\\VC\\project\\VC_project\\Shared\\training_inputs\\chessred2k_YOLO\\train\\images\\G022_IMG014.jpg: 29 duplicate labels removed\n",
      "\u001b[34m\u001b[1mtrain: \u001b[0mC:\\Users\\Cristiano\\Desktop\\Faculdade\\2 semestre\\VC\\project\\VC_project\\Shared\\training_inputs\\chessred2k_YOLO\\train\\images\\G022_IMG015.jpg: 29 duplicate labels removed\n",
      "\u001b[34m\u001b[1mtrain: \u001b[0mC:\\Users\\Cristiano\\Desktop\\Faculdade\\2 semestre\\VC\\project\\VC_project\\Shared\\training_inputs\\chessred2k_YOLO\\train\\images\\G022_IMG016.jpg: 29 duplicate labels removed\n",
      "\u001b[34m\u001b[1mtrain: \u001b[0mC:\\Users\\Cristiano\\Desktop\\Faculdade\\2 semestre\\VC\\project\\VC_project\\Shared\\training_inputs\\chessred2k_YOLO\\train\\images\\G022_IMG017.jpg: 29 duplicate labels removed\n",
      "\u001b[34m\u001b[1mtrain: \u001b[0mC:\\Users\\Cristiano\\Desktop\\Faculdade\\2 semestre\\VC\\project\\VC_project\\Shared\\training_inputs\\chessred2k_YOLO\\train\\images\\G022_IMG018.jpg: 29 duplicate labels removed\n",
      "\u001b[34m\u001b[1mtrain: \u001b[0mC:\\Users\\Cristiano\\Desktop\\Faculdade\\2 semestre\\VC\\project\\VC_project\\Shared\\training_inputs\\chessred2k_YOLO\\train\\images\\G022_IMG019.jpg: 29 duplicate labels removed\n",
      "\u001b[34m\u001b[1mtrain: \u001b[0mC:\\Users\\Cristiano\\Desktop\\Faculdade\\2 semestre\\VC\\project\\VC_project\\Shared\\training_inputs\\chessred2k_YOLO\\train\\images\\G022_IMG020.jpg: 29 duplicate labels removed\n",
      "\u001b[34m\u001b[1mtrain: \u001b[0mC:\\Users\\Cristiano\\Desktop\\Faculdade\\2 semestre\\VC\\project\\VC_project\\Shared\\training_inputs\\chessred2k_YOLO\\train\\images\\G022_IMG021.jpg: 29 duplicate labels removed\n",
      "\u001b[34m\u001b[1mtrain: \u001b[0mC:\\Users\\Cristiano\\Desktop\\Faculdade\\2 semestre\\VC\\project\\VC_project\\Shared\\training_inputs\\chessred2k_YOLO\\train\\images\\G022_IMG022.jpg: 29 duplicate labels removed\n",
      "\u001b[34m\u001b[1mtrain: \u001b[0mC:\\Users\\Cristiano\\Desktop\\Faculdade\\2 semestre\\VC\\project\\VC_project\\Shared\\training_inputs\\chessred2k_YOLO\\train\\images\\G022_IMG023.jpg: 29 duplicate labels removed\n",
      "\u001b[34m\u001b[1mtrain: \u001b[0mC:\\Users\\Cristiano\\Desktop\\Faculdade\\2 semestre\\VC\\project\\VC_project\\Shared\\training_inputs\\chessred2k_YOLO\\train\\images\\G022_IMG024.jpg: 29 duplicate labels removed\n",
      "\u001b[34m\u001b[1mtrain: \u001b[0mC:\\Users\\Cristiano\\Desktop\\Faculdade\\2 semestre\\VC\\project\\VC_project\\Shared\\training_inputs\\chessred2k_YOLO\\train\\images\\G022_IMG025.jpg: 29 duplicate labels removed\n",
      "\u001b[34m\u001b[1mtrain: \u001b[0mC:\\Users\\Cristiano\\Desktop\\Faculdade\\2 semestre\\VC\\project\\VC_project\\Shared\\training_inputs\\chessred2k_YOLO\\train\\images\\G022_IMG026.jpg: 29 duplicate labels removed\n",
      "\u001b[34m\u001b[1mtrain: \u001b[0mC:\\Users\\Cristiano\\Desktop\\Faculdade\\2 semestre\\VC\\project\\VC_project\\Shared\\training_inputs\\chessred2k_YOLO\\train\\images\\G022_IMG027.jpg: 29 duplicate labels removed\n",
      "\u001b[34m\u001b[1mtrain: \u001b[0mC:\\Users\\Cristiano\\Desktop\\Faculdade\\2 semestre\\VC\\project\\VC_project\\Shared\\training_inputs\\chessred2k_YOLO\\train\\images\\G022_IMG028.jpg: 29 duplicate labels removed\n",
      "\u001b[34m\u001b[1mtrain: \u001b[0mC:\\Users\\Cristiano\\Desktop\\Faculdade\\2 semestre\\VC\\project\\VC_project\\Shared\\training_inputs\\chessred2k_YOLO\\train\\images\\G022_IMG029.jpg: 28 duplicate labels removed\n",
      "\u001b[34m\u001b[1mtrain: \u001b[0mC:\\Users\\Cristiano\\Desktop\\Faculdade\\2 semestre\\VC\\project\\VC_project\\Shared\\training_inputs\\chessred2k_YOLO\\train\\images\\G022_IMG030.jpg: 27 duplicate labels removed\n",
      "\u001b[34m\u001b[1mtrain: \u001b[0mC:\\Users\\Cristiano\\Desktop\\Faculdade\\2 semestre\\VC\\project\\VC_project\\Shared\\training_inputs\\chessred2k_YOLO\\train\\images\\G022_IMG031.jpg: 27 duplicate labels removed\n",
      "\u001b[34m\u001b[1mtrain: \u001b[0mC:\\Users\\Cristiano\\Desktop\\Faculdade\\2 semestre\\VC\\project\\VC_project\\Shared\\training_inputs\\chessred2k_YOLO\\train\\images\\G022_IMG032.jpg: 27 duplicate labels removed\n",
      "\u001b[34m\u001b[1mtrain: \u001b[0mC:\\Users\\Cristiano\\Desktop\\Faculdade\\2 semestre\\VC\\project\\VC_project\\Shared\\training_inputs\\chessred2k_YOLO\\train\\images\\G022_IMG033.jpg: 27 duplicate labels removed\n",
      "\u001b[34m\u001b[1mtrain: \u001b[0mC:\\Users\\Cristiano\\Desktop\\Faculdade\\2 semestre\\VC\\project\\VC_project\\Shared\\training_inputs\\chessred2k_YOLO\\train\\images\\G022_IMG034.jpg: 27 duplicate labels removed\n",
      "\u001b[34m\u001b[1mtrain: \u001b[0mC:\\Users\\Cristiano\\Desktop\\Faculdade\\2 semestre\\VC\\project\\VC_project\\Shared\\training_inputs\\chessred2k_YOLO\\train\\images\\G022_IMG035.jpg: 27 duplicate labels removed\n",
      "\u001b[34m\u001b[1mtrain: \u001b[0mC:\\Users\\Cristiano\\Desktop\\Faculdade\\2 semestre\\VC\\project\\VC_project\\Shared\\training_inputs\\chessred2k_YOLO\\train\\images\\G022_IMG036.jpg: 26 duplicate labels removed\n",
      "\u001b[34m\u001b[1mtrain: \u001b[0mC:\\Users\\Cristiano\\Desktop\\Faculdade\\2 semestre\\VC\\project\\VC_project\\Shared\\training_inputs\\chessred2k_YOLO\\train\\images\\G022_IMG037.jpg: 25 duplicate labels removed\n",
      "\u001b[34m\u001b[1mtrain: \u001b[0mC:\\Users\\Cristiano\\Desktop\\Faculdade\\2 semestre\\VC\\project\\VC_project\\Shared\\training_inputs\\chessred2k_YOLO\\train\\images\\G022_IMG038.jpg: 25 duplicate labels removed\n",
      "\u001b[34m\u001b[1mtrain: \u001b[0mC:\\Users\\Cristiano\\Desktop\\Faculdade\\2 semestre\\VC\\project\\VC_project\\Shared\\training_inputs\\chessred2k_YOLO\\train\\images\\G022_IMG039.jpg: 25 duplicate labels removed\n",
      "\u001b[34m\u001b[1mtrain: \u001b[0mC:\\Users\\Cristiano\\Desktop\\Faculdade\\2 semestre\\VC\\project\\VC_project\\Shared\\training_inputs\\chessred2k_YOLO\\train\\images\\G022_IMG040.jpg: 25 duplicate labels removed\n",
      "\u001b[34m\u001b[1mtrain: \u001b[0mC:\\Users\\Cristiano\\Desktop\\Faculdade\\2 semestre\\VC\\project\\VC_project\\Shared\\training_inputs\\chessred2k_YOLO\\train\\images\\G022_IMG041.jpg: 25 duplicate labels removed\n",
      "\u001b[34m\u001b[1mtrain: \u001b[0mC:\\Users\\Cristiano\\Desktop\\Faculdade\\2 semestre\\VC\\project\\VC_project\\Shared\\training_inputs\\chessred2k_YOLO\\train\\images\\G022_IMG042.jpg: 25 duplicate labels removed\n",
      "\u001b[34m\u001b[1mtrain: \u001b[0mC:\\Users\\Cristiano\\Desktop\\Faculdade\\2 semestre\\VC\\project\\VC_project\\Shared\\training_inputs\\chessred2k_YOLO\\train\\images\\G022_IMG043.jpg: 25 duplicate labels removed\n",
      "\u001b[34m\u001b[1mtrain: \u001b[0mC:\\Users\\Cristiano\\Desktop\\Faculdade\\2 semestre\\VC\\project\\VC_project\\Shared\\training_inputs\\chessred2k_YOLO\\train\\images\\G022_IMG044.jpg: 25 duplicate labels removed\n",
      "\u001b[34m\u001b[1mtrain: \u001b[0mC:\\Users\\Cristiano\\Desktop\\Faculdade\\2 semestre\\VC\\project\\VC_project\\Shared\\training_inputs\\chessred2k_YOLO\\train\\images\\G022_IMG045.jpg: 25 duplicate labels removed\n",
      "\u001b[34m\u001b[1mtrain: \u001b[0mC:\\Users\\Cristiano\\Desktop\\Faculdade\\2 semestre\\VC\\project\\VC_project\\Shared\\training_inputs\\chessred2k_YOLO\\train\\images\\G022_IMG046.jpg: 25 duplicate labels removed\n",
      "\u001b[34m\u001b[1mtrain: \u001b[0mC:\\Users\\Cristiano\\Desktop\\Faculdade\\2 semestre\\VC\\project\\VC_project\\Shared\\training_inputs\\chessred2k_YOLO\\train\\images\\G022_IMG047.jpg: 25 duplicate labels removed\n",
      "\u001b[34m\u001b[1mtrain: \u001b[0mC:\\Users\\Cristiano\\Desktop\\Faculdade\\2 semestre\\VC\\project\\VC_project\\Shared\\training_inputs\\chessred2k_YOLO\\train\\images\\G022_IMG048.jpg: 25 duplicate labels removed\n",
      "\u001b[34m\u001b[1mtrain: \u001b[0mC:\\Users\\Cristiano\\Desktop\\Faculdade\\2 semestre\\VC\\project\\VC_project\\Shared\\training_inputs\\chessred2k_YOLO\\train\\images\\G022_IMG049.jpg: 25 duplicate labels removed\n",
      "\u001b[34m\u001b[1mtrain: \u001b[0mC:\\Users\\Cristiano\\Desktop\\Faculdade\\2 semestre\\VC\\project\\VC_project\\Shared\\training_inputs\\chessred2k_YOLO\\train\\images\\G022_IMG050.jpg: 25 duplicate labels removed\n",
      "\u001b[34m\u001b[1mtrain: \u001b[0mC:\\Users\\Cristiano\\Desktop\\Faculdade\\2 semestre\\VC\\project\\VC_project\\Shared\\training_inputs\\chessred2k_YOLO\\train\\images\\G022_IMG051.jpg: 24 duplicate labels removed\n",
      "\u001b[34m\u001b[1mtrain: \u001b[0mC:\\Users\\Cristiano\\Desktop\\Faculdade\\2 semestre\\VC\\project\\VC_project\\Shared\\training_inputs\\chessred2k_YOLO\\train\\images\\G022_IMG052.jpg: 23 duplicate labels removed\n",
      "\u001b[34m\u001b[1mtrain: \u001b[0mC:\\Users\\Cristiano\\Desktop\\Faculdade\\2 semestre\\VC\\project\\VC_project\\Shared\\training_inputs\\chessred2k_YOLO\\train\\images\\G022_IMG053.jpg: 22 duplicate labels removed\n",
      "\u001b[34m\u001b[1mtrain: \u001b[0mC:\\Users\\Cristiano\\Desktop\\Faculdade\\2 semestre\\VC\\project\\VC_project\\Shared\\training_inputs\\chessred2k_YOLO\\train\\images\\G022_IMG054.jpg: 21 duplicate labels removed\n",
      "\u001b[34m\u001b[1mtrain: \u001b[0mC:\\Users\\Cristiano\\Desktop\\Faculdade\\2 semestre\\VC\\project\\VC_project\\Shared\\training_inputs\\chessred2k_YOLO\\train\\images\\G022_IMG055.jpg: 21 duplicate labels removed\n",
      "\u001b[34m\u001b[1mtrain: \u001b[0mC:\\Users\\Cristiano\\Desktop\\Faculdade\\2 semestre\\VC\\project\\VC_project\\Shared\\training_inputs\\chessred2k_YOLO\\train\\images\\G022_IMG056.jpg: 21 duplicate labels removed\n",
      "\u001b[34m\u001b[1mtrain: \u001b[0mC:\\Users\\Cristiano\\Desktop\\Faculdade\\2 semestre\\VC\\project\\VC_project\\Shared\\training_inputs\\chessred2k_YOLO\\train\\images\\G022_IMG057.jpg: 21 duplicate labels removed\n",
      "\u001b[34m\u001b[1mtrain: \u001b[0mC:\\Users\\Cristiano\\Desktop\\Faculdade\\2 semestre\\VC\\project\\VC_project\\Shared\\training_inputs\\chessred2k_YOLO\\train\\images\\G022_IMG058.jpg: 20 duplicate labels removed\n",
      "\u001b[34m\u001b[1mtrain: \u001b[0mC:\\Users\\Cristiano\\Desktop\\Faculdade\\2 semestre\\VC\\project\\VC_project\\Shared\\training_inputs\\chessred2k_YOLO\\train\\images\\G022_IMG059.jpg: 20 duplicate labels removed\n",
      "\u001b[34m\u001b[1mtrain: \u001b[0mC:\\Users\\Cristiano\\Desktop\\Faculdade\\2 semestre\\VC\\project\\VC_project\\Shared\\training_inputs\\chessred2k_YOLO\\train\\images\\G022_IMG060.jpg: 20 duplicate labels removed\n",
      "\u001b[34m\u001b[1mtrain: \u001b[0mC:\\Users\\Cristiano\\Desktop\\Faculdade\\2 semestre\\VC\\project\\VC_project\\Shared\\training_inputs\\chessred2k_YOLO\\train\\images\\G022_IMG061.jpg: 20 duplicate labels removed\n",
      "\u001b[34m\u001b[1mtrain: \u001b[0mC:\\Users\\Cristiano\\Desktop\\Faculdade\\2 semestre\\VC\\project\\VC_project\\Shared\\training_inputs\\chessred2k_YOLO\\train\\images\\G022_IMG062.jpg: 20 duplicate labels removed\n",
      "\u001b[34m\u001b[1mtrain: \u001b[0mC:\\Users\\Cristiano\\Desktop\\Faculdade\\2 semestre\\VC\\project\\VC_project\\Shared\\training_inputs\\chessred2k_YOLO\\train\\images\\G022_IMG063.jpg: 20 duplicate labels removed\n",
      "\u001b[34m\u001b[1mtrain: \u001b[0mC:\\Users\\Cristiano\\Desktop\\Faculdade\\2 semestre\\VC\\project\\VC_project\\Shared\\training_inputs\\chessred2k_YOLO\\train\\images\\G022_IMG064.jpg: 19 duplicate labels removed\n",
      "\u001b[34m\u001b[1mtrain: \u001b[0mC:\\Users\\Cristiano\\Desktop\\Faculdade\\2 semestre\\VC\\project\\VC_project\\Shared\\training_inputs\\chessred2k_YOLO\\train\\images\\G022_IMG065.jpg: 18 duplicate labels removed\n",
      "\u001b[34m\u001b[1mtrain: \u001b[0mC:\\Users\\Cristiano\\Desktop\\Faculdade\\2 semestre\\VC\\project\\VC_project\\Shared\\training_inputs\\chessred2k_YOLO\\train\\images\\G022_IMG066.jpg: 17 duplicate labels removed\n",
      "\u001b[34m\u001b[1mtrain: \u001b[0mC:\\Users\\Cristiano\\Desktop\\Faculdade\\2 semestre\\VC\\project\\VC_project\\Shared\\training_inputs\\chessred2k_YOLO\\train\\images\\G022_IMG067.jpg: 16 duplicate labels removed\n",
      "\u001b[34m\u001b[1mtrain: \u001b[0mC:\\Users\\Cristiano\\Desktop\\Faculdade\\2 semestre\\VC\\project\\VC_project\\Shared\\training_inputs\\chessred2k_YOLO\\train\\images\\G022_IMG068.jpg: 15 duplicate labels removed\n",
      "\u001b[34m\u001b[1mtrain: \u001b[0mC:\\Users\\Cristiano\\Desktop\\Faculdade\\2 semestre\\VC\\project\\VC_project\\Shared\\training_inputs\\chessred2k_YOLO\\train\\images\\G022_IMG069.jpg: 15 duplicate labels removed\n",
      "\u001b[34m\u001b[1mtrain: \u001b[0mC:\\Users\\Cristiano\\Desktop\\Faculdade\\2 semestre\\VC\\project\\VC_project\\Shared\\training_inputs\\chessred2k_YOLO\\train\\images\\G022_IMG070.jpg: 15 duplicate labels removed\n",
      "\u001b[34m\u001b[1mtrain: \u001b[0mC:\\Users\\Cristiano\\Desktop\\Faculdade\\2 semestre\\VC\\project\\VC_project\\Shared\\training_inputs\\chessred2k_YOLO\\train\\images\\G022_IMG071.jpg: 15 duplicate labels removed\n",
      "\u001b[34m\u001b[1mtrain: \u001b[0mC:\\Users\\Cristiano\\Desktop\\Faculdade\\2 semestre\\VC\\project\\VC_project\\Shared\\training_inputs\\chessred2k_YOLO\\train\\images\\G022_IMG072.jpg: 15 duplicate labels removed\n",
      "\u001b[34m\u001b[1mtrain: \u001b[0mC:\\Users\\Cristiano\\Desktop\\Faculdade\\2 semestre\\VC\\project\\VC_project\\Shared\\training_inputs\\chessred2k_YOLO\\train\\images\\G022_IMG073.jpg: 15 duplicate labels removed\n",
      "\u001b[34m\u001b[1mtrain: \u001b[0mC:\\Users\\Cristiano\\Desktop\\Faculdade\\2 semestre\\VC\\project\\VC_project\\Shared\\training_inputs\\chessred2k_YOLO\\train\\images\\G022_IMG074.jpg: 15 duplicate labels removed\n",
      "\u001b[34m\u001b[1mtrain: \u001b[0mC:\\Users\\Cristiano\\Desktop\\Faculdade\\2 semestre\\VC\\project\\VC_project\\Shared\\training_inputs\\chessred2k_YOLO\\train\\images\\G022_IMG075.jpg: 15 duplicate labels removed\n",
      "\u001b[34m\u001b[1mtrain: \u001b[0mC:\\Users\\Cristiano\\Desktop\\Faculdade\\2 semestre\\VC\\project\\VC_project\\Shared\\training_inputs\\chessred2k_YOLO\\train\\images\\G022_IMG076.jpg: 15 duplicate labels removed\n",
      "\u001b[34m\u001b[1mtrain: \u001b[0mC:\\Users\\Cristiano\\Desktop\\Faculdade\\2 semestre\\VC\\project\\VC_project\\Shared\\training_inputs\\chessred2k_YOLO\\train\\images\\G022_IMG077.jpg: 14 duplicate labels removed\n",
      "\u001b[34m\u001b[1mtrain: \u001b[0mC:\\Users\\Cristiano\\Desktop\\Faculdade\\2 semestre\\VC\\project\\VC_project\\Shared\\training_inputs\\chessred2k_YOLO\\train\\images\\G022_IMG078.jpg: 13 duplicate labels removed\n",
      "\u001b[34m\u001b[1mtrain: \u001b[0mC:\\Users\\Cristiano\\Desktop\\Faculdade\\2 semestre\\VC\\project\\VC_project\\Shared\\training_inputs\\chessred2k_YOLO\\train\\images\\G022_IMG079.jpg: 13 duplicate labels removed\n",
      "\u001b[34m\u001b[1mtrain: \u001b[0mC:\\Users\\Cristiano\\Desktop\\Faculdade\\2 semestre\\VC\\project\\VC_project\\Shared\\training_inputs\\chessred2k_YOLO\\train\\images\\G022_IMG080.jpg: 13 duplicate labels removed\n",
      "\u001b[34m\u001b[1mtrain: \u001b[0mC:\\Users\\Cristiano\\Desktop\\Faculdade\\2 semestre\\VC\\project\\VC_project\\Shared\\training_inputs\\chessred2k_YOLO\\train\\images\\G022_IMG081.jpg: 13 duplicate labels removed\n",
      "\u001b[34m\u001b[1mtrain: \u001b[0mC:\\Users\\Cristiano\\Desktop\\Faculdade\\2 semestre\\VC\\project\\VC_project\\Shared\\training_inputs\\chessred2k_YOLO\\train\\images\\G022_IMG082.jpg: 13 duplicate labels removed\n",
      "\u001b[34m\u001b[1mtrain: \u001b[0mC:\\Users\\Cristiano\\Desktop\\Faculdade\\2 semestre\\VC\\project\\VC_project\\Shared\\training_inputs\\chessred2k_YOLO\\train\\images\\G022_IMG083.jpg: 13 duplicate labels removed\n",
      "\u001b[34m\u001b[1mtrain: \u001b[0mC:\\Users\\Cristiano\\Desktop\\Faculdade\\2 semestre\\VC\\project\\VC_project\\Shared\\training_inputs\\chessred2k_YOLO\\train\\images\\G022_IMG084.jpg: 13 duplicate labels removed\n",
      "\u001b[34m\u001b[1mtrain: \u001b[0mC:\\Users\\Cristiano\\Desktop\\Faculdade\\2 semestre\\VC\\project\\VC_project\\Shared\\training_inputs\\chessred2k_YOLO\\train\\images\\G022_IMG085.jpg: 13 duplicate labels removed\n",
      "\u001b[34m\u001b[1mtrain: \u001b[0mC:\\Users\\Cristiano\\Desktop\\Faculdade\\2 semestre\\VC\\project\\VC_project\\Shared\\training_inputs\\chessred2k_YOLO\\train\\images\\G022_IMG086.jpg: 13 duplicate labels removed\n",
      "\u001b[34m\u001b[1mtrain: \u001b[0mC:\\Users\\Cristiano\\Desktop\\Faculdade\\2 semestre\\VC\\project\\VC_project\\Shared\\training_inputs\\chessred2k_YOLO\\train\\images\\G022_IMG087.jpg: 13 duplicate labels removed\n",
      "\u001b[34m\u001b[1mtrain: \u001b[0mC:\\Users\\Cristiano\\Desktop\\Faculdade\\2 semestre\\VC\\project\\VC_project\\Shared\\training_inputs\\chessred2k_YOLO\\train\\images\\G022_IMG088.jpg: 13 duplicate labels removed\n",
      "\u001b[34m\u001b[1mtrain: \u001b[0mC:\\Users\\Cristiano\\Desktop\\Faculdade\\2 semestre\\VC\\project\\VC_project\\Shared\\training_inputs\\chessred2k_YOLO\\train\\images\\G022_IMG089.jpg: 13 duplicate labels removed\n",
      "\u001b[34m\u001b[1mtrain: \u001b[0mC:\\Users\\Cristiano\\Desktop\\Faculdade\\2 semestre\\VC\\project\\VC_project\\Shared\\training_inputs\\chessred2k_YOLO\\train\\images\\G022_IMG090.jpg: 13 duplicate labels removed\n",
      "\u001b[34m\u001b[1mtrain: \u001b[0mC:\\Users\\Cristiano\\Desktop\\Faculdade\\2 semestre\\VC\\project\\VC_project\\Shared\\training_inputs\\chessred2k_YOLO\\train\\images\\G022_IMG091.jpg: 13 duplicate labels removed\n",
      "\u001b[34m\u001b[1mtrain: \u001b[0mC:\\Users\\Cristiano\\Desktop\\Faculdade\\2 semestre\\VC\\project\\VC_project\\Shared\\training_inputs\\chessred2k_YOLO\\train\\images\\G022_IMG092.jpg: 13 duplicate labels removed\n",
      "\u001b[34m\u001b[1mtrain: \u001b[0mC:\\Users\\Cristiano\\Desktop\\Faculdade\\2 semestre\\VC\\project\\VC_project\\Shared\\training_inputs\\chessred2k_YOLO\\train\\images\\G022_IMG093.jpg: 13 duplicate labels removed\n",
      "\u001b[34m\u001b[1mtrain: \u001b[0mC:\\Users\\Cristiano\\Desktop\\Faculdade\\2 semestre\\VC\\project\\VC_project\\Shared\\training_inputs\\chessred2k_YOLO\\train\\images\\G022_IMG094.jpg: 13 duplicate labels removed\n",
      "\u001b[34m\u001b[1mtrain: \u001b[0mC:\\Users\\Cristiano\\Desktop\\Faculdade\\2 semestre\\VC\\project\\VC_project\\Shared\\training_inputs\\chessred2k_YOLO\\train\\images\\G022_IMG095.jpg: 12 duplicate labels removed\n",
      "\u001b[34m\u001b[1mtrain: \u001b[0mC:\\Users\\Cristiano\\Desktop\\Faculdade\\2 semestre\\VC\\project\\VC_project\\Shared\\training_inputs\\chessred2k_YOLO\\train\\images\\G022_IMG096.jpg: 12 duplicate labels removed\n",
      "\u001b[34m\u001b[1mtrain: \u001b[0mC:\\Users\\Cristiano\\Desktop\\Faculdade\\2 semestre\\VC\\project\\VC_project\\Shared\\training_inputs\\chessred2k_YOLO\\train\\images\\G022_IMG097.jpg: 12 duplicate labels removed\n",
      "\u001b[34m\u001b[1mtrain: \u001b[0mC:\\Users\\Cristiano\\Desktop\\Faculdade\\2 semestre\\VC\\project\\VC_project\\Shared\\training_inputs\\chessred2k_YOLO\\train\\images\\G022_IMG098.jpg: 12 duplicate labels removed\n",
      "\u001b[34m\u001b[1mtrain: \u001b[0mC:\\Users\\Cristiano\\Desktop\\Faculdade\\2 semestre\\VC\\project\\VC_project\\Shared\\training_inputs\\chessred2k_YOLO\\train\\images\\G022_IMG099.jpg: 12 duplicate labels removed\n",
      "\u001b[34m\u001b[1mtrain: \u001b[0mC:\\Users\\Cristiano\\Desktop\\Faculdade\\2 semestre\\VC\\project\\VC_project\\Shared\\training_inputs\\chessred2k_YOLO\\train\\images\\G022_IMG100.jpg: 12 duplicate labels removed\n",
      "\u001b[34m\u001b[1mtrain: \u001b[0mC:\\Users\\Cristiano\\Desktop\\Faculdade\\2 semestre\\VC\\project\\VC_project\\Shared\\training_inputs\\chessred2k_YOLO\\train\\images\\G022_IMG101.jpg: 12 duplicate labels removed\n",
      "\u001b[34m\u001b[1mtrain: \u001b[0mC:\\Users\\Cristiano\\Desktop\\Faculdade\\2 semestre\\VC\\project\\VC_project\\Shared\\training_inputs\\chessred2k_YOLO\\train\\images\\G022_IMG102.jpg: 12 duplicate labels removed\n",
      "\u001b[34m\u001b[1mtrain: \u001b[0mC:\\Users\\Cristiano\\Desktop\\Faculdade\\2 semestre\\VC\\project\\VC_project\\Shared\\training_inputs\\chessred2k_YOLO\\train\\images\\G022_IMG103.jpg: 12 duplicate labels removed\n",
      "\u001b[34m\u001b[1mtrain: \u001b[0mC:\\Users\\Cristiano\\Desktop\\Faculdade\\2 semestre\\VC\\project\\VC_project\\Shared\\training_inputs\\chessred2k_YOLO\\train\\images\\G022_IMG104.jpg: 12 duplicate labels removed\n",
      "\u001b[34m\u001b[1mtrain: \u001b[0mC:\\Users\\Cristiano\\Desktop\\Faculdade\\2 semestre\\VC\\project\\VC_project\\Shared\\training_inputs\\chessred2k_YOLO\\train\\images\\G022_IMG105.jpg: 12 duplicate labels removed\n",
      "\u001b[34m\u001b[1mtrain: \u001b[0mC:\\Users\\Cristiano\\Desktop\\Faculdade\\2 semestre\\VC\\project\\VC_project\\Shared\\training_inputs\\chessred2k_YOLO\\train\\images\\G022_IMG106.jpg: 12 duplicate labels removed\n",
      "\u001b[34m\u001b[1mtrain: \u001b[0mC:\\Users\\Cristiano\\Desktop\\Faculdade\\2 semestre\\VC\\project\\VC_project\\Shared\\training_inputs\\chessred2k_YOLO\\train\\images\\G022_IMG107.jpg: 12 duplicate labels removed\n",
      "\u001b[34m\u001b[1mtrain: \u001b[0mC:\\Users\\Cristiano\\Desktop\\Faculdade\\2 semestre\\VC\\project\\VC_project\\Shared\\training_inputs\\chessred2k_YOLO\\train\\images\\G028_IMG000.jpg: 32 duplicate labels removed\n",
      "\u001b[34m\u001b[1mtrain: \u001b[0mC:\\Users\\Cristiano\\Desktop\\Faculdade\\2 semestre\\VC\\project\\VC_project\\Shared\\training_inputs\\chessred2k_YOLO\\train\\images\\G028_IMG001.jpg: 32 duplicate labels removed\n",
      "\u001b[34m\u001b[1mtrain: \u001b[0mC:\\Users\\Cristiano\\Desktop\\Faculdade\\2 semestre\\VC\\project\\VC_project\\Shared\\training_inputs\\chessred2k_YOLO\\train\\images\\G028_IMG002.jpg: 32 duplicate labels removed\n",
      "\u001b[34m\u001b[1mtrain: \u001b[0mC:\\Users\\Cristiano\\Desktop\\Faculdade\\2 semestre\\VC\\project\\VC_project\\Shared\\training_inputs\\chessred2k_YOLO\\train\\images\\G028_IMG003.jpg: 32 duplicate labels removed\n",
      "\u001b[34m\u001b[1mtrain: \u001b[0mC:\\Users\\Cristiano\\Desktop\\Faculdade\\2 semestre\\VC\\project\\VC_project\\Shared\\training_inputs\\chessred2k_YOLO\\train\\images\\G028_IMG004.jpg: 32 duplicate labels removed\n",
      "\u001b[34m\u001b[1mtrain: \u001b[0mC:\\Users\\Cristiano\\Desktop\\Faculdade\\2 semestre\\VC\\project\\VC_project\\Shared\\training_inputs\\chessred2k_YOLO\\train\\images\\G028_IMG005.jpg: 32 duplicate labels removed\n",
      "\u001b[34m\u001b[1mtrain: \u001b[0mC:\\Users\\Cristiano\\Desktop\\Faculdade\\2 semestre\\VC\\project\\VC_project\\Shared\\training_inputs\\chessred2k_YOLO\\train\\images\\G028_IMG006.jpg: 32 duplicate labels removed\n",
      "\u001b[34m\u001b[1mtrain: \u001b[0mC:\\Users\\Cristiano\\Desktop\\Faculdade\\2 semestre\\VC\\project\\VC_project\\Shared\\training_inputs\\chessred2k_YOLO\\train\\images\\G028_IMG007.jpg: 32 duplicate labels removed\n",
      "\u001b[34m\u001b[1mtrain: \u001b[0mC:\\Users\\Cristiano\\Desktop\\Faculdade\\2 semestre\\VC\\project\\VC_project\\Shared\\training_inputs\\chessred2k_YOLO\\train\\images\\G028_IMG008.jpg: 31 duplicate labels removed\n",
      "\u001b[34m\u001b[1mtrain: \u001b[0mC:\\Users\\Cristiano\\Desktop\\Faculdade\\2 semestre\\VC\\project\\VC_project\\Shared\\training_inputs\\chessred2k_YOLO\\train\\images\\G028_IMG009.jpg: 30 duplicate labels removed\n",
      "\u001b[34m\u001b[1mtrain: \u001b[0mC:\\Users\\Cristiano\\Desktop\\Faculdade\\2 semestre\\VC\\project\\VC_project\\Shared\\training_inputs\\chessred2k_YOLO\\train\\images\\G028_IMG010.jpg: 30 duplicate labels removed\n",
      "\u001b[34m\u001b[1mtrain: \u001b[0mC:\\Users\\Cristiano\\Desktop\\Faculdade\\2 semestre\\VC\\project\\VC_project\\Shared\\training_inputs\\chessred2k_YOLO\\train\\images\\G028_IMG011.jpg: 30 duplicate labels removed\n",
      "\u001b[34m\u001b[1mtrain: \u001b[0mC:\\Users\\Cristiano\\Desktop\\Faculdade\\2 semestre\\VC\\project\\VC_project\\Shared\\training_inputs\\chessred2k_YOLO\\train\\images\\G028_IMG012.jpg: 30 duplicate labels removed\n",
      "\u001b[34m\u001b[1mtrain: \u001b[0mC:\\Users\\Cristiano\\Desktop\\Faculdade\\2 semestre\\VC\\project\\VC_project\\Shared\\training_inputs\\chessred2k_YOLO\\train\\images\\G028_IMG013.jpg: 30 duplicate labels removed\n",
      "\u001b[34m\u001b[1mtrain: \u001b[0mC:\\Users\\Cristiano\\Desktop\\Faculdade\\2 semestre\\VC\\project\\VC_project\\Shared\\training_inputs\\chessred2k_YOLO\\train\\images\\G028_IMG014.jpg: 30 duplicate labels removed\n",
      "\u001b[34m\u001b[1mtrain: \u001b[0mC:\\Users\\Cristiano\\Desktop\\Faculdade\\2 semestre\\VC\\project\\VC_project\\Shared\\training_inputs\\chessred2k_YOLO\\train\\images\\G028_IMG015.jpg: 30 duplicate labels removed\n",
      "\u001b[34m\u001b[1mtrain: \u001b[0mC:\\Users\\Cristiano\\Desktop\\Faculdade\\2 semestre\\VC\\project\\VC_project\\Shared\\training_inputs\\chessred2k_YOLO\\train\\images\\G028_IMG016.jpg: 30 duplicate labels removed\n",
      "\u001b[34m\u001b[1mtrain: \u001b[0mC:\\Users\\Cristiano\\Desktop\\Faculdade\\2 semestre\\VC\\project\\VC_project\\Shared\\training_inputs\\chessred2k_YOLO\\train\\images\\G028_IMG017.jpg: 30 duplicate labels removed\n",
      "\u001b[34m\u001b[1mtrain: \u001b[0mC:\\Users\\Cristiano\\Desktop\\Faculdade\\2 semestre\\VC\\project\\VC_project\\Shared\\training_inputs\\chessred2k_YOLO\\train\\images\\G028_IMG018.jpg: 30 duplicate labels removed\n",
      "\u001b[34m\u001b[1mtrain: \u001b[0mC:\\Users\\Cristiano\\Desktop\\Faculdade\\2 semestre\\VC\\project\\VC_project\\Shared\\training_inputs\\chessred2k_YOLO\\train\\images\\G028_IMG019.jpg: 30 duplicate labels removed\n",
      "\u001b[34m\u001b[1mtrain: \u001b[0mC:\\Users\\Cristiano\\Desktop\\Faculdade\\2 semestre\\VC\\project\\VC_project\\Shared\\training_inputs\\chessred2k_YOLO\\train\\images\\G028_IMG020.jpg: 30 duplicate labels removed\n",
      "\u001b[34m\u001b[1mtrain: \u001b[0mC:\\Users\\Cristiano\\Desktop\\Faculdade\\2 semestre\\VC\\project\\VC_project\\Shared\\training_inputs\\chessred2k_YOLO\\train\\images\\G028_IMG021.jpg: 30 duplicate labels removed\n",
      "\u001b[34m\u001b[1mtrain: \u001b[0mC:\\Users\\Cristiano\\Desktop\\Faculdade\\2 semestre\\VC\\project\\VC_project\\Shared\\training_inputs\\chessred2k_YOLO\\train\\images\\G028_IMG022.jpg: 30 duplicate labels removed\n",
      "\u001b[34m\u001b[1mtrain: \u001b[0mC:\\Users\\Cristiano\\Desktop\\Faculdade\\2 semestre\\VC\\project\\VC_project\\Shared\\training_inputs\\chessred2k_YOLO\\train\\images\\G028_IMG023.jpg: 30 duplicate labels removed\n",
      "\u001b[34m\u001b[1mtrain: \u001b[0mC:\\Users\\Cristiano\\Desktop\\Faculdade\\2 semestre\\VC\\project\\VC_project\\Shared\\training_inputs\\chessred2k_YOLO\\train\\images\\G028_IMG024.jpg: 30 duplicate labels removed\n",
      "\u001b[34m\u001b[1mtrain: \u001b[0mC:\\Users\\Cristiano\\Desktop\\Faculdade\\2 semestre\\VC\\project\\VC_project\\Shared\\training_inputs\\chessred2k_YOLO\\train\\images\\G028_IMG025.jpg: 30 duplicate labels removed\n",
      "\u001b[34m\u001b[1mtrain: \u001b[0mC:\\Users\\Cristiano\\Desktop\\Faculdade\\2 semestre\\VC\\project\\VC_project\\Shared\\training_inputs\\chessred2k_YOLO\\train\\images\\G028_IMG026.jpg: 30 duplicate labels removed\n",
      "\u001b[34m\u001b[1mtrain: \u001b[0mC:\\Users\\Cristiano\\Desktop\\Faculdade\\2 semestre\\VC\\project\\VC_project\\Shared\\training_inputs\\chessred2k_YOLO\\train\\images\\G028_IMG027.jpg: 30 duplicate labels removed\n",
      "\u001b[34m\u001b[1mtrain: \u001b[0mC:\\Users\\Cristiano\\Desktop\\Faculdade\\2 semestre\\VC\\project\\VC_project\\Shared\\training_inputs\\chessred2k_YOLO\\train\\images\\G028_IMG028.jpg: 30 duplicate labels removed\n",
      "\u001b[34m\u001b[1mtrain: \u001b[0mC:\\Users\\Cristiano\\Desktop\\Faculdade\\2 semestre\\VC\\project\\VC_project\\Shared\\training_inputs\\chessred2k_YOLO\\train\\images\\G028_IMG029.jpg: 30 duplicate labels removed\n",
      "\u001b[34m\u001b[1mtrain: \u001b[0mC:\\Users\\Cristiano\\Desktop\\Faculdade\\2 semestre\\VC\\project\\VC_project\\Shared\\training_inputs\\chessred2k_YOLO\\train\\images\\G028_IMG030.jpg: 30 duplicate labels removed\n",
      "\u001b[34m\u001b[1mtrain: \u001b[0mC:\\Users\\Cristiano\\Desktop\\Faculdade\\2 semestre\\VC\\project\\VC_project\\Shared\\training_inputs\\chessred2k_YOLO\\train\\images\\G028_IMG031.jpg: 30 duplicate labels removed\n",
      "\u001b[34m\u001b[1mtrain: \u001b[0mC:\\Users\\Cristiano\\Desktop\\Faculdade\\2 semestre\\VC\\project\\VC_project\\Shared\\training_inputs\\chessred2k_YOLO\\train\\images\\G028_IMG032.jpg: 30 duplicate labels removed\n",
      "\u001b[34m\u001b[1mtrain: \u001b[0mC:\\Users\\Cristiano\\Desktop\\Faculdade\\2 semestre\\VC\\project\\VC_project\\Shared\\training_inputs\\chessred2k_YOLO\\train\\images\\G028_IMG033.jpg: 30 duplicate labels removed\n",
      "\u001b[34m\u001b[1mtrain: \u001b[0mC:\\Users\\Cristiano\\Desktop\\Faculdade\\2 semestre\\VC\\project\\VC_project\\Shared\\training_inputs\\chessred2k_YOLO\\train\\images\\G028_IMG034.jpg: 30 duplicate labels removed\n",
      "\u001b[34m\u001b[1mtrain: \u001b[0mC:\\Users\\Cristiano\\Desktop\\Faculdade\\2 semestre\\VC\\project\\VC_project\\Shared\\training_inputs\\chessred2k_YOLO\\train\\images\\G028_IMG035.jpg: 30 duplicate labels removed\n",
      "\u001b[34m\u001b[1mtrain: \u001b[0mC:\\Users\\Cristiano\\Desktop\\Faculdade\\2 semestre\\VC\\project\\VC_project\\Shared\\training_inputs\\chessred2k_YOLO\\train\\images\\G028_IMG036.jpg: 29 duplicate labels removed\n",
      "\u001b[34m\u001b[1mtrain: \u001b[0mC:\\Users\\Cristiano\\Desktop\\Faculdade\\2 semestre\\VC\\project\\VC_project\\Shared\\training_inputs\\chessred2k_YOLO\\train\\images\\G028_IMG037.jpg: 28 duplicate labels removed\n",
      "\u001b[34m\u001b[1mtrain: \u001b[0mC:\\Users\\Cristiano\\Desktop\\Faculdade\\2 semestre\\VC\\project\\VC_project\\Shared\\training_inputs\\chessred2k_YOLO\\train\\images\\G028_IMG038.jpg: 27 duplicate labels removed\n",
      "\u001b[34m\u001b[1mtrain: \u001b[0mC:\\Users\\Cristiano\\Desktop\\Faculdade\\2 semestre\\VC\\project\\VC_project\\Shared\\training_inputs\\chessred2k_YOLO\\train\\images\\G028_IMG039.jpg: 27 duplicate labels removed\n",
      "\u001b[34m\u001b[1mtrain: \u001b[0mC:\\Users\\Cristiano\\Desktop\\Faculdade\\2 semestre\\VC\\project\\VC_project\\Shared\\training_inputs\\chessred2k_YOLO\\train\\images\\G028_IMG040.jpg: 27 duplicate labels removed\n",
      "\u001b[34m\u001b[1mtrain: \u001b[0mC:\\Users\\Cristiano\\Desktop\\Faculdade\\2 semestre\\VC\\project\\VC_project\\Shared\\training_inputs\\chessred2k_YOLO\\train\\images\\G028_IMG041.jpg: 27 duplicate labels removed\n",
      "\u001b[34m\u001b[1mtrain: \u001b[0mC:\\Users\\Cristiano\\Desktop\\Faculdade\\2 semestre\\VC\\project\\VC_project\\Shared\\training_inputs\\chessred2k_YOLO\\train\\images\\G028_IMG042.jpg: 27 duplicate labels removed\n",
      "\u001b[34m\u001b[1mtrain: \u001b[0mC:\\Users\\Cristiano\\Desktop\\Faculdade\\2 semestre\\VC\\project\\VC_project\\Shared\\training_inputs\\chessred2k_YOLO\\train\\images\\G028_IMG043.jpg: 27 duplicate labels removed\n",
      "\u001b[34m\u001b[1mtrain: \u001b[0mC:\\Users\\Cristiano\\Desktop\\Faculdade\\2 semestre\\VC\\project\\VC_project\\Shared\\training_inputs\\chessred2k_YOLO\\train\\images\\G028_IMG044.jpg: 26 duplicate labels removed\n",
      "\u001b[34m\u001b[1mtrain: \u001b[0mC:\\Users\\Cristiano\\Desktop\\Faculdade\\2 semestre\\VC\\project\\VC_project\\Shared\\training_inputs\\chessred2k_YOLO\\train\\images\\G028_IMG045.jpg: 25 duplicate labels removed\n",
      "\u001b[34m\u001b[1mtrain: \u001b[0mC:\\Users\\Cristiano\\Desktop\\Faculdade\\2 semestre\\VC\\project\\VC_project\\Shared\\training_inputs\\chessred2k_YOLO\\train\\images\\G028_IMG046.jpg: 25 duplicate labels removed\n",
      "\u001b[34m\u001b[1mtrain: \u001b[0mC:\\Users\\Cristiano\\Desktop\\Faculdade\\2 semestre\\VC\\project\\VC_project\\Shared\\training_inputs\\chessred2k_YOLO\\train\\images\\G028_IMG047.jpg: 25 duplicate labels removed\n",
      "\u001b[34m\u001b[1mtrain: \u001b[0mC:\\Users\\Cristiano\\Desktop\\Faculdade\\2 semestre\\VC\\project\\VC_project\\Shared\\training_inputs\\chessred2k_YOLO\\train\\images\\G028_IMG048.jpg: 24 duplicate labels removed\n",
      "\u001b[34m\u001b[1mtrain: \u001b[0mC:\\Users\\Cristiano\\Desktop\\Faculdade\\2 semestre\\VC\\project\\VC_project\\Shared\\training_inputs\\chessred2k_YOLO\\train\\images\\G028_IMG049.jpg: 24 duplicate labels removed\n",
      "\u001b[34m\u001b[1mtrain: \u001b[0mC:\\Users\\Cristiano\\Desktop\\Faculdade\\2 semestre\\VC\\project\\VC_project\\Shared\\training_inputs\\chessred2k_YOLO\\train\\images\\G028_IMG050.jpg: 24 duplicate labels removed\n",
      "\u001b[34m\u001b[1mtrain: \u001b[0mC:\\Users\\Cristiano\\Desktop\\Faculdade\\2 semestre\\VC\\project\\VC_project\\Shared\\training_inputs\\chessred2k_YOLO\\train\\images\\G028_IMG051.jpg: 24 duplicate labels removed\n",
      "\u001b[34m\u001b[1mtrain: \u001b[0mC:\\Users\\Cristiano\\Desktop\\Faculdade\\2 semestre\\VC\\project\\VC_project\\Shared\\training_inputs\\chessred2k_YOLO\\train\\images\\G028_IMG052.jpg: 24 duplicate labels removed\n",
      "\u001b[34m\u001b[1mtrain: \u001b[0mC:\\Users\\Cristiano\\Desktop\\Faculdade\\2 semestre\\VC\\project\\VC_project\\Shared\\training_inputs\\chessred2k_YOLO\\train\\images\\G028_IMG053.jpg: 24 duplicate labels removed\n",
      "\u001b[34m\u001b[1mtrain: \u001b[0mC:\\Users\\Cristiano\\Desktop\\Faculdade\\2 semestre\\VC\\project\\VC_project\\Shared\\training_inputs\\chessred2k_YOLO\\train\\images\\G028_IMG054.jpg: 24 duplicate labels removed\n",
      "\u001b[34m\u001b[1mtrain: \u001b[0mC:\\Users\\Cristiano\\Desktop\\Faculdade\\2 semestre\\VC\\project\\VC_project\\Shared\\training_inputs\\chessred2k_YOLO\\train\\images\\G028_IMG055.jpg: 24 duplicate labels removed\n",
      "\u001b[34m\u001b[1mtrain: \u001b[0mC:\\Users\\Cristiano\\Desktop\\Faculdade\\2 semestre\\VC\\project\\VC_project\\Shared\\training_inputs\\chessred2k_YOLO\\train\\images\\G028_IMG056.jpg: 24 duplicate labels removed\n",
      "\u001b[34m\u001b[1mtrain: \u001b[0mC:\\Users\\Cristiano\\Desktop\\Faculdade\\2 semestre\\VC\\project\\VC_project\\Shared\\training_inputs\\chessred2k_YOLO\\train\\images\\G028_IMG057.jpg: 23 duplicate labels removed\n",
      "\u001b[34m\u001b[1mtrain: \u001b[0mC:\\Users\\Cristiano\\Desktop\\Faculdade\\2 semestre\\VC\\project\\VC_project\\Shared\\training_inputs\\chessred2k_YOLO\\train\\images\\G028_IMG058.jpg: 22 duplicate labels removed\n",
      "\u001b[34m\u001b[1mtrain: \u001b[0mC:\\Users\\Cristiano\\Desktop\\Faculdade\\2 semestre\\VC\\project\\VC_project\\Shared\\training_inputs\\chessred2k_YOLO\\train\\images\\G028_IMG059.jpg: 22 duplicate labels removed\n",
      "\u001b[34m\u001b[1mtrain: \u001b[0mC:\\Users\\Cristiano\\Desktop\\Faculdade\\2 semestre\\VC\\project\\VC_project\\Shared\\training_inputs\\chessred2k_YOLO\\train\\images\\G028_IMG060.jpg: 22 duplicate labels removed\n",
      "\u001b[34m\u001b[1mtrain: \u001b[0mC:\\Users\\Cristiano\\Desktop\\Faculdade\\2 semestre\\VC\\project\\VC_project\\Shared\\training_inputs\\chessred2k_YOLO\\train\\images\\G028_IMG061.jpg: 22 duplicate labels removed\n",
      "\u001b[34m\u001b[1mtrain: \u001b[0mC:\\Users\\Cristiano\\Desktop\\Faculdade\\2 semestre\\VC\\project\\VC_project\\Shared\\training_inputs\\chessred2k_YOLO\\train\\images\\G028_IMG062.jpg: 22 duplicate labels removed\n",
      "\u001b[34m\u001b[1mtrain: \u001b[0mC:\\Users\\Cristiano\\Desktop\\Faculdade\\2 semestre\\VC\\project\\VC_project\\Shared\\training_inputs\\chessred2k_YOLO\\train\\images\\G028_IMG063.jpg: 21 duplicate labels removed\n",
      "\u001b[34m\u001b[1mtrain: \u001b[0mC:\\Users\\Cristiano\\Desktop\\Faculdade\\2 semestre\\VC\\project\\VC_project\\Shared\\training_inputs\\chessred2k_YOLO\\train\\images\\G028_IMG064.jpg: 20 duplicate labels removed\n",
      "\u001b[34m\u001b[1mtrain: \u001b[0mC:\\Users\\Cristiano\\Desktop\\Faculdade\\2 semestre\\VC\\project\\VC_project\\Shared\\training_inputs\\chessred2k_YOLO\\train\\images\\G028_IMG065.jpg: 20 duplicate labels removed\n",
      "\u001b[34m\u001b[1mtrain: \u001b[0mC:\\Users\\Cristiano\\Desktop\\Faculdade\\2 semestre\\VC\\project\\VC_project\\Shared\\training_inputs\\chessred2k_YOLO\\train\\images\\G028_IMG066.jpg: 19 duplicate labels removed\n",
      "\u001b[34m\u001b[1mtrain: \u001b[0mC:\\Users\\Cristiano\\Desktop\\Faculdade\\2 semestre\\VC\\project\\VC_project\\Shared\\training_inputs\\chessred2k_YOLO\\train\\images\\G028_IMG067.jpg: 19 duplicate labels removed\n",
      "\u001b[34m\u001b[1mtrain: \u001b[0mC:\\Users\\Cristiano\\Desktop\\Faculdade\\2 semestre\\VC\\project\\VC_project\\Shared\\training_inputs\\chessred2k_YOLO\\train\\images\\G028_IMG068.jpg: 19 duplicate labels removed\n",
      "\u001b[34m\u001b[1mtrain: \u001b[0mC:\\Users\\Cristiano\\Desktop\\Faculdade\\2 semestre\\VC\\project\\VC_project\\Shared\\training_inputs\\chessred2k_YOLO\\train\\images\\G028_IMG069.jpg: 19 duplicate labels removed\n",
      "\u001b[34m\u001b[1mtrain: \u001b[0mC:\\Users\\Cristiano\\Desktop\\Faculdade\\2 semestre\\VC\\project\\VC_project\\Shared\\training_inputs\\chessred2k_YOLO\\train\\images\\G028_IMG070.jpg: 19 duplicate labels removed\n",
      "\u001b[34m\u001b[1mtrain: \u001b[0mC:\\Users\\Cristiano\\Desktop\\Faculdade\\2 semestre\\VC\\project\\VC_project\\Shared\\training_inputs\\chessred2k_YOLO\\train\\images\\G028_IMG071.jpg: 19 duplicate labels removed\n",
      "\u001b[34m\u001b[1mtrain: \u001b[0mC:\\Users\\Cristiano\\Desktop\\Faculdade\\2 semestre\\VC\\project\\VC_project\\Shared\\training_inputs\\chessred2k_YOLO\\train\\images\\G028_IMG072.jpg: 19 duplicate labels removed\n",
      "\u001b[34m\u001b[1mtrain: \u001b[0mC:\\Users\\Cristiano\\Desktop\\Faculdade\\2 semestre\\VC\\project\\VC_project\\Shared\\training_inputs\\chessred2k_YOLO\\train\\images\\G028_IMG073.jpg: 19 duplicate labels removed\n",
      "\u001b[34m\u001b[1mtrain: \u001b[0mC:\\Users\\Cristiano\\Desktop\\Faculdade\\2 semestre\\VC\\project\\VC_project\\Shared\\training_inputs\\chessred2k_YOLO\\train\\images\\G028_IMG074.jpg: 19 duplicate labels removed\n",
      "\u001b[34m\u001b[1mtrain: \u001b[0mC:\\Users\\Cristiano\\Desktop\\Faculdade\\2 semestre\\VC\\project\\VC_project\\Shared\\training_inputs\\chessred2k_YOLO\\train\\images\\G028_IMG075.jpg: 19 duplicate labels removed\n",
      "\u001b[34m\u001b[1mtrain: \u001b[0mC:\\Users\\Cristiano\\Desktop\\Faculdade\\2 semestre\\VC\\project\\VC_project\\Shared\\training_inputs\\chessred2k_YOLO\\train\\images\\G028_IMG076.jpg: 19 duplicate labels removed\n",
      "\u001b[34m\u001b[1mtrain: \u001b[0mC:\\Users\\Cristiano\\Desktop\\Faculdade\\2 semestre\\VC\\project\\VC_project\\Shared\\training_inputs\\chessred2k_YOLO\\train\\images\\G028_IMG077.jpg: 19 duplicate labels removed\n",
      "\u001b[34m\u001b[1mtrain: \u001b[0mC:\\Users\\Cristiano\\Desktop\\Faculdade\\2 semestre\\VC\\project\\VC_project\\Shared\\training_inputs\\chessred2k_YOLO\\train\\images\\G028_IMG078.jpg: 19 duplicate labels removed\n",
      "\u001b[34m\u001b[1mtrain: \u001b[0mC:\\Users\\Cristiano\\Desktop\\Faculdade\\2 semestre\\VC\\project\\VC_project\\Shared\\training_inputs\\chessred2k_YOLO\\train\\images\\G028_IMG079.jpg: 18 duplicate labels removed\n",
      "\u001b[34m\u001b[1mtrain: \u001b[0mC:\\Users\\Cristiano\\Desktop\\Faculdade\\2 semestre\\VC\\project\\VC_project\\Shared\\training_inputs\\chessred2k_YOLO\\train\\images\\G028_IMG080.jpg: 18 duplicate labels removed\n",
      "\u001b[34m\u001b[1mtrain: \u001b[0mC:\\Users\\Cristiano\\Desktop\\Faculdade\\2 semestre\\VC\\project\\VC_project\\Shared\\training_inputs\\chessred2k_YOLO\\train\\images\\G028_IMG081.jpg: 18 duplicate labels removed\n",
      "\u001b[34m\u001b[1mtrain: \u001b[0mC:\\Users\\Cristiano\\Desktop\\Faculdade\\2 semestre\\VC\\project\\VC_project\\Shared\\training_inputs\\chessred2k_YOLO\\train\\images\\G028_IMG082.jpg: 18 duplicate labels removed\n",
      "\u001b[34m\u001b[1mtrain: \u001b[0mC:\\Users\\Cristiano\\Desktop\\Faculdade\\2 semestre\\VC\\project\\VC_project\\Shared\\training_inputs\\chessred2k_YOLO\\train\\images\\G028_IMG083.jpg: 18 duplicate labels removed\n",
      "\u001b[34m\u001b[1mtrain: \u001b[0mC:\\Users\\Cristiano\\Desktop\\Faculdade\\2 semestre\\VC\\project\\VC_project\\Shared\\training_inputs\\chessred2k_YOLO\\train\\images\\G028_IMG084.jpg: 18 duplicate labels removed\n",
      "\u001b[34m\u001b[1mtrain: \u001b[0mC:\\Users\\Cristiano\\Desktop\\Faculdade\\2 semestre\\VC\\project\\VC_project\\Shared\\training_inputs\\chessred2k_YOLO\\train\\images\\G028_IMG085.jpg: 18 duplicate labels removed\n",
      "\u001b[34m\u001b[1mtrain: \u001b[0mC:\\Users\\Cristiano\\Desktop\\Faculdade\\2 semestre\\VC\\project\\VC_project\\Shared\\training_inputs\\chessred2k_YOLO\\train\\images\\G028_IMG086.jpg: 18 duplicate labels removed\n",
      "\u001b[34m\u001b[1mtrain: \u001b[0mC:\\Users\\Cristiano\\Desktop\\Faculdade\\2 semestre\\VC\\project\\VC_project\\Shared\\training_inputs\\chessred2k_YOLO\\train\\images\\G028_IMG087.jpg: 18 duplicate labels removed\n",
      "\u001b[34m\u001b[1mtrain: \u001b[0mC:\\Users\\Cristiano\\Desktop\\Faculdade\\2 semestre\\VC\\project\\VC_project\\Shared\\training_inputs\\chessred2k_YOLO\\train\\images\\G028_IMG088.jpg: 18 duplicate labels removed\n",
      "\u001b[34m\u001b[1mtrain: \u001b[0mC:\\Users\\Cristiano\\Desktop\\Faculdade\\2 semestre\\VC\\project\\VC_project\\Shared\\training_inputs\\chessred2k_YOLO\\train\\images\\G028_IMG089.jpg: 17 duplicate labels removed\n",
      "\u001b[34m\u001b[1mtrain: \u001b[0mC:\\Users\\Cristiano\\Desktop\\Faculdade\\2 semestre\\VC\\project\\VC_project\\Shared\\training_inputs\\chessred2k_YOLO\\train\\images\\G028_IMG090.jpg: 16 duplicate labels removed\n",
      "\u001b[34m\u001b[1mtrain: \u001b[0mC:\\Users\\Cristiano\\Desktop\\Faculdade\\2 semestre\\VC\\project\\VC_project\\Shared\\training_inputs\\chessred2k_YOLO\\train\\images\\G028_IMG091.jpg: 15 duplicate labels removed\n",
      "\u001b[34m\u001b[1mtrain: \u001b[0mC:\\Users\\Cristiano\\Desktop\\Faculdade\\2 semestre\\VC\\project\\VC_project\\Shared\\training_inputs\\chessred2k_YOLO\\train\\images\\G028_IMG092.jpg: 15 duplicate labels removed\n",
      "\u001b[34m\u001b[1mtrain: \u001b[0mC:\\Users\\Cristiano\\Desktop\\Faculdade\\2 semestre\\VC\\project\\VC_project\\Shared\\training_inputs\\chessred2k_YOLO\\train\\images\\G028_IMG093.jpg: 14 duplicate labels removed\n",
      "\u001b[34m\u001b[1mtrain: \u001b[0mC:\\Users\\Cristiano\\Desktop\\Faculdade\\2 semestre\\VC\\project\\VC_project\\Shared\\training_inputs\\chessred2k_YOLO\\train\\images\\G028_IMG094.jpg: 14 duplicate labels removed\n",
      "\u001b[34m\u001b[1mtrain: \u001b[0mC:\\Users\\Cristiano\\Desktop\\Faculdade\\2 semestre\\VC\\project\\VC_project\\Shared\\training_inputs\\chessred2k_YOLO\\train\\images\\G028_IMG095.jpg: 14 duplicate labels removed\n",
      "\u001b[34m\u001b[1mtrain: \u001b[0mC:\\Users\\Cristiano\\Desktop\\Faculdade\\2 semestre\\VC\\project\\VC_project\\Shared\\training_inputs\\chessred2k_YOLO\\train\\images\\G028_IMG096.jpg: 14 duplicate labels removed\n",
      "\u001b[34m\u001b[1mtrain: \u001b[0mC:\\Users\\Cristiano\\Desktop\\Faculdade\\2 semestre\\VC\\project\\VC_project\\Shared\\training_inputs\\chessred2k_YOLO\\train\\images\\G028_IMG097.jpg: 14 duplicate labels removed\n",
      "\u001b[34m\u001b[1mtrain: \u001b[0mC:\\Users\\Cristiano\\Desktop\\Faculdade\\2 semestre\\VC\\project\\VC_project\\Shared\\training_inputs\\chessred2k_YOLO\\train\\images\\G028_IMG098.jpg: 14 duplicate labels removed\n",
      "\u001b[34m\u001b[1mtrain: \u001b[0mC:\\Users\\Cristiano\\Desktop\\Faculdade\\2 semestre\\VC\\project\\VC_project\\Shared\\training_inputs\\chessred2k_YOLO\\train\\images\\G028_IMG099.jpg: 14 duplicate labels removed\n",
      "\u001b[34m\u001b[1mtrain: \u001b[0mC:\\Users\\Cristiano\\Desktop\\Faculdade\\2 semestre\\VC\\project\\VC_project\\Shared\\training_inputs\\chessred2k_YOLO\\train\\images\\G028_IMG100.jpg: 14 duplicate labels removed\n",
      "\u001b[34m\u001b[1mtrain: \u001b[0mC:\\Users\\Cristiano\\Desktop\\Faculdade\\2 semestre\\VC\\project\\VC_project\\Shared\\training_inputs\\chessred2k_YOLO\\train\\images\\G028_IMG101.jpg: 14 duplicate labels removed\n",
      "\u001b[34m\u001b[1mtrain: \u001b[0mC:\\Users\\Cristiano\\Desktop\\Faculdade\\2 semestre\\VC\\project\\VC_project\\Shared\\training_inputs\\chessred2k_YOLO\\train\\images\\G028_IMG102.jpg: 14 duplicate labels removed\n",
      "\u001b[34m\u001b[1mtrain: \u001b[0mC:\\Users\\Cristiano\\Desktop\\Faculdade\\2 semestre\\VC\\project\\VC_project\\Shared\\training_inputs\\chessred2k_YOLO\\train\\images\\G028_IMG103.jpg: 14 duplicate labels removed\n",
      "\u001b[34m\u001b[1mtrain: \u001b[0mC:\\Users\\Cristiano\\Desktop\\Faculdade\\2 semestre\\VC\\project\\VC_project\\Shared\\training_inputs\\chessred2k_YOLO\\train\\images\\G028_IMG104.jpg: 14 duplicate labels removed\n",
      "\u001b[34m\u001b[1mtrain: \u001b[0mC:\\Users\\Cristiano\\Desktop\\Faculdade\\2 semestre\\VC\\project\\VC_project\\Shared\\training_inputs\\chessred2k_YOLO\\train\\images\\G028_IMG105.jpg: 14 duplicate labels removed\n",
      "\u001b[34m\u001b[1mtrain: \u001b[0mC:\\Users\\Cristiano\\Desktop\\Faculdade\\2 semestre\\VC\\project\\VC_project\\Shared\\training_inputs\\chessred2k_YOLO\\train\\images\\G028_IMG106.jpg: 14 duplicate labels removed\n",
      "\u001b[34m\u001b[1mtrain: \u001b[0mC:\\Users\\Cristiano\\Desktop\\Faculdade\\2 semestre\\VC\\project\\VC_project\\Shared\\training_inputs\\chessred2k_YOLO\\train\\images\\G038_IMG000.jpg: 32 duplicate labels removed\n",
      "\u001b[34m\u001b[1mtrain: \u001b[0mC:\\Users\\Cristiano\\Desktop\\Faculdade\\2 semestre\\VC\\project\\VC_project\\Shared\\training_inputs\\chessred2k_YOLO\\train\\images\\G038_IMG001.jpg: 32 duplicate labels removed\n",
      "\u001b[34m\u001b[1mtrain: \u001b[0mC:\\Users\\Cristiano\\Desktop\\Faculdade\\2 semestre\\VC\\project\\VC_project\\Shared\\training_inputs\\chessred2k_YOLO\\train\\images\\G038_IMG002.jpg: 32 duplicate labels removed\n",
      "\u001b[34m\u001b[1mtrain: \u001b[0mC:\\Users\\Cristiano\\Desktop\\Faculdade\\2 semestre\\VC\\project\\VC_project\\Shared\\training_inputs\\chessred2k_YOLO\\train\\images\\G038_IMG003.jpg: 32 duplicate labels removed\n",
      "\u001b[34m\u001b[1mtrain: \u001b[0mC:\\Users\\Cristiano\\Desktop\\Faculdade\\2 semestre\\VC\\project\\VC_project\\Shared\\training_inputs\\chessred2k_YOLO\\train\\images\\G038_IMG004.jpg: 32 duplicate labels removed\n",
      "\u001b[34m\u001b[1mtrain: \u001b[0mC:\\Users\\Cristiano\\Desktop\\Faculdade\\2 semestre\\VC\\project\\VC_project\\Shared\\training_inputs\\chessred2k_YOLO\\train\\images\\G038_IMG005.jpg: 32 duplicate labels removed\n",
      "\u001b[34m\u001b[1mtrain: \u001b[0mC:\\Users\\Cristiano\\Desktop\\Faculdade\\2 semestre\\VC\\project\\VC_project\\Shared\\training_inputs\\chessred2k_YOLO\\train\\images\\G038_IMG006.jpg: 31 duplicate labels removed\n",
      "\u001b[34m\u001b[1mtrain: \u001b[0mC:\\Users\\Cristiano\\Desktop\\Faculdade\\2 semestre\\VC\\project\\VC_project\\Shared\\training_inputs\\chessred2k_YOLO\\train\\images\\G038_IMG007.jpg: 30 duplicate labels removed\n",
      "\u001b[34m\u001b[1mtrain: \u001b[0mC:\\Users\\Cristiano\\Desktop\\Faculdade\\2 semestre\\VC\\project\\VC_project\\Shared\\training_inputs\\chessred2k_YOLO\\train\\images\\G038_IMG008.jpg: 30 duplicate labels removed\n",
      "\u001b[34m\u001b[1mtrain: \u001b[0mC:\\Users\\Cristiano\\Desktop\\Faculdade\\2 semestre\\VC\\project\\VC_project\\Shared\\training_inputs\\chessred2k_YOLO\\train\\images\\G038_IMG009.jpg: 30 duplicate labels removed\n",
      "\u001b[34m\u001b[1mtrain: \u001b[0mC:\\Users\\Cristiano\\Desktop\\Faculdade\\2 semestre\\VC\\project\\VC_project\\Shared\\training_inputs\\chessred2k_YOLO\\train\\images\\G038_IMG010.jpg: 30 duplicate labels removed\n",
      "\u001b[34m\u001b[1mtrain: \u001b[0mC:\\Users\\Cristiano\\Desktop\\Faculdade\\2 semestre\\VC\\project\\VC_project\\Shared\\training_inputs\\chessred2k_YOLO\\train\\images\\G038_IMG011.jpg: 30 duplicate labels removed\n",
      "\u001b[34m\u001b[1mtrain: \u001b[0mC:\\Users\\Cristiano\\Desktop\\Faculdade\\2 semestre\\VC\\project\\VC_project\\Shared\\training_inputs\\chessred2k_YOLO\\train\\images\\G038_IMG012.jpg: 30 duplicate labels removed\n",
      "\u001b[34m\u001b[1mtrain: \u001b[0mC:\\Users\\Cristiano\\Desktop\\Faculdade\\2 semestre\\VC\\project\\VC_project\\Shared\\training_inputs\\chessred2k_YOLO\\train\\images\\G038_IMG013.jpg: 30 duplicate labels removed\n",
      "\u001b[34m\u001b[1mtrain: \u001b[0mC:\\Users\\Cristiano\\Desktop\\Faculdade\\2 semestre\\VC\\project\\VC_project\\Shared\\training_inputs\\chessred2k_YOLO\\train\\images\\G038_IMG014.jpg: 30 duplicate labels removed\n",
      "\u001b[34m\u001b[1mtrain: \u001b[0mC:\\Users\\Cristiano\\Desktop\\Faculdade\\2 semestre\\VC\\project\\VC_project\\Shared\\training_inputs\\chessred2k_YOLO\\train\\images\\G038_IMG015.jpg: 29 duplicate labels removed\n",
      "\u001b[34m\u001b[1mtrain: \u001b[0mC:\\Users\\Cristiano\\Desktop\\Faculdade\\2 semestre\\VC\\project\\VC_project\\Shared\\training_inputs\\chessred2k_YOLO\\train\\images\\G038_IMG016.jpg: 28 duplicate labels removed\n",
      "\u001b[34m\u001b[1mtrain: \u001b[0mC:\\Users\\Cristiano\\Desktop\\Faculdade\\2 semestre\\VC\\project\\VC_project\\Shared\\training_inputs\\chessred2k_YOLO\\train\\images\\G038_IMG017.jpg: 28 duplicate labels removed\n",
      "\u001b[34m\u001b[1mtrain: \u001b[0mC:\\Users\\Cristiano\\Desktop\\Faculdade\\2 semestre\\VC\\project\\VC_project\\Shared\\training_inputs\\chessred2k_YOLO\\train\\images\\G038_IMG018.jpg: 28 duplicate labels removed\n",
      "\u001b[34m\u001b[1mtrain: \u001b[0mC:\\Users\\Cristiano\\Desktop\\Faculdade\\2 semestre\\VC\\project\\VC_project\\Shared\\training_inputs\\chessred2k_YOLO\\train\\images\\G038_IMG019.jpg: 28 duplicate labels removed\n",
      "\u001b[34m\u001b[1mtrain: \u001b[0mC:\\Users\\Cristiano\\Desktop\\Faculdade\\2 semestre\\VC\\project\\VC_project\\Shared\\training_inputs\\chessred2k_YOLO\\train\\images\\G038_IMG020.jpg: 28 duplicate labels removed\n",
      "\u001b[34m\u001b[1mtrain: \u001b[0mC:\\Users\\Cristiano\\Desktop\\Faculdade\\2 semestre\\VC\\project\\VC_project\\Shared\\training_inputs\\chessred2k_YOLO\\train\\images\\G038_IMG021.jpg: 28 duplicate labels removed\n",
      "\u001b[34m\u001b[1mtrain: \u001b[0mC:\\Users\\Cristiano\\Desktop\\Faculdade\\2 semestre\\VC\\project\\VC_project\\Shared\\training_inputs\\chessred2k_YOLO\\train\\images\\G038_IMG022.jpg: 28 duplicate labels removed\n",
      "\u001b[34m\u001b[1mtrain: \u001b[0mC:\\Users\\Cristiano\\Desktop\\Faculdade\\2 semestre\\VC\\project\\VC_project\\Shared\\training_inputs\\chessred2k_YOLO\\train\\images\\G038_IMG023.jpg: 28 duplicate labels removed\n",
      "\u001b[34m\u001b[1mtrain: \u001b[0mC:\\Users\\Cristiano\\Desktop\\Faculdade\\2 semestre\\VC\\project\\VC_project\\Shared\\training_inputs\\chessred2k_YOLO\\train\\images\\G038_IMG024.jpg: 28 duplicate labels removed\n",
      "\u001b[34m\u001b[1mtrain: \u001b[0mC:\\Users\\Cristiano\\Desktop\\Faculdade\\2 semestre\\VC\\project\\VC_project\\Shared\\training_inputs\\chessred2k_YOLO\\train\\images\\G038_IMG025.jpg: 28 duplicate labels removed\n",
      "\u001b[34m\u001b[1mtrain: \u001b[0mC:\\Users\\Cristiano\\Desktop\\Faculdade\\2 semestre\\VC\\project\\VC_project\\Shared\\training_inputs\\chessred2k_YOLO\\train\\images\\G038_IMG026.jpg: 27 duplicate labels removed\n",
      "\u001b[34m\u001b[1mtrain: \u001b[0mC:\\Users\\Cristiano\\Desktop\\Faculdade\\2 semestre\\VC\\project\\VC_project\\Shared\\training_inputs\\chessred2k_YOLO\\train\\images\\G038_IMG027.jpg: 26 duplicate labels removed\n",
      "\u001b[34m\u001b[1mtrain: \u001b[0mC:\\Users\\Cristiano\\Desktop\\Faculdade\\2 semestre\\VC\\project\\VC_project\\Shared\\training_inputs\\chessred2k_YOLO\\train\\images\\G038_IMG028.jpg: 26 duplicate labels removed\n",
      "\u001b[34m\u001b[1mtrain: \u001b[0mC:\\Users\\Cristiano\\Desktop\\Faculdade\\2 semestre\\VC\\project\\VC_project\\Shared\\training_inputs\\chessred2k_YOLO\\train\\images\\G038_IMG029.jpg: 25 duplicate labels removed\n",
      "\u001b[34m\u001b[1mtrain: \u001b[0mC:\\Users\\Cristiano\\Desktop\\Faculdade\\2 semestre\\VC\\project\\VC_project\\Shared\\training_inputs\\chessred2k_YOLO\\train\\images\\G038_IMG030.jpg: 25 duplicate labels removed\n",
      "\u001b[34m\u001b[1mtrain: \u001b[0mC:\\Users\\Cristiano\\Desktop\\Faculdade\\2 semestre\\VC\\project\\VC_project\\Shared\\training_inputs\\chessred2k_YOLO\\train\\images\\G038_IMG031.jpg: 25 duplicate labels removed\n",
      "\u001b[34m\u001b[1mtrain: \u001b[0mC:\\Users\\Cristiano\\Desktop\\Faculdade\\2 semestre\\VC\\project\\VC_project\\Shared\\training_inputs\\chessred2k_YOLO\\train\\images\\G038_IMG032.jpg: 25 duplicate labels removed\n",
      "\u001b[34m\u001b[1mtrain: \u001b[0mC:\\Users\\Cristiano\\Desktop\\Faculdade\\2 semestre\\VC\\project\\VC_project\\Shared\\training_inputs\\chessred2k_YOLO\\train\\images\\G038_IMG033.jpg: 24 duplicate labels removed\n",
      "\u001b[34m\u001b[1mtrain: \u001b[0mC:\\Users\\Cristiano\\Desktop\\Faculdade\\2 semestre\\VC\\project\\VC_project\\Shared\\training_inputs\\chessred2k_YOLO\\train\\images\\G038_IMG034.jpg: 23 duplicate labels removed\n",
      "\u001b[34m\u001b[1mtrain: \u001b[0mC:\\Users\\Cristiano\\Desktop\\Faculdade\\2 semestre\\VC\\project\\VC_project\\Shared\\training_inputs\\chessred2k_YOLO\\train\\images\\G038_IMG035.jpg: 23 duplicate labels removed\n",
      "\u001b[34m\u001b[1mtrain: \u001b[0mC:\\Users\\Cristiano\\Desktop\\Faculdade\\2 semestre\\VC\\project\\VC_project\\Shared\\training_inputs\\chessred2k_YOLO\\train\\images\\G038_IMG036.jpg: 23 duplicate labels removed\n",
      "\u001b[34m\u001b[1mtrain: \u001b[0mC:\\Users\\Cristiano\\Desktop\\Faculdade\\2 semestre\\VC\\project\\VC_project\\Shared\\training_inputs\\chessred2k_YOLO\\train\\images\\G038_IMG037.jpg: 23 duplicate labels removed\n",
      "\u001b[34m\u001b[1mtrain: \u001b[0mC:\\Users\\Cristiano\\Desktop\\Faculdade\\2 semestre\\VC\\project\\VC_project\\Shared\\training_inputs\\chessred2k_YOLO\\train\\images\\G038_IMG038.jpg: 23 duplicate labels removed\n",
      "\u001b[34m\u001b[1mtrain: \u001b[0mC:\\Users\\Cristiano\\Desktop\\Faculdade\\2 semestre\\VC\\project\\VC_project\\Shared\\training_inputs\\chessred2k_YOLO\\train\\images\\G038_IMG039.jpg: 23 duplicate labels removed\n",
      "\u001b[34m\u001b[1mtrain: \u001b[0mC:\\Users\\Cristiano\\Desktop\\Faculdade\\2 semestre\\VC\\project\\VC_project\\Shared\\training_inputs\\chessred2k_YOLO\\train\\images\\G038_IMG040.jpg: 22 duplicate labels removed\n",
      "\u001b[34m\u001b[1mtrain: \u001b[0mC:\\Users\\Cristiano\\Desktop\\Faculdade\\2 semestre\\VC\\project\\VC_project\\Shared\\training_inputs\\chessred2k_YOLO\\train\\images\\G038_IMG041.jpg: 21 duplicate labels removed\n",
      "\u001b[34m\u001b[1mtrain: \u001b[0mC:\\Users\\Cristiano\\Desktop\\Faculdade\\2 semestre\\VC\\project\\VC_project\\Shared\\training_inputs\\chessred2k_YOLO\\train\\images\\G038_IMG042.jpg: 20 duplicate labels removed\n",
      "\u001b[34m\u001b[1mtrain: \u001b[0mC:\\Users\\Cristiano\\Desktop\\Faculdade\\2 semestre\\VC\\project\\VC_project\\Shared\\training_inputs\\chessred2k_YOLO\\train\\images\\G038_IMG043.jpg: 19 duplicate labels removed\n",
      "\u001b[34m\u001b[1mtrain: \u001b[0mC:\\Users\\Cristiano\\Desktop\\Faculdade\\2 semestre\\VC\\project\\VC_project\\Shared\\training_inputs\\chessred2k_YOLO\\train\\images\\G038_IMG044.jpg: 19 duplicate labels removed\n",
      "\u001b[34m\u001b[1mtrain: \u001b[0mC:\\Users\\Cristiano\\Desktop\\Faculdade\\2 semestre\\VC\\project\\VC_project\\Shared\\training_inputs\\chessred2k_YOLO\\train\\images\\G038_IMG045.jpg: 19 duplicate labels removed\n",
      "\u001b[34m\u001b[1mtrain: \u001b[0mC:\\Users\\Cristiano\\Desktop\\Faculdade\\2 semestre\\VC\\project\\VC_project\\Shared\\training_inputs\\chessred2k_YOLO\\train\\images\\G038_IMG046.jpg: 19 duplicate labels removed\n",
      "\u001b[34m\u001b[1mtrain: \u001b[0mC:\\Users\\Cristiano\\Desktop\\Faculdade\\2 semestre\\VC\\project\\VC_project\\Shared\\training_inputs\\chessred2k_YOLO\\train\\images\\G038_IMG047.jpg: 19 duplicate labels removed\n",
      "\u001b[34m\u001b[1mtrain: \u001b[0mC:\\Users\\Cristiano\\Desktop\\Faculdade\\2 semestre\\VC\\project\\VC_project\\Shared\\training_inputs\\chessred2k_YOLO\\train\\images\\G038_IMG048.jpg: 18 duplicate labels removed\n",
      "\u001b[34m\u001b[1mtrain: \u001b[0mC:\\Users\\Cristiano\\Desktop\\Faculdade\\2 semestre\\VC\\project\\VC_project\\Shared\\training_inputs\\chessred2k_YOLO\\train\\images\\G038_IMG049.jpg: 17 duplicate labels removed\n",
      "\u001b[34m\u001b[1mtrain: \u001b[0mC:\\Users\\Cristiano\\Desktop\\Faculdade\\2 semestre\\VC\\project\\VC_project\\Shared\\training_inputs\\chessred2k_YOLO\\train\\images\\G038_IMG050.jpg: 17 duplicate labels removed\n",
      "\u001b[34m\u001b[1mtrain: \u001b[0mC:\\Users\\Cristiano\\Desktop\\Faculdade\\2 semestre\\VC\\project\\VC_project\\Shared\\training_inputs\\chessred2k_YOLO\\train\\images\\G038_IMG051.jpg: 17 duplicate labels removed\n",
      "\u001b[34m\u001b[1mtrain: \u001b[0mC:\\Users\\Cristiano\\Desktop\\Faculdade\\2 semestre\\VC\\project\\VC_project\\Shared\\training_inputs\\chessred2k_YOLO\\train\\images\\G038_IMG052.jpg: 16 duplicate labels removed\n",
      "\u001b[34m\u001b[1mtrain: \u001b[0mC:\\Users\\Cristiano\\Desktop\\Faculdade\\2 semestre\\VC\\project\\VC_project\\Shared\\training_inputs\\chessred2k_YOLO\\train\\images\\G038_IMG053.jpg: 16 duplicate labels removed\n",
      "\u001b[34m\u001b[1mtrain: \u001b[0mC:\\Users\\Cristiano\\Desktop\\Faculdade\\2 semestre\\VC\\project\\VC_project\\Shared\\training_inputs\\chessred2k_YOLO\\train\\images\\G038_IMG054.jpg: 16 duplicate labels removed\n",
      "\u001b[34m\u001b[1mtrain: \u001b[0mC:\\Users\\Cristiano\\Desktop\\Faculdade\\2 semestre\\VC\\project\\VC_project\\Shared\\training_inputs\\chessred2k_YOLO\\train\\images\\G038_IMG055.jpg: 16 duplicate labels removed\n",
      "\u001b[34m\u001b[1mtrain: \u001b[0mC:\\Users\\Cristiano\\Desktop\\Faculdade\\2 semestre\\VC\\project\\VC_project\\Shared\\training_inputs\\chessred2k_YOLO\\train\\images\\G038_IMG056.jpg: 16 duplicate labels removed\n",
      "\u001b[34m\u001b[1mtrain: \u001b[0mC:\\Users\\Cristiano\\Desktop\\Faculdade\\2 semestre\\VC\\project\\VC_project\\Shared\\training_inputs\\chessred2k_YOLO\\train\\images\\G038_IMG057.jpg: 16 duplicate labels removed\n",
      "\u001b[34m\u001b[1mtrain: \u001b[0mC:\\Users\\Cristiano\\Desktop\\Faculdade\\2 semestre\\VC\\project\\VC_project\\Shared\\training_inputs\\chessred2k_YOLO\\train\\images\\G038_IMG058.jpg: 16 duplicate labels removed\n",
      "\u001b[34m\u001b[1mtrain: \u001b[0mC:\\Users\\Cristiano\\Desktop\\Faculdade\\2 semestre\\VC\\project\\VC_project\\Shared\\training_inputs\\chessred2k_YOLO\\train\\images\\G038_IMG059.jpg: 15 duplicate labels removed\n",
      "\u001b[34m\u001b[1mtrain: \u001b[0mC:\\Users\\Cristiano\\Desktop\\Faculdade\\2 semestre\\VC\\project\\VC_project\\Shared\\training_inputs\\chessred2k_YOLO\\train\\images\\G038_IMG060.jpg: 15 duplicate labels removed\n",
      "\u001b[34m\u001b[1mtrain: \u001b[0mC:\\Users\\Cristiano\\Desktop\\Faculdade\\2 semestre\\VC\\project\\VC_project\\Shared\\training_inputs\\chessred2k_YOLO\\train\\images\\G038_IMG061.jpg: 15 duplicate labels removed\n",
      "\u001b[34m\u001b[1mtrain: \u001b[0mC:\\Users\\Cristiano\\Desktop\\Faculdade\\2 semestre\\VC\\project\\VC_project\\Shared\\training_inputs\\chessred2k_YOLO\\train\\images\\G038_IMG062.jpg: 15 duplicate labels removed\n",
      "\u001b[34m\u001b[1mtrain: \u001b[0mC:\\Users\\Cristiano\\Desktop\\Faculdade\\2 semestre\\VC\\project\\VC_project\\Shared\\training_inputs\\chessred2k_YOLO\\train\\images\\G038_IMG063.jpg: 14 duplicate labels removed\n",
      "\u001b[34m\u001b[1mtrain: \u001b[0mC:\\Users\\Cristiano\\Desktop\\Faculdade\\2 semestre\\VC\\project\\VC_project\\Shared\\training_inputs\\chessred2k_YOLO\\train\\images\\G038_IMG064.jpg: 14 duplicate labels removed\n",
      "\u001b[34m\u001b[1mtrain: \u001b[0mC:\\Users\\Cristiano\\Desktop\\Faculdade\\2 semestre\\VC\\project\\VC_project\\Shared\\training_inputs\\chessred2k_YOLO\\train\\images\\G038_IMG065.jpg: 14 duplicate labels removed\n",
      "\u001b[34m\u001b[1mtrain: \u001b[0mC:\\Users\\Cristiano\\Desktop\\Faculdade\\2 semestre\\VC\\project\\VC_project\\Shared\\training_inputs\\chessred2k_YOLO\\train\\images\\G038_IMG066.jpg: 14 duplicate labels removed\n",
      "\u001b[34m\u001b[1mtrain: \u001b[0mC:\\Users\\Cristiano\\Desktop\\Faculdade\\2 semestre\\VC\\project\\VC_project\\Shared\\training_inputs\\chessred2k_YOLO\\train\\images\\G038_IMG067.jpg: 14 duplicate labels removed\n",
      "\u001b[34m\u001b[1mtrain: \u001b[0mC:\\Users\\Cristiano\\Desktop\\Faculdade\\2 semestre\\VC\\project\\VC_project\\Shared\\training_inputs\\chessred2k_YOLO\\train\\images\\G038_IMG068.jpg: 14 duplicate labels removed\n",
      "\u001b[34m\u001b[1mtrain: \u001b[0mC:\\Users\\Cristiano\\Desktop\\Faculdade\\2 semestre\\VC\\project\\VC_project\\Shared\\training_inputs\\chessred2k_YOLO\\train\\images\\G038_IMG069.jpg: 14 duplicate labels removed\n",
      "\u001b[34m\u001b[1mtrain: \u001b[0mC:\\Users\\Cristiano\\Desktop\\Faculdade\\2 semestre\\VC\\project\\VC_project\\Shared\\training_inputs\\chessred2k_YOLO\\train\\images\\G038_IMG070.jpg: 14 duplicate labels removed\n",
      "\u001b[34m\u001b[1mtrain: \u001b[0mC:\\Users\\Cristiano\\Desktop\\Faculdade\\2 semestre\\VC\\project\\VC_project\\Shared\\training_inputs\\chessred2k_YOLO\\train\\images\\G038_IMG071.jpg: 14 duplicate labels removed\n",
      "\u001b[34m\u001b[1mtrain: \u001b[0mC:\\Users\\Cristiano\\Desktop\\Faculdade\\2 semestre\\VC\\project\\VC_project\\Shared\\training_inputs\\chessred2k_YOLO\\train\\images\\G038_IMG072.jpg: 14 duplicate labels removed\n",
      "\u001b[34m\u001b[1mtrain: \u001b[0mC:\\Users\\Cristiano\\Desktop\\Faculdade\\2 semestre\\VC\\project\\VC_project\\Shared\\training_inputs\\chessred2k_YOLO\\train\\images\\G038_IMG073.jpg: 14 duplicate labels removed\n",
      "\u001b[34m\u001b[1mtrain: \u001b[0mC:\\Users\\Cristiano\\Desktop\\Faculdade\\2 semestre\\VC\\project\\VC_project\\Shared\\training_inputs\\chessred2k_YOLO\\train\\images\\G038_IMG074.jpg: 14 duplicate labels removed\n",
      "\u001b[34m\u001b[1mtrain: \u001b[0mC:\\Users\\Cristiano\\Desktop\\Faculdade\\2 semestre\\VC\\project\\VC_project\\Shared\\training_inputs\\chessred2k_YOLO\\train\\images\\G038_IMG075.jpg: 14 duplicate labels removed\n",
      "\u001b[34m\u001b[1mtrain: \u001b[0mC:\\Users\\Cristiano\\Desktop\\Faculdade\\2 semestre\\VC\\project\\VC_project\\Shared\\training_inputs\\chessred2k_YOLO\\train\\images\\G038_IMG076.jpg: 14 duplicate labels removed\n",
      "\u001b[34m\u001b[1mtrain: \u001b[0mC:\\Users\\Cristiano\\Desktop\\Faculdade\\2 semestre\\VC\\project\\VC_project\\Shared\\training_inputs\\chessred2k_YOLO\\train\\images\\G038_IMG077.jpg: 14 duplicate labels removed\n",
      "\u001b[34m\u001b[1mtrain: \u001b[0mC:\\Users\\Cristiano\\Desktop\\Faculdade\\2 semestre\\VC\\project\\VC_project\\Shared\\training_inputs\\chessred2k_YOLO\\train\\images\\G038_IMG078.jpg: 14 duplicate labels removed\n",
      "\u001b[34m\u001b[1mtrain: \u001b[0mC:\\Users\\Cristiano\\Desktop\\Faculdade\\2 semestre\\VC\\project\\VC_project\\Shared\\training_inputs\\chessred2k_YOLO\\train\\images\\G038_IMG079.jpg: 14 duplicate labels removed\n",
      "\u001b[34m\u001b[1mtrain: \u001b[0mC:\\Users\\Cristiano\\Desktop\\Faculdade\\2 semestre\\VC\\project\\VC_project\\Shared\\training_inputs\\chessred2k_YOLO\\train\\images\\G038_IMG080.jpg: 13 duplicate labels removed\n",
      "\u001b[34m\u001b[1mtrain: \u001b[0mC:\\Users\\Cristiano\\Desktop\\Faculdade\\2 semestre\\VC\\project\\VC_project\\Shared\\training_inputs\\chessred2k_YOLO\\train\\images\\G038_IMG081.jpg: 12 duplicate labels removed\n",
      "\u001b[34m\u001b[1mtrain: \u001b[0mC:\\Users\\Cristiano\\Desktop\\Faculdade\\2 semestre\\VC\\project\\VC_project\\Shared\\training_inputs\\chessred2k_YOLO\\train\\images\\G038_IMG082.jpg: 12 duplicate labels removed\n",
      "\u001b[34m\u001b[1mtrain: \u001b[0mC:\\Users\\Cristiano\\Desktop\\Faculdade\\2 semestre\\VC\\project\\VC_project\\Shared\\training_inputs\\chessred2k_YOLO\\train\\images\\G038_IMG083.jpg: 12 duplicate labels removed\n",
      "\u001b[34m\u001b[1mtrain: \u001b[0mC:\\Users\\Cristiano\\Desktop\\Faculdade\\2 semestre\\VC\\project\\VC_project\\Shared\\training_inputs\\chessred2k_YOLO\\train\\images\\G038_IMG084.jpg: 12 duplicate labels removed\n",
      "\u001b[34m\u001b[1mtrain: \u001b[0mC:\\Users\\Cristiano\\Desktop\\Faculdade\\2 semestre\\VC\\project\\VC_project\\Shared\\training_inputs\\chessred2k_YOLO\\train\\images\\G038_IMG085.jpg: 12 duplicate labels removed\n",
      "\u001b[34m\u001b[1mtrain: \u001b[0mC:\\Users\\Cristiano\\Desktop\\Faculdade\\2 semestre\\VC\\project\\VC_project\\Shared\\training_inputs\\chessred2k_YOLO\\train\\images\\G038_IMG086.jpg: 12 duplicate labels removed\n",
      "\u001b[34m\u001b[1mtrain: \u001b[0mC:\\Users\\Cristiano\\Desktop\\Faculdade\\2 semestre\\VC\\project\\VC_project\\Shared\\training_inputs\\chessred2k_YOLO\\train\\images\\G038_IMG087.jpg: 12 duplicate labels removed\n",
      "\u001b[34m\u001b[1mtrain: \u001b[0mC:\\Users\\Cristiano\\Desktop\\Faculdade\\2 semestre\\VC\\project\\VC_project\\Shared\\training_inputs\\chessred2k_YOLO\\train\\images\\G038_IMG088.jpg: 12 duplicate labels removed\n",
      "\u001b[34m\u001b[1mtrain: \u001b[0mC:\\Users\\Cristiano\\Desktop\\Faculdade\\2 semestre\\VC\\project\\VC_project\\Shared\\training_inputs\\chessred2k_YOLO\\train\\images\\G038_IMG089.jpg: 11 duplicate labels removed\n",
      "\u001b[34m\u001b[1mtrain: \u001b[0mC:\\Users\\Cristiano\\Desktop\\Faculdade\\2 semestre\\VC\\project\\VC_project\\Shared\\training_inputs\\chessred2k_YOLO\\train\\images\\G038_IMG090.jpg: 10 duplicate labels removed\n",
      "\u001b[34m\u001b[1mtrain: \u001b[0mC:\\Users\\Cristiano\\Desktop\\Faculdade\\2 semestre\\VC\\project\\VC_project\\Shared\\training_inputs\\chessred2k_YOLO\\train\\images\\G038_IMG091.jpg: 10 duplicate labels removed\n",
      "\u001b[34m\u001b[1mtrain: \u001b[0mC:\\Users\\Cristiano\\Desktop\\Faculdade\\2 semestre\\VC\\project\\VC_project\\Shared\\training_inputs\\chessred2k_YOLO\\train\\images\\G038_IMG092.jpg: 10 duplicate labels removed\n",
      "\u001b[34m\u001b[1mtrain: \u001b[0mC:\\Users\\Cristiano\\Desktop\\Faculdade\\2 semestre\\VC\\project\\VC_project\\Shared\\training_inputs\\chessred2k_YOLO\\train\\images\\G038_IMG093.jpg: 10 duplicate labels removed\n",
      "\u001b[34m\u001b[1mtrain: \u001b[0mC:\\Users\\Cristiano\\Desktop\\Faculdade\\2 semestre\\VC\\project\\VC_project\\Shared\\training_inputs\\chessred2k_YOLO\\train\\images\\G038_IMG094.jpg: 10 duplicate labels removed\n",
      "\u001b[34m\u001b[1mtrain: \u001b[0mC:\\Users\\Cristiano\\Desktop\\Faculdade\\2 semestre\\VC\\project\\VC_project\\Shared\\training_inputs\\chessred2k_YOLO\\train\\images\\G038_IMG095.jpg: 10 duplicate labels removed\n",
      "\u001b[34m\u001b[1mtrain: \u001b[0mC:\\Users\\Cristiano\\Desktop\\Faculdade\\2 semestre\\VC\\project\\VC_project\\Shared\\training_inputs\\chessred2k_YOLO\\train\\images\\G038_IMG096.jpg: 10 duplicate labels removed\n",
      "\u001b[34m\u001b[1mtrain: \u001b[0mC:\\Users\\Cristiano\\Desktop\\Faculdade\\2 semestre\\VC\\project\\VC_project\\Shared\\training_inputs\\chessred2k_YOLO\\train\\images\\G038_IMG097.jpg: 10 duplicate labels removed\n",
      "\u001b[34m\u001b[1mtrain: \u001b[0mC:\\Users\\Cristiano\\Desktop\\Faculdade\\2 semestre\\VC\\project\\VC_project\\Shared\\training_inputs\\chessred2k_YOLO\\train\\images\\G038_IMG098.jpg: 10 duplicate labels removed\n",
      "\u001b[34m\u001b[1mtrain: \u001b[0mC:\\Users\\Cristiano\\Desktop\\Faculdade\\2 semestre\\VC\\project\\VC_project\\Shared\\training_inputs\\chessred2k_YOLO\\train\\images\\G038_IMG099.jpg: 10 duplicate labels removed\n",
      "\u001b[34m\u001b[1mtrain: \u001b[0mC:\\Users\\Cristiano\\Desktop\\Faculdade\\2 semestre\\VC\\project\\VC_project\\Shared\\training_inputs\\chessred2k_YOLO\\train\\images\\G038_IMG100.jpg: 10 duplicate labels removed\n",
      "\u001b[34m\u001b[1mtrain: \u001b[0mC:\\Users\\Cristiano\\Desktop\\Faculdade\\2 semestre\\VC\\project\\VC_project\\Shared\\training_inputs\\chessred2k_YOLO\\train\\images\\G038_IMG101.jpg: 10 duplicate labels removed\n",
      "\u001b[34m\u001b[1mtrain: \u001b[0mC:\\Users\\Cristiano\\Desktop\\Faculdade\\2 semestre\\VC\\project\\VC_project\\Shared\\training_inputs\\chessred2k_YOLO\\train\\images\\G038_IMG102.jpg: 10 duplicate labels removed\n",
      "\u001b[34m\u001b[1mtrain: \u001b[0mC:\\Users\\Cristiano\\Desktop\\Faculdade\\2 semestre\\VC\\project\\VC_project\\Shared\\training_inputs\\chessred2k_YOLO\\train\\images\\G038_IMG103.jpg: 10 duplicate labels removed\n",
      "\u001b[34m\u001b[1mtrain: \u001b[0mC:\\Users\\Cristiano\\Desktop\\Faculdade\\2 semestre\\VC\\project\\VC_project\\Shared\\training_inputs\\chessred2k_YOLO\\train\\images\\G038_IMG104.jpg: 10 duplicate labels removed\n",
      "\u001b[34m\u001b[1mtrain: \u001b[0mC:\\Users\\Cristiano\\Desktop\\Faculdade\\2 semestre\\VC\\project\\VC_project\\Shared\\training_inputs\\chessred2k_YOLO\\train\\images\\G038_IMG105.jpg: 10 duplicate labels removed\n",
      "\u001b[34m\u001b[1mtrain: \u001b[0mC:\\Users\\Cristiano\\Desktop\\Faculdade\\2 semestre\\VC\\project\\VC_project\\Shared\\training_inputs\\chessred2k_YOLO\\train\\images\\G038_IMG106.jpg: 10 duplicate labels removed\n",
      "\u001b[34m\u001b[1mtrain: \u001b[0mC:\\Users\\Cristiano\\Desktop\\Faculdade\\2 semestre\\VC\\project\\VC_project\\Shared\\training_inputs\\chessred2k_YOLO\\train\\images\\G038_IMG107.jpg: 10 duplicate labels removed\n",
      "\u001b[34m\u001b[1mtrain: \u001b[0mC:\\Users\\Cristiano\\Desktop\\Faculdade\\2 semestre\\VC\\project\\VC_project\\Shared\\training_inputs\\chessred2k_YOLO\\train\\images\\G041_IMG000.jpg: 32 duplicate labels removed\n",
      "\u001b[34m\u001b[1mtrain: \u001b[0mC:\\Users\\Cristiano\\Desktop\\Faculdade\\2 semestre\\VC\\project\\VC_project\\Shared\\training_inputs\\chessred2k_YOLO\\train\\images\\G041_IMG001.jpg: 32 duplicate labels removed\n",
      "\u001b[34m\u001b[1mtrain: \u001b[0mC:\\Users\\Cristiano\\Desktop\\Faculdade\\2 semestre\\VC\\project\\VC_project\\Shared\\training_inputs\\chessred2k_YOLO\\train\\images\\G041_IMG002.jpg: 32 duplicate labels removed\n",
      "\u001b[34m\u001b[1mtrain: \u001b[0mC:\\Users\\Cristiano\\Desktop\\Faculdade\\2 semestre\\VC\\project\\VC_project\\Shared\\training_inputs\\chessred2k_YOLO\\train\\images\\G041_IMG003.jpg: 32 duplicate labels removed\n",
      "\u001b[34m\u001b[1mtrain: \u001b[0mC:\\Users\\Cristiano\\Desktop\\Faculdade\\2 semestre\\VC\\project\\VC_project\\Shared\\training_inputs\\chessred2k_YOLO\\train\\images\\G041_IMG004.jpg: 32 duplicate labels removed\n",
      "\u001b[34m\u001b[1mtrain: \u001b[0mC:\\Users\\Cristiano\\Desktop\\Faculdade\\2 semestre\\VC\\project\\VC_project\\Shared\\training_inputs\\chessred2k_YOLO\\train\\images\\G041_IMG005.jpg: 32 duplicate labels removed\n",
      "\u001b[34m\u001b[1mtrain: \u001b[0mC:\\Users\\Cristiano\\Desktop\\Faculdade\\2 semestre\\VC\\project\\VC_project\\Shared\\training_inputs\\chessred2k_YOLO\\train\\images\\G041_IMG006.jpg: 32 duplicate labels removed\n",
      "\u001b[34m\u001b[1mtrain: \u001b[0mC:\\Users\\Cristiano\\Desktop\\Faculdade\\2 semestre\\VC\\project\\VC_project\\Shared\\training_inputs\\chessred2k_YOLO\\train\\images\\G041_IMG007.jpg: 32 duplicate labels removed\n",
      "\u001b[34m\u001b[1mtrain: \u001b[0mC:\\Users\\Cristiano\\Desktop\\Faculdade\\2 semestre\\VC\\project\\VC_project\\Shared\\training_inputs\\chessred2k_YOLO\\train\\images\\G041_IMG008.jpg: 32 duplicate labels removed\n",
      "\u001b[34m\u001b[1mtrain: \u001b[0mC:\\Users\\Cristiano\\Desktop\\Faculdade\\2 semestre\\VC\\project\\VC_project\\Shared\\training_inputs\\chessred2k_YOLO\\train\\images\\G041_IMG009.jpg: 32 duplicate labels removed\n",
      "\u001b[34m\u001b[1mtrain: \u001b[0mC:\\Users\\Cristiano\\Desktop\\Faculdade\\2 semestre\\VC\\project\\VC_project\\Shared\\training_inputs\\chessred2k_YOLO\\train\\images\\G041_IMG010.jpg: 32 duplicate labels removed\n",
      "\u001b[34m\u001b[1mtrain: \u001b[0mC:\\Users\\Cristiano\\Desktop\\Faculdade\\2 semestre\\VC\\project\\VC_project\\Shared\\training_inputs\\chessred2k_YOLO\\train\\images\\G041_IMG011.jpg: 32 duplicate labels removed\n",
      "\u001b[34m\u001b[1mtrain: \u001b[0mC:\\Users\\Cristiano\\Desktop\\Faculdade\\2 semestre\\VC\\project\\VC_project\\Shared\\training_inputs\\chessred2k_YOLO\\train\\images\\G041_IMG012.jpg: 31 duplicate labels removed\n",
      "\u001b[34m\u001b[1mtrain: \u001b[0mC:\\Users\\Cristiano\\Desktop\\Faculdade\\2 semestre\\VC\\project\\VC_project\\Shared\\training_inputs\\chessred2k_YOLO\\train\\images\\G041_IMG013.jpg: 30 duplicate labels removed\n",
      "\u001b[34m\u001b[1mtrain: \u001b[0mC:\\Users\\Cristiano\\Desktop\\Faculdade\\2 semestre\\VC\\project\\VC_project\\Shared\\training_inputs\\chessred2k_YOLO\\train\\images\\G041_IMG014.jpg: 30 duplicate labels removed\n",
      "\u001b[34m\u001b[1mtrain: \u001b[0mC:\\Users\\Cristiano\\Desktop\\Faculdade\\2 semestre\\VC\\project\\VC_project\\Shared\\training_inputs\\chessred2k_YOLO\\train\\images\\G041_IMG015.jpg: 30 duplicate labels removed\n",
      "\u001b[34m\u001b[1mtrain: \u001b[0mC:\\Users\\Cristiano\\Desktop\\Faculdade\\2 semestre\\VC\\project\\VC_project\\Shared\\training_inputs\\chessred2k_YOLO\\train\\images\\G041_IMG016.jpg: 29 duplicate labels removed\n",
      "\u001b[34m\u001b[1mtrain: \u001b[0mC:\\Users\\Cristiano\\Desktop\\Faculdade\\2 semestre\\VC\\project\\VC_project\\Shared\\training_inputs\\chessred2k_YOLO\\train\\images\\G041_IMG017.jpg: 28 duplicate labels removed\n",
      "\u001b[34m\u001b[1mtrain: \u001b[0mC:\\Users\\Cristiano\\Desktop\\Faculdade\\2 semestre\\VC\\project\\VC_project\\Shared\\training_inputs\\chessred2k_YOLO\\train\\images\\G041_IMG018.jpg: 28 duplicate labels removed\n",
      "\u001b[34m\u001b[1mtrain: \u001b[0mC:\\Users\\Cristiano\\Desktop\\Faculdade\\2 semestre\\VC\\project\\VC_project\\Shared\\training_inputs\\chessred2k_YOLO\\train\\images\\G041_IMG019.jpg: 28 duplicate labels removed\n",
      "\u001b[34m\u001b[1mtrain: \u001b[0mC:\\Users\\Cristiano\\Desktop\\Faculdade\\2 semestre\\VC\\project\\VC_project\\Shared\\training_inputs\\chessred2k_YOLO\\train\\images\\G041_IMG020.jpg: 28 duplicate labels removed\n",
      "\u001b[34m\u001b[1mtrain: \u001b[0mC:\\Users\\Cristiano\\Desktop\\Faculdade\\2 semestre\\VC\\project\\VC_project\\Shared\\training_inputs\\chessred2k_YOLO\\train\\images\\G041_IMG021.jpg: 28 duplicate labels removed\n",
      "\u001b[34m\u001b[1mtrain: \u001b[0mC:\\Users\\Cristiano\\Desktop\\Faculdade\\2 semestre\\VC\\project\\VC_project\\Shared\\training_inputs\\chessred2k_YOLO\\train\\images\\G041_IMG022.jpg: 28 duplicate labels removed\n",
      "\u001b[34m\u001b[1mtrain: \u001b[0mC:\\Users\\Cristiano\\Desktop\\Faculdade\\2 semestre\\VC\\project\\VC_project\\Shared\\training_inputs\\chessred2k_YOLO\\train\\images\\G041_IMG023.jpg: 28 duplicate labels removed\n",
      "\u001b[34m\u001b[1mtrain: \u001b[0mC:\\Users\\Cristiano\\Desktop\\Faculdade\\2 semestre\\VC\\project\\VC_project\\Shared\\training_inputs\\chessred2k_YOLO\\train\\images\\G041_IMG024.jpg: 27 duplicate labels removed\n",
      "\u001b[34m\u001b[1mtrain: \u001b[0mC:\\Users\\Cristiano\\Desktop\\Faculdade\\2 semestre\\VC\\project\\VC_project\\Shared\\training_inputs\\chessred2k_YOLO\\train\\images\\G041_IMG025.jpg: 26 duplicate labels removed\n",
      "\u001b[34m\u001b[1mtrain: \u001b[0mC:\\Users\\Cristiano\\Desktop\\Faculdade\\2 semestre\\VC\\project\\VC_project\\Shared\\training_inputs\\chessred2k_YOLO\\train\\images\\G041_IMG026.jpg: 25 duplicate labels removed\n",
      "\u001b[34m\u001b[1mtrain: \u001b[0mC:\\Users\\Cristiano\\Desktop\\Faculdade\\2 semestre\\VC\\project\\VC_project\\Shared\\training_inputs\\chessred2k_YOLO\\train\\images\\G041_IMG027.jpg: 24 duplicate labels removed\n",
      "\u001b[34m\u001b[1mtrain: \u001b[0mC:\\Users\\Cristiano\\Desktop\\Faculdade\\2 semestre\\VC\\project\\VC_project\\Shared\\training_inputs\\chessred2k_YOLO\\train\\images\\G041_IMG028.jpg: 23 duplicate labels removed\n",
      "\u001b[34m\u001b[1mtrain: \u001b[0mC:\\Users\\Cristiano\\Desktop\\Faculdade\\2 semestre\\VC\\project\\VC_project\\Shared\\training_inputs\\chessred2k_YOLO\\train\\images\\G041_IMG029.jpg: 23 duplicate labels removed\n",
      "\u001b[34m\u001b[1mtrain: \u001b[0mC:\\Users\\Cristiano\\Desktop\\Faculdade\\2 semestre\\VC\\project\\VC_project\\Shared\\training_inputs\\chessred2k_YOLO\\train\\images\\G041_IMG030.jpg: 23 duplicate labels removed\n",
      "\u001b[34m\u001b[1mtrain: \u001b[0mC:\\Users\\Cristiano\\Desktop\\Faculdade\\2 semestre\\VC\\project\\VC_project\\Shared\\training_inputs\\chessred2k_YOLO\\train\\images\\G041_IMG031.jpg: 23 duplicate labels removed\n",
      "\u001b[34m\u001b[1mtrain: \u001b[0mC:\\Users\\Cristiano\\Desktop\\Faculdade\\2 semestre\\VC\\project\\VC_project\\Shared\\training_inputs\\chessred2k_YOLO\\train\\images\\G041_IMG032.jpg: 23 duplicate labels removed\n",
      "\u001b[34m\u001b[1mtrain: \u001b[0mC:\\Users\\Cristiano\\Desktop\\Faculdade\\2 semestre\\VC\\project\\VC_project\\Shared\\training_inputs\\chessred2k_YOLO\\train\\images\\G041_IMG033.jpg: 23 duplicate labels removed\n",
      "\u001b[34m\u001b[1mtrain: \u001b[0mC:\\Users\\Cristiano\\Desktop\\Faculdade\\2 semestre\\VC\\project\\VC_project\\Shared\\training_inputs\\chessred2k_YOLO\\train\\images\\G041_IMG034.jpg: 23 duplicate labels removed\n",
      "\u001b[34m\u001b[1mtrain: \u001b[0mC:\\Users\\Cristiano\\Desktop\\Faculdade\\2 semestre\\VC\\project\\VC_project\\Shared\\training_inputs\\chessred2k_YOLO\\train\\images\\G041_IMG035.jpg: 22 duplicate labels removed\n",
      "\u001b[34m\u001b[1mtrain: \u001b[0mC:\\Users\\Cristiano\\Desktop\\Faculdade\\2 semestre\\VC\\project\\VC_project\\Shared\\training_inputs\\chessred2k_YOLO\\train\\images\\G041_IMG036.jpg: 22 duplicate labels removed\n",
      "\u001b[34m\u001b[1mtrain: \u001b[0mC:\\Users\\Cristiano\\Desktop\\Faculdade\\2 semestre\\VC\\project\\VC_project\\Shared\\training_inputs\\chessred2k_YOLO\\train\\images\\G041_IMG037.jpg: 21 duplicate labels removed\n",
      "\u001b[34m\u001b[1mtrain: \u001b[0mC:\\Users\\Cristiano\\Desktop\\Faculdade\\2 semestre\\VC\\project\\VC_project\\Shared\\training_inputs\\chessred2k_YOLO\\train\\images\\G041_IMG038.jpg: 21 duplicate labels removed\n",
      "\u001b[34m\u001b[1mtrain: \u001b[0mC:\\Users\\Cristiano\\Desktop\\Faculdade\\2 semestre\\VC\\project\\VC_project\\Shared\\training_inputs\\chessred2k_YOLO\\train\\images\\G041_IMG039.jpg: 21 duplicate labels removed\n",
      "\u001b[34m\u001b[1mtrain: \u001b[0mC:\\Users\\Cristiano\\Desktop\\Faculdade\\2 semestre\\VC\\project\\VC_project\\Shared\\training_inputs\\chessred2k_YOLO\\train\\images\\G041_IMG040.jpg: 21 duplicate labels removed\n",
      "\u001b[34m\u001b[1mtrain: \u001b[0mC:\\Users\\Cristiano\\Desktop\\Faculdade\\2 semestre\\VC\\project\\VC_project\\Shared\\training_inputs\\chessred2k_YOLO\\train\\images\\G041_IMG041.jpg: 21 duplicate labels removed\n",
      "\u001b[34m\u001b[1mtrain: \u001b[0mC:\\Users\\Cristiano\\Desktop\\Faculdade\\2 semestre\\VC\\project\\VC_project\\Shared\\training_inputs\\chessred2k_YOLO\\train\\images\\G041_IMG042.jpg: 21 duplicate labels removed\n",
      "\u001b[34m\u001b[1mtrain: \u001b[0mC:\\Users\\Cristiano\\Desktop\\Faculdade\\2 semestre\\VC\\project\\VC_project\\Shared\\training_inputs\\chessred2k_YOLO\\train\\images\\G041_IMG043.jpg: 20 duplicate labels removed\n",
      "\u001b[34m\u001b[1mtrain: \u001b[0mC:\\Users\\Cristiano\\Desktop\\Faculdade\\2 semestre\\VC\\project\\VC_project\\Shared\\training_inputs\\chessred2k_YOLO\\train\\images\\G041_IMG044.jpg: 19 duplicate labels removed\n",
      "\u001b[34m\u001b[1mtrain: \u001b[0mC:\\Users\\Cristiano\\Desktop\\Faculdade\\2 semestre\\VC\\project\\VC_project\\Shared\\training_inputs\\chessred2k_YOLO\\train\\images\\G041_IMG045.jpg: 19 duplicate labels removed\n",
      "\u001b[34m\u001b[1mtrain: \u001b[0mC:\\Users\\Cristiano\\Desktop\\Faculdade\\2 semestre\\VC\\project\\VC_project\\Shared\\training_inputs\\chessred2k_YOLO\\train\\images\\G041_IMG046.jpg: 19 duplicate labels removed\n",
      "\u001b[34m\u001b[1mtrain: \u001b[0mC:\\Users\\Cristiano\\Desktop\\Faculdade\\2 semestre\\VC\\project\\VC_project\\Shared\\training_inputs\\chessred2k_YOLO\\train\\images\\G041_IMG047.jpg: 19 duplicate labels removed\n",
      "\u001b[34m\u001b[1mtrain: \u001b[0mC:\\Users\\Cristiano\\Desktop\\Faculdade\\2 semestre\\VC\\project\\VC_project\\Shared\\training_inputs\\chessred2k_YOLO\\train\\images\\G041_IMG048.jpg: 19 duplicate labels removed\n",
      "\u001b[34m\u001b[1mtrain: \u001b[0mC:\\Users\\Cristiano\\Desktop\\Faculdade\\2 semestre\\VC\\project\\VC_project\\Shared\\training_inputs\\chessred2k_YOLO\\train\\images\\G041_IMG049.jpg: 18 duplicate labels removed\n",
      "\u001b[34m\u001b[1mtrain: \u001b[0mC:\\Users\\Cristiano\\Desktop\\Faculdade\\2 semestre\\VC\\project\\VC_project\\Shared\\training_inputs\\chessred2k_YOLO\\train\\images\\G041_IMG050.jpg: 17 duplicate labels removed\n",
      "\u001b[34m\u001b[1mtrain: \u001b[0mC:\\Users\\Cristiano\\Desktop\\Faculdade\\2 semestre\\VC\\project\\VC_project\\Shared\\training_inputs\\chessred2k_YOLO\\train\\images\\G041_IMG051.jpg: 17 duplicate labels removed\n",
      "\u001b[34m\u001b[1mtrain: \u001b[0mC:\\Users\\Cristiano\\Desktop\\Faculdade\\2 semestre\\VC\\project\\VC_project\\Shared\\training_inputs\\chessred2k_YOLO\\train\\images\\G041_IMG052.jpg: 17 duplicate labels removed\n",
      "\u001b[34m\u001b[1mtrain: \u001b[0mC:\\Users\\Cristiano\\Desktop\\Faculdade\\2 semestre\\VC\\project\\VC_project\\Shared\\training_inputs\\chessred2k_YOLO\\train\\images\\G041_IMG053.jpg: 17 duplicate labels removed\n",
      "\u001b[34m\u001b[1mtrain: \u001b[0mC:\\Users\\Cristiano\\Desktop\\Faculdade\\2 semestre\\VC\\project\\VC_project\\Shared\\training_inputs\\chessred2k_YOLO\\train\\images\\G041_IMG054.jpg: 17 duplicate labels removed\n",
      "\u001b[34m\u001b[1mtrain: \u001b[0mC:\\Users\\Cristiano\\Desktop\\Faculdade\\2 semestre\\VC\\project\\VC_project\\Shared\\training_inputs\\chessred2k_YOLO\\train\\images\\G041_IMG055.jpg: 17 duplicate labels removed\n",
      "\u001b[34m\u001b[1mtrain: \u001b[0mC:\\Users\\Cristiano\\Desktop\\Faculdade\\2 semestre\\VC\\project\\VC_project\\Shared\\training_inputs\\chessred2k_YOLO\\train\\images\\G041_IMG056.jpg: 17 duplicate labels removed\n",
      "\u001b[34m\u001b[1mtrain: \u001b[0mC:\\Users\\Cristiano\\Desktop\\Faculdade\\2 semestre\\VC\\project\\VC_project\\Shared\\training_inputs\\chessred2k_YOLO\\train\\images\\G041_IMG057.jpg: 17 duplicate labels removed\n",
      "\u001b[34m\u001b[1mtrain: \u001b[0mC:\\Users\\Cristiano\\Desktop\\Faculdade\\2 semestre\\VC\\project\\VC_project\\Shared\\training_inputs\\chessred2k_YOLO\\train\\images\\G041_IMG058.jpg: 17 duplicate labels removed\n",
      "\u001b[34m\u001b[1mtrain: \u001b[0mC:\\Users\\Cristiano\\Desktop\\Faculdade\\2 semestre\\VC\\project\\VC_project\\Shared\\training_inputs\\chessred2k_YOLO\\train\\images\\G041_IMG059.jpg: 16 duplicate labels removed\n",
      "\u001b[34m\u001b[1mtrain: \u001b[0mC:\\Users\\Cristiano\\Desktop\\Faculdade\\2 semestre\\VC\\project\\VC_project\\Shared\\training_inputs\\chessred2k_YOLO\\train\\images\\G041_IMG060.jpg: 15 duplicate labels removed\n",
      "\u001b[34m\u001b[1mtrain: \u001b[0mC:\\Users\\Cristiano\\Desktop\\Faculdade\\2 semestre\\VC\\project\\VC_project\\Shared\\training_inputs\\chessred2k_YOLO\\train\\images\\G041_IMG061.jpg: 15 duplicate labels removed\n",
      "\u001b[34m\u001b[1mtrain: \u001b[0mC:\\Users\\Cristiano\\Desktop\\Faculdade\\2 semestre\\VC\\project\\VC_project\\Shared\\training_inputs\\chessred2k_YOLO\\train\\images\\G041_IMG062.jpg: 14 duplicate labels removed\n",
      "\u001b[34m\u001b[1mtrain: \u001b[0mC:\\Users\\Cristiano\\Desktop\\Faculdade\\2 semestre\\VC\\project\\VC_project\\Shared\\training_inputs\\chessred2k_YOLO\\train\\images\\G041_IMG063.jpg: 14 duplicate labels removed\n",
      "\u001b[34m\u001b[1mtrain: \u001b[0mC:\\Users\\Cristiano\\Desktop\\Faculdade\\2 semestre\\VC\\project\\VC_project\\Shared\\training_inputs\\chessred2k_YOLO\\train\\images\\G041_IMG064.jpg: 14 duplicate labels removed\n",
      "\u001b[34m\u001b[1mtrain: \u001b[0mC:\\Users\\Cristiano\\Desktop\\Faculdade\\2 semestre\\VC\\project\\VC_project\\Shared\\training_inputs\\chessred2k_YOLO\\train\\images\\G041_IMG065.jpg: 14 duplicate labels removed\n",
      "\u001b[34m\u001b[1mtrain: \u001b[0mC:\\Users\\Cristiano\\Desktop\\Faculdade\\2 semestre\\VC\\project\\VC_project\\Shared\\training_inputs\\chessred2k_YOLO\\train\\images\\G041_IMG066.jpg: 14 duplicate labels removed\n",
      "\u001b[34m\u001b[1mtrain: \u001b[0mC:\\Users\\Cristiano\\Desktop\\Faculdade\\2 semestre\\VC\\project\\VC_project\\Shared\\training_inputs\\chessred2k_YOLO\\train\\images\\G041_IMG067.jpg: 14 duplicate labels removed\n",
      "\u001b[34m\u001b[1mtrain: \u001b[0mC:\\Users\\Cristiano\\Desktop\\Faculdade\\2 semestre\\VC\\project\\VC_project\\Shared\\training_inputs\\chessred2k_YOLO\\train\\images\\G041_IMG068.jpg: 14 duplicate labels removed\n",
      "\u001b[34m\u001b[1mtrain: \u001b[0mC:\\Users\\Cristiano\\Desktop\\Faculdade\\2 semestre\\VC\\project\\VC_project\\Shared\\training_inputs\\chessred2k_YOLO\\train\\images\\G041_IMG069.jpg: 14 duplicate labels removed\n",
      "\u001b[34m\u001b[1mtrain: \u001b[0mC:\\Users\\Cristiano\\Desktop\\Faculdade\\2 semestre\\VC\\project\\VC_project\\Shared\\training_inputs\\chessred2k_YOLO\\train\\images\\G041_IMG070.jpg: 14 duplicate labels removed\n",
      "\u001b[34m\u001b[1mtrain: \u001b[0mC:\\Users\\Cristiano\\Desktop\\Faculdade\\2 semestre\\VC\\project\\VC_project\\Shared\\training_inputs\\chessred2k_YOLO\\train\\images\\G041_IMG071.jpg: 14 duplicate labels removed\n",
      "\u001b[34m\u001b[1mtrain: \u001b[0mC:\\Users\\Cristiano\\Desktop\\Faculdade\\2 semestre\\VC\\project\\VC_project\\Shared\\training_inputs\\chessred2k_YOLO\\train\\images\\G041_IMG072.jpg: 14 duplicate labels removed\n",
      "\u001b[34m\u001b[1mtrain: \u001b[0mC:\\Users\\Cristiano\\Desktop\\Faculdade\\2 semestre\\VC\\project\\VC_project\\Shared\\training_inputs\\chessred2k_YOLO\\train\\images\\G041_IMG073.jpg: 14 duplicate labels removed\n",
      "\u001b[34m\u001b[1mtrain: \u001b[0mC:\\Users\\Cristiano\\Desktop\\Faculdade\\2 semestre\\VC\\project\\VC_project\\Shared\\training_inputs\\chessred2k_YOLO\\train\\images\\G041_IMG074.jpg: 14 duplicate labels removed\n",
      "\u001b[34m\u001b[1mtrain: \u001b[0mC:\\Users\\Cristiano\\Desktop\\Faculdade\\2 semestre\\VC\\project\\VC_project\\Shared\\training_inputs\\chessred2k_YOLO\\train\\images\\G041_IMG075.jpg: 13 duplicate labels removed\n",
      "\u001b[34m\u001b[1mtrain: \u001b[0mC:\\Users\\Cristiano\\Desktop\\Faculdade\\2 semestre\\VC\\project\\VC_project\\Shared\\training_inputs\\chessred2k_YOLO\\train\\images\\G041_IMG076.jpg: 13 duplicate labels removed\n",
      "\u001b[34m\u001b[1mtrain: \u001b[0mC:\\Users\\Cristiano\\Desktop\\Faculdade\\2 semestre\\VC\\project\\VC_project\\Shared\\training_inputs\\chessred2k_YOLO\\train\\images\\G041_IMG077.jpg: 13 duplicate labels removed\n",
      "\u001b[34m\u001b[1mtrain: \u001b[0mC:\\Users\\Cristiano\\Desktop\\Faculdade\\2 semestre\\VC\\project\\VC_project\\Shared\\training_inputs\\chessred2k_YOLO\\train\\images\\G041_IMG078.jpg: 12 duplicate labels removed\n",
      "\u001b[34m\u001b[1mtrain: \u001b[0mC:\\Users\\Cristiano\\Desktop\\Faculdade\\2 semestre\\VC\\project\\VC_project\\Shared\\training_inputs\\chessred2k_YOLO\\train\\images\\G041_IMG079.jpg: 12 duplicate labels removed\n",
      "\u001b[34m\u001b[1mtrain: \u001b[0mC:\\Users\\Cristiano\\Desktop\\Faculdade\\2 semestre\\VC\\project\\VC_project\\Shared\\training_inputs\\chessred2k_YOLO\\train\\images\\G041_IMG080.jpg: 12 duplicate labels removed\n",
      "\u001b[34m\u001b[1mtrain: \u001b[0mC:\\Users\\Cristiano\\Desktop\\Faculdade\\2 semestre\\VC\\project\\VC_project\\Shared\\training_inputs\\chessred2k_YOLO\\train\\images\\G041_IMG081.jpg: 11 duplicate labels removed\n",
      "\u001b[34m\u001b[1mtrain: \u001b[0mC:\\Users\\Cristiano\\Desktop\\Faculdade\\2 semestre\\VC\\project\\VC_project\\Shared\\training_inputs\\chessred2k_YOLO\\train\\images\\G041_IMG082.jpg: 10 duplicate labels removed\n",
      "\u001b[34m\u001b[1mtrain: \u001b[0mC:\\Users\\Cristiano\\Desktop\\Faculdade\\2 semestre\\VC\\project\\VC_project\\Shared\\training_inputs\\chessred2k_YOLO\\train\\images\\G041_IMG083.jpg: 10 duplicate labels removed\n",
      "\u001b[34m\u001b[1mtrain: \u001b[0mC:\\Users\\Cristiano\\Desktop\\Faculdade\\2 semestre\\VC\\project\\VC_project\\Shared\\training_inputs\\chessred2k_YOLO\\train\\images\\G041_IMG084.jpg: 10 duplicate labels removed\n",
      "\u001b[34m\u001b[1mtrain: \u001b[0mC:\\Users\\Cristiano\\Desktop\\Faculdade\\2 semestre\\VC\\project\\VC_project\\Shared\\training_inputs\\chessred2k_YOLO\\train\\images\\G041_IMG085.jpg: 10 duplicate labels removed\n",
      "\u001b[34m\u001b[1mtrain: \u001b[0mC:\\Users\\Cristiano\\Desktop\\Faculdade\\2 semestre\\VC\\project\\VC_project\\Shared\\training_inputs\\chessred2k_YOLO\\train\\images\\G041_IMG086.jpg: 10 duplicate labels removed\n",
      "\u001b[34m\u001b[1mtrain: \u001b[0mC:\\Users\\Cristiano\\Desktop\\Faculdade\\2 semestre\\VC\\project\\VC_project\\Shared\\training_inputs\\chessred2k_YOLO\\train\\images\\G041_IMG087.jpg: 10 duplicate labels removed\n",
      "\u001b[34m\u001b[1mtrain: \u001b[0mC:\\Users\\Cristiano\\Desktop\\Faculdade\\2 semestre\\VC\\project\\VC_project\\Shared\\training_inputs\\chessred2k_YOLO\\train\\images\\G041_IMG088.jpg: 10 duplicate labels removed\n",
      "\u001b[34m\u001b[1mtrain: \u001b[0mC:\\Users\\Cristiano\\Desktop\\Faculdade\\2 semestre\\VC\\project\\VC_project\\Shared\\training_inputs\\chessred2k_YOLO\\train\\images\\G041_IMG089.jpg: 10 duplicate labels removed\n",
      "\u001b[34m\u001b[1mtrain: \u001b[0mC:\\Users\\Cristiano\\Desktop\\Faculdade\\2 semestre\\VC\\project\\VC_project\\Shared\\training_inputs\\chessred2k_YOLO\\train\\images\\G041_IMG090.jpg: 10 duplicate labels removed\n",
      "\u001b[34m\u001b[1mtrain: \u001b[0mC:\\Users\\Cristiano\\Desktop\\Faculdade\\2 semestre\\VC\\project\\VC_project\\Shared\\training_inputs\\chessred2k_YOLO\\train\\images\\G041_IMG091.jpg: 10 duplicate labels removed\n",
      "\u001b[34m\u001b[1mtrain: \u001b[0mC:\\Users\\Cristiano\\Desktop\\Faculdade\\2 semestre\\VC\\project\\VC_project\\Shared\\training_inputs\\chessred2k_YOLO\\train\\images\\G041_IMG092.jpg: 10 duplicate labels removed\n",
      "\u001b[34m\u001b[1mtrain: \u001b[0mC:\\Users\\Cristiano\\Desktop\\Faculdade\\2 semestre\\VC\\project\\VC_project\\Shared\\training_inputs\\chessred2k_YOLO\\train\\images\\G041_IMG093.jpg: 10 duplicate labels removed\n",
      "\u001b[34m\u001b[1mtrain: \u001b[0mC:\\Users\\Cristiano\\Desktop\\Faculdade\\2 semestre\\VC\\project\\VC_project\\Shared\\training_inputs\\chessred2k_YOLO\\train\\images\\G041_IMG094.jpg: 10 duplicate labels removed\n",
      "\u001b[34m\u001b[1mtrain: \u001b[0mC:\\Users\\Cristiano\\Desktop\\Faculdade\\2 semestre\\VC\\project\\VC_project\\Shared\\training_inputs\\chessred2k_YOLO\\train\\images\\G041_IMG095.jpg: 10 duplicate labels removed\n",
      "\u001b[34m\u001b[1mtrain: \u001b[0mC:\\Users\\Cristiano\\Desktop\\Faculdade\\2 semestre\\VC\\project\\VC_project\\Shared\\training_inputs\\chessred2k_YOLO\\train\\images\\G041_IMG096.jpg: 10 duplicate labels removed\n",
      "\u001b[34m\u001b[1mtrain: \u001b[0mC:\\Users\\Cristiano\\Desktop\\Faculdade\\2 semestre\\VC\\project\\VC_project\\Shared\\training_inputs\\chessred2k_YOLO\\train\\images\\G041_IMG097.jpg: 10 duplicate labels removed\n",
      "\u001b[34m\u001b[1mtrain: \u001b[0mC:\\Users\\Cristiano\\Desktop\\Faculdade\\2 semestre\\VC\\project\\VC_project\\Shared\\training_inputs\\chessred2k_YOLO\\train\\images\\G041_IMG098.jpg: 10 duplicate labels removed\n",
      "\u001b[34m\u001b[1mtrain: \u001b[0mC:\\Users\\Cristiano\\Desktop\\Faculdade\\2 semestre\\VC\\project\\VC_project\\Shared\\training_inputs\\chessred2k_YOLO\\train\\images\\G041_IMG099.jpg: 10 duplicate labels removed\n",
      "\u001b[34m\u001b[1mtrain: \u001b[0mC:\\Users\\Cristiano\\Desktop\\Faculdade\\2 semestre\\VC\\project\\VC_project\\Shared\\training_inputs\\chessred2k_YOLO\\train\\images\\G041_IMG100.jpg: 10 duplicate labels removed\n",
      "\u001b[34m\u001b[1mtrain: \u001b[0mC:\\Users\\Cristiano\\Desktop\\Faculdade\\2 semestre\\VC\\project\\VC_project\\Shared\\training_inputs\\chessred2k_YOLO\\train\\images\\G041_IMG101.jpg: 10 duplicate labels removed\n",
      "\u001b[34m\u001b[1mtrain: \u001b[0mC:\\Users\\Cristiano\\Desktop\\Faculdade\\2 semestre\\VC\\project\\VC_project\\Shared\\training_inputs\\chessred2k_YOLO\\train\\images\\G042_IMG000.jpg: 32 duplicate labels removed\n",
      "\u001b[34m\u001b[1mtrain: \u001b[0mC:\\Users\\Cristiano\\Desktop\\Faculdade\\2 semestre\\VC\\project\\VC_project\\Shared\\training_inputs\\chessred2k_YOLO\\train\\images\\G042_IMG001.jpg: 32 duplicate labels removed\n",
      "\u001b[34m\u001b[1mtrain: \u001b[0mC:\\Users\\Cristiano\\Desktop\\Faculdade\\2 semestre\\VC\\project\\VC_project\\Shared\\training_inputs\\chessred2k_YOLO\\train\\images\\G042_IMG002.jpg: 32 duplicate labels removed\n",
      "\u001b[34m\u001b[1mtrain: \u001b[0mC:\\Users\\Cristiano\\Desktop\\Faculdade\\2 semestre\\VC\\project\\VC_project\\Shared\\training_inputs\\chessred2k_YOLO\\train\\images\\G042_IMG003.jpg: 32 duplicate labels removed\n",
      "\u001b[34m\u001b[1mtrain: \u001b[0mC:\\Users\\Cristiano\\Desktop\\Faculdade\\2 semestre\\VC\\project\\VC_project\\Shared\\training_inputs\\chessred2k_YOLO\\train\\images\\G042_IMG004.jpg: 31 duplicate labels removed\n",
      "\u001b[34m\u001b[1mtrain: \u001b[0mC:\\Users\\Cristiano\\Desktop\\Faculdade\\2 semestre\\VC\\project\\VC_project\\Shared\\training_inputs\\chessred2k_YOLO\\train\\images\\G042_IMG005.jpg: 30 duplicate labels removed\n",
      "\u001b[34m\u001b[1mtrain: \u001b[0mC:\\Users\\Cristiano\\Desktop\\Faculdade\\2 semestre\\VC\\project\\VC_project\\Shared\\training_inputs\\chessred2k_YOLO\\train\\images\\G042_IMG006.jpg: 30 duplicate labels removed\n",
      "\u001b[34m\u001b[1mtrain: \u001b[0mC:\\Users\\Cristiano\\Desktop\\Faculdade\\2 semestre\\VC\\project\\VC_project\\Shared\\training_inputs\\chessred2k_YOLO\\train\\images\\G042_IMG007.jpg: 30 duplicate labels removed\n",
      "\u001b[34m\u001b[1mtrain: \u001b[0mC:\\Users\\Cristiano\\Desktop\\Faculdade\\2 semestre\\VC\\project\\VC_project\\Shared\\training_inputs\\chessred2k_YOLO\\train\\images\\G042_IMG008.jpg: 30 duplicate labels removed\n",
      "\u001b[34m\u001b[1mtrain: \u001b[0mC:\\Users\\Cristiano\\Desktop\\Faculdade\\2 semestre\\VC\\project\\VC_project\\Shared\\training_inputs\\chessred2k_YOLO\\train\\images\\G042_IMG009.jpg: 30 duplicate labels removed\n",
      "\u001b[34m\u001b[1mtrain: \u001b[0mC:\\Users\\Cristiano\\Desktop\\Faculdade\\2 semestre\\VC\\project\\VC_project\\Shared\\training_inputs\\chessred2k_YOLO\\train\\images\\G042_IMG010.jpg: 30 duplicate labels removed\n",
      "\u001b[34m\u001b[1mtrain: \u001b[0mC:\\Users\\Cristiano\\Desktop\\Faculdade\\2 semestre\\VC\\project\\VC_project\\Shared\\training_inputs\\chessred2k_YOLO\\train\\images\\G042_IMG011.jpg: 30 duplicate labels removed\n",
      "\u001b[34m\u001b[1mtrain: \u001b[0mC:\\Users\\Cristiano\\Desktop\\Faculdade\\2 semestre\\VC\\project\\VC_project\\Shared\\training_inputs\\chessred2k_YOLO\\train\\images\\G042_IMG012.jpg: 30 duplicate labels removed\n",
      "\u001b[34m\u001b[1mtrain: \u001b[0mC:\\Users\\Cristiano\\Desktop\\Faculdade\\2 semestre\\VC\\project\\VC_project\\Shared\\training_inputs\\chessred2k_YOLO\\train\\images\\G042_IMG013.jpg: 30 duplicate labels removed\n",
      "\u001b[34m\u001b[1mtrain: \u001b[0mC:\\Users\\Cristiano\\Desktop\\Faculdade\\2 semestre\\VC\\project\\VC_project\\Shared\\training_inputs\\chessred2k_YOLO\\train\\images\\G042_IMG014.jpg: 30 duplicate labels removed\n",
      "\u001b[34m\u001b[1mtrain: \u001b[0mC:\\Users\\Cristiano\\Desktop\\Faculdade\\2 semestre\\VC\\project\\VC_project\\Shared\\training_inputs\\chessred2k_YOLO\\train\\images\\G042_IMG015.jpg: 30 duplicate labels removed\n",
      "\u001b[34m\u001b[1mtrain: \u001b[0mC:\\Users\\Cristiano\\Desktop\\Faculdade\\2 semestre\\VC\\project\\VC_project\\Shared\\training_inputs\\chessred2k_YOLO\\train\\images\\G042_IMG016.jpg: 30 duplicate labels removed\n",
      "\u001b[34m\u001b[1mtrain: \u001b[0mC:\\Users\\Cristiano\\Desktop\\Faculdade\\2 semestre\\VC\\project\\VC_project\\Shared\\training_inputs\\chessred2k_YOLO\\train\\images\\G042_IMG017.jpg: 30 duplicate labels removed\n",
      "\u001b[34m\u001b[1mtrain: \u001b[0mC:\\Users\\Cristiano\\Desktop\\Faculdade\\2 semestre\\VC\\project\\VC_project\\Shared\\training_inputs\\chessred2k_YOLO\\train\\images\\G042_IMG018.jpg: 29 duplicate labels removed\n",
      "\u001b[34m\u001b[1mtrain: \u001b[0mC:\\Users\\Cristiano\\Desktop\\Faculdade\\2 semestre\\VC\\project\\VC_project\\Shared\\training_inputs\\chessred2k_YOLO\\train\\images\\G042_IMG019.jpg: 28 duplicate labels removed\n",
      "\u001b[34m\u001b[1mtrain: \u001b[0mC:\\Users\\Cristiano\\Desktop\\Faculdade\\2 semestre\\VC\\project\\VC_project\\Shared\\training_inputs\\chessred2k_YOLO\\train\\images\\G042_IMG020.jpg: 27 duplicate labels removed\n",
      "\u001b[34m\u001b[1mtrain: \u001b[0mC:\\Users\\Cristiano\\Desktop\\Faculdade\\2 semestre\\VC\\project\\VC_project\\Shared\\training_inputs\\chessred2k_YOLO\\train\\images\\G042_IMG021.jpg: 26 duplicate labels removed\n",
      "\u001b[34m\u001b[1mtrain: \u001b[0mC:\\Users\\Cristiano\\Desktop\\Faculdade\\2 semestre\\VC\\project\\VC_project\\Shared\\training_inputs\\chessred2k_YOLO\\train\\images\\G042_IMG022.jpg: 25 duplicate labels removed\n",
      "\u001b[34m\u001b[1mtrain: \u001b[0mC:\\Users\\Cristiano\\Desktop\\Faculdade\\2 semestre\\VC\\project\\VC_project\\Shared\\training_inputs\\chessred2k_YOLO\\train\\images\\G042_IMG023.jpg: 25 duplicate labels removed\n",
      "\u001b[34m\u001b[1mtrain: \u001b[0mC:\\Users\\Cristiano\\Desktop\\Faculdade\\2 semestre\\VC\\project\\VC_project\\Shared\\training_inputs\\chessred2k_YOLO\\train\\images\\G042_IMG024.jpg: 25 duplicate labels removed\n",
      "\u001b[34m\u001b[1mtrain: \u001b[0mC:\\Users\\Cristiano\\Desktop\\Faculdade\\2 semestre\\VC\\project\\VC_project\\Shared\\training_inputs\\chessred2k_YOLO\\train\\images\\G042_IMG025.jpg: 25 duplicate labels removed\n",
      "\u001b[34m\u001b[1mtrain: \u001b[0mC:\\Users\\Cristiano\\Desktop\\Faculdade\\2 semestre\\VC\\project\\VC_project\\Shared\\training_inputs\\chessred2k_YOLO\\train\\images\\G042_IMG026.jpg: 25 duplicate labels removed\n",
      "\u001b[34m\u001b[1mtrain: \u001b[0mC:\\Users\\Cristiano\\Desktop\\Faculdade\\2 semestre\\VC\\project\\VC_project\\Shared\\training_inputs\\chessred2k_YOLO\\train\\images\\G042_IMG027.jpg: 25 duplicate labels removed\n",
      "\u001b[34m\u001b[1mtrain: \u001b[0mC:\\Users\\Cristiano\\Desktop\\Faculdade\\2 semestre\\VC\\project\\VC_project\\Shared\\training_inputs\\chessred2k_YOLO\\train\\images\\G042_IMG028.jpg: 25 duplicate labels removed\n",
      "\u001b[34m\u001b[1mtrain: \u001b[0mC:\\Users\\Cristiano\\Desktop\\Faculdade\\2 semestre\\VC\\project\\VC_project\\Shared\\training_inputs\\chessred2k_YOLO\\train\\images\\G042_IMG029.jpg: 25 duplicate labels removed\n",
      "\u001b[34m\u001b[1mtrain: \u001b[0mC:\\Users\\Cristiano\\Desktop\\Faculdade\\2 semestre\\VC\\project\\VC_project\\Shared\\training_inputs\\chessred2k_YOLO\\train\\images\\G042_IMG030.jpg: 25 duplicate labels removed\n",
      "\u001b[34m\u001b[1mtrain: \u001b[0mC:\\Users\\Cristiano\\Desktop\\Faculdade\\2 semestre\\VC\\project\\VC_project\\Shared\\training_inputs\\chessred2k_YOLO\\train\\images\\G042_IMG031.jpg: 25 duplicate labels removed\n",
      "\u001b[34m\u001b[1mtrain: \u001b[0mC:\\Users\\Cristiano\\Desktop\\Faculdade\\2 semestre\\VC\\project\\VC_project\\Shared\\training_inputs\\chessred2k_YOLO\\train\\images\\G042_IMG032.jpg: 24 duplicate labels removed\n",
      "\u001b[34m\u001b[1mtrain: \u001b[0mC:\\Users\\Cristiano\\Desktop\\Faculdade\\2 semestre\\VC\\project\\VC_project\\Shared\\training_inputs\\chessred2k_YOLO\\train\\images\\G042_IMG033.jpg: 23 duplicate labels removed\n",
      "\u001b[34m\u001b[1mtrain: \u001b[0mC:\\Users\\Cristiano\\Desktop\\Faculdade\\2 semestre\\VC\\project\\VC_project\\Shared\\training_inputs\\chessred2k_YOLO\\train\\images\\G042_IMG034.jpg: 23 duplicate labels removed\n",
      "\u001b[34m\u001b[1mtrain: \u001b[0mC:\\Users\\Cristiano\\Desktop\\Faculdade\\2 semestre\\VC\\project\\VC_project\\Shared\\training_inputs\\chessred2k_YOLO\\train\\images\\G042_IMG035.jpg: 23 duplicate labels removed\n",
      "\u001b[34m\u001b[1mtrain: \u001b[0mC:\\Users\\Cristiano\\Desktop\\Faculdade\\2 semestre\\VC\\project\\VC_project\\Shared\\training_inputs\\chessred2k_YOLO\\train\\images\\G042_IMG036.jpg: 22 duplicate labels removed\n",
      "\u001b[34m\u001b[1mtrain: \u001b[0mC:\\Users\\Cristiano\\Desktop\\Faculdade\\2 semestre\\VC\\project\\VC_project\\Shared\\training_inputs\\chessred2k_YOLO\\train\\images\\G042_IMG037.jpg: 22 duplicate labels removed\n",
      "\u001b[34m\u001b[1mtrain: \u001b[0mC:\\Users\\Cristiano\\Desktop\\Faculdade\\2 semestre\\VC\\project\\VC_project\\Shared\\training_inputs\\chessred2k_YOLO\\train\\images\\G042_IMG038.jpg: 21 duplicate labels removed\n",
      "\u001b[34m\u001b[1mtrain: \u001b[0mC:\\Users\\Cristiano\\Desktop\\Faculdade\\2 semestre\\VC\\project\\VC_project\\Shared\\training_inputs\\chessred2k_YOLO\\train\\images\\G042_IMG039.jpg: 20 duplicate labels removed\n",
      "\u001b[34m\u001b[1mtrain: \u001b[0mC:\\Users\\Cristiano\\Desktop\\Faculdade\\2 semestre\\VC\\project\\VC_project\\Shared\\training_inputs\\chessred2k_YOLO\\train\\images\\G042_IMG040.jpg: 19 duplicate labels removed\n",
      "\u001b[34m\u001b[1mtrain: \u001b[0mC:\\Users\\Cristiano\\Desktop\\Faculdade\\2 semestre\\VC\\project\\VC_project\\Shared\\training_inputs\\chessred2k_YOLO\\train\\images\\G042_IMG041.jpg: 19 duplicate labels removed\n",
      "\u001b[34m\u001b[1mtrain: \u001b[0mC:\\Users\\Cristiano\\Desktop\\Faculdade\\2 semestre\\VC\\project\\VC_project\\Shared\\training_inputs\\chessred2k_YOLO\\train\\images\\G042_IMG042.jpg: 19 duplicate labels removed\n",
      "\u001b[34m\u001b[1mtrain: \u001b[0mC:\\Users\\Cristiano\\Desktop\\Faculdade\\2 semestre\\VC\\project\\VC_project\\Shared\\training_inputs\\chessred2k_YOLO\\train\\images\\G042_IMG043.jpg: 19 duplicate labels removed\n",
      "\u001b[34m\u001b[1mtrain: \u001b[0mC:\\Users\\Cristiano\\Desktop\\Faculdade\\2 semestre\\VC\\project\\VC_project\\Shared\\training_inputs\\chessred2k_YOLO\\train\\images\\G042_IMG044.jpg: 18 duplicate labels removed\n",
      "\u001b[34m\u001b[1mtrain: \u001b[0mC:\\Users\\Cristiano\\Desktop\\Faculdade\\2 semestre\\VC\\project\\VC_project\\Shared\\training_inputs\\chessred2k_YOLO\\train\\images\\G042_IMG045.jpg: 17 duplicate labels removed\n",
      "\u001b[34m\u001b[1mtrain: \u001b[0mC:\\Users\\Cristiano\\Desktop\\Faculdade\\2 semestre\\VC\\project\\VC_project\\Shared\\training_inputs\\chessred2k_YOLO\\train\\images\\G042_IMG046.jpg: 17 duplicate labels removed\n",
      "\u001b[34m\u001b[1mtrain: \u001b[0mC:\\Users\\Cristiano\\Desktop\\Faculdade\\2 semestre\\VC\\project\\VC_project\\Shared\\training_inputs\\chessred2k_YOLO\\train\\images\\G042_IMG047.jpg: 16 duplicate labels removed\n",
      "\u001b[34m\u001b[1mtrain: \u001b[0mC:\\Users\\Cristiano\\Desktop\\Faculdade\\2 semestre\\VC\\project\\VC_project\\Shared\\training_inputs\\chessred2k_YOLO\\train\\images\\G042_IMG048.jpg: 16 duplicate labels removed\n",
      "\u001b[34m\u001b[1mtrain: \u001b[0mC:\\Users\\Cristiano\\Desktop\\Faculdade\\2 semestre\\VC\\project\\VC_project\\Shared\\training_inputs\\chessred2k_YOLO\\train\\images\\G042_IMG049.jpg: 16 duplicate labels removed\n",
      "\u001b[34m\u001b[1mtrain: \u001b[0mC:\\Users\\Cristiano\\Desktop\\Faculdade\\2 semestre\\VC\\project\\VC_project\\Shared\\training_inputs\\chessred2k_YOLO\\train\\images\\G042_IMG050.jpg: 16 duplicate labels removed\n",
      "\u001b[34m\u001b[1mtrain: \u001b[0mC:\\Users\\Cristiano\\Desktop\\Faculdade\\2 semestre\\VC\\project\\VC_project\\Shared\\training_inputs\\chessred2k_YOLO\\train\\images\\G042_IMG051.jpg: 16 duplicate labels removed\n",
      "\u001b[34m\u001b[1mtrain: \u001b[0mC:\\Users\\Cristiano\\Desktop\\Faculdade\\2 semestre\\VC\\project\\VC_project\\Shared\\training_inputs\\chessred2k_YOLO\\train\\images\\G042_IMG052.jpg: 16 duplicate labels removed\n",
      "\u001b[34m\u001b[1mtrain: \u001b[0mC:\\Users\\Cristiano\\Desktop\\Faculdade\\2 semestre\\VC\\project\\VC_project\\Shared\\training_inputs\\chessred2k_YOLO\\train\\images\\G042_IMG053.jpg: 16 duplicate labels removed\n",
      "\u001b[34m\u001b[1mtrain: \u001b[0mC:\\Users\\Cristiano\\Desktop\\Faculdade\\2 semestre\\VC\\project\\VC_project\\Shared\\training_inputs\\chessred2k_YOLO\\train\\images\\G042_IMG054.jpg: 16 duplicate labels removed\n",
      "\u001b[34m\u001b[1mtrain: \u001b[0mC:\\Users\\Cristiano\\Desktop\\Faculdade\\2 semestre\\VC\\project\\VC_project\\Shared\\training_inputs\\chessred2k_YOLO\\train\\images\\G042_IMG055.jpg: 16 duplicate labels removed\n",
      "\u001b[34m\u001b[1mtrain: \u001b[0mC:\\Users\\Cristiano\\Desktop\\Faculdade\\2 semestre\\VC\\project\\VC_project\\Shared\\training_inputs\\chessred2k_YOLO\\train\\images\\G042_IMG056.jpg: 16 duplicate labels removed\n",
      "\u001b[34m\u001b[1mtrain: \u001b[0mC:\\Users\\Cristiano\\Desktop\\Faculdade\\2 semestre\\VC\\project\\VC_project\\Shared\\training_inputs\\chessred2k_YOLO\\train\\images\\G042_IMG057.jpg: 16 duplicate labels removed\n",
      "\u001b[34m\u001b[1mtrain: \u001b[0mC:\\Users\\Cristiano\\Desktop\\Faculdade\\2 semestre\\VC\\project\\VC_project\\Shared\\training_inputs\\chessred2k_YOLO\\train\\images\\G042_IMG058.jpg: 16 duplicate labels removed\n",
      "\u001b[34m\u001b[1mtrain: \u001b[0mC:\\Users\\Cristiano\\Desktop\\Faculdade\\2 semestre\\VC\\project\\VC_project\\Shared\\training_inputs\\chessred2k_YOLO\\train\\images\\G042_IMG059.jpg: 16 duplicate labels removed\n",
      "\u001b[34m\u001b[1mtrain: \u001b[0mC:\\Users\\Cristiano\\Desktop\\Faculdade\\2 semestre\\VC\\project\\VC_project\\Shared\\training_inputs\\chessred2k_YOLO\\train\\images\\G042_IMG060.jpg: 16 duplicate labels removed\n",
      "\u001b[34m\u001b[1mtrain: \u001b[0mC:\\Users\\Cristiano\\Desktop\\Faculdade\\2 semestre\\VC\\project\\VC_project\\Shared\\training_inputs\\chessred2k_YOLO\\train\\images\\G042_IMG061.jpg: 16 duplicate labels removed\n",
      "\u001b[34m\u001b[1mtrain: \u001b[0mC:\\Users\\Cristiano\\Desktop\\Faculdade\\2 semestre\\VC\\project\\VC_project\\Shared\\training_inputs\\chessred2k_YOLO\\train\\images\\G042_IMG062.jpg: 16 duplicate labels removed\n",
      "\u001b[34m\u001b[1mtrain: \u001b[0mC:\\Users\\Cristiano\\Desktop\\Faculdade\\2 semestre\\VC\\project\\VC_project\\Shared\\training_inputs\\chessred2k_YOLO\\train\\images\\G042_IMG063.jpg: 16 duplicate labels removed\n",
      "\u001b[34m\u001b[1mtrain: \u001b[0mC:\\Users\\Cristiano\\Desktop\\Faculdade\\2 semestre\\VC\\project\\VC_project\\Shared\\training_inputs\\chessred2k_YOLO\\train\\images\\G042_IMG064.jpg: 16 duplicate labels removed\n",
      "\u001b[34m\u001b[1mtrain: \u001b[0mC:\\Users\\Cristiano\\Desktop\\Faculdade\\2 semestre\\VC\\project\\VC_project\\Shared\\training_inputs\\chessred2k_YOLO\\train\\images\\G042_IMG065.jpg: 15 duplicate labels removed\n",
      "\u001b[34m\u001b[1mtrain: \u001b[0mC:\\Users\\Cristiano\\Desktop\\Faculdade\\2 semestre\\VC\\project\\VC_project\\Shared\\training_inputs\\chessred2k_YOLO\\train\\images\\G042_IMG066.jpg: 14 duplicate labels removed\n",
      "\u001b[34m\u001b[1mtrain: \u001b[0mC:\\Users\\Cristiano\\Desktop\\Faculdade\\2 semestre\\VC\\project\\VC_project\\Shared\\training_inputs\\chessred2k_YOLO\\train\\images\\G042_IMG067.jpg: 14 duplicate labels removed\n",
      "\u001b[34m\u001b[1mtrain: \u001b[0mC:\\Users\\Cristiano\\Desktop\\Faculdade\\2 semestre\\VC\\project\\VC_project\\Shared\\training_inputs\\chessred2k_YOLO\\train\\images\\G042_IMG068.jpg: 14 duplicate labels removed\n",
      "\u001b[34m\u001b[1mtrain: \u001b[0mC:\\Users\\Cristiano\\Desktop\\Faculdade\\2 semestre\\VC\\project\\VC_project\\Shared\\training_inputs\\chessred2k_YOLO\\train\\images\\G042_IMG069.jpg: 14 duplicate labels removed\n",
      "\u001b[34m\u001b[1mtrain: \u001b[0mC:\\Users\\Cristiano\\Desktop\\Faculdade\\2 semestre\\VC\\project\\VC_project\\Shared\\training_inputs\\chessred2k_YOLO\\train\\images\\G042_IMG070.jpg: 14 duplicate labels removed\n",
      "\u001b[34m\u001b[1mtrain: \u001b[0mC:\\Users\\Cristiano\\Desktop\\Faculdade\\2 semestre\\VC\\project\\VC_project\\Shared\\training_inputs\\chessred2k_YOLO\\train\\images\\G042_IMG071.jpg: 14 duplicate labels removed\n",
      "\u001b[34m\u001b[1mtrain: \u001b[0mC:\\Users\\Cristiano\\Desktop\\Faculdade\\2 semestre\\VC\\project\\VC_project\\Shared\\training_inputs\\chessred2k_YOLO\\train\\images\\G042_IMG072.jpg: 14 duplicate labels removed\n",
      "\u001b[34m\u001b[1mtrain: \u001b[0mC:\\Users\\Cristiano\\Desktop\\Faculdade\\2 semestre\\VC\\project\\VC_project\\Shared\\training_inputs\\chessred2k_YOLO\\train\\images\\G042_IMG073.jpg: 14 duplicate labels removed\n",
      "\u001b[34m\u001b[1mtrain: \u001b[0mC:\\Users\\Cristiano\\Desktop\\Faculdade\\2 semestre\\VC\\project\\VC_project\\Shared\\training_inputs\\chessred2k_YOLO\\train\\images\\G042_IMG074.jpg: 14 duplicate labels removed\n",
      "\u001b[34m\u001b[1mtrain: \u001b[0mC:\\Users\\Cristiano\\Desktop\\Faculdade\\2 semestre\\VC\\project\\VC_project\\Shared\\training_inputs\\chessred2k_YOLO\\train\\images\\G042_IMG075.jpg: 13 duplicate labels removed\n",
      "\u001b[34m\u001b[1mtrain: \u001b[0mC:\\Users\\Cristiano\\Desktop\\Faculdade\\2 semestre\\VC\\project\\VC_project\\Shared\\training_inputs\\chessred2k_YOLO\\train\\images\\G042_IMG076.jpg: 12 duplicate labels removed\n",
      "\u001b[34m\u001b[1mtrain: \u001b[0mC:\\Users\\Cristiano\\Desktop\\Faculdade\\2 semestre\\VC\\project\\VC_project\\Shared\\training_inputs\\chessred2k_YOLO\\train\\images\\G042_IMG077.jpg: 12 duplicate labels removed\n",
      "\u001b[34m\u001b[1mtrain: \u001b[0mC:\\Users\\Cristiano\\Desktop\\Faculdade\\2 semestre\\VC\\project\\VC_project\\Shared\\training_inputs\\chessred2k_YOLO\\train\\images\\G042_IMG078.jpg: 12 duplicate labels removed\n",
      "\u001b[34m\u001b[1mtrain: \u001b[0mC:\\Users\\Cristiano\\Desktop\\Faculdade\\2 semestre\\VC\\project\\VC_project\\Shared\\training_inputs\\chessred2k_YOLO\\train\\images\\G042_IMG079.jpg: 11 duplicate labels removed\n",
      "\u001b[34m\u001b[1mtrain: \u001b[0mC:\\Users\\Cristiano\\Desktop\\Faculdade\\2 semestre\\VC\\project\\VC_project\\Shared\\training_inputs\\chessred2k_YOLO\\train\\images\\G042_IMG080.jpg: 10 duplicate labels removed\n",
      "\u001b[34m\u001b[1mtrain: \u001b[0mC:\\Users\\Cristiano\\Desktop\\Faculdade\\2 semestre\\VC\\project\\VC_project\\Shared\\training_inputs\\chessred2k_YOLO\\train\\images\\G042_IMG081.jpg: 10 duplicate labels removed\n",
      "\u001b[34m\u001b[1mtrain: \u001b[0mC:\\Users\\Cristiano\\Desktop\\Faculdade\\2 semestre\\VC\\project\\VC_project\\Shared\\training_inputs\\chessred2k_YOLO\\train\\images\\G042_IMG082.jpg: 10 duplicate labels removed\n",
      "\u001b[34m\u001b[1mtrain: \u001b[0mC:\\Users\\Cristiano\\Desktop\\Faculdade\\2 semestre\\VC\\project\\VC_project\\Shared\\training_inputs\\chessred2k_YOLO\\train\\images\\G042_IMG083.jpg: 10 duplicate labels removed\n",
      "\u001b[34m\u001b[1mtrain: \u001b[0mC:\\Users\\Cristiano\\Desktop\\Faculdade\\2 semestre\\VC\\project\\VC_project\\Shared\\training_inputs\\chessred2k_YOLO\\train\\images\\G042_IMG084.jpg: 10 duplicate labels removed\n",
      "\u001b[34m\u001b[1mtrain: \u001b[0mC:\\Users\\Cristiano\\Desktop\\Faculdade\\2 semestre\\VC\\project\\VC_project\\Shared\\training_inputs\\chessred2k_YOLO\\train\\images\\G042_IMG085.jpg: 10 duplicate labels removed\n",
      "\u001b[34m\u001b[1mtrain: \u001b[0mC:\\Users\\Cristiano\\Desktop\\Faculdade\\2 semestre\\VC\\project\\VC_project\\Shared\\training_inputs\\chessred2k_YOLO\\train\\images\\G042_IMG086.jpg: 10 duplicate labels removed\n",
      "\u001b[34m\u001b[1mtrain: \u001b[0mC:\\Users\\Cristiano\\Desktop\\Faculdade\\2 semestre\\VC\\project\\VC_project\\Shared\\training_inputs\\chessred2k_YOLO\\train\\images\\G042_IMG087.jpg: 10 duplicate labels removed\n",
      "\u001b[34m\u001b[1mtrain: \u001b[0mC:\\Users\\Cristiano\\Desktop\\Faculdade\\2 semestre\\VC\\project\\VC_project\\Shared\\training_inputs\\chessred2k_YOLO\\train\\images\\G042_IMG088.jpg: 10 duplicate labels removed\n",
      "\u001b[34m\u001b[1mtrain: \u001b[0mC:\\Users\\Cristiano\\Desktop\\Faculdade\\2 semestre\\VC\\project\\VC_project\\Shared\\training_inputs\\chessred2k_YOLO\\train\\images\\G042_IMG089.jpg: 10 duplicate labels removed\n",
      "\u001b[34m\u001b[1mtrain: \u001b[0mC:\\Users\\Cristiano\\Desktop\\Faculdade\\2 semestre\\VC\\project\\VC_project\\Shared\\training_inputs\\chessred2k_YOLO\\train\\images\\G042_IMG090.jpg: 10 duplicate labels removed\n",
      "\u001b[34m\u001b[1mtrain: \u001b[0mC:\\Users\\Cristiano\\Desktop\\Faculdade\\2 semestre\\VC\\project\\VC_project\\Shared\\training_inputs\\chessred2k_YOLO\\train\\images\\G042_IMG091.jpg: 10 duplicate labels removed\n",
      "\u001b[34m\u001b[1mtrain: \u001b[0mC:\\Users\\Cristiano\\Desktop\\Faculdade\\2 semestre\\VC\\project\\VC_project\\Shared\\training_inputs\\chessred2k_YOLO\\train\\images\\G042_IMG092.jpg: 10 duplicate labels removed\n",
      "\u001b[34m\u001b[1mtrain: \u001b[0mC:\\Users\\Cristiano\\Desktop\\Faculdade\\2 semestre\\VC\\project\\VC_project\\Shared\\training_inputs\\chessred2k_YOLO\\train\\images\\G042_IMG093.jpg: 10 duplicate labels removed\n",
      "\u001b[34m\u001b[1mtrain: \u001b[0mC:\\Users\\Cristiano\\Desktop\\Faculdade\\2 semestre\\VC\\project\\VC_project\\Shared\\training_inputs\\chessred2k_YOLO\\train\\images\\G042_IMG094.jpg: 10 duplicate labels removed\n",
      "\u001b[34m\u001b[1mtrain: \u001b[0mC:\\Users\\Cristiano\\Desktop\\Faculdade\\2 semestre\\VC\\project\\VC_project\\Shared\\training_inputs\\chessred2k_YOLO\\train\\images\\G056_IMG000.jpg: 32 duplicate labels removed\n",
      "\u001b[34m\u001b[1mtrain: \u001b[0mC:\\Users\\Cristiano\\Desktop\\Faculdade\\2 semestre\\VC\\project\\VC_project\\Shared\\training_inputs\\chessred2k_YOLO\\train\\images\\G056_IMG001.jpg: 32 duplicate labels removed\n",
      "\u001b[34m\u001b[1mtrain: \u001b[0mC:\\Users\\Cristiano\\Desktop\\Faculdade\\2 semestre\\VC\\project\\VC_project\\Shared\\training_inputs\\chessred2k_YOLO\\train\\images\\G056_IMG002.jpg: 32 duplicate labels removed\n",
      "\u001b[34m\u001b[1mtrain: \u001b[0mC:\\Users\\Cristiano\\Desktop\\Faculdade\\2 semestre\\VC\\project\\VC_project\\Shared\\training_inputs\\chessred2k_YOLO\\train\\images\\G056_IMG003.jpg: 32 duplicate labels removed\n",
      "\u001b[34m\u001b[1mtrain: \u001b[0mC:\\Users\\Cristiano\\Desktop\\Faculdade\\2 semestre\\VC\\project\\VC_project\\Shared\\training_inputs\\chessred2k_YOLO\\train\\images\\G056_IMG004.jpg: 32 duplicate labels removed\n",
      "\u001b[34m\u001b[1mtrain: \u001b[0mC:\\Users\\Cristiano\\Desktop\\Faculdade\\2 semestre\\VC\\project\\VC_project\\Shared\\training_inputs\\chessred2k_YOLO\\train\\images\\G056_IMG005.jpg: 32 duplicate labels removed\n",
      "\u001b[34m\u001b[1mtrain: \u001b[0mC:\\Users\\Cristiano\\Desktop\\Faculdade\\2 semestre\\VC\\project\\VC_project\\Shared\\training_inputs\\chessred2k_YOLO\\train\\images\\G056_IMG006.jpg: 32 duplicate labels removed\n",
      "\u001b[34m\u001b[1mtrain: \u001b[0mC:\\Users\\Cristiano\\Desktop\\Faculdade\\2 semestre\\VC\\project\\VC_project\\Shared\\training_inputs\\chessred2k_YOLO\\train\\images\\G056_IMG007.jpg: 32 duplicate labels removed\n",
      "\u001b[34m\u001b[1mtrain: \u001b[0mC:\\Users\\Cristiano\\Desktop\\Faculdade\\2 semestre\\VC\\project\\VC_project\\Shared\\training_inputs\\chessred2k_YOLO\\train\\images\\G056_IMG008.jpg: 31 duplicate labels removed\n",
      "\u001b[34m\u001b[1mtrain: \u001b[0mC:\\Users\\Cristiano\\Desktop\\Faculdade\\2 semestre\\VC\\project\\VC_project\\Shared\\training_inputs\\chessred2k_YOLO\\train\\images\\G056_IMG009.jpg: 31 duplicate labels removed\n",
      "\u001b[34m\u001b[1mtrain: \u001b[0mC:\\Users\\Cristiano\\Desktop\\Faculdade\\2 semestre\\VC\\project\\VC_project\\Shared\\training_inputs\\chessred2k_YOLO\\train\\images\\G056_IMG010.jpg: 31 duplicate labels removed\n",
      "\u001b[34m\u001b[1mtrain: \u001b[0mC:\\Users\\Cristiano\\Desktop\\Faculdade\\2 semestre\\VC\\project\\VC_project\\Shared\\training_inputs\\chessred2k_YOLO\\train\\images\\G056_IMG011.jpg: 30 duplicate labels removed\n",
      "\u001b[34m\u001b[1mtrain: \u001b[0mC:\\Users\\Cristiano\\Desktop\\Faculdade\\2 semestre\\VC\\project\\VC_project\\Shared\\training_inputs\\chessred2k_YOLO\\train\\images\\G056_IMG012.jpg: 29 duplicate labels removed\n",
      "\u001b[34m\u001b[1mtrain: \u001b[0mC:\\Users\\Cristiano\\Desktop\\Faculdade\\2 semestre\\VC\\project\\VC_project\\Shared\\training_inputs\\chessred2k_YOLO\\train\\images\\G056_IMG013.jpg: 28 duplicate labels removed\n",
      "\u001b[34m\u001b[1mtrain: \u001b[0mC:\\Users\\Cristiano\\Desktop\\Faculdade\\2 semestre\\VC\\project\\VC_project\\Shared\\training_inputs\\chessred2k_YOLO\\train\\images\\G056_IMG014.jpg: 28 duplicate labels removed\n",
      "\u001b[34m\u001b[1mtrain: \u001b[0mC:\\Users\\Cristiano\\Desktop\\Faculdade\\2 semestre\\VC\\project\\VC_project\\Shared\\training_inputs\\chessred2k_YOLO\\train\\images\\G056_IMG015.jpg: 28 duplicate labels removed\n",
      "\u001b[34m\u001b[1mtrain: \u001b[0mC:\\Users\\Cristiano\\Desktop\\Faculdade\\2 semestre\\VC\\project\\VC_project\\Shared\\training_inputs\\chessred2k_YOLO\\train\\images\\G056_IMG016.jpg: 28 duplicate labels removed\n",
      "\u001b[34m\u001b[1mtrain: \u001b[0mC:\\Users\\Cristiano\\Desktop\\Faculdade\\2 semestre\\VC\\project\\VC_project\\Shared\\training_inputs\\chessred2k_YOLO\\train\\images\\G056_IMG017.jpg: 28 duplicate labels removed\n",
      "\u001b[34m\u001b[1mtrain: \u001b[0mC:\\Users\\Cristiano\\Desktop\\Faculdade\\2 semestre\\VC\\project\\VC_project\\Shared\\training_inputs\\chessred2k_YOLO\\train\\images\\G056_IMG018.jpg: 28 duplicate labels removed\n",
      "\u001b[34m\u001b[1mtrain: \u001b[0mC:\\Users\\Cristiano\\Desktop\\Faculdade\\2 semestre\\VC\\project\\VC_project\\Shared\\training_inputs\\chessred2k_YOLO\\train\\images\\G056_IMG019.jpg: 28 duplicate labels removed\n",
      "\u001b[34m\u001b[1mtrain: \u001b[0mC:\\Users\\Cristiano\\Desktop\\Faculdade\\2 semestre\\VC\\project\\VC_project\\Shared\\training_inputs\\chessred2k_YOLO\\train\\images\\G056_IMG020.jpg: 28 duplicate labels removed\n",
      "\u001b[34m\u001b[1mtrain: \u001b[0mC:\\Users\\Cristiano\\Desktop\\Faculdade\\2 semestre\\VC\\project\\VC_project\\Shared\\training_inputs\\chessred2k_YOLO\\train\\images\\G056_IMG021.jpg: 28 duplicate labels removed\n",
      "\u001b[34m\u001b[1mtrain: \u001b[0mC:\\Users\\Cristiano\\Desktop\\Faculdade\\2 semestre\\VC\\project\\VC_project\\Shared\\training_inputs\\chessred2k_YOLO\\train\\images\\G056_IMG022.jpg: 28 duplicate labels removed\n",
      "\u001b[34m\u001b[1mtrain: \u001b[0mC:\\Users\\Cristiano\\Desktop\\Faculdade\\2 semestre\\VC\\project\\VC_project\\Shared\\training_inputs\\chessred2k_YOLO\\train\\images\\G056_IMG023.jpg: 28 duplicate labels removed\n",
      "\u001b[34m\u001b[1mtrain: \u001b[0mC:\\Users\\Cristiano\\Desktop\\Faculdade\\2 semestre\\VC\\project\\VC_project\\Shared\\training_inputs\\chessred2k_YOLO\\train\\images\\G056_IMG024.jpg: 28 duplicate labels removed\n",
      "\u001b[34m\u001b[1mtrain: \u001b[0mC:\\Users\\Cristiano\\Desktop\\Faculdade\\2 semestre\\VC\\project\\VC_project\\Shared\\training_inputs\\chessred2k_YOLO\\train\\images\\G056_IMG025.jpg: 28 duplicate labels removed\n",
      "\u001b[34m\u001b[1mtrain: \u001b[0mC:\\Users\\Cristiano\\Desktop\\Faculdade\\2 semestre\\VC\\project\\VC_project\\Shared\\training_inputs\\chessred2k_YOLO\\train\\images\\G056_IMG026.jpg: 28 duplicate labels removed\n",
      "\u001b[34m\u001b[1mtrain: \u001b[0mC:\\Users\\Cristiano\\Desktop\\Faculdade\\2 semestre\\VC\\project\\VC_project\\Shared\\training_inputs\\chessred2k_YOLO\\train\\images\\G056_IMG027.jpg: 27 duplicate labels removed\n",
      "\u001b[34m\u001b[1mtrain: \u001b[0mC:\\Users\\Cristiano\\Desktop\\Faculdade\\2 semestre\\VC\\project\\VC_project\\Shared\\training_inputs\\chessred2k_YOLO\\train\\images\\G056_IMG028.jpg: 26 duplicate labels removed\n",
      "\u001b[34m\u001b[1mtrain: \u001b[0mC:\\Users\\Cristiano\\Desktop\\Faculdade\\2 semestre\\VC\\project\\VC_project\\Shared\\training_inputs\\chessred2k_YOLO\\train\\images\\G056_IMG029.jpg: 26 duplicate labels removed\n",
      "\u001b[34m\u001b[1mtrain: \u001b[0mC:\\Users\\Cristiano\\Desktop\\Faculdade\\2 semestre\\VC\\project\\VC_project\\Shared\\training_inputs\\chessred2k_YOLO\\train\\images\\G056_IMG030.jpg: 26 duplicate labels removed\n",
      "\u001b[34m\u001b[1mtrain: \u001b[0mC:\\Users\\Cristiano\\Desktop\\Faculdade\\2 semestre\\VC\\project\\VC_project\\Shared\\training_inputs\\chessred2k_YOLO\\train\\images\\G056_IMG031.jpg: 26 duplicate labels removed\n",
      "\u001b[34m\u001b[1mtrain: \u001b[0mC:\\Users\\Cristiano\\Desktop\\Faculdade\\2 semestre\\VC\\project\\VC_project\\Shared\\training_inputs\\chessred2k_YOLO\\train\\images\\G056_IMG032.jpg: 26 duplicate labels removed\n",
      "\u001b[34m\u001b[1mtrain: \u001b[0mC:\\Users\\Cristiano\\Desktop\\Faculdade\\2 semestre\\VC\\project\\VC_project\\Shared\\training_inputs\\chessred2k_YOLO\\train\\images\\G056_IMG033.jpg: 26 duplicate labels removed\n",
      "\u001b[34m\u001b[1mtrain: \u001b[0mC:\\Users\\Cristiano\\Desktop\\Faculdade\\2 semestre\\VC\\project\\VC_project\\Shared\\training_inputs\\chessred2k_YOLO\\train\\images\\G056_IMG034.jpg: 26 duplicate labels removed\n",
      "\u001b[34m\u001b[1mtrain: \u001b[0mC:\\Users\\Cristiano\\Desktop\\Faculdade\\2 semestre\\VC\\project\\VC_project\\Shared\\training_inputs\\chessred2k_YOLO\\train\\images\\G056_IMG035.jpg: 26 duplicate labels removed\n",
      "\u001b[34m\u001b[1mtrain: \u001b[0mC:\\Users\\Cristiano\\Desktop\\Faculdade\\2 semestre\\VC\\project\\VC_project\\Shared\\training_inputs\\chessred2k_YOLO\\train\\images\\G056_IMG036.jpg: 25 duplicate labels removed\n",
      "\u001b[34m\u001b[1mtrain: \u001b[0mC:\\Users\\Cristiano\\Desktop\\Faculdade\\2 semestre\\VC\\project\\VC_project\\Shared\\training_inputs\\chessred2k_YOLO\\train\\images\\G056_IMG037.jpg: 24 duplicate labels removed\n",
      "\u001b[34m\u001b[1mtrain: \u001b[0mC:\\Users\\Cristiano\\Desktop\\Faculdade\\2 semestre\\VC\\project\\VC_project\\Shared\\training_inputs\\chessred2k_YOLO\\train\\images\\G056_IMG038.jpg: 24 duplicate labels removed\n",
      "\u001b[34m\u001b[1mtrain: \u001b[0mC:\\Users\\Cristiano\\Desktop\\Faculdade\\2 semestre\\VC\\project\\VC_project\\Shared\\training_inputs\\chessred2k_YOLO\\train\\images\\G056_IMG039.jpg: 24 duplicate labels removed\n",
      "\u001b[34m\u001b[1mtrain: \u001b[0mC:\\Users\\Cristiano\\Desktop\\Faculdade\\2 semestre\\VC\\project\\VC_project\\Shared\\training_inputs\\chessred2k_YOLO\\train\\images\\G056_IMG040.jpg: 24 duplicate labels removed\n",
      "\u001b[34m\u001b[1mtrain: \u001b[0mC:\\Users\\Cristiano\\Desktop\\Faculdade\\2 semestre\\VC\\project\\VC_project\\Shared\\training_inputs\\chessred2k_YOLO\\train\\images\\G056_IMG041.jpg: 24 duplicate labels removed\n",
      "\u001b[34m\u001b[1mtrain: \u001b[0mC:\\Users\\Cristiano\\Desktop\\Faculdade\\2 semestre\\VC\\project\\VC_project\\Shared\\training_inputs\\chessred2k_YOLO\\train\\images\\G056_IMG042.jpg: 23 duplicate labels removed\n",
      "\u001b[34m\u001b[1mtrain: \u001b[0mC:\\Users\\Cristiano\\Desktop\\Faculdade\\2 semestre\\VC\\project\\VC_project\\Shared\\training_inputs\\chessred2k_YOLO\\train\\images\\G056_IMG043.jpg: 23 duplicate labels removed\n",
      "\u001b[34m\u001b[1mtrain: \u001b[0mC:\\Users\\Cristiano\\Desktop\\Faculdade\\2 semestre\\VC\\project\\VC_project\\Shared\\training_inputs\\chessred2k_YOLO\\train\\images\\G056_IMG044.jpg: 23 duplicate labels removed\n",
      "\u001b[34m\u001b[1mtrain: \u001b[0mC:\\Users\\Cristiano\\Desktop\\Faculdade\\2 semestre\\VC\\project\\VC_project\\Shared\\training_inputs\\chessred2k_YOLO\\train\\images\\G056_IMG045.jpg: 23 duplicate labels removed\n",
      "\u001b[34m\u001b[1mtrain: \u001b[0mC:\\Users\\Cristiano\\Desktop\\Faculdade\\2 semestre\\VC\\project\\VC_project\\Shared\\training_inputs\\chessred2k_YOLO\\train\\images\\G056_IMG046.jpg: 23 duplicate labels removed\n",
      "\u001b[34m\u001b[1mtrain: \u001b[0mC:\\Users\\Cristiano\\Desktop\\Faculdade\\2 semestre\\VC\\project\\VC_project\\Shared\\training_inputs\\chessred2k_YOLO\\train\\images\\G056_IMG047.jpg: 23 duplicate labels removed\n",
      "\u001b[34m\u001b[1mtrain: \u001b[0mC:\\Users\\Cristiano\\Desktop\\Faculdade\\2 semestre\\VC\\project\\VC_project\\Shared\\training_inputs\\chessred2k_YOLO\\train\\images\\G056_IMG048.jpg: 23 duplicate labels removed\n",
      "\u001b[34m\u001b[1mtrain: \u001b[0mC:\\Users\\Cristiano\\Desktop\\Faculdade\\2 semestre\\VC\\project\\VC_project\\Shared\\training_inputs\\chessred2k_YOLO\\train\\images\\G056_IMG049.jpg: 23 duplicate labels removed\n",
      "\u001b[34m\u001b[1mtrain: \u001b[0mC:\\Users\\Cristiano\\Desktop\\Faculdade\\2 semestre\\VC\\project\\VC_project\\Shared\\training_inputs\\chessred2k_YOLO\\train\\images\\G056_IMG050.jpg: 23 duplicate labels removed\n",
      "\u001b[34m\u001b[1mtrain: \u001b[0mC:\\Users\\Cristiano\\Desktop\\Faculdade\\2 semestre\\VC\\project\\VC_project\\Shared\\training_inputs\\chessred2k_YOLO\\train\\images\\G056_IMG051.jpg: 22 duplicate labels removed\n",
      "\u001b[34m\u001b[1mtrain: \u001b[0mC:\\Users\\Cristiano\\Desktop\\Faculdade\\2 semestre\\VC\\project\\VC_project\\Shared\\training_inputs\\chessred2k_YOLO\\train\\images\\G056_IMG052.jpg: 21 duplicate labels removed\n",
      "\u001b[34m\u001b[1mtrain: \u001b[0mC:\\Users\\Cristiano\\Desktop\\Faculdade\\2 semestre\\VC\\project\\VC_project\\Shared\\training_inputs\\chessred2k_YOLO\\train\\images\\G056_IMG053.jpg: 21 duplicate labels removed\n",
      "\u001b[34m\u001b[1mtrain: \u001b[0mC:\\Users\\Cristiano\\Desktop\\Faculdade\\2 semestre\\VC\\project\\VC_project\\Shared\\training_inputs\\chessred2k_YOLO\\train\\images\\G056_IMG054.jpg: 20 duplicate labels removed\n",
      "\u001b[34m\u001b[1mtrain: \u001b[0mC:\\Users\\Cristiano\\Desktop\\Faculdade\\2 semestre\\VC\\project\\VC_project\\Shared\\training_inputs\\chessred2k_YOLO\\train\\images\\G056_IMG055.jpg: 19 duplicate labels removed\n",
      "\u001b[34m\u001b[1mtrain: \u001b[0mC:\\Users\\Cristiano\\Desktop\\Faculdade\\2 semestre\\VC\\project\\VC_project\\Shared\\training_inputs\\chessred2k_YOLO\\train\\images\\G056_IMG056.jpg: 19 duplicate labels removed\n",
      "\u001b[34m\u001b[1mtrain: \u001b[0mC:\\Users\\Cristiano\\Desktop\\Faculdade\\2 semestre\\VC\\project\\VC_project\\Shared\\training_inputs\\chessred2k_YOLO\\train\\images\\G056_IMG057.jpg: 19 duplicate labels removed\n",
      "\u001b[34m\u001b[1mtrain: \u001b[0mC:\\Users\\Cristiano\\Desktop\\Faculdade\\2 semestre\\VC\\project\\VC_project\\Shared\\training_inputs\\chessred2k_YOLO\\train\\images\\G056_IMG058.jpg: 19 duplicate labels removed\n",
      "\u001b[34m\u001b[1mtrain: \u001b[0mC:\\Users\\Cristiano\\Desktop\\Faculdade\\2 semestre\\VC\\project\\VC_project\\Shared\\training_inputs\\chessred2k_YOLO\\train\\images\\G056_IMG059.jpg: 18 duplicate labels removed\n",
      "\u001b[34m\u001b[1mtrain: \u001b[0mC:\\Users\\Cristiano\\Desktop\\Faculdade\\2 semestre\\VC\\project\\VC_project\\Shared\\training_inputs\\chessred2k_YOLO\\train\\images\\G056_IMG060.jpg: 17 duplicate labels removed\n",
      "\u001b[34m\u001b[1mtrain: \u001b[0mC:\\Users\\Cristiano\\Desktop\\Faculdade\\2 semestre\\VC\\project\\VC_project\\Shared\\training_inputs\\chessred2k_YOLO\\train\\images\\G056_IMG061.jpg: 17 duplicate labels removed\n",
      "\u001b[34m\u001b[1mtrain: \u001b[0mC:\\Users\\Cristiano\\Desktop\\Faculdade\\2 semestre\\VC\\project\\VC_project\\Shared\\training_inputs\\chessred2k_YOLO\\train\\images\\G056_IMG062.jpg: 17 duplicate labels removed\n",
      "\u001b[34m\u001b[1mtrain: \u001b[0mC:\\Users\\Cristiano\\Desktop\\Faculdade\\2 semestre\\VC\\project\\VC_project\\Shared\\training_inputs\\chessred2k_YOLO\\train\\images\\G056_IMG063.jpg: 17 duplicate labels removed\n",
      "\u001b[34m\u001b[1mtrain: \u001b[0mC:\\Users\\Cristiano\\Desktop\\Faculdade\\2 semestre\\VC\\project\\VC_project\\Shared\\training_inputs\\chessred2k_YOLO\\train\\images\\G056_IMG064.jpg: 17 duplicate labels removed\n",
      "\u001b[34m\u001b[1mtrain: \u001b[0mC:\\Users\\Cristiano\\Desktop\\Faculdade\\2 semestre\\VC\\project\\VC_project\\Shared\\training_inputs\\chessred2k_YOLO\\train\\images\\G056_IMG065.jpg: 17 duplicate labels removed\n",
      "\u001b[34m\u001b[1mtrain: \u001b[0mC:\\Users\\Cristiano\\Desktop\\Faculdade\\2 semestre\\VC\\project\\VC_project\\Shared\\training_inputs\\chessred2k_YOLO\\train\\images\\G056_IMG066.jpg: 17 duplicate labels removed\n",
      "\u001b[34m\u001b[1mtrain: \u001b[0mC:\\Users\\Cristiano\\Desktop\\Faculdade\\2 semestre\\VC\\project\\VC_project\\Shared\\training_inputs\\chessred2k_YOLO\\train\\images\\G056_IMG067.jpg: 17 duplicate labels removed\n",
      "\u001b[34m\u001b[1mtrain: \u001b[0mC:\\Users\\Cristiano\\Desktop\\Faculdade\\2 semestre\\VC\\project\\VC_project\\Shared\\training_inputs\\chessred2k_YOLO\\train\\images\\G056_IMG068.jpg: 17 duplicate labels removed\n",
      "\u001b[34m\u001b[1mtrain: \u001b[0mC:\\Users\\Cristiano\\Desktop\\Faculdade\\2 semestre\\VC\\project\\VC_project\\Shared\\training_inputs\\chessred2k_YOLO\\train\\images\\G056_IMG069.jpg: 17 duplicate labels removed\n",
      "\u001b[34m\u001b[1mtrain: \u001b[0mC:\\Users\\Cristiano\\Desktop\\Faculdade\\2 semestre\\VC\\project\\VC_project\\Shared\\training_inputs\\chessred2k_YOLO\\train\\images\\G056_IMG070.jpg: 17 duplicate labels removed\n",
      "\u001b[34m\u001b[1mtrain: \u001b[0mC:\\Users\\Cristiano\\Desktop\\Faculdade\\2 semestre\\VC\\project\\VC_project\\Shared\\training_inputs\\chessred2k_YOLO\\train\\images\\G056_IMG071.jpg: 17 duplicate labels removed\n",
      "\u001b[34m\u001b[1mtrain: \u001b[0mC:\\Users\\Cristiano\\Desktop\\Faculdade\\2 semestre\\VC\\project\\VC_project\\Shared\\training_inputs\\chessred2k_YOLO\\train\\images\\G056_IMG072.jpg: 17 duplicate labels removed\n",
      "\u001b[34m\u001b[1mtrain: \u001b[0mC:\\Users\\Cristiano\\Desktop\\Faculdade\\2 semestre\\VC\\project\\VC_project\\Shared\\training_inputs\\chessred2k_YOLO\\train\\images\\G056_IMG073.jpg: 17 duplicate labels removed\n",
      "\u001b[34m\u001b[1mtrain: \u001b[0mC:\\Users\\Cristiano\\Desktop\\Faculdade\\2 semestre\\VC\\project\\VC_project\\Shared\\training_inputs\\chessred2k_YOLO\\train\\images\\G056_IMG074.jpg: 17 duplicate labels removed\n",
      "\u001b[34m\u001b[1mtrain: \u001b[0mC:\\Users\\Cristiano\\Desktop\\Faculdade\\2 semestre\\VC\\project\\VC_project\\Shared\\training_inputs\\chessred2k_YOLO\\train\\images\\G056_IMG075.jpg: 17 duplicate labels removed\n",
      "\u001b[34m\u001b[1mtrain: \u001b[0mC:\\Users\\Cristiano\\Desktop\\Faculdade\\2 semestre\\VC\\project\\VC_project\\Shared\\training_inputs\\chessred2k_YOLO\\train\\images\\G056_IMG076.jpg: 17 duplicate labels removed\n",
      "\u001b[34m\u001b[1mtrain: \u001b[0mC:\\Users\\Cristiano\\Desktop\\Faculdade\\2 semestre\\VC\\project\\VC_project\\Shared\\training_inputs\\chessred2k_YOLO\\train\\images\\G056_IMG077.jpg: 17 duplicate labels removed\n",
      "\u001b[34m\u001b[1mtrain: \u001b[0mC:\\Users\\Cristiano\\Desktop\\Faculdade\\2 semestre\\VC\\project\\VC_project\\Shared\\training_inputs\\chessred2k_YOLO\\train\\images\\G056_IMG078.jpg: 17 duplicate labels removed\n",
      "\u001b[34m\u001b[1mtrain: \u001b[0mC:\\Users\\Cristiano\\Desktop\\Faculdade\\2 semestre\\VC\\project\\VC_project\\Shared\\training_inputs\\chessred2k_YOLO\\train\\images\\G056_IMG079.jpg: 17 duplicate labels removed\n",
      "\u001b[34m\u001b[1mtrain: \u001b[0mC:\\Users\\Cristiano\\Desktop\\Faculdade\\2 semestre\\VC\\project\\VC_project\\Shared\\training_inputs\\chessred2k_YOLO\\train\\images\\G056_IMG080.jpg: 17 duplicate labels removed\n",
      "\u001b[34m\u001b[1mtrain: \u001b[0mC:\\Users\\Cristiano\\Desktop\\Faculdade\\2 semestre\\VC\\project\\VC_project\\Shared\\training_inputs\\chessred2k_YOLO\\train\\images\\G056_IMG081.jpg: 17 duplicate labels removed\n",
      "\u001b[34m\u001b[1mtrain: \u001b[0mC:\\Users\\Cristiano\\Desktop\\Faculdade\\2 semestre\\VC\\project\\VC_project\\Shared\\training_inputs\\chessred2k_YOLO\\train\\images\\G056_IMG082.jpg: 17 duplicate labels removed\n",
      "\u001b[34m\u001b[1mtrain: \u001b[0mC:\\Users\\Cristiano\\Desktop\\Faculdade\\2 semestre\\VC\\project\\VC_project\\Shared\\training_inputs\\chessred2k_YOLO\\train\\images\\G056_IMG083.jpg: 17 duplicate labels removed\n",
      "\u001b[34m\u001b[1mtrain: \u001b[0mC:\\Users\\Cristiano\\Desktop\\Faculdade\\2 semestre\\VC\\project\\VC_project\\Shared\\training_inputs\\chessred2k_YOLO\\train\\images\\G056_IMG084.jpg: 17 duplicate labels removed\n",
      "\u001b[34m\u001b[1mtrain: \u001b[0mC:\\Users\\Cristiano\\Desktop\\Faculdade\\2 semestre\\VC\\project\\VC_project\\Shared\\training_inputs\\chessred2k_YOLO\\train\\images\\G056_IMG085.jpg: 17 duplicate labels removed\n",
      "\u001b[34m\u001b[1mtrain: \u001b[0mC:\\Users\\Cristiano\\Desktop\\Faculdade\\2 semestre\\VC\\project\\VC_project\\Shared\\training_inputs\\chessred2k_YOLO\\train\\images\\G056_IMG086.jpg: 17 duplicate labels removed\n",
      "\u001b[34m\u001b[1mtrain: \u001b[0mC:\\Users\\Cristiano\\Desktop\\Faculdade\\2 semestre\\VC\\project\\VC_project\\Shared\\training_inputs\\chessred2k_YOLO\\train\\images\\G056_IMG087.jpg: 17 duplicate labels removed\n",
      "\u001b[34m\u001b[1mtrain: \u001b[0mC:\\Users\\Cristiano\\Desktop\\Faculdade\\2 semestre\\VC\\project\\VC_project\\Shared\\training_inputs\\chessred2k_YOLO\\train\\images\\G056_IMG088.jpg: 17 duplicate labels removed\n",
      "\u001b[34m\u001b[1mtrain: \u001b[0mC:\\Users\\Cristiano\\Desktop\\Faculdade\\2 semestre\\VC\\project\\VC_project\\Shared\\training_inputs\\chessred2k_YOLO\\train\\images\\G056_IMG089.jpg: 17 duplicate labels removed\n",
      "\u001b[34m\u001b[1mtrain: \u001b[0mC:\\Users\\Cristiano\\Desktop\\Faculdade\\2 semestre\\VC\\project\\VC_project\\Shared\\training_inputs\\chessred2k_YOLO\\train\\images\\G056_IMG090.jpg: 17 duplicate labels removed\n",
      "\u001b[34m\u001b[1mtrain: \u001b[0mC:\\Users\\Cristiano\\Desktop\\Faculdade\\2 semestre\\VC\\project\\VC_project\\Shared\\training_inputs\\chessred2k_YOLO\\train\\images\\G056_IMG091.jpg: 17 duplicate labels removed\n",
      "\u001b[34m\u001b[1mtrain: \u001b[0mC:\\Users\\Cristiano\\Desktop\\Faculdade\\2 semestre\\VC\\project\\VC_project\\Shared\\training_inputs\\chessred2k_YOLO\\train\\images\\G056_IMG092.jpg: 17 duplicate labels removed\n",
      "\u001b[34m\u001b[1mtrain: \u001b[0mC:\\Users\\Cristiano\\Desktop\\Faculdade\\2 semestre\\VC\\project\\VC_project\\Shared\\training_inputs\\chessred2k_YOLO\\train\\images\\G056_IMG093.jpg: 17 duplicate labels removed\n",
      "\u001b[34m\u001b[1mtrain: \u001b[0mC:\\Users\\Cristiano\\Desktop\\Faculdade\\2 semestre\\VC\\project\\VC_project\\Shared\\training_inputs\\chessred2k_YOLO\\train\\images\\G056_IMG094.jpg: 17 duplicate labels removed\n",
      "\u001b[34m\u001b[1mtrain: \u001b[0mC:\\Users\\Cristiano\\Desktop\\Faculdade\\2 semestre\\VC\\project\\VC_project\\Shared\\training_inputs\\chessred2k_YOLO\\train\\images\\G056_IMG095.jpg: 17 duplicate labels removed\n",
      "\u001b[34m\u001b[1mtrain: \u001b[0mC:\\Users\\Cristiano\\Desktop\\Faculdade\\2 semestre\\VC\\project\\VC_project\\Shared\\training_inputs\\chessred2k_YOLO\\train\\images\\G056_IMG096.jpg: 17 duplicate labels removed\n",
      "\u001b[34m\u001b[1mtrain: \u001b[0mC:\\Users\\Cristiano\\Desktop\\Faculdade\\2 semestre\\VC\\project\\VC_project\\Shared\\training_inputs\\chessred2k_YOLO\\train\\images\\G056_IMG097.jpg: 17 duplicate labels removed\n",
      "\u001b[34m\u001b[1mtrain: \u001b[0mC:\\Users\\Cristiano\\Desktop\\Faculdade\\2 semestre\\VC\\project\\VC_project\\Shared\\training_inputs\\chessred2k_YOLO\\train\\images\\G056_IMG098.jpg: 17 duplicate labels removed\n",
      "\u001b[34m\u001b[1mtrain: \u001b[0mC:\\Users\\Cristiano\\Desktop\\Faculdade\\2 semestre\\VC\\project\\VC_project\\Shared\\training_inputs\\chessred2k_YOLO\\train\\images\\G056_IMG099.jpg: 17 duplicate labels removed\n",
      "\u001b[34m\u001b[1mtrain: \u001b[0mC:\\Users\\Cristiano\\Desktop\\Faculdade\\2 semestre\\VC\\project\\VC_project\\Shared\\training_inputs\\chessred2k_YOLO\\train\\images\\G056_IMG100.jpg: 17 duplicate labels removed\n",
      "\u001b[34m\u001b[1mtrain: \u001b[0mC:\\Users\\Cristiano\\Desktop\\Faculdade\\2 semestre\\VC\\project\\VC_project\\Shared\\training_inputs\\chessred2k_YOLO\\train\\images\\G056_IMG101.jpg: 17 duplicate labels removed\n",
      "\u001b[34m\u001b[1mtrain: \u001b[0mC:\\Users\\Cristiano\\Desktop\\Faculdade\\2 semestre\\VC\\project\\VC_project\\Shared\\training_inputs\\chessred2k_YOLO\\train\\images\\G056_IMG102.jpg: 17 duplicate labels removed\n",
      "\u001b[34m\u001b[1mtrain: \u001b[0mC:\\Users\\Cristiano\\Desktop\\Faculdade\\2 semestre\\VC\\project\\VC_project\\Shared\\training_inputs\\chessred2k_YOLO\\train\\images\\G056_IMG103.jpg: 17 duplicate labels removed\n",
      "\u001b[34m\u001b[1mtrain: \u001b[0mC:\\Users\\Cristiano\\Desktop\\Faculdade\\2 semestre\\VC\\project\\VC_project\\Shared\\training_inputs\\chessred2k_YOLO\\train\\images\\G061_IMG000.jpg: 32 duplicate labels removed\n",
      "\u001b[34m\u001b[1mtrain: \u001b[0mC:\\Users\\Cristiano\\Desktop\\Faculdade\\2 semestre\\VC\\project\\VC_project\\Shared\\training_inputs\\chessred2k_YOLO\\train\\images\\G061_IMG001.jpg: 32 duplicate labels removed\n",
      "\u001b[34m\u001b[1mtrain: \u001b[0mC:\\Users\\Cristiano\\Desktop\\Faculdade\\2 semestre\\VC\\project\\VC_project\\Shared\\training_inputs\\chessred2k_YOLO\\train\\images\\G061_IMG002.jpg: 32 duplicate labels removed\n",
      "\u001b[34m\u001b[1mtrain: \u001b[0mC:\\Users\\Cristiano\\Desktop\\Faculdade\\2 semestre\\VC\\project\\VC_project\\Shared\\training_inputs\\chessred2k_YOLO\\train\\images\\G061_IMG003.jpg: 32 duplicate labels removed\n",
      "\u001b[34m\u001b[1mtrain: \u001b[0mC:\\Users\\Cristiano\\Desktop\\Faculdade\\2 semestre\\VC\\project\\VC_project\\Shared\\training_inputs\\chessred2k_YOLO\\train\\images\\G061_IMG004.jpg: 32 duplicate labels removed\n",
      "\u001b[34m\u001b[1mtrain: \u001b[0mC:\\Users\\Cristiano\\Desktop\\Faculdade\\2 semestre\\VC\\project\\VC_project\\Shared\\training_inputs\\chessred2k_YOLO\\train\\images\\G061_IMG005.jpg: 32 duplicate labels removed\n",
      "\u001b[34m\u001b[1mtrain: \u001b[0mC:\\Users\\Cristiano\\Desktop\\Faculdade\\2 semestre\\VC\\project\\VC_project\\Shared\\training_inputs\\chessred2k_YOLO\\train\\images\\G061_IMG006.jpg: 32 duplicate labels removed\n",
      "\u001b[34m\u001b[1mtrain: \u001b[0mC:\\Users\\Cristiano\\Desktop\\Faculdade\\2 semestre\\VC\\project\\VC_project\\Shared\\training_inputs\\chessred2k_YOLO\\train\\images\\G061_IMG007.jpg: 32 duplicate labels removed\n",
      "\u001b[34m\u001b[1mtrain: \u001b[0mC:\\Users\\Cristiano\\Desktop\\Faculdade\\2 semestre\\VC\\project\\VC_project\\Shared\\training_inputs\\chessred2k_YOLO\\train\\images\\G061_IMG008.jpg: 32 duplicate labels removed\n",
      "\u001b[34m\u001b[1mtrain: \u001b[0mC:\\Users\\Cristiano\\Desktop\\Faculdade\\2 semestre\\VC\\project\\VC_project\\Shared\\training_inputs\\chessred2k_YOLO\\train\\images\\G061_IMG009.jpg: 32 duplicate labels removed\n",
      "\u001b[34m\u001b[1mtrain: \u001b[0mC:\\Users\\Cristiano\\Desktop\\Faculdade\\2 semestre\\VC\\project\\VC_project\\Shared\\training_inputs\\chessred2k_YOLO\\train\\images\\G061_IMG010.jpg: 32 duplicate labels removed\n",
      "\u001b[34m\u001b[1mtrain: \u001b[0mC:\\Users\\Cristiano\\Desktop\\Faculdade\\2 semestre\\VC\\project\\VC_project\\Shared\\training_inputs\\chessred2k_YOLO\\train\\images\\G061_IMG011.jpg: 32 duplicate labels removed\n",
      "\u001b[34m\u001b[1mtrain: \u001b[0mC:\\Users\\Cristiano\\Desktop\\Faculdade\\2 semestre\\VC\\project\\VC_project\\Shared\\training_inputs\\chessred2k_YOLO\\train\\images\\G061_IMG012.jpg: 32 duplicate labels removed\n",
      "\u001b[34m\u001b[1mtrain: \u001b[0mC:\\Users\\Cristiano\\Desktop\\Faculdade\\2 semestre\\VC\\project\\VC_project\\Shared\\training_inputs\\chessred2k_YOLO\\train\\images\\G061_IMG013.jpg: 32 duplicate labels removed\n",
      "\u001b[34m\u001b[1mtrain: \u001b[0mC:\\Users\\Cristiano\\Desktop\\Faculdade\\2 semestre\\VC\\project\\VC_project\\Shared\\training_inputs\\chessred2k_YOLO\\train\\images\\G061_IMG014.jpg: 32 duplicate labels removed\n",
      "\u001b[34m\u001b[1mtrain: \u001b[0mC:\\Users\\Cristiano\\Desktop\\Faculdade\\2 semestre\\VC\\project\\VC_project\\Shared\\training_inputs\\chessred2k_YOLO\\train\\images\\G061_IMG015.jpg: 32 duplicate labels removed\n",
      "\u001b[34m\u001b[1mtrain: \u001b[0mC:\\Users\\Cristiano\\Desktop\\Faculdade\\2 semestre\\VC\\project\\VC_project\\Shared\\training_inputs\\chessred2k_YOLO\\train\\images\\G061_IMG016.jpg: 32 duplicate labels removed\n",
      "\u001b[34m\u001b[1mtrain: \u001b[0mC:\\Users\\Cristiano\\Desktop\\Faculdade\\2 semestre\\VC\\project\\VC_project\\Shared\\training_inputs\\chessred2k_YOLO\\train\\images\\G061_IMG017.jpg: 31 duplicate labels removed\n",
      "\u001b[34m\u001b[1mtrain: \u001b[0mC:\\Users\\Cristiano\\Desktop\\Faculdade\\2 semestre\\VC\\project\\VC_project\\Shared\\training_inputs\\chessred2k_YOLO\\train\\images\\G061_IMG018.jpg: 30 duplicate labels removed\n",
      "\u001b[34m\u001b[1mtrain: \u001b[0mC:\\Users\\Cristiano\\Desktop\\Faculdade\\2 semestre\\VC\\project\\VC_project\\Shared\\training_inputs\\chessred2k_YOLO\\train\\images\\G061_IMG019.jpg: 30 duplicate labels removed\n",
      "\u001b[34m\u001b[1mtrain: \u001b[0mC:\\Users\\Cristiano\\Desktop\\Faculdade\\2 semestre\\VC\\project\\VC_project\\Shared\\training_inputs\\chessred2k_YOLO\\train\\images\\G061_IMG020.jpg: 30 duplicate labels removed\n",
      "\u001b[34m\u001b[1mtrain: \u001b[0mC:\\Users\\Cristiano\\Desktop\\Faculdade\\2 semestre\\VC\\project\\VC_project\\Shared\\training_inputs\\chessred2k_YOLO\\train\\images\\G061_IMG021.jpg: 30 duplicate labels removed\n",
      "\u001b[34m\u001b[1mtrain: \u001b[0mC:\\Users\\Cristiano\\Desktop\\Faculdade\\2 semestre\\VC\\project\\VC_project\\Shared\\training_inputs\\chessred2k_YOLO\\train\\images\\G061_IMG022.jpg: 30 duplicate labels removed\n",
      "\u001b[34m\u001b[1mtrain: \u001b[0mC:\\Users\\Cristiano\\Desktop\\Faculdade\\2 semestre\\VC\\project\\VC_project\\Shared\\training_inputs\\chessred2k_YOLO\\train\\images\\G061_IMG023.jpg: 30 duplicate labels removed\n",
      "\u001b[34m\u001b[1mtrain: \u001b[0mC:\\Users\\Cristiano\\Desktop\\Faculdade\\2 semestre\\VC\\project\\VC_project\\Shared\\training_inputs\\chessred2k_YOLO\\train\\images\\G061_IMG024.jpg: 29 duplicate labels removed\n",
      "\u001b[34m\u001b[1mtrain: \u001b[0mC:\\Users\\Cristiano\\Desktop\\Faculdade\\2 semestre\\VC\\project\\VC_project\\Shared\\training_inputs\\chessred2k_YOLO\\train\\images\\G061_IMG025.jpg: 28 duplicate labels removed\n",
      "\u001b[34m\u001b[1mtrain: \u001b[0mC:\\Users\\Cristiano\\Desktop\\Faculdade\\2 semestre\\VC\\project\\VC_project\\Shared\\training_inputs\\chessred2k_YOLO\\train\\images\\G061_IMG026.jpg: 28 duplicate labels removed\n",
      "\u001b[34m\u001b[1mtrain: \u001b[0mC:\\Users\\Cristiano\\Desktop\\Faculdade\\2 semestre\\VC\\project\\VC_project\\Shared\\training_inputs\\chessred2k_YOLO\\train\\images\\G061_IMG027.jpg: 28 duplicate labels removed\n",
      "\u001b[34m\u001b[1mtrain: \u001b[0mC:\\Users\\Cristiano\\Desktop\\Faculdade\\2 semestre\\VC\\project\\VC_project\\Shared\\training_inputs\\chessred2k_YOLO\\train\\images\\G061_IMG028.jpg: 27 duplicate labels removed\n",
      "\u001b[34m\u001b[1mtrain: \u001b[0mC:\\Users\\Cristiano\\Desktop\\Faculdade\\2 semestre\\VC\\project\\VC_project\\Shared\\training_inputs\\chessred2k_YOLO\\train\\images\\G061_IMG029.jpg: 26 duplicate labels removed\n",
      "\u001b[34m\u001b[1mtrain: \u001b[0mC:\\Users\\Cristiano\\Desktop\\Faculdade\\2 semestre\\VC\\project\\VC_project\\Shared\\training_inputs\\chessred2k_YOLO\\train\\images\\G061_IMG030.jpg: 26 duplicate labels removed\n",
      "\u001b[34m\u001b[1mtrain: \u001b[0mC:\\Users\\Cristiano\\Desktop\\Faculdade\\2 semestre\\VC\\project\\VC_project\\Shared\\training_inputs\\chessred2k_YOLO\\train\\images\\G061_IMG031.jpg: 26 duplicate labels removed\n",
      "\u001b[34m\u001b[1mtrain: \u001b[0mC:\\Users\\Cristiano\\Desktop\\Faculdade\\2 semestre\\VC\\project\\VC_project\\Shared\\training_inputs\\chessred2k_YOLO\\train\\images\\G061_IMG032.jpg: 26 duplicate labels removed\n",
      "\u001b[34m\u001b[1mtrain: \u001b[0mC:\\Users\\Cristiano\\Desktop\\Faculdade\\2 semestre\\VC\\project\\VC_project\\Shared\\training_inputs\\chessred2k_YOLO\\train\\images\\G061_IMG033.jpg: 26 duplicate labels removed\n",
      "\u001b[34m\u001b[1mtrain: \u001b[0mC:\\Users\\Cristiano\\Desktop\\Faculdade\\2 semestre\\VC\\project\\VC_project\\Shared\\training_inputs\\chessred2k_YOLO\\train\\images\\G061_IMG034.jpg: 26 duplicate labels removed\n",
      "\u001b[34m\u001b[1mtrain: \u001b[0mC:\\Users\\Cristiano\\Desktop\\Faculdade\\2 semestre\\VC\\project\\VC_project\\Shared\\training_inputs\\chessred2k_YOLO\\train\\images\\G061_IMG035.jpg: 26 duplicate labels removed\n",
      "\u001b[34m\u001b[1mtrain: \u001b[0mC:\\Users\\Cristiano\\Desktop\\Faculdade\\2 semestre\\VC\\project\\VC_project\\Shared\\training_inputs\\chessred2k_YOLO\\train\\images\\G061_IMG036.jpg: 26 duplicate labels removed\n",
      "\u001b[34m\u001b[1mtrain: \u001b[0mC:\\Users\\Cristiano\\Desktop\\Faculdade\\2 semestre\\VC\\project\\VC_project\\Shared\\training_inputs\\chessred2k_YOLO\\train\\images\\G061_IMG037.jpg: 25 duplicate labels removed\n",
      "\u001b[34m\u001b[1mtrain: \u001b[0mC:\\Users\\Cristiano\\Desktop\\Faculdade\\2 semestre\\VC\\project\\VC_project\\Shared\\training_inputs\\chessred2k_YOLO\\train\\images\\G061_IMG038.jpg: 24 duplicate labels removed\n",
      "\u001b[34m\u001b[1mtrain: \u001b[0mC:\\Users\\Cristiano\\Desktop\\Faculdade\\2 semestre\\VC\\project\\VC_project\\Shared\\training_inputs\\chessred2k_YOLO\\train\\images\\G061_IMG039.jpg: 24 duplicate labels removed\n",
      "\u001b[34m\u001b[1mtrain: \u001b[0mC:\\Users\\Cristiano\\Desktop\\Faculdade\\2 semestre\\VC\\project\\VC_project\\Shared\\training_inputs\\chessred2k_YOLO\\train\\images\\G061_IMG040.jpg: 24 duplicate labels removed\n",
      "\u001b[34m\u001b[1mtrain: \u001b[0mC:\\Users\\Cristiano\\Desktop\\Faculdade\\2 semestre\\VC\\project\\VC_project\\Shared\\training_inputs\\chessred2k_YOLO\\train\\images\\G061_IMG041.jpg: 24 duplicate labels removed\n",
      "\u001b[34m\u001b[1mtrain: \u001b[0mC:\\Users\\Cristiano\\Desktop\\Faculdade\\2 semestre\\VC\\project\\VC_project\\Shared\\training_inputs\\chessred2k_YOLO\\train\\images\\G061_IMG042.jpg: 24 duplicate labels removed\n",
      "\u001b[34m\u001b[1mtrain: \u001b[0mC:\\Users\\Cristiano\\Desktop\\Faculdade\\2 semestre\\VC\\project\\VC_project\\Shared\\training_inputs\\chessred2k_YOLO\\train\\images\\G061_IMG043.jpg: 23 duplicate labels removed\n",
      "\u001b[34m\u001b[1mtrain: \u001b[0mC:\\Users\\Cristiano\\Desktop\\Faculdade\\2 semestre\\VC\\project\\VC_project\\Shared\\training_inputs\\chessred2k_YOLO\\train\\images\\G061_IMG044.jpg: 22 duplicate labels removed\n",
      "\u001b[34m\u001b[1mtrain: \u001b[0mC:\\Users\\Cristiano\\Desktop\\Faculdade\\2 semestre\\VC\\project\\VC_project\\Shared\\training_inputs\\chessred2k_YOLO\\train\\images\\G061_IMG045.jpg: 22 duplicate labels removed\n",
      "\u001b[34m\u001b[1mtrain: \u001b[0mC:\\Users\\Cristiano\\Desktop\\Faculdade\\2 semestre\\VC\\project\\VC_project\\Shared\\training_inputs\\chessred2k_YOLO\\train\\images\\G061_IMG046.jpg: 22 duplicate labels removed\n",
      "\u001b[34m\u001b[1mtrain: \u001b[0mC:\\Users\\Cristiano\\Desktop\\Faculdade\\2 semestre\\VC\\project\\VC_project\\Shared\\training_inputs\\chessred2k_YOLO\\train\\images\\G061_IMG047.jpg: 21 duplicate labels removed\n",
      "\u001b[34m\u001b[1mtrain: \u001b[0mC:\\Users\\Cristiano\\Desktop\\Faculdade\\2 semestre\\VC\\project\\VC_project\\Shared\\training_inputs\\chessred2k_YOLO\\train\\images\\G061_IMG048.jpg: 20 duplicate labels removed\n",
      "\u001b[34m\u001b[1mtrain: \u001b[0mC:\\Users\\Cristiano\\Desktop\\Faculdade\\2 semestre\\VC\\project\\VC_project\\Shared\\training_inputs\\chessred2k_YOLO\\train\\images\\G061_IMG049.jpg: 20 duplicate labels removed\n",
      "\u001b[34m\u001b[1mtrain: \u001b[0mC:\\Users\\Cristiano\\Desktop\\Faculdade\\2 semestre\\VC\\project\\VC_project\\Shared\\training_inputs\\chessred2k_YOLO\\train\\images\\G061_IMG050.jpg: 20 duplicate labels removed\n",
      "\u001b[34m\u001b[1mtrain: \u001b[0mC:\\Users\\Cristiano\\Desktop\\Faculdade\\2 semestre\\VC\\project\\VC_project\\Shared\\training_inputs\\chessred2k_YOLO\\train\\images\\G061_IMG051.jpg: 20 duplicate labels removed\n",
      "\u001b[34m\u001b[1mtrain: \u001b[0mC:\\Users\\Cristiano\\Desktop\\Faculdade\\2 semestre\\VC\\project\\VC_project\\Shared\\training_inputs\\chessred2k_YOLO\\train\\images\\G061_IMG052.jpg: 20 duplicate labels removed\n",
      "\u001b[34m\u001b[1mtrain: \u001b[0mC:\\Users\\Cristiano\\Desktop\\Faculdade\\2 semestre\\VC\\project\\VC_project\\Shared\\training_inputs\\chessred2k_YOLO\\train\\images\\G061_IMG053.jpg: 20 duplicate labels removed\n",
      "\u001b[34m\u001b[1mtrain: \u001b[0mC:\\Users\\Cristiano\\Desktop\\Faculdade\\2 semestre\\VC\\project\\VC_project\\Shared\\training_inputs\\chessred2k_YOLO\\train\\images\\G061_IMG054.jpg: 19 duplicate labels removed\n",
      "\u001b[34m\u001b[1mtrain: \u001b[0mC:\\Users\\Cristiano\\Desktop\\Faculdade\\2 semestre\\VC\\project\\VC_project\\Shared\\training_inputs\\chessred2k_YOLO\\train\\images\\G061_IMG055.jpg: 18 duplicate labels removed\n",
      "\u001b[34m\u001b[1mtrain: \u001b[0mC:\\Users\\Cristiano\\Desktop\\Faculdade\\2 semestre\\VC\\project\\VC_project\\Shared\\training_inputs\\chessred2k_YOLO\\train\\images\\G061_IMG056.jpg: 17 duplicate labels removed\n",
      "\u001b[34m\u001b[1mtrain: \u001b[0mC:\\Users\\Cristiano\\Desktop\\Faculdade\\2 semestre\\VC\\project\\VC_project\\Shared\\training_inputs\\chessred2k_YOLO\\train\\images\\G061_IMG057.jpg: 17 duplicate labels removed\n",
      "\u001b[34m\u001b[1mtrain: \u001b[0mC:\\Users\\Cristiano\\Desktop\\Faculdade\\2 semestre\\VC\\project\\VC_project\\Shared\\training_inputs\\chessred2k_YOLO\\train\\images\\G061_IMG058.jpg: 17 duplicate labels removed\n",
      "\u001b[34m\u001b[1mtrain: \u001b[0mC:\\Users\\Cristiano\\Desktop\\Faculdade\\2 semestre\\VC\\project\\VC_project\\Shared\\training_inputs\\chessred2k_YOLO\\train\\images\\G061_IMG059.jpg: 17 duplicate labels removed\n",
      "\u001b[34m\u001b[1mtrain: \u001b[0mC:\\Users\\Cristiano\\Desktop\\Faculdade\\2 semestre\\VC\\project\\VC_project\\Shared\\training_inputs\\chessred2k_YOLO\\train\\images\\G061_IMG060.jpg: 17 duplicate labels removed\n",
      "\u001b[34m\u001b[1mtrain: \u001b[0mC:\\Users\\Cristiano\\Desktop\\Faculdade\\2 semestre\\VC\\project\\VC_project\\Shared\\training_inputs\\chessred2k_YOLO\\train\\images\\G061_IMG061.jpg: 17 duplicate labels removed\n",
      "\u001b[34m\u001b[1mtrain: \u001b[0mC:\\Users\\Cristiano\\Desktop\\Faculdade\\2 semestre\\VC\\project\\VC_project\\Shared\\training_inputs\\chessred2k_YOLO\\train\\images\\G061_IMG062.jpg: 17 duplicate labels removed\n",
      "\u001b[34m\u001b[1mtrain: \u001b[0mC:\\Users\\Cristiano\\Desktop\\Faculdade\\2 semestre\\VC\\project\\VC_project\\Shared\\training_inputs\\chessred2k_YOLO\\train\\images\\G061_IMG063.jpg: 17 duplicate labels removed\n",
      "\u001b[34m\u001b[1mtrain: \u001b[0mC:\\Users\\Cristiano\\Desktop\\Faculdade\\2 semestre\\VC\\project\\VC_project\\Shared\\training_inputs\\chessred2k_YOLO\\train\\images\\G061_IMG064.jpg: 17 duplicate labels removed\n",
      "\u001b[34m\u001b[1mtrain: \u001b[0mC:\\Users\\Cristiano\\Desktop\\Faculdade\\2 semestre\\VC\\project\\VC_project\\Shared\\training_inputs\\chessred2k_YOLO\\train\\images\\G061_IMG065.jpg: 17 duplicate labels removed\n",
      "\u001b[34m\u001b[1mtrain: \u001b[0mC:\\Users\\Cristiano\\Desktop\\Faculdade\\2 semestre\\VC\\project\\VC_project\\Shared\\training_inputs\\chessred2k_YOLO\\train\\images\\G061_IMG066.jpg: 17 duplicate labels removed\n",
      "\u001b[34m\u001b[1mtrain: \u001b[0mC:\\Users\\Cristiano\\Desktop\\Faculdade\\2 semestre\\VC\\project\\VC_project\\Shared\\training_inputs\\chessred2k_YOLO\\train\\images\\G061_IMG067.jpg: 17 duplicate labels removed\n",
      "\u001b[34m\u001b[1mtrain: \u001b[0mC:\\Users\\Cristiano\\Desktop\\Faculdade\\2 semestre\\VC\\project\\VC_project\\Shared\\training_inputs\\chessred2k_YOLO\\train\\images\\G061_IMG068.jpg: 17 duplicate labels removed\n",
      "\u001b[34m\u001b[1mtrain: \u001b[0mC:\\Users\\Cristiano\\Desktop\\Faculdade\\2 semestre\\VC\\project\\VC_project\\Shared\\training_inputs\\chessred2k_YOLO\\train\\images\\G061_IMG069.jpg: 17 duplicate labels removed\n",
      "\u001b[34m\u001b[1mtrain: \u001b[0mC:\\Users\\Cristiano\\Desktop\\Faculdade\\2 semestre\\VC\\project\\VC_project\\Shared\\training_inputs\\chessred2k_YOLO\\train\\images\\G061_IMG070.jpg: 17 duplicate labels removed\n",
      "\u001b[34m\u001b[1mtrain: \u001b[0mC:\\Users\\Cristiano\\Desktop\\Faculdade\\2 semestre\\VC\\project\\VC_project\\Shared\\training_inputs\\chessred2k_YOLO\\train\\images\\G061_IMG071.jpg: 17 duplicate labels removed\n",
      "\u001b[34m\u001b[1mtrain: \u001b[0mC:\\Users\\Cristiano\\Desktop\\Faculdade\\2 semestre\\VC\\project\\VC_project\\Shared\\training_inputs\\chessred2k_YOLO\\train\\images\\G061_IMG072.jpg: 17 duplicate labels removed\n",
      "\u001b[34m\u001b[1mtrain: \u001b[0mC:\\Users\\Cristiano\\Desktop\\Faculdade\\2 semestre\\VC\\project\\VC_project\\Shared\\training_inputs\\chessred2k_YOLO\\train\\images\\G061_IMG073.jpg: 16 duplicate labels removed\n",
      "\u001b[34m\u001b[1mtrain: \u001b[0mC:\\Users\\Cristiano\\Desktop\\Faculdade\\2 semestre\\VC\\project\\VC_project\\Shared\\training_inputs\\chessred2k_YOLO\\train\\images\\G061_IMG074.jpg: 15 duplicate labels removed\n",
      "\u001b[34m\u001b[1mtrain: \u001b[0mC:\\Users\\Cristiano\\Desktop\\Faculdade\\2 semestre\\VC\\project\\VC_project\\Shared\\training_inputs\\chessred2k_YOLO\\train\\images\\G061_IMG075.jpg: 15 duplicate labels removed\n",
      "\u001b[34m\u001b[1mtrain: \u001b[0mC:\\Users\\Cristiano\\Desktop\\Faculdade\\2 semestre\\VC\\project\\VC_project\\Shared\\training_inputs\\chessred2k_YOLO\\train\\images\\G061_IMG076.jpg: 15 duplicate labels removed\n",
      "\u001b[34m\u001b[1mtrain: \u001b[0mC:\\Users\\Cristiano\\Desktop\\Faculdade\\2 semestre\\VC\\project\\VC_project\\Shared\\training_inputs\\chessred2k_YOLO\\train\\images\\G061_IMG077.jpg: 15 duplicate labels removed\n",
      "\u001b[34m\u001b[1mtrain: \u001b[0mC:\\Users\\Cristiano\\Desktop\\Faculdade\\2 semestre\\VC\\project\\VC_project\\Shared\\training_inputs\\chessred2k_YOLO\\train\\images\\G061_IMG078.jpg: 15 duplicate labels removed\n",
      "\u001b[34m\u001b[1mtrain: \u001b[0mC:\\Users\\Cristiano\\Desktop\\Faculdade\\2 semestre\\VC\\project\\VC_project\\Shared\\training_inputs\\chessred2k_YOLO\\train\\images\\G061_IMG079.jpg: 15 duplicate labels removed\n",
      "\u001b[34m\u001b[1mtrain: \u001b[0mC:\\Users\\Cristiano\\Desktop\\Faculdade\\2 semestre\\VC\\project\\VC_project\\Shared\\training_inputs\\chessred2k_YOLO\\train\\images\\G061_IMG080.jpg: 15 duplicate labels removed\n",
      "\u001b[34m\u001b[1mtrain: \u001b[0mC:\\Users\\Cristiano\\Desktop\\Faculdade\\2 semestre\\VC\\project\\VC_project\\Shared\\training_inputs\\chessred2k_YOLO\\train\\images\\G061_IMG081.jpg: 15 duplicate labels removed\n",
      "\u001b[34m\u001b[1mtrain: \u001b[0mC:\\Users\\Cristiano\\Desktop\\Faculdade\\2 semestre\\VC\\project\\VC_project\\Shared\\training_inputs\\chessred2k_YOLO\\train\\images\\G061_IMG082.jpg: 15 duplicate labels removed\n",
      "\u001b[34m\u001b[1mtrain: \u001b[0mC:\\Users\\Cristiano\\Desktop\\Faculdade\\2 semestre\\VC\\project\\VC_project\\Shared\\training_inputs\\chessred2k_YOLO\\train\\images\\G061_IMG083.jpg: 15 duplicate labels removed\n",
      "\u001b[34m\u001b[1mtrain: \u001b[0mC:\\Users\\Cristiano\\Desktop\\Faculdade\\2 semestre\\VC\\project\\VC_project\\Shared\\training_inputs\\chessred2k_YOLO\\train\\images\\G061_IMG084.jpg: 15 duplicate labels removed\n",
      "\u001b[34m\u001b[1mtrain: \u001b[0mC:\\Users\\Cristiano\\Desktop\\Faculdade\\2 semestre\\VC\\project\\VC_project\\Shared\\training_inputs\\chessred2k_YOLO\\train\\images\\G061_IMG085.jpg: 14 duplicate labels removed\n",
      "\u001b[34m\u001b[1mtrain: \u001b[0mC:\\Users\\Cristiano\\Desktop\\Faculdade\\2 semestre\\VC\\project\\VC_project\\Shared\\training_inputs\\chessred2k_YOLO\\train\\images\\G061_IMG086.jpg: 13 duplicate labels removed\n",
      "\u001b[34m\u001b[1mtrain: \u001b[0mC:\\Users\\Cristiano\\Desktop\\Faculdade\\2 semestre\\VC\\project\\VC_project\\Shared\\training_inputs\\chessred2k_YOLO\\train\\images\\G061_IMG087.jpg: 13 duplicate labels removed\n",
      "\u001b[34m\u001b[1mtrain: \u001b[0mC:\\Users\\Cristiano\\Desktop\\Faculdade\\2 semestre\\VC\\project\\VC_project\\Shared\\training_inputs\\chessred2k_YOLO\\train\\images\\G061_IMG088.jpg: 13 duplicate labels removed\n",
      "\u001b[34m\u001b[1mtrain: \u001b[0mC:\\Users\\Cristiano\\Desktop\\Faculdade\\2 semestre\\VC\\project\\VC_project\\Shared\\training_inputs\\chessred2k_YOLO\\train\\images\\G061_IMG089.jpg: 13 duplicate labels removed\n",
      "\u001b[34m\u001b[1mtrain: \u001b[0mC:\\Users\\Cristiano\\Desktop\\Faculdade\\2 semestre\\VC\\project\\VC_project\\Shared\\training_inputs\\chessred2k_YOLO\\train\\images\\G061_IMG090.jpg: 13 duplicate labels removed\n",
      "\u001b[34m\u001b[1mtrain: \u001b[0mC:\\Users\\Cristiano\\Desktop\\Faculdade\\2 semestre\\VC\\project\\VC_project\\Shared\\training_inputs\\chessred2k_YOLO\\train\\images\\G061_IMG091.jpg: 13 duplicate labels removed\n",
      "\u001b[34m\u001b[1mtrain: \u001b[0mC:\\Users\\Cristiano\\Desktop\\Faculdade\\2 semestre\\VC\\project\\VC_project\\Shared\\training_inputs\\chessred2k_YOLO\\train\\images\\G061_IMG092.jpg: 13 duplicate labels removed\n",
      "\u001b[34m\u001b[1mtrain: \u001b[0mC:\\Users\\Cristiano\\Desktop\\Faculdade\\2 semestre\\VC\\project\\VC_project\\Shared\\training_inputs\\chessred2k_YOLO\\train\\images\\G061_IMG093.jpg: 13 duplicate labels removed\n",
      "\u001b[34m\u001b[1mtrain: \u001b[0mC:\\Users\\Cristiano\\Desktop\\Faculdade\\2 semestre\\VC\\project\\VC_project\\Shared\\training_inputs\\chessred2k_YOLO\\train\\images\\G061_IMG094.jpg: 13 duplicate labels removed\n",
      "\u001b[34m\u001b[1mtrain: \u001b[0mC:\\Users\\Cristiano\\Desktop\\Faculdade\\2 semestre\\VC\\project\\VC_project\\Shared\\training_inputs\\chessred2k_YOLO\\train\\images\\G061_IMG095.jpg: 13 duplicate labels removed\n",
      "\u001b[34m\u001b[1mtrain: \u001b[0mC:\\Users\\Cristiano\\Desktop\\Faculdade\\2 semestre\\VC\\project\\VC_project\\Shared\\training_inputs\\chessred2k_YOLO\\train\\images\\G061_IMG096.jpg: 13 duplicate labels removed\n",
      "\u001b[34m\u001b[1mtrain: \u001b[0mC:\\Users\\Cristiano\\Desktop\\Faculdade\\2 semestre\\VC\\project\\VC_project\\Shared\\training_inputs\\chessred2k_YOLO\\train\\images\\G061_IMG097.jpg: 13 duplicate labels removed\n",
      "\u001b[34m\u001b[1mtrain: \u001b[0mC:\\Users\\Cristiano\\Desktop\\Faculdade\\2 semestre\\VC\\project\\VC_project\\Shared\\training_inputs\\chessred2k_YOLO\\train\\images\\G061_IMG098.jpg: 13 duplicate labels removed\n",
      "\u001b[34m\u001b[1mtrain: \u001b[0mC:\\Users\\Cristiano\\Desktop\\Faculdade\\2 semestre\\VC\\project\\VC_project\\Shared\\training_inputs\\chessred2k_YOLO\\train\\images\\G061_IMG099.jpg: 13 duplicate labels removed\n",
      "\u001b[34m\u001b[1mtrain: \u001b[0mC:\\Users\\Cristiano\\Desktop\\Faculdade\\2 semestre\\VC\\project\\VC_project\\Shared\\training_inputs\\chessred2k_YOLO\\train\\images\\G061_IMG100.jpg: 13 duplicate labels removed\n",
      "\u001b[34m\u001b[1mtrain: \u001b[0mC:\\Users\\Cristiano\\Desktop\\Faculdade\\2 semestre\\VC\\project\\VC_project\\Shared\\training_inputs\\chessred2k_YOLO\\train\\images\\G061_IMG101.jpg: 13 duplicate labels removed\n",
      "\u001b[34m\u001b[1mtrain: \u001b[0mC:\\Users\\Cristiano\\Desktop\\Faculdade\\2 semestre\\VC\\project\\VC_project\\Shared\\training_inputs\\chessred2k_YOLO\\train\\images\\G061_IMG102.jpg: 13 duplicate labels removed\n",
      "\u001b[34m\u001b[1mtrain: \u001b[0mC:\\Users\\Cristiano\\Desktop\\Faculdade\\2 semestre\\VC\\project\\VC_project\\Shared\\training_inputs\\chessred2k_YOLO\\train\\images\\G072_IMG000.jpg: 32 duplicate labels removed\n",
      "\u001b[34m\u001b[1mtrain: \u001b[0mC:\\Users\\Cristiano\\Desktop\\Faculdade\\2 semestre\\VC\\project\\VC_project\\Shared\\training_inputs\\chessred2k_YOLO\\train\\images\\G072_IMG001.jpg: 32 duplicate labels removed\n",
      "\u001b[34m\u001b[1mtrain: \u001b[0mC:\\Users\\Cristiano\\Desktop\\Faculdade\\2 semestre\\VC\\project\\VC_project\\Shared\\training_inputs\\chessred2k_YOLO\\train\\images\\G072_IMG002.jpg: 32 duplicate labels removed\n",
      "\u001b[34m\u001b[1mtrain: \u001b[0mC:\\Users\\Cristiano\\Desktop\\Faculdade\\2 semestre\\VC\\project\\VC_project\\Shared\\training_inputs\\chessred2k_YOLO\\train\\images\\G072_IMG003.jpg: 32 duplicate labels removed\n",
      "\u001b[34m\u001b[1mtrain: \u001b[0mC:\\Users\\Cristiano\\Desktop\\Faculdade\\2 semestre\\VC\\project\\VC_project\\Shared\\training_inputs\\chessred2k_YOLO\\train\\images\\G072_IMG004.jpg: 32 duplicate labels removed\n",
      "\u001b[34m\u001b[1mtrain: \u001b[0mC:\\Users\\Cristiano\\Desktop\\Faculdade\\2 semestre\\VC\\project\\VC_project\\Shared\\training_inputs\\chessred2k_YOLO\\train\\images\\G072_IMG005.jpg: 32 duplicate labels removed\n",
      "\u001b[34m\u001b[1mtrain: \u001b[0mC:\\Users\\Cristiano\\Desktop\\Faculdade\\2 semestre\\VC\\project\\VC_project\\Shared\\training_inputs\\chessred2k_YOLO\\train\\images\\G072_IMG006.jpg: 32 duplicate labels removed\n",
      "\u001b[34m\u001b[1mtrain: \u001b[0mC:\\Users\\Cristiano\\Desktop\\Faculdade\\2 semestre\\VC\\project\\VC_project\\Shared\\training_inputs\\chessred2k_YOLO\\train\\images\\G072_IMG007.jpg: 32 duplicate labels removed\n",
      "\u001b[34m\u001b[1mtrain: \u001b[0mC:\\Users\\Cristiano\\Desktop\\Faculdade\\2 semestre\\VC\\project\\VC_project\\Shared\\training_inputs\\chessred2k_YOLO\\train\\images\\G072_IMG008.jpg: 32 duplicate labels removed\n",
      "\u001b[34m\u001b[1mtrain: \u001b[0mC:\\Users\\Cristiano\\Desktop\\Faculdade\\2 semestre\\VC\\project\\VC_project\\Shared\\training_inputs\\chessred2k_YOLO\\train\\images\\G072_IMG009.jpg: 31 duplicate labels removed\n",
      "\u001b[34m\u001b[1mtrain: \u001b[0mC:\\Users\\Cristiano\\Desktop\\Faculdade\\2 semestre\\VC\\project\\VC_project\\Shared\\training_inputs\\chessred2k_YOLO\\train\\images\\G072_IMG010.jpg: 30 duplicate labels removed\n",
      "\u001b[34m\u001b[1mtrain: \u001b[0mC:\\Users\\Cristiano\\Desktop\\Faculdade\\2 semestre\\VC\\project\\VC_project\\Shared\\training_inputs\\chessred2k_YOLO\\train\\images\\G072_IMG011.jpg: 30 duplicate labels removed\n",
      "\u001b[34m\u001b[1mtrain: \u001b[0mC:\\Users\\Cristiano\\Desktop\\Faculdade\\2 semestre\\VC\\project\\VC_project\\Shared\\training_inputs\\chessred2k_YOLO\\train\\images\\G072_IMG012.jpg: 30 duplicate labels removed\n",
      "\u001b[34m\u001b[1mtrain: \u001b[0mC:\\Users\\Cristiano\\Desktop\\Faculdade\\2 semestre\\VC\\project\\VC_project\\Shared\\training_inputs\\chessred2k_YOLO\\train\\images\\G072_IMG013.jpg: 30 duplicate labels removed\n",
      "\u001b[34m\u001b[1mtrain: \u001b[0mC:\\Users\\Cristiano\\Desktop\\Faculdade\\2 semestre\\VC\\project\\VC_project\\Shared\\training_inputs\\chessred2k_YOLO\\train\\images\\G072_IMG014.jpg: 30 duplicate labels removed\n",
      "\u001b[34m\u001b[1mtrain: \u001b[0mC:\\Users\\Cristiano\\Desktop\\Faculdade\\2 semestre\\VC\\project\\VC_project\\Shared\\training_inputs\\chessred2k_YOLO\\train\\images\\G072_IMG015.jpg: 30 duplicate labels removed\n",
      "\u001b[34m\u001b[1mtrain: \u001b[0mC:\\Users\\Cristiano\\Desktop\\Faculdade\\2 semestre\\VC\\project\\VC_project\\Shared\\training_inputs\\chessred2k_YOLO\\train\\images\\G072_IMG016.jpg: 30 duplicate labels removed\n",
      "\u001b[34m\u001b[1mtrain: \u001b[0mC:\\Users\\Cristiano\\Desktop\\Faculdade\\2 semestre\\VC\\project\\VC_project\\Shared\\training_inputs\\chessred2k_YOLO\\train\\images\\G072_IMG017.jpg: 30 duplicate labels removed\n",
      "\u001b[34m\u001b[1mtrain: \u001b[0mC:\\Users\\Cristiano\\Desktop\\Faculdade\\2 semestre\\VC\\project\\VC_project\\Shared\\training_inputs\\chessred2k_YOLO\\train\\images\\G072_IMG018.jpg: 30 duplicate labels removed\n",
      "\u001b[34m\u001b[1mtrain: \u001b[0mC:\\Users\\Cristiano\\Desktop\\Faculdade\\2 semestre\\VC\\project\\VC_project\\Shared\\training_inputs\\chessred2k_YOLO\\train\\images\\G072_IMG019.jpg: 30 duplicate labels removed\n",
      "\u001b[34m\u001b[1mtrain: \u001b[0mC:\\Users\\Cristiano\\Desktop\\Faculdade\\2 semestre\\VC\\project\\VC_project\\Shared\\training_inputs\\chessred2k_YOLO\\train\\images\\G072_IMG020.jpg: 30 duplicate labels removed\n",
      "\u001b[34m\u001b[1mtrain: \u001b[0mC:\\Users\\Cristiano\\Desktop\\Faculdade\\2 semestre\\VC\\project\\VC_project\\Shared\\training_inputs\\chessred2k_YOLO\\train\\images\\G072_IMG021.jpg: 30 duplicate labels removed\n",
      "\u001b[34m\u001b[1mtrain: \u001b[0mC:\\Users\\Cristiano\\Desktop\\Faculdade\\2 semestre\\VC\\project\\VC_project\\Shared\\training_inputs\\chessred2k_YOLO\\train\\images\\G072_IMG022.jpg: 29 duplicate labels removed\n",
      "\u001b[34m\u001b[1mtrain: \u001b[0mC:\\Users\\Cristiano\\Desktop\\Faculdade\\2 semestre\\VC\\project\\VC_project\\Shared\\training_inputs\\chessred2k_YOLO\\train\\images\\G072_IMG023.jpg: 28 duplicate labels removed\n",
      "\u001b[34m\u001b[1mtrain: \u001b[0mC:\\Users\\Cristiano\\Desktop\\Faculdade\\2 semestre\\VC\\project\\VC_project\\Shared\\training_inputs\\chessred2k_YOLO\\train\\images\\G072_IMG024.jpg: 28 duplicate labels removed\n",
      "\u001b[34m\u001b[1mtrain: \u001b[0mC:\\Users\\Cristiano\\Desktop\\Faculdade\\2 semestre\\VC\\project\\VC_project\\Shared\\training_inputs\\chessred2k_YOLO\\train\\images\\G072_IMG025.jpg: 28 duplicate labels removed\n",
      "\u001b[34m\u001b[1mtrain: \u001b[0mC:\\Users\\Cristiano\\Desktop\\Faculdade\\2 semestre\\VC\\project\\VC_project\\Shared\\training_inputs\\chessred2k_YOLO\\train\\images\\G072_IMG026.jpg: 27 duplicate labels removed\n",
      "\u001b[34m\u001b[1mtrain: \u001b[0mC:\\Users\\Cristiano\\Desktop\\Faculdade\\2 semestre\\VC\\project\\VC_project\\Shared\\training_inputs\\chessred2k_YOLO\\train\\images\\G072_IMG027.jpg: 26 duplicate labels removed\n",
      "\u001b[34m\u001b[1mtrain: \u001b[0mC:\\Users\\Cristiano\\Desktop\\Faculdade\\2 semestre\\VC\\project\\VC_project\\Shared\\training_inputs\\chessred2k_YOLO\\train\\images\\G072_IMG028.jpg: 25 duplicate labels removed\n",
      "\u001b[34m\u001b[1mtrain: \u001b[0mC:\\Users\\Cristiano\\Desktop\\Faculdade\\2 semestre\\VC\\project\\VC_project\\Shared\\training_inputs\\chessred2k_YOLO\\train\\images\\G072_IMG029.jpg: 24 duplicate labels removed\n",
      "\u001b[34m\u001b[1mtrain: \u001b[0mC:\\Users\\Cristiano\\Desktop\\Faculdade\\2 semestre\\VC\\project\\VC_project\\Shared\\training_inputs\\chessred2k_YOLO\\train\\images\\G072_IMG030.jpg: 23 duplicate labels removed\n",
      "\u001b[34m\u001b[1mtrain: \u001b[0mC:\\Users\\Cristiano\\Desktop\\Faculdade\\2 semestre\\VC\\project\\VC_project\\Shared\\training_inputs\\chessred2k_YOLO\\train\\images\\G072_IMG031.jpg: 23 duplicate labels removed\n",
      "\u001b[34m\u001b[1mtrain: \u001b[0mC:\\Users\\Cristiano\\Desktop\\Faculdade\\2 semestre\\VC\\project\\VC_project\\Shared\\training_inputs\\chessred2k_YOLO\\train\\images\\G072_IMG032.jpg: 23 duplicate labels removed\n",
      "\u001b[34m\u001b[1mtrain: \u001b[0mC:\\Users\\Cristiano\\Desktop\\Faculdade\\2 semestre\\VC\\project\\VC_project\\Shared\\training_inputs\\chessred2k_YOLO\\train\\images\\G072_IMG033.jpg: 22 duplicate labels removed\n",
      "\u001b[34m\u001b[1mtrain: \u001b[0mC:\\Users\\Cristiano\\Desktop\\Faculdade\\2 semestre\\VC\\project\\VC_project\\Shared\\training_inputs\\chessred2k_YOLO\\train\\images\\G072_IMG034.jpg: 22 duplicate labels removed\n",
      "\u001b[34m\u001b[1mtrain: \u001b[0mC:\\Users\\Cristiano\\Desktop\\Faculdade\\2 semestre\\VC\\project\\VC_project\\Shared\\training_inputs\\chessred2k_YOLO\\train\\images\\G072_IMG035.jpg: 22 duplicate labels removed\n",
      "\u001b[34m\u001b[1mtrain: \u001b[0mC:\\Users\\Cristiano\\Desktop\\Faculdade\\2 semestre\\VC\\project\\VC_project\\Shared\\training_inputs\\chessred2k_YOLO\\train\\images\\G072_IMG036.jpg: 22 duplicate labels removed\n",
      "\u001b[34m\u001b[1mtrain: \u001b[0mC:\\Users\\Cristiano\\Desktop\\Faculdade\\2 semestre\\VC\\project\\VC_project\\Shared\\training_inputs\\chessred2k_YOLO\\train\\images\\G072_IMG037.jpg: 22 duplicate labels removed\n",
      "\u001b[34m\u001b[1mtrain: \u001b[0mC:\\Users\\Cristiano\\Desktop\\Faculdade\\2 semestre\\VC\\project\\VC_project\\Shared\\training_inputs\\chessred2k_YOLO\\train\\images\\G072_IMG038.jpg: 22 duplicate labels removed\n",
      "\u001b[34m\u001b[1mtrain: \u001b[0mC:\\Users\\Cristiano\\Desktop\\Faculdade\\2 semestre\\VC\\project\\VC_project\\Shared\\training_inputs\\chessred2k_YOLO\\train\\images\\G072_IMG039.jpg: 22 duplicate labels removed\n",
      "\u001b[34m\u001b[1mtrain: \u001b[0mC:\\Users\\Cristiano\\Desktop\\Faculdade\\2 semestre\\VC\\project\\VC_project\\Shared\\training_inputs\\chessred2k_YOLO\\train\\images\\G072_IMG040.jpg: 21 duplicate labels removed\n",
      "\u001b[34m\u001b[1mtrain: \u001b[0mC:\\Users\\Cristiano\\Desktop\\Faculdade\\2 semestre\\VC\\project\\VC_project\\Shared\\training_inputs\\chessred2k_YOLO\\train\\images\\G072_IMG041.jpg: 21 duplicate labels removed\n",
      "\u001b[34m\u001b[1mtrain: \u001b[0mC:\\Users\\Cristiano\\Desktop\\Faculdade\\2 semestre\\VC\\project\\VC_project\\Shared\\training_inputs\\chessred2k_YOLO\\train\\images\\G072_IMG042.jpg: 21 duplicate labels removed\n",
      "\u001b[34m\u001b[1mtrain: \u001b[0mC:\\Users\\Cristiano\\Desktop\\Faculdade\\2 semestre\\VC\\project\\VC_project\\Shared\\training_inputs\\chessred2k_YOLO\\train\\images\\G072_IMG043.jpg: 21 duplicate labels removed\n",
      "\u001b[34m\u001b[1mtrain: \u001b[0mC:\\Users\\Cristiano\\Desktop\\Faculdade\\2 semestre\\VC\\project\\VC_project\\Shared\\training_inputs\\chessred2k_YOLO\\train\\images\\G072_IMG044.jpg: 21 duplicate labels removed\n",
      "\u001b[34m\u001b[1mtrain: \u001b[0mC:\\Users\\Cristiano\\Desktop\\Faculdade\\2 semestre\\VC\\project\\VC_project\\Shared\\training_inputs\\chessred2k_YOLO\\train\\images\\G072_IMG045.jpg: 20 duplicate labels removed\n",
      "\u001b[34m\u001b[1mtrain: \u001b[0mC:\\Users\\Cristiano\\Desktop\\Faculdade\\2 semestre\\VC\\project\\VC_project\\Shared\\training_inputs\\chessred2k_YOLO\\train\\images\\G072_IMG046.jpg: 19 duplicate labels removed\n",
      "\u001b[34m\u001b[1mtrain: \u001b[0mC:\\Users\\Cristiano\\Desktop\\Faculdade\\2 semestre\\VC\\project\\VC_project\\Shared\\training_inputs\\chessred2k_YOLO\\train\\images\\G072_IMG047.jpg: 18 duplicate labels removed\n",
      "\u001b[34m\u001b[1mtrain: \u001b[0mC:\\Users\\Cristiano\\Desktop\\Faculdade\\2 semestre\\VC\\project\\VC_project\\Shared\\training_inputs\\chessred2k_YOLO\\train\\images\\G072_IMG048.jpg: 17 duplicate labels removed\n",
      "\u001b[34m\u001b[1mtrain: \u001b[0mC:\\Users\\Cristiano\\Desktop\\Faculdade\\2 semestre\\VC\\project\\VC_project\\Shared\\training_inputs\\chessred2k_YOLO\\train\\images\\G072_IMG049.jpg: 16 duplicate labels removed\n",
      "\u001b[34m\u001b[1mtrain: \u001b[0mC:\\Users\\Cristiano\\Desktop\\Faculdade\\2 semestre\\VC\\project\\VC_project\\Shared\\training_inputs\\chessred2k_YOLO\\train\\images\\G072_IMG050.jpg: 16 duplicate labels removed\n",
      "\u001b[34m\u001b[1mtrain: \u001b[0mC:\\Users\\Cristiano\\Desktop\\Faculdade\\2 semestre\\VC\\project\\VC_project\\Shared\\training_inputs\\chessred2k_YOLO\\train\\images\\G072_IMG051.jpg: 15 duplicate labels removed\n",
      "\u001b[34m\u001b[1mtrain: \u001b[0mC:\\Users\\Cristiano\\Desktop\\Faculdade\\2 semestre\\VC\\project\\VC_project\\Shared\\training_inputs\\chessred2k_YOLO\\train\\images\\G072_IMG052.jpg: 14 duplicate labels removed\n",
      "\u001b[34m\u001b[1mtrain: \u001b[0mC:\\Users\\Cristiano\\Desktop\\Faculdade\\2 semestre\\VC\\project\\VC_project\\Shared\\training_inputs\\chessred2k_YOLO\\train\\images\\G072_IMG053.jpg: 14 duplicate labels removed\n",
      "\u001b[34m\u001b[1mtrain: \u001b[0mC:\\Users\\Cristiano\\Desktop\\Faculdade\\2 semestre\\VC\\project\\VC_project\\Shared\\training_inputs\\chessred2k_YOLO\\train\\images\\G072_IMG054.jpg: 14 duplicate labels removed\n",
      "\u001b[34m\u001b[1mtrain: \u001b[0mC:\\Users\\Cristiano\\Desktop\\Faculdade\\2 semestre\\VC\\project\\VC_project\\Shared\\training_inputs\\chessred2k_YOLO\\train\\images\\G072_IMG055.jpg: 14 duplicate labels removed\n",
      "\u001b[34m\u001b[1mtrain: \u001b[0mC:\\Users\\Cristiano\\Desktop\\Faculdade\\2 semestre\\VC\\project\\VC_project\\Shared\\training_inputs\\chessred2k_YOLO\\train\\images\\G072_IMG056.jpg: 14 duplicate labels removed\n",
      "\u001b[34m\u001b[1mtrain: \u001b[0mC:\\Users\\Cristiano\\Desktop\\Faculdade\\2 semestre\\VC\\project\\VC_project\\Shared\\training_inputs\\chessred2k_YOLO\\train\\images\\G072_IMG057.jpg: 14 duplicate labels removed\n",
      "\u001b[34m\u001b[1mtrain: \u001b[0mC:\\Users\\Cristiano\\Desktop\\Faculdade\\2 semestre\\VC\\project\\VC_project\\Shared\\training_inputs\\chessred2k_YOLO\\train\\images\\G072_IMG058.jpg: 14 duplicate labels removed\n",
      "\u001b[34m\u001b[1mtrain: \u001b[0mC:\\Users\\Cristiano\\Desktop\\Faculdade\\2 semestre\\VC\\project\\VC_project\\Shared\\training_inputs\\chessred2k_YOLO\\train\\images\\G072_IMG059.jpg: 14 duplicate labels removed\n",
      "\u001b[34m\u001b[1mtrain: \u001b[0mC:\\Users\\Cristiano\\Desktop\\Faculdade\\2 semestre\\VC\\project\\VC_project\\Shared\\training_inputs\\chessred2k_YOLO\\train\\images\\G072_IMG060.jpg: 14 duplicate labels removed\n",
      "\u001b[34m\u001b[1mtrain: \u001b[0mC:\\Users\\Cristiano\\Desktop\\Faculdade\\2 semestre\\VC\\project\\VC_project\\Shared\\training_inputs\\chessred2k_YOLO\\train\\images\\G072_IMG061.jpg: 14 duplicate labels removed\n",
      "\u001b[34m\u001b[1mtrain: \u001b[0mC:\\Users\\Cristiano\\Desktop\\Faculdade\\2 semestre\\VC\\project\\VC_project\\Shared\\training_inputs\\chessred2k_YOLO\\train\\images\\G072_IMG062.jpg: 14 duplicate labels removed\n",
      "\u001b[34m\u001b[1mtrain: \u001b[0mC:\\Users\\Cristiano\\Desktop\\Faculdade\\2 semestre\\VC\\project\\VC_project\\Shared\\training_inputs\\chessred2k_YOLO\\train\\images\\G072_IMG063.jpg: 14 duplicate labels removed\n",
      "\u001b[34m\u001b[1mtrain: \u001b[0mC:\\Users\\Cristiano\\Desktop\\Faculdade\\2 semestre\\VC\\project\\VC_project\\Shared\\training_inputs\\chessred2k_YOLO\\train\\images\\G072_IMG064.jpg: 14 duplicate labels removed\n",
      "\u001b[34m\u001b[1mtrain: \u001b[0mC:\\Users\\Cristiano\\Desktop\\Faculdade\\2 semestre\\VC\\project\\VC_project\\Shared\\training_inputs\\chessred2k_YOLO\\train\\images\\G072_IMG065.jpg: 14 duplicate labels removed\n",
      "\u001b[34m\u001b[1mtrain: \u001b[0mC:\\Users\\Cristiano\\Desktop\\Faculdade\\2 semestre\\VC\\project\\VC_project\\Shared\\training_inputs\\chessred2k_YOLO\\train\\images\\G072_IMG066.jpg: 14 duplicate labels removed\n",
      "\u001b[34m\u001b[1mtrain: \u001b[0mC:\\Users\\Cristiano\\Desktop\\Faculdade\\2 semestre\\VC\\project\\VC_project\\Shared\\training_inputs\\chessred2k_YOLO\\train\\images\\G072_IMG067.jpg: 14 duplicate labels removed\n",
      "\u001b[34m\u001b[1mtrain: \u001b[0mC:\\Users\\Cristiano\\Desktop\\Faculdade\\2 semestre\\VC\\project\\VC_project\\Shared\\training_inputs\\chessred2k_YOLO\\train\\images\\G072_IMG068.jpg: 14 duplicate labels removed\n",
      "\u001b[34m\u001b[1mtrain: \u001b[0mC:\\Users\\Cristiano\\Desktop\\Faculdade\\2 semestre\\VC\\project\\VC_project\\Shared\\training_inputs\\chessred2k_YOLO\\train\\images\\G072_IMG069.jpg: 14 duplicate labels removed\n",
      "\u001b[34m\u001b[1mtrain: \u001b[0mC:\\Users\\Cristiano\\Desktop\\Faculdade\\2 semestre\\VC\\project\\VC_project\\Shared\\training_inputs\\chessred2k_YOLO\\train\\images\\G072_IMG070.jpg: 14 duplicate labels removed\n",
      "\u001b[34m\u001b[1mtrain: \u001b[0mC:\\Users\\Cristiano\\Desktop\\Faculdade\\2 semestre\\VC\\project\\VC_project\\Shared\\training_inputs\\chessred2k_YOLO\\train\\images\\G072_IMG071.jpg: 14 duplicate labels removed\n",
      "\u001b[34m\u001b[1mtrain: \u001b[0mC:\\Users\\Cristiano\\Desktop\\Faculdade\\2 semestre\\VC\\project\\VC_project\\Shared\\training_inputs\\chessred2k_YOLO\\train\\images\\G072_IMG072.jpg: 14 duplicate labels removed\n",
      "\u001b[34m\u001b[1mtrain: \u001b[0mC:\\Users\\Cristiano\\Desktop\\Faculdade\\2 semestre\\VC\\project\\VC_project\\Shared\\training_inputs\\chessred2k_YOLO\\train\\images\\G072_IMG073.jpg: 14 duplicate labels removed\n",
      "\u001b[34m\u001b[1mtrain: \u001b[0mC:\\Users\\Cristiano\\Desktop\\Faculdade\\2 semestre\\VC\\project\\VC_project\\Shared\\training_inputs\\chessred2k_YOLO\\train\\images\\G072_IMG074.jpg: 14 duplicate labels removed\n",
      "\u001b[34m\u001b[1mtrain: \u001b[0mC:\\Users\\Cristiano\\Desktop\\Faculdade\\2 semestre\\VC\\project\\VC_project\\Shared\\training_inputs\\chessred2k_YOLO\\train\\images\\G072_IMG075.jpg: 14 duplicate labels removed\n",
      "\u001b[34m\u001b[1mtrain: \u001b[0mC:\\Users\\Cristiano\\Desktop\\Faculdade\\2 semestre\\VC\\project\\VC_project\\Shared\\training_inputs\\chessred2k_YOLO\\train\\images\\G072_IMG076.jpg: 13 duplicate labels removed\n",
      "\u001b[34m\u001b[1mtrain: \u001b[0mC:\\Users\\Cristiano\\Desktop\\Faculdade\\2 semestre\\VC\\project\\VC_project\\Shared\\training_inputs\\chessred2k_YOLO\\train\\images\\G072_IMG077.jpg: 13 duplicate labels removed\n",
      "\u001b[34m\u001b[1mtrain: \u001b[0mC:\\Users\\Cristiano\\Desktop\\Faculdade\\2 semestre\\VC\\project\\VC_project\\Shared\\training_inputs\\chessred2k_YOLO\\train\\images\\G072_IMG078.jpg: 13 duplicate labels removed\n",
      "\u001b[34m\u001b[1mtrain: \u001b[0mC:\\Users\\Cristiano\\Desktop\\Faculdade\\2 semestre\\VC\\project\\VC_project\\Shared\\training_inputs\\chessred2k_YOLO\\train\\images\\G072_IMG079.jpg: 13 duplicate labels removed\n",
      "\u001b[34m\u001b[1mtrain: \u001b[0mC:\\Users\\Cristiano\\Desktop\\Faculdade\\2 semestre\\VC\\project\\VC_project\\Shared\\training_inputs\\chessred2k_YOLO\\train\\images\\G072_IMG080.jpg: 13 duplicate labels removed\n",
      "\u001b[34m\u001b[1mtrain: \u001b[0mC:\\Users\\Cristiano\\Desktop\\Faculdade\\2 semestre\\VC\\project\\VC_project\\Shared\\training_inputs\\chessred2k_YOLO\\train\\images\\G072_IMG081.jpg: 13 duplicate labels removed\n",
      "\u001b[34m\u001b[1mtrain: \u001b[0mC:\\Users\\Cristiano\\Desktop\\Faculdade\\2 semestre\\VC\\project\\VC_project\\Shared\\training_inputs\\chessred2k_YOLO\\train\\images\\G072_IMG082.jpg: 13 duplicate labels removed\n",
      "\u001b[34m\u001b[1mtrain: \u001b[0mC:\\Users\\Cristiano\\Desktop\\Faculdade\\2 semestre\\VC\\project\\VC_project\\Shared\\training_inputs\\chessred2k_YOLO\\train\\images\\G072_IMG083.jpg: 13 duplicate labels removed\n",
      "\u001b[34m\u001b[1mtrain: \u001b[0mC:\\Users\\Cristiano\\Desktop\\Faculdade\\2 semestre\\VC\\project\\VC_project\\Shared\\training_inputs\\chessred2k_YOLO\\train\\images\\G072_IMG084.jpg: 13 duplicate labels removed\n",
      "\u001b[34m\u001b[1mtrain: \u001b[0mC:\\Users\\Cristiano\\Desktop\\Faculdade\\2 semestre\\VC\\project\\VC_project\\Shared\\training_inputs\\chessred2k_YOLO\\train\\images\\G072_IMG085.jpg: 13 duplicate labels removed\n",
      "\u001b[34m\u001b[1mtrain: \u001b[0mC:\\Users\\Cristiano\\Desktop\\Faculdade\\2 semestre\\VC\\project\\VC_project\\Shared\\training_inputs\\chessred2k_YOLO\\train\\images\\G072_IMG086.jpg: 12 duplicate labels removed\n",
      "\u001b[34m\u001b[1mtrain: \u001b[0mC:\\Users\\Cristiano\\Desktop\\Faculdade\\2 semestre\\VC\\project\\VC_project\\Shared\\training_inputs\\chessred2k_YOLO\\train\\images\\G072_IMG087.jpg: 12 duplicate labels removed\n",
      "\u001b[34m\u001b[1mtrain: \u001b[0mC:\\Users\\Cristiano\\Desktop\\Faculdade\\2 semestre\\VC\\project\\VC_project\\Shared\\training_inputs\\chessred2k_YOLO\\train\\images\\G072_IMG088.jpg: 12 duplicate labels removed\n",
      "\u001b[34m\u001b[1mtrain: \u001b[0mC:\\Users\\Cristiano\\Desktop\\Faculdade\\2 semestre\\VC\\project\\VC_project\\Shared\\training_inputs\\chessred2k_YOLO\\train\\images\\G072_IMG089.jpg: 12 duplicate labels removed\n",
      "\u001b[34m\u001b[1mtrain: \u001b[0mC:\\Users\\Cristiano\\Desktop\\Faculdade\\2 semestre\\VC\\project\\VC_project\\Shared\\training_inputs\\chessred2k_YOLO\\train\\images\\G072_IMG090.jpg: 12 duplicate labels removed\n",
      "\u001b[34m\u001b[1mtrain: \u001b[0mC:\\Users\\Cristiano\\Desktop\\Faculdade\\2 semestre\\VC\\project\\VC_project\\Shared\\training_inputs\\chessred2k_YOLO\\train\\images\\G072_IMG091.jpg: 12 duplicate labels removed\n",
      "\u001b[34m\u001b[1mtrain: \u001b[0mC:\\Users\\Cristiano\\Desktop\\Faculdade\\2 semestre\\VC\\project\\VC_project\\Shared\\training_inputs\\chessred2k_YOLO\\train\\images\\G072_IMG092.jpg: 12 duplicate labels removed\n",
      "\u001b[34m\u001b[1mtrain: \u001b[0mC:\\Users\\Cristiano\\Desktop\\Faculdade\\2 semestre\\VC\\project\\VC_project\\Shared\\training_inputs\\chessred2k_YOLO\\train\\images\\G072_IMG093.jpg: 11 duplicate labels removed\n",
      "\u001b[34m\u001b[1mtrain: \u001b[0mC:\\Users\\Cristiano\\Desktop\\Faculdade\\2 semestre\\VC\\project\\VC_project\\Shared\\training_inputs\\chessred2k_YOLO\\train\\images\\G072_IMG094.jpg: 10 duplicate labels removed\n",
      "\u001b[34m\u001b[1mtrain: \u001b[0mC:\\Users\\Cristiano\\Desktop\\Faculdade\\2 semestre\\VC\\project\\VC_project\\Shared\\training_inputs\\chessred2k_YOLO\\train\\images\\G072_IMG095.jpg: 10 duplicate labels removed\n",
      "\u001b[34m\u001b[1mtrain: \u001b[0mC:\\Users\\Cristiano\\Desktop\\Faculdade\\2 semestre\\VC\\project\\VC_project\\Shared\\training_inputs\\chessred2k_YOLO\\train\\images\\G072_IMG096.jpg: 10 duplicate labels removed\n",
      "\u001b[34m\u001b[1mtrain: \u001b[0mC:\\Users\\Cristiano\\Desktop\\Faculdade\\2 semestre\\VC\\project\\VC_project\\Shared\\training_inputs\\chessred2k_YOLO\\train\\images\\G072_IMG097.jpg: 10 duplicate labels removed\n",
      "\u001b[34m\u001b[1mtrain: \u001b[0mC:\\Users\\Cristiano\\Desktop\\Faculdade\\2 semestre\\VC\\project\\VC_project\\Shared\\training_inputs\\chessred2k_YOLO\\train\\images\\G072_IMG098.jpg: 10 duplicate labels removed\n",
      "\u001b[34m\u001b[1mtrain: \u001b[0mC:\\Users\\Cristiano\\Desktop\\Faculdade\\2 semestre\\VC\\project\\VC_project\\Shared\\training_inputs\\chessred2k_YOLO\\train\\images\\G072_IMG099.jpg: 10 duplicate labels removed\n",
      "\u001b[34m\u001b[1mtrain: \u001b[0mC:\\Users\\Cristiano\\Desktop\\Faculdade\\2 semestre\\VC\\project\\VC_project\\Shared\\training_inputs\\chessred2k_YOLO\\train\\images\\G072_IMG100.jpg: 10 duplicate labels removed\n",
      "\u001b[34m\u001b[1mtrain: \u001b[0mC:\\Users\\Cristiano\\Desktop\\Faculdade\\2 semestre\\VC\\project\\VC_project\\Shared\\training_inputs\\chessred2k_YOLO\\train\\images\\G078_IMG000.jpg: 32 duplicate labels removed\n",
      "\u001b[34m\u001b[1mtrain: \u001b[0mC:\\Users\\Cristiano\\Desktop\\Faculdade\\2 semestre\\VC\\project\\VC_project\\Shared\\training_inputs\\chessred2k_YOLO\\train\\images\\G078_IMG001.jpg: 32 duplicate labels removed\n",
      "\u001b[34m\u001b[1mtrain: \u001b[0mC:\\Users\\Cristiano\\Desktop\\Faculdade\\2 semestre\\VC\\project\\VC_project\\Shared\\training_inputs\\chessred2k_YOLO\\train\\images\\G078_IMG002.jpg: 32 duplicate labels removed\n",
      "\u001b[34m\u001b[1mtrain: \u001b[0mC:\\Users\\Cristiano\\Desktop\\Faculdade\\2 semestre\\VC\\project\\VC_project\\Shared\\training_inputs\\chessred2k_YOLO\\train\\images\\G078_IMG003.jpg: 32 duplicate labels removed\n",
      "\u001b[34m\u001b[1mtrain: \u001b[0mC:\\Users\\Cristiano\\Desktop\\Faculdade\\2 semestre\\VC\\project\\VC_project\\Shared\\training_inputs\\chessred2k_YOLO\\train\\images\\G078_IMG004.jpg: 31 duplicate labels removed\n",
      "\u001b[34m\u001b[1mtrain: \u001b[0mC:\\Users\\Cristiano\\Desktop\\Faculdade\\2 semestre\\VC\\project\\VC_project\\Shared\\training_inputs\\chessred2k_YOLO\\train\\images\\G078_IMG005.jpg: 31 duplicate labels removed\n",
      "\u001b[34m\u001b[1mtrain: \u001b[0mC:\\Users\\Cristiano\\Desktop\\Faculdade\\2 semestre\\VC\\project\\VC_project\\Shared\\training_inputs\\chessred2k_YOLO\\train\\images\\G078_IMG006.jpg: 31 duplicate labels removed\n",
      "\u001b[34m\u001b[1mtrain: \u001b[0mC:\\Users\\Cristiano\\Desktop\\Faculdade\\2 semestre\\VC\\project\\VC_project\\Shared\\training_inputs\\chessred2k_YOLO\\train\\images\\G078_IMG007.jpg: 31 duplicate labels removed\n",
      "\u001b[34m\u001b[1mtrain: \u001b[0mC:\\Users\\Cristiano\\Desktop\\Faculdade\\2 semestre\\VC\\project\\VC_project\\Shared\\training_inputs\\chessred2k_YOLO\\train\\images\\G078_IMG008.jpg: 30 duplicate labels removed\n",
      "\u001b[34m\u001b[1mtrain: \u001b[0mC:\\Users\\Cristiano\\Desktop\\Faculdade\\2 semestre\\VC\\project\\VC_project\\Shared\\training_inputs\\chessred2k_YOLO\\train\\images\\G078_IMG009.jpg: 29 duplicate labels removed\n",
      "\u001b[34m\u001b[1mtrain: \u001b[0mC:\\Users\\Cristiano\\Desktop\\Faculdade\\2 semestre\\VC\\project\\VC_project\\Shared\\training_inputs\\chessred2k_YOLO\\train\\images\\G078_IMG010.jpg: 29 duplicate labels removed\n",
      "\u001b[34m\u001b[1mtrain: \u001b[0mC:\\Users\\Cristiano\\Desktop\\Faculdade\\2 semestre\\VC\\project\\VC_project\\Shared\\training_inputs\\chessred2k_YOLO\\train\\images\\G078_IMG011.jpg: 29 duplicate labels removed\n",
      "\u001b[34m\u001b[1mtrain: \u001b[0mC:\\Users\\Cristiano\\Desktop\\Faculdade\\2 semestre\\VC\\project\\VC_project\\Shared\\training_inputs\\chessred2k_YOLO\\train\\images\\G078_IMG012.jpg: 29 duplicate labels removed\n",
      "\u001b[34m\u001b[1mtrain: \u001b[0mC:\\Users\\Cristiano\\Desktop\\Faculdade\\2 semestre\\VC\\project\\VC_project\\Shared\\training_inputs\\chessred2k_YOLO\\train\\images\\G078_IMG013.jpg: 29 duplicate labels removed\n",
      "\u001b[34m\u001b[1mtrain: \u001b[0mC:\\Users\\Cristiano\\Desktop\\Faculdade\\2 semestre\\VC\\project\\VC_project\\Shared\\training_inputs\\chessred2k_YOLO\\train\\images\\G078_IMG014.jpg: 29 duplicate labels removed\n",
      "\u001b[34m\u001b[1mtrain: \u001b[0mC:\\Users\\Cristiano\\Desktop\\Faculdade\\2 semestre\\VC\\project\\VC_project\\Shared\\training_inputs\\chessred2k_YOLO\\train\\images\\G078_IMG015.jpg: 28 duplicate labels removed\n",
      "\u001b[34m\u001b[1mtrain: \u001b[0mC:\\Users\\Cristiano\\Desktop\\Faculdade\\2 semestre\\VC\\project\\VC_project\\Shared\\training_inputs\\chessred2k_YOLO\\train\\images\\G078_IMG016.jpg: 28 duplicate labels removed\n",
      "\u001b[34m\u001b[1mtrain: \u001b[0mC:\\Users\\Cristiano\\Desktop\\Faculdade\\2 semestre\\VC\\project\\VC_project\\Shared\\training_inputs\\chessred2k_YOLO\\train\\images\\G078_IMG017.jpg: 28 duplicate labels removed\n",
      "\u001b[34m\u001b[1mtrain: \u001b[0mC:\\Users\\Cristiano\\Desktop\\Faculdade\\2 semestre\\VC\\project\\VC_project\\Shared\\training_inputs\\chessred2k_YOLO\\train\\images\\G078_IMG018.jpg: 28 duplicate labels removed\n",
      "\u001b[34m\u001b[1mtrain: \u001b[0mC:\\Users\\Cristiano\\Desktop\\Faculdade\\2 semestre\\VC\\project\\VC_project\\Shared\\training_inputs\\chessred2k_YOLO\\train\\images\\G078_IMG019.jpg: 28 duplicate labels removed\n",
      "\u001b[34m\u001b[1mtrain: \u001b[0mC:\\Users\\Cristiano\\Desktop\\Faculdade\\2 semestre\\VC\\project\\VC_project\\Shared\\training_inputs\\chessred2k_YOLO\\train\\images\\G078_IMG020.jpg: 28 duplicate labels removed\n",
      "\u001b[34m\u001b[1mtrain: \u001b[0mC:\\Users\\Cristiano\\Desktop\\Faculdade\\2 semestre\\VC\\project\\VC_project\\Shared\\training_inputs\\chessred2k_YOLO\\train\\images\\G078_IMG021.jpg: 28 duplicate labels removed\n",
      "\u001b[34m\u001b[1mtrain: \u001b[0mC:\\Users\\Cristiano\\Desktop\\Faculdade\\2 semestre\\VC\\project\\VC_project\\Shared\\training_inputs\\chessred2k_YOLO\\train\\images\\G078_IMG022.jpg: 28 duplicate labels removed\n",
      "\u001b[34m\u001b[1mtrain: \u001b[0mC:\\Users\\Cristiano\\Desktop\\Faculdade\\2 semestre\\VC\\project\\VC_project\\Shared\\training_inputs\\chessred2k_YOLO\\train\\images\\G078_IMG023.jpg: 28 duplicate labels removed\n",
      "\u001b[34m\u001b[1mtrain: \u001b[0mC:\\Users\\Cristiano\\Desktop\\Faculdade\\2 semestre\\VC\\project\\VC_project\\Shared\\training_inputs\\chessred2k_YOLO\\train\\images\\G078_IMG024.jpg: 28 duplicate labels removed\n",
      "\u001b[34m\u001b[1mtrain: \u001b[0mC:\\Users\\Cristiano\\Desktop\\Faculdade\\2 semestre\\VC\\project\\VC_project\\Shared\\training_inputs\\chessred2k_YOLO\\train\\images\\G078_IMG025.jpg: 28 duplicate labels removed\n",
      "\u001b[34m\u001b[1mtrain: \u001b[0mC:\\Users\\Cristiano\\Desktop\\Faculdade\\2 semestre\\VC\\project\\VC_project\\Shared\\training_inputs\\chessred2k_YOLO\\train\\images\\G078_IMG026.jpg: 28 duplicate labels removed\n",
      "\u001b[34m\u001b[1mtrain: \u001b[0mC:\\Users\\Cristiano\\Desktop\\Faculdade\\2 semestre\\VC\\project\\VC_project\\Shared\\training_inputs\\chessred2k_YOLO\\train\\images\\G078_IMG027.jpg: 27 duplicate labels removed\n",
      "\u001b[34m\u001b[1mtrain: \u001b[0mC:\\Users\\Cristiano\\Desktop\\Faculdade\\2 semestre\\VC\\project\\VC_project\\Shared\\training_inputs\\chessred2k_YOLO\\train\\images\\G078_IMG028.jpg: 26 duplicate labels removed\n",
      "\u001b[34m\u001b[1mtrain: \u001b[0mC:\\Users\\Cristiano\\Desktop\\Faculdade\\2 semestre\\VC\\project\\VC_project\\Shared\\training_inputs\\chessred2k_YOLO\\train\\images\\G078_IMG029.jpg: 26 duplicate labels removed\n",
      "\u001b[34m\u001b[1mtrain: \u001b[0mC:\\Users\\Cristiano\\Desktop\\Faculdade\\2 semestre\\VC\\project\\VC_project\\Shared\\training_inputs\\chessred2k_YOLO\\train\\images\\G078_IMG030.jpg: 26 duplicate labels removed\n",
      "\u001b[34m\u001b[1mtrain: \u001b[0mC:\\Users\\Cristiano\\Desktop\\Faculdade\\2 semestre\\VC\\project\\VC_project\\Shared\\training_inputs\\chessred2k_YOLO\\train\\images\\G078_IMG031.jpg: 26 duplicate labels removed\n",
      "\u001b[34m\u001b[1mtrain: \u001b[0mC:\\Users\\Cristiano\\Desktop\\Faculdade\\2 semestre\\VC\\project\\VC_project\\Shared\\training_inputs\\chessred2k_YOLO\\train\\images\\G078_IMG032.jpg: 26 duplicate labels removed\n",
      "\u001b[34m\u001b[1mtrain: \u001b[0mC:\\Users\\Cristiano\\Desktop\\Faculdade\\2 semestre\\VC\\project\\VC_project\\Shared\\training_inputs\\chessred2k_YOLO\\train\\images\\G078_IMG033.jpg: 26 duplicate labels removed\n",
      "\u001b[34m\u001b[1mtrain: \u001b[0mC:\\Users\\Cristiano\\Desktop\\Faculdade\\2 semestre\\VC\\project\\VC_project\\Shared\\training_inputs\\chessred2k_YOLO\\train\\images\\G078_IMG034.jpg: 26 duplicate labels removed\n",
      "\u001b[34m\u001b[1mtrain: \u001b[0mC:\\Users\\Cristiano\\Desktop\\Faculdade\\2 semestre\\VC\\project\\VC_project\\Shared\\training_inputs\\chessred2k_YOLO\\train\\images\\G078_IMG035.jpg: 26 duplicate labels removed\n",
      "\u001b[34m\u001b[1mtrain: \u001b[0mC:\\Users\\Cristiano\\Desktop\\Faculdade\\2 semestre\\VC\\project\\VC_project\\Shared\\training_inputs\\chessred2k_YOLO\\train\\images\\G078_IMG036.jpg: 26 duplicate labels removed\n",
      "\u001b[34m\u001b[1mtrain: \u001b[0mC:\\Users\\Cristiano\\Desktop\\Faculdade\\2 semestre\\VC\\project\\VC_project\\Shared\\training_inputs\\chessred2k_YOLO\\train\\images\\G078_IMG037.jpg: 26 duplicate labels removed\n",
      "\u001b[34m\u001b[1mtrain: \u001b[0mC:\\Users\\Cristiano\\Desktop\\Faculdade\\2 semestre\\VC\\project\\VC_project\\Shared\\training_inputs\\chessred2k_YOLO\\train\\images\\G078_IMG038.jpg: 26 duplicate labels removed\n",
      "\u001b[34m\u001b[1mtrain: \u001b[0mC:\\Users\\Cristiano\\Desktop\\Faculdade\\2 semestre\\VC\\project\\VC_project\\Shared\\training_inputs\\chessred2k_YOLO\\train\\images\\G078_IMG039.jpg: 25 duplicate labels removed\n",
      "\u001b[34m\u001b[1mtrain: \u001b[0mC:\\Users\\Cristiano\\Desktop\\Faculdade\\2 semestre\\VC\\project\\VC_project\\Shared\\training_inputs\\chessred2k_YOLO\\train\\images\\G078_IMG040.jpg: 24 duplicate labels removed\n",
      "\u001b[34m\u001b[1mtrain: \u001b[0mC:\\Users\\Cristiano\\Desktop\\Faculdade\\2 semestre\\VC\\project\\VC_project\\Shared\\training_inputs\\chessred2k_YOLO\\train\\images\\G078_IMG041.jpg: 24 duplicate labels removed\n",
      "\u001b[34m\u001b[1mtrain: \u001b[0mC:\\Users\\Cristiano\\Desktop\\Faculdade\\2 semestre\\VC\\project\\VC_project\\Shared\\training_inputs\\chessred2k_YOLO\\train\\images\\G078_IMG042.jpg: 24 duplicate labels removed\n",
      "\u001b[34m\u001b[1mtrain: \u001b[0mC:\\Users\\Cristiano\\Desktop\\Faculdade\\2 semestre\\VC\\project\\VC_project\\Shared\\training_inputs\\chessred2k_YOLO\\train\\images\\G078_IMG043.jpg: 24 duplicate labels removed\n",
      "\u001b[34m\u001b[1mtrain: \u001b[0mC:\\Users\\Cristiano\\Desktop\\Faculdade\\2 semestre\\VC\\project\\VC_project\\Shared\\training_inputs\\chessred2k_YOLO\\train\\images\\G078_IMG044.jpg: 24 duplicate labels removed\n",
      "\u001b[34m\u001b[1mtrain: \u001b[0mC:\\Users\\Cristiano\\Desktop\\Faculdade\\2 semestre\\VC\\project\\VC_project\\Shared\\training_inputs\\chessred2k_YOLO\\train\\images\\G078_IMG045.jpg: 23 duplicate labels removed\n",
      "\u001b[34m\u001b[1mtrain: \u001b[0mC:\\Users\\Cristiano\\Desktop\\Faculdade\\2 semestre\\VC\\project\\VC_project\\Shared\\training_inputs\\chessred2k_YOLO\\train\\images\\G078_IMG046.jpg: 22 duplicate labels removed\n",
      "\u001b[34m\u001b[1mtrain: \u001b[0mC:\\Users\\Cristiano\\Desktop\\Faculdade\\2 semestre\\VC\\project\\VC_project\\Shared\\training_inputs\\chessred2k_YOLO\\train\\images\\G078_IMG047.jpg: 21 duplicate labels removed\n",
      "\u001b[34m\u001b[1mtrain: \u001b[0mC:\\Users\\Cristiano\\Desktop\\Faculdade\\2 semestre\\VC\\project\\VC_project\\Shared\\training_inputs\\chessred2k_YOLO\\train\\images\\G078_IMG048.jpg: 20 duplicate labels removed\n",
      "\u001b[34m\u001b[1mtrain: \u001b[0mC:\\Users\\Cristiano\\Desktop\\Faculdade\\2 semestre\\VC\\project\\VC_project\\Shared\\training_inputs\\chessred2k_YOLO\\train\\images\\G078_IMG049.jpg: 20 duplicate labels removed\n",
      "\u001b[34m\u001b[1mtrain: \u001b[0mC:\\Users\\Cristiano\\Desktop\\Faculdade\\2 semestre\\VC\\project\\VC_project\\Shared\\training_inputs\\chessred2k_YOLO\\train\\images\\G078_IMG050.jpg: 20 duplicate labels removed\n",
      "\u001b[34m\u001b[1mtrain: \u001b[0mC:\\Users\\Cristiano\\Desktop\\Faculdade\\2 semestre\\VC\\project\\VC_project\\Shared\\training_inputs\\chessred2k_YOLO\\train\\images\\G078_IMG051.jpg: 19 duplicate labels removed\n",
      "\u001b[34m\u001b[1mtrain: \u001b[0mC:\\Users\\Cristiano\\Desktop\\Faculdade\\2 semestre\\VC\\project\\VC_project\\Shared\\training_inputs\\chessred2k_YOLO\\train\\images\\G078_IMG052.jpg: 18 duplicate labels removed\n",
      "\u001b[34m\u001b[1mtrain: \u001b[0mC:\\Users\\Cristiano\\Desktop\\Faculdade\\2 semestre\\VC\\project\\VC_project\\Shared\\training_inputs\\chessred2k_YOLO\\train\\images\\G078_IMG053.jpg: 17 duplicate labels removed\n",
      "\u001b[34m\u001b[1mtrain: \u001b[0mC:\\Users\\Cristiano\\Desktop\\Faculdade\\2 semestre\\VC\\project\\VC_project\\Shared\\training_inputs\\chessred2k_YOLO\\train\\images\\G078_IMG054.jpg: 16 duplicate labels removed\n",
      "\u001b[34m\u001b[1mtrain: \u001b[0mC:\\Users\\Cristiano\\Desktop\\Faculdade\\2 semestre\\VC\\project\\VC_project\\Shared\\training_inputs\\chessred2k_YOLO\\train\\images\\G078_IMG055.jpg: 16 duplicate labels removed\n",
      "\u001b[34m\u001b[1mtrain: \u001b[0mC:\\Users\\Cristiano\\Desktop\\Faculdade\\2 semestre\\VC\\project\\VC_project\\Shared\\training_inputs\\chessred2k_YOLO\\train\\images\\G078_IMG056.jpg: 16 duplicate labels removed\n",
      "\u001b[34m\u001b[1mtrain: \u001b[0mC:\\Users\\Cristiano\\Desktop\\Faculdade\\2 semestre\\VC\\project\\VC_project\\Shared\\training_inputs\\chessred2k_YOLO\\train\\images\\G078_IMG057.jpg: 16 duplicate labels removed\n",
      "\u001b[34m\u001b[1mtrain: \u001b[0mC:\\Users\\Cristiano\\Desktop\\Faculdade\\2 semestre\\VC\\project\\VC_project\\Shared\\training_inputs\\chessred2k_YOLO\\train\\images\\G078_IMG058.jpg: 16 duplicate labels removed\n",
      "\u001b[34m\u001b[1mtrain: \u001b[0mC:\\Users\\Cristiano\\Desktop\\Faculdade\\2 semestre\\VC\\project\\VC_project\\Shared\\training_inputs\\chessred2k_YOLO\\train\\images\\G078_IMG059.jpg: 15 duplicate labels removed\n",
      "\u001b[34m\u001b[1mtrain: \u001b[0mC:\\Users\\Cristiano\\Desktop\\Faculdade\\2 semestre\\VC\\project\\VC_project\\Shared\\training_inputs\\chessred2k_YOLO\\train\\images\\G078_IMG060.jpg: 15 duplicate labels removed\n",
      "\u001b[34m\u001b[1mtrain: \u001b[0mC:\\Users\\Cristiano\\Desktop\\Faculdade\\2 semestre\\VC\\project\\VC_project\\Shared\\training_inputs\\chessred2k_YOLO\\train\\images\\G078_IMG061.jpg: 15 duplicate labels removed\n",
      "\u001b[34m\u001b[1mtrain: \u001b[0mC:\\Users\\Cristiano\\Desktop\\Faculdade\\2 semestre\\VC\\project\\VC_project\\Shared\\training_inputs\\chessred2k_YOLO\\train\\images\\G078_IMG062.jpg: 15 duplicate labels removed\n",
      "\u001b[34m\u001b[1mtrain: \u001b[0mC:\\Users\\Cristiano\\Desktop\\Faculdade\\2 semestre\\VC\\project\\VC_project\\Shared\\training_inputs\\chessred2k_YOLO\\train\\images\\G078_IMG063.jpg: 15 duplicate labels removed\n",
      "\u001b[34m\u001b[1mtrain: \u001b[0mC:\\Users\\Cristiano\\Desktop\\Faculdade\\2 semestre\\VC\\project\\VC_project\\Shared\\training_inputs\\chessred2k_YOLO\\train\\images\\G078_IMG064.jpg: 15 duplicate labels removed\n",
      "\u001b[34m\u001b[1mtrain: \u001b[0mC:\\Users\\Cristiano\\Desktop\\Faculdade\\2 semestre\\VC\\project\\VC_project\\Shared\\training_inputs\\chessred2k_YOLO\\train\\images\\G078_IMG065.jpg: 15 duplicate labels removed\n",
      "\u001b[34m\u001b[1mtrain: \u001b[0mC:\\Users\\Cristiano\\Desktop\\Faculdade\\2 semestre\\VC\\project\\VC_project\\Shared\\training_inputs\\chessred2k_YOLO\\train\\images\\G078_IMG066.jpg: 15 duplicate labels removed\n",
      "\u001b[34m\u001b[1mtrain: \u001b[0mC:\\Users\\Cristiano\\Desktop\\Faculdade\\2 semestre\\VC\\project\\VC_project\\Shared\\training_inputs\\chessred2k_YOLO\\train\\images\\G078_IMG067.jpg: 15 duplicate labels removed\n",
      "\u001b[34m\u001b[1mtrain: \u001b[0mC:\\Users\\Cristiano\\Desktop\\Faculdade\\2 semestre\\VC\\project\\VC_project\\Shared\\training_inputs\\chessred2k_YOLO\\train\\images\\G078_IMG068.jpg: 15 duplicate labels removed\n",
      "\u001b[34m\u001b[1mtrain: \u001b[0mC:\\Users\\Cristiano\\Desktop\\Faculdade\\2 semestre\\VC\\project\\VC_project\\Shared\\training_inputs\\chessred2k_YOLO\\train\\images\\G078_IMG069.jpg: 15 duplicate labels removed\n",
      "\u001b[34m\u001b[1mtrain: \u001b[0mC:\\Users\\Cristiano\\Desktop\\Faculdade\\2 semestre\\VC\\project\\VC_project\\Shared\\training_inputs\\chessred2k_YOLO\\train\\images\\G078_IMG070.jpg: 15 duplicate labels removed\n",
      "\u001b[34m\u001b[1mtrain: \u001b[0mC:\\Users\\Cristiano\\Desktop\\Faculdade\\2 semestre\\VC\\project\\VC_project\\Shared\\training_inputs\\chessred2k_YOLO\\train\\images\\G078_IMG071.jpg: 15 duplicate labels removed\n",
      "\u001b[34m\u001b[1mtrain: \u001b[0mC:\\Users\\Cristiano\\Desktop\\Faculdade\\2 semestre\\VC\\project\\VC_project\\Shared\\training_inputs\\chessred2k_YOLO\\train\\images\\G078_IMG072.jpg: 15 duplicate labels removed\n",
      "\u001b[34m\u001b[1mtrain: \u001b[0mC:\\Users\\Cristiano\\Desktop\\Faculdade\\2 semestre\\VC\\project\\VC_project\\Shared\\training_inputs\\chessred2k_YOLO\\train\\images\\G078_IMG073.jpg: 15 duplicate labels removed\n",
      "\u001b[34m\u001b[1mtrain: \u001b[0mC:\\Users\\Cristiano\\Desktop\\Faculdade\\2 semestre\\VC\\project\\VC_project\\Shared\\training_inputs\\chessred2k_YOLO\\train\\images\\G078_IMG074.jpg: 14 duplicate labels removed\n",
      "\u001b[34m\u001b[1mtrain: \u001b[0mC:\\Users\\Cristiano\\Desktop\\Faculdade\\2 semestre\\VC\\project\\VC_project\\Shared\\training_inputs\\chessred2k_YOLO\\train\\images\\G078_IMG075.jpg: 13 duplicate labels removed\n",
      "\u001b[34m\u001b[1mtrain: \u001b[0mC:\\Users\\Cristiano\\Desktop\\Faculdade\\2 semestre\\VC\\project\\VC_project\\Shared\\training_inputs\\chessred2k_YOLO\\train\\images\\G078_IMG076.jpg: 12 duplicate labels removed\n",
      "\u001b[34m\u001b[1mtrain: \u001b[0mC:\\Users\\Cristiano\\Desktop\\Faculdade\\2 semestre\\VC\\project\\VC_project\\Shared\\training_inputs\\chessred2k_YOLO\\train\\images\\G078_IMG077.jpg: 11 duplicate labels removed\n",
      "\u001b[34m\u001b[1mtrain: \u001b[0mC:\\Users\\Cristiano\\Desktop\\Faculdade\\2 semestre\\VC\\project\\VC_project\\Shared\\training_inputs\\chessred2k_YOLO\\train\\images\\G078_IMG078.jpg: 11 duplicate labels removed\n",
      "\u001b[34m\u001b[1mtrain: \u001b[0mC:\\Users\\Cristiano\\Desktop\\Faculdade\\2 semestre\\VC\\project\\VC_project\\Shared\\training_inputs\\chessred2k_YOLO\\train\\images\\G078_IMG079.jpg: 11 duplicate labels removed\n",
      "\u001b[34m\u001b[1mtrain: \u001b[0mC:\\Users\\Cristiano\\Desktop\\Faculdade\\2 semestre\\VC\\project\\VC_project\\Shared\\training_inputs\\chessred2k_YOLO\\train\\images\\G078_IMG080.jpg: 10 duplicate labels removed\n",
      "\u001b[34m\u001b[1mtrain: \u001b[0mC:\\Users\\Cristiano\\Desktop\\Faculdade\\2 semestre\\VC\\project\\VC_project\\Shared\\training_inputs\\chessred2k_YOLO\\train\\images\\G078_IMG081.jpg: 10 duplicate labels removed\n",
      "\u001b[34m\u001b[1mtrain: \u001b[0mC:\\Users\\Cristiano\\Desktop\\Faculdade\\2 semestre\\VC\\project\\VC_project\\Shared\\training_inputs\\chessred2k_YOLO\\train\\images\\G078_IMG082.jpg: 10 duplicate labels removed\n",
      "\u001b[34m\u001b[1mtrain: \u001b[0mC:\\Users\\Cristiano\\Desktop\\Faculdade\\2 semestre\\VC\\project\\VC_project\\Shared\\training_inputs\\chessred2k_YOLO\\train\\images\\G078_IMG083.jpg: 10 duplicate labels removed\n",
      "\u001b[34m\u001b[1mtrain: \u001b[0mC:\\Users\\Cristiano\\Desktop\\Faculdade\\2 semestre\\VC\\project\\VC_project\\Shared\\training_inputs\\chessred2k_YOLO\\train\\images\\G078_IMG084.jpg: 10 duplicate labels removed\n",
      "\u001b[34m\u001b[1mtrain: \u001b[0mC:\\Users\\Cristiano\\Desktop\\Faculdade\\2 semestre\\VC\\project\\VC_project\\Shared\\training_inputs\\chessred2k_YOLO\\train\\images\\G078_IMG085.jpg: 10 duplicate labels removed\n",
      "\u001b[34m\u001b[1mtrain: \u001b[0mC:\\Users\\Cristiano\\Desktop\\Faculdade\\2 semestre\\VC\\project\\VC_project\\Shared\\training_inputs\\chessred2k_YOLO\\train\\images\\G078_IMG086.jpg: 9 duplicate labels removed\n",
      "\u001b[34m\u001b[1mtrain: \u001b[0mC:\\Users\\Cristiano\\Desktop\\Faculdade\\2 semestre\\VC\\project\\VC_project\\Shared\\training_inputs\\chessred2k_YOLO\\train\\images\\G078_IMG087.jpg: 8 duplicate labels removed\n",
      "\u001b[34m\u001b[1mtrain: \u001b[0mC:\\Users\\Cristiano\\Desktop\\Faculdade\\2 semestre\\VC\\project\\VC_project\\Shared\\training_inputs\\chessred2k_YOLO\\train\\images\\G078_IMG088.jpg: 8 duplicate labels removed\n",
      "\u001b[34m\u001b[1mtrain: \u001b[0mC:\\Users\\Cristiano\\Desktop\\Faculdade\\2 semestre\\VC\\project\\VC_project\\Shared\\training_inputs\\chessred2k_YOLO\\train\\images\\G078_IMG089.jpg: 8 duplicate labels removed\n",
      "\u001b[34m\u001b[1mtrain: \u001b[0mC:\\Users\\Cristiano\\Desktop\\Faculdade\\2 semestre\\VC\\project\\VC_project\\Shared\\training_inputs\\chessred2k_YOLO\\train\\images\\G078_IMG090.jpg: 8 duplicate labels removed\n",
      "\u001b[34m\u001b[1mtrain: \u001b[0mC:\\Users\\Cristiano\\Desktop\\Faculdade\\2 semestre\\VC\\project\\VC_project\\Shared\\training_inputs\\chessred2k_YOLO\\train\\images\\G078_IMG091.jpg: 8 duplicate labels removed\n",
      "\u001b[34m\u001b[1mtrain: \u001b[0mC:\\Users\\Cristiano\\Desktop\\Faculdade\\2 semestre\\VC\\project\\VC_project\\Shared\\training_inputs\\chessred2k_YOLO\\train\\images\\G078_IMG092.jpg: 8 duplicate labels removed\n",
      "\u001b[34m\u001b[1mtrain: \u001b[0mC:\\Users\\Cristiano\\Desktop\\Faculdade\\2 semestre\\VC\\project\\VC_project\\Shared\\training_inputs\\chessred2k_YOLO\\train\\images\\G078_IMG093.jpg: 8 duplicate labels removed\n",
      "\u001b[34m\u001b[1mtrain: \u001b[0mC:\\Users\\Cristiano\\Desktop\\Faculdade\\2 semestre\\VC\\project\\VC_project\\Shared\\training_inputs\\chessred2k_YOLO\\train\\images\\G078_IMG094.jpg: 8 duplicate labels removed\n",
      "\u001b[34m\u001b[1mtrain: \u001b[0mC:\\Users\\Cristiano\\Desktop\\Faculdade\\2 semestre\\VC\\project\\VC_project\\Shared\\training_inputs\\chessred2k_YOLO\\train\\images\\G078_IMG095.jpg: 8 duplicate labels removed\n",
      "\u001b[34m\u001b[1mtrain: \u001b[0mC:\\Users\\Cristiano\\Desktop\\Faculdade\\2 semestre\\VC\\project\\VC_project\\Shared\\training_inputs\\chessred2k_YOLO\\train\\images\\G078_IMG096.jpg: 8 duplicate labels removed\n",
      "\u001b[34m\u001b[1mtrain: \u001b[0mC:\\Users\\Cristiano\\Desktop\\Faculdade\\2 semestre\\VC\\project\\VC_project\\Shared\\training_inputs\\chessred2k_YOLO\\train\\images\\G078_IMG097.jpg: 8 duplicate labels removed\n",
      "\u001b[34m\u001b[1mtrain: \u001b[0mC:\\Users\\Cristiano\\Desktop\\Faculdade\\2 semestre\\VC\\project\\VC_project\\Shared\\training_inputs\\chessred2k_YOLO\\train\\images\\G078_IMG098.jpg: 8 duplicate labels removed\n",
      "\u001b[34m\u001b[1mtrain: \u001b[0mC:\\Users\\Cristiano\\Desktop\\Faculdade\\2 semestre\\VC\\project\\VC_project\\Shared\\training_inputs\\chessred2k_YOLO\\train\\images\\G078_IMG099.jpg: 8 duplicate labels removed\n",
      "\u001b[34m\u001b[1mtrain: \u001b[0mC:\\Users\\Cristiano\\Desktop\\Faculdade\\2 semestre\\VC\\project\\VC_project\\Shared\\training_inputs\\chessred2k_YOLO\\train\\images\\G078_IMG100.jpg: 8 duplicate labels removed\n",
      "\u001b[34m\u001b[1mtrain: \u001b[0mC:\\Users\\Cristiano\\Desktop\\Faculdade\\2 semestre\\VC\\project\\VC_project\\Shared\\training_inputs\\chessred2k_YOLO\\train\\images\\G078_IMG101.jpg: 8 duplicate labels removed\n",
      "\u001b[34m\u001b[1mtrain: \u001b[0mC:\\Users\\Cristiano\\Desktop\\Faculdade\\2 semestre\\VC\\project\\VC_project\\Shared\\training_inputs\\chessred2k_YOLO\\train\\images\\G078_IMG102.jpg: 8 duplicate labels removed\n",
      "\u001b[34m\u001b[1mtrain: \u001b[0mC:\\Users\\Cristiano\\Desktop\\Faculdade\\2 semestre\\VC\\project\\VC_project\\Shared\\training_inputs\\chessred2k_YOLO\\train\\images\\G083_IMG000.jpg: 32 duplicate labels removed\n",
      "\u001b[34m\u001b[1mtrain: \u001b[0mC:\\Users\\Cristiano\\Desktop\\Faculdade\\2 semestre\\VC\\project\\VC_project\\Shared\\training_inputs\\chessred2k_YOLO\\train\\images\\G083_IMG001.jpg: 32 duplicate labels removed\n",
      "\u001b[34m\u001b[1mtrain: \u001b[0mC:\\Users\\Cristiano\\Desktop\\Faculdade\\2 semestre\\VC\\project\\VC_project\\Shared\\training_inputs\\chessred2k_YOLO\\train\\images\\G083_IMG002.jpg: 32 duplicate labels removed\n",
      "\u001b[34m\u001b[1mtrain: \u001b[0mC:\\Users\\Cristiano\\Desktop\\Faculdade\\2 semestre\\VC\\project\\VC_project\\Shared\\training_inputs\\chessred2k_YOLO\\train\\images\\G083_IMG003.jpg: 32 duplicate labels removed\n",
      "\u001b[34m\u001b[1mtrain: \u001b[0mC:\\Users\\Cristiano\\Desktop\\Faculdade\\2 semestre\\VC\\project\\VC_project\\Shared\\training_inputs\\chessred2k_YOLO\\train\\images\\G083_IMG004.jpg: 32 duplicate labels removed\n",
      "\u001b[34m\u001b[1mtrain: \u001b[0mC:\\Users\\Cristiano\\Desktop\\Faculdade\\2 semestre\\VC\\project\\VC_project\\Shared\\training_inputs\\chessred2k_YOLO\\train\\images\\G083_IMG005.jpg: 32 duplicate labels removed\n",
      "\u001b[34m\u001b[1mtrain: \u001b[0mC:\\Users\\Cristiano\\Desktop\\Faculdade\\2 semestre\\VC\\project\\VC_project\\Shared\\training_inputs\\chessred2k_YOLO\\train\\images\\G083_IMG006.jpg: 32 duplicate labels removed\n",
      "\u001b[34m\u001b[1mtrain: \u001b[0mC:\\Users\\Cristiano\\Desktop\\Faculdade\\2 semestre\\VC\\project\\VC_project\\Shared\\training_inputs\\chessred2k_YOLO\\train\\images\\G083_IMG007.jpg: 32 duplicate labels removed\n",
      "\u001b[34m\u001b[1mtrain: \u001b[0mC:\\Users\\Cristiano\\Desktop\\Faculdade\\2 semestre\\VC\\project\\VC_project\\Shared\\training_inputs\\chessred2k_YOLO\\train\\images\\G083_IMG008.jpg: 32 duplicate labels removed\n",
      "\u001b[34m\u001b[1mtrain: \u001b[0mC:\\Users\\Cristiano\\Desktop\\Faculdade\\2 semestre\\VC\\project\\VC_project\\Shared\\training_inputs\\chessred2k_YOLO\\train\\images\\G083_IMG009.jpg: 32 duplicate labels removed\n",
      "\u001b[34m\u001b[1mtrain: \u001b[0mC:\\Users\\Cristiano\\Desktop\\Faculdade\\2 semestre\\VC\\project\\VC_project\\Shared\\training_inputs\\chessred2k_YOLO\\train\\images\\G083_IMG010.jpg: 32 duplicate labels removed\n",
      "\u001b[34m\u001b[1mtrain: \u001b[0mC:\\Users\\Cristiano\\Desktop\\Faculdade\\2 semestre\\VC\\project\\VC_project\\Shared\\training_inputs\\chessred2k_YOLO\\train\\images\\G083_IMG011.jpg: 32 duplicate labels removed\n",
      "\u001b[34m\u001b[1mtrain: \u001b[0mC:\\Users\\Cristiano\\Desktop\\Faculdade\\2 semestre\\VC\\project\\VC_project\\Shared\\training_inputs\\chessred2k_YOLO\\train\\images\\G083_IMG012.jpg: 32 duplicate labels removed\n",
      "\u001b[34m\u001b[1mtrain: \u001b[0mC:\\Users\\Cristiano\\Desktop\\Faculdade\\2 semestre\\VC\\project\\VC_project\\Shared\\training_inputs\\chessred2k_YOLO\\train\\images\\G083_IMG013.jpg: 32 duplicate labels removed\n",
      "\u001b[34m\u001b[1mtrain: \u001b[0mC:\\Users\\Cristiano\\Desktop\\Faculdade\\2 semestre\\VC\\project\\VC_project\\Shared\\training_inputs\\chessred2k_YOLO\\train\\images\\G083_IMG014.jpg: 32 duplicate labels removed\n",
      "\u001b[34m\u001b[1mtrain: \u001b[0mC:\\Users\\Cristiano\\Desktop\\Faculdade\\2 semestre\\VC\\project\\VC_project\\Shared\\training_inputs\\chessred2k_YOLO\\train\\images\\G083_IMG015.jpg: 32 duplicate labels removed\n",
      "\u001b[34m\u001b[1mtrain: \u001b[0mC:\\Users\\Cristiano\\Desktop\\Faculdade\\2 semestre\\VC\\project\\VC_project\\Shared\\training_inputs\\chessred2k_YOLO\\train\\images\\G083_IMG016.jpg: 32 duplicate labels removed\n",
      "\u001b[34m\u001b[1mtrain: \u001b[0mC:\\Users\\Cristiano\\Desktop\\Faculdade\\2 semestre\\VC\\project\\VC_project\\Shared\\training_inputs\\chessred2k_YOLO\\train\\images\\G083_IMG017.jpg: 32 duplicate labels removed\n",
      "\u001b[34m\u001b[1mtrain: \u001b[0mC:\\Users\\Cristiano\\Desktop\\Faculdade\\2 semestre\\VC\\project\\VC_project\\Shared\\training_inputs\\chessred2k_YOLO\\train\\images\\G083_IMG018.jpg: 31 duplicate labels removed\n",
      "\u001b[34m\u001b[1mtrain: \u001b[0mC:\\Users\\Cristiano\\Desktop\\Faculdade\\2 semestre\\VC\\project\\VC_project\\Shared\\training_inputs\\chessred2k_YOLO\\train\\images\\G083_IMG019.jpg: 30 duplicate labels removed\n",
      "\u001b[34m\u001b[1mtrain: \u001b[0mC:\\Users\\Cristiano\\Desktop\\Faculdade\\2 semestre\\VC\\project\\VC_project\\Shared\\training_inputs\\chessred2k_YOLO\\train\\images\\G083_IMG020.jpg: 30 duplicate labels removed\n",
      "\u001b[34m\u001b[1mtrain: \u001b[0mC:\\Users\\Cristiano\\Desktop\\Faculdade\\2 semestre\\VC\\project\\VC_project\\Shared\\training_inputs\\chessred2k_YOLO\\train\\images\\G083_IMG021.jpg: 30 duplicate labels removed\n",
      "\u001b[34m\u001b[1mtrain: \u001b[0mC:\\Users\\Cristiano\\Desktop\\Faculdade\\2 semestre\\VC\\project\\VC_project\\Shared\\training_inputs\\chessred2k_YOLO\\train\\images\\G083_IMG022.jpg: 30 duplicate labels removed\n",
      "\u001b[34m\u001b[1mtrain: \u001b[0mC:\\Users\\Cristiano\\Desktop\\Faculdade\\2 semestre\\VC\\project\\VC_project\\Shared\\training_inputs\\chessred2k_YOLO\\train\\images\\G083_IMG023.jpg: 30 duplicate labels removed\n",
      "\u001b[34m\u001b[1mtrain: \u001b[0mC:\\Users\\Cristiano\\Desktop\\Faculdade\\2 semestre\\VC\\project\\VC_project\\Shared\\training_inputs\\chessred2k_YOLO\\train\\images\\G083_IMG024.jpg: 30 duplicate labels removed\n",
      "\u001b[34m\u001b[1mtrain: \u001b[0mC:\\Users\\Cristiano\\Desktop\\Faculdade\\2 semestre\\VC\\project\\VC_project\\Shared\\training_inputs\\chessred2k_YOLO\\train\\images\\G083_IMG025.jpg: 30 duplicate labels removed\n",
      "\u001b[34m\u001b[1mtrain: \u001b[0mC:\\Users\\Cristiano\\Desktop\\Faculdade\\2 semestre\\VC\\project\\VC_project\\Shared\\training_inputs\\chessred2k_YOLO\\train\\images\\G083_IMG026.jpg: 30 duplicate labels removed\n",
      "\u001b[34m\u001b[1mtrain: \u001b[0mC:\\Users\\Cristiano\\Desktop\\Faculdade\\2 semestre\\VC\\project\\VC_project\\Shared\\training_inputs\\chessred2k_YOLO\\train\\images\\G083_IMG027.jpg: 30 duplicate labels removed\n",
      "\u001b[34m\u001b[1mtrain: \u001b[0mC:\\Users\\Cristiano\\Desktop\\Faculdade\\2 semestre\\VC\\project\\VC_project\\Shared\\training_inputs\\chessred2k_YOLO\\train\\images\\G083_IMG028.jpg: 30 duplicate labels removed\n",
      "\u001b[34m\u001b[1mtrain: \u001b[0mC:\\Users\\Cristiano\\Desktop\\Faculdade\\2 semestre\\VC\\project\\VC_project\\Shared\\training_inputs\\chessred2k_YOLO\\train\\images\\G083_IMG029.jpg: 30 duplicate labels removed\n",
      "\u001b[34m\u001b[1mtrain: \u001b[0mC:\\Users\\Cristiano\\Desktop\\Faculdade\\2 semestre\\VC\\project\\VC_project\\Shared\\training_inputs\\chessred2k_YOLO\\train\\images\\G083_IMG030.jpg: 30 duplicate labels removed\n",
      "\u001b[34m\u001b[1mtrain: \u001b[0mC:\\Users\\Cristiano\\Desktop\\Faculdade\\2 semestre\\VC\\project\\VC_project\\Shared\\training_inputs\\chessred2k_YOLO\\train\\images\\G083_IMG031.jpg: 30 duplicate labels removed\n",
      "\u001b[34m\u001b[1mtrain: \u001b[0mC:\\Users\\Cristiano\\Desktop\\Faculdade\\2 semestre\\VC\\project\\VC_project\\Shared\\training_inputs\\chessred2k_YOLO\\train\\images\\G083_IMG032.jpg: 30 duplicate labels removed\n",
      "\u001b[34m\u001b[1mtrain: \u001b[0mC:\\Users\\Cristiano\\Desktop\\Faculdade\\2 semestre\\VC\\project\\VC_project\\Shared\\training_inputs\\chessred2k_YOLO\\train\\images\\G083_IMG033.jpg: 30 duplicate labels removed\n",
      "\u001b[34m\u001b[1mtrain: \u001b[0mC:\\Users\\Cristiano\\Desktop\\Faculdade\\2 semestre\\VC\\project\\VC_project\\Shared\\training_inputs\\chessred2k_YOLO\\train\\images\\G083_IMG034.jpg: 30 duplicate labels removed\n",
      "\u001b[34m\u001b[1mtrain: \u001b[0mC:\\Users\\Cristiano\\Desktop\\Faculdade\\2 semestre\\VC\\project\\VC_project\\Shared\\training_inputs\\chessred2k_YOLO\\train\\images\\G083_IMG035.jpg: 29 duplicate labels removed\n",
      "\u001b[34m\u001b[1mtrain: \u001b[0mC:\\Users\\Cristiano\\Desktop\\Faculdade\\2 semestre\\VC\\project\\VC_project\\Shared\\training_inputs\\chessred2k_YOLO\\train\\images\\G083_IMG036.jpg: 28 duplicate labels removed\n",
      "\u001b[34m\u001b[1mtrain: \u001b[0mC:\\Users\\Cristiano\\Desktop\\Faculdade\\2 semestre\\VC\\project\\VC_project\\Shared\\training_inputs\\chessred2k_YOLO\\train\\images\\G083_IMG037.jpg: 28 duplicate labels removed\n",
      "\u001b[34m\u001b[1mtrain: \u001b[0mC:\\Users\\Cristiano\\Desktop\\Faculdade\\2 semestre\\VC\\project\\VC_project\\Shared\\training_inputs\\chessred2k_YOLO\\train\\images\\G083_IMG038.jpg: 28 duplicate labels removed\n",
      "\u001b[34m\u001b[1mtrain: \u001b[0mC:\\Users\\Cristiano\\Desktop\\Faculdade\\2 semestre\\VC\\project\\VC_project\\Shared\\training_inputs\\chessred2k_YOLO\\train\\images\\G083_IMG039.jpg: 27 duplicate labels removed\n",
      "\u001b[34m\u001b[1mtrain: \u001b[0mC:\\Users\\Cristiano\\Desktop\\Faculdade\\2 semestre\\VC\\project\\VC_project\\Shared\\training_inputs\\chessred2k_YOLO\\train\\images\\G083_IMG040.jpg: 26 duplicate labels removed\n",
      "\u001b[34m\u001b[1mtrain: \u001b[0mC:\\Users\\Cristiano\\Desktop\\Faculdade\\2 semestre\\VC\\project\\VC_project\\Shared\\training_inputs\\chessred2k_YOLO\\train\\images\\G083_IMG041.jpg: 25 duplicate labels removed\n",
      "\u001b[34m\u001b[1mtrain: \u001b[0mC:\\Users\\Cristiano\\Desktop\\Faculdade\\2 semestre\\VC\\project\\VC_project\\Shared\\training_inputs\\chessred2k_YOLO\\train\\images\\G083_IMG042.jpg: 24 duplicate labels removed\n",
      "\u001b[34m\u001b[1mtrain: \u001b[0mC:\\Users\\Cristiano\\Desktop\\Faculdade\\2 semestre\\VC\\project\\VC_project\\Shared\\training_inputs\\chessred2k_YOLO\\train\\images\\G083_IMG043.jpg: 24 duplicate labels removed\n",
      "\u001b[34m\u001b[1mtrain: \u001b[0mC:\\Users\\Cristiano\\Desktop\\Faculdade\\2 semestre\\VC\\project\\VC_project\\Shared\\training_inputs\\chessred2k_YOLO\\train\\images\\G083_IMG044.jpg: 24 duplicate labels removed\n",
      "\u001b[34m\u001b[1mtrain: \u001b[0mC:\\Users\\Cristiano\\Desktop\\Faculdade\\2 semestre\\VC\\project\\VC_project\\Shared\\training_inputs\\chessred2k_YOLO\\train\\images\\G083_IMG045.jpg: 24 duplicate labels removed\n",
      "\u001b[34m\u001b[1mtrain: \u001b[0mC:\\Users\\Cristiano\\Desktop\\Faculdade\\2 semestre\\VC\\project\\VC_project\\Shared\\training_inputs\\chessred2k_YOLO\\train\\images\\G083_IMG046.jpg: 23 duplicate labels removed\n",
      "\u001b[34m\u001b[1mtrain: \u001b[0mC:\\Users\\Cristiano\\Desktop\\Faculdade\\2 semestre\\VC\\project\\VC_project\\Shared\\training_inputs\\chessred2k_YOLO\\train\\images\\G083_IMG047.jpg: 22 duplicate labels removed\n",
      "\u001b[34m\u001b[1mtrain: \u001b[0mC:\\Users\\Cristiano\\Desktop\\Faculdade\\2 semestre\\VC\\project\\VC_project\\Shared\\training_inputs\\chessred2k_YOLO\\train\\images\\G083_IMG048.jpg: 22 duplicate labels removed\n",
      "\u001b[34m\u001b[1mtrain: \u001b[0mC:\\Users\\Cristiano\\Desktop\\Faculdade\\2 semestre\\VC\\project\\VC_project\\Shared\\training_inputs\\chessred2k_YOLO\\train\\images\\G083_IMG049.jpg: 21 duplicate labels removed\n",
      "\u001b[34m\u001b[1mtrain: \u001b[0mC:\\Users\\Cristiano\\Desktop\\Faculdade\\2 semestre\\VC\\project\\VC_project\\Shared\\training_inputs\\chessred2k_YOLO\\train\\images\\G083_IMG050.jpg: 20 duplicate labels removed\n",
      "\u001b[34m\u001b[1mtrain: \u001b[0mC:\\Users\\Cristiano\\Desktop\\Faculdade\\2 semestre\\VC\\project\\VC_project\\Shared\\training_inputs\\chessred2k_YOLO\\train\\images\\G083_IMG051.jpg: 20 duplicate labels removed\n",
      "\u001b[34m\u001b[1mtrain: \u001b[0mC:\\Users\\Cristiano\\Desktop\\Faculdade\\2 semestre\\VC\\project\\VC_project\\Shared\\training_inputs\\chessred2k_YOLO\\train\\images\\G083_IMG052.jpg: 19 duplicate labels removed\n",
      "\u001b[34m\u001b[1mtrain: \u001b[0mC:\\Users\\Cristiano\\Desktop\\Faculdade\\2 semestre\\VC\\project\\VC_project\\Shared\\training_inputs\\chessred2k_YOLO\\train\\images\\G083_IMG053.jpg: 18 duplicate labels removed\n",
      "\u001b[34m\u001b[1mtrain: \u001b[0mC:\\Users\\Cristiano\\Desktop\\Faculdade\\2 semestre\\VC\\project\\VC_project\\Shared\\training_inputs\\chessred2k_YOLO\\train\\images\\G083_IMG054.jpg: 17 duplicate labels removed\n",
      "\u001b[34m\u001b[1mtrain: \u001b[0mC:\\Users\\Cristiano\\Desktop\\Faculdade\\2 semestre\\VC\\project\\VC_project\\Shared\\training_inputs\\chessred2k_YOLO\\train\\images\\G083_IMG055.jpg: 16 duplicate labels removed\n",
      "\u001b[34m\u001b[1mtrain: \u001b[0mC:\\Users\\Cristiano\\Desktop\\Faculdade\\2 semestre\\VC\\project\\VC_project\\Shared\\training_inputs\\chessred2k_YOLO\\train\\images\\G083_IMG056.jpg: 16 duplicate labels removed\n",
      "\u001b[34m\u001b[1mtrain: \u001b[0mC:\\Users\\Cristiano\\Desktop\\Faculdade\\2 semestre\\VC\\project\\VC_project\\Shared\\training_inputs\\chessred2k_YOLO\\train\\images\\G083_IMG057.jpg: 15 duplicate labels removed\n",
      "\u001b[34m\u001b[1mtrain: \u001b[0mC:\\Users\\Cristiano\\Desktop\\Faculdade\\2 semestre\\VC\\project\\VC_project\\Shared\\training_inputs\\chessred2k_YOLO\\train\\images\\G083_IMG058.jpg: 15 duplicate labels removed\n",
      "\u001b[34m\u001b[1mtrain: \u001b[0mC:\\Users\\Cristiano\\Desktop\\Faculdade\\2 semestre\\VC\\project\\VC_project\\Shared\\training_inputs\\chessred2k_YOLO\\train\\images\\G083_IMG059.jpg: 15 duplicate labels removed\n",
      "\u001b[34m\u001b[1mtrain: \u001b[0mC:\\Users\\Cristiano\\Desktop\\Faculdade\\2 semestre\\VC\\project\\VC_project\\Shared\\training_inputs\\chessred2k_YOLO\\train\\images\\G083_IMG060.jpg: 15 duplicate labels removed\n",
      "\u001b[34m\u001b[1mtrain: \u001b[0mC:\\Users\\Cristiano\\Desktop\\Faculdade\\2 semestre\\VC\\project\\VC_project\\Shared\\training_inputs\\chessred2k_YOLO\\train\\images\\G083_IMG061.jpg: 15 duplicate labels removed\n",
      "\u001b[34m\u001b[1mtrain: \u001b[0mC:\\Users\\Cristiano\\Desktop\\Faculdade\\2 semestre\\VC\\project\\VC_project\\Shared\\training_inputs\\chessred2k_YOLO\\train\\images\\G083_IMG062.jpg: 14 duplicate labels removed\n",
      "\u001b[34m\u001b[1mtrain: \u001b[0mC:\\Users\\Cristiano\\Desktop\\Faculdade\\2 semestre\\VC\\project\\VC_project\\Shared\\training_inputs\\chessred2k_YOLO\\train\\images\\G083_IMG063.jpg: 13 duplicate labels removed\n",
      "\u001b[34m\u001b[1mtrain: \u001b[0mC:\\Users\\Cristiano\\Desktop\\Faculdade\\2 semestre\\VC\\project\\VC_project\\Shared\\training_inputs\\chessred2k_YOLO\\train\\images\\G083_IMG064.jpg: 13 duplicate labels removed\n",
      "\u001b[34m\u001b[1mtrain: \u001b[0mC:\\Users\\Cristiano\\Desktop\\Faculdade\\2 semestre\\VC\\project\\VC_project\\Shared\\training_inputs\\chessred2k_YOLO\\train\\images\\G083_IMG065.jpg: 13 duplicate labels removed\n",
      "\u001b[34m\u001b[1mtrain: \u001b[0mC:\\Users\\Cristiano\\Desktop\\Faculdade\\2 semestre\\VC\\project\\VC_project\\Shared\\training_inputs\\chessred2k_YOLO\\train\\images\\G083_IMG066.jpg: 12 duplicate labels removed\n",
      "\u001b[34m\u001b[1mtrain: \u001b[0mC:\\Users\\Cristiano\\Desktop\\Faculdade\\2 semestre\\VC\\project\\VC_project\\Shared\\training_inputs\\chessred2k_YOLO\\train\\images\\G083_IMG067.jpg: 12 duplicate labels removed\n",
      "\u001b[34m\u001b[1mtrain: \u001b[0mC:\\Users\\Cristiano\\Desktop\\Faculdade\\2 semestre\\VC\\project\\VC_project\\Shared\\training_inputs\\chessred2k_YOLO\\train\\images\\G083_IMG068.jpg: 12 duplicate labels removed\n",
      "\u001b[34m\u001b[1mtrain: \u001b[0mC:\\Users\\Cristiano\\Desktop\\Faculdade\\2 semestre\\VC\\project\\VC_project\\Shared\\training_inputs\\chessred2k_YOLO\\train\\images\\G083_IMG069.jpg: 11 duplicate labels removed\n",
      "\u001b[34m\u001b[1mtrain: \u001b[0mC:\\Users\\Cristiano\\Desktop\\Faculdade\\2 semestre\\VC\\project\\VC_project\\Shared\\training_inputs\\chessred2k_YOLO\\train\\images\\G083_IMG070.jpg: 11 duplicate labels removed\n",
      "\u001b[34m\u001b[1mtrain: \u001b[0mC:\\Users\\Cristiano\\Desktop\\Faculdade\\2 semestre\\VC\\project\\VC_project\\Shared\\training_inputs\\chessred2k_YOLO\\train\\images\\G083_IMG071.jpg: 11 duplicate labels removed\n",
      "\u001b[34m\u001b[1mtrain: \u001b[0mC:\\Users\\Cristiano\\Desktop\\Faculdade\\2 semestre\\VC\\project\\VC_project\\Shared\\training_inputs\\chessred2k_YOLO\\train\\images\\G083_IMG072.jpg: 11 duplicate labels removed\n",
      "\u001b[34m\u001b[1mtrain: \u001b[0mC:\\Users\\Cristiano\\Desktop\\Faculdade\\2 semestre\\VC\\project\\VC_project\\Shared\\training_inputs\\chessred2k_YOLO\\train\\images\\G083_IMG073.jpg: 10 duplicate labels removed\n",
      "\u001b[34m\u001b[1mtrain: \u001b[0mC:\\Users\\Cristiano\\Desktop\\Faculdade\\2 semestre\\VC\\project\\VC_project\\Shared\\training_inputs\\chessred2k_YOLO\\train\\images\\G083_IMG074.jpg: 9 duplicate labels removed\n",
      "\u001b[34m\u001b[1mtrain: \u001b[0mC:\\Users\\Cristiano\\Desktop\\Faculdade\\2 semestre\\VC\\project\\VC_project\\Shared\\training_inputs\\chessred2k_YOLO\\train\\images\\G083_IMG075.jpg: 9 duplicate labels removed\n",
      "\u001b[34m\u001b[1mtrain: \u001b[0mC:\\Users\\Cristiano\\Desktop\\Faculdade\\2 semestre\\VC\\project\\VC_project\\Shared\\training_inputs\\chessred2k_YOLO\\train\\images\\G083_IMG076.jpg: 9 duplicate labels removed\n",
      "\u001b[34m\u001b[1mtrain: \u001b[0mC:\\Users\\Cristiano\\Desktop\\Faculdade\\2 semestre\\VC\\project\\VC_project\\Shared\\training_inputs\\chessred2k_YOLO\\train\\images\\G083_IMG077.jpg: 9 duplicate labels removed\n",
      "\u001b[34m\u001b[1mtrain: \u001b[0mC:\\Users\\Cristiano\\Desktop\\Faculdade\\2 semestre\\VC\\project\\VC_project\\Shared\\training_inputs\\chessred2k_YOLO\\train\\images\\G083_IMG078.jpg: 9 duplicate labels removed\n",
      "\u001b[34m\u001b[1mtrain: \u001b[0mC:\\Users\\Cristiano\\Desktop\\Faculdade\\2 semestre\\VC\\project\\VC_project\\Shared\\training_inputs\\chessred2k_YOLO\\train\\images\\G083_IMG079.jpg: 9 duplicate labels removed\n",
      "\u001b[34m\u001b[1mtrain: \u001b[0mC:\\Users\\Cristiano\\Desktop\\Faculdade\\2 semestre\\VC\\project\\VC_project\\Shared\\training_inputs\\chessred2k_YOLO\\train\\images\\G083_IMG080.jpg: 9 duplicate labels removed\n",
      "\u001b[34m\u001b[1mtrain: \u001b[0mC:\\Users\\Cristiano\\Desktop\\Faculdade\\2 semestre\\VC\\project\\VC_project\\Shared\\training_inputs\\chessred2k_YOLO\\train\\images\\G083_IMG081.jpg: 9 duplicate labels removed\n",
      "\u001b[34m\u001b[1mtrain: \u001b[0mC:\\Users\\Cristiano\\Desktop\\Faculdade\\2 semestre\\VC\\project\\VC_project\\Shared\\training_inputs\\chessred2k_YOLO\\train\\images\\G083_IMG082.jpg: 8 duplicate labels removed\n",
      "\u001b[34m\u001b[1mtrain: \u001b[0mC:\\Users\\Cristiano\\Desktop\\Faculdade\\2 semestre\\VC\\project\\VC_project\\Shared\\training_inputs\\chessred2k_YOLO\\train\\images\\G083_IMG083.jpg: 8 duplicate labels removed\n",
      "\u001b[34m\u001b[1mtrain: \u001b[0mC:\\Users\\Cristiano\\Desktop\\Faculdade\\2 semestre\\VC\\project\\VC_project\\Shared\\training_inputs\\chessred2k_YOLO\\train\\images\\G083_IMG084.jpg: 8 duplicate labels removed\n",
      "\u001b[34m\u001b[1mtrain: \u001b[0mC:\\Users\\Cristiano\\Desktop\\Faculdade\\2 semestre\\VC\\project\\VC_project\\Shared\\training_inputs\\chessred2k_YOLO\\train\\images\\G083_IMG085.jpg: 8 duplicate labels removed\n",
      "\u001b[34m\u001b[1mtrain: \u001b[0mC:\\Users\\Cristiano\\Desktop\\Faculdade\\2 semestre\\VC\\project\\VC_project\\Shared\\training_inputs\\chessred2k_YOLO\\train\\images\\G083_IMG086.jpg: 8 duplicate labels removed\n",
      "\u001b[34m\u001b[1mtrain: \u001b[0mC:\\Users\\Cristiano\\Desktop\\Faculdade\\2 semestre\\VC\\project\\VC_project\\Shared\\training_inputs\\chessred2k_YOLO\\train\\images\\G083_IMG087.jpg: 8 duplicate labels removed\n",
      "\u001b[34m\u001b[1mtrain: \u001b[0mC:\\Users\\Cristiano\\Desktop\\Faculdade\\2 semestre\\VC\\project\\VC_project\\Shared\\training_inputs\\chessred2k_YOLO\\train\\images\\G083_IMG088.jpg: 8 duplicate labels removed\n",
      "\u001b[34m\u001b[1mtrain: \u001b[0mC:\\Users\\Cristiano\\Desktop\\Faculdade\\2 semestre\\VC\\project\\VC_project\\Shared\\training_inputs\\chessred2k_YOLO\\train\\images\\G083_IMG089.jpg: 8 duplicate labels removed\n",
      "\u001b[34m\u001b[1mtrain: \u001b[0mC:\\Users\\Cristiano\\Desktop\\Faculdade\\2 semestre\\VC\\project\\VC_project\\Shared\\training_inputs\\chessred2k_YOLO\\train\\images\\G083_IMG090.jpg: 8 duplicate labels removed\n",
      "\u001b[34m\u001b[1mtrain: \u001b[0mC:\\Users\\Cristiano\\Desktop\\Faculdade\\2 semestre\\VC\\project\\VC_project\\Shared\\training_inputs\\chessred2k_YOLO\\train\\images\\G083_IMG091.jpg: 8 duplicate labels removed\n",
      "\u001b[34m\u001b[1mtrain: \u001b[0mC:\\Users\\Cristiano\\Desktop\\Faculdade\\2 semestre\\VC\\project\\VC_project\\Shared\\training_inputs\\chessred2k_YOLO\\train\\images\\G083_IMG092.jpg: 8 duplicate labels removed\n",
      "\u001b[34m\u001b[1mtrain: \u001b[0mC:\\Users\\Cristiano\\Desktop\\Faculdade\\2 semestre\\VC\\project\\VC_project\\Shared\\training_inputs\\chessred2k_YOLO\\train\\images\\G083_IMG093.jpg: 8 duplicate labels removed\n",
      "\u001b[34m\u001b[1mtrain: \u001b[0mC:\\Users\\Cristiano\\Desktop\\Faculdade\\2 semestre\\VC\\project\\VC_project\\Shared\\training_inputs\\chessred2k_YOLO\\train\\images\\G083_IMG094.jpg: 8 duplicate labels removed\n",
      "\u001b[34m\u001b[1mtrain: \u001b[0mC:\\Users\\Cristiano\\Desktop\\Faculdade\\2 semestre\\VC\\project\\VC_project\\Shared\\training_inputs\\chessred2k_YOLO\\train\\images\\G083_IMG095.jpg: 8 duplicate labels removed\n",
      "\u001b[34m\u001b[1mtrain: \u001b[0mC:\\Users\\Cristiano\\Desktop\\Faculdade\\2 semestre\\VC\\project\\VC_project\\Shared\\training_inputs\\chessred2k_YOLO\\train\\images\\G083_IMG096.jpg: 8 duplicate labels removed\n",
      "\u001b[34m\u001b[1mtrain: \u001b[0mC:\\Users\\Cristiano\\Desktop\\Faculdade\\2 semestre\\VC\\project\\VC_project\\Shared\\training_inputs\\chessred2k_YOLO\\train\\images\\G083_IMG097.jpg: 8 duplicate labels removed\n",
      "\u001b[34m\u001b[1mtrain: \u001b[0mC:\\Users\\Cristiano\\Desktop\\Faculdade\\2 semestre\\VC\\project\\VC_project\\Shared\\training_inputs\\chessred2k_YOLO\\train\\images\\G083_IMG098.jpg: 8 duplicate labels removed\n",
      "\u001b[34m\u001b[1mtrain: \u001b[0mC:\\Users\\Cristiano\\Desktop\\Faculdade\\2 semestre\\VC\\project\\VC_project\\Shared\\training_inputs\\chessred2k_YOLO\\train\\images\\G087_IMG000.jpg: 32 duplicate labels removed\n",
      "\u001b[34m\u001b[1mtrain: \u001b[0mC:\\Users\\Cristiano\\Desktop\\Faculdade\\2 semestre\\VC\\project\\VC_project\\Shared\\training_inputs\\chessred2k_YOLO\\train\\images\\G087_IMG001.jpg: 32 duplicate labels removed\n",
      "\u001b[34m\u001b[1mtrain: \u001b[0mC:\\Users\\Cristiano\\Desktop\\Faculdade\\2 semestre\\VC\\project\\VC_project\\Shared\\training_inputs\\chessred2k_YOLO\\train\\images\\G087_IMG002.jpg: 32 duplicate labels removed\n",
      "\u001b[34m\u001b[1mtrain: \u001b[0mC:\\Users\\Cristiano\\Desktop\\Faculdade\\2 semestre\\VC\\project\\VC_project\\Shared\\training_inputs\\chessred2k_YOLO\\train\\images\\G087_IMG003.jpg: 32 duplicate labels removed\n",
      "\u001b[34m\u001b[1mtrain: \u001b[0mC:\\Users\\Cristiano\\Desktop\\Faculdade\\2 semestre\\VC\\project\\VC_project\\Shared\\training_inputs\\chessred2k_YOLO\\train\\images\\G087_IMG004.jpg: 32 duplicate labels removed\n",
      "\u001b[34m\u001b[1mtrain: \u001b[0mC:\\Users\\Cristiano\\Desktop\\Faculdade\\2 semestre\\VC\\project\\VC_project\\Shared\\training_inputs\\chessred2k_YOLO\\train\\images\\G087_IMG005.jpg: 32 duplicate labels removed\n",
      "\u001b[34m\u001b[1mtrain: \u001b[0mC:\\Users\\Cristiano\\Desktop\\Faculdade\\2 semestre\\VC\\project\\VC_project\\Shared\\training_inputs\\chessred2k_YOLO\\train\\images\\G087_IMG006.jpg: 32 duplicate labels removed\n",
      "\u001b[34m\u001b[1mtrain: \u001b[0mC:\\Users\\Cristiano\\Desktop\\Faculdade\\2 semestre\\VC\\project\\VC_project\\Shared\\training_inputs\\chessred2k_YOLO\\train\\images\\G087_IMG007.jpg: 32 duplicate labels removed\n",
      "\u001b[34m\u001b[1mtrain: \u001b[0mC:\\Users\\Cristiano\\Desktop\\Faculdade\\2 semestre\\VC\\project\\VC_project\\Shared\\training_inputs\\chessred2k_YOLO\\train\\images\\G087_IMG008.jpg: 32 duplicate labels removed\n",
      "\u001b[34m\u001b[1mtrain: \u001b[0mC:\\Users\\Cristiano\\Desktop\\Faculdade\\2 semestre\\VC\\project\\VC_project\\Shared\\training_inputs\\chessred2k_YOLO\\train\\images\\G087_IMG009.jpg: 32 duplicate labels removed\n",
      "\u001b[34m\u001b[1mtrain: \u001b[0mC:\\Users\\Cristiano\\Desktop\\Faculdade\\2 semestre\\VC\\project\\VC_project\\Shared\\training_inputs\\chessred2k_YOLO\\train\\images\\G087_IMG010.jpg: 32 duplicate labels removed\n",
      "\u001b[34m\u001b[1mtrain: \u001b[0mC:\\Users\\Cristiano\\Desktop\\Faculdade\\2 semestre\\VC\\project\\VC_project\\Shared\\training_inputs\\chessred2k_YOLO\\train\\images\\G087_IMG011.jpg: 32 duplicate labels removed\n",
      "\u001b[34m\u001b[1mtrain: \u001b[0mC:\\Users\\Cristiano\\Desktop\\Faculdade\\2 semestre\\VC\\project\\VC_project\\Shared\\training_inputs\\chessred2k_YOLO\\train\\images\\G087_IMG012.jpg: 32 duplicate labels removed\n",
      "\u001b[34m\u001b[1mtrain: \u001b[0mC:\\Users\\Cristiano\\Desktop\\Faculdade\\2 semestre\\VC\\project\\VC_project\\Shared\\training_inputs\\chessred2k_YOLO\\train\\images\\G087_IMG013.jpg: 32 duplicate labels removed\n",
      "\u001b[34m\u001b[1mtrain: \u001b[0mC:\\Users\\Cristiano\\Desktop\\Faculdade\\2 semestre\\VC\\project\\VC_project\\Shared\\training_inputs\\chessred2k_YOLO\\train\\images\\G087_IMG014.jpg: 32 duplicate labels removed\n",
      "\u001b[34m\u001b[1mtrain: \u001b[0mC:\\Users\\Cristiano\\Desktop\\Faculdade\\2 semestre\\VC\\project\\VC_project\\Shared\\training_inputs\\chessred2k_YOLO\\train\\images\\G087_IMG015.jpg: 32 duplicate labels removed\n",
      "\u001b[34m\u001b[1mtrain: \u001b[0mC:\\Users\\Cristiano\\Desktop\\Faculdade\\2 semestre\\VC\\project\\VC_project\\Shared\\training_inputs\\chessred2k_YOLO\\train\\images\\G087_IMG016.jpg: 32 duplicate labels removed\n",
      "\u001b[34m\u001b[1mtrain: \u001b[0mC:\\Users\\Cristiano\\Desktop\\Faculdade\\2 semestre\\VC\\project\\VC_project\\Shared\\training_inputs\\chessred2k_YOLO\\train\\images\\G087_IMG017.jpg: 32 duplicate labels removed\n",
      "\u001b[34m\u001b[1mtrain: \u001b[0mC:\\Users\\Cristiano\\Desktop\\Faculdade\\2 semestre\\VC\\project\\VC_project\\Shared\\training_inputs\\chessred2k_YOLO\\train\\images\\G087_IMG018.jpg: 32 duplicate labels removed\n",
      "\u001b[34m\u001b[1mtrain: \u001b[0mC:\\Users\\Cristiano\\Desktop\\Faculdade\\2 semestre\\VC\\project\\VC_project\\Shared\\training_inputs\\chessred2k_YOLO\\train\\images\\G087_IMG019.jpg: 31 duplicate labels removed\n",
      "\u001b[34m\u001b[1mtrain: \u001b[0mC:\\Users\\Cristiano\\Desktop\\Faculdade\\2 semestre\\VC\\project\\VC_project\\Shared\\training_inputs\\chessred2k_YOLO\\train\\images\\G087_IMG020.jpg: 30 duplicate labels removed\n",
      "\u001b[34m\u001b[1mtrain: \u001b[0mC:\\Users\\Cristiano\\Desktop\\Faculdade\\2 semestre\\VC\\project\\VC_project\\Shared\\training_inputs\\chessred2k_YOLO\\train\\images\\G087_IMG021.jpg: 30 duplicate labels removed\n",
      "\u001b[34m\u001b[1mtrain: \u001b[0mC:\\Users\\Cristiano\\Desktop\\Faculdade\\2 semestre\\VC\\project\\VC_project\\Shared\\training_inputs\\chessred2k_YOLO\\train\\images\\G087_IMG022.jpg: 30 duplicate labels removed\n",
      "\u001b[34m\u001b[1mtrain: \u001b[0mC:\\Users\\Cristiano\\Desktop\\Faculdade\\2 semestre\\VC\\project\\VC_project\\Shared\\training_inputs\\chessred2k_YOLO\\train\\images\\G087_IMG023.jpg: 30 duplicate labels removed\n",
      "\u001b[34m\u001b[1mtrain: \u001b[0mC:\\Users\\Cristiano\\Desktop\\Faculdade\\2 semestre\\VC\\project\\VC_project\\Shared\\training_inputs\\chessred2k_YOLO\\train\\images\\G087_IMG024.jpg: 30 duplicate labels removed\n",
      "\u001b[34m\u001b[1mtrain: \u001b[0mC:\\Users\\Cristiano\\Desktop\\Faculdade\\2 semestre\\VC\\project\\VC_project\\Shared\\training_inputs\\chessred2k_YOLO\\train\\images\\G087_IMG025.jpg: 30 duplicate labels removed\n",
      "\u001b[34m\u001b[1mtrain: \u001b[0mC:\\Users\\Cristiano\\Desktop\\Faculdade\\2 semestre\\VC\\project\\VC_project\\Shared\\training_inputs\\chessred2k_YOLO\\train\\images\\G087_IMG026.jpg: 30 duplicate labels removed\n",
      "\u001b[34m\u001b[1mtrain: \u001b[0mC:\\Users\\Cristiano\\Desktop\\Faculdade\\2 semestre\\VC\\project\\VC_project\\Shared\\training_inputs\\chessred2k_YOLO\\train\\images\\G087_IMG027.jpg: 30 duplicate labels removed\n",
      "\u001b[34m\u001b[1mtrain: \u001b[0mC:\\Users\\Cristiano\\Desktop\\Faculdade\\2 semestre\\VC\\project\\VC_project\\Shared\\training_inputs\\chessred2k_YOLO\\train\\images\\G087_IMG028.jpg: 30 duplicate labels removed\n",
      "\u001b[34m\u001b[1mtrain: \u001b[0mC:\\Users\\Cristiano\\Desktop\\Faculdade\\2 semestre\\VC\\project\\VC_project\\Shared\\training_inputs\\chessred2k_YOLO\\train\\images\\G087_IMG029.jpg: 30 duplicate labels removed\n",
      "\u001b[34m\u001b[1mtrain: \u001b[0mC:\\Users\\Cristiano\\Desktop\\Faculdade\\2 semestre\\VC\\project\\VC_project\\Shared\\training_inputs\\chessred2k_YOLO\\train\\images\\G087_IMG030.jpg: 30 duplicate labels removed\n",
      "\u001b[34m\u001b[1mtrain: \u001b[0mC:\\Users\\Cristiano\\Desktop\\Faculdade\\2 semestre\\VC\\project\\VC_project\\Shared\\training_inputs\\chessred2k_YOLO\\train\\images\\G087_IMG031.jpg: 30 duplicate labels removed\n",
      "\u001b[34m\u001b[1mtrain: \u001b[0mC:\\Users\\Cristiano\\Desktop\\Faculdade\\2 semestre\\VC\\project\\VC_project\\Shared\\training_inputs\\chessred2k_YOLO\\train\\images\\G087_IMG032.jpg: 30 duplicate labels removed\n",
      "\u001b[34m\u001b[1mtrain: \u001b[0mC:\\Users\\Cristiano\\Desktop\\Faculdade\\2 semestre\\VC\\project\\VC_project\\Shared\\training_inputs\\chessred2k_YOLO\\train\\images\\G087_IMG033.jpg: 30 duplicate labels removed\n",
      "\u001b[34m\u001b[1mtrain: \u001b[0mC:\\Users\\Cristiano\\Desktop\\Faculdade\\2 semestre\\VC\\project\\VC_project\\Shared\\training_inputs\\chessred2k_YOLO\\train\\images\\G087_IMG034.jpg: 30 duplicate labels removed\n",
      "\u001b[34m\u001b[1mtrain: \u001b[0mC:\\Users\\Cristiano\\Desktop\\Faculdade\\2 semestre\\VC\\project\\VC_project\\Shared\\training_inputs\\chessred2k_YOLO\\train\\images\\G087_IMG035.jpg: 30 duplicate labels removed\n",
      "\u001b[34m\u001b[1mtrain: \u001b[0mC:\\Users\\Cristiano\\Desktop\\Faculdade\\2 semestre\\VC\\project\\VC_project\\Shared\\training_inputs\\chessred2k_YOLO\\train\\images\\G087_IMG036.jpg: 30 duplicate labels removed\n",
      "\u001b[34m\u001b[1mtrain: \u001b[0mC:\\Users\\Cristiano\\Desktop\\Faculdade\\2 semestre\\VC\\project\\VC_project\\Shared\\training_inputs\\chessred2k_YOLO\\train\\images\\G087_IMG037.jpg: 30 duplicate labels removed\n",
      "\u001b[34m\u001b[1mtrain: \u001b[0mC:\\Users\\Cristiano\\Desktop\\Faculdade\\2 semestre\\VC\\project\\VC_project\\Shared\\training_inputs\\chessred2k_YOLO\\train\\images\\G087_IMG038.jpg: 30 duplicate labels removed\n",
      "\u001b[34m\u001b[1mtrain: \u001b[0mC:\\Users\\Cristiano\\Desktop\\Faculdade\\2 semestre\\VC\\project\\VC_project\\Shared\\training_inputs\\chessred2k_YOLO\\train\\images\\G087_IMG039.jpg: 30 duplicate labels removed\n",
      "\u001b[34m\u001b[1mtrain: \u001b[0mC:\\Users\\Cristiano\\Desktop\\Faculdade\\2 semestre\\VC\\project\\VC_project\\Shared\\training_inputs\\chessred2k_YOLO\\train\\images\\G087_IMG040.jpg: 30 duplicate labels removed\n",
      "\u001b[34m\u001b[1mtrain: \u001b[0mC:\\Users\\Cristiano\\Desktop\\Faculdade\\2 semestre\\VC\\project\\VC_project\\Shared\\training_inputs\\chessred2k_YOLO\\train\\images\\G087_IMG041.jpg: 29 duplicate labels removed\n",
      "\u001b[34m\u001b[1mtrain: \u001b[0mC:\\Users\\Cristiano\\Desktop\\Faculdade\\2 semestre\\VC\\project\\VC_project\\Shared\\training_inputs\\chessred2k_YOLO\\train\\images\\G087_IMG042.jpg: 28 duplicate labels removed\n",
      "\u001b[34m\u001b[1mtrain: \u001b[0mC:\\Users\\Cristiano\\Desktop\\Faculdade\\2 semestre\\VC\\project\\VC_project\\Shared\\training_inputs\\chessred2k_YOLO\\train\\images\\G087_IMG043.jpg: 27 duplicate labels removed\n",
      "\u001b[34m\u001b[1mtrain: \u001b[0mC:\\Users\\Cristiano\\Desktop\\Faculdade\\2 semestre\\VC\\project\\VC_project\\Shared\\training_inputs\\chessred2k_YOLO\\train\\images\\G087_IMG044.jpg: 26 duplicate labels removed\n",
      "\u001b[34m\u001b[1mtrain: \u001b[0mC:\\Users\\Cristiano\\Desktop\\Faculdade\\2 semestre\\VC\\project\\VC_project\\Shared\\training_inputs\\chessred2k_YOLO\\train\\images\\G087_IMG045.jpg: 25 duplicate labels removed\n",
      "\u001b[34m\u001b[1mtrain: \u001b[0mC:\\Users\\Cristiano\\Desktop\\Faculdade\\2 semestre\\VC\\project\\VC_project\\Shared\\training_inputs\\chessred2k_YOLO\\train\\images\\G087_IMG046.jpg: 25 duplicate labels removed\n",
      "\u001b[34m\u001b[1mtrain: \u001b[0mC:\\Users\\Cristiano\\Desktop\\Faculdade\\2 semestre\\VC\\project\\VC_project\\Shared\\training_inputs\\chessred2k_YOLO\\train\\images\\G087_IMG047.jpg: 25 duplicate labels removed\n",
      "\u001b[34m\u001b[1mtrain: \u001b[0mC:\\Users\\Cristiano\\Desktop\\Faculdade\\2 semestre\\VC\\project\\VC_project\\Shared\\training_inputs\\chessred2k_YOLO\\train\\images\\G087_IMG048.jpg: 24 duplicate labels removed\n",
      "\u001b[34m\u001b[1mtrain: \u001b[0mC:\\Users\\Cristiano\\Desktop\\Faculdade\\2 semestre\\VC\\project\\VC_project\\Shared\\training_inputs\\chessred2k_YOLO\\train\\images\\G087_IMG049.jpg: 24 duplicate labels removed\n",
      "\u001b[34m\u001b[1mtrain: \u001b[0mC:\\Users\\Cristiano\\Desktop\\Faculdade\\2 semestre\\VC\\project\\VC_project\\Shared\\training_inputs\\chessred2k_YOLO\\train\\images\\G087_IMG050.jpg: 24 duplicate labels removed\n",
      "\u001b[34m\u001b[1mtrain: \u001b[0mC:\\Users\\Cristiano\\Desktop\\Faculdade\\2 semestre\\VC\\project\\VC_project\\Shared\\training_inputs\\chessred2k_YOLO\\train\\images\\G087_IMG051.jpg: 24 duplicate labels removed\n",
      "\u001b[34m\u001b[1mtrain: \u001b[0mC:\\Users\\Cristiano\\Desktop\\Faculdade\\2 semestre\\VC\\project\\VC_project\\Shared\\training_inputs\\chessred2k_YOLO\\train\\images\\G087_IMG052.jpg: 24 duplicate labels removed\n",
      "\u001b[34m\u001b[1mtrain: \u001b[0mC:\\Users\\Cristiano\\Desktop\\Faculdade\\2 semestre\\VC\\project\\VC_project\\Shared\\training_inputs\\chessred2k_YOLO\\train\\images\\G087_IMG053.jpg: 23 duplicate labels removed\n",
      "\u001b[34m\u001b[1mtrain: \u001b[0mC:\\Users\\Cristiano\\Desktop\\Faculdade\\2 semestre\\VC\\project\\VC_project\\Shared\\training_inputs\\chessred2k_YOLO\\train\\images\\G087_IMG054.jpg: 22 duplicate labels removed\n",
      "\u001b[34m\u001b[1mtrain: \u001b[0mC:\\Users\\Cristiano\\Desktop\\Faculdade\\2 semestre\\VC\\project\\VC_project\\Shared\\training_inputs\\chessred2k_YOLO\\train\\images\\G087_IMG055.jpg: 22 duplicate labels removed\n",
      "\u001b[34m\u001b[1mtrain: \u001b[0mC:\\Users\\Cristiano\\Desktop\\Faculdade\\2 semestre\\VC\\project\\VC_project\\Shared\\training_inputs\\chessred2k_YOLO\\train\\images\\G087_IMG056.jpg: 22 duplicate labels removed\n",
      "\u001b[34m\u001b[1mtrain: \u001b[0mC:\\Users\\Cristiano\\Desktop\\Faculdade\\2 semestre\\VC\\project\\VC_project\\Shared\\training_inputs\\chessred2k_YOLO\\train\\images\\G087_IMG057.jpg: 22 duplicate labels removed\n",
      "\u001b[34m\u001b[1mtrain: \u001b[0mC:\\Users\\Cristiano\\Desktop\\Faculdade\\2 semestre\\VC\\project\\VC_project\\Shared\\training_inputs\\chessred2k_YOLO\\train\\images\\G087_IMG058.jpg: 22 duplicate labels removed\n",
      "\u001b[34m\u001b[1mtrain: \u001b[0mC:\\Users\\Cristiano\\Desktop\\Faculdade\\2 semestre\\VC\\project\\VC_project\\Shared\\training_inputs\\chessred2k_YOLO\\train\\images\\G087_IMG059.jpg: 22 duplicate labels removed\n",
      "\u001b[34m\u001b[1mtrain: \u001b[0mC:\\Users\\Cristiano\\Desktop\\Faculdade\\2 semestre\\VC\\project\\VC_project\\Shared\\training_inputs\\chessred2k_YOLO\\train\\images\\G087_IMG060.jpg: 22 duplicate labels removed\n",
      "\u001b[34m\u001b[1mtrain: \u001b[0mC:\\Users\\Cristiano\\Desktop\\Faculdade\\2 semestre\\VC\\project\\VC_project\\Shared\\training_inputs\\chessred2k_YOLO\\train\\images\\G087_IMG061.jpg: 22 duplicate labels removed\n",
      "\u001b[34m\u001b[1mtrain: \u001b[0mC:\\Users\\Cristiano\\Desktop\\Faculdade\\2 semestre\\VC\\project\\VC_project\\Shared\\training_inputs\\chessred2k_YOLO\\train\\images\\G087_IMG062.jpg: 22 duplicate labels removed\n",
      "\u001b[34m\u001b[1mtrain: \u001b[0mC:\\Users\\Cristiano\\Desktop\\Faculdade\\2 semestre\\VC\\project\\VC_project\\Shared\\training_inputs\\chessred2k_YOLO\\train\\images\\G087_IMG063.jpg: 22 duplicate labels removed\n",
      "\u001b[34m\u001b[1mtrain: \u001b[0mC:\\Users\\Cristiano\\Desktop\\Faculdade\\2 semestre\\VC\\project\\VC_project\\Shared\\training_inputs\\chessred2k_YOLO\\train\\images\\G087_IMG064.jpg: 22 duplicate labels removed\n",
      "\u001b[34m\u001b[1mtrain: \u001b[0mC:\\Users\\Cristiano\\Desktop\\Faculdade\\2 semestre\\VC\\project\\VC_project\\Shared\\training_inputs\\chessred2k_YOLO\\train\\images\\G087_IMG065.jpg: 22 duplicate labels removed\n",
      "\u001b[34m\u001b[1mtrain: \u001b[0mC:\\Users\\Cristiano\\Desktop\\Faculdade\\2 semestre\\VC\\project\\VC_project\\Shared\\training_inputs\\chessred2k_YOLO\\train\\images\\G087_IMG066.jpg: 22 duplicate labels removed\n",
      "\u001b[34m\u001b[1mtrain: \u001b[0mC:\\Users\\Cristiano\\Desktop\\Faculdade\\2 semestre\\VC\\project\\VC_project\\Shared\\training_inputs\\chessred2k_YOLO\\train\\images\\G087_IMG067.jpg: 22 duplicate labels removed\n",
      "\u001b[34m\u001b[1mtrain: \u001b[0mC:\\Users\\Cristiano\\Desktop\\Faculdade\\2 semestre\\VC\\project\\VC_project\\Shared\\training_inputs\\chessred2k_YOLO\\train\\images\\G087_IMG068.jpg: 22 duplicate labels removed\n",
      "\u001b[34m\u001b[1mtrain: \u001b[0mC:\\Users\\Cristiano\\Desktop\\Faculdade\\2 semestre\\VC\\project\\VC_project\\Shared\\training_inputs\\chessred2k_YOLO\\train\\images\\G087_IMG069.jpg: 22 duplicate labels removed\n",
      "\u001b[34m\u001b[1mtrain: \u001b[0mC:\\Users\\Cristiano\\Desktop\\Faculdade\\2 semestre\\VC\\project\\VC_project\\Shared\\training_inputs\\chessred2k_YOLO\\train\\images\\G087_IMG070.jpg: 22 duplicate labels removed\n",
      "\u001b[34m\u001b[1mtrain: \u001b[0mC:\\Users\\Cristiano\\Desktop\\Faculdade\\2 semestre\\VC\\project\\VC_project\\Shared\\training_inputs\\chessred2k_YOLO\\train\\images\\G087_IMG071.jpg: 22 duplicate labels removed\n",
      "\u001b[34m\u001b[1mtrain: \u001b[0mC:\\Users\\Cristiano\\Desktop\\Faculdade\\2 semestre\\VC\\project\\VC_project\\Shared\\training_inputs\\chessred2k_YOLO\\train\\images\\G087_IMG072.jpg: 22 duplicate labels removed\n",
      "\u001b[34m\u001b[1mtrain: \u001b[0mC:\\Users\\Cristiano\\Desktop\\Faculdade\\2 semestre\\VC\\project\\VC_project\\Shared\\training_inputs\\chessred2k_YOLO\\train\\images\\G087_IMG073.jpg: 22 duplicate labels removed\n",
      "\u001b[34m\u001b[1mtrain: \u001b[0mC:\\Users\\Cristiano\\Desktop\\Faculdade\\2 semestre\\VC\\project\\VC_project\\Shared\\training_inputs\\chessred2k_YOLO\\train\\images\\G087_IMG074.jpg: 22 duplicate labels removed\n",
      "\u001b[34m\u001b[1mtrain: \u001b[0mC:\\Users\\Cristiano\\Desktop\\Faculdade\\2 semestre\\VC\\project\\VC_project\\Shared\\training_inputs\\chessred2k_YOLO\\train\\images\\G087_IMG075.jpg: 22 duplicate labels removed\n",
      "\u001b[34m\u001b[1mtrain: \u001b[0mC:\\Users\\Cristiano\\Desktop\\Faculdade\\2 semestre\\VC\\project\\VC_project\\Shared\\training_inputs\\chessred2k_YOLO\\train\\images\\G087_IMG076.jpg: 22 duplicate labels removed\n",
      "\u001b[34m\u001b[1mtrain: \u001b[0mC:\\Users\\Cristiano\\Desktop\\Faculdade\\2 semestre\\VC\\project\\VC_project\\Shared\\training_inputs\\chessred2k_YOLO\\train\\images\\G087_IMG077.jpg: 22 duplicate labels removed\n",
      "\u001b[34m\u001b[1mtrain: \u001b[0mC:\\Users\\Cristiano\\Desktop\\Faculdade\\2 semestre\\VC\\project\\VC_project\\Shared\\training_inputs\\chessred2k_YOLO\\train\\images\\G087_IMG078.jpg: 22 duplicate labels removed\n",
      "\u001b[34m\u001b[1mtrain: \u001b[0mC:\\Users\\Cristiano\\Desktop\\Faculdade\\2 semestre\\VC\\project\\VC_project\\Shared\\training_inputs\\chessred2k_YOLO\\train\\images\\G087_IMG079.jpg: 22 duplicate labels removed\n",
      "\u001b[34m\u001b[1mtrain: \u001b[0mC:\\Users\\Cristiano\\Desktop\\Faculdade\\2 semestre\\VC\\project\\VC_project\\Shared\\training_inputs\\chessred2k_YOLO\\train\\images\\G087_IMG080.jpg: 21 duplicate labels removed\n",
      "\u001b[34m\u001b[1mtrain: \u001b[0mC:\\Users\\Cristiano\\Desktop\\Faculdade\\2 semestre\\VC\\project\\VC_project\\Shared\\training_inputs\\chessred2k_YOLO\\train\\images\\G087_IMG081.jpg: 21 duplicate labels removed\n",
      "\u001b[34m\u001b[1mtrain: \u001b[0mC:\\Users\\Cristiano\\Desktop\\Faculdade\\2 semestre\\VC\\project\\VC_project\\Shared\\training_inputs\\chessred2k_YOLO\\train\\images\\G087_IMG082.jpg: 20 duplicate labels removed\n",
      "\u001b[34m\u001b[1mtrain: \u001b[0mC:\\Users\\Cristiano\\Desktop\\Faculdade\\2 semestre\\VC\\project\\VC_project\\Shared\\training_inputs\\chessred2k_YOLO\\train\\images\\G087_IMG083.jpg: 19 duplicate labels removed\n",
      "\u001b[34m\u001b[1mtrain: \u001b[0mC:\\Users\\Cristiano\\Desktop\\Faculdade\\2 semestre\\VC\\project\\VC_project\\Shared\\training_inputs\\chessred2k_YOLO\\train\\images\\G087_IMG084.jpg: 18 duplicate labels removed\n",
      "\u001b[34m\u001b[1mtrain: \u001b[0mC:\\Users\\Cristiano\\Desktop\\Faculdade\\2 semestre\\VC\\project\\VC_project\\Shared\\training_inputs\\chessred2k_YOLO\\train\\images\\G087_IMG085.jpg: 18 duplicate labels removed\n",
      "\u001b[34m\u001b[1mtrain: \u001b[0mC:\\Users\\Cristiano\\Desktop\\Faculdade\\2 semestre\\VC\\project\\VC_project\\Shared\\training_inputs\\chessred2k_YOLO\\train\\images\\G087_IMG086.jpg: 18 duplicate labels removed\n",
      "\u001b[34m\u001b[1mtrain: \u001b[0mC:\\Users\\Cristiano\\Desktop\\Faculdade\\2 semestre\\VC\\project\\VC_project\\Shared\\training_inputs\\chessred2k_YOLO\\train\\images\\G087_IMG087.jpg: 18 duplicate labels removed\n",
      "\u001b[34m\u001b[1mtrain: \u001b[0mC:\\Users\\Cristiano\\Desktop\\Faculdade\\2 semestre\\VC\\project\\VC_project\\Shared\\training_inputs\\chessred2k_YOLO\\train\\images\\G087_IMG088.jpg: 18 duplicate labels removed\n",
      "\u001b[34m\u001b[1mtrain: \u001b[0mC:\\Users\\Cristiano\\Desktop\\Faculdade\\2 semestre\\VC\\project\\VC_project\\Shared\\training_inputs\\chessred2k_YOLO\\train\\images\\G087_IMG089.jpg: 18 duplicate labels removed\n",
      "\u001b[34m\u001b[1mtrain: \u001b[0mC:\\Users\\Cristiano\\Desktop\\Faculdade\\2 semestre\\VC\\project\\VC_project\\Shared\\training_inputs\\chessred2k_YOLO\\train\\images\\G087_IMG090.jpg: 18 duplicate labels removed\n",
      "\u001b[34m\u001b[1mtrain: \u001b[0mC:\\Users\\Cristiano\\Desktop\\Faculdade\\2 semestre\\VC\\project\\VC_project\\Shared\\training_inputs\\chessred2k_YOLO\\train\\images\\G087_IMG091.jpg: 18 duplicate labels removed\n",
      "\u001b[34m\u001b[1mtrain: \u001b[0mC:\\Users\\Cristiano\\Desktop\\Faculdade\\2 semestre\\VC\\project\\VC_project\\Shared\\training_inputs\\chessred2k_YOLO\\train\\images\\G087_IMG092.jpg: 18 duplicate labels removed\n",
      "\u001b[34m\u001b[1mtrain: \u001b[0mC:\\Users\\Cristiano\\Desktop\\Faculdade\\2 semestre\\VC\\project\\VC_project\\Shared\\training_inputs\\chessred2k_YOLO\\train\\images\\G087_IMG093.jpg: 18 duplicate labels removed\n",
      "\u001b[34m\u001b[1mtrain: \u001b[0mC:\\Users\\Cristiano\\Desktop\\Faculdade\\2 semestre\\VC\\project\\VC_project\\Shared\\training_inputs\\chessred2k_YOLO\\train\\images\\G087_IMG094.jpg: 17 duplicate labels removed\n",
      "\u001b[34m\u001b[1mtrain: \u001b[0mC:\\Users\\Cristiano\\Desktop\\Faculdade\\2 semestre\\VC\\project\\VC_project\\Shared\\training_inputs\\chessred2k_YOLO\\train\\images\\G087_IMG095.jpg: 16 duplicate labels removed\n",
      "\u001b[34m\u001b[1mtrain: \u001b[0mC:\\Users\\Cristiano\\Desktop\\Faculdade\\2 semestre\\VC\\project\\VC_project\\Shared\\training_inputs\\chessred2k_YOLO\\train\\images\\G087_IMG096.jpg: 16 duplicate labels removed\n",
      "\u001b[34m\u001b[1mtrain: \u001b[0mC:\\Users\\Cristiano\\Desktop\\Faculdade\\2 semestre\\VC\\project\\VC_project\\Shared\\training_inputs\\chessred2k_YOLO\\train\\images\\G087_IMG097.jpg: 16 duplicate labels removed\n",
      "\u001b[34m\u001b[1mtrain: \u001b[0mC:\\Users\\Cristiano\\Desktop\\Faculdade\\2 semestre\\VC\\project\\VC_project\\Shared\\training_inputs\\chessred2k_YOLO\\train\\images\\G087_IMG098.jpg: 16 duplicate labels removed\n",
      "\u001b[34m\u001b[1mtrain: \u001b[0mC:\\Users\\Cristiano\\Desktop\\Faculdade\\2 semestre\\VC\\project\\VC_project\\Shared\\training_inputs\\chessred2k_YOLO\\train\\images\\G087_IMG099.jpg: 16 duplicate labels removed\n",
      "\u001b[34m\u001b[1mtrain: \u001b[0mC:\\Users\\Cristiano\\Desktop\\Faculdade\\2 semestre\\VC\\project\\VC_project\\Shared\\training_inputs\\chessred2k_YOLO\\train\\images\\G087_IMG100.jpg: 15 duplicate labels removed\n",
      "\u001b[34m\u001b[1mtrain: \u001b[0mC:\\Users\\Cristiano\\Desktop\\Faculdade\\2 semestre\\VC\\project\\VC_project\\Shared\\training_inputs\\chessred2k_YOLO\\train\\images\\G091_IMG000.jpg: 32 duplicate labels removed\n",
      "\u001b[34m\u001b[1mtrain: \u001b[0mC:\\Users\\Cristiano\\Desktop\\Faculdade\\2 semestre\\VC\\project\\VC_project\\Shared\\training_inputs\\chessred2k_YOLO\\train\\images\\G091_IMG001.jpg: 32 duplicate labels removed\n",
      "\u001b[34m\u001b[1mtrain: \u001b[0mC:\\Users\\Cristiano\\Desktop\\Faculdade\\2 semestre\\VC\\project\\VC_project\\Shared\\training_inputs\\chessred2k_YOLO\\train\\images\\G091_IMG002.jpg: 32 duplicate labels removed\n",
      "\u001b[34m\u001b[1mtrain: \u001b[0mC:\\Users\\Cristiano\\Desktop\\Faculdade\\2 semestre\\VC\\project\\VC_project\\Shared\\training_inputs\\chessred2k_YOLO\\train\\images\\G091_IMG003.jpg: 32 duplicate labels removed\n",
      "\u001b[34m\u001b[1mtrain: \u001b[0mC:\\Users\\Cristiano\\Desktop\\Faculdade\\2 semestre\\VC\\project\\VC_project\\Shared\\training_inputs\\chessred2k_YOLO\\train\\images\\G091_IMG004.jpg: 32 duplicate labels removed\n",
      "\u001b[34m\u001b[1mtrain: \u001b[0mC:\\Users\\Cristiano\\Desktop\\Faculdade\\2 semestre\\VC\\project\\VC_project\\Shared\\training_inputs\\chessred2k_YOLO\\train\\images\\G091_IMG005.jpg: 32 duplicate labels removed\n",
      "\u001b[34m\u001b[1mtrain: \u001b[0mC:\\Users\\Cristiano\\Desktop\\Faculdade\\2 semestre\\VC\\project\\VC_project\\Shared\\training_inputs\\chessred2k_YOLO\\train\\images\\G091_IMG006.jpg: 32 duplicate labels removed\n",
      "\u001b[34m\u001b[1mtrain: \u001b[0mC:\\Users\\Cristiano\\Desktop\\Faculdade\\2 semestre\\VC\\project\\VC_project\\Shared\\training_inputs\\chessred2k_YOLO\\train\\images\\G091_IMG007.jpg: 32 duplicate labels removed\n",
      "\u001b[34m\u001b[1mtrain: \u001b[0mC:\\Users\\Cristiano\\Desktop\\Faculdade\\2 semestre\\VC\\project\\VC_project\\Shared\\training_inputs\\chessred2k_YOLO\\train\\images\\G091_IMG008.jpg: 32 duplicate labels removed\n",
      "\u001b[34m\u001b[1mtrain: \u001b[0mC:\\Users\\Cristiano\\Desktop\\Faculdade\\2 semestre\\VC\\project\\VC_project\\Shared\\training_inputs\\chessred2k_YOLO\\train\\images\\G091_IMG009.jpg: 32 duplicate labels removed\n",
      "\u001b[34m\u001b[1mtrain: \u001b[0mC:\\Users\\Cristiano\\Desktop\\Faculdade\\2 semestre\\VC\\project\\VC_project\\Shared\\training_inputs\\chessred2k_YOLO\\train\\images\\G091_IMG010.jpg: 32 duplicate labels removed\n",
      "\u001b[34m\u001b[1mtrain: \u001b[0mC:\\Users\\Cristiano\\Desktop\\Faculdade\\2 semestre\\VC\\project\\VC_project\\Shared\\training_inputs\\chessred2k_YOLO\\train\\images\\G091_IMG011.jpg: 32 duplicate labels removed\n",
      "\u001b[34m\u001b[1mtrain: \u001b[0mC:\\Users\\Cristiano\\Desktop\\Faculdade\\2 semestre\\VC\\project\\VC_project\\Shared\\training_inputs\\chessred2k_YOLO\\train\\images\\G091_IMG012.jpg: 32 duplicate labels removed\n",
      "\u001b[34m\u001b[1mtrain: \u001b[0mC:\\Users\\Cristiano\\Desktop\\Faculdade\\2 semestre\\VC\\project\\VC_project\\Shared\\training_inputs\\chessred2k_YOLO\\train\\images\\G091_IMG013.jpg: 32 duplicate labels removed\n",
      "\u001b[34m\u001b[1mtrain: \u001b[0mC:\\Users\\Cristiano\\Desktop\\Faculdade\\2 semestre\\VC\\project\\VC_project\\Shared\\training_inputs\\chessred2k_YOLO\\train\\images\\G091_IMG014.jpg: 32 duplicate labels removed\n",
      "\u001b[34m\u001b[1mtrain: \u001b[0mC:\\Users\\Cristiano\\Desktop\\Faculdade\\2 semestre\\VC\\project\\VC_project\\Shared\\training_inputs\\chessred2k_YOLO\\train\\images\\G091_IMG015.jpg: 32 duplicate labels removed\n",
      "\u001b[34m\u001b[1mtrain: \u001b[0mC:\\Users\\Cristiano\\Desktop\\Faculdade\\2 semestre\\VC\\project\\VC_project\\Shared\\training_inputs\\chessred2k_YOLO\\train\\images\\G091_IMG016.jpg: 32 duplicate labels removed\n",
      "\u001b[34m\u001b[1mtrain: \u001b[0mC:\\Users\\Cristiano\\Desktop\\Faculdade\\2 semestre\\VC\\project\\VC_project\\Shared\\training_inputs\\chessred2k_YOLO\\train\\images\\G091_IMG017.jpg: 32 duplicate labels removed\n",
      "\u001b[34m\u001b[1mtrain: \u001b[0mC:\\Users\\Cristiano\\Desktop\\Faculdade\\2 semestre\\VC\\project\\VC_project\\Shared\\training_inputs\\chessred2k_YOLO\\train\\images\\G091_IMG018.jpg: 32 duplicate labels removed\n",
      "\u001b[34m\u001b[1mtrain: \u001b[0mC:\\Users\\Cristiano\\Desktop\\Faculdade\\2 semestre\\VC\\project\\VC_project\\Shared\\training_inputs\\chessred2k_YOLO\\train\\images\\G091_IMG019.jpg: 32 duplicate labels removed\n",
      "\u001b[34m\u001b[1mtrain: \u001b[0mC:\\Users\\Cristiano\\Desktop\\Faculdade\\2 semestre\\VC\\project\\VC_project\\Shared\\training_inputs\\chessred2k_YOLO\\train\\images\\G091_IMG020.jpg: 32 duplicate labels removed\n",
      "\u001b[34m\u001b[1mtrain: \u001b[0mC:\\Users\\Cristiano\\Desktop\\Faculdade\\2 semestre\\VC\\project\\VC_project\\Shared\\training_inputs\\chessred2k_YOLO\\train\\images\\G091_IMG021.jpg: 32 duplicate labels removed\n",
      "\u001b[34m\u001b[1mtrain: \u001b[0mC:\\Users\\Cristiano\\Desktop\\Faculdade\\2 semestre\\VC\\project\\VC_project\\Shared\\training_inputs\\chessred2k_YOLO\\train\\images\\G091_IMG022.jpg: 32 duplicate labels removed\n",
      "\u001b[34m\u001b[1mtrain: \u001b[0mC:\\Users\\Cristiano\\Desktop\\Faculdade\\2 semestre\\VC\\project\\VC_project\\Shared\\training_inputs\\chessred2k_YOLO\\train\\images\\G091_IMG023.jpg: 32 duplicate labels removed\n",
      "\u001b[34m\u001b[1mtrain: \u001b[0mC:\\Users\\Cristiano\\Desktop\\Faculdade\\2 semestre\\VC\\project\\VC_project\\Shared\\training_inputs\\chessred2k_YOLO\\train\\images\\G091_IMG024.jpg: 32 duplicate labels removed\n",
      "\u001b[34m\u001b[1mtrain: \u001b[0mC:\\Users\\Cristiano\\Desktop\\Faculdade\\2 semestre\\VC\\project\\VC_project\\Shared\\training_inputs\\chessred2k_YOLO\\train\\images\\G091_IMG025.jpg: 32 duplicate labels removed\n",
      "\u001b[34m\u001b[1mtrain: \u001b[0mC:\\Users\\Cristiano\\Desktop\\Faculdade\\2 semestre\\VC\\project\\VC_project\\Shared\\training_inputs\\chessred2k_YOLO\\train\\images\\G091_IMG026.jpg: 31 duplicate labels removed\n",
      "\u001b[34m\u001b[1mtrain: \u001b[0mC:\\Users\\Cristiano\\Desktop\\Faculdade\\2 semestre\\VC\\project\\VC_project\\Shared\\training_inputs\\chessred2k_YOLO\\train\\images\\G091_IMG027.jpg: 30 duplicate labels removed\n",
      "\u001b[34m\u001b[1mtrain: \u001b[0mC:\\Users\\Cristiano\\Desktop\\Faculdade\\2 semestre\\VC\\project\\VC_project\\Shared\\training_inputs\\chessred2k_YOLO\\train\\images\\G091_IMG028.jpg: 29 duplicate labels removed\n",
      "\u001b[34m\u001b[1mtrain: \u001b[0mC:\\Users\\Cristiano\\Desktop\\Faculdade\\2 semestre\\VC\\project\\VC_project\\Shared\\training_inputs\\chessred2k_YOLO\\train\\images\\G091_IMG029.jpg: 29 duplicate labels removed\n",
      "\u001b[34m\u001b[1mtrain: \u001b[0mC:\\Users\\Cristiano\\Desktop\\Faculdade\\2 semestre\\VC\\project\\VC_project\\Shared\\training_inputs\\chessred2k_YOLO\\train\\images\\G091_IMG030.jpg: 29 duplicate labels removed\n",
      "\u001b[34m\u001b[1mtrain: \u001b[0mC:\\Users\\Cristiano\\Desktop\\Faculdade\\2 semestre\\VC\\project\\VC_project\\Shared\\training_inputs\\chessred2k_YOLO\\train\\images\\G091_IMG031.jpg: 29 duplicate labels removed\n",
      "\u001b[34m\u001b[1mtrain: \u001b[0mC:\\Users\\Cristiano\\Desktop\\Faculdade\\2 semestre\\VC\\project\\VC_project\\Shared\\training_inputs\\chessred2k_YOLO\\train\\images\\G091_IMG032.jpg: 28 duplicate labels removed\n",
      "\u001b[34m\u001b[1mtrain: \u001b[0mC:\\Users\\Cristiano\\Desktop\\Faculdade\\2 semestre\\VC\\project\\VC_project\\Shared\\training_inputs\\chessred2k_YOLO\\train\\images\\G091_IMG033.jpg: 28 duplicate labels removed\n",
      "\u001b[34m\u001b[1mtrain: \u001b[0mC:\\Users\\Cristiano\\Desktop\\Faculdade\\2 semestre\\VC\\project\\VC_project\\Shared\\training_inputs\\chessred2k_YOLO\\train\\images\\G091_IMG034.jpg: 28 duplicate labels removed\n",
      "\u001b[34m\u001b[1mtrain: \u001b[0mC:\\Users\\Cristiano\\Desktop\\Faculdade\\2 semestre\\VC\\project\\VC_project\\Shared\\training_inputs\\chessred2k_YOLO\\train\\images\\G091_IMG035.jpg: 27 duplicate labels removed\n",
      "\u001b[34m\u001b[1mtrain: \u001b[0mC:\\Users\\Cristiano\\Desktop\\Faculdade\\2 semestre\\VC\\project\\VC_project\\Shared\\training_inputs\\chessred2k_YOLO\\train\\images\\G091_IMG036.jpg: 27 duplicate labels removed\n",
      "\u001b[34m\u001b[1mtrain: \u001b[0mC:\\Users\\Cristiano\\Desktop\\Faculdade\\2 semestre\\VC\\project\\VC_project\\Shared\\training_inputs\\chessred2k_YOLO\\train\\images\\G091_IMG037.jpg: 27 duplicate labels removed\n",
      "\u001b[34m\u001b[1mtrain: \u001b[0mC:\\Users\\Cristiano\\Desktop\\Faculdade\\2 semestre\\VC\\project\\VC_project\\Shared\\training_inputs\\chessred2k_YOLO\\train\\images\\G091_IMG038.jpg: 26 duplicate labels removed\n",
      "\u001b[34m\u001b[1mtrain: \u001b[0mC:\\Users\\Cristiano\\Desktop\\Faculdade\\2 semestre\\VC\\project\\VC_project\\Shared\\training_inputs\\chessred2k_YOLO\\train\\images\\G091_IMG039.jpg: 26 duplicate labels removed\n",
      "\u001b[34m\u001b[1mtrain: \u001b[0mC:\\Users\\Cristiano\\Desktop\\Faculdade\\2 semestre\\VC\\project\\VC_project\\Shared\\training_inputs\\chessred2k_YOLO\\train\\images\\G091_IMG040.jpg: 25 duplicate labels removed\n",
      "\u001b[34m\u001b[1mtrain: \u001b[0mC:\\Users\\Cristiano\\Desktop\\Faculdade\\2 semestre\\VC\\project\\VC_project\\Shared\\training_inputs\\chessred2k_YOLO\\train\\images\\G091_IMG041.jpg: 25 duplicate labels removed\n",
      "\u001b[34m\u001b[1mtrain: \u001b[0mC:\\Users\\Cristiano\\Desktop\\Faculdade\\2 semestre\\VC\\project\\VC_project\\Shared\\training_inputs\\chessred2k_YOLO\\train\\images\\G091_IMG042.jpg: 25 duplicate labels removed\n",
      "\u001b[34m\u001b[1mtrain: \u001b[0mC:\\Users\\Cristiano\\Desktop\\Faculdade\\2 semestre\\VC\\project\\VC_project\\Shared\\training_inputs\\chessred2k_YOLO\\train\\images\\G091_IMG043.jpg: 25 duplicate labels removed\n",
      "\u001b[34m\u001b[1mtrain: \u001b[0mC:\\Users\\Cristiano\\Desktop\\Faculdade\\2 semestre\\VC\\project\\VC_project\\Shared\\training_inputs\\chessred2k_YOLO\\train\\images\\G091_IMG044.jpg: 25 duplicate labels removed\n",
      "\u001b[34m\u001b[1mtrain: \u001b[0mC:\\Users\\Cristiano\\Desktop\\Faculdade\\2 semestre\\VC\\project\\VC_project\\Shared\\training_inputs\\chessred2k_YOLO\\train\\images\\G091_IMG045.jpg: 25 duplicate labels removed\n",
      "\u001b[34m\u001b[1mtrain: \u001b[0mC:\\Users\\Cristiano\\Desktop\\Faculdade\\2 semestre\\VC\\project\\VC_project\\Shared\\training_inputs\\chessred2k_YOLO\\train\\images\\G091_IMG046.jpg: 24 duplicate labels removed\n",
      "\u001b[34m\u001b[1mtrain: \u001b[0mC:\\Users\\Cristiano\\Desktop\\Faculdade\\2 semestre\\VC\\project\\VC_project\\Shared\\training_inputs\\chessred2k_YOLO\\train\\images\\G091_IMG047.jpg: 23 duplicate labels removed\n",
      "\u001b[34m\u001b[1mtrain: \u001b[0mC:\\Users\\Cristiano\\Desktop\\Faculdade\\2 semestre\\VC\\project\\VC_project\\Shared\\training_inputs\\chessred2k_YOLO\\train\\images\\G091_IMG048.jpg: 23 duplicate labels removed\n",
      "\u001b[34m\u001b[1mtrain: \u001b[0mC:\\Users\\Cristiano\\Desktop\\Faculdade\\2 semestre\\VC\\project\\VC_project\\Shared\\training_inputs\\chessred2k_YOLO\\train\\images\\G091_IMG049.jpg: 23 duplicate labels removed\n",
      "\u001b[34m\u001b[1mtrain: \u001b[0mC:\\Users\\Cristiano\\Desktop\\Faculdade\\2 semestre\\VC\\project\\VC_project\\Shared\\training_inputs\\chessred2k_YOLO\\train\\images\\G091_IMG050.jpg: 22 duplicate labels removed\n",
      "\u001b[34m\u001b[1mtrain: \u001b[0mC:\\Users\\Cristiano\\Desktop\\Faculdade\\2 semestre\\VC\\project\\VC_project\\Shared\\training_inputs\\chessred2k_YOLO\\train\\images\\G091_IMG051.jpg: 21 duplicate labels removed\n",
      "\u001b[34m\u001b[1mtrain: \u001b[0mC:\\Users\\Cristiano\\Desktop\\Faculdade\\2 semestre\\VC\\project\\VC_project\\Shared\\training_inputs\\chessred2k_YOLO\\train\\images\\G091_IMG052.jpg: 21 duplicate labels removed\n",
      "\u001b[34m\u001b[1mtrain: \u001b[0mC:\\Users\\Cristiano\\Desktop\\Faculdade\\2 semestre\\VC\\project\\VC_project\\Shared\\training_inputs\\chessred2k_YOLO\\train\\images\\G091_IMG053.jpg: 20 duplicate labels removed\n",
      "\u001b[34m\u001b[1mtrain: \u001b[0mC:\\Users\\Cristiano\\Desktop\\Faculdade\\2 semestre\\VC\\project\\VC_project\\Shared\\training_inputs\\chessred2k_YOLO\\train\\images\\G091_IMG054.jpg: 20 duplicate labels removed\n",
      "\u001b[34m\u001b[1mtrain: \u001b[0mC:\\Users\\Cristiano\\Desktop\\Faculdade\\2 semestre\\VC\\project\\VC_project\\Shared\\training_inputs\\chessred2k_YOLO\\train\\images\\G091_IMG055.jpg: 20 duplicate labels removed\n",
      "\u001b[34m\u001b[1mtrain: \u001b[0mC:\\Users\\Cristiano\\Desktop\\Faculdade\\2 semestre\\VC\\project\\VC_project\\Shared\\training_inputs\\chessred2k_YOLO\\train\\images\\G091_IMG056.jpg: 20 duplicate labels removed\n",
      "\u001b[34m\u001b[1mtrain: \u001b[0mC:\\Users\\Cristiano\\Desktop\\Faculdade\\2 semestre\\VC\\project\\VC_project\\Shared\\training_inputs\\chessred2k_YOLO\\train\\images\\G091_IMG057.jpg: 20 duplicate labels removed\n",
      "\u001b[34m\u001b[1mtrain: \u001b[0mC:\\Users\\Cristiano\\Desktop\\Faculdade\\2 semestre\\VC\\project\\VC_project\\Shared\\training_inputs\\chessred2k_YOLO\\train\\images\\G091_IMG058.jpg: 19 duplicate labels removed\n",
      "\u001b[34m\u001b[1mtrain: \u001b[0mC:\\Users\\Cristiano\\Desktop\\Faculdade\\2 semestre\\VC\\project\\VC_project\\Shared\\training_inputs\\chessred2k_YOLO\\train\\images\\G091_IMG059.jpg: 19 duplicate labels removed\n",
      "\u001b[34m\u001b[1mtrain: \u001b[0mC:\\Users\\Cristiano\\Desktop\\Faculdade\\2 semestre\\VC\\project\\VC_project\\Shared\\training_inputs\\chessred2k_YOLO\\train\\images\\G091_IMG060.jpg: 19 duplicate labels removed\n",
      "\u001b[34m\u001b[1mtrain: \u001b[0mC:\\Users\\Cristiano\\Desktop\\Faculdade\\2 semestre\\VC\\project\\VC_project\\Shared\\training_inputs\\chessred2k_YOLO\\train\\images\\G091_IMG061.jpg: 19 duplicate labels removed\n",
      "\u001b[34m\u001b[1mtrain: \u001b[0mC:\\Users\\Cristiano\\Desktop\\Faculdade\\2 semestre\\VC\\project\\VC_project\\Shared\\training_inputs\\chessred2k_YOLO\\train\\images\\G091_IMG062.jpg: 19 duplicate labels removed\n",
      "\u001b[34m\u001b[1mtrain: \u001b[0mC:\\Users\\Cristiano\\Desktop\\Faculdade\\2 semestre\\VC\\project\\VC_project\\Shared\\training_inputs\\chessred2k_YOLO\\train\\images\\G091_IMG063.jpg: 19 duplicate labels removed\n",
      "\u001b[34m\u001b[1mtrain: \u001b[0mC:\\Users\\Cristiano\\Desktop\\Faculdade\\2 semestre\\VC\\project\\VC_project\\Shared\\training_inputs\\chessred2k_YOLO\\train\\images\\G091_IMG064.jpg: 19 duplicate labels removed\n",
      "\u001b[34m\u001b[1mtrain: \u001b[0mC:\\Users\\Cristiano\\Desktop\\Faculdade\\2 semestre\\VC\\project\\VC_project\\Shared\\training_inputs\\chessred2k_YOLO\\train\\images\\G091_IMG065.jpg: 19 duplicate labels removed\n",
      "\u001b[34m\u001b[1mtrain: \u001b[0mC:\\Users\\Cristiano\\Desktop\\Faculdade\\2 semestre\\VC\\project\\VC_project\\Shared\\training_inputs\\chessred2k_YOLO\\train\\images\\G091_IMG066.jpg: 19 duplicate labels removed\n",
      "\u001b[34m\u001b[1mtrain: \u001b[0mC:\\Users\\Cristiano\\Desktop\\Faculdade\\2 semestre\\VC\\project\\VC_project\\Shared\\training_inputs\\chessred2k_YOLO\\train\\images\\G091_IMG067.jpg: 19 duplicate labels removed\n",
      "\u001b[34m\u001b[1mtrain: \u001b[0mC:\\Users\\Cristiano\\Desktop\\Faculdade\\2 semestre\\VC\\project\\VC_project\\Shared\\training_inputs\\chessred2k_YOLO\\train\\images\\G091_IMG068.jpg: 19 duplicate labels removed\n",
      "\u001b[34m\u001b[1mtrain: \u001b[0mC:\\Users\\Cristiano\\Desktop\\Faculdade\\2 semestre\\VC\\project\\VC_project\\Shared\\training_inputs\\chessred2k_YOLO\\train\\images\\G091_IMG069.jpg: 19 duplicate labels removed\n",
      "\u001b[34m\u001b[1mtrain: \u001b[0mC:\\Users\\Cristiano\\Desktop\\Faculdade\\2 semestre\\VC\\project\\VC_project\\Shared\\training_inputs\\chessred2k_YOLO\\train\\images\\G091_IMG070.jpg: 19 duplicate labels removed\n",
      "\u001b[34m\u001b[1mtrain: \u001b[0mC:\\Users\\Cristiano\\Desktop\\Faculdade\\2 semestre\\VC\\project\\VC_project\\Shared\\training_inputs\\chessred2k_YOLO\\train\\images\\G091_IMG071.jpg: 19 duplicate labels removed\n",
      "\u001b[34m\u001b[1mtrain: \u001b[0mC:\\Users\\Cristiano\\Desktop\\Faculdade\\2 semestre\\VC\\project\\VC_project\\Shared\\training_inputs\\chessred2k_YOLO\\train\\images\\G091_IMG072.jpg: 19 duplicate labels removed\n",
      "\u001b[34m\u001b[1mtrain: \u001b[0mC:\\Users\\Cristiano\\Desktop\\Faculdade\\2 semestre\\VC\\project\\VC_project\\Shared\\training_inputs\\chessred2k_YOLO\\train\\images\\G091_IMG073.jpg: 19 duplicate labels removed\n",
      "\u001b[34m\u001b[1mtrain: \u001b[0mC:\\Users\\Cristiano\\Desktop\\Faculdade\\2 semestre\\VC\\project\\VC_project\\Shared\\training_inputs\\chessred2k_YOLO\\train\\images\\G091_IMG074.jpg: 18 duplicate labels removed\n",
      "\u001b[34m\u001b[1mtrain: \u001b[0mC:\\Users\\Cristiano\\Desktop\\Faculdade\\2 semestre\\VC\\project\\VC_project\\Shared\\training_inputs\\chessred2k_YOLO\\train\\images\\G091_IMG075.jpg: 17 duplicate labels removed\n",
      "\u001b[34m\u001b[1mtrain: \u001b[0mC:\\Users\\Cristiano\\Desktop\\Faculdade\\2 semestre\\VC\\project\\VC_project\\Shared\\training_inputs\\chessred2k_YOLO\\train\\images\\G091_IMG076.jpg: 17 duplicate labels removed\n",
      "\u001b[34m\u001b[1mtrain: \u001b[0mC:\\Users\\Cristiano\\Desktop\\Faculdade\\2 semestre\\VC\\project\\VC_project\\Shared\\training_inputs\\chessred2k_YOLO\\train\\images\\G091_IMG077.jpg: 17 duplicate labels removed\n",
      "\u001b[34m\u001b[1mtrain: \u001b[0mC:\\Users\\Cristiano\\Desktop\\Faculdade\\2 semestre\\VC\\project\\VC_project\\Shared\\training_inputs\\chessred2k_YOLO\\train\\images\\G091_IMG078.jpg: 17 duplicate labels removed\n",
      "\u001b[34m\u001b[1mtrain: \u001b[0mC:\\Users\\Cristiano\\Desktop\\Faculdade\\2 semestre\\VC\\project\\VC_project\\Shared\\training_inputs\\chessred2k_YOLO\\train\\images\\G091_IMG079.jpg: 17 duplicate labels removed\n",
      "\u001b[34m\u001b[1mtrain: \u001b[0mC:\\Users\\Cristiano\\Desktop\\Faculdade\\2 semestre\\VC\\project\\VC_project\\Shared\\training_inputs\\chessred2k_YOLO\\train\\images\\G091_IMG080.jpg: 17 duplicate labels removed\n",
      "\u001b[34m\u001b[1mtrain: \u001b[0mC:\\Users\\Cristiano\\Desktop\\Faculdade\\2 semestre\\VC\\project\\VC_project\\Shared\\training_inputs\\chessred2k_YOLO\\train\\images\\G091_IMG081.jpg: 17 duplicate labels removed\n",
      "\u001b[34m\u001b[1mtrain: \u001b[0mC:\\Users\\Cristiano\\Desktop\\Faculdade\\2 semestre\\VC\\project\\VC_project\\Shared\\training_inputs\\chessred2k_YOLO\\train\\images\\G091_IMG082.jpg: 17 duplicate labels removed\n",
      "\u001b[34m\u001b[1mtrain: \u001b[0mC:\\Users\\Cristiano\\Desktop\\Faculdade\\2 semestre\\VC\\project\\VC_project\\Shared\\training_inputs\\chessred2k_YOLO\\train\\images\\G091_IMG083.jpg: 16 duplicate labels removed\n",
      "\u001b[34m\u001b[1mtrain: \u001b[0mC:\\Users\\Cristiano\\Desktop\\Faculdade\\2 semestre\\VC\\project\\VC_project\\Shared\\training_inputs\\chessred2k_YOLO\\train\\images\\G091_IMG084.jpg: 16 duplicate labels removed\n",
      "\u001b[34m\u001b[1mtrain: \u001b[0mC:\\Users\\Cristiano\\Desktop\\Faculdade\\2 semestre\\VC\\project\\VC_project\\Shared\\training_inputs\\chessred2k_YOLO\\train\\images\\G091_IMG085.jpg: 16 duplicate labels removed\n",
      "\u001b[34m\u001b[1mtrain: \u001b[0mC:\\Users\\Cristiano\\Desktop\\Faculdade\\2 semestre\\VC\\project\\VC_project\\Shared\\training_inputs\\chessred2k_YOLO\\train\\images\\G091_IMG086.jpg: 16 duplicate labels removed\n",
      "\u001b[34m\u001b[1mtrain: \u001b[0mC:\\Users\\Cristiano\\Desktop\\Faculdade\\2 semestre\\VC\\project\\VC_project\\Shared\\training_inputs\\chessred2k_YOLO\\train\\images\\G091_IMG087.jpg: 15 duplicate labels removed\n",
      "\u001b[34m\u001b[1mtrain: \u001b[0mC:\\Users\\Cristiano\\Desktop\\Faculdade\\2 semestre\\VC\\project\\VC_project\\Shared\\training_inputs\\chessred2k_YOLO\\train\\images\\G091_IMG088.jpg: 14 duplicate labels removed\n",
      "\u001b[34m\u001b[1mtrain: \u001b[0mC:\\Users\\Cristiano\\Desktop\\Faculdade\\2 semestre\\VC\\project\\VC_project\\Shared\\training_inputs\\chessred2k_YOLO\\train\\images\\G091_IMG089.jpg: 13 duplicate labels removed\n",
      "\u001b[34m\u001b[1mtrain: \u001b[0mC:\\Users\\Cristiano\\Desktop\\Faculdade\\2 semestre\\VC\\project\\VC_project\\Shared\\training_inputs\\chessred2k_YOLO\\train\\images\\G091_IMG090.jpg: 13 duplicate labels removed\n",
      "\u001b[34m\u001b[1mtrain: \u001b[0mC:\\Users\\Cristiano\\Desktop\\Faculdade\\2 semestre\\VC\\project\\VC_project\\Shared\\training_inputs\\chessred2k_YOLO\\train\\images\\G091_IMG091.jpg: 13 duplicate labels removed\n",
      "\u001b[34m\u001b[1mtrain: \u001b[0mC:\\Users\\Cristiano\\Desktop\\Faculdade\\2 semestre\\VC\\project\\VC_project\\Shared\\training_inputs\\chessred2k_YOLO\\train\\images\\G091_IMG092.jpg: 13 duplicate labels removed\n",
      "\u001b[34m\u001b[1mtrain: \u001b[0mC:\\Users\\Cristiano\\Desktop\\Faculdade\\2 semestre\\VC\\project\\VC_project\\Shared\\training_inputs\\chessred2k_YOLO\\train\\images\\G091_IMG093.jpg: 13 duplicate labels removed\n",
      "\u001b[34m\u001b[1mtrain: \u001b[0mC:\\Users\\Cristiano\\Desktop\\Faculdade\\2 semestre\\VC\\project\\VC_project\\Shared\\training_inputs\\chessred2k_YOLO\\train\\images\\G091_IMG094.jpg: 13 duplicate labels removed\n",
      "\u001b[34m\u001b[1mtrain: \u001b[0mC:\\Users\\Cristiano\\Desktop\\Faculdade\\2 semestre\\VC\\project\\VC_project\\Shared\\training_inputs\\chessred2k_YOLO\\train\\images\\G091_IMG095.jpg: 13 duplicate labels removed\n",
      "\u001b[34m\u001b[1mtrain: \u001b[0mC:\\Users\\Cristiano\\Desktop\\Faculdade\\2 semestre\\VC\\project\\VC_project\\Shared\\training_inputs\\chessred2k_YOLO\\train\\images\\G091_IMG096.jpg: 13 duplicate labels removed\n",
      "\u001b[34m\u001b[1mtrain: \u001b[0mC:\\Users\\Cristiano\\Desktop\\Faculdade\\2 semestre\\VC\\project\\VC_project\\Shared\\training_inputs\\chessred2k_YOLO\\train\\images\\G091_IMG097.jpg: 13 duplicate labels removed\n",
      "\u001b[34m\u001b[1mtrain: \u001b[0mC:\\Users\\Cristiano\\Desktop\\Faculdade\\2 semestre\\VC\\project\\VC_project\\Shared\\training_inputs\\chessred2k_YOLO\\train\\images\\G091_IMG098.jpg: 13 duplicate labels removed\n",
      "\u001b[34m\u001b[1mtrain: \u001b[0mC:\\Users\\Cristiano\\Desktop\\Faculdade\\2 semestre\\VC\\project\\VC_project\\Shared\\training_inputs\\chessred2k_YOLO\\train\\images\\G091_IMG099.jpg: 12 duplicate labels removed\n",
      "\u001b[34m\u001b[1mtrain: \u001b[0mC:\\Users\\Cristiano\\Desktop\\Faculdade\\2 semestre\\VC\\project\\VC_project\\Shared\\training_inputs\\chessred2k_YOLO\\train\\images\\G091_IMG100.jpg: 12 duplicate labels removed\n",
      "\u001b[34m\u001b[1mtrain: \u001b[0mC:\\Users\\Cristiano\\Desktop\\Faculdade\\2 semestre\\VC\\project\\VC_project\\Shared\\training_inputs\\chessred2k_YOLO\\train\\images\\G091_IMG101.jpg: 12 duplicate labels removed\n",
      "\u001b[34m\u001b[1mtrain: \u001b[0mC:\\Users\\Cristiano\\Desktop\\Faculdade\\2 semestre\\VC\\project\\VC_project\\Shared\\training_inputs\\chessred2k_YOLO\\train\\images\\G091_IMG102.jpg: 12 duplicate labels removed\n",
      "\u001b[34m\u001b[1mtrain: \u001b[0mC:\\Users\\Cristiano\\Desktop\\Faculdade\\2 semestre\\VC\\project\\VC_project\\Shared\\training_inputs\\chessred2k_YOLO\\train\\images\\G099_IMG000.jpg: 32 duplicate labels removed\n",
      "\u001b[34m\u001b[1mtrain: \u001b[0mC:\\Users\\Cristiano\\Desktop\\Faculdade\\2 semestre\\VC\\project\\VC_project\\Shared\\training_inputs\\chessred2k_YOLO\\train\\images\\G099_IMG001.jpg: 32 duplicate labels removed\n",
      "\u001b[34m\u001b[1mtrain: \u001b[0mC:\\Users\\Cristiano\\Desktop\\Faculdade\\2 semestre\\VC\\project\\VC_project\\Shared\\training_inputs\\chessred2k_YOLO\\train\\images\\G099_IMG002.jpg: 32 duplicate labels removed\n",
      "\u001b[34m\u001b[1mtrain: \u001b[0mC:\\Users\\Cristiano\\Desktop\\Faculdade\\2 semestre\\VC\\project\\VC_project\\Shared\\training_inputs\\chessred2k_YOLO\\train\\images\\G099_IMG003.jpg: 32 duplicate labels removed\n",
      "\u001b[34m\u001b[1mtrain: \u001b[0mC:\\Users\\Cristiano\\Desktop\\Faculdade\\2 semestre\\VC\\project\\VC_project\\Shared\\training_inputs\\chessred2k_YOLO\\train\\images\\G099_IMG004.jpg: 32 duplicate labels removed\n",
      "\u001b[34m\u001b[1mtrain: \u001b[0mC:\\Users\\Cristiano\\Desktop\\Faculdade\\2 semestre\\VC\\project\\VC_project\\Shared\\training_inputs\\chessred2k_YOLO\\train\\images\\G099_IMG005.jpg: 32 duplicate labels removed\n",
      "\u001b[34m\u001b[1mtrain: \u001b[0mC:\\Users\\Cristiano\\Desktop\\Faculdade\\2 semestre\\VC\\project\\VC_project\\Shared\\training_inputs\\chessred2k_YOLO\\train\\images\\G099_IMG006.jpg: 32 duplicate labels removed\n",
      "\u001b[34m\u001b[1mtrain: \u001b[0mC:\\Users\\Cristiano\\Desktop\\Faculdade\\2 semestre\\VC\\project\\VC_project\\Shared\\training_inputs\\chessred2k_YOLO\\train\\images\\G099_IMG007.jpg: 32 duplicate labels removed\n",
      "\u001b[34m\u001b[1mtrain: \u001b[0mC:\\Users\\Cristiano\\Desktop\\Faculdade\\2 semestre\\VC\\project\\VC_project\\Shared\\training_inputs\\chessred2k_YOLO\\train\\images\\G099_IMG008.jpg: 32 duplicate labels removed\n",
      "\u001b[34m\u001b[1mtrain: \u001b[0mC:\\Users\\Cristiano\\Desktop\\Faculdade\\2 semestre\\VC\\project\\VC_project\\Shared\\training_inputs\\chessred2k_YOLO\\train\\images\\G099_IMG009.jpg: 32 duplicate labels removed\n",
      "\u001b[34m\u001b[1mtrain: \u001b[0mC:\\Users\\Cristiano\\Desktop\\Faculdade\\2 semestre\\VC\\project\\VC_project\\Shared\\training_inputs\\chessred2k_YOLO\\train\\images\\G099_IMG010.jpg: 32 duplicate labels removed\n",
      "\u001b[34m\u001b[1mtrain: \u001b[0mC:\\Users\\Cristiano\\Desktop\\Faculdade\\2 semestre\\VC\\project\\VC_project\\Shared\\training_inputs\\chessred2k_YOLO\\train\\images\\G099_IMG011.jpg: 32 duplicate labels removed\n",
      "\u001b[34m\u001b[1mtrain: \u001b[0mC:\\Users\\Cristiano\\Desktop\\Faculdade\\2 semestre\\VC\\project\\VC_project\\Shared\\training_inputs\\chessred2k_YOLO\\train\\images\\G099_IMG012.jpg: 32 duplicate labels removed\n",
      "\u001b[34m\u001b[1mtrain: \u001b[0mC:\\Users\\Cristiano\\Desktop\\Faculdade\\2 semestre\\VC\\project\\VC_project\\Shared\\training_inputs\\chessred2k_YOLO\\train\\images\\G099_IMG013.jpg: 32 duplicate labels removed\n",
      "\u001b[34m\u001b[1mtrain: \u001b[0mC:\\Users\\Cristiano\\Desktop\\Faculdade\\2 semestre\\VC\\project\\VC_project\\Shared\\training_inputs\\chessred2k_YOLO\\train\\images\\G099_IMG014.jpg: 32 duplicate labels removed\n",
      "\u001b[34m\u001b[1mtrain: \u001b[0mC:\\Users\\Cristiano\\Desktop\\Faculdade\\2 semestre\\VC\\project\\VC_project\\Shared\\training_inputs\\chessred2k_YOLO\\train\\images\\G099_IMG015.jpg: 32 duplicate labels removed\n",
      "\u001b[34m\u001b[1mtrain: \u001b[0mC:\\Users\\Cristiano\\Desktop\\Faculdade\\2 semestre\\VC\\project\\VC_project\\Shared\\training_inputs\\chessred2k_YOLO\\train\\images\\G099_IMG016.jpg: 32 duplicate labels removed\n",
      "\u001b[34m\u001b[1mtrain: \u001b[0mC:\\Users\\Cristiano\\Desktop\\Faculdade\\2 semestre\\VC\\project\\VC_project\\Shared\\training_inputs\\chessred2k_YOLO\\train\\images\\G099_IMG017.jpg: 32 duplicate labels removed\n",
      "\u001b[34m\u001b[1mtrain: \u001b[0mC:\\Users\\Cristiano\\Desktop\\Faculdade\\2 semestre\\VC\\project\\VC_project\\Shared\\training_inputs\\chessred2k_YOLO\\train\\images\\G099_IMG018.jpg: 32 duplicate labels removed\n",
      "\u001b[34m\u001b[1mtrain: \u001b[0mC:\\Users\\Cristiano\\Desktop\\Faculdade\\2 semestre\\VC\\project\\VC_project\\Shared\\training_inputs\\chessred2k_YOLO\\train\\images\\G099_IMG019.jpg: 32 duplicate labels removed\n",
      "\u001b[34m\u001b[1mtrain: \u001b[0mC:\\Users\\Cristiano\\Desktop\\Faculdade\\2 semestre\\VC\\project\\VC_project\\Shared\\training_inputs\\chessred2k_YOLO\\train\\images\\G099_IMG020.jpg: 31 duplicate labels removed\n",
      "\u001b[34m\u001b[1mtrain: \u001b[0mC:\\Users\\Cristiano\\Desktop\\Faculdade\\2 semestre\\VC\\project\\VC_project\\Shared\\training_inputs\\chessred2k_YOLO\\train\\images\\G099_IMG021.jpg: 30 duplicate labels removed\n",
      "\u001b[34m\u001b[1mtrain: \u001b[0mC:\\Users\\Cristiano\\Desktop\\Faculdade\\2 semestre\\VC\\project\\VC_project\\Shared\\training_inputs\\chessred2k_YOLO\\train\\images\\G099_IMG022.jpg: 30 duplicate labels removed\n",
      "\u001b[34m\u001b[1mtrain: \u001b[0mC:\\Users\\Cristiano\\Desktop\\Faculdade\\2 semestre\\VC\\project\\VC_project\\Shared\\training_inputs\\chessred2k_YOLO\\train\\images\\G099_IMG023.jpg: 30 duplicate labels removed\n",
      "\u001b[34m\u001b[1mtrain: \u001b[0mC:\\Users\\Cristiano\\Desktop\\Faculdade\\2 semestre\\VC\\project\\VC_project\\Shared\\training_inputs\\chessred2k_YOLO\\train\\images\\G099_IMG024.jpg: 30 duplicate labels removed\n",
      "\u001b[34m\u001b[1mtrain: \u001b[0mC:\\Users\\Cristiano\\Desktop\\Faculdade\\2 semestre\\VC\\project\\VC_project\\Shared\\training_inputs\\chessred2k_YOLO\\train\\images\\G099_IMG025.jpg: 30 duplicate labels removed\n",
      "\u001b[34m\u001b[1mtrain: \u001b[0mC:\\Users\\Cristiano\\Desktop\\Faculdade\\2 semestre\\VC\\project\\VC_project\\Shared\\training_inputs\\chessred2k_YOLO\\train\\images\\G099_IMG026.jpg: 30 duplicate labels removed\n",
      "\u001b[34m\u001b[1mtrain: \u001b[0mC:\\Users\\Cristiano\\Desktop\\Faculdade\\2 semestre\\VC\\project\\VC_project\\Shared\\training_inputs\\chessred2k_YOLO\\train\\images\\G099_IMG027.jpg: 30 duplicate labels removed\n",
      "\u001b[34m\u001b[1mtrain: \u001b[0mC:\\Users\\Cristiano\\Desktop\\Faculdade\\2 semestre\\VC\\project\\VC_project\\Shared\\training_inputs\\chessred2k_YOLO\\train\\images\\G099_IMG028.jpg: 30 duplicate labels removed\n",
      "\u001b[34m\u001b[1mtrain: \u001b[0mC:\\Users\\Cristiano\\Desktop\\Faculdade\\2 semestre\\VC\\project\\VC_project\\Shared\\training_inputs\\chessred2k_YOLO\\train\\images\\G099_IMG029.jpg: 30 duplicate labels removed\n",
      "\u001b[34m\u001b[1mtrain: \u001b[0mC:\\Users\\Cristiano\\Desktop\\Faculdade\\2 semestre\\VC\\project\\VC_project\\Shared\\training_inputs\\chessred2k_YOLO\\train\\images\\G099_IMG030.jpg: 30 duplicate labels removed\n",
      "\u001b[34m\u001b[1mtrain: \u001b[0mC:\\Users\\Cristiano\\Desktop\\Faculdade\\2 semestre\\VC\\project\\VC_project\\Shared\\training_inputs\\chessred2k_YOLO\\train\\images\\G099_IMG031.jpg: 29 duplicate labels removed\n",
      "\u001b[34m\u001b[1mtrain: \u001b[0mC:\\Users\\Cristiano\\Desktop\\Faculdade\\2 semestre\\VC\\project\\VC_project\\Shared\\training_inputs\\chessred2k_YOLO\\train\\images\\G099_IMG032.jpg: 28 duplicate labels removed\n",
      "\u001b[34m\u001b[1mtrain: \u001b[0mC:\\Users\\Cristiano\\Desktop\\Faculdade\\2 semestre\\VC\\project\\VC_project\\Shared\\training_inputs\\chessred2k_YOLO\\train\\images\\G099_IMG033.jpg: 28 duplicate labels removed\n",
      "\u001b[34m\u001b[1mtrain: \u001b[0mC:\\Users\\Cristiano\\Desktop\\Faculdade\\2 semestre\\VC\\project\\VC_project\\Shared\\training_inputs\\chessred2k_YOLO\\train\\images\\G099_IMG034.jpg: 28 duplicate labels removed\n",
      "\u001b[34m\u001b[1mtrain: \u001b[0mC:\\Users\\Cristiano\\Desktop\\Faculdade\\2 semestre\\VC\\project\\VC_project\\Shared\\training_inputs\\chessred2k_YOLO\\train\\images\\G099_IMG035.jpg: 28 duplicate labels removed\n",
      "\u001b[34m\u001b[1mtrain: \u001b[0mC:\\Users\\Cristiano\\Desktop\\Faculdade\\2 semestre\\VC\\project\\VC_project\\Shared\\training_inputs\\chessred2k_YOLO\\train\\images\\G099_IMG036.jpg: 28 duplicate labels removed\n",
      "\u001b[34m\u001b[1mtrain: \u001b[0mC:\\Users\\Cristiano\\Desktop\\Faculdade\\2 semestre\\VC\\project\\VC_project\\Shared\\training_inputs\\chessred2k_YOLO\\train\\images\\G099_IMG037.jpg: 28 duplicate labels removed\n",
      "\u001b[34m\u001b[1mtrain: \u001b[0mC:\\Users\\Cristiano\\Desktop\\Faculdade\\2 semestre\\VC\\project\\VC_project\\Shared\\training_inputs\\chessred2k_YOLO\\train\\images\\G099_IMG038.jpg: 28 duplicate labels removed\n",
      "\u001b[34m\u001b[1mtrain: \u001b[0mC:\\Users\\Cristiano\\Desktop\\Faculdade\\2 semestre\\VC\\project\\VC_project\\Shared\\training_inputs\\chessred2k_YOLO\\train\\images\\G099_IMG039.jpg: 27 duplicate labels removed\n",
      "\u001b[34m\u001b[1mtrain: \u001b[0mC:\\Users\\Cristiano\\Desktop\\Faculdade\\2 semestre\\VC\\project\\VC_project\\Shared\\training_inputs\\chessred2k_YOLO\\train\\images\\G099_IMG040.jpg: 26 duplicate labels removed\n",
      "\u001b[34m\u001b[1mtrain: \u001b[0mC:\\Users\\Cristiano\\Desktop\\Faculdade\\2 semestre\\VC\\project\\VC_project\\Shared\\training_inputs\\chessred2k_YOLO\\train\\images\\G099_IMG041.jpg: 26 duplicate labels removed\n",
      "\u001b[34m\u001b[1mtrain: \u001b[0mC:\\Users\\Cristiano\\Desktop\\Faculdade\\2 semestre\\VC\\project\\VC_project\\Shared\\training_inputs\\chessred2k_YOLO\\train\\images\\G099_IMG042.jpg: 26 duplicate labels removed\n",
      "\u001b[34m\u001b[1mtrain: \u001b[0mC:\\Users\\Cristiano\\Desktop\\Faculdade\\2 semestre\\VC\\project\\VC_project\\Shared\\training_inputs\\chessred2k_YOLO\\train\\images\\G099_IMG043.jpg: 26 duplicate labels removed\n",
      "\u001b[34m\u001b[1mtrain: \u001b[0mC:\\Users\\Cristiano\\Desktop\\Faculdade\\2 semestre\\VC\\project\\VC_project\\Shared\\training_inputs\\chessred2k_YOLO\\train\\images\\G099_IMG044.jpg: 26 duplicate labels removed\n",
      "\u001b[34m\u001b[1mtrain: \u001b[0mC:\\Users\\Cristiano\\Desktop\\Faculdade\\2 semestre\\VC\\project\\VC_project\\Shared\\training_inputs\\chessred2k_YOLO\\train\\images\\G099_IMG045.jpg: 26 duplicate labels removed\n",
      "\u001b[34m\u001b[1mtrain: \u001b[0mC:\\Users\\Cristiano\\Desktop\\Faculdade\\2 semestre\\VC\\project\\VC_project\\Shared\\training_inputs\\chessred2k_YOLO\\train\\images\\G099_IMG046.jpg: 26 duplicate labels removed\n",
      "\u001b[34m\u001b[1mtrain: \u001b[0mC:\\Users\\Cristiano\\Desktop\\Faculdade\\2 semestre\\VC\\project\\VC_project\\Shared\\training_inputs\\chessred2k_YOLO\\train\\images\\G099_IMG047.jpg: 26 duplicate labels removed\n",
      "\u001b[34m\u001b[1mtrain: \u001b[0mC:\\Users\\Cristiano\\Desktop\\Faculdade\\2 semestre\\VC\\project\\VC_project\\Shared\\training_inputs\\chessred2k_YOLO\\train\\images\\G099_IMG048.jpg: 26 duplicate labels removed\n",
      "\u001b[34m\u001b[1mtrain: \u001b[0mC:\\Users\\Cristiano\\Desktop\\Faculdade\\2 semestre\\VC\\project\\VC_project\\Shared\\training_inputs\\chessred2k_YOLO\\train\\images\\G099_IMG049.jpg: 26 duplicate labels removed\n",
      "\u001b[34m\u001b[1mtrain: \u001b[0mC:\\Users\\Cristiano\\Desktop\\Faculdade\\2 semestre\\VC\\project\\VC_project\\Shared\\training_inputs\\chessred2k_YOLO\\train\\images\\G099_IMG050.jpg: 25 duplicate labels removed\n",
      "\u001b[34m\u001b[1mtrain: \u001b[0mC:\\Users\\Cristiano\\Desktop\\Faculdade\\2 semestre\\VC\\project\\VC_project\\Shared\\training_inputs\\chessred2k_YOLO\\train\\images\\G099_IMG051.jpg: 24 duplicate labels removed\n",
      "\u001b[34m\u001b[1mtrain: \u001b[0mC:\\Users\\Cristiano\\Desktop\\Faculdade\\2 semestre\\VC\\project\\VC_project\\Shared\\training_inputs\\chessred2k_YOLO\\train\\images\\G099_IMG052.jpg: 23 duplicate labels removed\n",
      "\u001b[34m\u001b[1mtrain: \u001b[0mC:\\Users\\Cristiano\\Desktop\\Faculdade\\2 semestre\\VC\\project\\VC_project\\Shared\\training_inputs\\chessred2k_YOLO\\train\\images\\G099_IMG053.jpg: 23 duplicate labels removed\n",
      "\u001b[34m\u001b[1mtrain: \u001b[0mC:\\Users\\Cristiano\\Desktop\\Faculdade\\2 semestre\\VC\\project\\VC_project\\Shared\\training_inputs\\chessred2k_YOLO\\train\\images\\G099_IMG054.jpg: 23 duplicate labels removed\n",
      "\u001b[34m\u001b[1mtrain: \u001b[0mC:\\Users\\Cristiano\\Desktop\\Faculdade\\2 semestre\\VC\\project\\VC_project\\Shared\\training_inputs\\chessred2k_YOLO\\train\\images\\G099_IMG055.jpg: 23 duplicate labels removed\n",
      "\u001b[34m\u001b[1mtrain: \u001b[0mC:\\Users\\Cristiano\\Desktop\\Faculdade\\2 semestre\\VC\\project\\VC_project\\Shared\\training_inputs\\chessred2k_YOLO\\train\\images\\G099_IMG056.jpg: 23 duplicate labels removed\n",
      "\u001b[34m\u001b[1mtrain: \u001b[0mC:\\Users\\Cristiano\\Desktop\\Faculdade\\2 semestre\\VC\\project\\VC_project\\Shared\\training_inputs\\chessred2k_YOLO\\train\\images\\G099_IMG057.jpg: 22 duplicate labels removed\n",
      "\u001b[34m\u001b[1mtrain: \u001b[0mC:\\Users\\Cristiano\\Desktop\\Faculdade\\2 semestre\\VC\\project\\VC_project\\Shared\\training_inputs\\chessred2k_YOLO\\train\\images\\G099_IMG058.jpg: 22 duplicate labels removed\n",
      "\u001b[34m\u001b[1mtrain: \u001b[0mC:\\Users\\Cristiano\\Desktop\\Faculdade\\2 semestre\\VC\\project\\VC_project\\Shared\\training_inputs\\chessred2k_YOLO\\train\\images\\G099_IMG059.jpg: 22 duplicate labels removed\n",
      "\u001b[34m\u001b[1mtrain: \u001b[0mC:\\Users\\Cristiano\\Desktop\\Faculdade\\2 semestre\\VC\\project\\VC_project\\Shared\\training_inputs\\chessred2k_YOLO\\train\\images\\G099_IMG060.jpg: 21 duplicate labels removed\n",
      "\u001b[34m\u001b[1mtrain: \u001b[0mC:\\Users\\Cristiano\\Desktop\\Faculdade\\2 semestre\\VC\\project\\VC_project\\Shared\\training_inputs\\chessred2k_YOLO\\train\\images\\G099_IMG061.jpg: 20 duplicate labels removed\n",
      "\u001b[34m\u001b[1mtrain: \u001b[0mC:\\Users\\Cristiano\\Desktop\\Faculdade\\2 semestre\\VC\\project\\VC_project\\Shared\\training_inputs\\chessred2k_YOLO\\train\\images\\G099_IMG062.jpg: 20 duplicate labels removed\n",
      "\u001b[34m\u001b[1mtrain: \u001b[0mC:\\Users\\Cristiano\\Desktop\\Faculdade\\2 semestre\\VC\\project\\VC_project\\Shared\\training_inputs\\chessred2k_YOLO\\train\\images\\G099_IMG063.jpg: 20 duplicate labels removed\n",
      "\u001b[34m\u001b[1mtrain: \u001b[0mC:\\Users\\Cristiano\\Desktop\\Faculdade\\2 semestre\\VC\\project\\VC_project\\Shared\\training_inputs\\chessred2k_YOLO\\train\\images\\G099_IMG064.jpg: 20 duplicate labels removed\n",
      "\u001b[34m\u001b[1mtrain: \u001b[0mC:\\Users\\Cristiano\\Desktop\\Faculdade\\2 semestre\\VC\\project\\VC_project\\Shared\\training_inputs\\chessred2k_YOLO\\train\\images\\G099_IMG065.jpg: 19 duplicate labels removed\n",
      "\u001b[34m\u001b[1mtrain: \u001b[0mC:\\Users\\Cristiano\\Desktop\\Faculdade\\2 semestre\\VC\\project\\VC_project\\Shared\\training_inputs\\chessred2k_YOLO\\train\\images\\G099_IMG066.jpg: 19 duplicate labels removed\n",
      "\u001b[34m\u001b[1mtrain: \u001b[0mC:\\Users\\Cristiano\\Desktop\\Faculdade\\2 semestre\\VC\\project\\VC_project\\Shared\\training_inputs\\chessred2k_YOLO\\train\\images\\G099_IMG067.jpg: 18 duplicate labels removed\n",
      "\u001b[34m\u001b[1mtrain: \u001b[0mC:\\Users\\Cristiano\\Desktop\\Faculdade\\2 semestre\\VC\\project\\VC_project\\Shared\\training_inputs\\chessred2k_YOLO\\train\\images\\G099_IMG068.jpg: 18 duplicate labels removed\n",
      "\u001b[34m\u001b[1mtrain: \u001b[0mC:\\Users\\Cristiano\\Desktop\\Faculdade\\2 semestre\\VC\\project\\VC_project\\Shared\\training_inputs\\chessred2k_YOLO\\train\\images\\G099_IMG069.jpg: 18 duplicate labels removed\n",
      "\u001b[34m\u001b[1mtrain: \u001b[0mC:\\Users\\Cristiano\\Desktop\\Faculdade\\2 semestre\\VC\\project\\VC_project\\Shared\\training_inputs\\chessred2k_YOLO\\train\\images\\G099_IMG070.jpg: 18 duplicate labels removed\n",
      "\u001b[34m\u001b[1mtrain: \u001b[0mC:\\Users\\Cristiano\\Desktop\\Faculdade\\2 semestre\\VC\\project\\VC_project\\Shared\\training_inputs\\chessred2k_YOLO\\train\\images\\G099_IMG071.jpg: 18 duplicate labels removed\n",
      "\u001b[34m\u001b[1mtrain: \u001b[0mC:\\Users\\Cristiano\\Desktop\\Faculdade\\2 semestre\\VC\\project\\VC_project\\Shared\\training_inputs\\chessred2k_YOLO\\train\\images\\G099_IMG072.jpg: 17 duplicate labels removed\n",
      "\u001b[34m\u001b[1mtrain: \u001b[0mC:\\Users\\Cristiano\\Desktop\\Faculdade\\2 semestre\\VC\\project\\VC_project\\Shared\\training_inputs\\chessred2k_YOLO\\train\\images\\G099_IMG073.jpg: 16 duplicate labels removed\n",
      "\u001b[34m\u001b[1mtrain: \u001b[0mC:\\Users\\Cristiano\\Desktop\\Faculdade\\2 semestre\\VC\\project\\VC_project\\Shared\\training_inputs\\chessred2k_YOLO\\train\\images\\G099_IMG074.jpg: 15 duplicate labels removed\n",
      "\u001b[34m\u001b[1mtrain: \u001b[0mC:\\Users\\Cristiano\\Desktop\\Faculdade\\2 semestre\\VC\\project\\VC_project\\Shared\\training_inputs\\chessred2k_YOLO\\train\\images\\G099_IMG075.jpg: 14 duplicate labels removed\n",
      "\u001b[34m\u001b[1mtrain: \u001b[0mC:\\Users\\Cristiano\\Desktop\\Faculdade\\2 semestre\\VC\\project\\VC_project\\Shared\\training_inputs\\chessred2k_YOLO\\train\\images\\G099_IMG076.jpg: 14 duplicate labels removed\n",
      "\u001b[34m\u001b[1mtrain: \u001b[0mC:\\Users\\Cristiano\\Desktop\\Faculdade\\2 semestre\\VC\\project\\VC_project\\Shared\\training_inputs\\chessred2k_YOLO\\train\\images\\G099_IMG077.jpg: 14 duplicate labels removed\n",
      "\u001b[34m\u001b[1mtrain: \u001b[0mC:\\Users\\Cristiano\\Desktop\\Faculdade\\2 semestre\\VC\\project\\VC_project\\Shared\\training_inputs\\chessred2k_YOLO\\train\\images\\G099_IMG078.jpg: 14 duplicate labels removed\n",
      "\u001b[34m\u001b[1mtrain: \u001b[0mC:\\Users\\Cristiano\\Desktop\\Faculdade\\2 semestre\\VC\\project\\VC_project\\Shared\\training_inputs\\chessred2k_YOLO\\train\\images\\G099_IMG079.jpg: 14 duplicate labels removed\n",
      "\u001b[34m\u001b[1mtrain: \u001b[0mC:\\Users\\Cristiano\\Desktop\\Faculdade\\2 semestre\\VC\\project\\VC_project\\Shared\\training_inputs\\chessred2k_YOLO\\train\\images\\G099_IMG080.jpg: 14 duplicate labels removed\n",
      "\u001b[34m\u001b[1mtrain: \u001b[0mC:\\Users\\Cristiano\\Desktop\\Faculdade\\2 semestre\\VC\\project\\VC_project\\Shared\\training_inputs\\chessred2k_YOLO\\train\\images\\G099_IMG081.jpg: 14 duplicate labels removed\n",
      "\u001b[34m\u001b[1mtrain: \u001b[0mC:\\Users\\Cristiano\\Desktop\\Faculdade\\2 semestre\\VC\\project\\VC_project\\Shared\\training_inputs\\chessred2k_YOLO\\train\\images\\G099_IMG082.jpg: 14 duplicate labels removed\n",
      "\u001b[34m\u001b[1mtrain: \u001b[0mC:\\Users\\Cristiano\\Desktop\\Faculdade\\2 semestre\\VC\\project\\VC_project\\Shared\\training_inputs\\chessred2k_YOLO\\train\\images\\G099_IMG083.jpg: 14 duplicate labels removed\n",
      "\u001b[34m\u001b[1mtrain: \u001b[0mC:\\Users\\Cristiano\\Desktop\\Faculdade\\2 semestre\\VC\\project\\VC_project\\Shared\\training_inputs\\chessred2k_YOLO\\train\\images\\G099_IMG084.jpg: 14 duplicate labels removed\n",
      "\u001b[34m\u001b[1mtrain: \u001b[0mC:\\Users\\Cristiano\\Desktop\\Faculdade\\2 semestre\\VC\\project\\VC_project\\Shared\\training_inputs\\chessred2k_YOLO\\train\\images\\G099_IMG085.jpg: 14 duplicate labels removed\n",
      "\u001b[34m\u001b[1mtrain: \u001b[0mC:\\Users\\Cristiano\\Desktop\\Faculdade\\2 semestre\\VC\\project\\VC_project\\Shared\\training_inputs\\chessred2k_YOLO\\train\\images\\G099_IMG086.jpg: 14 duplicate labels removed\n",
      "\u001b[34m\u001b[1mtrain: \u001b[0mC:\\Users\\Cristiano\\Desktop\\Faculdade\\2 semestre\\VC\\project\\VC_project\\Shared\\training_inputs\\chessred2k_YOLO\\train\\images\\G099_IMG087.jpg: 14 duplicate labels removed\n",
      "\u001b[34m\u001b[1mtrain: \u001b[0mC:\\Users\\Cristiano\\Desktop\\Faculdade\\2 semestre\\VC\\project\\VC_project\\Shared\\training_inputs\\chessred2k_YOLO\\train\\images\\G099_IMG088.jpg: 14 duplicate labels removed\n",
      "\u001b[34m\u001b[1mtrain: \u001b[0mC:\\Users\\Cristiano\\Desktop\\Faculdade\\2 semestre\\VC\\project\\VC_project\\Shared\\training_inputs\\chessred2k_YOLO\\train\\images\\G099_IMG089.jpg: 14 duplicate labels removed\n",
      "\u001b[34m\u001b[1mtrain: \u001b[0mC:\\Users\\Cristiano\\Desktop\\Faculdade\\2 semestre\\VC\\project\\VC_project\\Shared\\training_inputs\\chessred2k_YOLO\\train\\images\\G099_IMG090.jpg: 14 duplicate labels removed\n",
      "\u001b[34m\u001b[1mtrain: \u001b[0mC:\\Users\\Cristiano\\Desktop\\Faculdade\\2 semestre\\VC\\project\\VC_project\\Shared\\training_inputs\\chessred2k_YOLO\\train\\images\\G099_IMG091.jpg: 14 duplicate labels removed\n",
      "\u001b[34m\u001b[1mtrain: \u001b[0mC:\\Users\\Cristiano\\Desktop\\Faculdade\\2 semestre\\VC\\project\\VC_project\\Shared\\training_inputs\\chessred2k_YOLO\\train\\images\\G099_IMG092.jpg: 14 duplicate labels removed\n",
      "\u001b[34m\u001b[1mtrain: \u001b[0mC:\\Users\\Cristiano\\Desktop\\Faculdade\\2 semestre\\VC\\project\\VC_project\\Shared\\training_inputs\\chessred2k_YOLO\\train\\images\\G099_IMG093.jpg: 13 duplicate labels removed\n",
      "\u001b[34m\u001b[1mtrain: \u001b[0mC:\\Users\\Cristiano\\Desktop\\Faculdade\\2 semestre\\VC\\project\\VC_project\\Shared\\training_inputs\\chessred2k_YOLO\\train\\images\\G099_IMG094.jpg: 13 duplicate labels removed\n",
      "\u001b[34m\u001b[1mtrain: \u001b[0mC:\\Users\\Cristiano\\Desktop\\Faculdade\\2 semestre\\VC\\project\\VC_project\\Shared\\training_inputs\\chessred2k_YOLO\\train\\images\\G099_IMG095.jpg: 13 duplicate labels removed\n",
      "\u001b[34m\u001b[1mtrain: \u001b[0mC:\\Users\\Cristiano\\Desktop\\Faculdade\\2 semestre\\VC\\project\\VC_project\\Shared\\training_inputs\\chessred2k_YOLO\\train\\images\\G099_IMG096.jpg: 13 duplicate labels removed\n",
      "\u001b[34m\u001b[1mtrain: \u001b[0mC:\\Users\\Cristiano\\Desktop\\Faculdade\\2 semestre\\VC\\project\\VC_project\\Shared\\training_inputs\\chessred2k_YOLO\\train\\images\\G099_IMG097.jpg: 13 duplicate labels removed\n",
      "\u001b[34m\u001b[1mtrain: \u001b[0mC:\\Users\\Cristiano\\Desktop\\Faculdade\\2 semestre\\VC\\project\\VC_project\\Shared\\training_inputs\\chessred2k_YOLO\\train\\images\\G099_IMG098.jpg: 13 duplicate labels removed\n",
      "\u001b[34m\u001b[1mtrain: \u001b[0mC:\\Users\\Cristiano\\Desktop\\Faculdade\\2 semestre\\VC\\project\\VC_project\\Shared\\training_inputs\\chessred2k_YOLO\\train\\images\\G099_IMG099.jpg: 13 duplicate labels removed\n"
     ]
    },
    {
     "name": "stderr",
     "output_type": "stream",
     "text": [
      "\n"
     ]
    },
    {
     "name": "stdout",
     "output_type": "stream",
     "text": [
      "\u001b[34m\u001b[1mval: \u001b[0mFast image access  (ping: 0.00.0 ms, read: 186.319.1 MB/s, size: 68.9 KB)\n"
     ]
    },
    {
     "name": "stderr",
     "output_type": "stream",
     "text": [
      "\u001b[34m\u001b[1mval: \u001b[0mScanning C:\\Users\\Cristiano\\Desktop\\Faculdade\\2 semestre\\VC\\project\\VC_project\\Shared\\training_inputs\\chessred2k_YOLO\\valid\\labels.cache... 330 images, 0 backgrounds, 0 corrupt: 100%|██████████| 330/330 [00:00<?, ?it/s]"
     ]
    },
    {
     "name": "stdout",
     "output_type": "stream",
     "text": [
      "\u001b[34m\u001b[1mval: \u001b[0mC:\\Users\\Cristiano\\Desktop\\Faculdade\\2 semestre\\VC\\project\\VC_project\\Shared\\training_inputs\\chessred2k_YOLO\\valid\\images\\G006_IMG000.jpg: 32 duplicate labels removed\n",
      "\u001b[34m\u001b[1mval: \u001b[0mC:\\Users\\Cristiano\\Desktop\\Faculdade\\2 semestre\\VC\\project\\VC_project\\Shared\\training_inputs\\chessred2k_YOLO\\valid\\images\\G006_IMG001.jpg: 32 duplicate labels removed\n",
      "\u001b[34m\u001b[1mval: \u001b[0mC:\\Users\\Cristiano\\Desktop\\Faculdade\\2 semestre\\VC\\project\\VC_project\\Shared\\training_inputs\\chessred2k_YOLO\\valid\\images\\G006_IMG002.jpg: 32 duplicate labels removed\n",
      "\u001b[34m\u001b[1mval: \u001b[0mC:\\Users\\Cristiano\\Desktop\\Faculdade\\2 semestre\\VC\\project\\VC_project\\Shared\\training_inputs\\chessred2k_YOLO\\valid\\images\\G006_IMG003.jpg: 32 duplicate labels removed\n",
      "\u001b[34m\u001b[1mval: \u001b[0mC:\\Users\\Cristiano\\Desktop\\Faculdade\\2 semestre\\VC\\project\\VC_project\\Shared\\training_inputs\\chessred2k_YOLO\\valid\\images\\G006_IMG004.jpg: 32 duplicate labels removed\n",
      "\u001b[34m\u001b[1mval: \u001b[0mC:\\Users\\Cristiano\\Desktop\\Faculdade\\2 semestre\\VC\\project\\VC_project\\Shared\\training_inputs\\chessred2k_YOLO\\valid\\images\\G006_IMG005.jpg: 32 duplicate labels removed\n",
      "\u001b[34m\u001b[1mval: \u001b[0mC:\\Users\\Cristiano\\Desktop\\Faculdade\\2 semestre\\VC\\project\\VC_project\\Shared\\training_inputs\\chessred2k_YOLO\\valid\\images\\G006_IMG006.jpg: 32 duplicate labels removed\n",
      "\u001b[34m\u001b[1mval: \u001b[0mC:\\Users\\Cristiano\\Desktop\\Faculdade\\2 semestre\\VC\\project\\VC_project\\Shared\\training_inputs\\chessred2k_YOLO\\valid\\images\\G006_IMG007.jpg: 32 duplicate labels removed\n",
      "\u001b[34m\u001b[1mval: \u001b[0mC:\\Users\\Cristiano\\Desktop\\Faculdade\\2 semestre\\VC\\project\\VC_project\\Shared\\training_inputs\\chessred2k_YOLO\\valid\\images\\G006_IMG008.jpg: 32 duplicate labels removed\n",
      "\u001b[34m\u001b[1mval: \u001b[0mC:\\Users\\Cristiano\\Desktop\\Faculdade\\2 semestre\\VC\\project\\VC_project\\Shared\\training_inputs\\chessred2k_YOLO\\valid\\images\\G006_IMG009.jpg: 32 duplicate labels removed\n",
      "\u001b[34m\u001b[1mval: \u001b[0mC:\\Users\\Cristiano\\Desktop\\Faculdade\\2 semestre\\VC\\project\\VC_project\\Shared\\training_inputs\\chessred2k_YOLO\\valid\\images\\G006_IMG010.jpg: 32 duplicate labels removed\n",
      "\u001b[34m\u001b[1mval: \u001b[0mC:\\Users\\Cristiano\\Desktop\\Faculdade\\2 semestre\\VC\\project\\VC_project\\Shared\\training_inputs\\chessred2k_YOLO\\valid\\images\\G006_IMG011.jpg: 32 duplicate labels removed\n",
      "\u001b[34m\u001b[1mval: \u001b[0mC:\\Users\\Cristiano\\Desktop\\Faculdade\\2 semestre\\VC\\project\\VC_project\\Shared\\training_inputs\\chessred2k_YOLO\\valid\\images\\G006_IMG012.jpg: 32 duplicate labels removed\n",
      "\u001b[34m\u001b[1mval: \u001b[0mC:\\Users\\Cristiano\\Desktop\\Faculdade\\2 semestre\\VC\\project\\VC_project\\Shared\\training_inputs\\chessred2k_YOLO\\valid\\images\\G006_IMG013.jpg: 32 duplicate labels removed\n",
      "\u001b[34m\u001b[1mval: \u001b[0mC:\\Users\\Cristiano\\Desktop\\Faculdade\\2 semestre\\VC\\project\\VC_project\\Shared\\training_inputs\\chessred2k_YOLO\\valid\\images\\G006_IMG014.jpg: 32 duplicate labels removed\n",
      "\u001b[34m\u001b[1mval: \u001b[0mC:\\Users\\Cristiano\\Desktop\\Faculdade\\2 semestre\\VC\\project\\VC_project\\Shared\\training_inputs\\chessred2k_YOLO\\valid\\images\\G006_IMG015.jpg: 32 duplicate labels removed\n",
      "\u001b[34m\u001b[1mval: \u001b[0mC:\\Users\\Cristiano\\Desktop\\Faculdade\\2 semestre\\VC\\project\\VC_project\\Shared\\training_inputs\\chessred2k_YOLO\\valid\\images\\G006_IMG016.jpg: 32 duplicate labels removed\n",
      "\u001b[34m\u001b[1mval: \u001b[0mC:\\Users\\Cristiano\\Desktop\\Faculdade\\2 semestre\\VC\\project\\VC_project\\Shared\\training_inputs\\chessred2k_YOLO\\valid\\images\\G006_IMG017.jpg: 32 duplicate labels removed\n",
      "\u001b[34m\u001b[1mval: \u001b[0mC:\\Users\\Cristiano\\Desktop\\Faculdade\\2 semestre\\VC\\project\\VC_project\\Shared\\training_inputs\\chessred2k_YOLO\\valid\\images\\G006_IMG018.jpg: 32 duplicate labels removed\n",
      "\u001b[34m\u001b[1mval: \u001b[0mC:\\Users\\Cristiano\\Desktop\\Faculdade\\2 semestre\\VC\\project\\VC_project\\Shared\\training_inputs\\chessred2k_YOLO\\valid\\images\\G006_IMG019.jpg: 32 duplicate labels removed\n",
      "\u001b[34m\u001b[1mval: \u001b[0mC:\\Users\\Cristiano\\Desktop\\Faculdade\\2 semestre\\VC\\project\\VC_project\\Shared\\training_inputs\\chessred2k_YOLO\\valid\\images\\G006_IMG020.jpg: 32 duplicate labels removed\n",
      "\u001b[34m\u001b[1mval: \u001b[0mC:\\Users\\Cristiano\\Desktop\\Faculdade\\2 semestre\\VC\\project\\VC_project\\Shared\\training_inputs\\chessred2k_YOLO\\valid\\images\\G006_IMG021.jpg: 32 duplicate labels removed\n",
      "\u001b[34m\u001b[1mval: \u001b[0mC:\\Users\\Cristiano\\Desktop\\Faculdade\\2 semestre\\VC\\project\\VC_project\\Shared\\training_inputs\\chessred2k_YOLO\\valid\\images\\G006_IMG022.jpg: 32 duplicate labels removed\n",
      "\u001b[34m\u001b[1mval: \u001b[0mC:\\Users\\Cristiano\\Desktop\\Faculdade\\2 semestre\\VC\\project\\VC_project\\Shared\\training_inputs\\chessred2k_YOLO\\valid\\images\\G006_IMG023.jpg: 32 duplicate labels removed\n",
      "\u001b[34m\u001b[1mval: \u001b[0mC:\\Users\\Cristiano\\Desktop\\Faculdade\\2 semestre\\VC\\project\\VC_project\\Shared\\training_inputs\\chessred2k_YOLO\\valid\\images\\G006_IMG024.jpg: 31 duplicate labels removed\n",
      "\u001b[34m\u001b[1mval: \u001b[0mC:\\Users\\Cristiano\\Desktop\\Faculdade\\2 semestre\\VC\\project\\VC_project\\Shared\\training_inputs\\chessred2k_YOLO\\valid\\images\\G006_IMG025.jpg: 30 duplicate labels removed\n",
      "\u001b[34m\u001b[1mval: \u001b[0mC:\\Users\\Cristiano\\Desktop\\Faculdade\\2 semestre\\VC\\project\\VC_project\\Shared\\training_inputs\\chessred2k_YOLO\\valid\\images\\G006_IMG026.jpg: 30 duplicate labels removed\n",
      "\u001b[34m\u001b[1mval: \u001b[0mC:\\Users\\Cristiano\\Desktop\\Faculdade\\2 semestre\\VC\\project\\VC_project\\Shared\\training_inputs\\chessred2k_YOLO\\valid\\images\\G006_IMG027.jpg: 30 duplicate labels removed\n",
      "\u001b[34m\u001b[1mval: \u001b[0mC:\\Users\\Cristiano\\Desktop\\Faculdade\\2 semestre\\VC\\project\\VC_project\\Shared\\training_inputs\\chessred2k_YOLO\\valid\\images\\G006_IMG028.jpg: 30 duplicate labels removed\n",
      "\u001b[34m\u001b[1mval: \u001b[0mC:\\Users\\Cristiano\\Desktop\\Faculdade\\2 semestre\\VC\\project\\VC_project\\Shared\\training_inputs\\chessred2k_YOLO\\valid\\images\\G006_IMG029.jpg: 30 duplicate labels removed\n",
      "\u001b[34m\u001b[1mval: \u001b[0mC:\\Users\\Cristiano\\Desktop\\Faculdade\\2 semestre\\VC\\project\\VC_project\\Shared\\training_inputs\\chessred2k_YOLO\\valid\\images\\G006_IMG030.jpg: 29 duplicate labels removed\n",
      "\u001b[34m\u001b[1mval: \u001b[0mC:\\Users\\Cristiano\\Desktop\\Faculdade\\2 semestre\\VC\\project\\VC_project\\Shared\\training_inputs\\chessred2k_YOLO\\valid\\images\\G006_IMG031.jpg: 28 duplicate labels removed\n",
      "\u001b[34m\u001b[1mval: \u001b[0mC:\\Users\\Cristiano\\Desktop\\Faculdade\\2 semestre\\VC\\project\\VC_project\\Shared\\training_inputs\\chessred2k_YOLO\\valid\\images\\G006_IMG032.jpg: 28 duplicate labels removed\n",
      "\u001b[34m\u001b[1mval: \u001b[0mC:\\Users\\Cristiano\\Desktop\\Faculdade\\2 semestre\\VC\\project\\VC_project\\Shared\\training_inputs\\chessred2k_YOLO\\valid\\images\\G006_IMG033.jpg: 28 duplicate labels removed\n",
      "\u001b[34m\u001b[1mval: \u001b[0mC:\\Users\\Cristiano\\Desktop\\Faculdade\\2 semestre\\VC\\project\\VC_project\\Shared\\training_inputs\\chessred2k_YOLO\\valid\\images\\G006_IMG034.jpg: 28 duplicate labels removed\n",
      "\u001b[34m\u001b[1mval: \u001b[0mC:\\Users\\Cristiano\\Desktop\\Faculdade\\2 semestre\\VC\\project\\VC_project\\Shared\\training_inputs\\chessred2k_YOLO\\valid\\images\\G006_IMG035.jpg: 28 duplicate labels removed\n",
      "\u001b[34m\u001b[1mval: \u001b[0mC:\\Users\\Cristiano\\Desktop\\Faculdade\\2 semestre\\VC\\project\\VC_project\\Shared\\training_inputs\\chessred2k_YOLO\\valid\\images\\G006_IMG036.jpg: 28 duplicate labels removed\n",
      "\u001b[34m\u001b[1mval: \u001b[0mC:\\Users\\Cristiano\\Desktop\\Faculdade\\2 semestre\\VC\\project\\VC_project\\Shared\\training_inputs\\chessred2k_YOLO\\valid\\images\\G006_IMG037.jpg: 27 duplicate labels removed\n",
      "\u001b[34m\u001b[1mval: \u001b[0mC:\\Users\\Cristiano\\Desktop\\Faculdade\\2 semestre\\VC\\project\\VC_project\\Shared\\training_inputs\\chessred2k_YOLO\\valid\\images\\G006_IMG038.jpg: 26 duplicate labels removed\n",
      "\u001b[34m\u001b[1mval: \u001b[0mC:\\Users\\Cristiano\\Desktop\\Faculdade\\2 semestre\\VC\\project\\VC_project\\Shared\\training_inputs\\chessred2k_YOLO\\valid\\images\\G006_IMG039.jpg: 26 duplicate labels removed\n",
      "\u001b[34m\u001b[1mval: \u001b[0mC:\\Users\\Cristiano\\Desktop\\Faculdade\\2 semestre\\VC\\project\\VC_project\\Shared\\training_inputs\\chessred2k_YOLO\\valid\\images\\G006_IMG040.jpg: 26 duplicate labels removed\n",
      "\u001b[34m\u001b[1mval: \u001b[0mC:\\Users\\Cristiano\\Desktop\\Faculdade\\2 semestre\\VC\\project\\VC_project\\Shared\\training_inputs\\chessred2k_YOLO\\valid\\images\\G006_IMG041.jpg: 26 duplicate labels removed\n",
      "\u001b[34m\u001b[1mval: \u001b[0mC:\\Users\\Cristiano\\Desktop\\Faculdade\\2 semestre\\VC\\project\\VC_project\\Shared\\training_inputs\\chessred2k_YOLO\\valid\\images\\G006_IMG042.jpg: 25 duplicate labels removed\n",
      "\u001b[34m\u001b[1mval: \u001b[0mC:\\Users\\Cristiano\\Desktop\\Faculdade\\2 semestre\\VC\\project\\VC_project\\Shared\\training_inputs\\chessred2k_YOLO\\valid\\images\\G006_IMG043.jpg: 24 duplicate labels removed\n",
      "\u001b[34m\u001b[1mval: \u001b[0mC:\\Users\\Cristiano\\Desktop\\Faculdade\\2 semestre\\VC\\project\\VC_project\\Shared\\training_inputs\\chessred2k_YOLO\\valid\\images\\G006_IMG044.jpg: 24 duplicate labels removed\n",
      "\u001b[34m\u001b[1mval: \u001b[0mC:\\Users\\Cristiano\\Desktop\\Faculdade\\2 semestre\\VC\\project\\VC_project\\Shared\\training_inputs\\chessred2k_YOLO\\valid\\images\\G006_IMG045.jpg: 24 duplicate labels removed\n",
      "\u001b[34m\u001b[1mval: \u001b[0mC:\\Users\\Cristiano\\Desktop\\Faculdade\\2 semestre\\VC\\project\\VC_project\\Shared\\training_inputs\\chessred2k_YOLO\\valid\\images\\G006_IMG046.jpg: 24 duplicate labels removed\n",
      "\u001b[34m\u001b[1mval: \u001b[0mC:\\Users\\Cristiano\\Desktop\\Faculdade\\2 semestre\\VC\\project\\VC_project\\Shared\\training_inputs\\chessred2k_YOLO\\valid\\images\\G006_IMG047.jpg: 24 duplicate labels removed\n",
      "\u001b[34m\u001b[1mval: \u001b[0mC:\\Users\\Cristiano\\Desktop\\Faculdade\\2 semestre\\VC\\project\\VC_project\\Shared\\training_inputs\\chessred2k_YOLO\\valid\\images\\G006_IMG048.jpg: 24 duplicate labels removed\n",
      "\u001b[34m\u001b[1mval: \u001b[0mC:\\Users\\Cristiano\\Desktop\\Faculdade\\2 semestre\\VC\\project\\VC_project\\Shared\\training_inputs\\chessred2k_YOLO\\valid\\images\\G006_IMG049.jpg: 24 duplicate labels removed\n",
      "\u001b[34m\u001b[1mval: \u001b[0mC:\\Users\\Cristiano\\Desktop\\Faculdade\\2 semestre\\VC\\project\\VC_project\\Shared\\training_inputs\\chessred2k_YOLO\\valid\\images\\G006_IMG050.jpg: 23 duplicate labels removed\n",
      "\u001b[34m\u001b[1mval: \u001b[0mC:\\Users\\Cristiano\\Desktop\\Faculdade\\2 semestre\\VC\\project\\VC_project\\Shared\\training_inputs\\chessred2k_YOLO\\valid\\images\\G006_IMG051.jpg: 22 duplicate labels removed\n",
      "\u001b[34m\u001b[1mval: \u001b[0mC:\\Users\\Cristiano\\Desktop\\Faculdade\\2 semestre\\VC\\project\\VC_project\\Shared\\training_inputs\\chessred2k_YOLO\\valid\\images\\G006_IMG052.jpg: 22 duplicate labels removed\n",
      "\u001b[34m\u001b[1mval: \u001b[0mC:\\Users\\Cristiano\\Desktop\\Faculdade\\2 semestre\\VC\\project\\VC_project\\Shared\\training_inputs\\chessred2k_YOLO\\valid\\images\\G006_IMG053.jpg: 22 duplicate labels removed\n",
      "\u001b[34m\u001b[1mval: \u001b[0mC:\\Users\\Cristiano\\Desktop\\Faculdade\\2 semestre\\VC\\project\\VC_project\\Shared\\training_inputs\\chessred2k_YOLO\\valid\\images\\G006_IMG054.jpg: 22 duplicate labels removed\n",
      "\u001b[34m\u001b[1mval: \u001b[0mC:\\Users\\Cristiano\\Desktop\\Faculdade\\2 semestre\\VC\\project\\VC_project\\Shared\\training_inputs\\chessred2k_YOLO\\valid\\images\\G006_IMG055.jpg: 22 duplicate labels removed\n",
      "\u001b[34m\u001b[1mval: \u001b[0mC:\\Users\\Cristiano\\Desktop\\Faculdade\\2 semestre\\VC\\project\\VC_project\\Shared\\training_inputs\\chessred2k_YOLO\\valid\\images\\G006_IMG056.jpg: 22 duplicate labels removed\n",
      "\u001b[34m\u001b[1mval: \u001b[0mC:\\Users\\Cristiano\\Desktop\\Faculdade\\2 semestre\\VC\\project\\VC_project\\Shared\\training_inputs\\chessred2k_YOLO\\valid\\images\\G006_IMG057.jpg: 21 duplicate labels removed\n",
      "\u001b[34m\u001b[1mval: \u001b[0mC:\\Users\\Cristiano\\Desktop\\Faculdade\\2 semestre\\VC\\project\\VC_project\\Shared\\training_inputs\\chessred2k_YOLO\\valid\\images\\G006_IMG058.jpg: 21 duplicate labels removed\n",
      "\u001b[34m\u001b[1mval: \u001b[0mC:\\Users\\Cristiano\\Desktop\\Faculdade\\2 semestre\\VC\\project\\VC_project\\Shared\\training_inputs\\chessred2k_YOLO\\valid\\images\\G006_IMG059.jpg: 21 duplicate labels removed\n",
      "\u001b[34m\u001b[1mval: \u001b[0mC:\\Users\\Cristiano\\Desktop\\Faculdade\\2 semestre\\VC\\project\\VC_project\\Shared\\training_inputs\\chessred2k_YOLO\\valid\\images\\G006_IMG060.jpg: 21 duplicate labels removed\n",
      "\u001b[34m\u001b[1mval: \u001b[0mC:\\Users\\Cristiano\\Desktop\\Faculdade\\2 semestre\\VC\\project\\VC_project\\Shared\\training_inputs\\chessred2k_YOLO\\valid\\images\\G006_IMG061.jpg: 21 duplicate labels removed\n",
      "\u001b[34m\u001b[1mval: \u001b[0mC:\\Users\\Cristiano\\Desktop\\Faculdade\\2 semestre\\VC\\project\\VC_project\\Shared\\training_inputs\\chessred2k_YOLO\\valid\\images\\G006_IMG062.jpg: 21 duplicate labels removed\n",
      "\u001b[34m\u001b[1mval: \u001b[0mC:\\Users\\Cristiano\\Desktop\\Faculdade\\2 semestre\\VC\\project\\VC_project\\Shared\\training_inputs\\chessred2k_YOLO\\valid\\images\\G006_IMG063.jpg: 21 duplicate labels removed\n",
      "\u001b[34m\u001b[1mval: \u001b[0mC:\\Users\\Cristiano\\Desktop\\Faculdade\\2 semestre\\VC\\project\\VC_project\\Shared\\training_inputs\\chessred2k_YOLO\\valid\\images\\G006_IMG064.jpg: 21 duplicate labels removed\n",
      "\u001b[34m\u001b[1mval: \u001b[0mC:\\Users\\Cristiano\\Desktop\\Faculdade\\2 semestre\\VC\\project\\VC_project\\Shared\\training_inputs\\chessred2k_YOLO\\valid\\images\\G006_IMG065.jpg: 21 duplicate labels removed\n",
      "\u001b[34m\u001b[1mval: \u001b[0mC:\\Users\\Cristiano\\Desktop\\Faculdade\\2 semestre\\VC\\project\\VC_project\\Shared\\training_inputs\\chessred2k_YOLO\\valid\\images\\G006_IMG066.jpg: 21 duplicate labels removed\n",
      "\u001b[34m\u001b[1mval: \u001b[0mC:\\Users\\Cristiano\\Desktop\\Faculdade\\2 semestre\\VC\\project\\VC_project\\Shared\\training_inputs\\chessred2k_YOLO\\valid\\images\\G006_IMG067.jpg: 21 duplicate labels removed\n",
      "\u001b[34m\u001b[1mval: \u001b[0mC:\\Users\\Cristiano\\Desktop\\Faculdade\\2 semestre\\VC\\project\\VC_project\\Shared\\training_inputs\\chessred2k_YOLO\\valid\\images\\G006_IMG068.jpg: 21 duplicate labels removed\n",
      "\u001b[34m\u001b[1mval: \u001b[0mC:\\Users\\Cristiano\\Desktop\\Faculdade\\2 semestre\\VC\\project\\VC_project\\Shared\\training_inputs\\chessred2k_YOLO\\valid\\images\\G006_IMG069.jpg: 20 duplicate labels removed\n",
      "\u001b[34m\u001b[1mval: \u001b[0mC:\\Users\\Cristiano\\Desktop\\Faculdade\\2 semestre\\VC\\project\\VC_project\\Shared\\training_inputs\\chessred2k_YOLO\\valid\\images\\G006_IMG070.jpg: 19 duplicate labels removed\n",
      "\u001b[34m\u001b[1mval: \u001b[0mC:\\Users\\Cristiano\\Desktop\\Faculdade\\2 semestre\\VC\\project\\VC_project\\Shared\\training_inputs\\chessred2k_YOLO\\valid\\images\\G006_IMG071.jpg: 18 duplicate labels removed\n",
      "\u001b[34m\u001b[1mval: \u001b[0mC:\\Users\\Cristiano\\Desktop\\Faculdade\\2 semestre\\VC\\project\\VC_project\\Shared\\training_inputs\\chessred2k_YOLO\\valid\\images\\G006_IMG072.jpg: 18 duplicate labels removed\n",
      "\u001b[34m\u001b[1mval: \u001b[0mC:\\Users\\Cristiano\\Desktop\\Faculdade\\2 semestre\\VC\\project\\VC_project\\Shared\\training_inputs\\chessred2k_YOLO\\valid\\images\\G006_IMG073.jpg: 18 duplicate labels removed\n",
      "\u001b[34m\u001b[1mval: \u001b[0mC:\\Users\\Cristiano\\Desktop\\Faculdade\\2 semestre\\VC\\project\\VC_project\\Shared\\training_inputs\\chessred2k_YOLO\\valid\\images\\G006_IMG074.jpg: 17 duplicate labels removed\n",
      "\u001b[34m\u001b[1mval: \u001b[0mC:\\Users\\Cristiano\\Desktop\\Faculdade\\2 semestre\\VC\\project\\VC_project\\Shared\\training_inputs\\chessred2k_YOLO\\valid\\images\\G006_IMG075.jpg: 16 duplicate labels removed\n",
      "\u001b[34m\u001b[1mval: \u001b[0mC:\\Users\\Cristiano\\Desktop\\Faculdade\\2 semestre\\VC\\project\\VC_project\\Shared\\training_inputs\\chessred2k_YOLO\\valid\\images\\G006_IMG076.jpg: 15 duplicate labels removed\n",
      "\u001b[34m\u001b[1mval: \u001b[0mC:\\Users\\Cristiano\\Desktop\\Faculdade\\2 semestre\\VC\\project\\VC_project\\Shared\\training_inputs\\chessred2k_YOLO\\valid\\images\\G006_IMG077.jpg: 15 duplicate labels removed\n",
      "\u001b[34m\u001b[1mval: \u001b[0mC:\\Users\\Cristiano\\Desktop\\Faculdade\\2 semestre\\VC\\project\\VC_project\\Shared\\training_inputs\\chessred2k_YOLO\\valid\\images\\G006_IMG078.jpg: 15 duplicate labels removed\n",
      "\u001b[34m\u001b[1mval: \u001b[0mC:\\Users\\Cristiano\\Desktop\\Faculdade\\2 semestre\\VC\\project\\VC_project\\Shared\\training_inputs\\chessred2k_YOLO\\valid\\images\\G006_IMG079.jpg: 15 duplicate labels removed\n",
      "\u001b[34m\u001b[1mval: \u001b[0mC:\\Users\\Cristiano\\Desktop\\Faculdade\\2 semestre\\VC\\project\\VC_project\\Shared\\training_inputs\\chessred2k_YOLO\\valid\\images\\G006_IMG080.jpg: 15 duplicate labels removed\n",
      "\u001b[34m\u001b[1mval: \u001b[0mC:\\Users\\Cristiano\\Desktop\\Faculdade\\2 semestre\\VC\\project\\VC_project\\Shared\\training_inputs\\chessred2k_YOLO\\valid\\images\\G006_IMG081.jpg: 15 duplicate labels removed\n",
      "\u001b[34m\u001b[1mval: \u001b[0mC:\\Users\\Cristiano\\Desktop\\Faculdade\\2 semestre\\VC\\project\\VC_project\\Shared\\training_inputs\\chessred2k_YOLO\\valid\\images\\G006_IMG082.jpg: 14 duplicate labels removed\n",
      "\u001b[34m\u001b[1mval: \u001b[0mC:\\Users\\Cristiano\\Desktop\\Faculdade\\2 semestre\\VC\\project\\VC_project\\Shared\\training_inputs\\chessred2k_YOLO\\valid\\images\\G006_IMG083.jpg: 13 duplicate labels removed\n",
      "\u001b[34m\u001b[1mval: \u001b[0mC:\\Users\\Cristiano\\Desktop\\Faculdade\\2 semestre\\VC\\project\\VC_project\\Shared\\training_inputs\\chessred2k_YOLO\\valid\\images\\G006_IMG084.jpg: 13 duplicate labels removed\n",
      "\u001b[34m\u001b[1mval: \u001b[0mC:\\Users\\Cristiano\\Desktop\\Faculdade\\2 semestre\\VC\\project\\VC_project\\Shared\\training_inputs\\chessred2k_YOLO\\valid\\images\\G006_IMG085.jpg: 12 duplicate labels removed\n",
      "\u001b[34m\u001b[1mval: \u001b[0mC:\\Users\\Cristiano\\Desktop\\Faculdade\\2 semestre\\VC\\project\\VC_project\\Shared\\training_inputs\\chessred2k_YOLO\\valid\\images\\G006_IMG086.jpg: 11 duplicate labels removed\n",
      "\u001b[34m\u001b[1mval: \u001b[0mC:\\Users\\Cristiano\\Desktop\\Faculdade\\2 semestre\\VC\\project\\VC_project\\Shared\\training_inputs\\chessred2k_YOLO\\valid\\images\\G006_IMG087.jpg: 11 duplicate labels removed\n",
      "\u001b[34m\u001b[1mval: \u001b[0mC:\\Users\\Cristiano\\Desktop\\Faculdade\\2 semestre\\VC\\project\\VC_project\\Shared\\training_inputs\\chessred2k_YOLO\\valid\\images\\G006_IMG088.jpg: 11 duplicate labels removed\n",
      "\u001b[34m\u001b[1mval: \u001b[0mC:\\Users\\Cristiano\\Desktop\\Faculdade\\2 semestre\\VC\\project\\VC_project\\Shared\\training_inputs\\chessred2k_YOLO\\valid\\images\\G006_IMG089.jpg: 11 duplicate labels removed\n",
      "\u001b[34m\u001b[1mval: \u001b[0mC:\\Users\\Cristiano\\Desktop\\Faculdade\\2 semestre\\VC\\project\\VC_project\\Shared\\training_inputs\\chessred2k_YOLO\\valid\\images\\G006_IMG090.jpg: 11 duplicate labels removed\n",
      "\u001b[34m\u001b[1mval: \u001b[0mC:\\Users\\Cristiano\\Desktop\\Faculdade\\2 semestre\\VC\\project\\VC_project\\Shared\\training_inputs\\chessred2k_YOLO\\valid\\images\\G006_IMG091.jpg: 11 duplicate labels removed\n",
      "\u001b[34m\u001b[1mval: \u001b[0mC:\\Users\\Cristiano\\Desktop\\Faculdade\\2 semestre\\VC\\project\\VC_project\\Shared\\training_inputs\\chessred2k_YOLO\\valid\\images\\G006_IMG092.jpg: 10 duplicate labels removed\n",
      "\u001b[34m\u001b[1mval: \u001b[0mC:\\Users\\Cristiano\\Desktop\\Faculdade\\2 semestre\\VC\\project\\VC_project\\Shared\\training_inputs\\chessred2k_YOLO\\valid\\images\\G006_IMG093.jpg: 9 duplicate labels removed\n",
      "\u001b[34m\u001b[1mval: \u001b[0mC:\\Users\\Cristiano\\Desktop\\Faculdade\\2 semestre\\VC\\project\\VC_project\\Shared\\training_inputs\\chessred2k_YOLO\\valid\\images\\G006_IMG094.jpg: 9 duplicate labels removed\n",
      "\u001b[34m\u001b[1mval: \u001b[0mC:\\Users\\Cristiano\\Desktop\\Faculdade\\2 semestre\\VC\\project\\VC_project\\Shared\\training_inputs\\chessred2k_YOLO\\valid\\images\\G006_IMG095.jpg: 9 duplicate labels removed\n",
      "\u001b[34m\u001b[1mval: \u001b[0mC:\\Users\\Cristiano\\Desktop\\Faculdade\\2 semestre\\VC\\project\\VC_project\\Shared\\training_inputs\\chessred2k_YOLO\\valid\\images\\G006_IMG096.jpg: 9 duplicate labels removed\n",
      "\u001b[34m\u001b[1mval: \u001b[0mC:\\Users\\Cristiano\\Desktop\\Faculdade\\2 semestre\\VC\\project\\VC_project\\Shared\\training_inputs\\chessred2k_YOLO\\valid\\images\\G006_IMG097.jpg: 9 duplicate labels removed\n",
      "\u001b[34m\u001b[1mval: \u001b[0mC:\\Users\\Cristiano\\Desktop\\Faculdade\\2 semestre\\VC\\project\\VC_project\\Shared\\training_inputs\\chessred2k_YOLO\\valid\\images\\G006_IMG098.jpg: 9 duplicate labels removed\n",
      "\u001b[34m\u001b[1mval: \u001b[0mC:\\Users\\Cristiano\\Desktop\\Faculdade\\2 semestre\\VC\\project\\VC_project\\Shared\\training_inputs\\chessred2k_YOLO\\valid\\images\\G006_IMG099.jpg: 9 duplicate labels removed\n",
      "\u001b[34m\u001b[1mval: \u001b[0mC:\\Users\\Cristiano\\Desktop\\Faculdade\\2 semestre\\VC\\project\\VC_project\\Shared\\training_inputs\\chessred2k_YOLO\\valid\\images\\G006_IMG100.jpg: 9 duplicate labels removed\n",
      "\u001b[34m\u001b[1mval: \u001b[0mC:\\Users\\Cristiano\\Desktop\\Faculdade\\2 semestre\\VC\\project\\VC_project\\Shared\\training_inputs\\chessred2k_YOLO\\valid\\images\\G006_IMG101.jpg: 9 duplicate labels removed\n",
      "\u001b[34m\u001b[1mval: \u001b[0mC:\\Users\\Cristiano\\Desktop\\Faculdade\\2 semestre\\VC\\project\\VC_project\\Shared\\training_inputs\\chessred2k_YOLO\\valid\\images\\G006_IMG102.jpg: 9 duplicate labels removed\n",
      "\u001b[34m\u001b[1mval: \u001b[0mC:\\Users\\Cristiano\\Desktop\\Faculdade\\2 semestre\\VC\\project\\VC_project\\Shared\\training_inputs\\chessred2k_YOLO\\valid\\images\\G006_IMG103.jpg: 9 duplicate labels removed\n",
      "\u001b[34m\u001b[1mval: \u001b[0mC:\\Users\\Cristiano\\Desktop\\Faculdade\\2 semestre\\VC\\project\\VC_project\\Shared\\training_inputs\\chessred2k_YOLO\\valid\\images\\G006_IMG104.jpg: 9 duplicate labels removed\n",
      "\u001b[34m\u001b[1mval: \u001b[0mC:\\Users\\Cristiano\\Desktop\\Faculdade\\2 semestre\\VC\\project\\VC_project\\Shared\\training_inputs\\chessred2k_YOLO\\valid\\images\\G006_IMG105.jpg: 8 duplicate labels removed\n",
      "\u001b[34m\u001b[1mval: \u001b[0mC:\\Users\\Cristiano\\Desktop\\Faculdade\\2 semestre\\VC\\project\\VC_project\\Shared\\training_inputs\\chessred2k_YOLO\\valid\\images\\G006_IMG106.jpg: 8 duplicate labels removed\n",
      "\u001b[34m\u001b[1mval: \u001b[0mC:\\Users\\Cristiano\\Desktop\\Faculdade\\2 semestre\\VC\\project\\VC_project\\Shared\\training_inputs\\chessred2k_YOLO\\valid\\images\\G006_IMG107.jpg: 8 duplicate labels removed\n",
      "\u001b[34m\u001b[1mval: \u001b[0mC:\\Users\\Cristiano\\Desktop\\Faculdade\\2 semestre\\VC\\project\\VC_project\\Shared\\training_inputs\\chessred2k_YOLO\\valid\\images\\G006_IMG108.jpg: 8 duplicate labels removed\n",
      "\u001b[34m\u001b[1mval: \u001b[0mC:\\Users\\Cristiano\\Desktop\\Faculdade\\2 semestre\\VC\\project\\VC_project\\Shared\\training_inputs\\chessred2k_YOLO\\valid\\images\\G006_IMG109.jpg: 8 duplicate labels removed\n",
      "\u001b[34m\u001b[1mval: \u001b[0mC:\\Users\\Cristiano\\Desktop\\Faculdade\\2 semestre\\VC\\project\\VC_project\\Shared\\training_inputs\\chessred2k_YOLO\\valid\\images\\G006_IMG110.jpg: 8 duplicate labels removed\n",
      "\u001b[34m\u001b[1mval: \u001b[0mC:\\Users\\Cristiano\\Desktop\\Faculdade\\2 semestre\\VC\\project\\VC_project\\Shared\\training_inputs\\chessred2k_YOLO\\valid\\images\\G006_IMG111.jpg: 8 duplicate labels removed\n",
      "\u001b[34m\u001b[1mval: \u001b[0mC:\\Users\\Cristiano\\Desktop\\Faculdade\\2 semestre\\VC\\project\\VC_project\\Shared\\training_inputs\\chessred2k_YOLO\\valid\\images\\G006_IMG112.jpg: 8 duplicate labels removed\n",
      "\u001b[34m\u001b[1mval: \u001b[0mC:\\Users\\Cristiano\\Desktop\\Faculdade\\2 semestre\\VC\\project\\VC_project\\Shared\\training_inputs\\chessred2k_YOLO\\valid\\images\\G006_IMG113.jpg: 8 duplicate labels removed\n",
      "\u001b[34m\u001b[1mval: \u001b[0mC:\\Users\\Cristiano\\Desktop\\Faculdade\\2 semestre\\VC\\project\\VC_project\\Shared\\training_inputs\\chessred2k_YOLO\\valid\\images\\G006_IMG114.jpg: 8 duplicate labels removed\n",
      "\u001b[34m\u001b[1mval: \u001b[0mC:\\Users\\Cristiano\\Desktop\\Faculdade\\2 semestre\\VC\\project\\VC_project\\Shared\\training_inputs\\chessred2k_YOLO\\valid\\images\\G006_IMG115.jpg: 8 duplicate labels removed\n",
      "\u001b[34m\u001b[1mval: \u001b[0mC:\\Users\\Cristiano\\Desktop\\Faculdade\\2 semestre\\VC\\project\\VC_project\\Shared\\training_inputs\\chessred2k_YOLO\\valid\\images\\G006_IMG116.jpg: 8 duplicate labels removed\n",
      "\u001b[34m\u001b[1mval: \u001b[0mC:\\Users\\Cristiano\\Desktop\\Faculdade\\2 semestre\\VC\\project\\VC_project\\Shared\\training_inputs\\chessred2k_YOLO\\valid\\images\\G006_IMG117.jpg: 8 duplicate labels removed\n",
      "\u001b[34m\u001b[1mval: \u001b[0mC:\\Users\\Cristiano\\Desktop\\Faculdade\\2 semestre\\VC\\project\\VC_project\\Shared\\training_inputs\\chessred2k_YOLO\\valid\\images\\G006_IMG118.jpg: 8 duplicate labels removed\n",
      "\u001b[34m\u001b[1mval: \u001b[0mC:\\Users\\Cristiano\\Desktop\\Faculdade\\2 semestre\\VC\\project\\VC_project\\Shared\\training_inputs\\chessred2k_YOLO\\valid\\images\\G006_IMG119.jpg: 8 duplicate labels removed\n",
      "\u001b[34m\u001b[1mval: \u001b[0mC:\\Users\\Cristiano\\Desktop\\Faculdade\\2 semestre\\VC\\project\\VC_project\\Shared\\training_inputs\\chessred2k_YOLO\\valid\\images\\G047_IMG000.jpg: 32 duplicate labels removed\n",
      "\u001b[34m\u001b[1mval: \u001b[0mC:\\Users\\Cristiano\\Desktop\\Faculdade\\2 semestre\\VC\\project\\VC_project\\Shared\\training_inputs\\chessred2k_YOLO\\valid\\images\\G047_IMG001.jpg: 32 duplicate labels removed\n",
      "\u001b[34m\u001b[1mval: \u001b[0mC:\\Users\\Cristiano\\Desktop\\Faculdade\\2 semestre\\VC\\project\\VC_project\\Shared\\training_inputs\\chessred2k_YOLO\\valid\\images\\G047_IMG002.jpg: 32 duplicate labels removed\n",
      "\u001b[34m\u001b[1mval: \u001b[0mC:\\Users\\Cristiano\\Desktop\\Faculdade\\2 semestre\\VC\\project\\VC_project\\Shared\\training_inputs\\chessred2k_YOLO\\valid\\images\\G047_IMG003.jpg: 32 duplicate labels removed\n",
      "\u001b[34m\u001b[1mval: \u001b[0mC:\\Users\\Cristiano\\Desktop\\Faculdade\\2 semestre\\VC\\project\\VC_project\\Shared\\training_inputs\\chessred2k_YOLO\\valid\\images\\G047_IMG004.jpg: 32 duplicate labels removed\n",
      "\u001b[34m\u001b[1mval: \u001b[0mC:\\Users\\Cristiano\\Desktop\\Faculdade\\2 semestre\\VC\\project\\VC_project\\Shared\\training_inputs\\chessred2k_YOLO\\valid\\images\\G047_IMG005.jpg: 32 duplicate labels removed\n",
      "\u001b[34m\u001b[1mval: \u001b[0mC:\\Users\\Cristiano\\Desktop\\Faculdade\\2 semestre\\VC\\project\\VC_project\\Shared\\training_inputs\\chessred2k_YOLO\\valid\\images\\G047_IMG006.jpg: 32 duplicate labels removed\n",
      "\u001b[34m\u001b[1mval: \u001b[0mC:\\Users\\Cristiano\\Desktop\\Faculdade\\2 semestre\\VC\\project\\VC_project\\Shared\\training_inputs\\chessred2k_YOLO\\valid\\images\\G047_IMG007.jpg: 31 duplicate labels removed\n",
      "\u001b[34m\u001b[1mval: \u001b[0mC:\\Users\\Cristiano\\Desktop\\Faculdade\\2 semestre\\VC\\project\\VC_project\\Shared\\training_inputs\\chessred2k_YOLO\\valid\\images\\G047_IMG008.jpg: 30 duplicate labels removed\n",
      "\u001b[34m\u001b[1mval: \u001b[0mC:\\Users\\Cristiano\\Desktop\\Faculdade\\2 semestre\\VC\\project\\VC_project\\Shared\\training_inputs\\chessred2k_YOLO\\valid\\images\\G047_IMG009.jpg: 30 duplicate labels removed\n",
      "\u001b[34m\u001b[1mval: \u001b[0mC:\\Users\\Cristiano\\Desktop\\Faculdade\\2 semestre\\VC\\project\\VC_project\\Shared\\training_inputs\\chessred2k_YOLO\\valid\\images\\G047_IMG010.jpg: 29 duplicate labels removed\n",
      "\u001b[34m\u001b[1mval: \u001b[0mC:\\Users\\Cristiano\\Desktop\\Faculdade\\2 semestre\\VC\\project\\VC_project\\Shared\\training_inputs\\chessred2k_YOLO\\valid\\images\\G047_IMG011.jpg: 28 duplicate labels removed\n",
      "\u001b[34m\u001b[1mval: \u001b[0mC:\\Users\\Cristiano\\Desktop\\Faculdade\\2 semestre\\VC\\project\\VC_project\\Shared\\training_inputs\\chessred2k_YOLO\\valid\\images\\G047_IMG012.jpg: 28 duplicate labels removed\n",
      "\u001b[34m\u001b[1mval: \u001b[0mC:\\Users\\Cristiano\\Desktop\\Faculdade\\2 semestre\\VC\\project\\VC_project\\Shared\\training_inputs\\chessred2k_YOLO\\valid\\images\\G047_IMG013.jpg: 28 duplicate labels removed\n",
      "\u001b[34m\u001b[1mval: \u001b[0mC:\\Users\\Cristiano\\Desktop\\Faculdade\\2 semestre\\VC\\project\\VC_project\\Shared\\training_inputs\\chessred2k_YOLO\\valid\\images\\G047_IMG014.jpg: 28 duplicate labels removed\n",
      "\u001b[34m\u001b[1mval: \u001b[0mC:\\Users\\Cristiano\\Desktop\\Faculdade\\2 semestre\\VC\\project\\VC_project\\Shared\\training_inputs\\chessred2k_YOLO\\valid\\images\\G047_IMG015.jpg: 28 duplicate labels removed\n",
      "\u001b[34m\u001b[1mval: \u001b[0mC:\\Users\\Cristiano\\Desktop\\Faculdade\\2 semestre\\VC\\project\\VC_project\\Shared\\training_inputs\\chessred2k_YOLO\\valid\\images\\G047_IMG016.jpg: 28 duplicate labels removed\n",
      "\u001b[34m\u001b[1mval: \u001b[0mC:\\Users\\Cristiano\\Desktop\\Faculdade\\2 semestre\\VC\\project\\VC_project\\Shared\\training_inputs\\chessred2k_YOLO\\valid\\images\\G047_IMG017.jpg: 28 duplicate labels removed\n",
      "\u001b[34m\u001b[1mval: \u001b[0mC:\\Users\\Cristiano\\Desktop\\Faculdade\\2 semestre\\VC\\project\\VC_project\\Shared\\training_inputs\\chessred2k_YOLO\\valid\\images\\G047_IMG018.jpg: 28 duplicate labels removed\n",
      "\u001b[34m\u001b[1mval: \u001b[0mC:\\Users\\Cristiano\\Desktop\\Faculdade\\2 semestre\\VC\\project\\VC_project\\Shared\\training_inputs\\chessred2k_YOLO\\valid\\images\\G047_IMG019.jpg: 28 duplicate labels removed\n",
      "\u001b[34m\u001b[1mval: \u001b[0mC:\\Users\\Cristiano\\Desktop\\Faculdade\\2 semestre\\VC\\project\\VC_project\\Shared\\training_inputs\\chessred2k_YOLO\\valid\\images\\G047_IMG020.jpg: 28 duplicate labels removed\n",
      "\u001b[34m\u001b[1mval: \u001b[0mC:\\Users\\Cristiano\\Desktop\\Faculdade\\2 semestre\\VC\\project\\VC_project\\Shared\\training_inputs\\chessred2k_YOLO\\valid\\images\\G047_IMG021.jpg: 28 duplicate labels removed\n",
      "\u001b[34m\u001b[1mval: \u001b[0mC:\\Users\\Cristiano\\Desktop\\Faculdade\\2 semestre\\VC\\project\\VC_project\\Shared\\training_inputs\\chessred2k_YOLO\\valid\\images\\G047_IMG022.jpg: 28 duplicate labels removed\n",
      "\u001b[34m\u001b[1mval: \u001b[0mC:\\Users\\Cristiano\\Desktop\\Faculdade\\2 semestre\\VC\\project\\VC_project\\Shared\\training_inputs\\chessred2k_YOLO\\valid\\images\\G047_IMG023.jpg: 28 duplicate labels removed\n",
      "\u001b[34m\u001b[1mval: \u001b[0mC:\\Users\\Cristiano\\Desktop\\Faculdade\\2 semestre\\VC\\project\\VC_project\\Shared\\training_inputs\\chessred2k_YOLO\\valid\\images\\G047_IMG024.jpg: 28 duplicate labels removed\n",
      "\u001b[34m\u001b[1mval: \u001b[0mC:\\Users\\Cristiano\\Desktop\\Faculdade\\2 semestre\\VC\\project\\VC_project\\Shared\\training_inputs\\chessred2k_YOLO\\valid\\images\\G047_IMG025.jpg: 28 duplicate labels removed\n",
      "\u001b[34m\u001b[1mval: \u001b[0mC:\\Users\\Cristiano\\Desktop\\Faculdade\\2 semestre\\VC\\project\\VC_project\\Shared\\training_inputs\\chessred2k_YOLO\\valid\\images\\G047_IMG026.jpg: 28 duplicate labels removed\n",
      "\u001b[34m\u001b[1mval: \u001b[0mC:\\Users\\Cristiano\\Desktop\\Faculdade\\2 semestre\\VC\\project\\VC_project\\Shared\\training_inputs\\chessred2k_YOLO\\valid\\images\\G047_IMG027.jpg: 28 duplicate labels removed\n",
      "\u001b[34m\u001b[1mval: \u001b[0mC:\\Users\\Cristiano\\Desktop\\Faculdade\\2 semestre\\VC\\project\\VC_project\\Shared\\training_inputs\\chessred2k_YOLO\\valid\\images\\G047_IMG028.jpg: 27 duplicate labels removed\n",
      "\u001b[34m\u001b[1mval: \u001b[0mC:\\Users\\Cristiano\\Desktop\\Faculdade\\2 semestre\\VC\\project\\VC_project\\Shared\\training_inputs\\chessred2k_YOLO\\valid\\images\\G047_IMG029.jpg: 26 duplicate labels removed\n",
      "\u001b[34m\u001b[1mval: \u001b[0mC:\\Users\\Cristiano\\Desktop\\Faculdade\\2 semestre\\VC\\project\\VC_project\\Shared\\training_inputs\\chessred2k_YOLO\\valid\\images\\G047_IMG030.jpg: 26 duplicate labels removed\n",
      "\u001b[34m\u001b[1mval: \u001b[0mC:\\Users\\Cristiano\\Desktop\\Faculdade\\2 semestre\\VC\\project\\VC_project\\Shared\\training_inputs\\chessred2k_YOLO\\valid\\images\\G047_IMG031.jpg: 25 duplicate labels removed\n",
      "\u001b[34m\u001b[1mval: \u001b[0mC:\\Users\\Cristiano\\Desktop\\Faculdade\\2 semestre\\VC\\project\\VC_project\\Shared\\training_inputs\\chessred2k_YOLO\\valid\\images\\G047_IMG032.jpg: 24 duplicate labels removed\n",
      "\u001b[34m\u001b[1mval: \u001b[0mC:\\Users\\Cristiano\\Desktop\\Faculdade\\2 semestre\\VC\\project\\VC_project\\Shared\\training_inputs\\chessred2k_YOLO\\valid\\images\\G047_IMG033.jpg: 24 duplicate labels removed\n",
      "\u001b[34m\u001b[1mval: \u001b[0mC:\\Users\\Cristiano\\Desktop\\Faculdade\\2 semestre\\VC\\project\\VC_project\\Shared\\training_inputs\\chessred2k_YOLO\\valid\\images\\G047_IMG034.jpg: 24 duplicate labels removed\n",
      "\u001b[34m\u001b[1mval: \u001b[0mC:\\Users\\Cristiano\\Desktop\\Faculdade\\2 semestre\\VC\\project\\VC_project\\Shared\\training_inputs\\chessred2k_YOLO\\valid\\images\\G047_IMG035.jpg: 24 duplicate labels removed\n",
      "\u001b[34m\u001b[1mval: \u001b[0mC:\\Users\\Cristiano\\Desktop\\Faculdade\\2 semestre\\VC\\project\\VC_project\\Shared\\training_inputs\\chessred2k_YOLO\\valid\\images\\G047_IMG036.jpg: 24 duplicate labels removed\n",
      "\u001b[34m\u001b[1mval: \u001b[0mC:\\Users\\Cristiano\\Desktop\\Faculdade\\2 semestre\\VC\\project\\VC_project\\Shared\\training_inputs\\chessred2k_YOLO\\valid\\images\\G047_IMG037.jpg: 24 duplicate labels removed\n",
      "\u001b[34m\u001b[1mval: \u001b[0mC:\\Users\\Cristiano\\Desktop\\Faculdade\\2 semestre\\VC\\project\\VC_project\\Shared\\training_inputs\\chessred2k_YOLO\\valid\\images\\G047_IMG038.jpg: 24 duplicate labels removed\n",
      "\u001b[34m\u001b[1mval: \u001b[0mC:\\Users\\Cristiano\\Desktop\\Faculdade\\2 semestre\\VC\\project\\VC_project\\Shared\\training_inputs\\chessred2k_YOLO\\valid\\images\\G047_IMG039.jpg: 24 duplicate labels removed\n",
      "\u001b[34m\u001b[1mval: \u001b[0mC:\\Users\\Cristiano\\Desktop\\Faculdade\\2 semestre\\VC\\project\\VC_project\\Shared\\training_inputs\\chessred2k_YOLO\\valid\\images\\G047_IMG040.jpg: 24 duplicate labels removed\n",
      "\u001b[34m\u001b[1mval: \u001b[0mC:\\Users\\Cristiano\\Desktop\\Faculdade\\2 semestre\\VC\\project\\VC_project\\Shared\\training_inputs\\chessred2k_YOLO\\valid\\images\\G047_IMG041.jpg: 23 duplicate labels removed\n",
      "\u001b[34m\u001b[1mval: \u001b[0mC:\\Users\\Cristiano\\Desktop\\Faculdade\\2 semestre\\VC\\project\\VC_project\\Shared\\training_inputs\\chessred2k_YOLO\\valid\\images\\G047_IMG042.jpg: 22 duplicate labels removed\n",
      "\u001b[34m\u001b[1mval: \u001b[0mC:\\Users\\Cristiano\\Desktop\\Faculdade\\2 semestre\\VC\\project\\VC_project\\Shared\\training_inputs\\chessred2k_YOLO\\valid\\images\\G047_IMG043.jpg: 22 duplicate labels removed\n",
      "\u001b[34m\u001b[1mval: \u001b[0mC:\\Users\\Cristiano\\Desktop\\Faculdade\\2 semestre\\VC\\project\\VC_project\\Shared\\training_inputs\\chessred2k_YOLO\\valid\\images\\G047_IMG044.jpg: 22 duplicate labels removed\n",
      "\u001b[34m\u001b[1mval: \u001b[0mC:\\Users\\Cristiano\\Desktop\\Faculdade\\2 semestre\\VC\\project\\VC_project\\Shared\\training_inputs\\chessred2k_YOLO\\valid\\images\\G047_IMG045.jpg: 22 duplicate labels removed\n",
      "\u001b[34m\u001b[1mval: \u001b[0mC:\\Users\\Cristiano\\Desktop\\Faculdade\\2 semestre\\VC\\project\\VC_project\\Shared\\training_inputs\\chessred2k_YOLO\\valid\\images\\G047_IMG046.jpg: 22 duplicate labels removed\n",
      "\u001b[34m\u001b[1mval: \u001b[0mC:\\Users\\Cristiano\\Desktop\\Faculdade\\2 semestre\\VC\\project\\VC_project\\Shared\\training_inputs\\chessred2k_YOLO\\valid\\images\\G047_IMG047.jpg: 21 duplicate labels removed\n",
      "\u001b[34m\u001b[1mval: \u001b[0mC:\\Users\\Cristiano\\Desktop\\Faculdade\\2 semestre\\VC\\project\\VC_project\\Shared\\training_inputs\\chessred2k_YOLO\\valid\\images\\G047_IMG048.jpg: 20 duplicate labels removed\n",
      "\u001b[34m\u001b[1mval: \u001b[0mC:\\Users\\Cristiano\\Desktop\\Faculdade\\2 semestre\\VC\\project\\VC_project\\Shared\\training_inputs\\chessred2k_YOLO\\valid\\images\\G047_IMG049.jpg: 19 duplicate labels removed\n",
      "\u001b[34m\u001b[1mval: \u001b[0mC:\\Users\\Cristiano\\Desktop\\Faculdade\\2 semestre\\VC\\project\\VC_project\\Shared\\training_inputs\\chessred2k_YOLO\\valid\\images\\G047_IMG050.jpg: 18 duplicate labels removed\n",
      "\u001b[34m\u001b[1mval: \u001b[0mC:\\Users\\Cristiano\\Desktop\\Faculdade\\2 semestre\\VC\\project\\VC_project\\Shared\\training_inputs\\chessred2k_YOLO\\valid\\images\\G047_IMG051.jpg: 17 duplicate labels removed\n",
      "\u001b[34m\u001b[1mval: \u001b[0mC:\\Users\\Cristiano\\Desktop\\Faculdade\\2 semestre\\VC\\project\\VC_project\\Shared\\training_inputs\\chessred2k_YOLO\\valid\\images\\G047_IMG052.jpg: 17 duplicate labels removed\n",
      "\u001b[34m\u001b[1mval: \u001b[0mC:\\Users\\Cristiano\\Desktop\\Faculdade\\2 semestre\\VC\\project\\VC_project\\Shared\\training_inputs\\chessred2k_YOLO\\valid\\images\\G047_IMG053.jpg: 17 duplicate labels removed\n",
      "\u001b[34m\u001b[1mval: \u001b[0mC:\\Users\\Cristiano\\Desktop\\Faculdade\\2 semestre\\VC\\project\\VC_project\\Shared\\training_inputs\\chessred2k_YOLO\\valid\\images\\G047_IMG054.jpg: 17 duplicate labels removed\n",
      "\u001b[34m\u001b[1mval: \u001b[0mC:\\Users\\Cristiano\\Desktop\\Faculdade\\2 semestre\\VC\\project\\VC_project\\Shared\\training_inputs\\chessred2k_YOLO\\valid\\images\\G047_IMG055.jpg: 17 duplicate labels removed\n",
      "\u001b[34m\u001b[1mval: \u001b[0mC:\\Users\\Cristiano\\Desktop\\Faculdade\\2 semestre\\VC\\project\\VC_project\\Shared\\training_inputs\\chessred2k_YOLO\\valid\\images\\G047_IMG056.jpg: 17 duplicate labels removed\n",
      "\u001b[34m\u001b[1mval: \u001b[0mC:\\Users\\Cristiano\\Desktop\\Faculdade\\2 semestre\\VC\\project\\VC_project\\Shared\\training_inputs\\chessred2k_YOLO\\valid\\images\\G047_IMG057.jpg: 16 duplicate labels removed\n",
      "\u001b[34m\u001b[1mval: \u001b[0mC:\\Users\\Cristiano\\Desktop\\Faculdade\\2 semestre\\VC\\project\\VC_project\\Shared\\training_inputs\\chessred2k_YOLO\\valid\\images\\G047_IMG058.jpg: 16 duplicate labels removed\n",
      "\u001b[34m\u001b[1mval: \u001b[0mC:\\Users\\Cristiano\\Desktop\\Faculdade\\2 semestre\\VC\\project\\VC_project\\Shared\\training_inputs\\chessred2k_YOLO\\valid\\images\\G047_IMG059.jpg: 16 duplicate labels removed\n",
      "\u001b[34m\u001b[1mval: \u001b[0mC:\\Users\\Cristiano\\Desktop\\Faculdade\\2 semestre\\VC\\project\\VC_project\\Shared\\training_inputs\\chessred2k_YOLO\\valid\\images\\G047_IMG060.jpg: 15 duplicate labels removed\n",
      "\u001b[34m\u001b[1mval: \u001b[0mC:\\Users\\Cristiano\\Desktop\\Faculdade\\2 semestre\\VC\\project\\VC_project\\Shared\\training_inputs\\chessred2k_YOLO\\valid\\images\\G047_IMG061.jpg: 15 duplicate labels removed\n",
      "\u001b[34m\u001b[1mval: \u001b[0mC:\\Users\\Cristiano\\Desktop\\Faculdade\\2 semestre\\VC\\project\\VC_project\\Shared\\training_inputs\\chessred2k_YOLO\\valid\\images\\G047_IMG062.jpg: 15 duplicate labels removed\n",
      "\u001b[34m\u001b[1mval: \u001b[0mC:\\Users\\Cristiano\\Desktop\\Faculdade\\2 semestre\\VC\\project\\VC_project\\Shared\\training_inputs\\chessred2k_YOLO\\valid\\images\\G047_IMG063.jpg: 15 duplicate labels removed\n",
      "\u001b[34m\u001b[1mval: \u001b[0mC:\\Users\\Cristiano\\Desktop\\Faculdade\\2 semestre\\VC\\project\\VC_project\\Shared\\training_inputs\\chessred2k_YOLO\\valid\\images\\G047_IMG064.jpg: 14 duplicate labels removed\n",
      "\u001b[34m\u001b[1mval: \u001b[0mC:\\Users\\Cristiano\\Desktop\\Faculdade\\2 semestre\\VC\\project\\VC_project\\Shared\\training_inputs\\chessred2k_YOLO\\valid\\images\\G047_IMG065.jpg: 13 duplicate labels removed\n",
      "\u001b[34m\u001b[1mval: \u001b[0mC:\\Users\\Cristiano\\Desktop\\Faculdade\\2 semestre\\VC\\project\\VC_project\\Shared\\training_inputs\\chessred2k_YOLO\\valid\\images\\G047_IMG066.jpg: 12 duplicate labels removed\n",
      "\u001b[34m\u001b[1mval: \u001b[0mC:\\Users\\Cristiano\\Desktop\\Faculdade\\2 semestre\\VC\\project\\VC_project\\Shared\\training_inputs\\chessred2k_YOLO\\valid\\images\\G047_IMG067.jpg: 12 duplicate labels removed\n",
      "\u001b[34m\u001b[1mval: \u001b[0mC:\\Users\\Cristiano\\Desktop\\Faculdade\\2 semestre\\VC\\project\\VC_project\\Shared\\training_inputs\\chessred2k_YOLO\\valid\\images\\G047_IMG068.jpg: 12 duplicate labels removed\n",
      "\u001b[34m\u001b[1mval: \u001b[0mC:\\Users\\Cristiano\\Desktop\\Faculdade\\2 semestre\\VC\\project\\VC_project\\Shared\\training_inputs\\chessred2k_YOLO\\valid\\images\\G047_IMG069.jpg: 12 duplicate labels removed\n",
      "\u001b[34m\u001b[1mval: \u001b[0mC:\\Users\\Cristiano\\Desktop\\Faculdade\\2 semestre\\VC\\project\\VC_project\\Shared\\training_inputs\\chessred2k_YOLO\\valid\\images\\G047_IMG070.jpg: 12 duplicate labels removed\n",
      "\u001b[34m\u001b[1mval: \u001b[0mC:\\Users\\Cristiano\\Desktop\\Faculdade\\2 semestre\\VC\\project\\VC_project\\Shared\\training_inputs\\chessred2k_YOLO\\valid\\images\\G047_IMG071.jpg: 11 duplicate labels removed\n",
      "\u001b[34m\u001b[1mval: \u001b[0mC:\\Users\\Cristiano\\Desktop\\Faculdade\\2 semestre\\VC\\project\\VC_project\\Shared\\training_inputs\\chessred2k_YOLO\\valid\\images\\G047_IMG072.jpg: 10 duplicate labels removed\n",
      "\u001b[34m\u001b[1mval: \u001b[0mC:\\Users\\Cristiano\\Desktop\\Faculdade\\2 semestre\\VC\\project\\VC_project\\Shared\\training_inputs\\chessred2k_YOLO\\valid\\images\\G047_IMG073.jpg: 10 duplicate labels removed\n",
      "\u001b[34m\u001b[1mval: \u001b[0mC:\\Users\\Cristiano\\Desktop\\Faculdade\\2 semestre\\VC\\project\\VC_project\\Shared\\training_inputs\\chessred2k_YOLO\\valid\\images\\G047_IMG074.jpg: 10 duplicate labels removed\n",
      "\u001b[34m\u001b[1mval: \u001b[0mC:\\Users\\Cristiano\\Desktop\\Faculdade\\2 semestre\\VC\\project\\VC_project\\Shared\\training_inputs\\chessred2k_YOLO\\valid\\images\\G047_IMG075.jpg: 10 duplicate labels removed\n",
      "\u001b[34m\u001b[1mval: \u001b[0mC:\\Users\\Cristiano\\Desktop\\Faculdade\\2 semestre\\VC\\project\\VC_project\\Shared\\training_inputs\\chessred2k_YOLO\\valid\\images\\G047_IMG076.jpg: 10 duplicate labels removed\n",
      "\u001b[34m\u001b[1mval: \u001b[0mC:\\Users\\Cristiano\\Desktop\\Faculdade\\2 semestre\\VC\\project\\VC_project\\Shared\\training_inputs\\chessred2k_YOLO\\valid\\images\\G047_IMG077.jpg: 10 duplicate labels removed\n",
      "\u001b[34m\u001b[1mval: \u001b[0mC:\\Users\\Cristiano\\Desktop\\Faculdade\\2 semestre\\VC\\project\\VC_project\\Shared\\training_inputs\\chessred2k_YOLO\\valid\\images\\G047_IMG078.jpg: 10 duplicate labels removed\n",
      "\u001b[34m\u001b[1mval: \u001b[0mC:\\Users\\Cristiano\\Desktop\\Faculdade\\2 semestre\\VC\\project\\VC_project\\Shared\\training_inputs\\chessred2k_YOLO\\valid\\images\\G047_IMG079.jpg: 9 duplicate labels removed\n",
      "\u001b[34m\u001b[1mval: \u001b[0mC:\\Users\\Cristiano\\Desktop\\Faculdade\\2 semestre\\VC\\project\\VC_project\\Shared\\training_inputs\\chessred2k_YOLO\\valid\\images\\G047_IMG080.jpg: 8 duplicate labels removed\n",
      "\u001b[34m\u001b[1mval: \u001b[0mC:\\Users\\Cristiano\\Desktop\\Faculdade\\2 semestre\\VC\\project\\VC_project\\Shared\\training_inputs\\chessred2k_YOLO\\valid\\images\\G047_IMG081.jpg: 8 duplicate labels removed\n",
      "\u001b[34m\u001b[1mval: \u001b[0mC:\\Users\\Cristiano\\Desktop\\Faculdade\\2 semestre\\VC\\project\\VC_project\\Shared\\training_inputs\\chessred2k_YOLO\\valid\\images\\G047_IMG082.jpg: 7 duplicate labels removed\n",
      "\u001b[34m\u001b[1mval: \u001b[0mC:\\Users\\Cristiano\\Desktop\\Faculdade\\2 semestre\\VC\\project\\VC_project\\Shared\\training_inputs\\chessred2k_YOLO\\valid\\images\\G047_IMG083.jpg: 6 duplicate labels removed\n",
      "\u001b[34m\u001b[1mval: \u001b[0mC:\\Users\\Cristiano\\Desktop\\Faculdade\\2 semestre\\VC\\project\\VC_project\\Shared\\training_inputs\\chessred2k_YOLO\\valid\\images\\G047_IMG084.jpg: 6 duplicate labels removed\n",
      "\u001b[34m\u001b[1mval: \u001b[0mC:\\Users\\Cristiano\\Desktop\\Faculdade\\2 semestre\\VC\\project\\VC_project\\Shared\\training_inputs\\chessred2k_YOLO\\valid\\images\\G047_IMG085.jpg: 6 duplicate labels removed\n",
      "\u001b[34m\u001b[1mval: \u001b[0mC:\\Users\\Cristiano\\Desktop\\Faculdade\\2 semestre\\VC\\project\\VC_project\\Shared\\training_inputs\\chessred2k_YOLO\\valid\\images\\G047_IMG086.jpg: 6 duplicate labels removed\n",
      "\u001b[34m\u001b[1mval: \u001b[0mC:\\Users\\Cristiano\\Desktop\\Faculdade\\2 semestre\\VC\\project\\VC_project\\Shared\\training_inputs\\chessred2k_YOLO\\valid\\images\\G047_IMG087.jpg: 6 duplicate labels removed\n",
      "\u001b[34m\u001b[1mval: \u001b[0mC:\\Users\\Cristiano\\Desktop\\Faculdade\\2 semestre\\VC\\project\\VC_project\\Shared\\training_inputs\\chessred2k_YOLO\\valid\\images\\G047_IMG088.jpg: 6 duplicate labels removed\n",
      "\u001b[34m\u001b[1mval: \u001b[0mC:\\Users\\Cristiano\\Desktop\\Faculdade\\2 semestre\\VC\\project\\VC_project\\Shared\\training_inputs\\chessred2k_YOLO\\valid\\images\\G047_IMG089.jpg: 6 duplicate labels removed\n",
      "\u001b[34m\u001b[1mval: \u001b[0mC:\\Users\\Cristiano\\Desktop\\Faculdade\\2 semestre\\VC\\project\\VC_project\\Shared\\training_inputs\\chessred2k_YOLO\\valid\\images\\G047_IMG090.jpg: 6 duplicate labels removed\n",
      "\u001b[34m\u001b[1mval: \u001b[0mC:\\Users\\Cristiano\\Desktop\\Faculdade\\2 semestre\\VC\\project\\VC_project\\Shared\\training_inputs\\chessred2k_YOLO\\valid\\images\\G047_IMG091.jpg: 6 duplicate labels removed\n",
      "\u001b[34m\u001b[1mval: \u001b[0mC:\\Users\\Cristiano\\Desktop\\Faculdade\\2 semestre\\VC\\project\\VC_project\\Shared\\training_inputs\\chessred2k_YOLO\\valid\\images\\G047_IMG092.jpg: 6 duplicate labels removed\n",
      "\u001b[34m\u001b[1mval: \u001b[0mC:\\Users\\Cristiano\\Desktop\\Faculdade\\2 semestre\\VC\\project\\VC_project\\Shared\\training_inputs\\chessred2k_YOLO\\valid\\images\\G047_IMG093.jpg: 6 duplicate labels removed\n",
      "\u001b[34m\u001b[1mval: \u001b[0mC:\\Users\\Cristiano\\Desktop\\Faculdade\\2 semestre\\VC\\project\\VC_project\\Shared\\training_inputs\\chessred2k_YOLO\\valid\\images\\G047_IMG094.jpg: 6 duplicate labels removed\n",
      "\u001b[34m\u001b[1mval: \u001b[0mC:\\Users\\Cristiano\\Desktop\\Faculdade\\2 semestre\\VC\\project\\VC_project\\Shared\\training_inputs\\chessred2k_YOLO\\valid\\images\\G047_IMG095.jpg: 6 duplicate labels removed\n",
      "\u001b[34m\u001b[1mval: \u001b[0mC:\\Users\\Cristiano\\Desktop\\Faculdade\\2 semestre\\VC\\project\\VC_project\\Shared\\training_inputs\\chessred2k_YOLO\\valid\\images\\G047_IMG096.jpg: 6 duplicate labels removed\n",
      "\u001b[34m\u001b[1mval: \u001b[0mC:\\Users\\Cristiano\\Desktop\\Faculdade\\2 semestre\\VC\\project\\VC_project\\Shared\\training_inputs\\chessred2k_YOLO\\valid\\images\\G047_IMG097.jpg: 6 duplicate labels removed\n",
      "\u001b[34m\u001b[1mval: \u001b[0mC:\\Users\\Cristiano\\Desktop\\Faculdade\\2 semestre\\VC\\project\\VC_project\\Shared\\training_inputs\\chessred2k_YOLO\\valid\\images\\G047_IMG098.jpg: 6 duplicate labels removed\n",
      "\u001b[34m\u001b[1mval: \u001b[0mC:\\Users\\Cristiano\\Desktop\\Faculdade\\2 semestre\\VC\\project\\VC_project\\Shared\\training_inputs\\chessred2k_YOLO\\valid\\images\\G047_IMG099.jpg: 6 duplicate labels removed\n",
      "\u001b[34m\u001b[1mval: \u001b[0mC:\\Users\\Cristiano\\Desktop\\Faculdade\\2 semestre\\VC\\project\\VC_project\\Shared\\training_inputs\\chessred2k_YOLO\\valid\\images\\G047_IMG100.jpg: 6 duplicate labels removed\n",
      "\u001b[34m\u001b[1mval: \u001b[0mC:\\Users\\Cristiano\\Desktop\\Faculdade\\2 semestre\\VC\\project\\VC_project\\Shared\\training_inputs\\chessred2k_YOLO\\valid\\images\\G047_IMG101.jpg: 6 duplicate labels removed\n",
      "\u001b[34m\u001b[1mval: \u001b[0mC:\\Users\\Cristiano\\Desktop\\Faculdade\\2 semestre\\VC\\project\\VC_project\\Shared\\training_inputs\\chessred2k_YOLO\\valid\\images\\G047_IMG102.jpg: 6 duplicate labels removed\n",
      "\u001b[34m\u001b[1mval: \u001b[0mC:\\Users\\Cristiano\\Desktop\\Faculdade\\2 semestre\\VC\\project\\VC_project\\Shared\\training_inputs\\chessred2k_YOLO\\valid\\images\\G047_IMG103.jpg: 6 duplicate labels removed\n",
      "\u001b[34m\u001b[1mval: \u001b[0mC:\\Users\\Cristiano\\Desktop\\Faculdade\\2 semestre\\VC\\project\\VC_project\\Shared\\training_inputs\\chessred2k_YOLO\\valid\\images\\G047_IMG104.jpg: 6 duplicate labels removed\n",
      "\u001b[34m\u001b[1mval: \u001b[0mC:\\Users\\Cristiano\\Desktop\\Faculdade\\2 semestre\\VC\\project\\VC_project\\Shared\\training_inputs\\chessred2k_YOLO\\valid\\images\\G047_IMG105.jpg: 6 duplicate labels removed\n",
      "\u001b[34m\u001b[1mval: \u001b[0mC:\\Users\\Cristiano\\Desktop\\Faculdade\\2 semestre\\VC\\project\\VC_project\\Shared\\training_inputs\\chessred2k_YOLO\\valid\\images\\G047_IMG106.jpg: 6 duplicate labels removed\n",
      "\u001b[34m\u001b[1mval: \u001b[0mC:\\Users\\Cristiano\\Desktop\\Faculdade\\2 semestre\\VC\\project\\VC_project\\Shared\\training_inputs\\chessred2k_YOLO\\valid\\images\\G047_IMG107.jpg: 6 duplicate labels removed\n",
      "\u001b[34m\u001b[1mval: \u001b[0mC:\\Users\\Cristiano\\Desktop\\Faculdade\\2 semestre\\VC\\project\\VC_project\\Shared\\training_inputs\\chessred2k_YOLO\\valid\\images\\G047_IMG108.jpg: 6 duplicate labels removed\n",
      "\u001b[34m\u001b[1mval: \u001b[0mC:\\Users\\Cristiano\\Desktop\\Faculdade\\2 semestre\\VC\\project\\VC_project\\Shared\\training_inputs\\chessred2k_YOLO\\valid\\images\\G058_IMG000.jpg: 32 duplicate labels removed\n",
      "\u001b[34m\u001b[1mval: \u001b[0mC:\\Users\\Cristiano\\Desktop\\Faculdade\\2 semestre\\VC\\project\\VC_project\\Shared\\training_inputs\\chessred2k_YOLO\\valid\\images\\G058_IMG001.jpg: 32 duplicate labels removed\n",
      "\u001b[34m\u001b[1mval: \u001b[0mC:\\Users\\Cristiano\\Desktop\\Faculdade\\2 semestre\\VC\\project\\VC_project\\Shared\\training_inputs\\chessred2k_YOLO\\valid\\images\\G058_IMG002.jpg: 32 duplicate labels removed\n",
      "\u001b[34m\u001b[1mval: \u001b[0mC:\\Users\\Cristiano\\Desktop\\Faculdade\\2 semestre\\VC\\project\\VC_project\\Shared\\training_inputs\\chessred2k_YOLO\\valid\\images\\G058_IMG003.jpg: 32 duplicate labels removed\n",
      "\u001b[34m\u001b[1mval: \u001b[0mC:\\Users\\Cristiano\\Desktop\\Faculdade\\2 semestre\\VC\\project\\VC_project\\Shared\\training_inputs\\chessred2k_YOLO\\valid\\images\\G058_IMG004.jpg: 32 duplicate labels removed\n",
      "\u001b[34m\u001b[1mval: \u001b[0mC:\\Users\\Cristiano\\Desktop\\Faculdade\\2 semestre\\VC\\project\\VC_project\\Shared\\training_inputs\\chessred2k_YOLO\\valid\\images\\G058_IMG005.jpg: 32 duplicate labels removed\n",
      "\u001b[34m\u001b[1mval: \u001b[0mC:\\Users\\Cristiano\\Desktop\\Faculdade\\2 semestre\\VC\\project\\VC_project\\Shared\\training_inputs\\chessred2k_YOLO\\valid\\images\\G058_IMG006.jpg: 31 duplicate labels removed\n",
      "\u001b[34m\u001b[1mval: \u001b[0mC:\\Users\\Cristiano\\Desktop\\Faculdade\\2 semestre\\VC\\project\\VC_project\\Shared\\training_inputs\\chessred2k_YOLO\\valid\\images\\G058_IMG007.jpg: 31 duplicate labels removed\n",
      "\u001b[34m\u001b[1mval: \u001b[0mC:\\Users\\Cristiano\\Desktop\\Faculdade\\2 semestre\\VC\\project\\VC_project\\Shared\\training_inputs\\chessred2k_YOLO\\valid\\images\\G058_IMG008.jpg: 31 duplicate labels removed\n",
      "\u001b[34m\u001b[1mval: \u001b[0mC:\\Users\\Cristiano\\Desktop\\Faculdade\\2 semestre\\VC\\project\\VC_project\\Shared\\training_inputs\\chessred2k_YOLO\\valid\\images\\G058_IMG009.jpg: 31 duplicate labels removed\n",
      "\u001b[34m\u001b[1mval: \u001b[0mC:\\Users\\Cristiano\\Desktop\\Faculdade\\2 semestre\\VC\\project\\VC_project\\Shared\\training_inputs\\chessred2k_YOLO\\valid\\images\\G058_IMG010.jpg: 30 duplicate labels removed\n",
      "\u001b[34m\u001b[1mval: \u001b[0mC:\\Users\\Cristiano\\Desktop\\Faculdade\\2 semestre\\VC\\project\\VC_project\\Shared\\training_inputs\\chessred2k_YOLO\\valid\\images\\G058_IMG011.jpg: 30 duplicate labels removed\n",
      "\u001b[34m\u001b[1mval: \u001b[0mC:\\Users\\Cristiano\\Desktop\\Faculdade\\2 semestre\\VC\\project\\VC_project\\Shared\\training_inputs\\chessred2k_YOLO\\valid\\images\\G058_IMG012.jpg: 30 duplicate labels removed\n",
      "\u001b[34m\u001b[1mval: \u001b[0mC:\\Users\\Cristiano\\Desktop\\Faculdade\\2 semestre\\VC\\project\\VC_project\\Shared\\training_inputs\\chessred2k_YOLO\\valid\\images\\G058_IMG013.jpg: 29 duplicate labels removed\n",
      "\u001b[34m\u001b[1mval: \u001b[0mC:\\Users\\Cristiano\\Desktop\\Faculdade\\2 semestre\\VC\\project\\VC_project\\Shared\\training_inputs\\chessred2k_YOLO\\valid\\images\\G058_IMG014.jpg: 28 duplicate labels removed\n",
      "\u001b[34m\u001b[1mval: \u001b[0mC:\\Users\\Cristiano\\Desktop\\Faculdade\\2 semestre\\VC\\project\\VC_project\\Shared\\training_inputs\\chessred2k_YOLO\\valid\\images\\G058_IMG015.jpg: 28 duplicate labels removed\n",
      "\u001b[34m\u001b[1mval: \u001b[0mC:\\Users\\Cristiano\\Desktop\\Faculdade\\2 semestre\\VC\\project\\VC_project\\Shared\\training_inputs\\chessred2k_YOLO\\valid\\images\\G058_IMG016.jpg: 28 duplicate labels removed\n",
      "\u001b[34m\u001b[1mval: \u001b[0mC:\\Users\\Cristiano\\Desktop\\Faculdade\\2 semestre\\VC\\project\\VC_project\\Shared\\training_inputs\\chessred2k_YOLO\\valid\\images\\G058_IMG017.jpg: 27 duplicate labels removed\n",
      "\u001b[34m\u001b[1mval: \u001b[0mC:\\Users\\Cristiano\\Desktop\\Faculdade\\2 semestre\\VC\\project\\VC_project\\Shared\\training_inputs\\chessred2k_YOLO\\valid\\images\\G058_IMG018.jpg: 27 duplicate labels removed\n",
      "\u001b[34m\u001b[1mval: \u001b[0mC:\\Users\\Cristiano\\Desktop\\Faculdade\\2 semestre\\VC\\project\\VC_project\\Shared\\training_inputs\\chessred2k_YOLO\\valid\\images\\G058_IMG019.jpg: 26 duplicate labels removed\n",
      "\u001b[34m\u001b[1mval: \u001b[0mC:\\Users\\Cristiano\\Desktop\\Faculdade\\2 semestre\\VC\\project\\VC_project\\Shared\\training_inputs\\chessred2k_YOLO\\valid\\images\\G058_IMG020.jpg: 25 duplicate labels removed\n",
      "\u001b[34m\u001b[1mval: \u001b[0mC:\\Users\\Cristiano\\Desktop\\Faculdade\\2 semestre\\VC\\project\\VC_project\\Shared\\training_inputs\\chessred2k_YOLO\\valid\\images\\G058_IMG021.jpg: 24 duplicate labels removed\n",
      "\u001b[34m\u001b[1mval: \u001b[0mC:\\Users\\Cristiano\\Desktop\\Faculdade\\2 semestre\\VC\\project\\VC_project\\Shared\\training_inputs\\chessred2k_YOLO\\valid\\images\\G058_IMG022.jpg: 24 duplicate labels removed\n",
      "\u001b[34m\u001b[1mval: \u001b[0mC:\\Users\\Cristiano\\Desktop\\Faculdade\\2 semestre\\VC\\project\\VC_project\\Shared\\training_inputs\\chessred2k_YOLO\\valid\\images\\G058_IMG023.jpg: 24 duplicate labels removed\n",
      "\u001b[34m\u001b[1mval: \u001b[0mC:\\Users\\Cristiano\\Desktop\\Faculdade\\2 semestre\\VC\\project\\VC_project\\Shared\\training_inputs\\chessred2k_YOLO\\valid\\images\\G058_IMG024.jpg: 24 duplicate labels removed\n",
      "\u001b[34m\u001b[1mval: \u001b[0mC:\\Users\\Cristiano\\Desktop\\Faculdade\\2 semestre\\VC\\project\\VC_project\\Shared\\training_inputs\\chessred2k_YOLO\\valid\\images\\G058_IMG025.jpg: 23 duplicate labels removed\n",
      "\u001b[34m\u001b[1mval: \u001b[0mC:\\Users\\Cristiano\\Desktop\\Faculdade\\2 semestre\\VC\\project\\VC_project\\Shared\\training_inputs\\chessred2k_YOLO\\valid\\images\\G058_IMG026.jpg: 22 duplicate labels removed\n",
      "\u001b[34m\u001b[1mval: \u001b[0mC:\\Users\\Cristiano\\Desktop\\Faculdade\\2 semestre\\VC\\project\\VC_project\\Shared\\training_inputs\\chessred2k_YOLO\\valid\\images\\G058_IMG027.jpg: 22 duplicate labels removed\n",
      "\u001b[34m\u001b[1mval: \u001b[0mC:\\Users\\Cristiano\\Desktop\\Faculdade\\2 semestre\\VC\\project\\VC_project\\Shared\\training_inputs\\chessred2k_YOLO\\valid\\images\\G058_IMG028.jpg: 22 duplicate labels removed\n",
      "\u001b[34m\u001b[1mval: \u001b[0mC:\\Users\\Cristiano\\Desktop\\Faculdade\\2 semestre\\VC\\project\\VC_project\\Shared\\training_inputs\\chessred2k_YOLO\\valid\\images\\G058_IMG029.jpg: 21 duplicate labels removed\n",
      "\u001b[34m\u001b[1mval: \u001b[0mC:\\Users\\Cristiano\\Desktop\\Faculdade\\2 semestre\\VC\\project\\VC_project\\Shared\\training_inputs\\chessred2k_YOLO\\valid\\images\\G058_IMG030.jpg: 21 duplicate labels removed\n",
      "\u001b[34m\u001b[1mval: \u001b[0mC:\\Users\\Cristiano\\Desktop\\Faculdade\\2 semestre\\VC\\project\\VC_project\\Shared\\training_inputs\\chessred2k_YOLO\\valid\\images\\G058_IMG031.jpg: 21 duplicate labels removed\n",
      "\u001b[34m\u001b[1mval: \u001b[0mC:\\Users\\Cristiano\\Desktop\\Faculdade\\2 semestre\\VC\\project\\VC_project\\Shared\\training_inputs\\chessred2k_YOLO\\valid\\images\\G058_IMG032.jpg: 20 duplicate labels removed\n",
      "\u001b[34m\u001b[1mval: \u001b[0mC:\\Users\\Cristiano\\Desktop\\Faculdade\\2 semestre\\VC\\project\\VC_project\\Shared\\training_inputs\\chessred2k_YOLO\\valid\\images\\G058_IMG033.jpg: 19 duplicate labels removed\n",
      "\u001b[34m\u001b[1mval: \u001b[0mC:\\Users\\Cristiano\\Desktop\\Faculdade\\2 semestre\\VC\\project\\VC_project\\Shared\\training_inputs\\chessred2k_YOLO\\valid\\images\\G058_IMG034.jpg: 19 duplicate labels removed\n",
      "\u001b[34m\u001b[1mval: \u001b[0mC:\\Users\\Cristiano\\Desktop\\Faculdade\\2 semestre\\VC\\project\\VC_project\\Shared\\training_inputs\\chessred2k_YOLO\\valid\\images\\G058_IMG035.jpg: 19 duplicate labels removed\n",
      "\u001b[34m\u001b[1mval: \u001b[0mC:\\Users\\Cristiano\\Desktop\\Faculdade\\2 semestre\\VC\\project\\VC_project\\Shared\\training_inputs\\chessred2k_YOLO\\valid\\images\\G058_IMG036.jpg: 19 duplicate labels removed\n",
      "\u001b[34m\u001b[1mval: \u001b[0mC:\\Users\\Cristiano\\Desktop\\Faculdade\\2 semestre\\VC\\project\\VC_project\\Shared\\training_inputs\\chessred2k_YOLO\\valid\\images\\G058_IMG037.jpg: 19 duplicate labels removed\n",
      "\u001b[34m\u001b[1mval: \u001b[0mC:\\Users\\Cristiano\\Desktop\\Faculdade\\2 semestre\\VC\\project\\VC_project\\Shared\\training_inputs\\chessred2k_YOLO\\valid\\images\\G058_IMG038.jpg: 19 duplicate labels removed\n",
      "\u001b[34m\u001b[1mval: \u001b[0mC:\\Users\\Cristiano\\Desktop\\Faculdade\\2 semestre\\VC\\project\\VC_project\\Shared\\training_inputs\\chessred2k_YOLO\\valid\\images\\G058_IMG039.jpg: 19 duplicate labels removed\n",
      "\u001b[34m\u001b[1mval: \u001b[0mC:\\Users\\Cristiano\\Desktop\\Faculdade\\2 semestre\\VC\\project\\VC_project\\Shared\\training_inputs\\chessred2k_YOLO\\valid\\images\\G058_IMG040.jpg: 19 duplicate labels removed\n",
      "\u001b[34m\u001b[1mval: \u001b[0mC:\\Users\\Cristiano\\Desktop\\Faculdade\\2 semestre\\VC\\project\\VC_project\\Shared\\training_inputs\\chessred2k_YOLO\\valid\\images\\G058_IMG041.jpg: 19 duplicate labels removed\n",
      "\u001b[34m\u001b[1mval: \u001b[0mC:\\Users\\Cristiano\\Desktop\\Faculdade\\2 semestre\\VC\\project\\VC_project\\Shared\\training_inputs\\chessred2k_YOLO\\valid\\images\\G058_IMG042.jpg: 18 duplicate labels removed\n",
      "\u001b[34m\u001b[1mval: \u001b[0mC:\\Users\\Cristiano\\Desktop\\Faculdade\\2 semestre\\VC\\project\\VC_project\\Shared\\training_inputs\\chessred2k_YOLO\\valid\\images\\G058_IMG043.jpg: 17 duplicate labels removed\n",
      "\u001b[34m\u001b[1mval: \u001b[0mC:\\Users\\Cristiano\\Desktop\\Faculdade\\2 semestre\\VC\\project\\VC_project\\Shared\\training_inputs\\chessred2k_YOLO\\valid\\images\\G058_IMG044.jpg: 17 duplicate labels removed\n",
      "\u001b[34m\u001b[1mval: \u001b[0mC:\\Users\\Cristiano\\Desktop\\Faculdade\\2 semestre\\VC\\project\\VC_project\\Shared\\training_inputs\\chessred2k_YOLO\\valid\\images\\G058_IMG045.jpg: 17 duplicate labels removed\n",
      "\u001b[34m\u001b[1mval: \u001b[0mC:\\Users\\Cristiano\\Desktop\\Faculdade\\2 semestre\\VC\\project\\VC_project\\Shared\\training_inputs\\chessred2k_YOLO\\valid\\images\\G058_IMG046.jpg: 17 duplicate labels removed\n",
      "\u001b[34m\u001b[1mval: \u001b[0mC:\\Users\\Cristiano\\Desktop\\Faculdade\\2 semestre\\VC\\project\\VC_project\\Shared\\training_inputs\\chessred2k_YOLO\\valid\\images\\G058_IMG047.jpg: 16 duplicate labels removed\n",
      "\u001b[34m\u001b[1mval: \u001b[0mC:\\Users\\Cristiano\\Desktop\\Faculdade\\2 semestre\\VC\\project\\VC_project\\Shared\\training_inputs\\chessred2k_YOLO\\valid\\images\\G058_IMG048.jpg: 15 duplicate labels removed\n",
      "\u001b[34m\u001b[1mval: \u001b[0mC:\\Users\\Cristiano\\Desktop\\Faculdade\\2 semestre\\VC\\project\\VC_project\\Shared\\training_inputs\\chessred2k_YOLO\\valid\\images\\G058_IMG049.jpg: 15 duplicate labels removed\n",
      "\u001b[34m\u001b[1mval: \u001b[0mC:\\Users\\Cristiano\\Desktop\\Faculdade\\2 semestre\\VC\\project\\VC_project\\Shared\\training_inputs\\chessred2k_YOLO\\valid\\images\\G058_IMG050.jpg: 15 duplicate labels removed\n",
      "\u001b[34m\u001b[1mval: \u001b[0mC:\\Users\\Cristiano\\Desktop\\Faculdade\\2 semestre\\VC\\project\\VC_project\\Shared\\training_inputs\\chessred2k_YOLO\\valid\\images\\G058_IMG051.jpg: 14 duplicate labels removed\n",
      "\u001b[34m\u001b[1mval: \u001b[0mC:\\Users\\Cristiano\\Desktop\\Faculdade\\2 semestre\\VC\\project\\VC_project\\Shared\\training_inputs\\chessred2k_YOLO\\valid\\images\\G058_IMG052.jpg: 13 duplicate labels removed\n",
      "\u001b[34m\u001b[1mval: \u001b[0mC:\\Users\\Cristiano\\Desktop\\Faculdade\\2 semestre\\VC\\project\\VC_project\\Shared\\training_inputs\\chessred2k_YOLO\\valid\\images\\G058_IMG053.jpg: 13 duplicate labels removed\n",
      "\u001b[34m\u001b[1mval: \u001b[0mC:\\Users\\Cristiano\\Desktop\\Faculdade\\2 semestre\\VC\\project\\VC_project\\Shared\\training_inputs\\chessred2k_YOLO\\valid\\images\\G058_IMG054.jpg: 13 duplicate labels removed\n",
      "\u001b[34m\u001b[1mval: \u001b[0mC:\\Users\\Cristiano\\Desktop\\Faculdade\\2 semestre\\VC\\project\\VC_project\\Shared\\training_inputs\\chessred2k_YOLO\\valid\\images\\G058_IMG055.jpg: 13 duplicate labels removed\n",
      "\u001b[34m\u001b[1mval: \u001b[0mC:\\Users\\Cristiano\\Desktop\\Faculdade\\2 semestre\\VC\\project\\VC_project\\Shared\\training_inputs\\chessred2k_YOLO\\valid\\images\\G058_IMG056.jpg: 13 duplicate labels removed\n",
      "\u001b[34m\u001b[1mval: \u001b[0mC:\\Users\\Cristiano\\Desktop\\Faculdade\\2 semestre\\VC\\project\\VC_project\\Shared\\training_inputs\\chessred2k_YOLO\\valid\\images\\G058_IMG057.jpg: 13 duplicate labels removed\n",
      "\u001b[34m\u001b[1mval: \u001b[0mC:\\Users\\Cristiano\\Desktop\\Faculdade\\2 semestre\\VC\\project\\VC_project\\Shared\\training_inputs\\chessred2k_YOLO\\valid\\images\\G058_IMG058.jpg: 13 duplicate labels removed\n",
      "\u001b[34m\u001b[1mval: \u001b[0mC:\\Users\\Cristiano\\Desktop\\Faculdade\\2 semestre\\VC\\project\\VC_project\\Shared\\training_inputs\\chessred2k_YOLO\\valid\\images\\G058_IMG059.jpg: 13 duplicate labels removed\n",
      "\u001b[34m\u001b[1mval: \u001b[0mC:\\Users\\Cristiano\\Desktop\\Faculdade\\2 semestre\\VC\\project\\VC_project\\Shared\\training_inputs\\chessred2k_YOLO\\valid\\images\\G058_IMG060.jpg: 13 duplicate labels removed\n",
      "\u001b[34m\u001b[1mval: \u001b[0mC:\\Users\\Cristiano\\Desktop\\Faculdade\\2 semestre\\VC\\project\\VC_project\\Shared\\training_inputs\\chessred2k_YOLO\\valid\\images\\G058_IMG061.jpg: 13 duplicate labels removed\n",
      "\u001b[34m\u001b[1mval: \u001b[0mC:\\Users\\Cristiano\\Desktop\\Faculdade\\2 semestre\\VC\\project\\VC_project\\Shared\\training_inputs\\chessred2k_YOLO\\valid\\images\\G058_IMG062.jpg: 13 duplicate labels removed\n",
      "\u001b[34m\u001b[1mval: \u001b[0mC:\\Users\\Cristiano\\Desktop\\Faculdade\\2 semestre\\VC\\project\\VC_project\\Shared\\training_inputs\\chessred2k_YOLO\\valid\\images\\G058_IMG063.jpg: 13 duplicate labels removed\n",
      "\u001b[34m\u001b[1mval: \u001b[0mC:\\Users\\Cristiano\\Desktop\\Faculdade\\2 semestre\\VC\\project\\VC_project\\Shared\\training_inputs\\chessred2k_YOLO\\valid\\images\\G058_IMG064.jpg: 13 duplicate labels removed\n",
      "\u001b[34m\u001b[1mval: \u001b[0mC:\\Users\\Cristiano\\Desktop\\Faculdade\\2 semestre\\VC\\project\\VC_project\\Shared\\training_inputs\\chessred2k_YOLO\\valid\\images\\G058_IMG065.jpg: 13 duplicate labels removed\n",
      "\u001b[34m\u001b[1mval: \u001b[0mC:\\Users\\Cristiano\\Desktop\\Faculdade\\2 semestre\\VC\\project\\VC_project\\Shared\\training_inputs\\chessred2k_YOLO\\valid\\images\\G058_IMG066.jpg: 13 duplicate labels removed\n",
      "\u001b[34m\u001b[1mval: \u001b[0mC:\\Users\\Cristiano\\Desktop\\Faculdade\\2 semestre\\VC\\project\\VC_project\\Shared\\training_inputs\\chessred2k_YOLO\\valid\\images\\G058_IMG067.jpg: 13 duplicate labels removed\n",
      "\u001b[34m\u001b[1mval: \u001b[0mC:\\Users\\Cristiano\\Desktop\\Faculdade\\2 semestre\\VC\\project\\VC_project\\Shared\\training_inputs\\chessred2k_YOLO\\valid\\images\\G058_IMG068.jpg: 13 duplicate labels removed\n",
      "\u001b[34m\u001b[1mval: \u001b[0mC:\\Users\\Cristiano\\Desktop\\Faculdade\\2 semestre\\VC\\project\\VC_project\\Shared\\training_inputs\\chessred2k_YOLO\\valid\\images\\G058_IMG069.jpg: 13 duplicate labels removed\n",
      "\u001b[34m\u001b[1mval: \u001b[0mC:\\Users\\Cristiano\\Desktop\\Faculdade\\2 semestre\\VC\\project\\VC_project\\Shared\\training_inputs\\chessred2k_YOLO\\valid\\images\\G058_IMG070.jpg: 13 duplicate labels removed\n",
      "\u001b[34m\u001b[1mval: \u001b[0mC:\\Users\\Cristiano\\Desktop\\Faculdade\\2 semestre\\VC\\project\\VC_project\\Shared\\training_inputs\\chessred2k_YOLO\\valid\\images\\G058_IMG071.jpg: 13 duplicate labels removed\n",
      "\u001b[34m\u001b[1mval: \u001b[0mC:\\Users\\Cristiano\\Desktop\\Faculdade\\2 semestre\\VC\\project\\VC_project\\Shared\\training_inputs\\chessred2k_YOLO\\valid\\images\\G058_IMG072.jpg: 12 duplicate labels removed\n",
      "\u001b[34m\u001b[1mval: \u001b[0mC:\\Users\\Cristiano\\Desktop\\Faculdade\\2 semestre\\VC\\project\\VC_project\\Shared\\training_inputs\\chessred2k_YOLO\\valid\\images\\G058_IMG073.jpg: 11 duplicate labels removed\n",
      "\u001b[34m\u001b[1mval: \u001b[0mC:\\Users\\Cristiano\\Desktop\\Faculdade\\2 semestre\\VC\\project\\VC_project\\Shared\\training_inputs\\chessred2k_YOLO\\valid\\images\\G058_IMG074.jpg: 11 duplicate labels removed\n",
      "\u001b[34m\u001b[1mval: \u001b[0mC:\\Users\\Cristiano\\Desktop\\Faculdade\\2 semestre\\VC\\project\\VC_project\\Shared\\training_inputs\\chessred2k_YOLO\\valid\\images\\G058_IMG075.jpg: 11 duplicate labels removed\n",
      "\u001b[34m\u001b[1mval: \u001b[0mC:\\Users\\Cristiano\\Desktop\\Faculdade\\2 semestre\\VC\\project\\VC_project\\Shared\\training_inputs\\chessred2k_YOLO\\valid\\images\\G058_IMG076.jpg: 11 duplicate labels removed\n",
      "\u001b[34m\u001b[1mval: \u001b[0mC:\\Users\\Cristiano\\Desktop\\Faculdade\\2 semestre\\VC\\project\\VC_project\\Shared\\training_inputs\\chessred2k_YOLO\\valid\\images\\G058_IMG077.jpg: 11 duplicate labels removed\n",
      "\u001b[34m\u001b[1mval: \u001b[0mC:\\Users\\Cristiano\\Desktop\\Faculdade\\2 semestre\\VC\\project\\VC_project\\Shared\\training_inputs\\chessred2k_YOLO\\valid\\images\\G058_IMG078.jpg: 11 duplicate labels removed\n",
      "\u001b[34m\u001b[1mval: \u001b[0mC:\\Users\\Cristiano\\Desktop\\Faculdade\\2 semestre\\VC\\project\\VC_project\\Shared\\training_inputs\\chessred2k_YOLO\\valid\\images\\G058_IMG079.jpg: 11 duplicate labels removed\n",
      "\u001b[34m\u001b[1mval: \u001b[0mC:\\Users\\Cristiano\\Desktop\\Faculdade\\2 semestre\\VC\\project\\VC_project\\Shared\\training_inputs\\chessred2k_YOLO\\valid\\images\\G058_IMG080.jpg: 11 duplicate labels removed\n",
      "\u001b[34m\u001b[1mval: \u001b[0mC:\\Users\\Cristiano\\Desktop\\Faculdade\\2 semestre\\VC\\project\\VC_project\\Shared\\training_inputs\\chessred2k_YOLO\\valid\\images\\G058_IMG081.jpg: 11 duplicate labels removed\n",
      "\u001b[34m\u001b[1mval: \u001b[0mC:\\Users\\Cristiano\\Desktop\\Faculdade\\2 semestre\\VC\\project\\VC_project\\Shared\\training_inputs\\chessred2k_YOLO\\valid\\images\\G058_IMG082.jpg: 11 duplicate labels removed\n",
      "\u001b[34m\u001b[1mval: \u001b[0mC:\\Users\\Cristiano\\Desktop\\Faculdade\\2 semestre\\VC\\project\\VC_project\\Shared\\training_inputs\\chessred2k_YOLO\\valid\\images\\G058_IMG083.jpg: 11 duplicate labels removed\n",
      "\u001b[34m\u001b[1mval: \u001b[0mC:\\Users\\Cristiano\\Desktop\\Faculdade\\2 semestre\\VC\\project\\VC_project\\Shared\\training_inputs\\chessred2k_YOLO\\valid\\images\\G058_IMG084.jpg: 11 duplicate labels removed\n",
      "\u001b[34m\u001b[1mval: \u001b[0mC:\\Users\\Cristiano\\Desktop\\Faculdade\\2 semestre\\VC\\project\\VC_project\\Shared\\training_inputs\\chessred2k_YOLO\\valid\\images\\G058_IMG085.jpg: 11 duplicate labels removed\n",
      "\u001b[34m\u001b[1mval: \u001b[0mC:\\Users\\Cristiano\\Desktop\\Faculdade\\2 semestre\\VC\\project\\VC_project\\Shared\\training_inputs\\chessred2k_YOLO\\valid\\images\\G058_IMG086.jpg: 11 duplicate labels removed\n",
      "\u001b[34m\u001b[1mval: \u001b[0mC:\\Users\\Cristiano\\Desktop\\Faculdade\\2 semestre\\VC\\project\\VC_project\\Shared\\training_inputs\\chessred2k_YOLO\\valid\\images\\G058_IMG087.jpg: 10 duplicate labels removed\n",
      "\u001b[34m\u001b[1mval: \u001b[0mC:\\Users\\Cristiano\\Desktop\\Faculdade\\2 semestre\\VC\\project\\VC_project\\Shared\\training_inputs\\chessred2k_YOLO\\valid\\images\\G058_IMG088.jpg: 9 duplicate labels removed\n",
      "\u001b[34m\u001b[1mval: \u001b[0mC:\\Users\\Cristiano\\Desktop\\Faculdade\\2 semestre\\VC\\project\\VC_project\\Shared\\training_inputs\\chessred2k_YOLO\\valid\\images\\G058_IMG089.jpg: 9 duplicate labels removed\n",
      "\u001b[34m\u001b[1mval: \u001b[0mC:\\Users\\Cristiano\\Desktop\\Faculdade\\2 semestre\\VC\\project\\VC_project\\Shared\\training_inputs\\chessred2k_YOLO\\valid\\images\\G058_IMG090.jpg: 8 duplicate labels removed\n",
      "\u001b[34m\u001b[1mval: \u001b[0mC:\\Users\\Cristiano\\Desktop\\Faculdade\\2 semestre\\VC\\project\\VC_project\\Shared\\training_inputs\\chessred2k_YOLO\\valid\\images\\G058_IMG091.jpg: 8 duplicate labels removed\n",
      "\u001b[34m\u001b[1mval: \u001b[0mC:\\Users\\Cristiano\\Desktop\\Faculdade\\2 semestre\\VC\\project\\VC_project\\Shared\\training_inputs\\chessred2k_YOLO\\valid\\images\\G058_IMG092.jpg: 8 duplicate labels removed\n",
      "\u001b[34m\u001b[1mval: \u001b[0mC:\\Users\\Cristiano\\Desktop\\Faculdade\\2 semestre\\VC\\project\\VC_project\\Shared\\training_inputs\\chessred2k_YOLO\\valid\\images\\G058_IMG093.jpg: 8 duplicate labels removed\n",
      "\u001b[34m\u001b[1mval: \u001b[0mC:\\Users\\Cristiano\\Desktop\\Faculdade\\2 semestre\\VC\\project\\VC_project\\Shared\\training_inputs\\chessred2k_YOLO\\valid\\images\\G058_IMG094.jpg: 8 duplicate labels removed\n",
      "\u001b[34m\u001b[1mval: \u001b[0mC:\\Users\\Cristiano\\Desktop\\Faculdade\\2 semestre\\VC\\project\\VC_project\\Shared\\training_inputs\\chessred2k_YOLO\\valid\\images\\G058_IMG095.jpg: 8 duplicate labels removed\n",
      "\u001b[34m\u001b[1mval: \u001b[0mC:\\Users\\Cristiano\\Desktop\\Faculdade\\2 semestre\\VC\\project\\VC_project\\Shared\\training_inputs\\chessred2k_YOLO\\valid\\images\\G058_IMG096.jpg: 8 duplicate labels removed\n",
      "\u001b[34m\u001b[1mval: \u001b[0mC:\\Users\\Cristiano\\Desktop\\Faculdade\\2 semestre\\VC\\project\\VC_project\\Shared\\training_inputs\\chessred2k_YOLO\\valid\\images\\G058_IMG097.jpg: 8 duplicate labels removed\n",
      "\u001b[34m\u001b[1mval: \u001b[0mC:\\Users\\Cristiano\\Desktop\\Faculdade\\2 semestre\\VC\\project\\VC_project\\Shared\\training_inputs\\chessred2k_YOLO\\valid\\images\\G058_IMG098.jpg: 8 duplicate labels removed\n",
      "\u001b[34m\u001b[1mval: \u001b[0mC:\\Users\\Cristiano\\Desktop\\Faculdade\\2 semestre\\VC\\project\\VC_project\\Shared\\training_inputs\\chessred2k_YOLO\\valid\\images\\G058_IMG099.jpg: 8 duplicate labels removed\n",
      "\u001b[34m\u001b[1mval: \u001b[0mC:\\Users\\Cristiano\\Desktop\\Faculdade\\2 semestre\\VC\\project\\VC_project\\Shared\\training_inputs\\chessred2k_YOLO\\valid\\images\\G058_IMG100.jpg: 8 duplicate labels removed\n"
     ]
    },
    {
     "name": "stderr",
     "output_type": "stream",
     "text": [
      "\n"
     ]
    },
    {
     "name": "stdout",
     "output_type": "stream",
     "text": [
      "Plotting labels to yolo-v12-chessred\\V12SPretrained50AdamWCosLr\\labels.jpg... \n",
      "\u001b[34m\u001b[1moptimizer:\u001b[0m AdamW(lr=0.01, momentum=0.937) with parameter groups 113 weight(decay=0.0), 120 weight(decay=0.0005), 119 bias(decay=0.0)\n",
      "Image sizes 640 train, 640 val\n",
      "Using 8 dataloader workers\n",
      "Logging results to \u001b[1myolo-v12-chessred\\V12SPretrained50AdamWCosLr\u001b[0m\n",
      "Starting training for 450 epochs...\n",
      "\n",
      "      Epoch    GPU_mem   box_loss   cls_loss   dfl_loss  Instances       Size\n"
     ]
    },
    {
     "name": "stderr",
     "output_type": "stream",
     "text": [
      "      1/450      13.3G      3.715      3.485      2.482         61        640: 100%|██████████| 46/46 [00:16<00:00,  2.78it/s]\n",
      "                 Class     Images  Instances      Box(P          R      mAP50  mAP50-95): 100%|██████████| 6/6 [00:02<00:00,  2.34it/s]"
     ]
    },
    {
     "name": "stdout",
     "output_type": "stream",
     "text": [
      "                   all        330       6132          0          0          0          0\n"
     ]
    },
    {
     "name": "stderr",
     "output_type": "stream",
     "text": [
      "\n"
     ]
    },
    {
     "name": "stdout",
     "output_type": "stream",
     "text": [
      "\n",
      "      Epoch    GPU_mem   box_loss   cls_loss   dfl_loss  Instances       Size\n"
     ]
    },
    {
     "name": "stderr",
     "output_type": "stream",
     "text": [
      "      2/450      13.2G      1.602      1.624      1.205         85        640: 100%|██████████| 46/46 [00:16<00:00,  2.81it/s]\n",
      "                 Class     Images  Instances      Box(P          R      mAP50  mAP50-95): 100%|██████████| 6/6 [00:01<00:00,  4.58it/s]"
     ]
    },
    {
     "name": "stdout",
     "output_type": "stream",
     "text": [
      "                   all        330       6132          0          0          0          0\n"
     ]
    },
    {
     "name": "stderr",
     "output_type": "stream",
     "text": [
      "\n"
     ]
    },
    {
     "name": "stdout",
     "output_type": "stream",
     "text": [
      "\n",
      "      Epoch    GPU_mem   box_loss   cls_loss   dfl_loss  Instances       Size\n"
     ]
    },
    {
     "name": "stderr",
     "output_type": "stream",
     "text": [
      "      3/450      13.6G      1.299      1.349      1.066         76        640: 100%|██████████| 46/46 [00:15<00:00,  3.07it/s]\n",
      "                 Class     Images  Instances      Box(P          R      mAP50  mAP50-95): 100%|██████████| 6/6 [00:02<00:00,  2.56it/s]"
     ]
    },
    {
     "name": "stdout",
     "output_type": "stream",
     "text": [
      "                   all        330       6132      0.109      0.221     0.0726     0.0309\n"
     ]
    },
    {
     "name": "stderr",
     "output_type": "stream",
     "text": [
      "\n"
     ]
    },
    {
     "name": "stdout",
     "output_type": "stream",
     "text": [
      "\n",
      "      Epoch    GPU_mem   box_loss   cls_loss   dfl_loss  Instances       Size\n"
     ]
    },
    {
     "name": "stderr",
     "output_type": "stream",
     "text": [
      "      4/450      13.1G      1.094      1.152     0.9934         47        640: 100%|██████████| 46/46 [00:15<00:00,  3.05it/s]\n",
      "                 Class     Images  Instances      Box(P          R      mAP50  mAP50-95): 100%|██████████| 6/6 [00:01<00:00,  3.39it/s]"
     ]
    },
    {
     "name": "stdout",
     "output_type": "stream",
     "text": [
      "                   all        330       6132      0.276      0.631      0.394      0.249\n"
     ]
    },
    {
     "name": "stderr",
     "output_type": "stream",
     "text": [
      "\n"
     ]
    },
    {
     "name": "stdout",
     "output_type": "stream",
     "text": [
      "\n",
      "      Epoch    GPU_mem   box_loss   cls_loss   dfl_loss  Instances       Size\n"
     ]
    },
    {
     "name": "stderr",
     "output_type": "stream",
     "text": [
      "      5/450      13.7G       1.02     0.9827     0.9597         64        640: 100%|██████████| 46/46 [00:15<00:00,  3.05it/s]\n",
      "                 Class     Images  Instances      Box(P          R      mAP50  mAP50-95): 100%|██████████| 6/6 [00:01<00:00,  3.13it/s]"
     ]
    },
    {
     "name": "stdout",
     "output_type": "stream",
     "text": [
      "                   all        330       6132      0.186      0.402      0.232      0.137\n"
     ]
    },
    {
     "name": "stderr",
     "output_type": "stream",
     "text": [
      "\n"
     ]
    },
    {
     "name": "stdout",
     "output_type": "stream",
     "text": [
      "\n",
      "      Epoch    GPU_mem   box_loss   cls_loss   dfl_loss  Instances       Size\n"
     ]
    },
    {
     "name": "stderr",
     "output_type": "stream",
     "text": [
      "      6/450      13.2G     0.9167      0.831     0.9297         32        640: 100%|██████████| 46/46 [00:15<00:00,  3.05it/s]\n",
      "                 Class     Images  Instances      Box(P          R      mAP50  mAP50-95): 100%|██████████| 6/6 [00:01<00:00,  3.48it/s]"
     ]
    },
    {
     "name": "stdout",
     "output_type": "stream",
     "text": [
      "                   all        330       6132      0.673      0.816      0.823      0.614\n"
     ]
    },
    {
     "name": "stderr",
     "output_type": "stream",
     "text": [
      "\n"
     ]
    },
    {
     "name": "stdout",
     "output_type": "stream",
     "text": [
      "\n",
      "      Epoch    GPU_mem   box_loss   cls_loss   dfl_loss  Instances       Size\n"
     ]
    },
    {
     "name": "stderr",
     "output_type": "stream",
     "text": [
      "      7/450      13.3G     0.8483     0.7559      0.911         88        640: 100%|██████████| 46/46 [00:15<00:00,  3.05it/s]\n",
      "                 Class     Images  Instances      Box(P          R      mAP50  mAP50-95): 100%|██████████| 6/6 [00:01<00:00,  3.01it/s]"
     ]
    },
    {
     "name": "stdout",
     "output_type": "stream",
     "text": [
      "                   all        330       6132      0.713      0.766      0.809      0.654\n"
     ]
    },
    {
     "name": "stderr",
     "output_type": "stream",
     "text": [
      "\n"
     ]
    },
    {
     "name": "stdout",
     "output_type": "stream",
     "text": [
      "\n",
      "      Epoch    GPU_mem   box_loss   cls_loss   dfl_loss  Instances       Size\n"
     ]
    },
    {
     "name": "stderr",
     "output_type": "stream",
     "text": [
      "      8/450      12.7G     0.8002     0.7094     0.8964         92        640: 100%|██████████| 46/46 [00:15<00:00,  3.06it/s]\n",
      "                 Class     Images  Instances      Box(P          R      mAP50  mAP50-95): 100%|██████████| 6/6 [00:01<00:00,  3.49it/s]"
     ]
    },
    {
     "name": "stdout",
     "output_type": "stream",
     "text": [
      "                   all        330       6132        0.5      0.654      0.613      0.462\n"
     ]
    },
    {
     "name": "stderr",
     "output_type": "stream",
     "text": [
      "\n"
     ]
    },
    {
     "name": "stdout",
     "output_type": "stream",
     "text": [
      "\n",
      "      Epoch    GPU_mem   box_loss   cls_loss   dfl_loss  Instances       Size\n"
     ]
    },
    {
     "name": "stderr",
     "output_type": "stream",
     "text": [
      "      9/450      13.5G     0.7711     0.6372     0.8877         62        640: 100%|██████████| 46/46 [00:15<00:00,  3.02it/s]\n",
      "                 Class     Images  Instances      Box(P          R      mAP50  mAP50-95): 100%|██████████| 6/6 [00:02<00:00,  2.87it/s]"
     ]
    },
    {
     "name": "stdout",
     "output_type": "stream",
     "text": [
      "                   all        330       6132      0.887       0.89      0.953      0.763\n"
     ]
    },
    {
     "name": "stderr",
     "output_type": "stream",
     "text": [
      "\n"
     ]
    },
    {
     "name": "stdout",
     "output_type": "stream",
     "text": [
      "\n",
      "      Epoch    GPU_mem   box_loss   cls_loss   dfl_loss  Instances       Size\n"
     ]
    },
    {
     "name": "stderr",
     "output_type": "stream",
     "text": [
      "     10/450      12.6G     0.7829     0.6133     0.8846        104        640: 100%|██████████| 46/46 [00:16<00:00,  2.74it/s]\n",
      "                 Class     Images  Instances      Box(P          R      mAP50  mAP50-95): 100%|██████████| 6/6 [00:01<00:00,  3.49it/s]"
     ]
    },
    {
     "name": "stdout",
     "output_type": "stream",
     "text": [
      "                   all        330       6132       0.91      0.892      0.954      0.758\n"
     ]
    },
    {
     "name": "stderr",
     "output_type": "stream",
     "text": [
      "\n"
     ]
    },
    {
     "name": "stdout",
     "output_type": "stream",
     "text": [
      "\n",
      "      Epoch    GPU_mem   box_loss   cls_loss   dfl_loss  Instances       Size\n"
     ]
    },
    {
     "name": "stderr",
     "output_type": "stream",
     "text": [
      "     11/450      13.1G     0.7746     0.6038     0.8869         18        640: 100%|██████████| 46/46 [00:15<00:00,  3.05it/s]\n",
      "                 Class     Images  Instances      Box(P          R      mAP50  mAP50-95): 100%|██████████| 6/6 [00:01<00:00,  3.49it/s]"
     ]
    },
    {
     "name": "stdout",
     "output_type": "stream",
     "text": [
      "                   all        330       6132      0.863      0.839      0.929      0.767\n"
     ]
    },
    {
     "name": "stderr",
     "output_type": "stream",
     "text": [
      "\n"
     ]
    },
    {
     "name": "stdout",
     "output_type": "stream",
     "text": [
      "\n",
      "      Epoch    GPU_mem   box_loss   cls_loss   dfl_loss  Instances       Size\n"
     ]
    },
    {
     "name": "stderr",
     "output_type": "stream",
     "text": [
      "     12/450      13.5G     0.6703     0.5518     0.8638          7        640: 100%|██████████| 46/46 [00:15<00:00,  3.06it/s]\n",
      "                 Class     Images  Instances      Box(P          R      mAP50  mAP50-95): 100%|██████████| 6/6 [00:02<00:00,  2.92it/s]"
     ]
    },
    {
     "name": "stdout",
     "output_type": "stream",
     "text": [
      "                   all        330       6132      0.957      0.934      0.982       0.81\n"
     ]
    },
    {
     "name": "stderr",
     "output_type": "stream",
     "text": [
      "\n"
     ]
    },
    {
     "name": "stdout",
     "output_type": "stream",
     "text": [
      "\n",
      "      Epoch    GPU_mem   box_loss   cls_loss   dfl_loss  Instances       Size\n"
     ]
    },
    {
     "name": "stderr",
     "output_type": "stream",
     "text": [
      "     13/450      13.1G      0.674     0.5279     0.8634         21        640: 100%|██████████| 46/46 [00:15<00:00,  3.05it/s]\n",
      "                 Class     Images  Instances      Box(P          R      mAP50  mAP50-95): 100%|██████████| 6/6 [00:01<00:00,  3.52it/s]"
     ]
    },
    {
     "name": "stdout",
     "output_type": "stream",
     "text": [
      "                   all        330       6132      0.862      0.869      0.946       0.72\n"
     ]
    },
    {
     "name": "stderr",
     "output_type": "stream",
     "text": [
      "\n"
     ]
    },
    {
     "name": "stdout",
     "output_type": "stream",
     "text": [
      "\n",
      "      Epoch    GPU_mem   box_loss   cls_loss   dfl_loss  Instances       Size\n"
     ]
    },
    {
     "name": "stderr",
     "output_type": "stream",
     "text": [
      "     14/450      13.9G     0.6696     0.4994     0.8626         38        640: 100%|██████████| 46/46 [00:15<00:00,  3.04it/s]\n",
      "                 Class     Images  Instances      Box(P          R      mAP50  mAP50-95): 100%|██████████| 6/6 [00:02<00:00,  2.35it/s]"
     ]
    },
    {
     "name": "stdout",
     "output_type": "stream",
     "text": [
      "                   all        330       6132      0.962      0.945      0.985      0.793\n"
     ]
    },
    {
     "name": "stderr",
     "output_type": "stream",
     "text": [
      "\n"
     ]
    },
    {
     "name": "stdout",
     "output_type": "stream",
     "text": [
      "\n",
      "      Epoch    GPU_mem   box_loss   cls_loss   dfl_loss  Instances       Size\n"
     ]
    },
    {
     "name": "stderr",
     "output_type": "stream",
     "text": [
      "     15/450      13.2G     0.6309     0.4664     0.8516         52        640: 100%|██████████| 46/46 [00:15<00:00,  3.06it/s]\n",
      "                 Class     Images  Instances      Box(P          R      mAP50  mAP50-95): 100%|██████████| 6/6 [00:01<00:00,  3.53it/s]"
     ]
    },
    {
     "name": "stdout",
     "output_type": "stream",
     "text": [
      "                   all        330       6132      0.972      0.943      0.986      0.782\n"
     ]
    },
    {
     "name": "stderr",
     "output_type": "stream",
     "text": [
      "\n"
     ]
    },
    {
     "name": "stdout",
     "output_type": "stream",
     "text": [
      "\n",
      "      Epoch    GPU_mem   box_loss   cls_loss   dfl_loss  Instances       Size\n"
     ]
    },
    {
     "name": "stderr",
     "output_type": "stream",
     "text": [
      "     16/450        13G     0.6326     0.4624     0.8528         50        640: 100%|██████████| 46/46 [00:15<00:00,  3.06it/s]\n",
      "                 Class     Images  Instances      Box(P          R      mAP50  mAP50-95): 100%|██████████| 6/6 [00:01<00:00,  3.49it/s]"
     ]
    },
    {
     "name": "stdout",
     "output_type": "stream",
     "text": [
      "                   all        330       6132      0.938      0.934      0.972      0.772\n"
     ]
    },
    {
     "name": "stderr",
     "output_type": "stream",
     "text": [
      "\n"
     ]
    },
    {
     "name": "stdout",
     "output_type": "stream",
     "text": [
      "\n",
      "      Epoch    GPU_mem   box_loss   cls_loss   dfl_loss  Instances       Size\n"
     ]
    },
    {
     "name": "stderr",
     "output_type": "stream",
     "text": [
      "     17/450      12.7G     0.5994     0.4532     0.8464         26        640: 100%|██████████| 46/46 [00:15<00:00,  3.06it/s]\n",
      "                 Class     Images  Instances      Box(P          R      mAP50  mAP50-95): 100%|██████████| 6/6 [00:01<00:00,  3.51it/s]"
     ]
    },
    {
     "name": "stdout",
     "output_type": "stream",
     "text": [
      "                   all        330       6132      0.963      0.959      0.988      0.838\n"
     ]
    },
    {
     "name": "stderr",
     "output_type": "stream",
     "text": [
      "\n"
     ]
    },
    {
     "name": "stdout",
     "output_type": "stream",
     "text": [
      "\n",
      "      Epoch    GPU_mem   box_loss   cls_loss   dfl_loss  Instances       Size\n"
     ]
    },
    {
     "name": "stderr",
     "output_type": "stream",
     "text": [
      "     18/450      13.4G     0.5941     0.4375      0.843         79        640: 100%|██████████| 46/46 [00:15<00:00,  3.02it/s]\n",
      "                 Class     Images  Instances      Box(P          R      mAP50  mAP50-95): 100%|██████████| 6/6 [00:03<00:00,  1.89it/s]"
     ]
    },
    {
     "name": "stdout",
     "output_type": "stream",
     "text": [
      "                   all        330       6132      0.978      0.958       0.99       0.79\n"
     ]
    },
    {
     "name": "stderr",
     "output_type": "stream",
     "text": [
      "\n"
     ]
    },
    {
     "name": "stdout",
     "output_type": "stream",
     "text": [
      "\n",
      "      Epoch    GPU_mem   box_loss   cls_loss   dfl_loss  Instances       Size\n"
     ]
    },
    {
     "name": "stderr",
     "output_type": "stream",
     "text": [
      "     19/450      13.7G     0.5763     0.4301     0.8391        117        640: 100%|██████████| 46/46 [00:15<00:00,  2.90it/s]\n",
      "                 Class     Images  Instances      Box(P          R      mAP50  mAP50-95): 100%|██████████| 6/6 [00:01<00:00,  3.28it/s]"
     ]
    },
    {
     "name": "stdout",
     "output_type": "stream",
     "text": [
      "                   all        330       6132      0.927      0.917      0.974      0.791\n"
     ]
    },
    {
     "name": "stderr",
     "output_type": "stream",
     "text": [
      "\n"
     ]
    },
    {
     "name": "stdout",
     "output_type": "stream",
     "text": [
      "\n",
      "      Epoch    GPU_mem   box_loss   cls_loss   dfl_loss  Instances       Size\n"
     ]
    },
    {
     "name": "stderr",
     "output_type": "stream",
     "text": [
      "     20/450      12.7G     0.5691     0.4208     0.8372         38        640: 100%|██████████| 46/46 [00:14<00:00,  3.07it/s]\n",
      "                 Class     Images  Instances      Box(P          R      mAP50  mAP50-95): 100%|██████████| 6/6 [00:01<00:00,  3.50it/s]"
     ]
    },
    {
     "name": "stdout",
     "output_type": "stream",
     "text": [
      "                   all        330       6132      0.976      0.971      0.992      0.859\n"
     ]
    },
    {
     "name": "stderr",
     "output_type": "stream",
     "text": [
      "\n"
     ]
    },
    {
     "name": "stdout",
     "output_type": "stream",
     "text": [
      "\n",
      "      Epoch    GPU_mem   box_loss   cls_loss   dfl_loss  Instances       Size\n"
     ]
    },
    {
     "name": "stderr",
     "output_type": "stream",
     "text": [
      "     21/450      12.4G     0.5567     0.4078     0.8344         37        640: 100%|██████████| 46/46 [00:15<00:00,  3.05it/s]\n",
      "                 Class     Images  Instances      Box(P          R      mAP50  mAP50-95): 100%|██████████| 6/6 [00:01<00:00,  3.50it/s]"
     ]
    },
    {
     "name": "stdout",
     "output_type": "stream",
     "text": [
      "                   all        330       6132       0.95      0.945      0.983       0.81\n"
     ]
    },
    {
     "name": "stderr",
     "output_type": "stream",
     "text": [
      "\n"
     ]
    },
    {
     "name": "stdout",
     "output_type": "stream",
     "text": [
      "\n",
      "      Epoch    GPU_mem   box_loss   cls_loss   dfl_loss  Instances       Size\n"
     ]
    },
    {
     "name": "stderr",
     "output_type": "stream",
     "text": [
      "     22/450      13.6G     0.5203     0.3874     0.8305         51        640: 100%|██████████| 46/46 [00:15<00:00,  3.05it/s]\n",
      "                 Class     Images  Instances      Box(P          R      mAP50  mAP50-95): 100%|██████████| 6/6 [00:02<00:00,  2.93it/s]"
     ]
    },
    {
     "name": "stdout",
     "output_type": "stream",
     "text": [
      "                   all        330       6132      0.973      0.955      0.988      0.833\n"
     ]
    },
    {
     "name": "stderr",
     "output_type": "stream",
     "text": [
      "\n"
     ]
    },
    {
     "name": "stdout",
     "output_type": "stream",
     "text": [
      "\n",
      "      Epoch    GPU_mem   box_loss   cls_loss   dfl_loss  Instances       Size\n"
     ]
    },
    {
     "name": "stderr",
     "output_type": "stream",
     "text": [
      "     23/450      13.6G     0.5517      0.399       0.83         97        640: 100%|██████████| 46/46 [00:15<00:00,  3.04it/s]\n",
      "                 Class     Images  Instances      Box(P          R      mAP50  mAP50-95): 100%|██████████| 6/6 [00:01<00:00,  3.52it/s]"
     ]
    },
    {
     "name": "stdout",
     "output_type": "stream",
     "text": [
      "                   all        330       6132      0.971      0.977      0.992       0.85\n"
     ]
    },
    {
     "name": "stderr",
     "output_type": "stream",
     "text": [
      "\n"
     ]
    },
    {
     "name": "stdout",
     "output_type": "stream",
     "text": [
      "\n",
      "      Epoch    GPU_mem   box_loss   cls_loss   dfl_loss  Instances       Size\n"
     ]
    },
    {
     "name": "stderr",
     "output_type": "stream",
     "text": [
      "     24/450      12.5G     0.5123     0.3796     0.8239         96        640: 100%|██████████| 46/46 [00:15<00:00,  3.06it/s]\n",
      "                 Class     Images  Instances      Box(P          R      mAP50  mAP50-95): 100%|██████████| 6/6 [00:01<00:00,  3.51it/s]"
     ]
    },
    {
     "name": "stdout",
     "output_type": "stream",
     "text": [
      "                   all        330       6132      0.978      0.969      0.991      0.824\n"
     ]
    },
    {
     "name": "stderr",
     "output_type": "stream",
     "text": [
      "\n"
     ]
    },
    {
     "name": "stdout",
     "output_type": "stream",
     "text": [
      "\n",
      "      Epoch    GPU_mem   box_loss   cls_loss   dfl_loss  Instances       Size\n"
     ]
    },
    {
     "name": "stderr",
     "output_type": "stream",
     "text": [
      "     25/450      12.9G     0.5022     0.3737     0.8245         44        640: 100%|██████████| 46/46 [00:15<00:00,  3.04it/s]\n",
      "                 Class     Images  Instances      Box(P          R      mAP50  mAP50-95): 100%|██████████| 6/6 [00:01<00:00,  3.51it/s]"
     ]
    },
    {
     "name": "stdout",
     "output_type": "stream",
     "text": [
      "                   all        330       6132      0.977      0.961      0.989      0.843\n"
     ]
    },
    {
     "name": "stderr",
     "output_type": "stream",
     "text": [
      "\n"
     ]
    },
    {
     "name": "stdout",
     "output_type": "stream",
     "text": [
      "\n",
      "      Epoch    GPU_mem   box_loss   cls_loss   dfl_loss  Instances       Size\n"
     ]
    },
    {
     "name": "stderr",
     "output_type": "stream",
     "text": [
      "     26/450      12.8G     0.5382     0.3781     0.8258         91        640: 100%|██████████| 46/46 [00:15<00:00,  3.06it/s]\n",
      "                 Class     Images  Instances      Box(P          R      mAP50  mAP50-95): 100%|██████████| 6/6 [00:01<00:00,  3.47it/s]"
     ]
    },
    {
     "name": "stdout",
     "output_type": "stream",
     "text": [
      "                   all        330       6132      0.971      0.959       0.99      0.818\n"
     ]
    },
    {
     "name": "stderr",
     "output_type": "stream",
     "text": [
      "\n"
     ]
    },
    {
     "name": "stdout",
     "output_type": "stream",
     "text": [
      "\n",
      "      Epoch    GPU_mem   box_loss   cls_loss   dfl_loss  Instances       Size\n"
     ]
    },
    {
     "name": "stderr",
     "output_type": "stream",
     "text": [
      "     27/450      12.7G     0.5006     0.3706     0.8236         55        640: 100%|██████████| 46/46 [00:15<00:00,  3.06it/s]\n",
      "                 Class     Images  Instances      Box(P          R      mAP50  mAP50-95): 100%|██████████| 6/6 [00:01<00:00,  3.47it/s]"
     ]
    },
    {
     "name": "stdout",
     "output_type": "stream",
     "text": [
      "                   all        330       6132       0.96      0.963      0.989       0.83\n"
     ]
    },
    {
     "name": "stderr",
     "output_type": "stream",
     "text": [
      "\n"
     ]
    },
    {
     "name": "stdout",
     "output_type": "stream",
     "text": [
      "\n",
      "      Epoch    GPU_mem   box_loss   cls_loss   dfl_loss  Instances       Size\n"
     ]
    },
    {
     "name": "stderr",
     "output_type": "stream",
     "text": [
      "     28/450      13.7G     0.5317     0.3671     0.8254         60        640: 100%|██████████| 46/46 [00:15<00:00,  3.07it/s]\n",
      "                 Class     Images  Instances      Box(P          R      mAP50  mAP50-95): 100%|██████████| 6/6 [00:02<00:00,  2.92it/s]"
     ]
    },
    {
     "name": "stdout",
     "output_type": "stream",
     "text": [
      "                   all        330       6132      0.961      0.954      0.986      0.849\n"
     ]
    },
    {
     "name": "stderr",
     "output_type": "stream",
     "text": [
      "\n"
     ]
    },
    {
     "name": "stdout",
     "output_type": "stream",
     "text": [
      "\n",
      "      Epoch    GPU_mem   box_loss   cls_loss   dfl_loss  Instances       Size\n"
     ]
    },
    {
     "name": "stderr",
     "output_type": "stream",
     "text": [
      "     29/450      12.6G     0.5394     0.3895     0.8304         14        640: 100%|██████████| 46/46 [00:15<00:00,  3.06it/s]\n",
      "                 Class     Images  Instances      Box(P          R      mAP50  mAP50-95): 100%|██████████| 6/6 [00:01<00:00,  3.51it/s]"
     ]
    },
    {
     "name": "stdout",
     "output_type": "stream",
     "text": [
      "                   all        330       6132      0.983       0.97      0.992      0.831\n"
     ]
    },
    {
     "name": "stderr",
     "output_type": "stream",
     "text": [
      "\n"
     ]
    },
    {
     "name": "stdout",
     "output_type": "stream",
     "text": [
      "\n",
      "      Epoch    GPU_mem   box_loss   cls_loss   dfl_loss  Instances       Size\n"
     ]
    },
    {
     "name": "stderr",
     "output_type": "stream",
     "text": [
      "     30/450      13.4G     0.4901     0.3525     0.8206         62        640: 100%|██████████| 46/46 [00:15<00:00,  3.05it/s]\n",
      "                 Class     Images  Instances      Box(P          R      mAP50  mAP50-95): 100%|██████████| 6/6 [00:01<00:00,  3.51it/s]"
     ]
    },
    {
     "name": "stdout",
     "output_type": "stream",
     "text": [
      "                   all        330       6132      0.982      0.973      0.993      0.863\n"
     ]
    },
    {
     "name": "stderr",
     "output_type": "stream",
     "text": [
      "\n"
     ]
    },
    {
     "name": "stdout",
     "output_type": "stream",
     "text": [
      "\n",
      "      Epoch    GPU_mem   box_loss   cls_loss   dfl_loss  Instances       Size\n"
     ]
    },
    {
     "name": "stderr",
     "output_type": "stream",
     "text": [
      "     31/450      13.2G     0.4796     0.3527     0.8201         82        640: 100%|██████████| 46/46 [00:15<00:00,  3.05it/s]\n",
      "                 Class     Images  Instances      Box(P          R      mAP50  mAP50-95): 100%|██████████| 6/6 [00:01<00:00,  3.54it/s]"
     ]
    },
    {
     "name": "stdout",
     "output_type": "stream",
     "text": [
      "                   all        330       6132      0.963      0.972      0.991      0.831\n"
     ]
    },
    {
     "name": "stderr",
     "output_type": "stream",
     "text": [
      "\n"
     ]
    },
    {
     "name": "stdout",
     "output_type": "stream",
     "text": [
      "\n",
      "      Epoch    GPU_mem   box_loss   cls_loss   dfl_loss  Instances       Size\n"
     ]
    },
    {
     "name": "stderr",
     "output_type": "stream",
     "text": [
      "     32/450      13.3G     0.4947     0.3502     0.8166        121        640: 100%|██████████| 46/46 [00:15<00:00,  3.04it/s]\n",
      "                 Class     Images  Instances      Box(P          R      mAP50  mAP50-95): 100%|██████████| 6/6 [00:01<00:00,  3.52it/s]"
     ]
    },
    {
     "name": "stdout",
     "output_type": "stream",
     "text": [
      "                   all        330       6132      0.976      0.971      0.992      0.861\n"
     ]
    },
    {
     "name": "stderr",
     "output_type": "stream",
     "text": [
      "\n"
     ]
    },
    {
     "name": "stdout",
     "output_type": "stream",
     "text": [
      "\n",
      "      Epoch    GPU_mem   box_loss   cls_loss   dfl_loss  Instances       Size\n"
     ]
    },
    {
     "name": "stderr",
     "output_type": "stream",
     "text": [
      "     33/450      13.1G     0.4759     0.3453     0.8161         53        640: 100%|██████████| 46/46 [00:15<00:00,  3.05it/s]\n",
      "                 Class     Images  Instances      Box(P          R      mAP50  mAP50-95): 100%|██████████| 6/6 [00:01<00:00,  3.38it/s]"
     ]
    },
    {
     "name": "stdout",
     "output_type": "stream",
     "text": [
      "                   all        330       6132      0.966      0.962      0.989      0.845\n"
     ]
    },
    {
     "name": "stderr",
     "output_type": "stream",
     "text": [
      "\n"
     ]
    },
    {
     "name": "stdout",
     "output_type": "stream",
     "text": [
      "\n",
      "      Epoch    GPU_mem   box_loss   cls_loss   dfl_loss  Instances       Size\n"
     ]
    },
    {
     "name": "stderr",
     "output_type": "stream",
     "text": [
      "     34/450      12.8G     0.4796     0.3396     0.8155         61        640: 100%|██████████| 46/46 [00:15<00:00,  3.02it/s]\n",
      "                 Class     Images  Instances      Box(P          R      mAP50  mAP50-95): 100%|██████████| 6/6 [00:01<00:00,  3.44it/s]"
     ]
    },
    {
     "name": "stdout",
     "output_type": "stream",
     "text": [
      "                   all        330       6132      0.979      0.971      0.993      0.828\n"
     ]
    },
    {
     "name": "stderr",
     "output_type": "stream",
     "text": [
      "\n"
     ]
    },
    {
     "name": "stdout",
     "output_type": "stream",
     "text": [
      "\n",
      "      Epoch    GPU_mem   box_loss   cls_loss   dfl_loss  Instances       Size\n"
     ]
    },
    {
     "name": "stderr",
     "output_type": "stream",
     "text": [
      "     35/450        13G     0.4576     0.3356     0.8163         21        640: 100%|██████████| 46/46 [00:15<00:00,  3.06it/s]\n",
      "                 Class     Images  Instances      Box(P          R      mAP50  mAP50-95): 100%|██████████| 6/6 [00:01<00:00,  3.49it/s]"
     ]
    },
    {
     "name": "stdout",
     "output_type": "stream",
     "text": [
      "                   all        330       6132      0.959      0.953      0.988       0.83\n"
     ]
    },
    {
     "name": "stderr",
     "output_type": "stream",
     "text": [
      "\n"
     ]
    },
    {
     "name": "stdout",
     "output_type": "stream",
     "text": [
      "\n",
      "      Epoch    GPU_mem   box_loss   cls_loss   dfl_loss  Instances       Size\n"
     ]
    },
    {
     "name": "stderr",
     "output_type": "stream",
     "text": [
      "     36/450      12.5G     0.4811     0.3459     0.8159         62        640: 100%|██████████| 46/46 [00:15<00:00,  3.05it/s]\n",
      "                 Class     Images  Instances      Box(P          R      mAP50  mAP50-95): 100%|██████████| 6/6 [00:01<00:00,  3.43it/s]"
     ]
    },
    {
     "name": "stdout",
     "output_type": "stream",
     "text": [
      "                   all        330       6132      0.983      0.979      0.994      0.882\n"
     ]
    },
    {
     "name": "stderr",
     "output_type": "stream",
     "text": [
      "\n"
     ]
    },
    {
     "name": "stdout",
     "output_type": "stream",
     "text": [
      "\n",
      "      Epoch    GPU_mem   box_loss   cls_loss   dfl_loss  Instances       Size\n"
     ]
    },
    {
     "name": "stderr",
     "output_type": "stream",
     "text": [
      "     37/450      12.7G     0.4821     0.3425     0.8163         81        640: 100%|██████████| 46/46 [00:15<00:00,  3.06it/s]\n",
      "                 Class     Images  Instances      Box(P          R      mAP50  mAP50-95): 100%|██████████| 6/6 [00:01<00:00,  3.51it/s]"
     ]
    },
    {
     "name": "stdout",
     "output_type": "stream",
     "text": [
      "                   all        330       6132      0.982      0.982      0.994      0.819\n"
     ]
    },
    {
     "name": "stderr",
     "output_type": "stream",
     "text": [
      "\n"
     ]
    },
    {
     "name": "stdout",
     "output_type": "stream",
     "text": [
      "\n",
      "      Epoch    GPU_mem   box_loss   cls_loss   dfl_loss  Instances       Size\n"
     ]
    },
    {
     "name": "stderr",
     "output_type": "stream",
     "text": [
      "     38/450      12.8G     0.4516     0.3274     0.8133         37        640: 100%|██████████| 46/46 [00:15<00:00,  3.06it/s]\n",
      "                 Class     Images  Instances      Box(P          R      mAP50  mAP50-95): 100%|██████████| 6/6 [00:01<00:00,  3.48it/s]"
     ]
    },
    {
     "name": "stdout",
     "output_type": "stream",
     "text": [
      "                   all        330       6132      0.987      0.982      0.994      0.856\n"
     ]
    },
    {
     "name": "stderr",
     "output_type": "stream",
     "text": [
      "\n"
     ]
    },
    {
     "name": "stdout",
     "output_type": "stream",
     "text": [
      "\n",
      "      Epoch    GPU_mem   box_loss   cls_loss   dfl_loss  Instances       Size\n"
     ]
    },
    {
     "name": "stderr",
     "output_type": "stream",
     "text": [
      "     39/450      12.4G     0.4584     0.3286     0.8117         53        640: 100%|██████████| 46/46 [00:15<00:00,  3.05it/s]\n",
      "                 Class     Images  Instances      Box(P          R      mAP50  mAP50-95): 100%|██████████| 6/6 [00:01<00:00,  3.51it/s]"
     ]
    },
    {
     "name": "stdout",
     "output_type": "stream",
     "text": [
      "                   all        330       6132      0.982      0.986      0.994      0.876\n"
     ]
    },
    {
     "name": "stderr",
     "output_type": "stream",
     "text": [
      "\n"
     ]
    },
    {
     "name": "stdout",
     "output_type": "stream",
     "text": [
      "\n",
      "      Epoch    GPU_mem   box_loss   cls_loss   dfl_loss  Instances       Size\n"
     ]
    },
    {
     "name": "stderr",
     "output_type": "stream",
     "text": [
      "     40/450      12.9G     0.4787     0.3349     0.8157         22        640: 100%|██████████| 46/46 [00:15<00:00,  3.06it/s]\n",
      "                 Class     Images  Instances      Box(P          R      mAP50  mAP50-95): 100%|██████████| 6/6 [00:01<00:00,  3.51it/s]"
     ]
    },
    {
     "name": "stdout",
     "output_type": "stream",
     "text": [
      "                   all        330       6132      0.979       0.98      0.992      0.845\n"
     ]
    },
    {
     "name": "stderr",
     "output_type": "stream",
     "text": [
      "\n"
     ]
    },
    {
     "name": "stdout",
     "output_type": "stream",
     "text": [
      "\n",
      "      Epoch    GPU_mem   box_loss   cls_loss   dfl_loss  Instances       Size\n"
     ]
    },
    {
     "name": "stderr",
     "output_type": "stream",
     "text": [
      "     41/450      13.1G     0.4544     0.3252     0.8127         88        640: 100%|██████████| 46/46 [00:15<00:00,  3.05it/s]\n",
      "                 Class     Images  Instances      Box(P          R      mAP50  mAP50-95): 100%|██████████| 6/6 [00:01<00:00,  3.45it/s]"
     ]
    },
    {
     "name": "stdout",
     "output_type": "stream",
     "text": [
      "                   all        330       6132      0.955      0.953      0.987      0.825\n"
     ]
    },
    {
     "name": "stderr",
     "output_type": "stream",
     "text": [
      "\n"
     ]
    },
    {
     "name": "stdout",
     "output_type": "stream",
     "text": [
      "\n",
      "      Epoch    GPU_mem   box_loss   cls_loss   dfl_loss  Instances       Size\n"
     ]
    },
    {
     "name": "stderr",
     "output_type": "stream",
     "text": [
      "     42/450      13.2G     0.4526     0.3223       0.81         20        640: 100%|██████████| 46/46 [00:15<00:00,  3.06it/s]\n",
      "                 Class     Images  Instances      Box(P          R      mAP50  mAP50-95): 100%|██████████| 6/6 [00:02<00:00,  2.14it/s]"
     ]
    },
    {
     "name": "stdout",
     "output_type": "stream",
     "text": [
      "                   all        330       6132      0.978      0.969      0.992      0.842\n"
     ]
    },
    {
     "name": "stderr",
     "output_type": "stream",
     "text": [
      "\n"
     ]
    },
    {
     "name": "stdout",
     "output_type": "stream",
     "text": [
      "\n",
      "      Epoch    GPU_mem   box_loss   cls_loss   dfl_loss  Instances       Size\n"
     ]
    },
    {
     "name": "stderr",
     "output_type": "stream",
     "text": [
      "     43/450      12.7G     0.4436     0.3123       0.81         75        640: 100%|██████████| 46/46 [00:15<00:00,  2.89it/s]\n",
      "                 Class     Images  Instances      Box(P          R      mAP50  mAP50-95): 100%|██████████| 6/6 [00:01<00:00,  3.50it/s]"
     ]
    },
    {
     "name": "stdout",
     "output_type": "stream",
     "text": [
      "                   all        330       6132      0.982      0.982      0.993      0.879\n"
     ]
    },
    {
     "name": "stderr",
     "output_type": "stream",
     "text": [
      "\n"
     ]
    },
    {
     "name": "stdout",
     "output_type": "stream",
     "text": [
      "\n",
      "      Epoch    GPU_mem   box_loss   cls_loss   dfl_loss  Instances       Size\n"
     ]
    },
    {
     "name": "stderr",
     "output_type": "stream",
     "text": [
      "     44/450      12.6G     0.4482     0.3175     0.8093         30        640: 100%|██████████| 46/46 [00:15<00:00,  3.04it/s]\n",
      "                 Class     Images  Instances      Box(P          R      mAP50  mAP50-95): 100%|██████████| 6/6 [00:01<00:00,  3.53it/s]"
     ]
    },
    {
     "name": "stdout",
     "output_type": "stream",
     "text": [
      "                   all        330       6132      0.979       0.98      0.994      0.854\n"
     ]
    },
    {
     "name": "stderr",
     "output_type": "stream",
     "text": [
      "\n"
     ]
    },
    {
     "name": "stdout",
     "output_type": "stream",
     "text": [
      "\n",
      "      Epoch    GPU_mem   box_loss   cls_loss   dfl_loss  Instances       Size\n"
     ]
    },
    {
     "name": "stderr",
     "output_type": "stream",
     "text": [
      "     45/450      13.4G     0.4312     0.3104     0.8081         22        640: 100%|██████████| 46/46 [00:15<00:00,  3.05it/s]\n",
      "                 Class     Images  Instances      Box(P          R      mAP50  mAP50-95): 100%|██████████| 6/6 [00:01<00:00,  3.19it/s]"
     ]
    },
    {
     "name": "stdout",
     "output_type": "stream",
     "text": [
      "                   all        330       6132      0.989      0.986      0.994      0.862\n"
     ]
    },
    {
     "name": "stderr",
     "output_type": "stream",
     "text": [
      "\n"
     ]
    },
    {
     "name": "stdout",
     "output_type": "stream",
     "text": [
      "\n",
      "      Epoch    GPU_mem   box_loss   cls_loss   dfl_loss  Instances       Size\n"
     ]
    },
    {
     "name": "stderr",
     "output_type": "stream",
     "text": [
      "     46/450      13.4G     0.4367     0.3109     0.8086         58        640: 100%|██████████| 46/46 [00:15<00:00,  3.06it/s]\n",
      "                 Class     Images  Instances      Box(P          R      mAP50  mAP50-95): 100%|██████████| 6/6 [00:01<00:00,  3.53it/s]"
     ]
    },
    {
     "name": "stdout",
     "output_type": "stream",
     "text": [
      "                   all        330       6132      0.989      0.987      0.994      0.854\n"
     ]
    },
    {
     "name": "stderr",
     "output_type": "stream",
     "text": [
      "\n"
     ]
    },
    {
     "name": "stdout",
     "output_type": "stream",
     "text": [
      "\n",
      "      Epoch    GPU_mem   box_loss   cls_loss   dfl_loss  Instances       Size\n"
     ]
    },
    {
     "name": "stderr",
     "output_type": "stream",
     "text": [
      "     47/450      12.5G     0.4449     0.3135     0.8061         46        640: 100%|██████████| 46/46 [00:15<00:00,  3.06it/s]\n",
      "                 Class     Images  Instances      Box(P          R      mAP50  mAP50-95): 100%|██████████| 6/6 [00:01<00:00,  3.51it/s]"
     ]
    },
    {
     "name": "stdout",
     "output_type": "stream",
     "text": [
      "                   all        330       6132      0.972      0.955      0.989      0.822\n"
     ]
    },
    {
     "name": "stderr",
     "output_type": "stream",
     "text": [
      "\n"
     ]
    },
    {
     "name": "stdout",
     "output_type": "stream",
     "text": [
      "\n",
      "      Epoch    GPU_mem   box_loss   cls_loss   dfl_loss  Instances       Size\n"
     ]
    },
    {
     "name": "stderr",
     "output_type": "stream",
     "text": [
      "     48/450      13.6G     0.4348     0.3107     0.8077         66        640: 100%|██████████| 46/46 [00:15<00:00,  3.05it/s]\n",
      "                 Class     Images  Instances      Box(P          R      mAP50  mAP50-95): 100%|██████████| 6/6 [00:01<00:00,  3.50it/s]"
     ]
    },
    {
     "name": "stdout",
     "output_type": "stream",
     "text": [
      "                   all        330       6132      0.992      0.987      0.994      0.846\n"
     ]
    },
    {
     "name": "stderr",
     "output_type": "stream",
     "text": [
      "\n"
     ]
    },
    {
     "name": "stdout",
     "output_type": "stream",
     "text": [
      "\n",
      "      Epoch    GPU_mem   box_loss   cls_loss   dfl_loss  Instances       Size\n"
     ]
    },
    {
     "name": "stderr",
     "output_type": "stream",
     "text": [
      "     49/450      12.4G     0.4183     0.3053     0.8057         58        640: 100%|██████████| 46/46 [00:15<00:00,  3.06it/s]\n",
      "                 Class     Images  Instances      Box(P          R      mAP50  mAP50-95): 100%|██████████| 6/6 [00:01<00:00,  3.51it/s]"
     ]
    },
    {
     "name": "stdout",
     "output_type": "stream",
     "text": [
      "                   all        330       6132      0.988      0.979      0.993      0.843\n"
     ]
    },
    {
     "name": "stderr",
     "output_type": "stream",
     "text": [
      "\n"
     ]
    },
    {
     "name": "stdout",
     "output_type": "stream",
     "text": [
      "\n",
      "      Epoch    GPU_mem   box_loss   cls_loss   dfl_loss  Instances       Size\n"
     ]
    },
    {
     "name": "stderr",
     "output_type": "stream",
     "text": [
      "     50/450      13.1G     0.4363     0.3078     0.8071         97        640: 100%|██████████| 46/46 [00:15<00:00,  3.04it/s]\n",
      "                 Class     Images  Instances      Box(P          R      mAP50  mAP50-95): 100%|██████████| 6/6 [00:01<00:00,  3.50it/s]"
     ]
    },
    {
     "name": "stdout",
     "output_type": "stream",
     "text": [
      "                   all        330       6132      0.983      0.986      0.994      0.862\n"
     ]
    },
    {
     "name": "stderr",
     "output_type": "stream",
     "text": [
      "\n"
     ]
    },
    {
     "name": "stdout",
     "output_type": "stream",
     "text": [
      "\n",
      "      Epoch    GPU_mem   box_loss   cls_loss   dfl_loss  Instances       Size\n"
     ]
    },
    {
     "name": "stderr",
     "output_type": "stream",
     "text": [
      "     51/450      13.5G     0.4589     0.3126     0.8079         92        640: 100%|██████████| 46/46 [00:15<00:00,  3.05it/s]\n",
      "                 Class     Images  Instances      Box(P          R      mAP50  mAP50-95): 100%|██████████| 6/6 [00:01<00:00,  3.48it/s]"
     ]
    },
    {
     "name": "stdout",
     "output_type": "stream",
     "text": [
      "                   all        330       6132      0.993      0.988      0.994      0.855\n"
     ]
    },
    {
     "name": "stderr",
     "output_type": "stream",
     "text": [
      "\n"
     ]
    },
    {
     "name": "stdout",
     "output_type": "stream",
     "text": [
      "\n",
      "      Epoch    GPU_mem   box_loss   cls_loss   dfl_loss  Instances       Size\n"
     ]
    },
    {
     "name": "stderr",
     "output_type": "stream",
     "text": [
      "     52/450      12.4G     0.4294     0.3005     0.8069         52        640: 100%|██████████| 46/46 [00:15<00:00,  3.04it/s]\n",
      "                 Class     Images  Instances      Box(P          R      mAP50  mAP50-95): 100%|██████████| 6/6 [00:01<00:00,  3.50it/s]"
     ]
    },
    {
     "name": "stdout",
     "output_type": "stream",
     "text": [
      "                   all        330       6132      0.987      0.984      0.993      0.863\n"
     ]
    },
    {
     "name": "stderr",
     "output_type": "stream",
     "text": [
      "\n"
     ]
    },
    {
     "name": "stdout",
     "output_type": "stream",
     "text": [
      "\n",
      "      Epoch    GPU_mem   box_loss   cls_loss   dfl_loss  Instances       Size\n"
     ]
    },
    {
     "name": "stderr",
     "output_type": "stream",
     "text": [
      "     53/450      13.2G     0.4217     0.2974     0.8074         95        640: 100%|██████████| 46/46 [00:15<00:00,  3.05it/s]\n",
      "                 Class     Images  Instances      Box(P          R      mAP50  mAP50-95): 100%|██████████| 6/6 [00:01<00:00,  3.54it/s]"
     ]
    },
    {
     "name": "stdout",
     "output_type": "stream",
     "text": [
      "                   all        330       6132      0.989      0.988      0.994      0.864\n"
     ]
    },
    {
     "name": "stderr",
     "output_type": "stream",
     "text": [
      "\n"
     ]
    },
    {
     "name": "stdout",
     "output_type": "stream",
     "text": [
      "\n",
      "      Epoch    GPU_mem   box_loss   cls_loss   dfl_loss  Instances       Size\n"
     ]
    },
    {
     "name": "stderr",
     "output_type": "stream",
     "text": [
      "     54/450      13.1G     0.4292        0.3     0.8053         44        640: 100%|██████████| 46/46 [00:15<00:00,  3.04it/s]\n",
      "                 Class     Images  Instances      Box(P          R      mAP50  mAP50-95): 100%|██████████| 6/6 [00:01<00:00,  3.50it/s]"
     ]
    },
    {
     "name": "stdout",
     "output_type": "stream",
     "text": [
      "                   all        330       6132      0.989      0.985      0.994      0.842\n"
     ]
    },
    {
     "name": "stderr",
     "output_type": "stream",
     "text": [
      "\n"
     ]
    },
    {
     "name": "stdout",
     "output_type": "stream",
     "text": [
      "\n",
      "      Epoch    GPU_mem   box_loss   cls_loss   dfl_loss  Instances       Size\n"
     ]
    },
    {
     "name": "stderr",
     "output_type": "stream",
     "text": [
      "     55/450      12.7G     0.4403     0.3106     0.8045         72        640: 100%|██████████| 46/46 [00:15<00:00,  3.06it/s]\n",
      "                 Class     Images  Instances      Box(P          R      mAP50  mAP50-95): 100%|██████████| 6/6 [00:01<00:00,  3.34it/s]"
     ]
    },
    {
     "name": "stdout",
     "output_type": "stream",
     "text": [
      "                   all        330       6132      0.991      0.987      0.994      0.858\n"
     ]
    },
    {
     "name": "stderr",
     "output_type": "stream",
     "text": [
      "\n"
     ]
    },
    {
     "name": "stdout",
     "output_type": "stream",
     "text": [
      "\n",
      "      Epoch    GPU_mem   box_loss   cls_loss   dfl_loss  Instances       Size\n"
     ]
    },
    {
     "name": "stderr",
     "output_type": "stream",
     "text": [
      "     56/450      13.8G     0.4205     0.2971     0.8039         66        640: 100%|██████████| 46/46 [00:15<00:00,  3.05it/s]\n",
      "                 Class     Images  Instances      Box(P          R      mAP50  mAP50-95): 100%|██████████| 6/6 [00:01<00:00,  3.52it/s]"
     ]
    },
    {
     "name": "stdout",
     "output_type": "stream",
     "text": [
      "                   all        330       6132      0.995      0.991      0.995      0.857\n"
     ]
    },
    {
     "name": "stderr",
     "output_type": "stream",
     "text": [
      "\n"
     ]
    },
    {
     "name": "stdout",
     "output_type": "stream",
     "text": [
      "\n",
      "      Epoch    GPU_mem   box_loss   cls_loss   dfl_loss  Instances       Size\n"
     ]
    },
    {
     "name": "stderr",
     "output_type": "stream",
     "text": [
      "     57/450      12.7G     0.4129     0.2929     0.8054         81        640: 100%|██████████| 46/46 [00:15<00:00,  3.06it/s]\n",
      "                 Class     Images  Instances      Box(P          R      mAP50  mAP50-95): 100%|██████████| 6/6 [00:01<00:00,  3.48it/s]"
     ]
    },
    {
     "name": "stdout",
     "output_type": "stream",
     "text": [
      "                   all        330       6132      0.991      0.991      0.994      0.868\n"
     ]
    },
    {
     "name": "stderr",
     "output_type": "stream",
     "text": [
      "\n"
     ]
    },
    {
     "name": "stdout",
     "output_type": "stream",
     "text": [
      "\n",
      "      Epoch    GPU_mem   box_loss   cls_loss   dfl_loss  Instances       Size\n"
     ]
    },
    {
     "name": "stderr",
     "output_type": "stream",
     "text": [
      "     58/450      12.9G     0.4198     0.2951     0.8029         95        640: 100%|██████████| 46/46 [00:15<00:00,  3.05it/s]\n",
      "                 Class     Images  Instances      Box(P          R      mAP50  mAP50-95): 100%|██████████| 6/6 [00:01<00:00,  3.49it/s]"
     ]
    },
    {
     "name": "stdout",
     "output_type": "stream",
     "text": [
      "                   all        330       6132      0.994      0.989      0.995      0.855\n"
     ]
    },
    {
     "name": "stderr",
     "output_type": "stream",
     "text": [
      "\n"
     ]
    },
    {
     "name": "stdout",
     "output_type": "stream",
     "text": [
      "\n",
      "      Epoch    GPU_mem   box_loss   cls_loss   dfl_loss  Instances       Size\n"
     ]
    },
    {
     "name": "stderr",
     "output_type": "stream",
     "text": [
      "     59/450        13G     0.4256     0.2947     0.8028         59        640: 100%|██████████| 46/46 [00:15<00:00,  3.02it/s]\n",
      "                 Class     Images  Instances      Box(P          R      mAP50  mAP50-95): 100%|██████████| 6/6 [00:01<00:00,  3.50it/s]"
     ]
    },
    {
     "name": "stdout",
     "output_type": "stream",
     "text": [
      "                   all        330       6132      0.987      0.986      0.994      0.871\n"
     ]
    },
    {
     "name": "stderr",
     "output_type": "stream",
     "text": [
      "\n"
     ]
    },
    {
     "name": "stdout",
     "output_type": "stream",
     "text": [
      "\n",
      "      Epoch    GPU_mem   box_loss   cls_loss   dfl_loss  Instances       Size\n"
     ]
    },
    {
     "name": "stderr",
     "output_type": "stream",
     "text": [
      "     60/450      13.8G     0.4075     0.2843     0.8017         35        640: 100%|██████████| 46/46 [00:15<00:00,  3.05it/s]\n",
      "                 Class     Images  Instances      Box(P          R      mAP50  mAP50-95): 100%|██████████| 6/6 [00:03<00:00,  1.67it/s]"
     ]
    },
    {
     "name": "stdout",
     "output_type": "stream",
     "text": [
      "                   all        330       6132      0.989      0.988      0.994      0.866\n"
     ]
    },
    {
     "name": "stderr",
     "output_type": "stream",
     "text": [
      "\n"
     ]
    },
    {
     "name": "stdout",
     "output_type": "stream",
     "text": [
      "\n",
      "      Epoch    GPU_mem   box_loss   cls_loss   dfl_loss  Instances       Size\n"
     ]
    },
    {
     "name": "stderr",
     "output_type": "stream",
     "text": [
      "     61/450      12.6G     0.4345     0.3013     0.8039         63        640: 100%|██████████| 46/46 [00:16<00:00,  2.71it/s]\n",
      "                 Class     Images  Instances      Box(P          R      mAP50  mAP50-95): 100%|██████████| 6/6 [00:01<00:00,  3.50it/s]"
     ]
    },
    {
     "name": "stdout",
     "output_type": "stream",
     "text": [
      "                   all        330       6132      0.995      0.987      0.994      0.831\n"
     ]
    },
    {
     "name": "stderr",
     "output_type": "stream",
     "text": [
      "\n"
     ]
    },
    {
     "name": "stdout",
     "output_type": "stream",
     "text": [
      "\n",
      "      Epoch    GPU_mem   box_loss   cls_loss   dfl_loss  Instances       Size\n"
     ]
    },
    {
     "name": "stderr",
     "output_type": "stream",
     "text": [
      "     62/450      13.5G     0.4199     0.2912     0.8033        101        640: 100%|██████████| 46/46 [00:15<00:00,  3.05it/s]\n",
      "                 Class     Images  Instances      Box(P          R      mAP50  mAP50-95): 100%|██████████| 6/6 [00:01<00:00,  3.30it/s]"
     ]
    },
    {
     "name": "stdout",
     "output_type": "stream",
     "text": [
      "                   all        330       6132      0.995      0.991      0.995       0.85\n"
     ]
    },
    {
     "name": "stderr",
     "output_type": "stream",
     "text": [
      "\n"
     ]
    },
    {
     "name": "stdout",
     "output_type": "stream",
     "text": [
      "\n",
      "      Epoch    GPU_mem   box_loss   cls_loss   dfl_loss  Instances       Size\n"
     ]
    },
    {
     "name": "stderr",
     "output_type": "stream",
     "text": [
      "     63/450      13.4G     0.4167     0.2876     0.8026         53        640: 100%|██████████| 46/46 [00:15<00:00,  3.05it/s]\n",
      "                 Class     Images  Instances      Box(P          R      mAP50  mAP50-95): 100%|██████████| 6/6 [00:01<00:00,  3.51it/s]"
     ]
    },
    {
     "name": "stdout",
     "output_type": "stream",
     "text": [
      "                   all        330       6132      0.994      0.992      0.995      0.879\n"
     ]
    },
    {
     "name": "stderr",
     "output_type": "stream",
     "text": [
      "\n"
     ]
    },
    {
     "name": "stdout",
     "output_type": "stream",
     "text": [
      "\n",
      "      Epoch    GPU_mem   box_loss   cls_loss   dfl_loss  Instances       Size\n"
     ]
    },
    {
     "name": "stderr",
     "output_type": "stream",
     "text": [
      "     64/450      12.3G     0.4072     0.2867     0.7996         87        640: 100%|██████████| 46/46 [00:15<00:00,  3.05it/s]\n",
      "                 Class     Images  Instances      Box(P          R      mAP50  mAP50-95): 100%|██████████| 6/6 [00:01<00:00,  3.48it/s]"
     ]
    },
    {
     "name": "stdout",
     "output_type": "stream",
     "text": [
      "                   all        330       6132      0.992      0.992      0.995       0.86\n"
     ]
    },
    {
     "name": "stderr",
     "output_type": "stream",
     "text": [
      "\n"
     ]
    },
    {
     "name": "stdout",
     "output_type": "stream",
     "text": [
      "\n",
      "      Epoch    GPU_mem   box_loss   cls_loss   dfl_loss  Instances       Size\n"
     ]
    },
    {
     "name": "stderr",
     "output_type": "stream",
     "text": [
      "     65/450      13.7G        0.4     0.2838     0.8009         78        640: 100%|██████████| 46/46 [00:15<00:00,  3.05it/s]\n",
      "                 Class     Images  Instances      Box(P          R      mAP50  mAP50-95): 100%|██████████| 6/6 [00:01<00:00,  3.51it/s]"
     ]
    },
    {
     "name": "stdout",
     "output_type": "stream",
     "text": [
      "                   all        330       6132      0.994      0.993      0.994      0.872\n"
     ]
    },
    {
     "name": "stderr",
     "output_type": "stream",
     "text": [
      "\n"
     ]
    },
    {
     "name": "stdout",
     "output_type": "stream",
     "text": [
      "\n",
      "      Epoch    GPU_mem   box_loss   cls_loss   dfl_loss  Instances       Size\n"
     ]
    },
    {
     "name": "stderr",
     "output_type": "stream",
     "text": [
      "     66/450      12.7G     0.4023     0.2786     0.7998         44        640: 100%|██████████| 46/46 [00:15<00:00,  3.05it/s]\n",
      "                 Class     Images  Instances      Box(P          R      mAP50  mAP50-95): 100%|██████████| 6/6 [00:01<00:00,  3.48it/s]"
     ]
    },
    {
     "name": "stdout",
     "output_type": "stream",
     "text": [
      "                   all        330       6132      0.993      0.995      0.995      0.857\n"
     ]
    },
    {
     "name": "stderr",
     "output_type": "stream",
     "text": [
      "\n"
     ]
    },
    {
     "name": "stdout",
     "output_type": "stream",
     "text": [
      "\n",
      "      Epoch    GPU_mem   box_loss   cls_loss   dfl_loss  Instances       Size\n"
     ]
    },
    {
     "name": "stderr",
     "output_type": "stream",
     "text": [
      "     67/450      11.9G     0.4003      0.281     0.8001         56        640: 100%|██████████| 46/46 [00:15<00:00,  3.06it/s]\n",
      "                 Class     Images  Instances      Box(P          R      mAP50  mAP50-95): 100%|██████████| 6/6 [00:01<00:00,  3.47it/s]"
     ]
    },
    {
     "name": "stdout",
     "output_type": "stream",
     "text": [
      "                   all        330       6132      0.993      0.995      0.995      0.841\n"
     ]
    },
    {
     "name": "stderr",
     "output_type": "stream",
     "text": [
      "\n"
     ]
    },
    {
     "name": "stdout",
     "output_type": "stream",
     "text": [
      "\n",
      "      Epoch    GPU_mem   box_loss   cls_loss   dfl_loss  Instances       Size\n"
     ]
    },
    {
     "name": "stderr",
     "output_type": "stream",
     "text": [
      "     68/450      13.3G      0.392     0.2778      0.799         42        640: 100%|██████████| 46/46 [00:15<00:00,  3.06it/s]\n",
      "                 Class     Images  Instances      Box(P          R      mAP50  mAP50-95): 100%|██████████| 6/6 [00:01<00:00,  3.49it/s]"
     ]
    },
    {
     "name": "stdout",
     "output_type": "stream",
     "text": [
      "                   all        330       6132      0.994      0.988      0.995      0.871\n"
     ]
    },
    {
     "name": "stderr",
     "output_type": "stream",
     "text": [
      "\n"
     ]
    },
    {
     "name": "stdout",
     "output_type": "stream",
     "text": [
      "\n",
      "      Epoch    GPU_mem   box_loss   cls_loss   dfl_loss  Instances       Size\n"
     ]
    },
    {
     "name": "stderr",
     "output_type": "stream",
     "text": [
      "     69/450      13.7G     0.3928     0.2788     0.7996         54        640: 100%|██████████| 46/46 [00:15<00:00,  3.03it/s]\n",
      "                 Class     Images  Instances      Box(P          R      mAP50  mAP50-95): 100%|██████████| 6/6 [00:01<00:00,  3.53it/s]"
     ]
    },
    {
     "name": "stdout",
     "output_type": "stream",
     "text": [
      "                   all        330       6132      0.994      0.986      0.994      0.849\n"
     ]
    },
    {
     "name": "stderr",
     "output_type": "stream",
     "text": [
      "\n"
     ]
    },
    {
     "name": "stdout",
     "output_type": "stream",
     "text": [
      "\n",
      "      Epoch    GPU_mem   box_loss   cls_loss   dfl_loss  Instances       Size\n"
     ]
    },
    {
     "name": "stderr",
     "output_type": "stream",
     "text": [
      "     70/450      13.4G     0.4057     0.2799     0.7997        109        640: 100%|██████████| 46/46 [00:15<00:00,  3.04it/s]\n",
      "                 Class     Images  Instances      Box(P          R      mAP50  mAP50-95): 100%|██████████| 6/6 [00:01<00:00,  3.51it/s]"
     ]
    },
    {
     "name": "stdout",
     "output_type": "stream",
     "text": [
      "                   all        330       6132      0.981      0.985      0.993      0.856\n"
     ]
    },
    {
     "name": "stderr",
     "output_type": "stream",
     "text": [
      "\n"
     ]
    },
    {
     "name": "stdout",
     "output_type": "stream",
     "text": [
      "\n",
      "      Epoch    GPU_mem   box_loss   cls_loss   dfl_loss  Instances       Size\n"
     ]
    },
    {
     "name": "stderr",
     "output_type": "stream",
     "text": [
      "     71/450      12.4G     0.4186     0.2843     0.8028         91        640: 100%|██████████| 46/46 [00:14<00:00,  3.07it/s]\n",
      "                 Class     Images  Instances      Box(P          R      mAP50  mAP50-95): 100%|██████████| 6/6 [00:01<00:00,  3.35it/s]"
     ]
    },
    {
     "name": "stdout",
     "output_type": "stream",
     "text": [
      "                   all        330       6132      0.988      0.992      0.994      0.861\n"
     ]
    },
    {
     "name": "stderr",
     "output_type": "stream",
     "text": [
      "\n"
     ]
    },
    {
     "name": "stdout",
     "output_type": "stream",
     "text": [
      "\n",
      "      Epoch    GPU_mem   box_loss   cls_loss   dfl_loss  Instances       Size\n"
     ]
    },
    {
     "name": "stderr",
     "output_type": "stream",
     "text": [
      "     72/450        13G     0.4109     0.2852     0.8014         61        640: 100%|██████████| 46/46 [00:15<00:00,  3.06it/s]\n",
      "                 Class     Images  Instances      Box(P          R      mAP50  mAP50-95): 100%|██████████| 6/6 [00:01<00:00,  3.50it/s]"
     ]
    },
    {
     "name": "stdout",
     "output_type": "stream",
     "text": [
      "                   all        330       6132      0.992      0.991      0.994      0.872\n"
     ]
    },
    {
     "name": "stderr",
     "output_type": "stream",
     "text": [
      "\n"
     ]
    },
    {
     "name": "stdout",
     "output_type": "stream",
     "text": [
      "\n",
      "      Epoch    GPU_mem   box_loss   cls_loss   dfl_loss  Instances       Size\n"
     ]
    },
    {
     "name": "stderr",
     "output_type": "stream",
     "text": [
      "     73/450      13.6G      0.396     0.2751     0.8014         39        640: 100%|██████████| 46/46 [00:15<00:00,  3.06it/s]\n",
      "                 Class     Images  Instances      Box(P          R      mAP50  mAP50-95): 100%|██████████| 6/6 [00:01<00:00,  3.51it/s]"
     ]
    },
    {
     "name": "stdout",
     "output_type": "stream",
     "text": [
      "                   all        330       6132      0.991      0.993      0.994      0.869\n"
     ]
    },
    {
     "name": "stderr",
     "output_type": "stream",
     "text": [
      "\n"
     ]
    },
    {
     "name": "stdout",
     "output_type": "stream",
     "text": [
      "\n",
      "      Epoch    GPU_mem   box_loss   cls_loss   dfl_loss  Instances       Size\n"
     ]
    },
    {
     "name": "stderr",
     "output_type": "stream",
     "text": [
      "     74/450      13.5G     0.4044     0.2809     0.7996         74        640: 100%|██████████| 46/46 [00:15<00:00,  3.04it/s]\n",
      "                 Class     Images  Instances      Box(P          R      mAP50  mAP50-95): 100%|██████████| 6/6 [00:01<00:00,  3.43it/s]"
     ]
    },
    {
     "name": "stdout",
     "output_type": "stream",
     "text": [
      "                   all        330       6132      0.993      0.993      0.994       0.87\n"
     ]
    },
    {
     "name": "stderr",
     "output_type": "stream",
     "text": [
      "\n"
     ]
    },
    {
     "name": "stdout",
     "output_type": "stream",
     "text": [
      "\n",
      "      Epoch    GPU_mem   box_loss   cls_loss   dfl_loss  Instances       Size\n"
     ]
    },
    {
     "name": "stderr",
     "output_type": "stream",
     "text": [
      "     75/450      12.7G     0.4193     0.2848     0.8022         37        640: 100%|██████████| 46/46 [00:15<00:00,  3.05it/s]\n",
      "                 Class     Images  Instances      Box(P          R      mAP50  mAP50-95): 100%|██████████| 6/6 [00:01<00:00,  3.53it/s]"
     ]
    },
    {
     "name": "stdout",
     "output_type": "stream",
     "text": [
      "                   all        330       6132      0.995      0.993      0.995      0.874\n"
     ]
    },
    {
     "name": "stderr",
     "output_type": "stream",
     "text": [
      "\n"
     ]
    },
    {
     "name": "stdout",
     "output_type": "stream",
     "text": [
      "\n",
      "      Epoch    GPU_mem   box_loss   cls_loss   dfl_loss  Instances       Size\n"
     ]
    },
    {
     "name": "stderr",
     "output_type": "stream",
     "text": [
      "     76/450      13.2G     0.4028     0.2773     0.7995         40        640: 100%|██████████| 46/46 [00:15<00:00,  3.05it/s]\n",
      "                 Class     Images  Instances      Box(P          R      mAP50  mAP50-95): 100%|██████████| 6/6 [00:01<00:00,  3.54it/s]"
     ]
    },
    {
     "name": "stdout",
     "output_type": "stream",
     "text": [
      "                   all        330       6132      0.993      0.989      0.994       0.88\n"
     ]
    },
    {
     "name": "stderr",
     "output_type": "stream",
     "text": [
      "\n"
     ]
    },
    {
     "name": "stdout",
     "output_type": "stream",
     "text": [
      "\n",
      "      Epoch    GPU_mem   box_loss   cls_loss   dfl_loss  Instances       Size\n"
     ]
    },
    {
     "name": "stderr",
     "output_type": "stream",
     "text": [
      "     77/450        12G     0.4049      0.277     0.7994         33        640: 100%|██████████| 46/46 [00:15<00:00,  3.02it/s]\n",
      "                 Class     Images  Instances      Box(P          R      mAP50  mAP50-95): 100%|██████████| 6/6 [00:01<00:00,  3.52it/s]"
     ]
    },
    {
     "name": "stdout",
     "output_type": "stream",
     "text": [
      "                   all        330       6132      0.994      0.988      0.994      0.848\n"
     ]
    },
    {
     "name": "stderr",
     "output_type": "stream",
     "text": [
      "\n"
     ]
    },
    {
     "name": "stdout",
     "output_type": "stream",
     "text": [
      "\n",
      "      Epoch    GPU_mem   box_loss   cls_loss   dfl_loss  Instances       Size\n"
     ]
    },
    {
     "name": "stderr",
     "output_type": "stream",
     "text": [
      "     78/450      13.4G     0.4051     0.2767     0.7998         67        640: 100%|██████████| 46/46 [00:15<00:00,  3.05it/s]\n",
      "                 Class     Images  Instances      Box(P          R      mAP50  mAP50-95): 100%|██████████| 6/6 [00:01<00:00,  3.53it/s]"
     ]
    },
    {
     "name": "stdout",
     "output_type": "stream",
     "text": [
      "                   all        330       6132      0.994      0.993      0.995      0.859\n"
     ]
    },
    {
     "name": "stderr",
     "output_type": "stream",
     "text": [
      "\n"
     ]
    },
    {
     "name": "stdout",
     "output_type": "stream",
     "text": [
      "\n",
      "      Epoch    GPU_mem   box_loss   cls_loss   dfl_loss  Instances       Size\n"
     ]
    },
    {
     "name": "stderr",
     "output_type": "stream",
     "text": [
      "     79/450      12.8G     0.3929     0.2708     0.7978         47        640: 100%|██████████| 46/46 [00:15<00:00,  3.04it/s]\n",
      "                 Class     Images  Instances      Box(P          R      mAP50  mAP50-95): 100%|██████████| 6/6 [00:01<00:00,  3.52it/s]"
     ]
    },
    {
     "name": "stdout",
     "output_type": "stream",
     "text": [
      "                   all        330       6132      0.991      0.991      0.993      0.871\n"
     ]
    },
    {
     "name": "stderr",
     "output_type": "stream",
     "text": [
      "\n"
     ]
    },
    {
     "name": "stdout",
     "output_type": "stream",
     "text": [
      "\n",
      "      Epoch    GPU_mem   box_loss   cls_loss   dfl_loss  Instances       Size\n"
     ]
    },
    {
     "name": "stderr",
     "output_type": "stream",
     "text": [
      "     80/450        13G     0.3921     0.2769      0.795        118        640: 100%|██████████| 46/46 [00:15<00:00,  3.06it/s]\n",
      "                 Class     Images  Instances      Box(P          R      mAP50  mAP50-95): 100%|██████████| 6/6 [00:01<00:00,  3.32it/s]"
     ]
    },
    {
     "name": "stdout",
     "output_type": "stream",
     "text": [
      "                   all        330       6132      0.995      0.995      0.994      0.874\n"
     ]
    },
    {
     "name": "stderr",
     "output_type": "stream",
     "text": [
      "\n"
     ]
    },
    {
     "name": "stdout",
     "output_type": "stream",
     "text": [
      "\n",
      "      Epoch    GPU_mem   box_loss   cls_loss   dfl_loss  Instances       Size\n"
     ]
    },
    {
     "name": "stderr",
     "output_type": "stream",
     "text": [
      "     81/450      12.6G     0.3867     0.2733      0.798         20        640: 100%|██████████| 46/46 [00:15<00:00,  3.07it/s]\n",
      "                 Class     Images  Instances      Box(P          R      mAP50  mAP50-95): 100%|██████████| 6/6 [00:01<00:00,  3.54it/s]"
     ]
    },
    {
     "name": "stdout",
     "output_type": "stream",
     "text": [
      "                   all        330       6132      0.996      0.992      0.995       0.86\n"
     ]
    },
    {
     "name": "stderr",
     "output_type": "stream",
     "text": [
      "\n"
     ]
    },
    {
     "name": "stdout",
     "output_type": "stream",
     "text": [
      "\n",
      "      Epoch    GPU_mem   box_loss   cls_loss   dfl_loss  Instances       Size\n"
     ]
    },
    {
     "name": "stderr",
     "output_type": "stream",
     "text": [
      "     82/450      12.8G     0.4057     0.2718     0.7969         59        640: 100%|██████████| 46/46 [00:15<00:00,  3.05it/s]\n",
      "                 Class     Images  Instances      Box(P          R      mAP50  mAP50-95): 100%|██████████| 6/6 [00:01<00:00,  3.51it/s]"
     ]
    },
    {
     "name": "stdout",
     "output_type": "stream",
     "text": [
      "                   all        330       6132      0.991      0.994      0.995      0.883\n"
     ]
    },
    {
     "name": "stderr",
     "output_type": "stream",
     "text": [
      "\n"
     ]
    },
    {
     "name": "stdout",
     "output_type": "stream",
     "text": [
      "\n",
      "      Epoch    GPU_mem   box_loss   cls_loss   dfl_loss  Instances       Size\n"
     ]
    },
    {
     "name": "stderr",
     "output_type": "stream",
     "text": [
      "     83/450      12.8G     0.4111      0.274     0.7988        103        640: 100%|██████████| 46/46 [00:15<00:00,  3.05it/s]\n",
      "                 Class     Images  Instances      Box(P          R      mAP50  mAP50-95): 100%|██████████| 6/6 [00:01<00:00,  3.48it/s]"
     ]
    },
    {
     "name": "stdout",
     "output_type": "stream",
     "text": [
      "                   all        330       6132      0.996      0.993      0.994      0.872\n"
     ]
    },
    {
     "name": "stderr",
     "output_type": "stream",
     "text": [
      "\n"
     ]
    },
    {
     "name": "stdout",
     "output_type": "stream",
     "text": [
      "\n",
      "      Epoch    GPU_mem   box_loss   cls_loss   dfl_loss  Instances       Size\n"
     ]
    },
    {
     "name": "stderr",
     "output_type": "stream",
     "text": [
      "     84/450      13.2G      0.376     0.2616     0.7967         58        640: 100%|██████████| 46/46 [00:15<00:00,  3.03it/s]\n",
      "                 Class     Images  Instances      Box(P          R      mAP50  mAP50-95): 100%|██████████| 6/6 [00:01<00:00,  3.43it/s]"
     ]
    },
    {
     "name": "stdout",
     "output_type": "stream",
     "text": [
      "                   all        330       6132      0.994      0.994      0.994      0.861\n"
     ]
    },
    {
     "name": "stderr",
     "output_type": "stream",
     "text": [
      "\n"
     ]
    },
    {
     "name": "stdout",
     "output_type": "stream",
     "text": [
      "\n",
      "      Epoch    GPU_mem   box_loss   cls_loss   dfl_loss  Instances       Size\n"
     ]
    },
    {
     "name": "stderr",
     "output_type": "stream",
     "text": [
      "     85/450      12.7G     0.3783     0.2627     0.7968         40        640: 100%|██████████| 46/46 [00:15<00:00,  3.05it/s]\n",
      "                 Class     Images  Instances      Box(P          R      mAP50  mAP50-95): 100%|██████████| 6/6 [00:01<00:00,  3.54it/s]"
     ]
    },
    {
     "name": "stdout",
     "output_type": "stream",
     "text": [
      "                   all        330       6132      0.993      0.993      0.994      0.861\n"
     ]
    },
    {
     "name": "stderr",
     "output_type": "stream",
     "text": [
      "\n"
     ]
    },
    {
     "name": "stdout",
     "output_type": "stream",
     "text": [
      "\n",
      "      Epoch    GPU_mem   box_loss   cls_loss   dfl_loss  Instances       Size\n"
     ]
    },
    {
     "name": "stderr",
     "output_type": "stream",
     "text": [
      "     86/450      13.8G     0.3778     0.2612      0.797         76        640: 100%|██████████| 46/46 [00:15<00:00,  3.04it/s]\n",
      "                 Class     Images  Instances      Box(P          R      mAP50  mAP50-95): 100%|██████████| 6/6 [00:02<00:00,  2.38it/s]"
     ]
    },
    {
     "name": "stdout",
     "output_type": "stream",
     "text": [
      "                   all        330       6132      0.993      0.993      0.995      0.872\n"
     ]
    },
    {
     "name": "stderr",
     "output_type": "stream",
     "text": [
      "\n"
     ]
    },
    {
     "name": "stdout",
     "output_type": "stream",
     "text": [
      "\n",
      "      Epoch    GPU_mem   box_loss   cls_loss   dfl_loss  Instances       Size\n"
     ]
    },
    {
     "name": "stderr",
     "output_type": "stream",
     "text": [
      "     87/450      13.1G     0.3878     0.2705     0.7942         89        640: 100%|██████████| 46/46 [00:16<00:00,  2.87it/s]\n",
      "                 Class     Images  Instances      Box(P          R      mAP50  mAP50-95): 100%|██████████| 6/6 [00:01<00:00,  3.52it/s]"
     ]
    },
    {
     "name": "stdout",
     "output_type": "stream",
     "text": [
      "                   all        330       6132      0.995      0.993      0.995      0.858\n"
     ]
    },
    {
     "name": "stderr",
     "output_type": "stream",
     "text": [
      "\n"
     ]
    },
    {
     "name": "stdout",
     "output_type": "stream",
     "text": [
      "\n",
      "      Epoch    GPU_mem   box_loss   cls_loss   dfl_loss  Instances       Size\n"
     ]
    },
    {
     "name": "stderr",
     "output_type": "stream",
     "text": [
      "     88/450      12.4G     0.3772     0.2661     0.7971         45        640: 100%|██████████| 46/46 [00:15<00:00,  3.05it/s]\n",
      "                 Class     Images  Instances      Box(P          R      mAP50  mAP50-95): 100%|██████████| 6/6 [00:01<00:00,  3.52it/s]"
     ]
    },
    {
     "name": "stdout",
     "output_type": "stream",
     "text": [
      "                   all        330       6132      0.984      0.991      0.994      0.866\n"
     ]
    },
    {
     "name": "stderr",
     "output_type": "stream",
     "text": [
      "\n"
     ]
    },
    {
     "name": "stdout",
     "output_type": "stream",
     "text": [
      "\n",
      "      Epoch    GPU_mem   box_loss   cls_loss   dfl_loss  Instances       Size\n"
     ]
    },
    {
     "name": "stderr",
     "output_type": "stream",
     "text": [
      "     89/450      13.3G     0.3979     0.2728     0.7984         38        640: 100%|██████████| 46/46 [00:15<00:00,  3.05it/s]\n",
      "                 Class     Images  Instances      Box(P          R      mAP50  mAP50-95): 100%|██████████| 6/6 [00:01<00:00,  3.39it/s]"
     ]
    },
    {
     "name": "stdout",
     "output_type": "stream",
     "text": [
      "                   all        330       6132      0.993      0.995      0.995      0.849\n"
     ]
    },
    {
     "name": "stderr",
     "output_type": "stream",
     "text": [
      "\n"
     ]
    },
    {
     "name": "stdout",
     "output_type": "stream",
     "text": [
      "\n",
      "      Epoch    GPU_mem   box_loss   cls_loss   dfl_loss  Instances       Size\n"
     ]
    },
    {
     "name": "stderr",
     "output_type": "stream",
     "text": [
      "     90/450      13.5G     0.3839     0.2664     0.7954        108        640: 100%|██████████| 46/46 [00:15<00:00,  3.05it/s]\n",
      "                 Class     Images  Instances      Box(P          R      mAP50  mAP50-95): 100%|██████████| 6/6 [00:01<00:00,  3.51it/s]"
     ]
    },
    {
     "name": "stdout",
     "output_type": "stream",
     "text": [
      "                   all        330       6132      0.994      0.994      0.994      0.869\n"
     ]
    },
    {
     "name": "stderr",
     "output_type": "stream",
     "text": [
      "\n"
     ]
    },
    {
     "name": "stdout",
     "output_type": "stream",
     "text": [
      "\n",
      "      Epoch    GPU_mem   box_loss   cls_loss   dfl_loss  Instances       Size\n"
     ]
    },
    {
     "name": "stderr",
     "output_type": "stream",
     "text": [
      "     91/450      13.3G     0.3688     0.2567     0.7936         85        640: 100%|██████████| 46/46 [00:15<00:00,  3.03it/s]\n",
      "                 Class     Images  Instances      Box(P          R      mAP50  mAP50-95): 100%|██████████| 6/6 [00:01<00:00,  3.53it/s]"
     ]
    },
    {
     "name": "stdout",
     "output_type": "stream",
     "text": [
      "                   all        330       6132      0.992      0.994      0.994      0.866\n"
     ]
    },
    {
     "name": "stderr",
     "output_type": "stream",
     "text": [
      "\n"
     ]
    },
    {
     "name": "stdout",
     "output_type": "stream",
     "text": [
      "\n",
      "      Epoch    GPU_mem   box_loss   cls_loss   dfl_loss  Instances       Size\n"
     ]
    },
    {
     "name": "stderr",
     "output_type": "stream",
     "text": [
      "     92/450      12.7G     0.3821     0.2609     0.7955         32        640: 100%|██████████| 46/46 [00:15<00:00,  3.05it/s]\n",
      "                 Class     Images  Instances      Box(P          R      mAP50  mAP50-95): 100%|██████████| 6/6 [00:01<00:00,  3.50it/s]"
     ]
    },
    {
     "name": "stdout",
     "output_type": "stream",
     "text": [
      "                   all        330       6132      0.994      0.994      0.994      0.872\n"
     ]
    },
    {
     "name": "stderr",
     "output_type": "stream",
     "text": [
      "\n"
     ]
    },
    {
     "name": "stdout",
     "output_type": "stream",
     "text": [
      "\n",
      "      Epoch    GPU_mem   box_loss   cls_loss   dfl_loss  Instances       Size\n"
     ]
    },
    {
     "name": "stderr",
     "output_type": "stream",
     "text": [
      "     93/450        13G     0.3834     0.2661     0.7971         43        640: 100%|██████████| 46/46 [00:15<00:00,  3.03it/s]\n",
      "                 Class     Images  Instances      Box(P          R      mAP50  mAP50-95): 100%|██████████| 6/6 [00:01<00:00,  3.44it/s]"
     ]
    },
    {
     "name": "stdout",
     "output_type": "stream",
     "text": [
      "                   all        330       6132      0.989      0.995      0.994      0.872\n"
     ]
    },
    {
     "name": "stderr",
     "output_type": "stream",
     "text": [
      "\n"
     ]
    },
    {
     "name": "stdout",
     "output_type": "stream",
     "text": [
      "\n",
      "      Epoch    GPU_mem   box_loss   cls_loss   dfl_loss  Instances       Size\n"
     ]
    },
    {
     "name": "stderr",
     "output_type": "stream",
     "text": [
      "     94/450      12.5G      0.379     0.2638     0.7957         83        640: 100%|██████████| 46/46 [00:15<00:00,  3.06it/s]\n",
      "                 Class     Images  Instances      Box(P          R      mAP50  mAP50-95): 100%|██████████| 6/6 [00:01<00:00,  3.52it/s]"
     ]
    },
    {
     "name": "stdout",
     "output_type": "stream",
     "text": [
      "                   all        330       6132      0.996      0.995      0.995      0.875\n"
     ]
    },
    {
     "name": "stderr",
     "output_type": "stream",
     "text": [
      "\n"
     ]
    },
    {
     "name": "stdout",
     "output_type": "stream",
     "text": [
      "\n",
      "      Epoch    GPU_mem   box_loss   cls_loss   dfl_loss  Instances       Size\n"
     ]
    },
    {
     "name": "stderr",
     "output_type": "stream",
     "text": [
      "     95/450      12.8G     0.3691     0.2553     0.7946         58        640: 100%|██████████| 46/46 [00:15<00:00,  3.05it/s]\n",
      "                 Class     Images  Instances      Box(P          R      mAP50  mAP50-95): 100%|██████████| 6/6 [00:01<00:00,  3.54it/s]"
     ]
    },
    {
     "name": "stdout",
     "output_type": "stream",
     "text": [
      "                   all        330       6132      0.991      0.996      0.995      0.873\n"
     ]
    },
    {
     "name": "stderr",
     "output_type": "stream",
     "text": [
      "\n"
     ]
    },
    {
     "name": "stdout",
     "output_type": "stream",
     "text": [
      "\n",
      "      Epoch    GPU_mem   box_loss   cls_loss   dfl_loss  Instances       Size\n"
     ]
    },
    {
     "name": "stderr",
     "output_type": "stream",
     "text": [
      "     96/450      13.4G     0.3782     0.2598      0.794         39        640: 100%|██████████| 46/46 [00:15<00:00,  3.04it/s]\n",
      "                 Class     Images  Instances      Box(P          R      mAP50  mAP50-95): 100%|██████████| 6/6 [00:01<00:00,  3.53it/s]"
     ]
    },
    {
     "name": "stdout",
     "output_type": "stream",
     "text": [
      "                   all        330       6132      0.995      0.991      0.995       0.86\n"
     ]
    },
    {
     "name": "stderr",
     "output_type": "stream",
     "text": [
      "\n"
     ]
    },
    {
     "name": "stdout",
     "output_type": "stream",
     "text": [
      "\n",
      "      Epoch    GPU_mem   box_loss   cls_loss   dfl_loss  Instances       Size\n"
     ]
    },
    {
     "name": "stderr",
     "output_type": "stream",
     "text": [
      "     97/450        12G     0.3992     0.2665     0.7986         63        640: 100%|██████████| 46/46 [00:15<00:00,  3.06it/s]\n",
      "                 Class     Images  Instances      Box(P          R      mAP50  mAP50-95): 100%|██████████| 6/6 [00:01<00:00,  3.55it/s]"
     ]
    },
    {
     "name": "stdout",
     "output_type": "stream",
     "text": [
      "                   all        330       6132      0.994      0.994      0.995      0.866\n"
     ]
    },
    {
     "name": "stderr",
     "output_type": "stream",
     "text": [
      "\n"
     ]
    },
    {
     "name": "stdout",
     "output_type": "stream",
     "text": [
      "\n",
      "      Epoch    GPU_mem   box_loss   cls_loss   dfl_loss  Instances       Size\n"
     ]
    },
    {
     "name": "stderr",
     "output_type": "stream",
     "text": [
      "     98/450      13.5G      0.373      0.258     0.7943        119        640: 100%|██████████| 46/46 [00:14<00:00,  3.07it/s]\n",
      "                 Class     Images  Instances      Box(P          R      mAP50  mAP50-95): 100%|██████████| 6/6 [00:01<00:00,  3.41it/s]"
     ]
    },
    {
     "name": "stdout",
     "output_type": "stream",
     "text": [
      "                   all        330       6132      0.995      0.996      0.995      0.868\n"
     ]
    },
    {
     "name": "stderr",
     "output_type": "stream",
     "text": [
      "\n"
     ]
    },
    {
     "name": "stdout",
     "output_type": "stream",
     "text": [
      "\n",
      "      Epoch    GPU_mem   box_loss   cls_loss   dfl_loss  Instances       Size\n"
     ]
    },
    {
     "name": "stderr",
     "output_type": "stream",
     "text": [
      "     99/450      13.9G     0.3737     0.2611     0.7956         67        640: 100%|██████████| 46/46 [00:15<00:00,  3.05it/s]\n",
      "                 Class     Images  Instances      Box(P          R      mAP50  mAP50-95): 100%|██████████| 6/6 [00:01<00:00,  3.53it/s]"
     ]
    },
    {
     "name": "stdout",
     "output_type": "stream",
     "text": [
      "                   all        330       6132      0.993      0.995      0.994      0.874\n"
     ]
    },
    {
     "name": "stderr",
     "output_type": "stream",
     "text": [
      "\n"
     ]
    },
    {
     "name": "stdout",
     "output_type": "stream",
     "text": [
      "\n",
      "      Epoch    GPU_mem   box_loss   cls_loss   dfl_loss  Instances       Size\n"
     ]
    },
    {
     "name": "stderr",
     "output_type": "stream",
     "text": [
      "    100/450      13.5G     0.3813     0.2614     0.7938         49        640: 100%|██████████| 46/46 [00:15<00:00,  3.05it/s]\n",
      "                 Class     Images  Instances      Box(P          R      mAP50  mAP50-95): 100%|██████████| 6/6 [00:01<00:00,  3.48it/s]"
     ]
    },
    {
     "name": "stdout",
     "output_type": "stream",
     "text": [
      "                   all        330       6132      0.994      0.994      0.994      0.872\n"
     ]
    },
    {
     "name": "stderr",
     "output_type": "stream",
     "text": [
      "\n"
     ]
    },
    {
     "name": "stdout",
     "output_type": "stream",
     "text": [
      "\n",
      "      Epoch    GPU_mem   box_loss   cls_loss   dfl_loss  Instances       Size\n"
     ]
    },
    {
     "name": "stderr",
     "output_type": "stream",
     "text": [
      "    101/450      12.4G     0.3672     0.2508     0.7943         57        640: 100%|██████████| 46/46 [00:15<00:00,  3.05it/s]\n",
      "                 Class     Images  Instances      Box(P          R      mAP50  mAP50-95): 100%|██████████| 6/6 [00:01<00:00,  3.51it/s]"
     ]
    },
    {
     "name": "stdout",
     "output_type": "stream",
     "text": [
      "                   all        330       6132      0.995      0.996      0.995      0.871\n"
     ]
    },
    {
     "name": "stderr",
     "output_type": "stream",
     "text": [
      "\n"
     ]
    },
    {
     "name": "stdout",
     "output_type": "stream",
     "text": [
      "\n",
      "      Epoch    GPU_mem   box_loss   cls_loss   dfl_loss  Instances       Size\n"
     ]
    },
    {
     "name": "stderr",
     "output_type": "stream",
     "text": [
      "    102/450        13G     0.3735     0.2578     0.7961         50        640: 100%|██████████| 46/46 [00:15<00:00,  3.05it/s]\n",
      "                 Class     Images  Instances      Box(P          R      mAP50  mAP50-95): 100%|██████████| 6/6 [00:01<00:00,  3.52it/s]"
     ]
    },
    {
     "name": "stdout",
     "output_type": "stream",
     "text": [
      "                   all        330       6132      0.995      0.996      0.995      0.875\n"
     ]
    },
    {
     "name": "stderr",
     "output_type": "stream",
     "text": [
      "\n"
     ]
    },
    {
     "name": "stdout",
     "output_type": "stream",
     "text": [
      "\n",
      "      Epoch    GPU_mem   box_loss   cls_loss   dfl_loss  Instances       Size\n"
     ]
    },
    {
     "name": "stderr",
     "output_type": "stream",
     "text": [
      "    103/450      12.9G     0.3698      0.249     0.7938         55        640: 100%|██████████| 46/46 [00:15<00:00,  3.06it/s]\n",
      "                 Class     Images  Instances      Box(P          R      mAP50  mAP50-95): 100%|██████████| 6/6 [00:01<00:00,  3.52it/s]"
     ]
    },
    {
     "name": "stdout",
     "output_type": "stream",
     "text": [
      "                   all        330       6132      0.995      0.996      0.995      0.865\n"
     ]
    },
    {
     "name": "stderr",
     "output_type": "stream",
     "text": [
      "\n"
     ]
    },
    {
     "name": "stdout",
     "output_type": "stream",
     "text": [
      "\n",
      "      Epoch    GPU_mem   box_loss   cls_loss   dfl_loss  Instances       Size\n"
     ]
    },
    {
     "name": "stderr",
     "output_type": "stream",
     "text": [
      "    104/450      12.2G     0.3686      0.253     0.7944        104        640: 100%|██████████| 46/46 [00:15<00:00,  3.06it/s]\n",
      "                 Class     Images  Instances      Box(P          R      mAP50  mAP50-95): 100%|██████████| 6/6 [00:01<00:00,  3.50it/s]"
     ]
    },
    {
     "name": "stdout",
     "output_type": "stream",
     "text": [
      "                   all        330       6132      0.996      0.996      0.994      0.858\n"
     ]
    },
    {
     "name": "stderr",
     "output_type": "stream",
     "text": [
      "\n"
     ]
    },
    {
     "name": "stdout",
     "output_type": "stream",
     "text": [
      "\n",
      "      Epoch    GPU_mem   box_loss   cls_loss   dfl_loss  Instances       Size\n"
     ]
    },
    {
     "name": "stderr",
     "output_type": "stream",
     "text": [
      "    105/450        13G     0.3731     0.2569     0.7939         28        640: 100%|██████████| 46/46 [00:15<00:00,  3.06it/s]\n",
      "                 Class     Images  Instances      Box(P          R      mAP50  mAP50-95): 100%|██████████| 6/6 [00:01<00:00,  3.48it/s]"
     ]
    },
    {
     "name": "stdout",
     "output_type": "stream",
     "text": [
      "                   all        330       6132      0.995      0.996      0.995      0.873\n"
     ]
    },
    {
     "name": "stderr",
     "output_type": "stream",
     "text": [
      "\n"
     ]
    },
    {
     "name": "stdout",
     "output_type": "stream",
     "text": [
      "\n",
      "      Epoch    GPU_mem   box_loss   cls_loss   dfl_loss  Instances       Size\n"
     ]
    },
    {
     "name": "stderr",
     "output_type": "stream",
     "text": [
      "    106/450        13G     0.3666     0.2531     0.7933        134        640: 100%|██████████| 46/46 [00:15<00:00,  3.05it/s]\n",
      "                 Class     Images  Instances      Box(P          R      mAP50  mAP50-95): 100%|██████████| 6/6 [00:01<00:00,  3.56it/s]"
     ]
    },
    {
     "name": "stdout",
     "output_type": "stream",
     "text": [
      "                   all        330       6132      0.991      0.995      0.994      0.871\n"
     ]
    },
    {
     "name": "stderr",
     "output_type": "stream",
     "text": [
      "\n"
     ]
    },
    {
     "name": "stdout",
     "output_type": "stream",
     "text": [
      "\n",
      "      Epoch    GPU_mem   box_loss   cls_loss   dfl_loss  Instances       Size\n"
     ]
    },
    {
     "name": "stderr",
     "output_type": "stream",
     "text": [
      "    107/450      13.7G     0.3828     0.2578     0.7942         75        640: 100%|██████████| 46/46 [00:15<00:00,  3.04it/s]\n",
      "                 Class     Images  Instances      Box(P          R      mAP50  mAP50-95): 100%|██████████| 6/6 [00:01<00:00,  3.52it/s]"
     ]
    },
    {
     "name": "stdout",
     "output_type": "stream",
     "text": [
      "                   all        330       6132      0.994      0.994      0.995      0.878\n"
     ]
    },
    {
     "name": "stderr",
     "output_type": "stream",
     "text": [
      "\n"
     ]
    },
    {
     "name": "stdout",
     "output_type": "stream",
     "text": [
      "\n",
      "      Epoch    GPU_mem   box_loss   cls_loss   dfl_loss  Instances       Size\n"
     ]
    },
    {
     "name": "stderr",
     "output_type": "stream",
     "text": [
      "    108/450      12.3G     0.3772     0.2586     0.7941         54        640: 100%|██████████| 46/46 [00:15<00:00,  3.05it/s]\n",
      "                 Class     Images  Instances      Box(P          R      mAP50  mAP50-95): 100%|██████████| 6/6 [00:01<00:00,  3.54it/s]"
     ]
    },
    {
     "name": "stdout",
     "output_type": "stream",
     "text": [
      "                   all        330       6132      0.993      0.994      0.995      0.872\n"
     ]
    },
    {
     "name": "stderr",
     "output_type": "stream",
     "text": [
      "\n"
     ]
    },
    {
     "name": "stdout",
     "output_type": "stream",
     "text": [
      "\n",
      "      Epoch    GPU_mem   box_loss   cls_loss   dfl_loss  Instances       Size\n"
     ]
    },
    {
     "name": "stderr",
     "output_type": "stream",
     "text": [
      "    109/450      12.9G     0.3563     0.2473     0.7936         25        640: 100%|██████████| 46/46 [00:15<00:00,  3.02it/s]\n",
      "                 Class     Images  Instances      Box(P          R      mAP50  mAP50-95): 100%|██████████| 6/6 [00:01<00:00,  3.54it/s]"
     ]
    },
    {
     "name": "stdout",
     "output_type": "stream",
     "text": [
      "                   all        330       6132      0.993      0.997      0.994      0.855\n"
     ]
    },
    {
     "name": "stderr",
     "output_type": "stream",
     "text": [
      "\n"
     ]
    },
    {
     "name": "stdout",
     "output_type": "stream",
     "text": [
      "\n",
      "      Epoch    GPU_mem   box_loss   cls_loss   dfl_loss  Instances       Size\n"
     ]
    },
    {
     "name": "stderr",
     "output_type": "stream",
     "text": [
      "    110/450      13.5G     0.3693     0.2537     0.7935         37        640: 100%|██████████| 46/46 [00:15<00:00,  3.04it/s]\n",
      "                 Class     Images  Instances      Box(P          R      mAP50  mAP50-95): 100%|██████████| 6/6 [00:01<00:00,  3.52it/s]"
     ]
    },
    {
     "name": "stdout",
     "output_type": "stream",
     "text": [
      "                   all        330       6132      0.991      0.993      0.994      0.863\n"
     ]
    },
    {
     "name": "stderr",
     "output_type": "stream",
     "text": [
      "\n"
     ]
    },
    {
     "name": "stdout",
     "output_type": "stream",
     "text": [
      "\n",
      "      Epoch    GPU_mem   box_loss   cls_loss   dfl_loss  Instances       Size\n"
     ]
    },
    {
     "name": "stderr",
     "output_type": "stream",
     "text": [
      "    111/450      12.8G     0.3645     0.2518     0.7912         22        640: 100%|██████████| 46/46 [00:15<00:00,  3.06it/s]\n",
      "                 Class     Images  Instances      Box(P          R      mAP50  mAP50-95): 100%|██████████| 6/6 [00:01<00:00,  3.52it/s]"
     ]
    },
    {
     "name": "stdout",
     "output_type": "stream",
     "text": [
      "                   all        330       6132      0.989      0.996      0.995      0.861\n"
     ]
    },
    {
     "name": "stderr",
     "output_type": "stream",
     "text": [
      "\n"
     ]
    },
    {
     "name": "stdout",
     "output_type": "stream",
     "text": [
      "\n",
      "      Epoch    GPU_mem   box_loss   cls_loss   dfl_loss  Instances       Size\n"
     ]
    },
    {
     "name": "stderr",
     "output_type": "stream",
     "text": [
      "    112/450      12.8G     0.3612     0.2486     0.7921         60        640: 100%|██████████| 46/46 [00:15<00:00,  3.06it/s]\n",
      "                 Class     Images  Instances      Box(P          R      mAP50  mAP50-95): 100%|██████████| 6/6 [00:01<00:00,  3.53it/s]"
     ]
    },
    {
     "name": "stdout",
     "output_type": "stream",
     "text": [
      "                   all        330       6132      0.992      0.991      0.994      0.882\n"
     ]
    },
    {
     "name": "stderr",
     "output_type": "stream",
     "text": [
      "\n"
     ]
    },
    {
     "name": "stdout",
     "output_type": "stream",
     "text": [
      "\n",
      "      Epoch    GPU_mem   box_loss   cls_loss   dfl_loss  Instances       Size\n"
     ]
    },
    {
     "name": "stderr",
     "output_type": "stream",
     "text": [
      "    113/450      12.4G     0.3603     0.2503      0.793         54        640: 100%|██████████| 46/46 [00:15<00:00,  3.04it/s]\n",
      "                 Class     Images  Instances      Box(P          R      mAP50  mAP50-95): 100%|██████████| 6/6 [00:01<00:00,  3.52it/s]"
     ]
    },
    {
     "name": "stdout",
     "output_type": "stream",
     "text": [
      "                   all        330       6132      0.994      0.996      0.995      0.869\n"
     ]
    },
    {
     "name": "stderr",
     "output_type": "stream",
     "text": [
      "\n"
     ]
    },
    {
     "name": "stdout",
     "output_type": "stream",
     "text": [
      "\n",
      "      Epoch    GPU_mem   box_loss   cls_loss   dfl_loss  Instances       Size\n"
     ]
    },
    {
     "name": "stderr",
     "output_type": "stream",
     "text": [
      "    114/450      12.7G     0.3715      0.257      0.793         71        640: 100%|██████████| 46/46 [00:15<00:00,  3.06it/s]\n",
      "                 Class     Images  Instances      Box(P          R      mAP50  mAP50-95): 100%|██████████| 6/6 [00:01<00:00,  3.52it/s]"
     ]
    },
    {
     "name": "stdout",
     "output_type": "stream",
     "text": [
      "                   all        330       6132      0.996      0.993      0.995      0.853\n"
     ]
    },
    {
     "name": "stderr",
     "output_type": "stream",
     "text": [
      "\n"
     ]
    },
    {
     "name": "stdout",
     "output_type": "stream",
     "text": [
      "\n",
      "      Epoch    GPU_mem   box_loss   cls_loss   dfl_loss  Instances       Size\n"
     ]
    },
    {
     "name": "stderr",
     "output_type": "stream",
     "text": [
      "    115/450      12.8G     0.3696     0.2516      0.795         50        640: 100%|██████████| 46/46 [00:15<00:00,  3.06it/s]\n",
      "                 Class     Images  Instances      Box(P          R      mAP50  mAP50-95): 100%|██████████| 6/6 [00:01<00:00,  3.54it/s]"
     ]
    },
    {
     "name": "stdout",
     "output_type": "stream",
     "text": [
      "                   all        330       6132      0.992      0.995      0.995      0.867\n"
     ]
    },
    {
     "name": "stderr",
     "output_type": "stream",
     "text": [
      "\n"
     ]
    },
    {
     "name": "stdout",
     "output_type": "stream",
     "text": [
      "\n",
      "      Epoch    GPU_mem   box_loss   cls_loss   dfl_loss  Instances       Size\n"
     ]
    },
    {
     "name": "stderr",
     "output_type": "stream",
     "text": [
      "    116/450      14.2G     0.3731     0.2506     0.7929         49        640: 100%|██████████| 46/46 [00:15<00:00,  3.04it/s]\n",
      "                 Class     Images  Instances      Box(P          R      mAP50  mAP50-95): 100%|██████████| 6/6 [00:01<00:00,  3.13it/s]"
     ]
    },
    {
     "name": "stdout",
     "output_type": "stream",
     "text": [
      "                   all        330       6132      0.995      0.997      0.995      0.867\n"
     ]
    },
    {
     "name": "stderr",
     "output_type": "stream",
     "text": [
      "\n"
     ]
    },
    {
     "name": "stdout",
     "output_type": "stream",
     "text": [
      "\n",
      "      Epoch    GPU_mem   box_loss   cls_loss   dfl_loss  Instances       Size\n"
     ]
    },
    {
     "name": "stderr",
     "output_type": "stream",
     "text": [
      "    117/450        12G      0.366     0.2611     0.7943         33        640: 100%|██████████| 46/46 [00:15<00:00,  3.05it/s]\n",
      "                 Class     Images  Instances      Box(P          R      mAP50  mAP50-95): 100%|██████████| 6/6 [00:01<00:00,  3.52it/s]"
     ]
    },
    {
     "name": "stdout",
     "output_type": "stream",
     "text": [
      "                   all        330       6132      0.994      0.996      0.995      0.865\n"
     ]
    },
    {
     "name": "stderr",
     "output_type": "stream",
     "text": [
      "\n"
     ]
    },
    {
     "name": "stdout",
     "output_type": "stream",
     "text": [
      "\n",
      "      Epoch    GPU_mem   box_loss   cls_loss   dfl_loss  Instances       Size\n"
     ]
    },
    {
     "name": "stderr",
     "output_type": "stream",
     "text": [
      "    118/450      12.7G     0.3641     0.2514     0.7928         47        640: 100%|██████████| 46/46 [00:15<00:00,  3.01it/s]\n",
      "                 Class     Images  Instances      Box(P          R      mAP50  mAP50-95): 100%|██████████| 6/6 [00:01<00:00,  3.50it/s]"
     ]
    },
    {
     "name": "stdout",
     "output_type": "stream",
     "text": [
      "                   all        330       6132      0.996      0.994      0.995      0.867\n"
     ]
    },
    {
     "name": "stderr",
     "output_type": "stream",
     "text": [
      "\n"
     ]
    },
    {
     "name": "stdout",
     "output_type": "stream",
     "text": [
      "\n",
      "      Epoch    GPU_mem   box_loss   cls_loss   dfl_loss  Instances       Size\n"
     ]
    },
    {
     "name": "stderr",
     "output_type": "stream",
     "text": [
      "    119/450      12.9G     0.3681     0.2481      0.792         89        640: 100%|██████████| 46/46 [00:15<00:00,  3.05it/s]\n",
      "                 Class     Images  Instances      Box(P          R      mAP50  mAP50-95): 100%|██████████| 6/6 [00:01<00:00,  3.53it/s]"
     ]
    },
    {
     "name": "stdout",
     "output_type": "stream",
     "text": [
      "                   all        330       6132      0.996      0.997      0.995      0.864\n"
     ]
    },
    {
     "name": "stderr",
     "output_type": "stream",
     "text": [
      "\n"
     ]
    },
    {
     "name": "stdout",
     "output_type": "stream",
     "text": [
      "\n",
      "      Epoch    GPU_mem   box_loss   cls_loss   dfl_loss  Instances       Size\n"
     ]
    },
    {
     "name": "stderr",
     "output_type": "stream",
     "text": [
      "    120/450      12.8G     0.3644     0.2438     0.7908         84        640: 100%|██████████| 46/46 [00:15<00:00,  3.03it/s]\n",
      "                 Class     Images  Instances      Box(P          R      mAP50  mAP50-95): 100%|██████████| 6/6 [00:01<00:00,  3.51it/s]"
     ]
    },
    {
     "name": "stdout",
     "output_type": "stream",
     "text": [
      "                   all        330       6132      0.997      0.997      0.994      0.865\n"
     ]
    },
    {
     "name": "stderr",
     "output_type": "stream",
     "text": [
      "\n"
     ]
    },
    {
     "name": "stdout",
     "output_type": "stream",
     "text": [
      "\n",
      "      Epoch    GPU_mem   box_loss   cls_loss   dfl_loss  Instances       Size\n"
     ]
    },
    {
     "name": "stderr",
     "output_type": "stream",
     "text": [
      "    121/450      12.9G     0.3568     0.2415      0.792         66        640: 100%|██████████| 46/46 [00:15<00:00,  3.05it/s]\n",
      "                 Class     Images  Instances      Box(P          R      mAP50  mAP50-95): 100%|██████████| 6/6 [00:01<00:00,  3.55it/s]"
     ]
    },
    {
     "name": "stdout",
     "output_type": "stream",
     "text": [
      "                   all        330       6132      0.998      0.996      0.995      0.871\n"
     ]
    },
    {
     "name": "stderr",
     "output_type": "stream",
     "text": [
      "\n"
     ]
    },
    {
     "name": "stdout",
     "output_type": "stream",
     "text": [
      "\n",
      "      Epoch    GPU_mem   box_loss   cls_loss   dfl_loss  Instances       Size\n"
     ]
    },
    {
     "name": "stderr",
     "output_type": "stream",
     "text": [
      "    122/450      13.1G     0.3672     0.2467     0.7931         54        640: 100%|██████████| 46/46 [00:15<00:00,  3.05it/s]\n",
      "                 Class     Images  Instances      Box(P          R      mAP50  mAP50-95): 100%|██████████| 6/6 [00:01<00:00,  3.52it/s]"
     ]
    },
    {
     "name": "stdout",
     "output_type": "stream",
     "text": [
      "                   all        330       6132      0.995      0.998      0.995      0.867\n"
     ]
    },
    {
     "name": "stderr",
     "output_type": "stream",
     "text": [
      "\n"
     ]
    },
    {
     "name": "stdout",
     "output_type": "stream",
     "text": [
      "\n",
      "      Epoch    GPU_mem   box_loss   cls_loss   dfl_loss  Instances       Size\n"
     ]
    },
    {
     "name": "stderr",
     "output_type": "stream",
     "text": [
      "    123/450      13.1G     0.3547     0.2379     0.7907         85        640: 100%|██████████| 46/46 [00:15<00:00,  3.06it/s]\n",
      "                 Class     Images  Instances      Box(P          R      mAP50  mAP50-95): 100%|██████████| 6/6 [00:01<00:00,  3.54it/s]"
     ]
    },
    {
     "name": "stdout",
     "output_type": "stream",
     "text": [
      "                   all        330       6132      0.995      0.996      0.995      0.873\n"
     ]
    },
    {
     "name": "stderr",
     "output_type": "stream",
     "text": [
      "\n"
     ]
    },
    {
     "name": "stdout",
     "output_type": "stream",
     "text": [
      "\n",
      "      Epoch    GPU_mem   box_loss   cls_loss   dfl_loss  Instances       Size\n"
     ]
    },
    {
     "name": "stderr",
     "output_type": "stream",
     "text": [
      "    124/450        12G     0.3562     0.2401     0.7918         34        640: 100%|██████████| 46/46 [00:15<00:00,  3.06it/s]\n",
      "                 Class     Images  Instances      Box(P          R      mAP50  mAP50-95): 100%|██████████| 6/6 [00:01<00:00,  3.55it/s]"
     ]
    },
    {
     "name": "stdout",
     "output_type": "stream",
     "text": [
      "                   all        330       6132      0.995      0.997      0.995      0.878\n"
     ]
    },
    {
     "name": "stderr",
     "output_type": "stream",
     "text": [
      "\n"
     ]
    },
    {
     "name": "stdout",
     "output_type": "stream",
     "text": [
      "\n",
      "      Epoch    GPU_mem   box_loss   cls_loss   dfl_loss  Instances       Size\n"
     ]
    },
    {
     "name": "stderr",
     "output_type": "stream",
     "text": [
      "    125/450      13.7G     0.3673      0.246     0.7921         57        640: 100%|██████████| 46/46 [00:15<00:00,  3.06it/s]\n",
      "                 Class     Images  Instances      Box(P          R      mAP50  mAP50-95): 100%|██████████| 6/6 [00:01<00:00,  3.53it/s]"
     ]
    },
    {
     "name": "stdout",
     "output_type": "stream",
     "text": [
      "                   all        330       6132      0.995      0.995      0.995      0.876\n"
     ]
    },
    {
     "name": "stderr",
     "output_type": "stream",
     "text": [
      "\n"
     ]
    },
    {
     "name": "stdout",
     "output_type": "stream",
     "text": [
      "\n",
      "      Epoch    GPU_mem   box_loss   cls_loss   dfl_loss  Instances       Size\n"
     ]
    },
    {
     "name": "stderr",
     "output_type": "stream",
     "text": [
      "    126/450      13.4G     0.3555      0.244     0.7915         45        640: 100%|██████████| 46/46 [00:15<00:00,  3.06it/s]\n",
      "                 Class     Images  Instances      Box(P          R      mAP50  mAP50-95): 100%|██████████| 6/6 [00:01<00:00,  3.53it/s]"
     ]
    },
    {
     "name": "stdout",
     "output_type": "stream",
     "text": [
      "                   all        330       6132      0.995      0.999      0.995      0.867\n"
     ]
    },
    {
     "name": "stderr",
     "output_type": "stream",
     "text": [
      "\n"
     ]
    },
    {
     "name": "stdout",
     "output_type": "stream",
     "text": [
      "\n",
      "      Epoch    GPU_mem   box_loss   cls_loss   dfl_loss  Instances       Size\n"
     ]
    },
    {
     "name": "stderr",
     "output_type": "stream",
     "text": [
      "    127/450      13.4G      0.343     0.2349     0.7911         51        640: 100%|██████████| 46/46 [00:15<00:00,  3.04it/s]\n",
      "                 Class     Images  Instances      Box(P          R      mAP50  mAP50-95): 100%|██████████| 6/6 [00:01<00:00,  3.56it/s]"
     ]
    },
    {
     "name": "stdout",
     "output_type": "stream",
     "text": [
      "                   all        330       6132      0.998      0.996      0.995      0.861\n"
     ]
    },
    {
     "name": "stderr",
     "output_type": "stream",
     "text": [
      "\n"
     ]
    },
    {
     "name": "stdout",
     "output_type": "stream",
     "text": [
      "\n",
      "      Epoch    GPU_mem   box_loss   cls_loss   dfl_loss  Instances       Size\n"
     ]
    },
    {
     "name": "stderr",
     "output_type": "stream",
     "text": [
      "    128/450      12.6G     0.3394     0.2355     0.7897         71        640: 100%|██████████| 46/46 [00:15<00:00,  3.06it/s]\n",
      "                 Class     Images  Instances      Box(P          R      mAP50  mAP50-95): 100%|██████████| 6/6 [00:01<00:00,  3.53it/s]"
     ]
    },
    {
     "name": "stdout",
     "output_type": "stream",
     "text": [
      "                   all        330       6132      0.996      0.998      0.995      0.862\n"
     ]
    },
    {
     "name": "stderr",
     "output_type": "stream",
     "text": [
      "\n"
     ]
    },
    {
     "name": "stdout",
     "output_type": "stream",
     "text": [
      "\n",
      "      Epoch    GPU_mem   box_loss   cls_loss   dfl_loss  Instances       Size\n"
     ]
    },
    {
     "name": "stderr",
     "output_type": "stream",
     "text": [
      "    129/450      12.3G     0.3726     0.2471     0.7925        111        640: 100%|██████████| 46/46 [00:15<00:00,  3.05it/s]\n",
      "                 Class     Images  Instances      Box(P          R      mAP50  mAP50-95): 100%|██████████| 6/6 [00:01<00:00,  3.55it/s]"
     ]
    },
    {
     "name": "stdout",
     "output_type": "stream",
     "text": [
      "                   all        330       6132      0.994      0.997      0.995      0.883\n"
     ]
    },
    {
     "name": "stderr",
     "output_type": "stream",
     "text": [
      "\n"
     ]
    },
    {
     "name": "stdout",
     "output_type": "stream",
     "text": [
      "\n",
      "      Epoch    GPU_mem   box_loss   cls_loss   dfl_loss  Instances       Size\n"
     ]
    },
    {
     "name": "stderr",
     "output_type": "stream",
     "text": [
      "    130/450      13.1G     0.3524     0.2392     0.7911         39        640: 100%|██████████| 46/46 [00:15<00:00,  3.06it/s]\n",
      "                 Class     Images  Instances      Box(P          R      mAP50  mAP50-95): 100%|██████████| 6/6 [00:01<00:00,  3.53it/s]"
     ]
    },
    {
     "name": "stdout",
     "output_type": "stream",
     "text": [
      "                   all        330       6132      0.996      0.997      0.995      0.873\n"
     ]
    },
    {
     "name": "stderr",
     "output_type": "stream",
     "text": [
      "\n"
     ]
    },
    {
     "name": "stdout",
     "output_type": "stream",
     "text": [
      "\n",
      "      Epoch    GPU_mem   box_loss   cls_loss   dfl_loss  Instances       Size\n"
     ]
    },
    {
     "name": "stderr",
     "output_type": "stream",
     "text": [
      "    131/450      12.8G     0.3532     0.2393     0.7922         48        640: 100%|██████████| 46/46 [00:15<00:00,  3.05it/s]\n",
      "                 Class     Images  Instances      Box(P          R      mAP50  mAP50-95): 100%|██████████| 6/6 [00:01<00:00,  3.51it/s]"
     ]
    },
    {
     "name": "stdout",
     "output_type": "stream",
     "text": [
      "                   all        330       6132      0.992      0.995      0.994      0.869\n"
     ]
    },
    {
     "name": "stderr",
     "output_type": "stream",
     "text": [
      "\n"
     ]
    },
    {
     "name": "stdout",
     "output_type": "stream",
     "text": [
      "\n",
      "      Epoch    GPU_mem   box_loss   cls_loss   dfl_loss  Instances       Size\n"
     ]
    },
    {
     "name": "stderr",
     "output_type": "stream",
     "text": [
      "    132/450      13.1G     0.3525     0.2382     0.7927         60        640: 100%|██████████| 46/46 [00:15<00:00,  3.05it/s]\n",
      "                 Class     Images  Instances      Box(P          R      mAP50  mAP50-95): 100%|██████████| 6/6 [00:01<00:00,  3.52it/s]"
     ]
    },
    {
     "name": "stdout",
     "output_type": "stream",
     "text": [
      "                   all        330       6132      0.997      0.998      0.995      0.876\n",
      "\u001b[34m\u001b[1mEarlyStopping: \u001b[0mTraining stopped early as no improvement observed in last 50 epochs. Best results observed at epoch 82, best model saved as best.pt.\n",
      "To update EarlyStopping(patience=50) pass a new patience value, i.e. `patience=300` or use `patience=0` to disable EarlyStopping.\n"
     ]
    },
    {
     "name": "stderr",
     "output_type": "stream",
     "text": [
      "\n"
     ]
    },
    {
     "name": "stdout",
     "output_type": "stream",
     "text": [
      "\n",
      "132 epochs completed in 0.641 hours.\n",
      "Optimizer stripped from yolo-v12-chessred\\V12SPretrained50AdamWCosLr\\weights\\last.pt, 19.0MB\n",
      "Optimizer stripped from yolo-v12-chessred\\V12SPretrained50AdamWCosLr\\weights\\best.pt, 19.0MB\n",
      "\n",
      "Validating yolo-v12-chessred\\V12SPretrained50AdamWCosLr\\weights\\best.pt...\n",
      "Ultralytics 8.3.130  Python-3.12.0 torch-2.5.1+cu118 CUDA:0 (NVIDIA GeForce RTX 4070 Ti SUPER, 16376MiB)\n",
      "YOLO12s summary (fused): 159 layers, 9,235,911 parameters, 0 gradients, 21.2 GFLOPs\n"
     ]
    },
    {
     "name": "stderr",
     "output_type": "stream",
     "text": [
      "                 Class     Images  Instances      Box(P          R      mAP50  mAP50-95): 100%|██████████| 6/6 [00:03<00:00,  1.81it/s]\n"
     ]
    },
    {
     "name": "stdout",
     "output_type": "stream",
     "text": [
      "                   all        330       6132      0.991      0.994      0.995      0.883\n",
      "            white-pawn        330       1625      0.998      0.998      0.995      0.869\n",
      "            white-rook        281        447      0.996      0.998      0.995       0.86\n",
      "          white-knight        220        274          1      0.992      0.995      0.873\n",
      "          white-bishop        235        335      0.993      0.997      0.995      0.875\n",
      "           white-queen        126        126      0.992      0.988      0.995      0.912\n",
      "            white-king        330        330      0.985      0.999      0.995      0.933\n",
      "            black-pawn        330       1511      0.997      0.998      0.995      0.868\n",
      "            black-rook        280        471      0.996      0.995      0.995       0.89\n",
      "          black-knight        125        178      0.983      0.995      0.995      0.836\n",
      "          black-bishop        223        380      0.995      0.988      0.995       0.87\n",
      "           black-queen        125        125      0.961      0.981      0.992      0.901\n",
      "            black-king        330        330      0.994      0.994      0.995       0.91\n",
      "Speed: 0.1ms preprocess, 2.5ms inference, 0.0ms loss, 0.9ms postprocess per image\n",
      "Results saved to \u001b[1myolo-v12-chessred\\V12SPretrained50AdamWCosLr\u001b[0m\n"
     ]
    },
    {
     "name": "stderr",
     "output_type": "stream",
     "text": [
      "\u001b[1;38;5;39mCOMET INFO:\u001b[0m ---------------------------------------------------------------------------------------\n",
      "\u001b[1;38;5;39mCOMET INFO:\u001b[0m Comet.ml Experiment Summary\n",
      "\u001b[1;38;5;39mCOMET INFO:\u001b[0m ---------------------------------------------------------------------------------------\n",
      "\u001b[1;38;5;39mCOMET INFO:\u001b[0m   Data:\n",
      "\u001b[1;38;5;39mCOMET INFO:\u001b[0m     display_summary_level : 1\n",
      "\u001b[1;38;5;39mCOMET INFO:\u001b[0m     name                  : upset_saddle_6617\n",
      "\u001b[1;38;5;39mCOMET INFO:\u001b[0m     url                   : https://www.comet.com/cristy17001/yolo-v12-chessred/44fc1806a2da48e39922d20cc638a915\n",
      "\u001b[1;38;5;39mCOMET INFO:\u001b[0m   Metrics [count] (min, max):\n",
      "\u001b[1;38;5;39mCOMET INFO:\u001b[0m     lr/pg0 [133]               : (0.008070218561311276, 0.07065217391304349)\n",
      "\u001b[1;38;5;39mCOMET INFO:\u001b[0m     lr/pg1 [133]               : (0.003260869565217391, 0.009998914383200486)\n",
      "\u001b[1;38;5;39mCOMET INFO:\u001b[0m     lr/pg2 [133]               : (0.003260869565217391, 0.009998914383200486)\n",
      "\u001b[1;38;5;39mCOMET INFO:\u001b[0m     metrics/mAP50(B) [133]     : (0.0, 0.99498)\n",
      "\u001b[1;38;5;39mCOMET INFO:\u001b[0m     metrics/mAP50-95(B) [133]  : (0.0, 0.8829601189586189)\n",
      "\u001b[1;38;5;39mCOMET INFO:\u001b[0m     metrics/precision(B) [133] : (0.0, 0.99831)\n",
      "\u001b[1;38;5;39mCOMET INFO:\u001b[0m     metrics/recall(B) [133]    : (0.0, 0.99879)\n",
      "\u001b[1;38;5;39mCOMET INFO:\u001b[0m     model/GFLOPs               : 21.548\n",
      "\u001b[1;38;5;39mCOMET INFO:\u001b[0m     model/parameters           : 9258167\n",
      "\u001b[1;38;5;39mCOMET INFO:\u001b[0m     model/speed_PyTorch(ms)    : 4.854\n",
      "\u001b[1;38;5;39mCOMET INFO:\u001b[0m     train/box_loss [132]       : (0.3394, 3.71467)\n",
      "\u001b[1;38;5;39mCOMET INFO:\u001b[0m     train/cls_loss [132]       : (0.23493, 3.4853)\n",
      "\u001b[1;38;5;39mCOMET INFO:\u001b[0m     train/dfl_loss [132]       : (0.78967, 2.48196)\n",
      "\u001b[1;38;5;39mCOMET INFO:\u001b[0m     val/box_loss [132]         : (0.51449, 2.76583)\n",
      "\u001b[1;38;5;39mCOMET INFO:\u001b[0m     val/cls_loss [132]         : (0.24989, 7.63128)\n",
      "\u001b[1;38;5;39mCOMET INFO:\u001b[0m     val/dfl_loss [132]         : (0.81694, 1.98343)\n",
      "\u001b[1;38;5;39mCOMET INFO:\u001b[0m   Others:\n",
      "\u001b[1;38;5;39mCOMET INFO:\u001b[0m     Created from                 : ultralytics\n",
      "\u001b[1;38;5;39mCOMET INFO:\u001b[0m     eval_batch_logging_interval  : 1\n",
      "\u001b[1;38;5;39mCOMET INFO:\u001b[0m     log_confusion_matrix_on_eval : False\n",
      "\u001b[1;38;5;39mCOMET INFO:\u001b[0m     log_image_predictions        : True\n",
      "\u001b[1;38;5;39mCOMET INFO:\u001b[0m     max_image_predictions        : 100\n",
      "\u001b[1;38;5;39mCOMET INFO:\u001b[0m   Parameters:\n",
      "\u001b[1;38;5;39mCOMET INFO:\u001b[0m     agnostic_nms    : False\n",
      "\u001b[1;38;5;39mCOMET INFO:\u001b[0m     amp             : True\n",
      "\u001b[1;38;5;39mCOMET INFO:\u001b[0m     augment         : False\n",
      "\u001b[1;38;5;39mCOMET INFO:\u001b[0m     auto_augment    : randaugment\n",
      "\u001b[1;38;5;39mCOMET INFO:\u001b[0m     batch           : 32\n",
      "\u001b[1;38;5;39mCOMET INFO:\u001b[0m     bgr             : 0.0\n",
      "\u001b[1;38;5;39mCOMET INFO:\u001b[0m     box             : 7.5\n",
      "\u001b[1;38;5;39mCOMET INFO:\u001b[0m     cache           : False\n",
      "\u001b[1;38;5;39mCOMET INFO:\u001b[0m     cfg             : None\n",
      "\u001b[1;38;5;39mCOMET INFO:\u001b[0m     classes         : None\n",
      "\u001b[1;38;5;39mCOMET INFO:\u001b[0m     close_mosaic    : 10\n",
      "\u001b[1;38;5;39mCOMET INFO:\u001b[0m     cls             : 0.5\n",
      "\u001b[1;38;5;39mCOMET INFO:\u001b[0m     conf            : None\n",
      "\u001b[1;38;5;39mCOMET INFO:\u001b[0m     copy_paste      : 0.0\n",
      "\u001b[1;38;5;39mCOMET INFO:\u001b[0m     copy_paste_mode : flip\n",
      "\u001b[1;38;5;39mCOMET INFO:\u001b[0m     cos_lr          : True\n",
      "\u001b[1;38;5;39mCOMET INFO:\u001b[0m     cutmix          : 0.0\n",
      "\u001b[1;38;5;39mCOMET INFO:\u001b[0m     data            : ./data.yaml\n",
      "\u001b[1;38;5;39mCOMET INFO:\u001b[0m     degrees         : 0.0\n",
      "\u001b[1;38;5;39mCOMET INFO:\u001b[0m     deterministic   : True\n",
      "\u001b[1;38;5;39mCOMET INFO:\u001b[0m     device          : 0\n",
      "\u001b[1;38;5;39mCOMET INFO:\u001b[0m     dfl             : 1.5\n",
      "\u001b[1;38;5;39mCOMET INFO:\u001b[0m     dnn             : False\n",
      "\u001b[1;38;5;39mCOMET INFO:\u001b[0m     dropout         : 0.0\n",
      "\u001b[1;38;5;39mCOMET INFO:\u001b[0m     dynamic         : False\n",
      "\u001b[1;38;5;39mCOMET INFO:\u001b[0m     embed           : None\n",
      "\u001b[1;38;5;39mCOMET INFO:\u001b[0m     epochs          : 450\n",
      "\u001b[1;38;5;39mCOMET INFO:\u001b[0m     erasing         : 0.4\n",
      "\u001b[1;38;5;39mCOMET INFO:\u001b[0m     exist_ok        : False\n",
      "\u001b[1;38;5;39mCOMET INFO:\u001b[0m     fliplr          : 0.5\n",
      "\u001b[1;38;5;39mCOMET INFO:\u001b[0m     flipud          : 0.0\n",
      "\u001b[1;38;5;39mCOMET INFO:\u001b[0m     format          : torchscript\n",
      "\u001b[1;38;5;39mCOMET INFO:\u001b[0m     fraction        : 1.0\n",
      "\u001b[1;38;5;39mCOMET INFO:\u001b[0m     freeze          : None\n",
      "\u001b[1;38;5;39mCOMET INFO:\u001b[0m     half            : False\n",
      "\u001b[1;38;5;39mCOMET INFO:\u001b[0m     hsv_h           : 0.015\n",
      "\u001b[1;38;5;39mCOMET INFO:\u001b[0m     hsv_s           : 0.7\n",
      "\u001b[1;38;5;39mCOMET INFO:\u001b[0m     hsv_v           : 0.4\n",
      "\u001b[1;38;5;39mCOMET INFO:\u001b[0m     imgsz           : 640\n",
      "\u001b[1;38;5;39mCOMET INFO:\u001b[0m     int8            : False\n",
      "\u001b[1;38;5;39mCOMET INFO:\u001b[0m     iou             : 0.7\n",
      "\u001b[1;38;5;39mCOMET INFO:\u001b[0m     keras           : False\n",
      "\u001b[1;38;5;39mCOMET INFO:\u001b[0m     kobj            : 1.0\n",
      "\u001b[1;38;5;39mCOMET INFO:\u001b[0m     line_width      : None\n",
      "\u001b[1;38;5;39mCOMET INFO:\u001b[0m     lr0             : 0.01\n",
      "\u001b[1;38;5;39mCOMET INFO:\u001b[0m     lrf             : 0.01\n",
      "\u001b[1;38;5;39mCOMET INFO:\u001b[0m     mask_ratio      : 4\n",
      "\u001b[1;38;5;39mCOMET INFO:\u001b[0m     max_det         : 300\n",
      "\u001b[1;38;5;39mCOMET INFO:\u001b[0m     mixup           : 0.0\n",
      "\u001b[1;38;5;39mCOMET INFO:\u001b[0m     mode            : train\n",
      "\u001b[1;38;5;39mCOMET INFO:\u001b[0m     model           : yolo12s.yaml\n",
      "\u001b[1;38;5;39mCOMET INFO:\u001b[0m     momentum        : 0.937\n",
      "\u001b[1;38;5;39mCOMET INFO:\u001b[0m     mosaic          : 1.0\n",
      "\u001b[1;38;5;39mCOMET INFO:\u001b[0m     multi_scale     : False\n",
      "\u001b[1;38;5;39mCOMET INFO:\u001b[0m     name            : V12SPretrained50AdamWCosLr\n",
      "\u001b[1;38;5;39mCOMET INFO:\u001b[0m     nbs             : 64\n",
      "\u001b[1;38;5;39mCOMET INFO:\u001b[0m     nms             : False\n",
      "\u001b[1;38;5;39mCOMET INFO:\u001b[0m     opset           : None\n",
      "\u001b[1;38;5;39mCOMET INFO:\u001b[0m     optimize        : False\n",
      "\u001b[1;38;5;39mCOMET INFO:\u001b[0m     optimizer       : AdamW\n",
      "\u001b[1;38;5;39mCOMET INFO:\u001b[0m     overlap_mask    : True\n",
      "\u001b[1;38;5;39mCOMET INFO:\u001b[0m     patience        : 50\n",
      "\u001b[1;38;5;39mCOMET INFO:\u001b[0m     perspective     : 0.0\n",
      "\u001b[1;38;5;39mCOMET INFO:\u001b[0m     plots           : True\n",
      "\u001b[1;38;5;39mCOMET INFO:\u001b[0m     pose            : 12.0\n",
      "\u001b[1;38;5;39mCOMET INFO:\u001b[0m     pretrained      : True\n",
      "\u001b[1;38;5;39mCOMET INFO:\u001b[0m     profile         : False\n",
      "\u001b[1;38;5;39mCOMET INFO:\u001b[0m     project         : yolo-v12-chessred\n",
      "\u001b[1;38;5;39mCOMET INFO:\u001b[0m     rect            : False\n",
      "\u001b[1;38;5;39mCOMET INFO:\u001b[0m     resume          : False\n",
      "\u001b[1;38;5;39mCOMET INFO:\u001b[0m     retina_masks    : False\n",
      "\u001b[1;38;5;39mCOMET INFO:\u001b[0m     save            : True\n",
      "\u001b[1;38;5;39mCOMET INFO:\u001b[0m     save_conf       : False\n",
      "\u001b[1;38;5;39mCOMET INFO:\u001b[0m     save_crop       : False\n",
      "\u001b[1;38;5;39mCOMET INFO:\u001b[0m     save_dir        : yolo-v12-chessred\\V12SPretrained50AdamWCosLr\n",
      "\u001b[1;38;5;39mCOMET INFO:\u001b[0m     save_frames     : False\n",
      "\u001b[1;38;5;39mCOMET INFO:\u001b[0m     save_json       : False\n",
      "\u001b[1;38;5;39mCOMET INFO:\u001b[0m     save_period     : -1\n",
      "\u001b[1;38;5;39mCOMET INFO:\u001b[0m     save_txt        : False\n",
      "\u001b[1;38;5;39mCOMET INFO:\u001b[0m     scale           : 0.5\n",
      "\u001b[1;38;5;39mCOMET INFO:\u001b[0m     seed            : 0\n",
      "\u001b[1;38;5;39mCOMET INFO:\u001b[0m     shear           : 0.0\n",
      "\u001b[1;38;5;39mCOMET INFO:\u001b[0m     show            : False\n",
      "\u001b[1;38;5;39mCOMET INFO:\u001b[0m     show_boxes      : True\n",
      "\u001b[1;38;5;39mCOMET INFO:\u001b[0m     show_conf       : True\n",
      "\u001b[1;38;5;39mCOMET INFO:\u001b[0m     show_labels     : True\n",
      "\u001b[1;38;5;39mCOMET INFO:\u001b[0m     simplify        : True\n",
      "\u001b[1;38;5;39mCOMET INFO:\u001b[0m     single_cls      : False\n",
      "\u001b[1;38;5;39mCOMET INFO:\u001b[0m     source          : None\n",
      "\u001b[1;38;5;39mCOMET INFO:\u001b[0m     split           : val\n",
      "\u001b[1;38;5;39mCOMET INFO:\u001b[0m     stream_buffer   : False\n",
      "\u001b[1;38;5;39mCOMET INFO:\u001b[0m     task            : detect\n",
      "\u001b[1;38;5;39mCOMET INFO:\u001b[0m     time            : None\n",
      "\u001b[1;38;5;39mCOMET INFO:\u001b[0m     tracker         : botsort.yaml\n",
      "\u001b[1;38;5;39mCOMET INFO:\u001b[0m     translate       : 0.1\n",
      "\u001b[1;38;5;39mCOMET INFO:\u001b[0m     val             : True\n",
      "\u001b[1;38;5;39mCOMET INFO:\u001b[0m     verbose         : True\n",
      "\u001b[1;38;5;39mCOMET INFO:\u001b[0m     vid_stride      : 1\n",
      "\u001b[1;38;5;39mCOMET INFO:\u001b[0m     visualize       : True\n",
      "\u001b[1;38;5;39mCOMET INFO:\u001b[0m     warmup_bias_lr  : 0.1\n",
      "\u001b[1;38;5;39mCOMET INFO:\u001b[0m     warmup_epochs   : 3.0\n",
      "\u001b[1;38;5;39mCOMET INFO:\u001b[0m     warmup_momentum : 0.8\n",
      "\u001b[1;38;5;39mCOMET INFO:\u001b[0m     weight_decay    : 0.0005\n",
      "\u001b[1;38;5;39mCOMET INFO:\u001b[0m     workers         : 8\n",
      "\u001b[1;38;5;39mCOMET INFO:\u001b[0m     workspace       : None\n",
      "\u001b[1;38;5;39mCOMET INFO:\u001b[0m   Uploads:\n",
      "\u001b[1;38;5;39mCOMET INFO:\u001b[0m     confusion-matrix         : 1\n",
      "\u001b[1;38;5;39mCOMET INFO:\u001b[0m     environment details      : 1\n",
      "\u001b[1;38;5;39mCOMET INFO:\u001b[0m     filename                 : 1\n",
      "\u001b[1;38;5;39mCOMET INFO:\u001b[0m     git metadata             : 1\n",
      "\u001b[1;38;5;39mCOMET INFO:\u001b[0m     git-patch (uncompressed) : 1 (454.07 KB)\n",
      "\u001b[1;38;5;39mCOMET INFO:\u001b[0m     images                   : 17\n",
      "\u001b[1;38;5;39mCOMET INFO:\u001b[0m     installed packages       : 1\n",
      "\u001b[1;38;5;39mCOMET INFO:\u001b[0m     model-element            : 1 (18.07 MB)\n",
      "\u001b[1;38;5;39mCOMET INFO:\u001b[0m     notebook                 : 1\n",
      "\u001b[1;38;5;39mCOMET INFO:\u001b[0m     source_code              : 1\n",
      "\u001b[1;38;5;39mCOMET INFO:\u001b[0m \n",
      "\u001b[1;38;5;214mCOMET WARNING:\u001b[0m To get all data logged automatically, import comet_ml before the following modules: torch.\n",
      "\u001b[1;38;5;39mCOMET INFO:\u001b[0m Please wait for assets to finish uploading (timeout is 10800 seconds)\n",
      "\u001b[1;38;5;39mCOMET INFO:\u001b[0m Still uploading 10 file(s), remaining 19.60 MB/24.74 MB\n",
      "\u001b[1;38;5;39mCOMET INFO:\u001b[0m Still uploading 1 asset(s), remaining 6.85 MB/18.07 MB, Throughput 869.33 KB/s, ETA ~9s\n"
     ]
    }
   ],
   "source": [
    "from ultralytics import YOLO\n",
    "import matplotlib.pyplot as plt\n",
    "\n",
    "model = YOLO(\"yolo12s.yaml\")  # build a new model from YAML\n",
    "\n",
    "# Create a path to your custom dataset YAML\n",
    "data_yaml_path = \"./data.yaml\"\n",
    "\n",
    "# Train the model using your custom dataset\n",
    "results = model.train(\n",
    "    data=data_yaml_path,\n",
    "    epochs=450,\n",
    "    imgsz=640,\n",
    "    project=\"yolo-v12-chessred\",  # project name for saving results\n",
    "    name=\"V12SPretrained50AdamWCosLr\",            # experiment name\n",
    "    batch=32,                 # batch size (adjust based on your GPU memory)\n",
    "    device=0,                 # GPU device (0 for first GPU)\n",
    "    patience=50,              # early stopping patience\n",
    "    save=True,                # save checkpoints\n",
    "    optimizer=\"AdamW\",         # use automatic optimizer selection\n",
    "    pretrained=True,         # start training from scratch\n",
    "    cos_lr=True,          # use cosine learning rate scheduler\n",
    "    visualize=True,\n",
    ")"
   ]
  }
 ],
 "metadata": {
  "kernelspec": {
   "display_name": "Python 3",
   "language": "python",
   "name": "python3"
  },
  "language_info": {
   "codemirror_mode": {
    "name": "ipython",
    "version": 3
   },
   "file_extension": ".py",
   "mimetype": "text/x-python",
   "name": "python",
   "nbconvert_exporter": "python",
   "pygments_lexer": "ipython3",
   "version": "3.12.0"
  }
 },
 "nbformat": 4,
 "nbformat_minor": 2
}
